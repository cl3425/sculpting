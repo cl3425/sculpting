{
 "cells": [
  {
   "cell_type": "code",
   "execution_count": 1,
   "id": "existing-thickness",
   "metadata": {},
   "outputs": [],
   "source": [
    "import json\n",
    "import sys\n",
    "import numpy as np\n",
    "from numpy import log, exp, pi\n",
    "import pandas as pd\n",
    "import scipy\n",
    "import scipy.stats as stats\n",
    "import random\n",
    "from scipy.stats import gaussian_kde, loguniform\n",
    "from math import lgamma\n",
    "from glob import glob\n",
    "import os\n",
    "#import seaborn as sns\n",
    "import matplotlib as mpl\n",
    "import matplotlib.pyplot as plt\n",
    "%matplotlib inline\n",
    "\n",
    "path = '/Users/chris/Desktop/sculpting/'"
   ]
  },
  {
   "cell_type": "code",
   "execution_count": 2,
   "id": "brazilian-balloon",
   "metadata": {},
   "outputs": [
    {
     "name": "stdout",
     "output_type": "stream",
     "text": [
      "19969\n",
      "    kepid           tm_designation  teff  teff_err1  teff_err2   logg  \\\n",
      "0  757280  2MASS J19242289+3633538  6543      162.0     -194.0  4.082   \n",
      "1  892667  2MASS J19243045+3637186  6609      159.0     -227.0  4.105   \n",
      "2  892678  2MASS J19243108+3638316  6137      167.0     -186.0  3.936   \n",
      "3  892713  2MASS J19243353+3637220  6106      186.0     -186.0  3.854   \n",
      "4  892828  2MASS J19243904+3637166  6691      188.0     -235.0  4.134   \n",
      "\n",
      "   logg_err1  logg_err2  feh_x  feh_err1  ...  parallax  parallax_err  feh_y  \\\n",
      "0      0.258     -0.172  -0.24      0.25  ...    1.2137        0.0220    NaN   \n",
      "1      0.246     -0.164  -0.26      0.25  ...    0.8512        0.0154    NaN   \n",
      "2      0.428     -0.143  -0.26      0.30  ...    1.0236        0.0259    NaN   \n",
      "3      0.496     -0.124  -0.24      0.30  ...    0.9602        0.0231    NaN   \n",
      "4      0.209     -0.171  -0.26      0.25  ...    0.9660        0.0143    NaN   \n",
      "\n",
      "   feh_err    RUWE  num_gaia_companions  Kmag_final_prov  evstate      logR  \\\n",
      "0      NaN  0.8704                    0              NaN      NaN  0.416641   \n",
      "1      NaN  0.8674                    0              NaN      NaN  0.337060   \n",
      "2      NaN  0.9852                    1       BinaryCorr      NaN  0.529174   \n",
      "3      NaN  0.9872                    1       BinaryCorr      NaN  0.561578   \n",
      "4      NaN  1.0867                    1       BinaryCorr      NaN  0.273001   \n",
      "\n",
      "   is_giant  \n",
      "0     False  \n",
      "1     False  \n",
      "2     False  \n",
      "3     False  \n",
      "4     False  \n",
      "\n",
      "[5 rows x 141 columns]\n"
     ]
    },
    {
     "name": "stderr",
     "output_type": "stream",
     "text": [
      "/Users/chris/anaconda2/envs/superflare/lib/python3.7/site-packages/IPython/core/interactiveshell.py:3156: DtypeWarning: Columns (138) have mixed types.Specify dtype option on import or set low_memory=False.\n",
      "  interactivity=interactivity, compiler=compiler, result=result)\n"
     ]
    }
   ],
   "source": [
    "berger_kepler = pd.read_csv(path+'berger_kepler_stellar17.csv') # crossmatched with Gaia via Bedell\n",
    "print(len(berger_kepler))\n",
    "print(berger_kepler.head())"
   ]
  },
  {
   "cell_type": "code",
   "execution_count": 3,
   "id": "close-night",
   "metadata": {},
   "outputs": [
    {
     "name": "stdout",
     "output_type": "stream",
     "text": [
      "408\n",
      "316\n",
      "0    19653\n",
      "1      244\n",
      "2       51\n",
      "3       12\n",
      "4        8\n",
      "5        1\n",
      "dtype: int64\n"
     ]
    }
   ],
   "source": [
    "# transit multiplicity from Kepler/Gaia Berger et al 2020, plus Bedell, plus Exoplanet Archive\n",
    "# see isolate_with_bedell.ipynb\n",
    "pnum = pd.read_csv(path+'pnum_plus_cands.csv')\n",
    "print(len(pnum))\n",
    "pnum = pnum.drop_duplicates(['kepid'])\n",
    "print(len(pnum))\n",
    "k = pnum.koi_count.value_counts() \n",
    "k = pd.Series([len(berger_kepler)-np.sum(k), 244, 51, 12, 8, 1]) \n",
    "print(k)"
   ]
  },
  {
   "cell_type": "code",
   "execution_count": 5,
   "id": "matched-federal",
   "metadata": {},
   "outputs": [
    {
     "name": "stdout",
     "output_type": "stream",
     "text": [
      "      ms   bs                                       intact_fracs  \\\n",
      "0   -1.0  0.0  [0.0, 0.0, 0.0, 0.0, 0.0, 0.0, 0.0, 0.0, 0.0, ...   \n",
      "1   -1.0  0.1  [0.0, 0.0, 0.0, 0.0, 0.0, 0.0, 0.0, 0.0, 0.0, ...   \n",
      "2   -1.0  0.2  [0.0, 0.0, 5.00776203114828e-05, 0.0, 5.007762...   \n",
      "3   -1.0  0.3  [0.0001001552406229656, 0.0001502328609344484,...   \n",
      "4   -1.0  0.4  [0.0006510090640492763, 0.0004006209624918624,...   \n",
      "..   ...  ...                                                ...   \n",
      "116  0.0  0.6  [0.5964244579097602, 0.6007812108768591, 0.596...   \n",
      "117  0.0  0.7  [0.6946266713405779, 0.7012369172216937, 0.696...   \n",
      "118  0.0  0.8  [0.8031448745555612, 0.8018428564274626, 0.799...   \n",
      "119  0.0  0.9  [0.9013971656066904, 0.8966397916770995, 0.902...   \n",
      "120  0.0  1.0  [1.0, 1.0, 1.0, 1.0, 1.0, 1.0, 1.0, 1.0, 1.0, ...   \n",
      "\n",
      "                                                 logLs  \\\n",
      "0    [-861.3326564321698, -825.8876440117946, -825....   \n",
      "1    [-799.328925833771, -777.0103471419387, -803.7...   \n",
      "2    [-805.1386708963076, -827.6047739947156, -832....   \n",
      "3    [-808.4876059606244, -822.7657963210123, -816....   \n",
      "4    [-477.2874397003105, -788.1722031988063, -773....   \n",
      "..                                                 ...   \n",
      "116  [-502.3173500269684, -558.7062623889922, -520....   \n",
      "117  [-620.6107843375355, -579.68334728838, -591.55...   \n",
      "118  [-710.0745076737753, -699.3343845145812, -608....   \n",
      "119  [-784.2720195137433, -766.9538395706194, -838....   \n",
      "120  [-929.0915782056396, -810.5139213147639, -822....   \n",
      "\n",
      "                                                  lams  \\\n",
      "0    [[19178.0, 749.0, 42.0, 1e-12, 1e-12, 1e-12], ...   \n",
      "1    [[19274.0, 656.0, 39.0, 1e-12, 1e-12, 1e-12], ...   \n",
      "2    [[19255.0, 667.0, 47.0, 1e-12, 1e-12, 1e-12], ...   \n",
      "3    [[19243.0, 672.0, 54.0, 1e-12, 1e-12, 1e-12], ...   \n",
      "4    [[19251.0, 671.0, 46.0, 1.0, 1e-12, 1e-12], [1...   \n",
      "..                                                 ...   \n",
      "116  [[18794.0, 701.0, 271.0, 123.0, 61.0, 15.0], [...   \n",
      "117  [[18663.0, 725.0, 308.0, 176.0, 79.0, 16.0], [...   \n",
      "118  [[18563.0, 726.0, 371.0, 183.0, 93.0, 27.0], [...   \n",
      "119  [[18475.0, 780.0, 390.0, 197.0, 96.0, 27.0], [...   \n",
      "120  [[18311.0, 844.0, 442.0, 232.0, 106.0, 28.0], ...   \n",
      "\n",
      "                                        geometric_lams  \\\n",
      "0    [[18627.0, 1223.0, 119.0, 1e-12, 1e-12, 1e-12]...   \n",
      "1    [[18690.0, 1166.0, 113.0, 1e-12, 1e-12, 1e-12]...   \n",
      "2    [[18638.0, 1207.0, 124.0, 1e-12, 1e-12, 1e-12]...   \n",
      "3    [[18684.0, 1157.0, 128.0, 1e-12, 1e-12, 1e-12]...   \n",
      "4    [[18618.0, 1204.0, 146.0, 1.0, 1e-12, 1e-12], ...   \n",
      "..                                                 ...   \n",
      "116  [[18127.0, 963.0, 376.0, 216.0, 188.0, 78.0], ...   \n",
      "117  [[18004.0, 909.0, 418.0, 297.0, 226.0, 101.0],...   \n",
      "118  [[17908.0, 857.0, 483.0, 322.0, 248.0, 124.0],...   \n",
      "119  [[17736.0, 891.0, 510.0, 376.0, 272.0, 149.0],...   \n",
      "120  [[17587.0, 872.0, 572.0, 449.0, 305.0, 146.0],...   \n",
      "\n",
      "                                       geometric_logLs  \n",
      "0    [-1261.4969915537633, -1250.2596228659804, -12...  \n",
      "1    [-1209.4231169020752, -1219.629124541648, -125...  \n",
      "2    [-1251.0086758749592, -1220.2300831235755, -12...  \n",
      "3    [-1211.2671824864144, -1244.2059895874816, -12...  \n",
      "4    [-932.8145577654657, -1209.7027296547874, -120...  \n",
      "..                                                 ...  \n",
      "116  [-1083.8886428193034, -1138.0793238613696, -11...  \n",
      "117  [-1227.8254671542775, -1200.6712207379887, -11...  \n",
      "118  [-1324.9824728296974, -1348.7435038027836, -12...  \n",
      "119  [-1491.6045251895155, -1456.4168055744135, -15...  \n",
      "120  [-1650.7899943677921, -1484.9067843833354, -15...  \n",
      "\n",
      "[121 rows x 7 columns]\n"
     ]
    }
   ],
   "source": [
    "import csv\n",
    "from ast import literal_eval\n",
    "\n",
    "with open('simulations_w_geometric_transits.csv','r') as csvfile:\n",
    "    read_csv = csv.reader(csvfile, delimiter='\\t')\n",
    "    read_csv=list(read_csv)\n",
    "\n",
    "df = pd.DataFrame(read_csv[1:], columns=read_csv[0])\n",
    "df.lams = df.lams.apply(literal_eval) # convert back from string to list of floats\n",
    "df.geometric_lams = df.geometric_lams.apply(literal_eval)\n",
    "df.logLs = df.logLs.apply(literal_eval)\n",
    "df.geometric_logLs = df.geometric_logLs.apply(literal_eval)\n",
    "df.bs = df.bs.apply(literal_eval)\n",
    "df.ms = df.ms.apply(literal_eval)\n",
    "\n",
    "df.intact_fracs = df.intact_fracs.apply(literal_eval)\n",
    "geom_logLs = df.geometric_logLs\n",
    "geom_lams = df.geometric_lams\n",
    "logLs = df.logLs\n",
    "lams = df.lams\n",
    "print(df)"
   ]
  },
  {
   "cell_type": "code",
   "execution_count": 39,
   "id": "alive-despite",
   "metadata": {},
   "outputs": [],
   "source": [
    "# if lams==1e-12, set logL to 0\n",
    "def better_loglike(lam, k, flag):\n",
    "    \"\"\"\n",
    "    Calculate Poisson log likelihood\n",
    "    \"\"\"\n",
    "    \n",
    "    logL = []\n",
    "    #lam = lam.to_list() # to bypass indexing for testing\n",
    "    for i in range(len(lam)):\n",
    "        if flag=='a': # control\n",
    "            term3 = -lgamma(k[i]+1)\n",
    "            term2 = -lam[i]\n",
    "            term1 = k[i]*np.log(lam[i])\n",
    "            logL.append(term1+term2+term3)\n",
    "            \n",
    "        elif flag=='b': # append zero to logL\n",
    "            if lam[i]==1e-12:\n",
    "                logL.append(0)\n",
    "            else:\n",
    "                term3 = -lgamma(k[i]+1)\n",
    "                term2 = -lam[i]\n",
    "                term1 = k[i]*np.log(lam[i])\n",
    "                logL.append(term1+term2+term3)\n",
    "        \n",
    "        elif flag=='c': # replace zero lam with another value approximating zero\n",
    "            if lam[i]==1e-12:\n",
    "                lam[i] = 1\n",
    "                \n",
    "            term3 = -lgamma(k[i]+1)\n",
    "            term2 = -lam[i]\n",
    "            term1 = k[i]*np.log(lam[i])\n",
    "            logL.append(term1+term2+term3)\n",
    "        #print(lam[i])\n",
    "        #print(logL)\n",
    "    return np.sum(logL)"
   ]
  },
  {
   "cell_type": "code",
   "execution_count": 40,
   "id": "diagnostic-sunset",
   "metadata": {},
   "outputs": [
    {
     "name": "stdout",
     "output_type": "stream",
     "text": [
      "[18311.0, 844.0, 442.0, 232.0, 106.0, 28.0]\n",
      "-929.0915782056396\n",
      "-929.0915782056396\n",
      "-929.0915782056396\n"
     ]
    }
   ],
   "source": [
    "# high initial; low decline\n",
    "print(df.loc[(df.ms == 0) & (df.bs == 1)].lams.to_list()[0][0])\n",
    "print(better_loglike(df.loc[(df.ms == 0) & (df.bs == 1)].lams.to_list()[0][0], k, 'a'))\n",
    "print(better_loglike(df.loc[(df.ms == 0) & (df.bs == 1)].lams.to_list()[0][0], k, 'b'))\n",
    "print(better_loglike(df.loc[(df.ms == 0) & (df.bs == 1)].lams.to_list()[0][0], k, 'c'))\n"
   ]
  },
  {
   "cell_type": "code",
   "execution_count": 41,
   "id": "preceding-dance",
   "metadata": {},
   "outputs": [
    {
     "name": "stdout",
     "output_type": "stream",
     "text": [
      "[19215.0, 712.0, 42.0, 1e-12, 1e-12, 1e-12]\n",
      "-835.8140723635021\n",
      "-224.9708115305924\n",
      "-258.5626289289995\n"
     ]
    }
   ],
   "source": [
    "# low initial; no decline\n",
    "print(df.loc[(df.ms == 0) & (df.bs == 0)].lams.to_list()[0][0])\n",
    "print(better_loglike(df.loc[(df.ms == 0) & (df.bs == 0)].lams.to_list()[0][0], k, 'a'))\n",
    "print(better_loglike(df.loc[(df.ms == 0) & (df.bs == 0)].lams.to_list()[0][0], k, 'b'))\n",
    "print(better_loglike(df.loc[(df.ms == 0) & (df.bs == 0)].lams.to_list()[0][0], k, 'c'))"
   ]
  },
  {
   "cell_type": "code",
   "execution_count": 42,
   "id": "remarkable-elements",
   "metadata": {},
   "outputs": [
    {
     "name": "stdout",
     "output_type": "stream",
     "text": [
      "[19178.0, 749.0, 42.0, 1, 1, 1]\n",
      "-284.0812129976672\n",
      "-284.0812129976672\n",
      "-284.0812129976672\n"
     ]
    }
   ],
   "source": [
    "# low initial; fast decline\n",
    "print(df.loc[(df.ms == -1) & (df.bs == 0)].lams.to_list()[0][0])\n",
    "print(better_loglike(df.loc[(df.ms == -1) & (df.bs == 0)].lams.to_list()[0][0], k, 'a'))\n",
    "print(better_loglike(df.loc[(df.ms == -1) & (df.bs == 0)].lams.to_list()[0][0], k, 'b'))\n",
    "print(better_loglike(df.loc[(df.ms == -1) & (df.bs == 0)].lams.to_list()[0][0], k, 'c'))\n"
   ]
  },
  {
   "cell_type": "code",
   "execution_count": 43,
   "id": "central-initial",
   "metadata": {},
   "outputs": [
    {
     "name": "stdout",
     "output_type": "stream",
     "text": [
      "[19211.0, 688.0, 56.0, 8.0, 5.0, 1.0]\n",
      "-215.5201800205563\n",
      "-215.5201800205563\n",
      "-215.5201800205563\n"
     ]
    }
   ],
   "source": [
    "# high initial; fast decline\n",
    "print(df.loc[(df.ms == -1) & (df.bs == 1)].lams.to_list()[0][0])\n",
    "print(better_loglike(df.loc[(df.ms == -1) & (df.bs == 1)].lams.to_list()[0][0], k, 'a'))\n",
    "print(better_loglike(df.loc[(df.ms == -1) & (df.bs == 1)].lams.to_list()[0][0], k, 'b'))\n",
    "print(better_loglike(df.loc[(df.ms == -1) & (df.bs == 1)].lams.to_list()[0][0], k, 'c'))"
   ]
  },
  {
   "cell_type": "code",
   "execution_count": 44,
   "id": "agreed-serial",
   "metadata": {},
   "outputs": [
    {
     "name": "stdout",
     "output_type": "stream",
     "text": [
      "[19232.0, 695.0, 42.0, 1, 1, 1]\n",
      "-247.07932629048028\n",
      "-247.07932629048028\n",
      "-247.07932629048028\n"
     ]
    }
   ],
   "source": [
    "# multimodal population\n",
    "print(df.loc[(df.ms == -1) & (df.bs == 0.6)].lams.to_list()[0][0])\n",
    "print(better_loglike(df.loc[(df.ms == -1) & (df.bs == 0.6)].lams.to_list()[0][0], k, 'a'))\n",
    "print(better_loglike(df.loc[(df.ms == -1) & (df.bs == 0.6)].lams.to_list()[0][0], k, 'b'))\n",
    "print(better_loglike(df.loc[(df.ms == -1) & (df.bs == 0.6)].lams.to_list()[0][0], k, 'c'))"
   ]
  },
  {
   "cell_type": "markdown",
   "id": "essential-sleep",
   "metadata": {},
   "source": [
    "### Young vs old systems"
   ]
  },
  {
   "cell_type": "markdown",
   "id": "fifteen-senator",
   "metadata": {},
   "source": [
    "Do I get more multis in young systems versus old ones? It should be no difference for b=0 case, but more multis in young for cases that don't decay to P(intact)=0 so quickly from a high enough b. "
   ]
  },
  {
   "cell_type": "code",
   "execution_count": null,
   "id": "grateful-aaron",
   "metadata": {},
   "outputs": [],
   "source": [
    "# pick two CSVs from five different cases: \n",
    "# b = 0; m = 0 \n",
    "# b = 0; m = -0.5; distribution of planets and transits should be same as above\n",
    "# m = -1; b = 0\n",
    "# m = -1; b = 0.5; should be slightly shallower than above\n",
    "# m = -0.5; b = 1; should be shallower than above\n",
    "\n",
    "# split each datafrmae into young and old\n",
    "\n",
    "# for each, plot transit multiplicity and num_planets plots"
   ]
  },
  {
   "cell_type": "code",
   "execution_count": 48,
   "id": "marine-first",
   "metadata": {},
   "outputs": [],
   "source": [
    "a = pd.read_csv('young_old_test_data/transits0_0_1.csv')\n",
    "b = pd.read_csv('young_old_test_data/transits5_0_1.csv')\n",
    "a.planet_inclinations = a.planet_inclinations.apply(literal_eval)\n",
    "a['num_planets'] = a.planet_inclinations.str.len()\n",
    "b['num_planets'] = b.planet_inclinations.str.len()\n",
    "a_young = a.loc[a.star_ages <= 1.]\n",
    "a_old = a.loc[a.star_ages > 1.]\n",
    "b_young = b.loc[b.star_ages <= 1.]\n",
    "b_old = b.loc[b.star_ages > 1.]"
   ]
  },
  {
   "cell_type": "code",
   "execution_count": 55,
   "id": "disciplinary-overhead",
   "metadata": {},
   "outputs": [
    {
     "name": "stdout",
     "output_type": "stream",
     "text": [
      "0    2430\n",
      "1      79\n",
      "2       5\n",
      "Name: transit_multiplicity, dtype: int64\n",
      "0    16782\n",
      "1      618\n",
      "2       55\n",
      "Name: transit_multiplicity, dtype: int64\n"
     ]
    },
    {
     "data": {
      "text/plain": [
       "<matplotlib.collections.PathCollection at 0x14359ff10>"
      ]
     },
     "execution_count": 55,
     "metadata": {},
     "output_type": "execute_result"
    },
    {
     "data": {
      "image/png": "[encoded data removed]",
      "text/plain": [
       "<Figure size 432x288 with 1 Axes>"
      ]
     },
     "metadata": {
      "needs_background": "light"
     },
     "output_type": "display_data"
    }
   ],
   "source": [
    "print(a_young.transit_multiplicity.value_counts())\n",
    "print(a_old.transit_multiplicity.value_counts())\n",
    "plt.scatter(np.arange(3), a_young.transit_multiplicity.value_counts())"
   ]
  },
  {
   "cell_type": "code",
   "execution_count": null,
   "id": "intimate-mountain",
   "metadata": {},
   "outputs": [],
   "source": [
    "plt.scatter(pd.Series())"
   ]
  },
  {
   "cell_type": "code",
   "execution_count": null,
   "id": "interstate-apparatus",
   "metadata": {},
   "outputs": [],
   "source": [
    "from itertools import zip_longest\n",
    "import numpy.ma as ma # for masked arrays\n",
    "plt.figure(figsize=(16,16))\n",
    "index = 0\n",
    "\n",
    "short_k = k*1000/np.sum(k)\n",
    "lam_upper = []\n",
    "lam_lower = []\n",
    "lam_avgs = []\n",
    "for gi_m in range(11):\n",
    "    for gi_b in range(11):\n",
    "        # avg, max, and min transit multiplicities to compare against data\n",
    "        ax = plt.subplot2grid((11,11), (gi_m,gi_b))\n",
    "        lam_elt = lams[index]\n",
    "        lam_elt_max = []\n",
    "        lam_elt_min = []\n",
    "        lam_elt_avg = []\n",
    "        for temp_list in zip_longest(*lam_elt):\n",
    "            elt = [0 if v is None else v for v in ma.masked_values(temp_list, 0)]\n",
    "            lam_elt_max.append(max(elt))\n",
    "            lam_elt_min.append(min(elt))\n",
    "            lam_elt_avg.append(np.mean(elt))\n",
    "        \n",
    "        lam_upper.append(lam_elt_max)\n",
    "        lam_lower.append(lam_elt_min)\n",
    "        lam_avgs.append(lam_elt_avg)\n",
    "\n",
    "        # plotting\n",
    "        ax.scatter(pd.Series(lam_elt_avg).index, lam_elt_avg, s=10)\n",
    "        ax.scatter(pd.Series(lam_elt_max).index, lam_elt_max, s=10)\n",
    "        ax.scatter(pd.Series(lam_elt_min).index, lam_elt_min, s=10)\n",
    "        ax.scatter(np.arange(5), nonzero_k, marker=(5, 1), color='r', s=10)\n",
    "        ax.scatter(np.arange(5), nonzero_k+np.sqrt(nonzero_k), marker='+', s=10)\n",
    "        ax.scatter(np.arange(5), nonzero_k-np.sqrt(nonzero_k), marker='+', s=10)\n",
    "        ax.get_xaxis().set_visible(False)\n",
    "        ax.get_yaxis().set_visible(False)\n",
    "        #ax.set_ylim([0, 30])\n",
    "        \n",
    "        # draw envelope\n",
    "        ax.fill_between(np.arange(len(lam_elt_min)), lam_elt_min, lam_elt_max, alpha=0.6)\n",
    "\n",
    "        index += 1\n",
    "plt.show()"
   ]
  }
 ],
 "metadata": {
  "kernelspec": {
   "display_name": "Python 3",
   "language": "python",
   "name": "python3"
  },
  "language_info": {
   "codemirror_mode": {
    "name": "ipython",
    "version": 3
   },
   "file_extension": ".py",
   "mimetype": "text/x-python",
   "name": "python",
   "nbconvert_exporter": "python",
   "pygments_lexer": "ipython3",
   "version": "3.7.9"
  }
 },
 "nbformat": 4,
 "nbformat_minor": 5
}
