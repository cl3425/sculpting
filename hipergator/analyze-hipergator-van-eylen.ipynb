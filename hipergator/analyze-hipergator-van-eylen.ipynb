{
 "cells": [
  {
   "cell_type": "code",
   "execution_count": 2,
   "id": "cd6805f0-7f70-4623-9a11-24d8d16869e7",
   "metadata": {},
   "outputs": [],
   "source": [
    "import json\n",
    "import sys\n",
    "import numpy as np\n",
    "from numpy import log, exp, pi\n",
    "import pandas as pd\n",
    "import scipy\n",
    "import scipy.stats as stats\n",
    "import random\n",
    "from scipy.stats import gaussian_kde, loguniform\n",
    "from math import lgamma\n",
    "from glob import glob\n",
    "import os\n",
    "from ast import literal_eval\n",
    "#import seaborn as sns\n",
    "import matplotlib as mpl\n",
    "import matplotlib.pyplot as plt\n",
    "%matplotlib inline\n",
    "\n",
    "path = '/Users/chris/Desktop/sculpting/'"
   ]
  },
  {
   "cell_type": "code",
   "execution_count": 41,
   "id": "ebfa15bc-a234-45bb-a665-eb52f346c431",
   "metadata": {},
   "outputs": [
    {
     "name": "stdout",
     "output_type": "stream",
     "text": [
      "[1049, 94]\n",
      "        ms   bs            cs   fs      max_logLs      min_logLs  \\\n",
      "0     -2.0  0.0  1.000000e+08  0.0 -175743.107503 -175743.107503   \n",
      "1     -2.0  0.0  1.000000e+08  0.1  -83865.117639  -87558.177445   \n",
      "2     -2.0  0.0  1.000000e+08  0.2  -70187.868187  -73861.127993   \n",
      "3     -2.0  0.0  1.000000e+08  0.3  -62234.628931  -65888.088737   \n",
      "4     -2.0  0.0  1.000000e+08  0.4  -56624.918736  -60258.578542   \n",
      "...    ...  ...           ...  ...            ...            ...   \n",
      "14636  0.0  1.0  1.000000e+10  0.6            NaN            NaN   \n",
      "14637  0.0  1.0  1.000000e+10  0.7            NaN            NaN   \n",
      "14638  0.0  1.0  1.000000e+10  0.8            NaN            NaN   \n",
      "14639  0.0  1.0  1.000000e+10  0.9            NaN            NaN   \n",
      "14640  0.0  1.0  1.000000e+10  1.0            NaN            NaN   \n",
      "\n",
      "          mean_logLs   median_logLs    std_logLs  \\\n",
      "0     -175743.107503 -175743.107503     0.000000   \n",
      "1      -85350.733210  -85037.099447  1248.755595   \n",
      "2      -71665.939314  -71354.449996  1242.123138   \n",
      "3      -63705.155613  -63395.810740  1235.490970   \n",
      "4      -58087.900973  -57780.700544  1228.859095   \n",
      "...              ...            ...          ...   \n",
      "14636            NaN            NaN          NaN   \n",
      "14637            NaN            NaN          NaN   \n",
      "14638            NaN            NaN          NaN   \n",
      "14639            NaN            NaN          NaN   \n",
      "14640            NaN            NaN          NaN   \n",
      "\n",
      "                              transit_multiplicities_all  \n",
      "0      [[1049, 94], [871, 74], [944, 106], [1000, 105...  \n",
      "1      [[1049, 94], [871, 74], [944, 106], [1000, 105...  \n",
      "2      [[1049, 94], [871, 74], [944, 106], [1000, 105...  \n",
      "3      [[1049, 94], [871, 74], [944, 106], [1000, 105...  \n",
      "4      [[1049, 94], [871, 74], [944, 106], [1000, 105...  \n",
      "...                                                  ...  \n",
      "14636                                                NaN  \n",
      "14637                                                NaN  \n",
      "14638                                                NaN  \n",
      "14639                                                NaN  \n",
      "14640                                                NaN  \n",
      "\n",
      "[14641 rows x 10 columns]\n",
      "-38284.3544748657\n"
     ]
    }
   ],
   "source": [
    "df = pd.read_csv('logLs.csv')\n",
    "df.transit_multiplicities_all = df.transit_multiplicities_all.apply(literal_eval) # convert back from string to list of floats\n",
    "df.max_logLs = df.max_logLs.apply(literal_eval) # convert back from string to list of floats\n",
    "df.min_logLs = df.min_logLs.apply(literal_eval) # convert back from string to list of floats\n",
    "df.mean_logLs = df.mean_logLs.apply(literal_eval) # convert back from string to list of floats\n",
    "df.median_logLs = df.median_logLs.apply(literal_eval) # convert back from string to list of floats\n",
    "df.std_logLs = df.std_logLs.apply(literal_eval) # convert back from string to list of floats\n",
    "\n",
    "df.max_logLs = df.max_logLs.apply(lambda y: np.nan if type(y)==list else y)\n",
    "df.min_logLs = df.min_logLs.apply(lambda y: np.nan if type(y)==list else y)\n",
    "df.mean_logLs = df.mean_logLs.apply(lambda y: np.nan if type(y)==list else y)\n",
    "df.median_logLs = df.median_logLs.apply(lambda y: np.nan if type(y)==list else y)\n",
    "df.std_logLs = df.std_logLs.apply(lambda y: np.nan if type(y)==list else y)\n",
    "df.transit_multiplicities_all = df.transit_multiplicities_all.apply(lambda y: np.nan if len(y)==0 else y)\n",
    "\n",
    "print(df.transit_multiplicities_all[0][0])\n",
    "print(df)\n",
    "print(max(df.max_logLs))"
   ]
  },
  {
   "cell_type": "code",
   "execution_count": 4,
   "id": "392882d3-7121-4c2d-90ac-85ec90e46629",
   "metadata": {},
   "outputs": [
    {
     "name": "stdout",
     "output_type": "stream",
     "text": [
      "[-0.1, -0.1, -0.1, -0.1, -0.1, -0.1, -0.1, -0.1, -0.1, -0.1, -0.1, -0.1584893192461111, -0.1584893192461111, -0.1584893192461111, -0.1584893192461111, -0.1584893192461111, -0.1584893192461111, -0.1584893192461111, -0.1584893192461111, -0.1584893192461111, -0.1584893192461111, -0.1584893192461111, -0.25118864315095824, -0.25118864315095824, -0.25118864315095824, -0.25118864315095824, -0.25118864315095824, -0.25118864315095824, -0.25118864315095824, -0.25118864315095824, -0.25118864315095824, -0.25118864315095824, -0.25118864315095824, -0.3981071705534969, -0.3981071705534969, -0.3981071705534969, -0.3981071705534969, -0.3981071705534969, -0.3981071705534969, -0.3981071705534969, -0.3981071705534969, -0.3981071705534969, -0.3981071705534969, -0.3981071705534969, -0.6309573444801944, -0.6309573444801944, -0.6309573444801944, -0.6309573444801944, -0.6309573444801944, -0.6309573444801944, -0.6309573444801944, -0.6309573444801944, -0.6309573444801944, -0.6309573444801944, -0.6309573444801944, -1.0, -1.0, -1.0, -1.0, -1.0, -1.0, -1.0, -1.0, -1.0, -1.0, -1.0, -1.584893192461111, -1.584893192461111, -1.584893192461111, -1.584893192461111, -1.584893192461111, -1.584893192461111, -1.584893192461111, -1.584893192461111, -1.584893192461111, -1.584893192461111, -1.584893192461111, -2.5118864315095824, -2.5118864315095824, -2.5118864315095824, -2.5118864315095824, -2.5118864315095824, -2.5118864315095824, -2.5118864315095824, -2.5118864315095824, -2.5118864315095824, -2.5118864315095824, -2.5118864315095824, -3.9810717055349696, -3.9810717055349696, -3.9810717055349696, -3.9810717055349696, -3.9810717055349696, -3.9810717055349696, -3.9810717055349696, -3.9810717055349696, -3.9810717055349696, -3.9810717055349696, -3.9810717055349696, -6.309573444801943, -6.309573444801943, -6.309573444801943, -6.309573444801943, -6.309573444801943, -6.309573444801943, -6.309573444801943, -6.309573444801943, -6.309573444801943, -6.309573444801943, -6.309573444801943, -10.0, -10.0, -10.0, -10.0, -10.0, -10.0, -10.0, -10.0, -10.0, -10.0, -10.0]\n",
      "[8.0, 8.0, 8.0, 8.0, 8.0, 8.0, 8.0, 8.0, 8.0, 8.0, 8.0, 8.2, 8.2, 8.2, 8.2, 8.2, 8.2, 8.2, 8.2, 8.2, 8.2, 8.2, 8.4, 8.4, 8.4, 8.4, 8.4, 8.4, 8.4, 8.4, 8.4, 8.4, 8.4, 8.6, 8.6, 8.6, 8.6, 8.6, 8.6, 8.6, 8.6, 8.6, 8.6, 8.6, 8.8, 8.8, 8.8, 8.8, 8.8, 8.8, 8.8, 8.8, 8.8, 8.8, 8.8, 9.0, 9.0, 9.0, 9.0, 9.0, 9.0, 9.0, 9.0, 9.0, 9.0, 9.0, 9.2, 9.2, 9.2, 9.2, 9.2, 9.2, 9.2, 9.2, 9.2, 9.2, 9.2, 9.4, 9.4, 9.4, 9.4, 9.4, 9.4, 9.4, 9.4, 9.4, 9.4, 9.4, 9.6, 9.6, 9.6, 9.6, 9.6, 9.6, 9.6, 9.6, 9.6, 9.6, 9.6, 9.8, 9.8, 9.8, 9.8, 9.8, 9.8, 9.8, 9.8, 9.8, 9.8, 9.8, 10.0, 10.0, 10.0, 10.0, 10.0, 10.0, 10.0, 10.0, 10.0, 10.0, 10.0]\n"
     ]
    }
   ],
   "source": [
    "# redo ms because I forgot that I rounded to single decimal beforehand\n",
    "ms_corrected = []\n",
    "ms_corrected_for_plotting = []\n",
    "for gi_m in range(11):\n",
    "    for gi_b in range(11):\n",
    "        ms = -1e-9*np.logspace(8,10,11)[gi_m]\n",
    "        ms_corrected.append(ms)\n",
    "        ms_for_plotting = np.log10(np.logspace(8,10,11))[gi_m]\n",
    "        ms_corrected_for_plotting.append(ms_for_plotting)\n",
    "print(ms_corrected)\n",
    "print(ms_corrected_for_plotting)"
   ]
  },
  {
   "cell_type": "code",
   "execution_count": 11,
   "id": "8d26d4c5-0322-495a-b780-e89744ad1719",
   "metadata": {},
   "outputs": [
    {
     "data": {
      "text/plain": [
       "array([1.00000000e+08, 1.58489319e+08, 2.51188643e+08, 3.98107171e+08,\n",
       "       6.30957344e+08, 1.00000000e+09, 1.58489319e+09, 2.51188643e+09,\n",
       "       3.98107171e+09, 6.30957344e+09, 1.00000000e+10])"
      ]
     },
     "execution_count": 11,
     "metadata": {},
     "output_type": "execute_result"
    }
   ],
   "source": [
    "df.cs.unique()"
   ]
  },
  {
   "cell_type": "code",
   "execution_count": 46,
   "id": "0a4dfa7d-2164-4b64-8a0c-5ed49f0e461e",
   "metadata": {},
   "outputs": [
    {
     "name": "stdout",
     "output_type": "stream",
     "text": [
      "13      -73971.566512\n",
      "134     -70918.856919\n",
      "255     -71276.362566\n",
      "376     -71085.290272\n",
      "497     -70896.686375\n",
      "             ...     \n",
      "14049             NaN\n",
      "14170             NaN\n",
      "14291             NaN\n",
      "14412             NaN\n",
      "14533             NaN\n",
      "Name: mean_logLs, Length: 121, dtype: float64\n"
     ]
    }
   ],
   "source": [
    "df_billion = df.loc[(df.cs > 1e8) & (df.cs < 2e8)]\n",
    "point_two = df_billion.loc[df.fs == 0.2]\n",
    "#print(point_two)\n",
    "\n",
    "bs = point_two.bs\n",
    "logLs = point_two.mean_logLs\n",
    "print(logLs)"
   ]
  },
  {
   "cell_type": "code",
   "execution_count": 47,
   "id": "87bc1a64-7940-4798-9749-a4f09659d409",
   "metadata": {},
   "outputs": [
    {
     "data": {
      "image/png": "[encoded data removed]",
      "text/plain": [
       "<Figure size 432x288 with 2 Axes>"
      ]
     },
     "metadata": {
      "needs_background": "light"
     },
     "output_type": "display_data"
    }
   ],
   "source": [
    "plt.scatter(bs, [-1*m for m in ms_corrected], c=logLs) # mean_logLs2 for mean instead of peak location of KDE\n",
    "plt.xlabel('initial P(intact) aka b')\n",
    "plt.ylabel('dP(intact)/dt aka m [(log(Gyr))^-1]')\n",
    "plt.gca().invert_yaxis()\n",
    "#plt.yscale('symlog', linthreshy=10)\n",
    "plt.yscale('log')\n",
    "plt.colorbar()\n",
    "plt.show()"
   ]
  },
  {
   "cell_type": "code",
   "execution_count": null,
   "id": "b8956845-65eb-4095-96da-6443111db060",
   "metadata": {},
   "outputs": [],
   "source": []
  }
 ],
 "metadata": {
  "kernelspec": {
   "display_name": "Python 3 (ipykernel)",
   "language": "python",
   "name": "python3"
  },
  "language_info": {
   "codemirror_mode": {
    "name": "ipython",
    "version": 3
   },
   "file_extension": ".py",
   "mimetype": "text/x-python",
   "name": "python",
   "nbconvert_exporter": "python",
   "pygments_lexer": "ipython3",
   "version": "3.8.5"
  }
 },
 "nbformat": 4,
 "nbformat_minor": 5
}
