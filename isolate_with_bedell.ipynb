{
 "cells": [
  {
   "cell_type": "markdown",
   "metadata": {},
   "source": [
    "Just a reader-friendly version of isolate.ipynb"
   ]
  },
  {
   "cell_type": "markdown",
   "metadata": {},
   "source": [
    "## Initial Cuts"
   ]
  },
  {
   "cell_type": "code",
   "execution_count": 1,
   "metadata": {},
   "outputs": [
    {
     "name": "stdout",
     "output_type": "stream",
     "text": [
      "186301\n",
      "      KIC  iso_mass  iso_mass_err1  iso_mass_err2  iso_teff  iso_teff_err1  \\\n",
      "0  757076     1.396          0.179         -0.218    5052.2          103.9   \n",
      "1  757099     0.873          0.054         -0.039    5364.9          102.7   \n",
      "2  757137     1.669          0.309         -0.300    4628.7           84.8   \n",
      "3  757280     1.715          0.086         -0.089    6856.8          144.4   \n",
      "4  757450     0.914          0.062         -0.057    5301.2          111.0   \n",
      "\n",
      "   iso_teff_err2  iso_logg  iso_logg_err1  iso_logg_err2  ...  iso_age  \\\n",
      "0          -86.6     3.373          0.067         -0.081  ...     2.47   \n",
      "1          -84.9     4.318          0.037         -0.029  ...    15.20   \n",
      "2          -76.2     2.388          0.083         -0.086  ...     1.51   \n",
      "3         -139.9     3.834          0.033         -0.032  ...     1.24   \n",
      "4         -103.1     4.432          0.045         -0.044  ...     9.46   \n",
      "\n",
      "   unReAgeFlag  iso_age_err1  iso_age_err2  iso_dis  iso_dis_err1  \\\n",
      "0          NaN          1.82         -0.73    651.5          22.6   \n",
      "1          NaN          3.00         -3.98    367.8           7.1   \n",
      "2          NaN          1.06         -0.58    568.4          12.2   \n",
      "3          NaN          0.20         -0.16    822.0          19.4   \n",
      "4          NaN          5.36         -5.15    829.6          24.0   \n",
      "\n",
      "   iso_dis_err2  iso_avs  iso_gof   TAMS  \n",
      "0         -21.6    0.371      1.0   2.69  \n",
      "1          -6.9    0.340      1.0  17.18  \n",
      "2         -11.6    0.344      1.0   1.66  \n",
      "3         -21.0    0.496      1.0   1.62  \n",
      "4         -23.4    0.465      1.0  16.10  \n",
      "\n",
      "[5 rows x 32 columns]\n",
      "Index(['KIC', 'iso_mass', 'iso_mass_err1', 'iso_mass_err2', 'iso_teff',\n",
      "       'iso_teff_err1', 'iso_teff_err2', 'iso_logg', 'iso_logg_err1',\n",
      "       'iso_logg_err2', 'iso_feh', 'iso_feh_err1', 'iso_feh_err2', 'iso_rad',\n",
      "       'iso_rad_err1', 'iso_rad_err2', 'iso_rho', 'iso_rho_err1',\n",
      "       'iso_rho_err2', 'iso_lum', 'iso_lum_err1', 'iso_lum_err2', 'iso_age',\n",
      "       'unReAgeFlag', 'iso_age_err1', 'iso_age_err2', 'iso_dis',\n",
      "       'iso_dis_err1', 'iso_dis_err2', 'iso_avs', 'iso_gof', 'TAMS'],\n",
      "      dtype='object')\n"
     ]
    }
   ],
   "source": [
    "import pandas as pd\n",
    "import numpy as np\n",
    "from astropy.io import fits\n",
    "from astropy.table import Table\n",
    "import matplotlib.pyplot as plt\n",
    "%matplotlib inline\n",
    "path = '/Users/chris/Desktop/sculpting/berger_gaia_kepler/'\n",
    "# all data downloaded from Berger et al 2020's ancillary tables: https://arxiv.org/src/2001.07737v3/anc\n",
    "# the paper we're comparing against: https://arxiv.org/pdf/2005.14671.pdf\n",
    "# command line edit to get rid of double backslashes at end of each row: sed -e \"s/\\\\\\//g\" GKSPCPapTable2_Final.txt > GKSPCPapTable2_cleaned.txt\n",
    "table2 = pd.read_csv(path+'GKSPCPapTable2_cleaned.txt', sep='&', header=0)\n",
    "print(len(table2))\n",
    "print(table2.head())\n",
    "print(table2.columns)"
   ]
  },
  {
   "cell_type": "code",
   "execution_count": 2,
   "metadata": {},
   "outputs": [
    {
     "name": "stdout",
     "output_type": "stream",
     "text": [
      "150560\n"
     ]
    }
   ],
   "source": [
    "# remove stars with unreliable ages or bad goodness of fit\n",
    "table2 = table2.loc[(table2.unReAgeFlag.isnull()) & (table2.iso_gof==1.)]\n",
    "print(len(table2))"
   ]
  },
  {
   "cell_type": "code",
   "execution_count": 3,
   "metadata": {},
   "outputs": [
    {
     "name": "stdout",
     "output_type": "stream",
     "text": [
      "150560\n"
     ]
    }
   ],
   "source": [
    "# remove stars with uninformative posteriors (per paper, terminal age of main sequence > 20 Gyr)\n",
    "table2 = table2.loc[table2['TAMS']<=20]\n",
    "print(len(table2))\n",
    "# nice to see that tracks with bad gof or unreliable age"
   ]
  },
  {
   "cell_type": "code",
   "execution_count": 4,
   "metadata": {},
   "outputs": [
    {
     "name": "stdout",
     "output_type": "stream",
     "text": [
      "147900\n"
     ]
    }
   ],
   "source": [
    "# remove stars beyond [3700, 7500] K Teff, ie. keep only FGK stars\n",
    "fgk = table2.loc[(table2['iso_teff'] <= 7500) & (table2['iso_teff'] >= 3700)]\n",
    "print(len(fgk))"
   ]
  },
  {
   "cell_type": "code",
   "execution_count": 5,
   "metadata": {},
   "outputs": [
    {
     "name": "stdout",
     "output_type": "stream",
     "text": [
      "164740\n",
      "      KIC     gmag  gmag_err    kmag  kmag_err  parallax  parallax_err    feh  \\\n",
      "0  757076  12.3510    0.0203   9.559     0.017    1.5239        0.0483    NaN   \n",
      "2  757137  10.0523    0.0279   6.722     0.017    1.7534        0.0253    NaN   \n",
      "3  757280  12.1329    0.0200  10.627     0.018    1.2137        0.0220    NaN   \n",
      "4  757450  15.8950    0.0202  13.118     0.029    1.1989        0.0261  0.229   \n",
      "7  892010  12.6168    0.0209   9.041     0.017    0.5414        0.0242    NaN   \n",
      "\n",
      "   feh_err    RUWE  num_gaia_companions Kmag_final_prov evstate  \n",
      "0      NaN  0.9467                    0             NaN     NaN  \n",
      "2      NaN  0.9126                    0             NaN     RGB  \n",
      "3      NaN  0.8704                    0             NaN     NaN  \n",
      "4     0.15  1.0300                    0             NaN     NaN  \n",
      "7      NaN  1.0141                    0             NaN     NaN  \n",
      "Index(['KIC', 'gmag', 'gmag_err', 'kmag', 'kmag_err', 'parallax',\n",
      "       'parallax_err', 'feh', 'feh_err', 'RUWE', 'num_gaia_companions',\n",
      "       'Kmag_final_prov', 'evstate'],\n",
      "      dtype='object')\n"
     ]
    }
   ],
   "source": [
    "# introduce Table 1 to use RUWE (re-normalized unit-weight error), aka binary star/edge-of-parameter space classifier\n",
    "# command line edit to get rid of double backslashes at end of each row: sed -e \"s/\\\\\\//g\" GKSPCPapTable1_Final.txt > GKSPCPapTable1_cleaned.txt\n",
    "table1 = pd.read_csv(path+'GKSPCPapTable1_cleaned.txt', sep='&', header=0)\n",
    "table1 = table1.loc[table1.RUWE<=1.2]\n",
    "print(len(table1))\n",
    "print(table1.head())\n",
    "print(table1.columns)"
   ]
  },
  {
   "cell_type": "code",
   "execution_count": 7,
   "metadata": {},
   "outputs": [
    {
     "name": "stdout",
     "output_type": "stream",
     "text": [
      "      KIC  iso_mass  iso_mass_err1  iso_mass_err2  iso_teff  iso_teff_err1  \\\n",
      "0  757076     1.396          0.179         -0.218    5052.2          103.9   \n",
      "1  757137     1.669          0.309         -0.300    4628.7           84.8   \n",
      "2  757280     1.715          0.086         -0.089    6856.8          144.4   \n",
      "3  757450     0.914          0.062         -0.057    5301.2          111.0   \n",
      "4  892010     1.710          0.708         -0.402    4555.8          141.3   \n",
      "\n",
      "   iso_teff_err2  iso_logg  iso_logg_err1  iso_logg_err2  ...    kmag  \\\n",
      "0          -86.6     3.373          0.067         -0.081  ...   9.559   \n",
      "1          -76.2     2.388          0.083         -0.086  ...   6.722   \n",
      "2         -139.9     3.834          0.033         -0.032  ...  10.627   \n",
      "3         -103.1     4.432          0.045         -0.044  ...  13.118   \n",
      "4          -92.4     2.299          0.163         -0.119  ...   9.041   \n",
      "\n",
      "   kmag_err  parallax  parallax_err    feh  feh_err    RUWE  \\\n",
      "0     0.017    1.5239        0.0483    NaN      NaN  0.9467   \n",
      "1     0.017    1.7534        0.0253    NaN      NaN  0.9126   \n",
      "2     0.018    1.2137        0.0220    NaN      NaN  0.8704   \n",
      "3     0.029    1.1989        0.0261  0.229     0.15  1.0300   \n",
      "4     0.017    0.5414        0.0242    NaN      NaN  1.0141   \n",
      "\n",
      "   num_gaia_companions  Kmag_final_prov  evstate  \n",
      "0                    0              NaN      NaN  \n",
      "1                    0              NaN      RGB  \n",
      "2                    0              NaN      NaN  \n",
      "3                    0              NaN      NaN  \n",
      "4                    0              NaN      NaN  \n",
      "\n",
      "[5 rows x 44 columns]\n",
      "131867\n"
     ]
    }
   ],
   "source": [
    "# join tables\n",
    "catalog = pd.merge(fgk, table1, how='inner', on='KIC')\n",
    "print(catalog.head())\n",
    "print(len(catalog))"
   ]
  },
  {
   "cell_type": "code",
   "execution_count": 8,
   "metadata": {},
   "outputs": [
    {
     "name": "stdout",
     "output_type": "stream",
     "text": [
      "112397\n",
      "      KIC  iso_mass  iso_mass_err1  iso_mass_err2  iso_teff  iso_teff_err1  \\\n",
      "2  757280     1.715          0.086         -0.089    6856.8          144.4   \n",
      "3  757450     0.914          0.062         -0.057    5301.2          111.0   \n",
      "6  892195     0.862          0.057         -0.040    5333.4          101.3   \n",
      "7  892667     1.548          0.081         -0.087    6704.9          148.8   \n",
      "8  892675     1.038          0.066         -0.076    5929.4          108.9   \n",
      "\n",
      "   iso_teff_err2  iso_logg  iso_logg_err1  iso_logg_err2  ...  parallax  \\\n",
      "2         -139.9     3.834          0.033         -0.032  ...    1.2137   \n",
      "3         -103.1     4.432          0.045         -0.044  ...    1.1989   \n",
      "6          -84.2     4.372          0.039         -0.029  ...    2.0802   \n",
      "7         -128.8     3.950          0.034         -0.036  ...    0.8512   \n",
      "8         -108.1     4.385          0.035         -0.043  ...    1.7114   \n",
      "\n",
      "   parallax_err    feh  feh_err    RUWE  num_gaia_companions  Kmag_final_prov  \\\n",
      "2        0.0220    NaN      NaN  0.8704                    0              NaN   \n",
      "3        0.0261  0.229     0.15  1.0300                    0              NaN   \n",
      "6        0.0167    NaN      NaN  1.1211                    0              NaN   \n",
      "7        0.0154    NaN      NaN  0.8674                    0              NaN   \n",
      "8        0.0142    NaN      NaN  1.0648                    0              NaN   \n",
      "\n",
      "   evstate      logR  is_giant  \n",
      "2      NaN  0.416641     False  \n",
      "3      NaN -0.019088     False  \n",
      "6      NaN -0.000869     False  \n",
      "7      NaN  0.337060     False  \n",
      "8      NaN  0.033424     False  \n",
      "\n",
      "[5 rows x 46 columns]\n"
     ]
    }
   ],
   "source": [
    "# isolate giant stars\n",
    "# using unnumbered equation in first paragraph of Sec 4.2.1 (\"Sample Selection\") in Berger et al 2020b \n",
    "catalog['logR'] = np.log10(catalog.iso_rad)\n",
    "catalog['is_giant'] = np.where(catalog['logR'] >= 0.00035*(catalog['iso_teff'] - 4500) + 0.15, True, False)\n",
    "catalog = catalog.loc[catalog['is_giant'] == False]\n",
    "print(len(catalog))\n",
    "print(catalog.head())"
   ]
  },
  {
   "cell_type": "code",
   "execution_count": 9,
   "metadata": {},
   "outputs": [
    {
     "name": "stdout",
     "output_type": "stream",
     "text": [
      "112397\n",
      "19969\n"
     ]
    }
   ],
   "source": [
    "# get rid of stars with age errors greater than 1 Gyr\n",
    "print(len(catalog))\n",
    "catalog = catalog.loc[np.abs(catalog.iso_age_err1) < 1.]\n",
    "catalog = catalog.loc[np.abs(catalog.iso_age_err2) < 1.]\n",
    "print(len(catalog))"
   ]
  },
  {
   "cell_type": "markdown",
   "metadata": {},
   "source": [
    "Berger et al age distribution"
   ]
  },
  {
   "cell_type": "code",
   "execution_count": 13,
   "metadata": {},
   "outputs": [
    {
     "name": "stdout",
     "output_type": "stream",
     "text": [
      "[ 409 1918 2978 3679 3709 2930 1248  638  469  431  369  348  290  211\n",
      "  153   85   53   38    9    4]\n",
      "[0.14   0.5575 0.975  1.3925 1.81   2.2275 2.645  3.0625 3.48   3.8975\n",
      " 4.315  4.7325 5.15   5.5675 5.985  6.4025 6.82   7.2375 7.655  8.0725\n",
      " 8.49  ]\n"
     ]
    },
    {
     "data": {
      "image/png": "[encoded data removed]",
      "text/plain": [
       "<Figure size 432x288 with 1 Axes>"
      ]
     },
     "metadata": {
      "needs_background": "light"
     },
     "output_type": "display_data"
    }
   ],
   "source": [
    "import matplotlib.pyplot as plt\n",
    "%matplotlib inline\n",
    "\n",
    "# age histogram for all stars with well-constrained ages \n",
    "age_hist, age_bin_edges = np.histogram(catalog.iso_age, bins=20)\n",
    "print(age_hist)\n",
    "print(age_bin_edges)\n",
    "plt.bar(age_bin_edges[:-1], age_hist, width = 0.3, color='#0504aa',alpha=0.7)\n",
    "plt.ylabel(\"count\")\n",
    "plt.xlabel(\"age [Gyr]\")\n",
    "plt.show()"
   ]
  },
  {
   "cell_type": "markdown",
   "metadata": {},
   "source": [
    "### Cross matching with Kepler (Bedell's gaia-kepler.fun)"
   ]
  },
  {
   "cell_type": "code",
   "execution_count": 14,
   "metadata": {},
   "outputs": [],
   "source": [
    "# cross-matching from Megan Bedell's gaia-kepler.fun KIC objs\n",
    "path = '/Users/chris/Desktop/sculpting/crossmatch_fun/'\n",
    "hdu1 = fits.open(path+'kepler_dr2_1arcsec.fits')\n",
    "data = hdu1[1].data\n",
    "header = hdu1[1].header\n",
    "columns = hdu1[1].columns\n",
    "hdu1.close()"
   ]
  },
  {
   "cell_type": "code",
   "execution_count": null,
   "metadata": {},
   "outputs": [],
   "source": [
    "print(len(data[0]))\n",
    "print(data[0])\n",
    "print(len(columns))\n",
    "print(columns)"
   ]
  },
  {
   "cell_type": "code",
   "execution_count": 15,
   "metadata": {},
   "outputs": [
    {
     "name": "stdout",
     "output_type": "stream",
     "text": [
      "    kepid planet?\n",
      "0  757076    none\n",
      "1  757099    none\n",
      "2  757137    none\n",
      "3  757280    none\n",
      "4  757450    conf\n"
     ]
    }
   ],
   "source": [
    "# let's read into pandas table instead\n",
    "###kep_data = Table.read(path+'kepler_dr2_1arcsec.fits', format='fits')\n",
    "###kep_data = kep_data.to_pandas() --> TypeError: data type '>I2' not understood\n",
    "### decode byte literal column to string\n",
    "###kep_data['planet?'] = kep_data['planet?'].str.decode(\"utf-8\")\n",
    "\n",
    "with fits.open(path+'kepler_dr2_1arcsec.fits') as kep_data:\n",
    "    kep_data = pd.DataFrame(kep_data[1].data)\n",
    "    \n",
    "kep_data_thin = kep_data[['kepid','planet?']]\n",
    "print(kep_data_thin.head())"
   ]
  },
  {
   "cell_type": "code",
   "execution_count": 16,
   "metadata": {},
   "outputs": [
    {
     "name": "stdout",
     "output_type": "stream",
     "text": [
      "19969\n",
      "201312\n",
      "19995\n",
      "      KIC  iso_mass  iso_mass_err1  iso_mass_err2  iso_teff  iso_teff_err1  \\\n",
      "0  757280     1.715          0.086         -0.089    6856.8          144.4   \n",
      "1  892667     1.548          0.081         -0.087    6704.9          148.8   \n",
      "2  892678     1.584          0.071         -0.062    5890.4          121.6   \n",
      "3  892713     1.731          0.219         -0.087    6238.9          123.4   \n",
      "4  892828     1.398          0.071         -0.069    6464.3          137.7   \n",
      "\n",
      "   iso_teff_err2  iso_logg  iso_logg_err1  iso_logg_err2  ...  mass_err2  \\\n",
      "0         -139.9     3.834          0.033         -0.032  ...     -0.157   \n",
      "1         -128.8     3.950          0.034         -0.036  ...     -0.236   \n",
      "2         -114.9     3.574          0.030         -0.030  ...     -0.204   \n",
      "3         -129.8     3.548          0.066         -0.037  ...     -0.270   \n",
      "4         -128.9     4.034          0.032         -0.034  ...     -0.217   \n",
      "\n",
      "   prov_sec  nconfp  nkoi  ntce    jmag    hmag  kmag_y  planet?  \\\n",
      "0      DSEP       0     0     0  10.852  10.662  10.627     none   \n",
      "1      DSEP       0     0     1  12.088  11.856  11.818     none   \n",
      "2      DSEP       0     0     0  10.946  10.646  10.580     none   \n",
      "3      DSEP       0     0     0  10.853  10.588  10.508     none   \n",
      "4      DSEP       0     0     0  12.168  11.961  11.883     none   \n",
      "\n",
      "   kepler_gaia_ang_dist  \n",
      "0              0.116420  \n",
      "1              0.166107  \n",
      "2              0.124651  \n",
      "3              0.103529  \n",
      "4              0.161792  \n",
      "\n",
      "[5 rows x 180 columns]\n"
     ]
    }
   ],
   "source": [
    "# join Bedell cross-match with Berger catalog\n",
    "crossmatch = pd.merge(catalog, kep_data, how='inner', left_on='KIC', right_on='kepid')\n",
    "print(len(catalog))\n",
    "print(len(kep_data))\n",
    "print(len(crossmatch))\n",
    "print(crossmatch.head())"
   ]
  },
  {
   "cell_type": "code",
   "execution_count": 77,
   "metadata": {},
   "outputs": [
    {
     "data": {
      "text/plain": [
       "['KIC',\n",
       " 'iso_mass',\n",
       " 'iso_mass_err1',\n",
       " 'iso_mass_err2',\n",
       " 'iso_teff',\n",
       " 'iso_teff_err1',\n",
       " 'iso_teff_err2',\n",
       " 'iso_logg',\n",
       " 'iso_logg_err1',\n",
       " 'iso_logg_err2',\n",
       " 'iso_feh',\n",
       " 'iso_feh_err1',\n",
       " 'iso_feh_err2',\n",
       " 'iso_rad',\n",
       " 'iso_rad_err1',\n",
       " 'iso_rad_err2',\n",
       " 'iso_rho',\n",
       " 'iso_rho_err1',\n",
       " 'iso_rho_err2',\n",
       " 'iso_lum',\n",
       " 'iso_lum_err1',\n",
       " 'iso_lum_err2',\n",
       " 'iso_age',\n",
       " 'unReAgeFlag',\n",
       " 'iso_age_err1',\n",
       " 'iso_age_err2',\n",
       " 'iso_dis',\n",
       " 'iso_dis_err1',\n",
       " 'iso_dis_err2',\n",
       " 'iso_avs',\n",
       " 'iso_gof',\n",
       " 'TAMS',\n",
       " 'gmag',\n",
       " 'gmag_err',\n",
       " 'kmag_x',\n",
       " 'kmag_err',\n",
       " 'parallax_x',\n",
       " 'parallax_err',\n",
       " 'feh_x',\n",
       " 'feh_err',\n",
       " 'RUWE',\n",
       " 'num_gaia_companions',\n",
       " 'Kmag_final_prov',\n",
       " 'evstate',\n",
       " 'logR',\n",
       " 'is_giant',\n",
       " 'solution_id',\n",
       " 'designation',\n",
       " 'source_id',\n",
       " 'random_index',\n",
       " 'gaia_ref_epoch',\n",
       " 'ra',\n",
       " 'ra_error',\n",
       " 'dec',\n",
       " 'dec_error',\n",
       " 'parallax_y',\n",
       " 'parallax_error',\n",
       " 'parallax_over_error',\n",
       " 'pmra',\n",
       " 'pmra_error',\n",
       " 'pmdec',\n",
       " 'pmdec_error',\n",
       " 'ra_dec_corr',\n",
       " 'ra_parallax_corr',\n",
       " 'ra_pmra_corr',\n",
       " 'ra_pmdec_corr',\n",
       " 'dec_parallax_corr',\n",
       " 'dec_pmra_corr',\n",
       " 'dec_pmdec_corr',\n",
       " 'parallax_pmra_corr',\n",
       " 'parallax_pmdec_corr',\n",
       " 'pmra_pmdec_corr',\n",
       " 'astrometric_n_obs_al',\n",
       " 'astrometric_n_obs_ac',\n",
       " 'astrometric_n_good_obs_al',\n",
       " 'astrometric_n_bad_obs_al',\n",
       " 'astrometric_gof_al',\n",
       " 'astrometric_chi2_al',\n",
       " 'astrometric_excess_noise',\n",
       " 'astrometric_excess_noise_sig',\n",
       " 'astrometric_params_solved',\n",
       " 'astrometric_primary_flag',\n",
       " 'astrometric_weight_al',\n",
       " 'astrometric_pseudo_colour',\n",
       " 'astrometric_pseudo_colour_error',\n",
       " 'mean_varpi_factor_al',\n",
       " 'astrometric_matched_observations',\n",
       " 'visibility_periods_used',\n",
       " 'astrometric_sigma5d_max',\n",
       " 'frame_rotator_object_type',\n",
       " 'matched_observations',\n",
       " 'duplicated_source',\n",
       " 'phot_g_n_obs',\n",
       " 'phot_g_mean_flux',\n",
       " 'phot_g_mean_flux_error',\n",
       " 'phot_g_mean_flux_over_error',\n",
       " 'phot_g_mean_mag',\n",
       " 'phot_bp_n_obs',\n",
       " 'phot_bp_mean_flux',\n",
       " 'phot_bp_mean_flux_error',\n",
       " 'phot_bp_mean_flux_over_error',\n",
       " 'phot_bp_mean_mag',\n",
       " 'phot_rp_n_obs',\n",
       " 'phot_rp_mean_flux',\n",
       " 'phot_rp_mean_flux_error',\n",
       " 'phot_rp_mean_flux_over_error',\n",
       " 'phot_rp_mean_mag',\n",
       " 'phot_bp_rp_excess_factor',\n",
       " 'phot_proc_mode',\n",
       " 'bp_rp',\n",
       " 'bp_g',\n",
       " 'g_rp',\n",
       " 'radial_velocity',\n",
       " 'radial_velocity_error',\n",
       " 'rv_nb_transits',\n",
       " 'rv_template_teff',\n",
       " 'rv_template_logg',\n",
       " 'rv_template_fe_h',\n",
       " 'phot_variable_flag',\n",
       " 'l',\n",
       " 'b',\n",
       " 'ecl_lon',\n",
       " 'ecl_lat',\n",
       " 'priam_flags',\n",
       " 'teff_val',\n",
       " 'teff_percentile_lower',\n",
       " 'teff_percentile_upper',\n",
       " 'a_g_val',\n",
       " 'a_g_percentile_lower',\n",
       " 'a_g_percentile_upper',\n",
       " 'e_bp_min_rp_val',\n",
       " 'e_bp_min_rp_percentile_lower',\n",
       " 'e_bp_min_rp_percentile_upper',\n",
       " 'flame_flags',\n",
       " 'radius_val',\n",
       " 'radius_percentile_lower',\n",
       " 'radius_percentile_upper',\n",
       " 'lum_val',\n",
       " 'lum_percentile_lower',\n",
       " 'lum_percentile_upper',\n",
       " 'datalink_url',\n",
       " 'epoch_photometry_url',\n",
       " 'kepid',\n",
       " 'ra_kic',\n",
       " 'dec_kic',\n",
       " 'r_est',\n",
       " 'r_lo',\n",
       " 'r_hi',\n",
       " 'r_length_prior',\n",
       " 'r_result_flag',\n",
       " 'r_modality_flag',\n",
       " 'tm_designation',\n",
       " 'kepmag',\n",
       " 'teff',\n",
       " 'teff_err1',\n",
       " 'teff_err2',\n",
       " 'teff_prov',\n",
       " 'logg',\n",
       " 'logg_err1',\n",
       " 'logg_err2',\n",
       " 'logg_prov',\n",
       " 'feh_y',\n",
       " 'feh_err1',\n",
       " 'feh_err2',\n",
       " 'feh_prov',\n",
       " 'radius',\n",
       " 'radius_err1',\n",
       " 'radius_err2',\n",
       " 'mass',\n",
       " 'mass_err1',\n",
       " 'mass_err2',\n",
       " 'prov_sec',\n",
       " 'nconfp',\n",
       " 'nkoi',\n",
       " 'ntce',\n",
       " 'jmag',\n",
       " 'hmag',\n",
       " 'kmag_y',\n",
       " 'planet?',\n",
       " 'kepler_gaia_ang_dist',\n",
       " 'dupe_label']"
      ]
     },
     "execution_count": 77,
     "metadata": {},
     "output_type": "execute_result"
    }
   ],
   "source": [
    "list(crossmatch.columns)"
   ]
  },
  {
   "cell_type": "code",
   "execution_count": 79,
   "metadata": {},
   "outputs": [
    {
     "name": "stdout",
     "output_type": "stream",
     "text": [
      "19995\n",
      "            KIC  iso_mass  iso_mass_err1  iso_mass_err2  iso_teff  ...  \\\n",
      "77      1573954     1.484          0.096         -0.087    6932.7  ...   \n",
      "78      1573954     1.484          0.096         -0.087    6932.7  ...   \n",
      "941     3129842     1.224          0.070         -0.077    6871.4  ...   \n",
      "942     3129842     1.224          0.070         -0.077    6871.4  ...   \n",
      "2014    3866583     1.684          0.095         -0.120    6476.7  ...   \n",
      "...         ...       ...            ...            ...       ...  ...   \n",
      "17612  10879850     1.447          0.063         -0.121    6182.3  ...   \n",
      "18669  11506988     1.487          0.061         -0.145    6559.3  ...   \n",
      "18670  11506988     1.487          0.061         -0.145    6559.3  ...   \n",
      "18826  11607521     1.826          0.199         -0.193    6619.2  ...   \n",
      "18827  11607521     1.826          0.199         -0.193    6619.2  ...   \n",
      "\n",
      "         hmag  kmag_y  planet?  kepler_gaia_ang_dist  dupe_label  \n",
      "77     13.442  13.470     none              0.835318        True  \n",
      "78     13.442  13.470     none              0.862454        True  \n",
      "941    13.692  13.609     none              0.616361        True  \n",
      "942    13.692  13.609     none              0.750778        True  \n",
      "2014   13.585  13.522     none              0.072424        True  \n",
      "...       ...     ...      ...                   ...         ...  \n",
      "17612  10.684  10.623     none              0.935110        True  \n",
      "18669   8.647   8.577     none              0.368101        True  \n",
      "18670   8.647   8.577     none              0.765741        True  \n",
      "18826  13.156  13.140     none              0.786128        True  \n",
      "18827  13.156  13.140     none              0.829274        True  \n",
      "\n",
      "[112 rows x 181 columns]\n",
      "[1573954, 1573954, 3129842, 3129842, 3866583, 3866583, 4352050, 4352050, 4472418, 4472418, 4821781, 4821781, 5129034, 5129034, 5216095, 5216095, 5280983, 5280983, 5477694, 5477694, 5565773, 5565773, 5608400, 5608400, 5736270, 5736270, 6060847, 6060847, 6262659, 6262659, 6288231, 6288231, 6526074, 6526074, 6548568, 6548568, 7357348, 7357348, 7417205, 7417205, 7591757, 7591757, 7757287, 7757287, 7817746, 7817746, 7849221, 7849221, 7851030, 7851030, 8016196, 8016196, 8046659, 8046659, 8097591, 8097591, 8181790, 8181790, 8264125, 8264125, 8264198, 8264198, 8296559, 8296559, 8321889, 8321889, 8325790, 8325790, 8329332, 8329332, 8431372, 8431372, 8488978, 8488978, 8591486, 8591486, 8645074, 8645074, 8649154, 8649154, 8677504, 8677504, 9031086, 9031086, 9116510, 9116510, 9343846, 9343846, 9429529, 9429529, 9705183, 9705183, 9718191, 9718191, 9847877, 9847877, 9909497, 9909497, 10155080, 10155080, 10263694, 10263694, 10658122, 10658122, 10744119, 10744119, 10879850, 10879850, 11506988, 11506988, 11607521, 11607521]\n"
     ]
    }
   ],
   "source": [
    "# could we get planet multiplicity from KIC duplicates?\n",
    "print(len(crossmatch))\n",
    "crossmatch['dupe_label'] = crossmatch.duplicated(subset=['kepid'], keep=False)\n",
    "print(crossmatch.loc[crossmatch.dupe_label == True])\n",
    "print(list(crossmatch.loc[crossmatch.dupe_label == True].kepid))\n",
    "# no."
   ]
  },
  {
   "cell_type": "markdown",
   "metadata": {},
   "source": [
    "Chose 1\" search radius Kepler data upon consultation with Megan Bedell. Also, see full isolate.ipynb under noodling/ directory where I replicate with 20\" search radius data, as well as K2 data."
   ]
  },
  {
   "cell_type": "code",
   "execution_count": 17,
   "metadata": {},
   "outputs": [
    {
     "name": "stdout",
     "output_type": "stream",
     "text": [
      "19995\n",
      "19939\n",
      "18959\n",
      "864\n",
      "116\n",
      "candidates only:  0.04333216309744722\n",
      "confirmed only:  0.005817744119564672\n",
      "candidates and confirmed:  0.04914990721701189\n"
     ]
    }
   ],
   "source": [
    "# use 1\" search radius Kepler data\n",
    "\n",
    "# drop duplicates on KIC, which we can do because we guaranteed one-to-one matching of KIC and planet-occurrence status\n",
    "group_crossmatch = crossmatch.drop_duplicates(['KIC'])\n",
    "print(len(crossmatch))\n",
    "print(len(group_crossmatch))\n",
    "\n",
    "# count Kepler objects with each type of planet occurrence\n",
    "none = group_crossmatch.loc[group_crossmatch['planet?'] == 'none']\n",
    "cand = group_crossmatch.loc[group_crossmatch['planet?'] == 'cand']\n",
    "conf = group_crossmatch.loc[group_crossmatch['planet?'] == 'conf']\n",
    "print(len(none))\n",
    "print(len(cand))\n",
    "print(len(conf))\n",
    "\n",
    "# cand and conf planet occurrence rates across FGK dwarfs from Berger et al 2020\n",
    "print(\"candidates only: \", len(cand)/len(group_crossmatch))\n",
    "print(\"confirmed only: \", len(conf)/len(group_crossmatch))\n",
    "print(\"candidates and confirmed: \", (len(cand)+len(conf))/len(group_crossmatch))"
   ]
  },
  {
   "cell_type": "code",
   "execution_count": 81,
   "metadata": {},
   "outputs": [
    {
     "name": "stdout",
     "output_type": "stream",
     "text": [
      "983\n",
      "            KIC  iso_mass  iso_mass_err1  iso_mass_err2  iso_teff  ...  \\\n",
      "10883   8046659     1.189          0.066         -0.081    6847.6  ...   \n",
      "10884   8046659     1.189          0.066         -0.081    6847.6  ...   \n",
      "13760   9116510     1.152          0.049         -0.042    6691.2  ...   \n",
      "13761   9116510     1.152          0.049         -0.042    6691.2  ...   \n",
      "16251  10155080     1.250          0.070         -0.068    5843.9  ...   \n",
      "16252  10155080     1.250          0.070         -0.068    5843.9  ...   \n",
      "\n",
      "         hmag  kmag_y  planet?  kepler_gaia_ang_dist  dupe_label  \n",
      "10883  13.491  13.523     cand              0.715064        True  \n",
      "10884  13.491  13.523     cand              0.897246        True  \n",
      "13760  12.772  12.716     cand              0.679795        True  \n",
      "13761  12.772  12.716     cand              0.781874        True  \n",
      "16251  11.651  11.627     cand              0.543404        True  \n",
      "16252  11.651  11.627     cand              0.605712        True  \n",
      "\n",
      "[6 rows x 181 columns]\n"
     ]
    }
   ],
   "source": [
    "# let's keep both confirmed and candidate planets\n",
    "pos = crossmatch.loc[crossmatch['planet?'] != 'none']\n",
    "print(len(pos))\n",
    "pos['dupe_label'] = pos.duplicated(subset=['kepid'], keep=False)\n",
    "print(pos.loc[pos.dupe_label == True])\n"
   ]
  },
  {
   "cell_type": "markdown",
   "metadata": {},
   "source": [
    "I also do this with all well-defined stars (ie. beyond just FGK) from Berger et al in the full isolate.ipynb notebook. But we'll move forward with only FGK stars here."
   ]
  },
  {
   "cell_type": "markdown",
   "metadata": {},
   "source": [
    "### Joining Kepler cross-match with Exoplanets archive dataset"
   ]
  },
  {
   "cell_type": "code",
   "execution_count": 92,
   "metadata": {},
   "outputs": [
    {
     "name": "stdout",
     "output_type": "stream",
     "text": [
      "         kepid kepoi_name   kepler_name koi_disposition koi_pdisposition  ...  \\\n",
      "0     10797460  K00752.01  Kepler-227 b       CONFIRMED        CANDIDATE  ...   \n",
      "1     10797460  K00752.02  Kepler-227 c       CONFIRMED        CANDIDATE  ...   \n",
      "2     10811496  K00753.01           NaN       CANDIDATE        CANDIDATE  ...   \n",
      "4     10854555  K00755.01  Kepler-664 b       CONFIRMED        CANDIDATE  ...   \n",
      "5     10872983  K00756.01  Kepler-228 d       CONFIRMED        CANDIDATE  ...   \n",
      "...        ...        ...           ...             ...              ...  ...   \n",
      "9538   9938836  K07978.01           NaN       CANDIDATE        CANDIDATE  ...   \n",
      "9542  10011213  K07982.01           NaN       CANDIDATE        CANDIDATE  ...   \n",
      "9552  10028127  K08193.01           NaN       CANDIDATE        CANDIDATE  ...   \n",
      "9560  10128825  K07986.01           NaN       CANDIDATE        CANDIDATE  ...   \n",
      "9562  10155286  K07988.01           NaN       CANDIDATE        CANDIDATE  ...   \n",
      "\n",
      "      koi_srad_err1  koi_srad_err2         ra        dec  koi_kepmag  \n",
      "0             0.105         -0.061  291.93423  48.141651      15.347  \n",
      "1             0.105         -0.061  291.93423  48.141651      15.347  \n",
      "2             0.233         -0.078  297.00482  48.134129      15.436  \n",
      "4             0.334         -0.133  288.75488  48.226200      15.509  \n",
      "5             0.315         -0.105  296.28613  48.224670      15.714  \n",
      "...             ...            ...        ...        ...         ...  \n",
      "9538          0.536         -0.996  285.30768  46.829803      13.729  \n",
      "9542          0.291         -0.097  291.60455  46.973289      15.632  \n",
      "9552          0.207         -0.069  297.73398  46.961529      15.719  \n",
      "9560          0.341         -0.114  286.50937  47.163219      14.757  \n",
      "9562          0.223         -1.896  296.76288  47.145142      10.998  \n",
      "\n",
      "[4724 rows x 50 columns]\n",
      "['kepid', 'kepoi_name', 'kepler_name', 'koi_disposition', 'koi_pdisposition', 'koi_score', 'koi_fpflag_nt', 'koi_fpflag_ss', 'koi_fpflag_co', 'koi_fpflag_ec', 'koi_period', 'koi_period_err1', 'koi_period_err2', 'koi_time0bk', 'koi_time0bk_err1', 'koi_time0bk_err2', 'koi_impact', 'koi_impact_err1', 'koi_impact_err2', 'koi_duration', 'koi_duration_err1', 'koi_duration_err2', 'koi_depth', 'koi_depth_err1', 'koi_depth_err2', 'koi_prad', 'koi_prad_err1', 'koi_prad_err2', 'koi_teq', 'koi_teq_err1', 'koi_teq_err2', 'koi_insol', 'koi_insol_err1', 'koi_insol_err2', 'koi_model_snr', 'koi_count', 'koi_tce_plnt_num', 'koi_tce_delivname', 'koi_steff', 'koi_steff_err1', 'koi_steff_err2', 'koi_slogg', 'koi_slogg_err1', 'koi_slogg_err2', 'koi_srad', 'koi_srad_err1', 'koi_srad_err2', 'ra', 'dec', 'koi_kepmag']\n"
     ]
    }
   ],
   "source": [
    "# source: https://exoplanetarchive.ipac.caltech.edu/cgi-bin/TblView/nph-tblView?app=ExoTbls&config=cumulative\n",
    "path = '/Users/chris/Desktop/sculpting/crossmatch_fun/'\n",
    "kois = pd.read_csv(path+'cumulative_2021.03.04_20.04.43.csv')\n",
    "kois = kois.loc[kois.koi_disposition != 'FALSE POSITIVE']\n",
    "print(kois)\n",
    "print(list(kois.columns))"
   ]
  },
  {
   "cell_type": "code",
   "execution_count": 98,
   "metadata": {},
   "outputs": [
    {
     "name": "stdout",
     "output_type": "stream",
     "text": [
      "4724\n",
      "201312\n",
      "408\n",
      "      kepid kepoi_name   kepler_name koi_disposition koi_pdisposition  ...  \\\n",
      "0  10666592  K00002.01    Kepler-2 b       CONFIRMED        CANDIDATE  ...   \n",
      "1   6922244  K00010.01    Kepler-8 b       CONFIRMED        CANDIDATE  ...   \n",
      "2   5115978  K00823.01           NaN       CANDIDATE        CANDIDATE  ...   \n",
      "3   5812701  K00012.01  Kepler-448 b       CONFIRMED        CANDIDATE  ...   \n",
      "4   2860866  K01103.01           NaN       CANDIDATE        CANDIDATE  ...   \n",
      "\n",
      "     hmag  kmag_y  planet?  kepler_gaia_ang_dist  dupe_label  \n",
      "0   9.344   9.334     conf              0.089069       False  \n",
      "1  12.324  12.293     conf              0.003994       False  \n",
      "2  13.702  13.598     cand              0.116819       False  \n",
      "3  10.287  10.234     conf              0.078809       False  \n",
      "4  13.698  13.593     cand              0.075665       False  \n",
      "\n",
      "[5 rows x 230 columns]\n",
      "Index(['kepid', 'kepoi_name', 'kepler_name', 'koi_disposition',\n",
      "       'koi_pdisposition', 'koi_score', 'koi_fpflag_nt', 'koi_fpflag_ss',\n",
      "       'koi_fpflag_co', 'koi_fpflag_ec',\n",
      "       ...\n",
      "       'prov_sec', 'nconfp', 'nkoi', 'ntce', 'jmag', 'hmag', 'kmag_y',\n",
      "       'planet?', 'kepler_gaia_ang_dist', 'dupe_label'],\n",
      "      dtype='object', length=230)\n"
     ]
    }
   ],
   "source": [
    "positives_kepler = pd.merge(kois, crossmatch, how='inner', on='kepid') \n",
    "print(len(kois))\n",
    "print(len(kep_data))\n",
    "print(len(positives_kepler))\n",
    "print(positives_kepler.head())\n",
    "print(positives_kepler.columns)"
   ]
  },
  {
   "cell_type": "markdown",
   "metadata": {},
   "source": [
    "Honestly, I could've probably just skipped Berger+Bedell and gone straight from Berger+ExoplanetsArchive. See isolate_with_kois.ipynb for my start at transferring before deciding to fall for sunk cost \"fallacy\" (nothing wrong actually, just extra work). Oh well."
   ]
  },
  {
   "cell_type": "code",
   "execution_count": 100,
   "metadata": {
    "scrolled": true
   },
   "outputs": [
    {
     "name": "stdout",
     "output_type": "stream",
     "text": [
      "    iso_mass   mass  iso_teff  teff  iso_rad  radius  iso_age  koi_count  \\\n",
      "0      1.515  1.449    6436.5  6440    1.995   1.952     1.74          1   \n",
      "1      1.264  1.132    6365.3  6225    1.545   1.451     2.62          1   \n",
      "2      1.375  1.193    6240.4  6270    1.875   1.286     2.51          1   \n",
      "3      1.437  1.386    6943.4  6823    1.491   1.367     0.69          1   \n",
      "4      1.301  1.279    6366.1  6520    1.589   1.215     2.44          1   \n",
      "..       ...    ...       ...   ...      ...     ...      ...        ...   \n",
      "15     1.529  1.202    6026.5  5884    2.735   1.426     2.29          1   \n",
      "16     1.329  2.736    6678.3  5313    1.545   9.327     1.76          2   \n",
      "17     1.329  2.736    6678.3  5313    1.545   9.327     1.76          2   \n",
      "18     1.452  1.304    6998.9  6490    1.607   1.307     1.08          1   \n",
      "19     1.417  1.399    6951.9  6306    1.661   1.792     1.44          1   \n",
      "\n",
      "   planet?  \n",
      "0     conf  \n",
      "1     conf  \n",
      "2     cand  \n",
      "3     conf  \n",
      "4     cand  \n",
      "..     ...  \n",
      "15    cand  \n",
      "16    conf  \n",
      "17    conf  \n",
      "18    conf  \n",
      "19    conf  \n",
      "\n",
      "[20 rows x 9 columns]\n",
      "316\n"
     ]
    }
   ],
   "source": [
    "# check that pl_pnums > 1 come from the same star\n",
    "print(positives_kepler[['iso_mass', 'mass', 'iso_teff', 'teff', 'iso_rad',\n",
    "                        'radius', 'iso_age', 'koi_count', 'planet?']].head(n=20))\n",
    "# 'st_metfe', 'gmag', 'st_optmag', 'kmag',\n",
    "print(len(positives_kepler.kepid.unique()))"
   ]
  },
  {
   "cell_type": "markdown",
   "metadata": {},
   "source": [
    "### CDPP"
   ]
  },
  {
   "cell_type": "markdown",
   "metadata": {},
   "source": [
    "Characterize the noise between young and old stars with multiple CDPPs. Data from http://archive.stsci.edu/pub/kepler/catalogs/"
   ]
  },
  {
   "cell_type": "code",
   "execution_count": 102,
   "metadata": {},
   "outputs": [
    {
     "name": "stdout",
     "output_type": "stream",
     "text": [
      "200038\n",
      "    kepid           tm_designation  teff  teff_err1  teff_err2  ...  \\\n",
      "0  757076  2MASS J19240929+3635532  5160      171.0     -156.0  ...   \n",
      "1  757099  2MASS J19241033+3635377  5519      182.0     -149.0  ...   \n",
      "2  757137  2MASS J19241341+3633358  4706       74.0     -102.0  ...   \n",
      "3  757280  2MASS J19242289+3633538  6543      162.0     -194.0  ...   \n",
      "4  757450  2MASS J19243302+3634385  5332      106.0      -96.0  ...   \n",
      "\n",
      "   timeout12p5  timeout15p0  timeoutsumry  cdppslplong  cdppslpshrt  \n",
      "0          0.0          0.0           1.0     -0.33009     -0.41285  \n",
      "1          1.0          0.0           0.0     -0.25653     -0.18629  \n",
      "2          1.0          1.0           0.0      0.22699      0.67461  \n",
      "3          0.0          0.0           1.0     -0.10948     -0.37236  \n",
      "4          0.0          0.0           1.0     -0.11868     -0.48642  \n",
      "\n",
      "[5 rows x 95 columns]\n"
     ]
    }
   ],
   "source": [
    "path = '/Users/chris/Desktop/sculpting/crossmatch_fun/'\n",
    "kepler_stellar = pd.read_csv(path+'kepler_stellar_17.csv')\n",
    "print(len(kepler_stellar))\n",
    "print(kepler_stellar.head())"
   ]
  },
  {
   "cell_type": "code",
   "execution_count": 104,
   "metadata": {},
   "outputs": [
    {
     "name": "stdout",
     "output_type": "stream",
     "text": [
      "408\n"
     ]
    }
   ],
   "source": [
    "kepler_stellar_enriched = pd.merge(kepler_stellar, positives_kepler, how='inner', left_on='kepid', right_on='kepid')\n",
    "print(len(kepler_stellar_enriched))"
   ]
  },
  {
   "cell_type": "markdown",
   "metadata": {},
   "source": [
    "### Read out crossmatched data as pnum.csv"
   ]
  },
  {
   "cell_type": "code",
   "execution_count": 122,
   "metadata": {},
   "outputs": [],
   "source": [
    "# planet multiplicity\n",
    "kepler_stellar_enriched.to_csv('pnum_plus_cands.csv', index=False)"
   ]
  },
  {
   "cell_type": "markdown",
   "metadata": {},
   "source": [
    "### Wait, why was there 900 planets before joining with NASA Exoplanets Archive? "
   ]
  },
  {
   "cell_type": "code",
   "execution_count": 121,
   "metadata": {},
   "outputs": [
    {
     "name": "stdout",
     "output_type": "stream",
     "text": [
      "316\n",
      "980\n",
      "{5308419, 6103049, 8904714, 6463499, 11188249, 6129694, 9115681, 10004515, 5021732, 7919653, 6117415, 6774826, 10268714, 6965293, 7598128, 4464689, 9533489, 6707260, 8243263, 5122112, 8263752, 9850957, 6846544, 3766353, 4374610, 1572948, 11673686, 9101400, 9240664, 3336283, 9973855, 10877024, 1724513, 7700578, 8046689, 9048161, 9777256, 10356840, 10936427, 5273713, 4544628, 6781047, 9965691, 11819135, 10033279, 9711751, 5218441, 5982353, 5779606, 6766748, 7198881, 7989422, 6148271, 9474222, 9474232, 5443775, 9945280, 7841986, 10518725, 11763910, 3248332, 11466960, 6629588, 3240159, 6066403, 5185765, 9289960, 9205993, 4073707, 6066416, 8042747, 5271803, 8440062, 3342592, 6387969, 4073730, 10275074, 5480736, 2859299, 7362852, 9957668, 10352938, 10385708, 7377200, 10031409, 2162994, 2576692, 9906489, 6543674, 8773948, 9300285, 10338624, 6543683, 11569475, 5949765, 8380743, 4165960, 8524110, 6523216, 8690001, 8042835, 9959765, 8016214, 4649305, 6947164, 11774303, 5306720, 7770471, 11295085, 5302643, 3762553, 1433980, 9898364, 5020034, 12216706, 8264070, 8739209, 9535881, 5026187, 5020044, 7741837, 9652632, 8784288, 3858851, 5812648, 6363560, 9394601, 10815916, 3973549, 9042357, 3439031, 7379385, 5263802, 7137725, 3746248, 9953736, 9728465, 3953106, 9673173, 9142742, 10320341, 6277594, 8423903, 8153568, 9767392, 10920420, 7045605, 5392871, 6877673, 5622250, 8149484, 3858926, 5306862, 5036530, 8098300, 11100670, 5560830, 6048255, 7137798, 2570767, 8129042, 8581658, 4950557, 8378922, 8630840, 8524346, 12257851, 4252226, 5556804, 9278021, 9159242, 4366923, 8878681, 8700506, 9108058, 9777757, 5288543, 10736223, 2720354, 5384802, 8579684, 8823397, 9818732, 1868404, 5024372, 11401845, 6230649, 4665989, 8110733, 3836558, 8700558, 6421137, 8757910, 5386904, 8260269, 9099950, 6877871, 8639155, 1571511, 9579192, 11076279, 10676923, 12268220, 5024450, 4729553, 8098515, 9532117, 6531801, 1161949, 8508126, 1293031, 5700330, 2708203, 4281068, 4059887, 10226420, 2573056, 7885570, 5128966, 1725193, 4449034, 2568971, 5534476, 5632781, 7959310, 9304842, 10730250, 5962514, 6677267, 10556180, 11817750, 8977176, 9071386, 7967517, 12833566, 1430305, 8123170, 4848423, 3541800, 4164393, 5444392, 9216810, 9030447, 7336754, 7369523, 8733497, 4670267, 5894972, 2452289, 5966660, 11027270, 7846730, 8233802, 7050060, 5213005, 7281484, 8868686, 2308957, 3941219, 10296163, 3560301, 8377197, 1297263, 10322797, 3230578, 6065010, 9343862, 7768952, 10095484, 5389184, 8758161, 7033748, 7799701, 9163674, 5471141, 5036966, 8164262, 8098728, 5649325, 7838639, 9630640, 5440435, 7031732, 3965879, 5125048, 3851193, 9053112, 10214328, 3130300, 6792124, 1575873, 9489348, 4832197, 5903301, 3867593, 5536715, 9368524, 2161623, 5471192, 6878167, 9821151, 2452450, 2554853, 4070376, 6421483, 8240109, 5534702, 7107567, 6198256, 6153201, 7541746, 2853889, 5893123, 6718474, 4647949, 5989391, 7203858, 6939670, 5039129, 9849884, 7105574, 5471271, 6390824, 5565486, 5391407, 5172274, 4058169, 8719419, 4469825, 10601538, 3230787, 3228740, 5823557, 10155080, 9178185, 7677005, 9851983, 4932691, 7695445, 5254230, 8823893, 7777372, 10646620, 6206559, 6386784, 7220322, 9528420, 9079915, 10601579, 7830637, 4144238, 9528430, 5983348, 7777397, 11285625, 9180282, 9655419, 9282687, 3869825, 4365442, 10583181, 5297298, 9243795, 4365461, 7115925, 9874581, 8565912, 3228825, 10026136, 10491031, 11607193, 11519134, 6364327, 6804648, 8780968, 11287726, 8821936, 6145201, 6775985, 8559796, 5307574, 6956216, 3247294, 10063044, 9964748, 6182093, 9899216, 5817553, 5108946, 9282769, 3337432, 4484312, 10208477, 5385439, 11826400, 2305255, 7449844, 5534965, 8559863, 10079481, 8381693, 5471489, 6470917, 8572168, 10937609, 7464205, 11463950, 6362386, 5473556, 9221398, 6206751, 7900450, 8193315, 3247396, 9479460, 10407210, 6610219, 12506417, 10427700, 10480952, 10155321, 11724091, 10253638, 4826439, 11558217, 6468938, 7122259, 5991765, 4814168, 2305372, 3347807, 3757407, 8613218, 8521059, 11603298, 8308070, 6231401, 4840818, 11029877, 5479802, 7282042, 8095099, 10552700, 7132542, 8742270, 5090690, 3442054, 9692557, 8506766, 9092496, 6974867, 9180566, 4076952, 3231137, 5041569, 7368103, 2987433, 5649833, 6069674, 7622059, 6778289, 8553907, 4937140, 2713018, 3747262, 4445630, 3857860, 5977541, 8265156, 5471690, 11560397, 7898576, 8953296, 8398290, 5215700, 8429014, 3548639, 10593759, 7601633, 4761060, 6233573, 6438379, 8687088, 10659313, 11240948, 8039925, 8646141, 2696703, 7902719, 4931073, 7050754, 8703491, 7435780, 9963009, 10794509, 8703506, 3757590, 8265239, 7138841, 9172506, 12164634, 10284575, 7009828, 5479973, 8308260, 10544677, 8556077, 5621299, 8074805, 11152950, 4138557, 9532997, 2711114, 8953426, 8519253, 10419797, 2141783, 8316503, 9451096, 10399321, 10909274, 8007262, 6311520, 6721123, 8713828, 7779942, 9291368, 12004971, 9344623, 5213811, 7837302, 6545018, 6952570, 8109692, 4458109, 6448768, 4073089, 7458433, 3749508, 8957572, 5961350, 7597703, 3335816, 8963721, 8058507, 5879448, 10342041, 6805146, 3655326, 9549472, 4677282, 8218274, 5688997, 9119405, 7212722, 3446451, 10489525, 5201593, 7552701, 4255422, 8507073, 9635529, 7821010, 6311637, 9455322, 5768927, 3831523, 10735331, 11071207, 4284147, 5302006, 2860793, 8027902, 5091075, 9658118, 4863753, 9471755, 4839180, 9613070, 2014991, 9834257, 5992210, 11456279, 9277210, 10118942, 6629156, 2015013, 4861736, 11087662, 8111919, 11913012, 6606653, 9307966, 4374339, 9674564, 2576197, 2973509, 7970629, 8056651, 2445134, 8445775, 9658192, 7108433, 7837526, 8914779, 6149980, 4069213, 8955741, 5078879, 2576224, 3645282, 6721380, 5095269, 8429415, 4913000, 2998124, 4159347, 8257407, 10518399, 7106437, 6035335, 8429450, 8112013, 8230809, 7919516, 5529501, 10581918, 11200415, 8509346, 5437348, 8845221, 6041511, 3866536, 7972785, 8314801, 6137779, 8509361, 6451125, 4587448, 7137213, 9777089, 9652166, 7970760, 11769801, 10801100, 6545358, 12691412, 4669402, 6864859, 10352603, 8757213, 9353182, 9101279, 5308387, 8695779, 10139620, 6383595, 6612973, 1026032, 3117046, 3962872, 5111801, 10616829, 8429566}\n"
     ]
    }
   ],
   "source": [
    "ds1 = set(kepler_stellar_enriched.kepid)\n",
    "ds2 = set(crossmatch.loc[crossmatch['planet?'] != 'none'].kepid)\n",
    "print(len(ds1))\n",
    "print(len(ds2))\n",
    "print(ds2.difference(ds1))"
   ]
  },
  {
   "cell_type": "markdown",
   "metadata": {},
   "source": [
    "Plugged a few of these into MAST and they were all false positives. Then did the same for the kepler_stellar_enriched kepids and they were all planets. Looks like the Bedell cross-match was just out of date?"
   ]
  },
  {
   "cell_type": "code",
   "execution_count": null,
   "metadata": {},
   "outputs": [],
   "source": []
  }
 ],
 "metadata": {
  "kernelspec": {
   "display_name": "Python 3",
   "language": "python",
   "name": "python3"
  },
  "language_info": {
   "codemirror_mode": {
    "name": "ipython",
    "version": 3
   },
   "file_extension": ".py",
   "mimetype": "text/x-python",
   "name": "python",
   "nbconvert_exporter": "python",
   "pygments_lexer": "ipython3",
   "version": "3.9.1"
  }
 },
 "nbformat": 4,
 "nbformat_minor": 2
}
