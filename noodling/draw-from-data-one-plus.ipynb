{
 "cells": [
  {
   "cell_type": "code",
   "execution_count": 1,
   "metadata": {},
   "outputs": [
    {
     "data": {
      "text/plain": [
       "'3.9.1 (default, Dec 11 2020, 06:28:49) \\n[Clang 10.0.0 ]'"
      ]
     },
     "execution_count": 1,
     "metadata": {},
     "output_type": "execute_result"
    }
   ],
   "source": [
    "import sys\n",
    "sys.version"
   ]
  },
  {
   "cell_type": "code",
   "execution_count": 2,
   "metadata": {},
   "outputs": [],
   "source": [
    "import json\n",
    "import sys\n",
    "import numpy as np\n",
    "from numpy import log, exp, pi\n",
    "import pandas as pd\n",
    "import scipy\n",
    "import scipy.stats as stats\n",
    "import random\n",
    "from scipy.stats import gaussian_kde, loguniform\n",
    "from math import lgamma\n",
    "from glob import glob\n",
    "import os\n",
    "#import seaborn as sns\n",
    "import matplotlib as mpl\n",
    "import matplotlib.pyplot as plt\n",
    "%matplotlib inline\n",
    "\n",
    "path = '/Users/chris/Desktop/sculpting/'"
   ]
  },
  {
   "cell_type": "markdown",
   "metadata": {},
   "source": [
    "Use Kepler Berger et al 2020 data crossmatched with Gaia courtesy of Bedell's gaia-kepler.fun to read in resulting transit multiplicity, as well as stellar radius KDE so that that parameter can be drawn from a somewhat informed distribution. "
   ]
  },
  {
   "cell_type": "code",
   "execution_count": 3,
   "metadata": {},
   "outputs": [
    {
     "name": "stdout",
     "output_type": "stream",
     "text": [
      "19969\n",
      "    kepid           tm_designation  teff  teff_err1  teff_err2   logg  \\\n",
      "0  757280  2MASS J19242289+3633538  6543      162.0     -194.0  4.082   \n",
      "1  892667  2MASS J19243045+3637186  6609      159.0     -227.0  4.105   \n",
      "2  892678  2MASS J19243108+3638316  6137      167.0     -186.0  3.936   \n",
      "3  892713  2MASS J19243353+3637220  6106      186.0     -186.0  3.854   \n",
      "4  892828  2MASS J19243904+3637166  6691      188.0     -235.0  4.134   \n",
      "\n",
      "   logg_err1  logg_err2  feh_x  feh_err1  ...  parallax  parallax_err  feh_y  \\\n",
      "0      0.258     -0.172  -0.24      0.25  ...    1.2137        0.0220    NaN   \n",
      "1      0.246     -0.164  -0.26      0.25  ...    0.8512        0.0154    NaN   \n",
      "2      0.428     -0.143  -0.26      0.30  ...    1.0236        0.0259    NaN   \n",
      "3      0.496     -0.124  -0.24      0.30  ...    0.9602        0.0231    NaN   \n",
      "4      0.209     -0.171  -0.26      0.25  ...    0.9660        0.0143    NaN   \n",
      "\n",
      "   feh_err    RUWE  num_gaia_companions  Kmag_final_prov  evstate      logR  \\\n",
      "0      NaN  0.8704                    0              NaN      NaN  0.416641   \n",
      "1      NaN  0.8674                    0              NaN      NaN  0.337060   \n",
      "2      NaN  0.9852                    1       BinaryCorr      NaN  0.529174   \n",
      "3      NaN  0.9872                    1       BinaryCorr      NaN  0.561578   \n",
      "4      NaN  1.0867                    1       BinaryCorr      NaN  0.273001   \n",
      "\n",
      "   is_giant  \n",
      "0     False  \n",
      "1     False  \n",
      "2     False  \n",
      "3     False  \n",
      "4     False  \n",
      "\n",
      "[5 rows x 141 columns]\n"
     ]
    },
    {
     "name": "stderr",
     "output_type": "stream",
     "text": [
      "/Users/chris/anaconda2/envs/sculpting/lib/python3.9/site-packages/IPython/core/interactiveshell.py:3146: DtypeWarning: Columns (138) have mixed types.Specify dtype option on import or set low_memory=False.\n",
      "  has_raised = await self.run_ast_nodes(code_ast.body, cell_name,\n"
     ]
    }
   ],
   "source": [
    "berger_kepler = pd.read_csv('berger_kepler_stellar17.csv') # crossmatched with Gaia via Bedell\n",
    "print(len(berger_kepler))\n",
    "print(berger_kepler.head())"
   ]
  },
  {
   "cell_type": "code",
   "execution_count": null,
   "metadata": {},
   "outputs": [],
   "source": [
    "# transit multiplicity from Kepler/Gaia Berger et al 2020/Bedell to compare our models against\n",
    "pnum = pd.read_csv(path+'pnum.csv')\n",
    "k = pnum.pl_pnum.value_counts() \n",
    "k = pd.Series([len(berger_kepler)-np.sum(k), 89, 30, 21, 16, 5]) # compact multi rate with 7%\n",
    "print(k)\n"
   ]
  },
  {
   "cell_type": "code",
   "execution_count": 4,
   "metadata": {},
   "outputs": [
    {
     "name": "stdout",
     "output_type": "stream",
     "text": [
      "408\n",
      "316\n",
      "0    19653\n",
      "1      244\n",
      "2       51\n",
      "3       12\n",
      "4        8\n",
      "5        1\n",
      "dtype: int64\n"
     ]
    }
   ],
   "source": [
    "# transit multiplicity from Kepler/Gaia Berger et al 2020, plus Bedell, plus Exoplanet Archive\n",
    "# see isolate_with_bedell.ipynb\n",
    "pnum = pd.read_csv(path+'pnum_plus_cands.csv')\n",
    "print(len(pnum))\n",
    "pnum = pnum.drop_duplicates(['kepid'])\n",
    "print(len(pnum))\n",
    "k = pnum.koi_count.value_counts() \n",
    "k = pd.Series([len(berger_kepler)-np.sum(k), 244, 51, 12, 8, 1]) \n",
    "print(k)"
   ]
  },
  {
   "cell_type": "code",
   "execution_count": 5,
   "metadata": {},
   "outputs": [
    {
     "data": {
      "image/png": "[encoded data removed]",
      "text/plain": [
       "<Figure size 432x288 with 2 Axes>"
      ]
     },
     "metadata": {
      "needs_background": "light"
     },
     "output_type": "display_data"
    },
    {
     "name": "stdout",
     "output_type": "stream",
     "text": [
      "[1.75316316 1.4856957  1.40211211 ... 1.66957958 1.62778779 3.03199199]\n"
     ]
    }
   ],
   "source": [
    "# courtesy of https://stackoverflow.com/questions/17821458/random-number-from-histogram\n",
    "\n",
    "def generate_rand_from_pdf(pdf, x_grid, n):\n",
    "    cdf = np.cumsum(pdf) # create cdf\n",
    "    cdf = cdf / cdf[-1] # normalize cdf\n",
    "    values = np.random.rand(n) \n",
    "    value_bins = np.searchsorted(cdf, values) # return positions in cdf vector where random values should go\n",
    "    random_from_cdf = x_grid[value_bins] # select x_d positions based on these random positions\n",
    "    return random_from_cdf\n",
    "\n",
    "def kde(x, x_grid, bandwidth):\n",
    "    \"\"\"Kernel Density Estimation with Scipy\"\"\"\n",
    "    #kde = gaussian_kde(x, bw_method=bandwidth / x.std(ddof=0)) # ddof=1 means std divisor is N-1 instead of N\n",
    "    #kde = gaussian_kde(x, bw_method=np.power(len(x), -0.2)) # ddof=1 means std divisor is N-1 instead of N\n",
    "    kde = gaussian_kde(x, bw_method=0.15) # constant bandwidth so imbalance in sample size doesn't drive distribution\n",
    "    #print(bandwidth/x.std(ddof=1)) # this is bw used in S/O\n",
    "    #print(np.power(len(x), -0.2)) # the bw if I use Scott's factor as the bw to multiply with covariance matrix\n",
    "    return kde.evaluate(x_grid)\n",
    "\n",
    "#kdepdf = kde(x, x_d, bandwidth=0.1) # generate KDE model\n",
    "#random_from_kde = generate_rand_from_pdf(kdepdf, x_d) # generate random data from KDE distribution\n",
    "\n",
    "nbins = 20\n",
    "def run_kde(data, draws):\n",
    "    hist, bins = np.histogram(data, bins=100)\n",
    "\n",
    "    x_grid = np.linspace(min(data), max(data), 1000)\n",
    "    kdepdf = kde(data, x_grid, bandwidth=0.2) # generate KDE model\n",
    "    random_from_kde = generate_rand_from_pdf(kdepdf, x_grid, draws) # generate random data from KDE distribution\n",
    "    #print(len(random_from_kde), random_from_kde) # these are my star ages\n",
    "    bin_midpoints = bins[:-1] + np.diff(bins) / 2 # get positions of bin midpoints\n",
    "    random_from_cdf = generate_rand_from_pdf(hist, bin_midpoints, draws) # generate random data from the histogram\n",
    "\n",
    "    plt.subplot(121)\n",
    "    plt.hist(data, nbins, density=True, alpha=0.5, label='hist') # plot histogram of normalized data\n",
    "    plt.plot(x_grid, kdepdf, color='r', alpha=0.5, lw=3, label='kde') # plot KDE over normalized histogram\n",
    "    plt.legend()\n",
    "    plt.subplot(122)\n",
    "    plt.hist(random_from_cdf, nbins, alpha=0.5, label='from hist') # plot histogram of data drawn from OG histogram\n",
    "    plt.hist(random_from_kde, nbins, alpha=0.5, label='from kde') # plot histogram of data drawn from KDE\n",
    "    plt.legend()\n",
    "    plt.show()\n",
    "    return random_from_kde, random_from_cdf\n",
    "    \n",
    "stars_age1_kde, stars_radius_cdf = run_kde(berger_kepler.iso_age, len(berger_kepler))\n",
    "print(stars_age1_kde)"
   ]
  },
  {
   "cell_type": "markdown",
   "metadata": {},
   "source": [
    "Define key functions for simulations and pymultinest"
   ]
  },
  {
   "cell_type": "code",
   "execution_count": 6,
   "metadata": {},
   "outputs": [],
   "source": [
    "def transit_duration(P, r_star, r_planet, b, a, inc): # Winn 2011 Eqn 14\n",
    "    arg1 = np.sqrt((1+(r_planet/r_star))**2 - b**2)\n",
    "    print(\"arg1: \", arg1)\n",
    "    arg2 = (r_star / np.array(a)) * (arg1 / np.sin(np.pi/2 - np.array(inc))) # was sin(i) but need to adjust for different index\n",
    "    print(\"arg2: \", arg2)\n",
    "    return (np.array(P) / np.pi) * np.arcsin(arg2)\n",
    "\n",
    "def transit_duration_paw(P, r_star, r_planet, b, a, inc): \n",
    "    # https://www.paulanthonywilson.com/exoplanets/exoplanet-detection-techniques/the-exoplanet-transit-method/\n",
    "    arg1 = np.sqrt((1+(r_planet/r_star))**2 - b**2)\n",
    "    arg2 = (r_star / a) * arg1 # the only difference is I don't divide by sin(i)\n",
    "    return (P / np.pi) * np.arcsin(arg2)\n",
    "    \n",
    "def transit_duration_normalized_fab(P, r_star, r_planet, b): # Fabrycky 2012 unnamed eqn at the end of pg 8\n",
    "    arg1 = np.sqrt((1+(r_planet/r_star))**2 - b**2)\n",
    "    return 2 * arg1 * r_star / (P**(-1./3))\n",
    "    \n",
    "def calculate_xi(tdur1, tdur2, P1, P2): # Fabrycky 2012 Eqn 1\n",
    "    arg1 = tdur1/(P1**(1./3))\n",
    "    arg2 = tdur2/(P2**(1./3))\n",
    "    return arg1 / arg2\n",
    "\n",
    "def day_to_year(per):\n",
    "    return per/365.24 \n",
    "\n",
    "def solar_radius_to_au(radius):\n",
    "    return 0.00465047*radius\n",
    "\n",
    "def au_to_solar_radius(au):\n",
    "    return 215.032*au\n",
    "\n",
    "def earth_radius_to_au(radius):\n",
    "    return 4.26352e-5*radius\n",
    "\n",
    "def sim_transits_old(r_star, num_planets, mu, sigma, r_planet, age_star):\n",
    "    \"\"\"\n",
    "    In a loop of stellar radii: draw number of planets and their periods, draw midplane for the system, \n",
    "    draw inclination from the midplane for each planet, convert period to a, calculate impact parameter b, \n",
    "    calculate transit duration, calculate normalized transit duration xi (aka mutual inclination proxy),\n",
    "    classify each planet as transiting or not\n",
    "    \n",
    "    Parameters\n",
    "    ----------\n",
    "    r_star: radius of the star\n",
    "    num_planets: number of planets sampled based on stellar age check\n",
    "    mu: planetary disk midplane in radians\n",
    "    sigma: sigma used in drawing planet inclinations from around the midplane\n",
    "    r_planet: radius of the planet\n",
    "    age_star: age of the star\n",
    "    \n",
    "    Returns\n",
    "    -------\n",
    "    None: populates a bunch of different lists set up before the loop in which function is called,\n",
    "    including those for inclination, period, semi-major axis, impact parameter, and transit duration\n",
    "    \n",
    "    \"\"\"\n",
    "    \n",
    "    # draw planet periods from loguniform distribution according to num_planets\n",
    "    planet_per_case2 = list(loguniform.rvs(2, 300, size=num_planets)) \n",
    "    planets_per_case2.append(planet_per_case2) \n",
    "\n",
    "    # inclinations for impact parameter formula\n",
    "    inclination = list(np.random.normal(mu, sigma, num_planets)) # need this for later\n",
    "    inclinations.append(inclination) \n",
    "    inclinations_degrees.append([inc*180/np.pi for inc in inclination]) \n",
    "\n",
    "    # semi-major axes based on Kepler's Third Law\n",
    "    planet_a_case2 = [day_to_year(ppc2)**(2./3) for ppc2 in planet_per_case2]\n",
    "    planets_a_case2.append(planet_a_case2) \n",
    "    \n",
    "    # calculate impact parameters\n",
    "    b = (planet_a_case2 * np.sin(inclination))/r_star\n",
    "    impact_parameters.append(list(b))\n",
    "\n",
    "    # calculate transit durations using Winn 2011 formula\n",
    "    tdur = transit_duration([day_to_year(ppc2) for ppc2 in planet_per_case2], solar_radius_to_au(r_star), \n",
    "                            earth_radius_to_au(r_planet), b, planet_a_case2, inclination)\n",
    "    \n",
    "    \"\"\"\n",
    "    ### calculate xi for the system\n",
    "    # periods and tdurs already match, so divide them to get normalized tdurs\n",
    "    tdur_normalized = tdur/(day_to_year(planet_per_case2)**(1./3))\n",
    "\n",
    "    # make sure I keep info on which tdur_normalized corresponds with which planet\n",
    "    temp = pd.DataFrame({'period': planet_per_case2, 'tdur_normalized': tdur_normalized})\n",
    "    temp = temp.dropna()\n",
    "\n",
    "    # guarantee that xi will always have normalized transit durations of inner planet in numerator \n",
    "    temp = temp.sort_values(by='period') \n",
    "    #print(temp)\n",
    "    tdur_normalized_combos = list(itertools.combinations(temp.tdur_normalized,2))\n",
    "    #print(\"combos: \", tdur_normalized_combos)\n",
    "\n",
    "    for combo in tdur_normalized_combos:\n",
    "        xi.append(combo[0]/combo[1])\n",
    "        if age_star <= 1.:\n",
    "            xi_young.append(combo[0]/combo[1])\n",
    "        elif age_star > 1:\n",
    "            xi_old.append(combo[0]/combo[1])\n",
    "    \"\"\"\n",
    "\n",
    "    # note individual planets' transit status\n",
    "    transit_status.append([1 if np.abs(param) <= 1. else 0 for param in b])\n",
    "\n",
    "    # transit check based on impact parameters\n",
    "    transit_multiplicities.append(len([param for param in b if np.abs(param) <= 1.]))\n",
    "    \n",
    "def sim_transits(r_star, num_planets, mu, sigma, r_planet, age_star, planets_per_case2,\n",
    "    planets_a_case2, inclinations, inclinations_degrees, impact_parameters, transit_status,\n",
    "    transit_multiplicities, tdurs, jmags, cdpps, sns):\n",
    "    \"\"\"\n",
    "    In a loop of stellar radii: draw number of planets and their periods, draw midplane for the system, \n",
    "    draw inclination from the midplane for each planet, convert period to a, calculate impact parameter b, \n",
    "    calculate transit duration, calculate normalized transit duration xi (aka mutual inclination proxy),\n",
    "    classify each planet as transiting or not\n",
    "    \n",
    "    Parameters\n",
    "    ----------\n",
    "    r_star: radius of the star\n",
    "    num_planets: number of planets sampled based on stellar age check\n",
    "    mu: planetary disk midplane in radians\n",
    "    sigma: sigma used in drawing planet inclinations from around the midplane\n",
    "    r_planet: radius of the planet\n",
    "    age_star: age of the star\n",
    "\n",
    "    possible **kwargs are empty arrays:\n",
    "    planets_per_case2\n",
    "    inclinations\n",
    "    inclinations_degrees\n",
    "    planets_a_case2\n",
    "    impact_parameters\n",
    "    transit_status\n",
    "    transit_multiplicities\n",
    "    \n",
    "    Returns\n",
    "    -------\n",
    "    None: populates a bunch of different lists set up before the loop in which function is called,\n",
    "    including those for inclination, period, semi-major axis, impact parameter, transit duration,\n",
    "    transit status, transit multiplicity, and S/N\n",
    "    \n",
    "    \"\"\"\n",
    "\n",
    "    # draw planet periods from loguniform distribution according to num_planets\n",
    "    planet_per_case2 = list(loguniform.rvs(2, 300, size=num_planets)) \n",
    "    planets_per_case2.append(planet_per_case2) \n",
    "\n",
    "    # inclinations for impact parameter formula\n",
    "    inclination = list(np.random.normal(mu, sigma, num_planets)) # need this for later\n",
    "    inclinations.append(inclination) \n",
    "    inclinations_degrees.append([inc*180/np.pi for inc in inclination]) \n",
    "\n",
    "    # semi-major axes based on Kepler's Third Law\n",
    "    planet_a_case2 = [day_to_year(ppc2)**(2./3) for ppc2 in planet_per_case2]\n",
    "    planets_a_case2.append(planet_a_case2) \n",
    "    \n",
    "    # calculate impact parameters\n",
    "    b = (planet_a_case2 * np.sin(inclination))/r_star\n",
    "    impact_parameters.append(list(b))\n",
    "    \n",
    "    # note individual planets' transit status\n",
    "    transit_status.append([1 if np.abs(param) <= 1. else 0 for param in b])\n",
    "\n",
    "    # transit check based on impact parameters\n",
    "    transit_multiplicities.append(len([param for param in b if np.abs(param) <= 1.]))\n",
    "    \n",
    "    # calculate transit durations using Winn 2011 formula\n",
    "    tdur = transit_duration([day_to_year(ppc2) for ppc2 in planet_per_case2], solar_radius_to_au(r_star), \n",
    "                            solar_radius_to_au(r_planet), b, planet_a_case2, inclination)\n",
    "    tdurs.append(tdur)\n",
    "    \n",
    "    # draw jmags based on age-jmag relation, given age\n",
    "    jmag = build_and_sample_from_2dpdf(berger_kepler.iso_age, berger_kepler.jmag, age_star)\n",
    "    jmags.append(jmag)\n",
    "    \n",
    "    # draw 6-hr transit duration cdpp based on jmag-cdpp relation, given jmag that we just sampled\n",
    "    cdpp = build_and_sample_from_2dpdf(berger_kepler.jmag, berger_kepler.rrmscdpp06p0, jmag)\n",
    "    cdpps.append(cdpp)\n",
    "    \n",
    "    # calculate S/N using Christiansen et al 2012 Eqn 4\n",
    "    sn = calculate_sn([day_to_year(ppc2) for ppc2 in planet_per_case2], r_planet, r_star, cdpp, tdur)\n",
    "    sns.append(sn)\n",
    "    \n",
    "def calculate_sn(P, rp, rs, cdpp, tdur): # calculate S/N per planet using Eqn 4 in Christiansen et al 2012\n",
    "    tobs = 300 # days; time spanned observing the target; set to max period from logN sample space\n",
    "    f0 = 0.92 # fraction of time spent actually observing and not doing spacecraft things\n",
    "    tcdpp = 0.25 # days; using CDPP for 6 hour transit durations; could change to be more like Earth transiting Sun?\n",
    "    \n",
    "    factor1 = np.sqrt(tobs*f0/np.array(P))\n",
    "    delta = (rp/rs)**2\n",
    "    cdpp_eff = cdpp * np.sqrt(tcdpp/tdur)\n",
    "    factor2 = delta/cdpp_eff\n",
    "    sn = factor1 * factor2\n",
    "    return sn"
   ]
  },
  {
   "cell_type": "code",
   "execution_count": null,
   "metadata": {},
   "outputs": [],
   "source": [
    "calculate_sn(3, 0.1, 1, 0.001, 0.1) # realistic\n",
    "# 3 days, 0.1 rp/rs, CDPP of 1000, 2.4 hr transit"
   ]
  },
  {
   "cell_type": "code",
   "execution_count": 7,
   "metadata": {},
   "outputs": [],
   "source": [
    "def prior(cube, ndim, nparams):\n",
    "    \"\"\"\n",
    "    Scales unit hypercube sample to appropriate bounds in each dimension of hyperparam space\n",
    "    \"\"\"\n",
    "    cube[0] = cube[0]-1 # from -1 to 0\n",
    "    cube[1] = cube[1]*10 # from 0 to 10\n",
    "    print(cube)\n",
    "\n",
    "def prior_grid(cube, ndim, nparams, gi_m, gi_b):\n",
    "    \"\"\"\n",
    "    Each model run will use an evenly spaced (m,b) tuple on a discrete 11x11 grid\n",
    "    Does that ruin the point of multinest? Is it valid without random sampling? \n",
    "    Maybe so, but pymultinest keeps getting stuck, so I need to get a better sense of the logL surface.\n",
    "    gi_m: grid index on m axis\n",
    "    gi_b: grid index on b axis\n",
    "    \"\"\"\n",
    "    cube[0] = np.linspace(-1,0,11)[gi_m]\n",
    "    cube[1] = np.linspace(0,1,11)[gi_b]\n",
    "    return cube\n",
    "\n",
    "def model(cube):\n",
    "    \"\"\"\n",
    "    Take prior and make 20000 systems out of it\n",
    "    Params: cube is the 2D prior\n",
    "    Returns: tuple of transit multiplicities\n",
    "    \"\"\"\n",
    "    # retrieve prior\n",
    "    #print(cube)\n",
    "    m, b = cube[0], cube[1]\n",
    "    \n",
    "    star_index = []\n",
    "    midplanes = []\n",
    "    midplanes_degrees = []\n",
    "    inclinations = []\n",
    "    inclinations_degrees = []\n",
    "    planets_per_case2 = [] # maybe better to recreate it here b/c I can then generalize it for Case 2?\n",
    "    planets_a_case2 = []\n",
    "    star_radius = []\n",
    "    impact_parameters = []\n",
    "    transit_status = []\n",
    "    transit_multiplicities = []\n",
    "    tdurs = []\n",
    "    jmags = []\n",
    "    cdpps = []\n",
    "    sns = []\n",
    "    xi = []\n",
    "    xi_old = []\n",
    "    xi_young = []\n",
    "    \n",
    "    # draw 20000 systems\n",
    "    for i in range(len(stars_age1_kde)):\n",
    "        # star\n",
    "        star_index.append(i)\n",
    "        #r_star = stars_radius_kde[i] # nope\n",
    "        r_star = solar_radius_to_au(1.) # set to 1 solar radius\n",
    "        age_star = stars_age1_kde[i]\n",
    "        mu = list(np.random.uniform(-np.pi/2,np.pi/2,1)) # create midplane for star \n",
    "        midplanes.append(mu)\n",
    "        midplanes_degrees.append([mu_elt*180/np.pi for mu_elt in mu])\n",
    "        \n",
    "        # planet\n",
    "        r_planet = earth_radius_to_au(2.) # use two Earth radii; will make negligible difference\n",
    "        prob = m * age_star + b # calculate probability given age from sampled distribution\n",
    "        if prob < 0: # don't allow negative probabilities\n",
    "            prob = 0\n",
    "        intact_flag = np.random.choice(['intact', 'disrupted'], p=[prob, 1-prob])\n",
    "        if intact_flag == 'intact':\n",
    "            # young system has 5 or 6 planets\n",
    "            num_planets = random.choice([5, 6]) \n",
    "            sigma = np.pi/90 # 2 degrees, per Fig 6 in Fabrycky 2012\n",
    "            \n",
    "            # simulate transit-related characteristics for 5 or 6 planets\n",
    "            sim_transits(r_star, num_planets, mu, sigma, r_planet, age_star,\n",
    "                planets_per_case2 = planets_per_case2, planets_a_case2 = planets_a_case2, \n",
    "                inclinations = inclinations, inclinations_degrees = inclinations_degrees,\n",
    "                impact_parameters = impact_parameters, transit_status = transit_status, \n",
    "                transit_multiplicities = transit_multiplicities, tdurs = tdurs,\n",
    "                jmags = jmags, cdpps = cdpps, sns = sns)\n",
    "\n",
    "        elif intact_flag == 'disrupted':\n",
    "            # old system has 1 or 2 planets\n",
    "            num_planets = random.choice([1, 2]) \n",
    "            sigma = np.pi/22.5 # 8 degree disk plane inclination scatter\n",
    "            \n",
    "            # simulate transit-related characteristics for 1 or 2 planets\n",
    "            sim_transits(r_star, num_planets, mu, sigma, r_planet, age_star,\n",
    "                planets_per_case2 = planets_per_case2, planets_a_case2 = planets_a_case2, \n",
    "                inclinations = inclinations, inclinations_degrees = inclinations_degrees,\n",
    "                impact_parameters = impact_parameters, transit_status = transit_status, \n",
    "                transit_multiplicities = transit_multiplicities, tdurs = tdurs, \n",
    "                jmags = jmags, cdpps = cdpps, sns = sns)\n",
    "\n",
    "    midplanes = np.concatenate(midplanes, axis=0) # turn list of lists of one into regular list\n",
    "\n",
    "    transits_dict = {'star_ages': stars_age1_kde, 'planet_periods': planets_per_case2, \n",
    "                     'semi_major_axes': planets_a_case2, 'midplane': midplanes,\n",
    "                     'midplane_degrees': midplanes_degrees,\n",
    "                     'planet_inclinations': inclinations, 'planet_inclinations_degrees': inclinations_degrees,\n",
    "                     'impact_parameters': impact_parameters, 'transit_status': transit_status, \n",
    "                     'transit_multiplicity': transit_multiplicities, 'star_index': star_index,\n",
    "                    'y_intercept': b, 'slope': m, 'transit_duration': tdurs, 'jmags': jmags, \n",
    "                     '6hr_cdpp': cdpp, 'signal_noise': sns}\n",
    "\n",
    "    transits = pd.DataFrame(transits_dict)\n",
    "    transits.to_csv('sims/transits.csv')\n",
    "    \n",
    "    # calculate and return transit multiplicity for this set of systems, normalized against number of transiters from crossmatched data\n",
    "    # formerly normalized by 161 bc that was total of k; using 316 now that I'm including candidates too\n",
    "    lam = transits.loc[transits.transit_multiplicity > 0].transit_multiplicity.value_counts() * (np.sum(k)/len(transits.loc[transits.transit_multiplicity > 0]))\n",
    "    \n",
    "    return lam\n",
    "\n",
    "def loglike_old(cube, ndim, nparams):\n",
    "    \"\"\"\n",
    "    Poisson log likelihood from synthetic-posteriors.ipynb\n",
    "\n",
    "    Returns: Poisson log-likelihood\n",
    "    \"\"\"\n",
    "    lam = model(cube) # feed prior-normalized hypercube into model to generate transit multiplicities\n",
    "    print(\"MODEL: \", ymodel)\n",
    "    print(\"DATA: \", k) # from Berger et al 2020 crossmatched with Gaia via Bedell's kepler-gaia.fun\n",
    "    \n",
    "    term1 = np.sum(k * np.log(lam))\n",
    "    term2 = -np.sum(lam)\n",
    "    term3 = -np.sum([lgamma(kth + 1) for kth in k])\n",
    "    poisson_loglikelihood = term1 + term2 + term3\n",
    "    return poisson_loglikelihood\n",
    "\n",
    "def loglike(cube, ndim, nparams):\n",
    "    \"\"\"\n",
    "    Poisson log likelihood from synthetic-posteriors.ipynb\n",
    "\n",
    "    Returns: Poisson log-likelihood\n",
    "    \"\"\"\n",
    "\n",
    "    # retrieve prior cube and feed prior-normalized hypercube into model to generate transit multiplicities\n",
    "    lam = model(cube)\n",
    "    #print(\"MODEL: \", lam)\n",
    "    #print(\"DATA: \", k) # from Berger et al 2020 crossmatched with Gaia via Bedell's kepler-gaia.fun\n",
    "    \n",
    "    term1 = np.sum(k * np.log(lam))\n",
    "    term2 = -np.sum(lam)\n",
    "    term3 = -np.sum([lgamma(kth + 1) for kth in k])\n",
    "    poisson_loglikelihood = term1 + term2 + term3\n",
    "    #print(\"POISSON: \", poisson_loglikelihood)\n",
    "    return poisson_loglikelihood, lam\n",
    "\n",
    "def loglike_model_done(lam, ndim, nparams):\n",
    "    \"\"\"\n",
    "    Poisson log likelihood from synthetic-posteriors.ipynb\n",
    "\n",
    "    Returns: Poisson log-likelihood\n",
    "    \"\"\"\n",
    "    term1 = np.sum(k * np.log(lam))\n",
    "    print(\"TERM 1: \", term1)\n",
    "    term2 = -np.sum(lam)\n",
    "    term3 = -np.sum([lgamma(kth + 1) for kth in k]) # the more nonzero bins you have, the more this contributes\n",
    "    poisson_loglikelihood = term1 + term2 + term3\n",
    "    #print(\"POISSON: \", poisson_loglikelihood)\n",
    "    return poisson_loglikelihood\n",
    "    "
   ]
  },
  {
   "cell_type": "markdown",
   "metadata": {},
   "source": [
    "#### Test single-hyperparam-tuple case of model_direct_draw before calculating loglikelihoods"
   ]
  },
  {
   "cell_type": "code",
   "execution_count": 8,
   "metadata": {},
   "outputs": [],
   "source": [
    "def sim_transits_new(r_star, m_star, num_planets, mu, sigma, r_planet, age_star, planets_per_case2,\n",
    "    planets_a_case2, inclinations, inclinations_degrees, impact_parameters, transit_statuses,\n",
    "    transit_status1, transit_status2, transit_multiplicities, tdurs, cdpp, sns, prob_detections):\n",
    "    \"\"\"\n",
    "    In a loop through Kepler data, keep info on stellar radius, age, and CDPP. \n",
    "    But we sample number of planets and their periods, draw midplane for the system, \n",
    "    draw inclination from the midplane for each planet, convert period to a, calculate impact parameter b, \n",
    "    calculate transit duration, calculate normalized transit duration xi (aka mutual inclination proxy),\n",
    "    classify each planet as transiting or not\n",
    "    \n",
    "    Parameters\n",
    "    ----------\n",
    "    r_star: radius of the star in solar radii\n",
    "    m_star: mass of the star in solar masses\n",
    "    num_planets: number of planets sampled based on stellar age check\n",
    "    mu: planetary disk midplane in radians\n",
    "    sigma: sigma used in drawing planet inclinations from around the midplane; 2 degrees\n",
    "    r_planet: radius of the planet (not a variable for now; 2 R_Earth)\n",
    "    age_star: age of the star\n",
    "    cdpp: 6-hour CDPP of planet\n",
    "\n",
    "    possible **kwargs are empty arrays:\n",
    "    planets_per_case2\n",
    "    inclinations\n",
    "    inclinations_degrees\n",
    "    planets_a_case2\n",
    "    impact_parameters\n",
    "    transit_status\n",
    "    transit_multiplicities\n",
    "    tdurs\n",
    "    sns (signal noise ratios)\n",
    "    \n",
    "    Returns\n",
    "    -------\n",
    "    None: populates a bunch of different lists set up before the loop in which function is called,\n",
    "    including those for inclination, period, semi-major axis, impact parameter, transit duration,\n",
    "    transit status, transit multiplicity, S/N, and Fressin detection probabilities\n",
    "    \n",
    "    \"\"\"\n",
    "\n",
    "    # draw planet periods from loguniform distribution according to num_planets\n",
    "    planet_per_case2 = list(loguniform.rvs(2, 300, size=num_planets)) \n",
    "    planets_per_case2.append(planet_per_case2) \n",
    "\n",
    "    # inclinations for impact parameter formula\n",
    "    inclination = list(np.random.normal(mu, sigma, num_planets))\n",
    "    #print(\"mu and sigma: \", mu, sigma)\n",
    "    inclination = [np.pi/2 if inc_elt > np.pi/2 else inc_elt for inc_elt in inclination] # artificially impose bounds post-facto\n",
    "    inclination = [-np.pi/2 if inc_elt < -np.pi/2 else inc_elt for inc_elt in inclination] # lower bound\n",
    "    #print(\"i: \", inclination)\n",
    "    inclinations.append(inclination) \n",
    "    inclinations_degrees.append([inc*180/np.pi for inc in inclination]) \n",
    "\n",
    "    # semi-major axes based on Kepler's Third Law\n",
    "    #planet_a_case2 = [day_to_year(ppc2)**(2./3) for ppc2 in planet_per_case2]\n",
    "    #planet_a_case2 = [au_to_solar_radius(day_to_year(ppc2)**(2./3)) for ppc2 in planet_per_case2]\n",
    "    planet_a_case2 = [p_to_a(ppc2, m_star) for ppc2 in planet_per_case2] # in AU\n",
    "    planet_a_case2_solar_radius = [au_to_solar_radius(p_to_a(ppc2, m_star)) for ppc2 in planet_per_case2] # in solar radii\n",
    "    planets_a_case2.append(planet_a_case2) \n",
    "\n",
    "    # calculate impact parameters; distance units in solar radii\n",
    "    b = (planet_a_case2_solar_radius * np.sin(inclination))/r_star\n",
    "    impact_parameters.append(list(b))\n",
    "    \n",
    "    # note individual planets' *geometric* transit status; ignores S/N\n",
    "    ts1 = [1 if np.abs(param) <= 1. else 0 for param in b]\n",
    "    transit_status1.append(ts1)\n",
    "    \n",
    "    # calculate transit durations using Winn 2011 formula; same units as period\n",
    "    #print(\"period: \", planet_per_case2)\n",
    "    #print(\"b: \", b)\n",
    "    #print(\"semi-major axis: \", planet_a_case2)\n",
    "    #print(\"i: \", inclination)\n",
    "    tdur = transit_duration(planet_per_case2, solar_radius_to_au(r_star), \n",
    "                            earth_radius_to_au(r_planet), b, planet_a_case2, inclination) \n",
    "    #print(\"TDUR: \", tdur)\n",
    "    tdurs.append(tdur) # days\n",
    "    \n",
    "    # draw jmags based on age-jmag relation, given age\n",
    "    #jmag = build_and_sample_from_2dpdf(berger_kepler.iso_age, berger_kepler.jmag, age_star)\n",
    "    #jmags.append(jmag)\n",
    "    \n",
    "    # calculate S/N using Christiansen et al 2012 Eqn 4; input\n",
    "    sn = calculate_sn(planet_per_case2, r_planet, r_star, cdpp, tdur) # time units in days\n",
    "    sns.append(sn)\n",
    "    \n",
    "    # calculate Fressin detection probability based on S/N\n",
    "    #ts2 = [1 if sn_elt >= 7.1 else 0 for sn_elt in sn] # S/N threshold before Fressin et al 2013\n",
    "    prob_detection = np.array([0.1*(sn_elt-6) for sn_elt in sn]) # S/N threshold using Fressin et al 2013\n",
    "    prob_detection[np.isnan(prob_detection)] = 0 # replace NaNs with zeros\n",
    "    prob_detection = np.where(prob_detection < 0., 0., prob_detection) # replace negative probs with zeros\n",
    "    # actually, replace all probabilities under 5% with 5% to avoid over-penalizing models which terminate at 0% too early\n",
    "    prob_detection = np.where(prob_detection > 1, 1, prob_detection) # replace probs > 1 with just 1\n",
    "    prob_detections.append(prob_detection)\n",
    "    \n",
    "    # sample transit status based on Fressin detection probability\n",
    "    #transit_status = [ts1_elt * ts2_elt for ts1_elt, ts2_elt in zip(ts1, ts2)]\n",
    "    transit_status = [np.random.choice([1, 0], p=[pd, 1-pd]) for pd in prob_detection]\n",
    "    transit_statuses.append(transit_status)\n",
    "    \n",
    "    # transit check based on solely on impact parameters, ie. solely on geometry, not noise limit\n",
    "    transit_multiplicities.append(len([ts for ts in transit_status if ts == 1]))\n",
    "    #transit_multiplicities.append(len([param for param in b if np.abs(param) <= 1.]))\n",
    "\n",
    "def model_direct_draw(cube):\n",
    "    \"\"\"\n",
    "    Take prior and draw systems out of Kepler data \n",
    "    Params: n-dim hypercube prior\n",
    "    Returns: lambdas and simulated transit DataFrame\n",
    "    \"\"\"\n",
    "    # retrieve prior\n",
    "    #print(cube)\n",
    "    m, b = cube[0], cube[1]\n",
    "    \n",
    "    kepids = []\n",
    "    midplanes = []\n",
    "    midplanes_degrees = []\n",
    "    inclinations = []\n",
    "    inclinations_degrees = []\n",
    "    planets_per_case2 = [] # maybe better to recreate it here b/c I can then generalize it for Case 2?\n",
    "    planets_a_case2 = []\n",
    "    star_radius = []\n",
    "    star_mass = []\n",
    "    impact_parameters = []\n",
    "    transit_status1 = []\n",
    "    transit_status2 = []\n",
    "    transit_statuses = []\n",
    "    transit_multiplicities = []\n",
    "    tdurs = []\n",
    "    jmags = []\n",
    "    sns = []\n",
    "    prob_detections = []\n",
    "    xi = []\n",
    "    xi_old = []\n",
    "    xi_young = []\n",
    "    \n",
    "    # draw ~20000 systems\n",
    "    num_samples = 1000\n",
    "    for i in range(len(berger_kepler[0:num_samples])):\n",
    "    #for i in range(10):\n",
    "        # star\n",
    "        kepids.append(berger_kepler.kepid[i])\n",
    "        r_star = berger_kepler.iso_rad[i] # in solar radii\n",
    "        m_star = berger_kepler.iso_mass[i] # in solar masses\n",
    "        age_star = berger_kepler.iso_age[i]\n",
    "        mu = list(np.random.uniform(-np.pi/2,np.pi/2,1)) # create midplane for star \n",
    "        midplanes.append(mu)\n",
    "        midplanes_degrees.append([mu_elt*180/np.pi for mu_elt in mu])\n",
    "        cdpp = berger_kepler.rrmscdpp06p0[i] # don't convert from ppm to parts per unit\n",
    "\n",
    "        # planet\n",
    "        r_planet = 2. # use two Earth radii; will make negligible difference\n",
    "        prob = m * age_star + b # calculate probability given age from sampled distribution\n",
    "        if prob < 0.: # don't allow negative probabilities\n",
    "            prob = 0.\n",
    "        intact_flag = np.random.choice(['intact', 'disrupted'], p=[prob, 1-prob])\n",
    "        if intact_flag == 'intact':\n",
    "            # young system has 5 or 6 planets\n",
    "            num_planets = random.choice([5, 6]) \n",
    "            sigma = np.pi/90 # 2 degrees, per Fig 6 in Fabrycky 2012\n",
    "            \n",
    "            # simulate transit-related characteristics for 5 or 6 planets\n",
    "            sim_transits_new(r_star, m_star, num_planets, mu, sigma, r_planet, age_star, \n",
    "                             planets_per_case2 = planets_per_case2, planets_a_case2 = planets_a_case2, \n",
    "                             inclinations = inclinations, inclinations_degrees = inclinations_degrees,\n",
    "                             impact_parameters = impact_parameters, transit_statuses = transit_statuses, \n",
    "                             transit_status1 = transit_status1, transit_status2 = transit_status2, \n",
    "                             transit_multiplicities = transit_multiplicities, tdurs = tdurs,\n",
    "                             cdpp = cdpp, sns = sns, prob_detections = prob_detections)\n",
    "\n",
    "        elif intact_flag == 'disrupted':\n",
    "            # old system has 1 or 2 planets\n",
    "            num_planets = random.choice([1, 2]) \n",
    "            sigma = np.pi/22.5 # 8 degree disk plane inclination scatter\n",
    "            \n",
    "            # simulate transit-related characteristics for 1 or 2 planets\n",
    "            sim_transits_new(r_star, m_star, num_planets, mu, sigma, r_planet, age_star, \n",
    "                             planets_per_case2 = planets_per_case2, planets_a_case2 = planets_a_case2, \n",
    "                             inclinations = inclinations, inclinations_degrees = inclinations_degrees, \n",
    "                             impact_parameters = impact_parameters, transit_statuses = transit_statuses, \n",
    "                             transit_status1 = transit_status1, transit_status2 = transit_status2,\n",
    "                             transit_multiplicities = transit_multiplicities, tdurs = tdurs,\n",
    "                             cdpp = cdpp, sns = sns, prob_detections = prob_detections)\n",
    "\n",
    "    midplanes = np.concatenate(midplanes, axis=0) # turn list of lists of one into regular list\n",
    "\n",
    "    \"\"\"\n",
    "    transits_dict = {'star_ages': berger_kepler.iso_age, 'planet_periods': planets_per_case2, \n",
    "    'semi_major_axes': planets_a_case2, 'midplane': midplanes, 'midplane_degrees': midplanes_degrees,\n",
    "                     'planet_inclinations': inclinations, 'planet_inclinations_degrees': inclinations_degrees,\n",
    "                     'impact_parameters': impact_parameters, 'transit_status': transit_statuses, \n",
    "                     'transit_multiplicity': transit_multiplicities, 'kepid': kepids,\n",
    "                     'y_intercept': b, 'slope': m, 'transit_duration': tdurs, \n",
    "                     '6hr_cdpp': berger_kepler.rrmscdpp06p0, 'signal_noise': sns,\n",
    "                     'prob_detections': prob_detections}\n",
    "    \"\"\"\n",
    "    transits_dict = {'star_ages': berger_kepler.iso_age[0:num_samples], 'planet_periods': planets_per_case2[0:num_samples], \n",
    "    'semi_major_axes': planets_a_case2[0:num_samples], 'midplane': midplanes[0:num_samples], 'midplane_degrees': midplanes_degrees[0:num_samples],\n",
    "                     'planet_inclinations': inclinations[0:num_samples], 'planet_inclinations_degrees': inclinations_degrees[0:num_samples],\n",
    "                     'impact_parameters': impact_parameters[0:num_samples], 'transit_status': transit_statuses[0:num_samples], \n",
    "                     'transit_multiplicity': transit_multiplicities[0:num_samples], 'kepid': kepids[0:num_samples],\n",
    "                     'y_intercept': b, 'slope': m, 'transit_duration': tdurs[0:num_samples], \n",
    "                     '6hr_cdpp': berger_kepler.rrmscdpp06p0[0:num_samples], 'signal_noise': sns[0:num_samples],\n",
    "                     'prob_detections': prob_detections[0:num_samples]}\n",
    "\n",
    "    transits = pd.DataFrame(transits_dict)    \n",
    "    transits.to_csv('sims/transits_direct_draw.csv')\n",
    "    \n",
    "    # formerly normalized by total of k, but now I care about zero-counts, so no need to normalize anymore\n",
    "    lam = transits.transit_multiplicity.value_counts()\n",
    "    #print(lam)\n",
    "    \n",
    "    return lam, transits\n",
    "\n",
    "def loglike_direct_draw(cube, ndim, nparams, k):\n",
    "    \"\"\"\n",
    "    Poisson log likelihood from synthetic-posteriors.ipynb\n",
    "\n",
    "    Returns: Poisson log-likelihood\n",
    "    \"\"\"\n",
    "\n",
    "    # retrieve prior cube and feed prior-normalized hypercube into model to generate transit multiplicities\n",
    "    lam, _ = model_direct_draw(cube)\n",
    "    #print(\"MODEL: \", lam)\n",
    "    #print(\"DATA: \", k) # from Berger et al 2020 crossmatched with Gaia via Bedell's kepler-gaia.fun\n",
    "    \n",
    "    term1 = np.sum(k) * np.log(lam)\n",
    "    term2 = -np.sum(lam)\n",
    "    term3 = -np.sum([lgamma(kth + 1) for kth in k])\n",
    "    poisson_loglikelihood = term1 + term2 + term3\n",
    "    #print(\"POISSON: \", poisson_loglikelihood)\n",
    "    return poisson_loglikelihood, lam\n",
    "\n",
    "def transit_duration(P, r_star, r_planet, b, a, inc): # Winn 2011 Eqn 14\n",
    "    #print(P, r_star, r_planet, b, a, inc)\n",
    "    arg1 = np.sqrt((1+(r_planet/r_star))**2 - b**2)\n",
    "    #print(\"arg1: \", arg1)\n",
    "    arg2 = (r_star / np.array(a)) * (arg1 / np.sin(np.pi/2 - np.array(inc))) # was sin(i) but need to adjust for different index\n",
    "    #arg2 = (r_star / np.array(a)) * arg1\n",
    "    #print(\"arg2: \", arg2)\n",
    "    \n",
    "    return (np.array(P) / np.pi) * np.arcsin(arg2)\n",
    "\n",
    "def p_to_a(p, M):\n",
    "    # Newton's full version of Kepler's Third Law, assuming planet mass m --> 0\n",
    "    p = p*86400 # days to seconds\n",
    "    M = M*1.989e30 # solar mass to kg\n",
    "    a_in_meters = (((p**2) * 6.67e-11 * M)/(4*np.pi**2))**(1./3) # SI units in the house\n",
    "    a = a_in_meters/(1.496e11) # meters to AU\n",
    "    #print(p/86400, M/1.989e30, a)\n",
    "    return a # in AU\n",
    "\n",
    "def calculate_sn(P, rp, rs, cdpp, tdur): \n",
    "    \"\"\"\n",
    "    Calculate S/N per planet using Eqn 4 in Christiansen et al 2012: https://arxiv.org/pdf/1208.0595.pdf\n",
    "    \n",
    "    Params: P (days); rp (Earth radii); rs (Solar radii); cdpp (ppm); tdur (days)\n",
    "    \n",
    "    Returns: S/N\n",
    "    \"\"\"\n",
    "    tobs = 365*3.5 # days; time spanned observing the target; set to 3.5 years, or the length of Kepler mission\n",
    "    f0 = 0.92 # fraction of time spent actually observing and not doing spacecraft things\n",
    "    tcdpp = 0.25 # days; using CDPP for 6 hour transit durations; could change to be more like Earth transiting Sun?\n",
    "    rp = earth_radius_to_au(rp)\n",
    "    rs = solar_radius_to_au(rs)\n",
    "    #print(P, rp, rs, cdpp, tdur)\n",
    "    \n",
    "    factor1 = np.sqrt(tobs*f0/np.array(P)) # this is the number of transits\n",
    "    delta = 1e6*(rp/rs)**2 # convert from parts per unit to ppm\n",
    "    cdpp_eff = cdpp * np.sqrt(tcdpp/tdur)\n",
    "    factor2 = delta/cdpp_eff\n",
    "    sn = factor1 * factor2\n",
    "    #print(factor1, delta, cdpp_eff, sn)\n",
    "\n",
    "    return sn"
   ]
  },
  {
   "cell_type": "code",
   "execution_count": null,
   "metadata": {
    "scrolled": true
   },
   "outputs": [],
   "source": [
    "calculate_sn(365, 1, 1, 25, 0.5) # reasonable S/N for detecting Earth around the Sun"
   ]
  },
  {
   "cell_type": "code",
   "execution_count": null,
   "metadata": {},
   "outputs": [],
   "source": [
    "model_direct_draw([0., 0.7])"
   ]
  },
  {
   "cell_type": "code",
   "execution_count": null,
   "metadata": {},
   "outputs": [],
   "source": [
    "np.nanmean(transits.signal_noise.apply(pd.Series).stack())"
   ]
  },
  {
   "cell_type": "code",
   "execution_count": null,
   "metadata": {},
   "outputs": [],
   "source": [
    "transits"
   ]
  },
  {
   "cell_type": "markdown",
   "metadata": {},
   "source": [
    "Transit durations and S/Ns look reasonable to first order"
   ]
  },
  {
   "cell_type": "markdown",
   "metadata": {},
   "source": [
    "#### Run batteries of loglike_direct_draw"
   ]
  },
  {
   "cell_type": "code",
   "execution_count": null,
   "metadata": {},
   "outputs": [],
   "source": [
    "print(ms)\n",
    "print(bs)"
   ]
  },
  {
   "cell_type": "code",
   "execution_count": 15,
   "metadata": {},
   "outputs": [],
   "source": [
    "import csv\n",
    "from ast import literal_eval\n",
    "\n",
    "with open('direct/w_intact_fractions_scaled_up_model.csv','r') as csvfile:\n",
    "    read_csv = csv.reader(csvfile, delimiter='\\t')\n",
    "    read_csv=list(read_csv)\n",
    "\n",
    "df = pd.DataFrame(read_csv[1:], columns=read_csv[0])\n",
    "df.lams = df.lams.apply(literal_eval) # convert back from string to list of floats\n",
    "df.logLs = df.logLs.apply(literal_eval) # convert back from string to list of floats\n",
    "df.bs = df.bs.apply(literal_eval)\n",
    "df.ms = df.ms.apply(literal_eval)\n",
    "df.intact_fracs = df.intact_fracs.apply(literal_eval)\n",
    "logLs = df.logLs\n",
    "lams = df.lams"
   ]
  },
  {
   "cell_type": "code",
   "execution_count": 76,
   "metadata": {},
   "outputs": [],
   "source": [
    "### re-introduce nonzero-bin transit multiplicities\n",
    "df_lams_nonzero = []\n",
    "for x in df.lams:\n",
    "    df_lams_nonzero.append([y[1:] for y in x])\n",
    "df['lams_nonzero'] = df_lams_nonzero"
   ]
  },
  {
   "cell_type": "code",
   "execution_count": 26,
   "metadata": {},
   "outputs": [
    {
     "data": {
      "text/html": [
       "<div>\n",
       "<style scoped>\n",
       "    .dataframe tbody tr th:only-of-type {\n",
       "        vertical-align: middle;\n",
       "    }\n",
       "\n",
       "    .dataframe tbody tr th {\n",
       "        vertical-align: top;\n",
       "    }\n",
       "\n",
       "    .dataframe thead th {\n",
       "        text-align: right;\n",
       "    }\n",
       "</style>\n",
       "<table border=\"1\" class=\"dataframe\">\n",
       "  <thead>\n",
       "    <tr style=\"text-align: right;\">\n",
       "      <th></th>\n",
       "      <th>ms</th>\n",
       "      <th>bs</th>\n",
       "      <th>intact_fracs</th>\n",
       "      <th>logLs</th>\n",
       "      <th>lams</th>\n",
       "    </tr>\n",
       "  </thead>\n",
       "  <tbody>\n",
       "    <tr>\n",
       "      <th>0</th>\n",
       "      <td>-1.0</td>\n",
       "      <td>0.0</td>\n",
       "      <td>[0.0, 0.0, 0.0, 0.0, 0.0, 0.0, 0.0, 0.0, 0.0, ...</td>\n",
       "      <td>[-1660.6780548186732, -1483.6322421859165, -12...</td>\n",
       "      <td>[[682.9398, 43.931799999999996], [615.0452, 19...</td>\n",
       "    </tr>\n",
       "    <tr>\n",
       "      <th>1</th>\n",
       "      <td>-1.0</td>\n",
       "      <td>0.1</td>\n",
       "      <td>[0.0, 0.0, 0.0, 0.0, 0.0, 0.0, 0.0, 0.0, 0.0, ...</td>\n",
       "      <td>[-1318.48649408609, -1305.63540333253, -1544.2...</td>\n",
       "      <td>[[607.0576, 43.931799999999996], [607.0576, 51...</td>\n",
       "    </tr>\n",
       "    <tr>\n",
       "      <th>2</th>\n",
       "      <td>-1.0</td>\n",
       "      <td>0.2</td>\n",
       "      <td>[0.0, 0.0, 0.0, 0.0, 0.0, 0.0, 0.0, 0.0, 0.0, ...</td>\n",
       "      <td>[-1230.7374502099176, -1696.9563067777092, -15...</td>\n",
       "      <td>[[591.0824, 55.913199999999996], [694.9212, 59...</td>\n",
       "    </tr>\n",
       "    <tr>\n",
       "      <th>3</th>\n",
       "      <td>-1.0</td>\n",
       "      <td>0.3</td>\n",
       "      <td>[0.0, 0.0, 0.0, 0.0, 0.0, 0.0, 0.0002, 0.0, 0....</td>\n",
       "      <td>[-1327.8300050975547, -1645.405201093686, -166...</td>\n",
       "      <td>[[595.0762, 27.956599999999998], [650.98939999...</td>\n",
       "    </tr>\n",
       "    <tr>\n",
       "      <th>4</th>\n",
       "      <td>-1.0</td>\n",
       "      <td>0.4</td>\n",
       "      <td>[0.0004, 0.0002, 0.0006, 0.0004, 0.0006, 0.000...</td>\n",
       "      <td>[-1269.9354202848892, -1359.2108731195465, -15...</td>\n",
       "      <td>[[587.0885999999999, 31.9504], [607.0576, 31.9...</td>\n",
       "    </tr>\n",
       "    <tr>\n",
       "      <th>...</th>\n",
       "      <td>...</td>\n",
       "      <td>...</td>\n",
       "      <td>...</td>\n",
       "      <td>...</td>\n",
       "      <td>...</td>\n",
       "    </tr>\n",
       "    <tr>\n",
       "      <th>116</th>\n",
       "      <td>0.0</td>\n",
       "      <td>0.6</td>\n",
       "      <td>[0.6068, 0.603, 0.5998, 0.6004, 0.6098, 0.5972...</td>\n",
       "      <td>[381.5303902729245, 35.07696287078102, 829.538...</td>\n",
       "      <td>[[690.9273999999999, 311.5164, 95.851199999999...</td>\n",
       "    </tr>\n",
       "    <tr>\n",
       "      <th>117</th>\n",
       "      <td>0.0</td>\n",
       "      <td>0.7</td>\n",
       "      <td>[0.719, 0.709, 0.6976, 0.6954, 0.6994, 0.6946,...</td>\n",
       "      <td>[495.83583597974825, 115.49684562669131, 208.4...</td>\n",
       "      <td>[[646.9956, 275.5722, 139.783, 79.875999999999...</td>\n",
       "    </tr>\n",
       "    <tr>\n",
       "      <th>118</th>\n",
       "      <td>0.0</td>\n",
       "      <td>0.8</td>\n",
       "      <td>[0.8044, 0.793, 0.8, 0.8078, 0.7918, 0.8056, 0...</td>\n",
       "      <td>[983.4709109578059, 21.54040197786594, 424.355...</td>\n",
       "      <td>[[654.9832, 279.566, 115.8202, 87.863599999999...</td>\n",
       "    </tr>\n",
       "    <tr>\n",
       "      <th>119</th>\n",
       "      <td>0.0</td>\n",
       "      <td>0.9</td>\n",
       "      <td>[0.8958, 0.8998, 0.9046, 0.901, 0.904, 0.911, ...</td>\n",
       "      <td>[-97.19717678956317, 102.33939903072837, -108....</td>\n",
       "      <td>[[738.853, 335.4792, 183.7148, 55.913199999999...</td>\n",
       "    </tr>\n",
       "    <tr>\n",
       "      <th>120</th>\n",
       "      <td>0.0</td>\n",
       "      <td>1.0</td>\n",
       "      <td>[1.0, 1.0, 1.0, 1.0, 1.0, 1.0, 1.0, 1.0, 1.0, ...</td>\n",
       "      <td>[-211.57886621801958, -886.8562032815928, -62....</td>\n",
       "      <td>[[718.884, 359.442, 207.67759999999998, 63.900...</td>\n",
       "    </tr>\n",
       "  </tbody>\n",
       "</table>\n",
       "<p>121 rows × 5 columns</p>\n",
       "</div>"
      ],
      "text/plain": [
       "      ms   bs                                       intact_fracs  \\\n",
       "0   -1.0  0.0  [0.0, 0.0, 0.0, 0.0, 0.0, 0.0, 0.0, 0.0, 0.0, ...   \n",
       "1   -1.0  0.1  [0.0, 0.0, 0.0, 0.0, 0.0, 0.0, 0.0, 0.0, 0.0, ...   \n",
       "2   -1.0  0.2  [0.0, 0.0, 0.0, 0.0, 0.0, 0.0, 0.0, 0.0, 0.0, ...   \n",
       "3   -1.0  0.3  [0.0, 0.0, 0.0, 0.0, 0.0, 0.0, 0.0002, 0.0, 0....   \n",
       "4   -1.0  0.4  [0.0004, 0.0002, 0.0006, 0.0004, 0.0006, 0.000...   \n",
       "..   ...  ...                                                ...   \n",
       "116  0.0  0.6  [0.6068, 0.603, 0.5998, 0.6004, 0.6098, 0.5972...   \n",
       "117  0.0  0.7  [0.719, 0.709, 0.6976, 0.6954, 0.6994, 0.6946,...   \n",
       "118  0.0  0.8  [0.8044, 0.793, 0.8, 0.8078, 0.7918, 0.8056, 0...   \n",
       "119  0.0  0.9  [0.8958, 0.8998, 0.9046, 0.901, 0.904, 0.911, ...   \n",
       "120  0.0  1.0  [1.0, 1.0, 1.0, 1.0, 1.0, 1.0, 1.0, 1.0, 1.0, ...   \n",
       "\n",
       "                                                 logLs  \\\n",
       "0    [-1660.6780548186732, -1483.6322421859165, -12...   \n",
       "1    [-1318.48649408609, -1305.63540333253, -1544.2...   \n",
       "2    [-1230.7374502099176, -1696.9563067777092, -15...   \n",
       "3    [-1327.8300050975547, -1645.405201093686, -166...   \n",
       "4    [-1269.9354202848892, -1359.2108731195465, -15...   \n",
       "..                                                 ...   \n",
       "116  [381.5303902729245, 35.07696287078102, 829.538...   \n",
       "117  [495.83583597974825, 115.49684562669131, 208.4...   \n",
       "118  [983.4709109578059, 21.54040197786594, 424.355...   \n",
       "119  [-97.19717678956317, 102.33939903072837, -108....   \n",
       "120  [-211.57886621801958, -886.8562032815928, -62....   \n",
       "\n",
       "                                                  lams  \n",
       "0    [[682.9398, 43.931799999999996], [615.0452, 19...  \n",
       "1    [[607.0576, 43.931799999999996], [607.0576, 51...  \n",
       "2    [[591.0824, 55.913199999999996], [694.9212, 59...  \n",
       "3    [[595.0762, 27.956599999999998], [650.98939999...  \n",
       "4    [[587.0885999999999, 31.9504], [607.0576, 31.9...  \n",
       "..                                                 ...  \n",
       "116  [[690.9273999999999, 311.5164, 95.851199999999...  \n",
       "117  [[646.9956, 275.5722, 139.783, 79.875999999999...  \n",
       "118  [[654.9832, 279.566, 115.8202, 87.863599999999...  \n",
       "119  [[738.853, 335.4792, 183.7148, 55.913199999999...  \n",
       "120  [[718.884, 359.442, 207.67759999999998, 63.900...  \n",
       "\n",
       "[121 rows x 5 columns]"
      ]
     },
     "execution_count": 26,
     "metadata": {},
     "output_type": "execute_result"
    }
   ],
   "source": [
    "df"
   ]
  },
  {
   "cell_type": "code",
   "execution_count": 11,
   "metadata": {},
   "outputs": [],
   "source": [
    "# I'm a dummy so I left off the 0 bins instead of making it optional\n",
    "all_lams = []\n",
    "for x in df.lams:\n",
    "    #print(x)\n",
    "    #print([np.sum(y) for y in x])\n",
    "    #print([5000-np.sum(y) for y in x])\n",
    "    all_lams = [y.insert(0, len(berger_kepler)-np.sum(y)) for y in x] # this is in-place; only run once!"
   ]
  },
  {
   "cell_type": "code",
   "execution_count": 27,
   "metadata": {},
   "outputs": [
    {
     "name": "stdout",
     "output_type": "stream",
     "text": [
      "POISSON:  -1660.6780548186732\n"
     ]
    },
    {
     "data": {
      "text/plain": [
       "-1660.6780548186732"
      ]
     },
     "execution_count": 27,
     "metadata": {},
     "output_type": "execute_result"
    }
   ],
   "source": [
    "nonzero_k = k[1:]\n",
    "\n",
    "def loglike_direct_draw_calculate_only(lam, k):\n",
    "    #print(pd.Series(lam))\n",
    "    #lam = (lam + len(k) * [0])[:len(k)] # pad with zeros til length of k\n",
    "    #print(np.sum(k), np.sum(np.log(lam)))\n",
    "    term1 = np.sum(k) * np.sum(np.log(lam)) # or switch sum and log??\n",
    "    #term1 = np.sum(k) * np.log(pd.Series(lam))\n",
    "    term2 = -len(k)*np.sum(lam)\n",
    "    #term2 = -len(k)*pd.Series(lam)\n",
    "    term3 = -np.sum([lgamma(kth + 1) for kth in k])\n",
    "    #print(\"term1: \", term1)\n",
    "    #print(\"term2: \", term2)\n",
    "    #print(\"term3: \", term3)\n",
    "    poisson_loglikelihood = term1 + term2 + term3\n",
    "    #print(np.sum(poisson_loglikelihood))\n",
    "    #print(\"POISSON: \", poisson_loglikelihood)\n",
    "    return np.sum(poisson_loglikelihood)\n",
    "    #return poisson_loglikelihood\n",
    "\n",
    "#loglike_direct_draw_calculate_only(df.lams[0][0], nonzero_k)\n",
    "loglike_direct_draw_calculate_only(df.lams[0][0], nonzero_k)\n",
    "# how do I treat lam parameter??!"
   ]
  },
  {
   "cell_type": "code",
   "execution_count": 22,
   "metadata": {},
   "outputs": [
    {
     "data": {
      "text/plain": [
       "\"\\nlams = []\\nlogLs = []\\nms = []\\nbs = []\\n\\nfor gi_m in range(11):\\n    for gi_b in range(11):\\n        temp_logLs = []\\n        temp_lams = []\\n        cube = [random.uniform(0,1), random.uniform(0,1)] # instantiate cube\\n        cube = prior_grid(cube, ndim, nparams, gi_m, gi_b) # move to new position on cube\\n        for i in range(100):\\n            logL = loglike_direct_draw_calculate_only(lam, short_k) # calculate logL by comparing model(cube) and k\\n            lam = lam.to_list()\\n            temp_lams.append(lam)\\n            temp_logLs.append(logL)\\n            \\n        ms.append(round(cube[0],1))\\n        bs.append(round(cube[1],1))\\n        lams.append(temp_lams)\\n        logLs.append(temp_logLs)\\n        \\ndf = pd.DataFrame({'ms': ms, 'bs': bs, 'logLs': logLs, 'lams': lams})\\nprint(df)\\nprint(lams)\\n#lams.to_csv('lams_cands.csv', index=False)\\ndf.to_csv('direct/logL_cands_for_hist.csv', index=False, sep='\\t')\\n\""
      ]
     },
     "execution_count": 22,
     "metadata": {},
     "output_type": "execute_result"
    }
   ],
   "source": [
    "# set up \"hypercube\" prior and iterate through it while calling model and likelihood functions\n",
    "ndim = 2\n",
    "nparams = 2\n",
    "logLs = []\n",
    "for x in df.lams:\n",
    "    logLs.append([loglike_direct_draw_calculate_only(y, nonzero_k) for y in x])\n",
    "df['logLs'] = logLs\n",
    "#df[:, \"new_logL\"] = df.mean_lams.apply(lambda x: loglike_direct_draw_calculate_only(x, nonzero_k))\n",
    "\"\"\"\n",
    "lams = []\n",
    "logLs = []\n",
    "ms = []\n",
    "bs = []\n",
    "\n",
    "for gi_m in range(11):\n",
    "    for gi_b in range(11):\n",
    "        temp_logLs = []\n",
    "        temp_lams = []\n",
    "        cube = [random.uniform(0,1), random.uniform(0,1)] # instantiate cube\n",
    "        cube = prior_grid(cube, ndim, nparams, gi_m, gi_b) # move to new position on cube\n",
    "        for i in range(100):\n",
    "            logL = loglike_direct_draw_calculate_only(lam, short_k) # calculate logL by comparing model(cube) and k\n",
    "            lam = lam.to_list()\n",
    "            temp_lams.append(lam)\n",
    "            temp_logLs.append(logL)\n",
    "            \n",
    "        ms.append(round(cube[0],1))\n",
    "        bs.append(round(cube[1],1))\n",
    "        lams.append(temp_lams)\n",
    "        logLs.append(temp_logLs)\n",
    "        \n",
    "df = pd.DataFrame({'ms': ms, 'bs': bs, 'logLs': logLs, 'lams': lams})\n",
    "print(df)\n",
    "print(lams)\n",
    "#lams.to_csv('lams_cands.csv', index=False)\n",
    "df.to_csv('direct/logL_cands_for_hist.csv', index=False, sep='\\t')\n",
    "\"\"\""
   ]
  },
  {
   "cell_type": "code",
   "execution_count": 23,
   "metadata": {},
   "outputs": [
    {
     "name": "stdout",
     "output_type": "stream",
     "text": [
      "[-1.0, -1.0, -1.0, -1.0, -1.0, -1.0, -1.0, -1.0, -1.0, -1.0, -1.0, -0.9, -0.9, -0.9, -0.9, -0.9, -0.9, -0.9, -0.9, -0.9, -0.9, -0.9, -0.8, -0.8, -0.8, -0.8, -0.8, -0.8, -0.8, -0.8, -0.8, -0.8, -0.8, -0.7, -0.7, -0.7, -0.7, -0.7, -0.7, -0.7, -0.7, -0.7, -0.7, -0.7, -0.6, -0.6, -0.6, -0.6, -0.6, -0.6, -0.6, -0.6, -0.6, -0.6, -0.6, -0.5, -0.5, -0.5, -0.5, -0.5, -0.5, -0.5, -0.5, -0.5, -0.5, -0.5, -0.4, -0.4, -0.4, -0.4, -0.4, -0.4, -0.4, -0.4, -0.4, -0.4, -0.4, -0.3, -0.3, -0.3, -0.3, -0.3, -0.3, -0.3, -0.3, -0.3, -0.3, -0.3, -0.2, -0.2, -0.2, -0.2, -0.2, -0.2, -0.2, -0.2, -0.2, -0.2, -0.2, -0.1, -0.1, -0.1, -0.1, -0.1, -0.1, -0.1, -0.1, -0.1, -0.1, -0.1, 0.0, 0.0, 0.0, 0.0, 0.0, 0.0, 0.0, 0.0, 0.0, 0.0, 0.0] [0.0, 0.1, 0.2, 0.3, 0.4, 0.5, 0.6, 0.7, 0.8, 0.9, 1.0, 0.0, 0.1, 0.2, 0.3, 0.4, 0.5, 0.6, 0.7, 0.8, 0.9, 1.0, 0.0, 0.1, 0.2, 0.3, 0.4, 0.5, 0.6, 0.7, 0.8, 0.9, 1.0, 0.0, 0.1, 0.2, 0.3, 0.4, 0.5, 0.6, 0.7, 0.8, 0.9, 1.0, 0.0, 0.1, 0.2, 0.3, 0.4, 0.5, 0.6, 0.7, 0.8, 0.9, 1.0, 0.0, 0.1, 0.2, 0.3, 0.4, 0.5, 0.6, 0.7, 0.8, 0.9, 1.0, 0.0, 0.1, 0.2, 0.3, 0.4, 0.5, 0.6, 0.7, 0.8, 0.9, 1.0, 0.0, 0.1, 0.2, 0.3, 0.4, 0.5, 0.6, 0.7, 0.8, 0.9, 1.0, 0.0, 0.1, 0.2, 0.3, 0.4, 0.5, 0.6, 0.7, 0.8, 0.9, 1.0, 0.0, 0.1, 0.2, 0.3, 0.4, 0.5, 0.6, 0.7, 0.8, 0.9, 1.0, 0.0, 0.1, 0.2, 0.3, 0.4, 0.5, 0.6, 0.7, 0.8, 0.9, 1.0]\n"
     ]
    }
   ],
   "source": [
    "ms = []\n",
    "bs = []\n",
    "ndim = 2\n",
    "nparams = 2\n",
    "for gi_m in range(11):\n",
    "    for gi_b in range(11):\n",
    "        cube = [random.uniform(0,1), random.uniform(0,1)] # instantiate cube\n",
    "        cube = prior_grid(cube, ndim, nparams, gi_m, gi_b) # move to new position on cube\n",
    "        ms.append(round(cube[0],1))\n",
    "        bs.append(round(cube[1],1))\n",
    "print(ms, bs)"
   ]
  },
  {
   "cell_type": "code",
   "execution_count": 24,
   "metadata": {},
   "outputs": [
    {
     "data": {
      "image/png": "[encoded data removed]",
      "text/plain": [
       "<Figure size 1152x1152 with 121 Axes>"
      ]
     },
     "metadata": {
      "needs_background": "light"
     },
     "output_type": "display_data"
    }
   ],
   "source": [
    "def kde_func(x, x_grid, bandwidth):\n",
    "    \"\"\"Kernel Density Estimation with Scipy\"\"\"\n",
    "    kde = gaussian_kde(x) # constant bandwidth so imbalance in sample size doesn't drive distribution\n",
    "    return kde.evaluate(x_grid)\n",
    "\n",
    "plt.figure(figsize=(16,16))\n",
    "index = 0\n",
    "ndim = 2\n",
    "nparams = 2\n",
    "draws = 50\n",
    "lower = min([min(i) for i in logLs])\n",
    "upper = max([max(i) for i in logLs])\n",
    "logLs = df.logLs\n",
    "lams = df.lams\n",
    "mean_logLs = []\n",
    "mean_logLs2 = []\n",
    "for gi_m in range(11):\n",
    "    for gi_b in range(11):\n",
    "        ax = plt.subplot2grid((11,11), (gi_m,gi_b))\n",
    "        cube = [random.uniform(0,1), random.uniform(0,1)]\n",
    "        cube = prior_grid(cube, ndim, nparams, gi_m, gi_b)\n",
    "        ax.text(0.2, 0.9, round(cube[0],1), horizontalalignment='center', verticalalignment='center', transform=ax.transAxes)\n",
    "        ax.text(0.2, 0.7, round(cube[1],1), horizontalalignment='center', verticalalignment='center', transform=ax.transAxes)\n",
    "        hist, bins = np.histogram(logLs[index], bins=20)\n",
    "        \n",
    "        x_grid = np.linspace(lower, upper, 100)\n",
    "        kdepdf = kde_func(np.array(logLs[index]), x_grid, bandwidth=0.2) # generate KDE model\n",
    "        mean_logLs.append(x_grid[np.argmax(kdepdf)])\n",
    "        mean_logLs2.append(np.mean(logLs[index]))\n",
    "        #random_from_kde = generate_rand_from_pdf(kdepdf, x_grid, draws) # generate random data from KDE distribution\n",
    "        #print(kdepd/f)\n",
    "        \n",
    "        bin_midpoints = bins[:-1] + np.diff(bins) / 2 # get positions of bin midpoints\n",
    "        random_from_cdf = generate_rand_from_pdf(hist, bin_midpoints, draws) # generate random data from histogram\n",
    "        \n",
    "        #plt.hist(logLs[index], bins=np.linspace(lower, upper, 20))\n",
    "        ax.hist(logLs[index], nbins, density=True, alpha=0.5) # plot histogram of normalized data\n",
    "        ax.plot(x_grid, kdepdf, color='r', alpha=0.5, lw=1) # plot KDE over normalized histogram\n",
    "        ax.get_xaxis().set_visible(False)\n",
    "        ax.get_yaxis().set_visible(False)\n",
    "\n",
    "        index += 1\n",
    "plt.show()"
   ]
  },
  {
   "cell_type": "code",
   "execution_count": 25,
   "metadata": {},
   "outputs": [
    {
     "data": {
      "image/png": "[encoded data removed]",
      "text/plain": [
       "<Figure size 432x288 with 2 Axes>"
      ]
     },
     "metadata": {
      "needs_background": "light"
     },
     "output_type": "display_data"
    }
   ],
   "source": [
    "#plt.scatter(bs[:90], ms[:90], c=mean_logLs[:90])\n",
    "plt.scatter(bs, ms, c=mean_logLs)\n",
    "plt.xlabel('mean initial P(intact) aka b')\n",
    "plt.ylabel('mean dP(intact)/dt aka m')\n",
    "plt.gca().invert_yaxis()\n",
    "plt.colorbar()\n",
    "plt.show()"
   ]
  },
  {
   "cell_type": "code",
   "execution_count": 174,
   "metadata": {},
   "outputs": [],
   "source": [
    "df.loc[:, \"mean_intact_fracs\"] = df.intact_fracs.apply(lambda x: np.mean(x))\n",
    "df['mean_logLs'] = mean_logLs"
   ]
  },
  {
   "cell_type": "code",
   "execution_count": 175,
   "metadata": {},
   "outputs": [
    {
     "data": {
      "text/plain": [
       "1    244\n",
       "2     51\n",
       "3     12\n",
       "4      8\n",
       "5      1\n",
       "dtype: int64"
      ]
     },
     "execution_count": 175,
     "metadata": {},
     "output_type": "execute_result"
    }
   ],
   "source": [
    "nonzero_k"
   ]
  },
  {
   "cell_type": "code",
   "execution_count": 176,
   "metadata": {},
   "outputs": [
    {
     "data": {
      "text/html": [
       "<div>\n",
       "<style scoped>\n",
       "    .dataframe tbody tr th:only-of-type {\n",
       "        vertical-align: middle;\n",
       "    }\n",
       "\n",
       "    .dataframe tbody tr th {\n",
       "        vertical-align: top;\n",
       "    }\n",
       "\n",
       "    .dataframe thead th {\n",
       "        text-align: right;\n",
       "    }\n",
       "</style>\n",
       "<table border=\"1\" class=\"dataframe\">\n",
       "  <thead>\n",
       "    <tr style=\"text-align: right;\">\n",
       "      <th></th>\n",
       "      <th>ms</th>\n",
       "      <th>bs</th>\n",
       "      <th>lams</th>\n",
       "      <th>logLs</th>\n",
       "      <th>mean_logLs</th>\n",
       "    </tr>\n",
       "  </thead>\n",
       "  <tbody>\n",
       "    <tr>\n",
       "      <th>0</th>\n",
       "      <td>-1.0</td>\n",
       "      <td>0.0</td>\n",
       "      <td>[[19242.1284, 682.9398, 43.931799999999996], [...</td>\n",
       "      <td>[107112.54987672291, 89371.9723060928, 94512.1...</td>\n",
       "      <td>105023.662299</td>\n",
       "    </tr>\n",
       "    <tr>\n",
       "      <th>1</th>\n",
       "      <td>-1.0</td>\n",
       "      <td>0.1</td>\n",
       "      <td>[[19318.0106, 607.0576, 43.931799999999996], [...</td>\n",
       "      <td>[104839.13422118482, 108166.77875962475, 10440...</td>\n",
       "      <td>101078.404891</td>\n",
       "    </tr>\n",
       "    <tr>\n",
       "      <th>2</th>\n",
       "      <td>-1.0</td>\n",
       "      <td>0.2</td>\n",
       "      <td>[[19322.0044, 591.0824, 55.913199999999996], [...</td>\n",
       "      <td>[109126.48906644859, 113624.2955929141, 70054....</td>\n",
       "      <td>105023.662299</td>\n",
       "    </tr>\n",
       "    <tr>\n",
       "      <th>3</th>\n",
       "      <td>-1.0</td>\n",
       "      <td>0.3</td>\n",
       "      <td>[[19345.9672, 595.0762, 27.956599999999998], [...</td>\n",
       "      <td>[95444.25475471793, 90469.0042282645, 103000.6...</td>\n",
       "      <td>97133.147483</td>\n",
       "    </tr>\n",
       "    <tr>\n",
       "      <th>4</th>\n",
       "      <td>-1.0</td>\n",
       "      <td>0.4</td>\n",
       "      <td>[[19349.961, 587.0885999999999, 31.9504], [193...</td>\n",
       "      <td>[97845.0096700252, 98492.31298139924, 110099.1...</td>\n",
       "      <td>101078.404891</td>\n",
       "    </tr>\n",
       "    <tr>\n",
       "      <th>...</th>\n",
       "      <td>...</td>\n",
       "      <td>...</td>\n",
       "      <td>...</td>\n",
       "      <td>...</td>\n",
       "      <td>...</td>\n",
       "    </tr>\n",
       "    <tr>\n",
       "      <th>116</th>\n",
       "      <td>0.0</td>\n",
       "      <td>0.6</td>\n",
       "      <td>[[18798.8166, 690.9273999999999, 311.5164, 95....</td>\n",
       "      <td>[375771.5624766637, 343816.81411041395, 411628...</td>\n",
       "      <td>373301.166041</td>\n",
       "    </tr>\n",
       "    <tr>\n",
       "      <th>117</th>\n",
       "      <td>0.0</td>\n",
       "      <td>0.7</td>\n",
       "      <td>[[18814.7918, 646.9956, 275.5722, 139.783, 79....</td>\n",
       "      <td>[377964.2261600842, 362733.068640897, 347226.1...</td>\n",
       "      <td>385136.938265</td>\n",
       "    </tr>\n",
       "    <tr>\n",
       "      <th>118</th>\n",
       "      <td>0.0</td>\n",
       "      <td>0.8</td>\n",
       "      <td>[[18810.798, 654.9832, 279.566, 115.8202, 87.8...</td>\n",
       "      <td>[410037.03049352736, 359310.98705356935, 41620...</td>\n",
       "      <td>416698.997528</td>\n",
       "    </tr>\n",
       "    <tr>\n",
       "      <th>119</th>\n",
       "      <td>0.0</td>\n",
       "      <td>0.9</td>\n",
       "      <td>[[18627.0832, 738.853, 335.4792, 183.7148, 55....</td>\n",
       "      <td>[399597.8277196617, 438616.97250918945, 413988...</td>\n",
       "      <td>420644.254936</td>\n",
       "    </tr>\n",
       "    <tr>\n",
       "      <th>120</th>\n",
       "      <td>0.0</td>\n",
       "      <td>1.0</td>\n",
       "      <td>[[18595.1328, 718.884, 359.442, 207.6775999999...</td>\n",
       "      <td>[402430.6339250488, 431440.23412863613, 447071...</td>\n",
       "      <td>436425.284568</td>\n",
       "    </tr>\n",
       "  </tbody>\n",
       "</table>\n",
       "<p>121 rows × 5 columns</p>\n",
       "</div>"
      ],
      "text/plain": [
       "      ms   bs                                               lams  \\\n",
       "0   -1.0  0.0  [[19242.1284, 682.9398, 43.931799999999996], [...   \n",
       "1   -1.0  0.1  [[19318.0106, 607.0576, 43.931799999999996], [...   \n",
       "2   -1.0  0.2  [[19322.0044, 591.0824, 55.913199999999996], [...   \n",
       "3   -1.0  0.3  [[19345.9672, 595.0762, 27.956599999999998], [...   \n",
       "4   -1.0  0.4  [[19349.961, 587.0885999999999, 31.9504], [193...   \n",
       "..   ...  ...                                                ...   \n",
       "116  0.0  0.6  [[18798.8166, 690.9273999999999, 311.5164, 95....   \n",
       "117  0.0  0.7  [[18814.7918, 646.9956, 275.5722, 139.783, 79....   \n",
       "118  0.0  0.8  [[18810.798, 654.9832, 279.566, 115.8202, 87.8...   \n",
       "119  0.0  0.9  [[18627.0832, 738.853, 335.4792, 183.7148, 55....   \n",
       "120  0.0  1.0  [[18595.1328, 718.884, 359.442, 207.6775999999...   \n",
       "\n",
       "                                                 logLs     mean_logLs  \n",
       "0    [107112.54987672291, 89371.9723060928, 94512.1...  105023.662299  \n",
       "1    [104839.13422118482, 108166.77875962475, 10440...  101078.404891  \n",
       "2    [109126.48906644859, 113624.2955929141, 70054....  105023.662299  \n",
       "3    [95444.25475471793, 90469.0042282645, 103000.6...   97133.147483  \n",
       "4    [97845.0096700252, 98492.31298139924, 110099.1...  101078.404891  \n",
       "..                                                 ...            ...  \n",
       "116  [375771.5624766637, 343816.81411041395, 411628...  373301.166041  \n",
       "117  [377964.2261600842, 362733.068640897, 347226.1...  385136.938265  \n",
       "118  [410037.03049352736, 359310.98705356935, 41620...  416698.997528  \n",
       "119  [399597.8277196617, 438616.97250918945, 413988...  420644.254936  \n",
       "120  [402430.6339250488, 431440.23412863613, 447071...  436425.284568  \n",
       "\n",
       "[121 rows x 5 columns]"
      ]
     },
     "execution_count": 176,
     "metadata": {},
     "output_type": "execute_result"
    }
   ],
   "source": [
    "df[['ms', 'bs', 'lams', 'logLs', 'mean_logLs']]"
   ]
  },
  {
   "cell_type": "code",
   "execution_count": 177,
   "metadata": {},
   "outputs": [
    {
     "data": {
      "image/png": "[encoded data removed]",
      "text/plain": [
       "<Figure size 432x288 with 2 Axes>"
      ]
     },
     "metadata": {
      "needs_background": "light"
     },
     "output_type": "display_data"
    }
   ],
   "source": [
    "plt.scatter(bs, ms, c=df.mean_intact_fracs)\n",
    "plt.xlabel('mean initial P(intact) aka b')\n",
    "plt.ylabel('mean dP(intact)/dt aka m')\n",
    "plt.gca().invert_yaxis()\n",
    "plt.colorbar()\n",
    "plt.show()"
   ]
  },
  {
   "cell_type": "code",
   "execution_count": 178,
   "metadata": {
    "scrolled": true
   },
   "outputs": [
    {
     "data": {
      "image/png": "[encoded data removed]",
      "text/plain": [
       "<Figure size 432x288 with 1 Axes>"
      ]
     },
     "metadata": {
      "needs_background": "light"
     },
     "output_type": "display_data"
    }
   ],
   "source": [
    "plt.scatter(df.mean_intact_fracs, mean_logLs)\n",
    "plt.ylabel('mean logLs')\n",
    "plt.xlabel('intact fraction')\n",
    "plt.show()"
   ]
  },
  {
   "cell_type": "code",
   "execution_count": 24,
   "metadata": {
    "scrolled": false
   },
   "outputs": [
    {
     "data": {
      "image/png": "[encoded data removed]",
      "text/plain": [
       "<Figure size 1152x1152 with 121 Axes>"
      ]
     },
     "metadata": {
      "needs_background": "light"
     },
     "output_type": "display_data"
    }
   ],
   "source": [
    "plt.figure(figsize=(16,16))\n",
    "index = 0\n",
    "x = np.linspace(0, 10, 100)\n",
    "\n",
    "def prob_intact(x, m, b):\n",
    "    prob = m*x + b\n",
    "    prob = [0.05 if i < 0.05 else i for i in prob]\n",
    "    return prob\n",
    "    \n",
    "for gi_m in range(11):\n",
    "    for gi_b in range(11):\n",
    "        ax = plt.subplot2grid((11,11), (gi_m,gi_b))\n",
    "        cube = [random.uniform(0,1), random.uniform(0,1)]\n",
    "        cube = prior_grid(cube, ndim, nparams, gi_m, gi_b)\n",
    "        y = prob_intact(x, round(cube[0], 1), round(cube[1], 1))\n",
    "        #y = prob_intact(x, np.linspace(-1,0,11)[gi_m], np.linspace(0,1,11)[gi_b])\n",
    "        ax.plot(x, y)\n",
    "        ax.set_ylim([0, 1])\n",
    "        ax.get_xaxis().set_visible(False)\n",
    "        ax.get_yaxis().set_visible(False)\n",
    "\n",
    "        index += 1\n",
    "plt.show()"
   ]
  },
  {
   "cell_type": "code",
   "execution_count": 51,
   "metadata": {},
   "outputs": [
    {
     "name": "stderr",
     "output_type": "stream",
     "text": [
      "<ipython-input-8-4f07afea71d4>:235: RuntimeWarning: invalid value encountered in sqrt\n",
      "  arg1 = np.sqrt((1+(r_planet/r_star))**2 - b**2)\n"
     ]
    },
    {
     "name": "stdout",
     "output_type": "stream",
     "text": [
      "0    278\n",
      "1     94\n",
      "2     20\n",
      "3      6\n",
      "4      1\n",
      "6      1\n",
      "Name: transit_multiplicity, dtype: int64\n"
     ]
    },
    {
     "data": {
      "text/plain": [
       "(-64443.623779466245,\n",
       " 0    278\n",
       " 1     94\n",
       " 2     20\n",
       " 3      6\n",
       " 4      1\n",
       " 6      1\n",
       " Name: transit_multiplicity, dtype: int64)"
      ]
     },
     "execution_count": 51,
     "metadata": {},
     "output_type": "execute_result"
    }
   ],
   "source": [
    "cube = [random.uniform(0,1), random.uniform(0,1)]\n",
    "cube = prior_grid(cube, ndim, nparams, 10, 10) # move to new position on cube\n",
    "loglike_direct_draw(cube, ndim, nparams) # calculate logL by comparing model(cube) and k"
   ]
  },
  {
   "cell_type": "code",
   "execution_count": null,
   "metadata": {},
   "outputs": [],
   "source": [
    "cube = [random.uniform(0,1), random.uniform(0,1)]\n",
    "cube = prior_grid(cube, ndim, nparams, 0, 10) # move to new position on cube\n",
    "loglike_direct_draw(cube, ndim, nparams) # calculate logL by comparing model(cube) and k"
   ]
  },
  {
   "cell_type": "code",
   "execution_count": null,
   "metadata": {},
   "outputs": [],
   "source": [
    "cube = [random.uniform(0,1), random.uniform(0,1)]\n",
    "cube = prior_grid(cube, ndim, nparams, 0, 0) # move to new position on cube\n",
    "loglike_direct_draw(cube, ndim, nparams) # calculate logL by comparing model(cube) and k"
   ]
  },
  {
   "cell_type": "code",
   "execution_count": null,
   "metadata": {},
   "outputs": [],
   "source": [
    "cube = [random.uniform(0,1), random.uniform(0,1)]\n",
    "cube = prior_grid(cube, ndim, nparams, 10, 0) # move to new position on cube\n",
    "loglike_direct_draw(cube, ndim, nparams) # calculate logL by comparing model(cube) and k"
   ]
  },
  {
   "cell_type": "code",
   "execution_count": null,
   "metadata": {},
   "outputs": [],
   "source": [
    "cube = [random.uniform(0,1), random.uniform(0,1)]\n",
    "cube = prior_grid(cube, ndim, nparams, 0, 0) # move to new position on cube\n",
    "print(cube)"
   ]
  },
  {
   "cell_type": "code",
   "execution_count": 116,
   "metadata": {},
   "outputs": [
    {
     "name": "stdout",
     "output_type": "stream",
     "text": [
      "0    19653\n",
      "1      244\n",
      "2       51\n",
      "3       12\n",
      "4        8\n",
      "5        1\n",
      "dtype: int64 1    6.109470\n",
      "2    1.276979\n",
      "3    0.300466\n",
      "4    0.200310\n",
      "5    0.025039\n",
      "dtype: float64\n"
     ]
    },
    {
     "data": {
      "image/png": "[encoded data removed]",
      "text/plain": [
       "<Figure size 1152x1152 with 121 Axes>"
      ]
     },
     "metadata": {
      "needs_background": "light"
     },
     "output_type": "display_data"
    }
   ],
   "source": [
    "from itertools import zip_longest\n",
    "import numpy.ma as ma # for masked arrays\n",
    "plt.figure(figsize=(16,16))\n",
    "index = 0\n",
    "\n",
    "num_samples = 5000\n",
    "short_k = k*num_samples/np.sum(k)\n",
    "short_k = short_k[1:]\n",
    "print(k, short_k)\n",
    "lam_upper = []\n",
    "lam_lower = []\n",
    "lam_avgs = []\n",
    "for gi_m in range(11):\n",
    "    for gi_b in range(11):\n",
    "        # avg, max, and min transit multiplicities to compare against data\n",
    "        ax = plt.subplot2grid((11,11), (gi_m,gi_b))\n",
    "        lam_elt = df.lams_nonzero[index]\n",
    "        lam_elt_max = []\n",
    "        lam_elt_min = []\n",
    "        lam_elt_avg = []\n",
    "        for temp_list in zip_longest(*lam_elt):\n",
    "            elt = [0 if v is None else v for v in ma.masked_values(temp_list, 0)]\n",
    "            lam_elt_max.append(max(elt))\n",
    "            lam_elt_min.append(min(elt))\n",
    "            lam_elt_avg.append(np.mean(elt))\n",
    "        \n",
    "        lam_upper.append(lam_elt_max)\n",
    "        lam_lower.append(lam_elt_min)\n",
    "        lam_avgs.append(lam_elt_avg)\n",
    "\n",
    "        # plotting\n",
    "        ax.scatter(pd.Series(lam_elt_avg).index[1:], lam_elt_avg[1:], s=10)\n",
    "        #ax.scatter(pd.Series(lam_elt_max).index[1:], lam_elt_max[1:], s=10)\n",
    "        #ax.scatter(pd.Series(lam_elt_min).index[1:], lam_elt_min[1:], s=10)\n",
    "        ax.scatter(np.arange(6)[1:], short_k, marker=(5, 1), color='r', s=10)\n",
    "        #ax.scatter(np.arange(6)[1:], short_k+np.sqrt(short_k), marker='+', s=10)\n",
    "        #ax.scatter(np.arange(6)[1:], short_k-np.sqrt(short_k), marker='+', s=10)\n",
    "        ax.get_xaxis().set_visible(False)\n",
    "        ax.get_yaxis().set_visible(False)\n",
    "        #ax.set_ylim([0, 30])\n",
    "        \n",
    "        # draw envelope\n",
    "        ax.fill_between(np.arange(len(lam_elt_min[1:])), lam_elt_min[1:], lam_elt_max[1:], alpha=0.4)\n",
    "\n",
    "        index += 1\n",
    "plt.show()"
   ]
  },
  {
   "cell_type": "code",
   "execution_count": 117,
   "metadata": {},
   "outputs": [],
   "source": [
    "df['mean_logLs'] = mean_logLs\n",
    "df['mean_lams'] = lam_avgs"
   ]
  },
  {
   "cell_type": "code",
   "execution_count": 101,
   "metadata": {},
   "outputs": [
    {
     "data": {
      "text/plain": [
       "1    6.109470\n",
       "2    1.276979\n",
       "3    0.300466\n",
       "4    0.200310\n",
       "5    0.025039\n",
       "dtype: float64"
      ]
     },
     "execution_count": 101,
     "metadata": {},
     "output_type": "execute_result"
    }
   ],
   "source": [
    "short_k"
   ]
  },
  {
   "cell_type": "code",
   "execution_count": 72,
   "metadata": {},
   "outputs": [
    {
     "name": "stdout",
     "output_type": "stream",
     "text": [
      "     ms   bs                                       intact_fracs  \\\n",
      "21 -0.9  1.0  [0.0446, 0.045, 0.0462, 0.0426, 0.0406, 0.0452...   \n",
      "62 -0.5  0.7  [0.0586, 0.0582, 0.0544, 0.0494, 0.0516, 0.057...   \n",
      "42 -0.7  0.9  [0.0582, 0.0558, 0.0534, 0.0586, 0.0588, 0.054...   \n",
      "22 -0.8  0.0  [0.0, 0.0, 0.0, 0.0, 0.0, 0.0, 0.0, 0.0, 0.0, ...   \n",
      "10 -1.0  1.0  [0.0362, 0.0314, 0.0288, 0.0304, 0.0284, 0.033...   \n",
      "33 -0.7  0.0  [0.0, 0.0, 0.0, 0.0, 0.0, 0.0, 0.0, 0.0, 0.0, ...   \n",
      "91 -0.2  0.3  [0.0258, 0.0238, 0.0306, 0.0298, 0.028, 0.0266...   \n",
      "88 -0.2  0.0  [0.0, 0.0, 0.0, 0.0, 0.0, 0.0, 0.0, 0.0, 0.0, ...   \n",
      "29 -0.8  0.7  [0.0168, 0.0162, 0.0162, 0.018, 0.0142, 0.0182...   \n",
      "74 -0.4  0.8  [0.146, 0.1434, 0.1428, 0.1508, 0.1402, 0.1462...   \n",
      "\n",
      "                                                logLs  \\\n",
      "21  [-174785.1316353031, -174774.28793290083, -174...   \n",
      "62  [-174840.2774127826, -174764.13327773957, -174...   \n",
      "42  [-174833.13253568922, -174792.32140412607, -17...   \n",
      "22  [-174856.162937038, -174859.1543425045, -17479...   \n",
      "10  [-174829.76295896844, -174816.94183575286, -17...   \n",
      "33  [-174810.47926946022, -174849.13065706682, -17...   \n",
      "91  [-174824.25321046126, -174747.29372171283, -17...   \n",
      "88  [-174797.14662052176, -174791.2424020626, -174...   \n",
      "29  [-174798.545608531, -174845.9399605, -174772.7...   \n",
      "74  [-174804.85288144863, -174807.13683913436, -17...   \n",
      "\n",
      "                                                 lams  \\\n",
      "21  [[583.0948, 67.8946, 7.9876, 7.9876, 3.9938], ...   \n",
      "62  [[654.9832, 23.962799999999998, 15.9752, 7.987...   \n",
      "42  [[666.9646, 47.925599999999996, 19.96899999999...   \n",
      "22  [[639.0079999999999, 19.968999999999998], [662...   \n",
      "10  [[654.9832, 31.9504, 15.9752, 3.9938], [635.01...   \n",
      "33  [[591.0824, 51.919399999999996], [646.9956, 31...   \n",
      "91  [[631.0204, 27.956599999999998, 11.98139999999...   \n",
      "88  [[567.1196, 43.931799999999996], [555.1382, 39...   \n",
      "29  [[591.0824, 59.907, 3.9938], [631.0204, 23.962...   \n",
      "74  [[607.0576, 63.9008, 27.956599999999998, 3.993...   \n",
      "\n",
      "                                        logsL_nonzero  mean_intact_fracs  \\\n",
      "21  [-2582.0188655125503, -2383.7588085139146, -24...            0.04406   \n",
      "62  [-2745.2491675106494, -2312.0380998439696, -23...            0.05444   \n",
      "42  [-2927.5721600779307, -2545.865341883312, -258...            0.05536   \n",
      "22  [-2527.805713251396, -2690.7440084521877, -222...            0.00000   \n",
      "10  [-2745.2491675106494, -2690.7440084521877, -23...            0.03158   \n",
      "33  [-2455.684703668889, -2618.217176896096, -2365...            0.00000   \n",
      "91  [-2582.0188655125503, -2294.141238416556, -238...            0.02762   \n",
      "88  [-2312.0380998439696, -2240.5334503252143, -23...            0.00000   \n",
      "29  [-2509.7576918115337, -2509.7576918115337, -22...            0.01624   \n",
      "74  [-2745.2491675106494, -2836.291369887712, -283...            0.14188   \n",
      "\n",
      "       mean_logLs  \n",
      "21 -174776.276079  \n",
      "62 -174776.276079  \n",
      "42 -174791.575160  \n",
      "22 -174791.575160  \n",
      "10 -174791.575160  \n",
      "33 -174799.224700  \n",
      "91 -174799.224700  \n",
      "88 -174799.224700  \n",
      "29 -174799.224700  \n",
      "74 -174799.224700  \n"
     ]
    },
    {
     "data": {
      "image/png": "[encoded data removed]",
      "text/plain": [
       "<Figure size 432x288 with 2 Axes>"
      ]
     },
     "metadata": {
      "needs_background": "light"
     },
     "output_type": "display_data"
    }
   ],
   "source": [
    "print(df.sort_values(['mean_logLs'], ascending=False).head(n=10))\n",
    "top_df = df.sort_values(['mean_logLs'], ascending=False).head(n=34)\n",
    "plt.scatter(top_df.bs.to_list(), top_df.ms.to_list(), c=top_df.mean_logLs.to_list())\n",
    "plt.xlabel('initial P(intact) aka b')\n",
    "plt.ylabel('dP(intact)/dt aka m')\n",
    "plt.xlim(0., 1.)\n",
    "plt.ylim(-1., 0.)\n",
    "plt.gca().invert_yaxis()\n",
    "plt.colorbar()\n",
    "plt.show()"
   ]
  },
  {
   "cell_type": "code",
   "execution_count": null,
   "metadata": {},
   "outputs": [],
   "source": []
  },
  {
   "cell_type": "code",
   "execution_count": 104,
   "metadata": {},
   "outputs": [
    {
     "name": "stdout",
     "output_type": "stream",
     "text": [
      "0    968.75\n",
      "1     29.25\n",
      "2      1.89\n",
      "3      0.11\n",
      "dtype: float64\n",
      "0    968.12\n",
      "1     29.83\n",
      "2      2.05\n",
      "dtype: float64\n",
      "0    967.52\n",
      "1     30.29\n",
      "2      2.19\n",
      "dtype: float64\n",
      "0    967.62\n",
      "1     29.91\n",
      "2      2.26\n",
      "3      0.19\n",
      "4      0.02\n",
      "dtype: float64\n",
      "0    967.96\n",
      "1     29.69\n",
      "2      2.06\n",
      "3      0.27\n",
      "4      0.02\n",
      "dtype: float64\n",
      "0    967.79\n",
      "1     29.90\n",
      "2      2.17\n",
      "3      0.14\n",
      "dtype: float64\n",
      "0    969.06\n",
      "1     29.24\n",
      "2      1.70\n",
      "dtype: float64\n",
      "0    968.14\n",
      "1     29.76\n",
      "2      2.10\n",
      "dtype: float64\n",
      "0    967.87\n",
      "1     29.89\n",
      "2      2.08\n",
      "3      0.16\n",
      "dtype: float64\n",
      "0    968.94\n",
      "1     29.14\n",
      "2      1.92\n",
      "dtype: float64\n"
     ]
    },
    {
     "data": {
      "image/png": "[encoded data removed]",
      "text/plain": [
       "<Figure size 1080x1080 with 10 Axes>"
      ]
     },
     "metadata": {
      "needs_background": "light"
     },
     "output_type": "display_data"
    }
   ],
   "source": [
    "# Model and transit multiplicity plots for selected high-logL models\n",
    "top_ms, top_bs = top_df.ms.to_list(), top_df.bs.to_list()\n",
    "x = np.linspace(0, 10, 100)\n",
    "\n",
    "fig, axes = plt.subplots(ncols=2, nrows=5, figsize=(10,10))\n",
    "fig.set_size_inches(15, 15)\n",
    "plt.subplots_adjust(wspace=0.5, hspace=0.5)\n",
    "axes = axes.flatten()\n",
    "\n",
    "for row in range(len(top_df.ms)):    \n",
    "    logL = top_df.mean_logLs.to_list()[row]\n",
    "    lam = pd.Series(top_df.mean_lams.to_list()[row])\n",
    "    #lam.index += 1 # reset indices starting at 1 after reading back from list\n",
    "    #print(lam)\n",
    "    \n",
    "    plt.subplot(5,2,row+1)\n",
    "    plt.title('logL = %f' %logL)\n",
    "    #plt.ylabel('Count [# of systems]')\n",
    "    #plt.xlabel('Multiplicity [# of transiting planets]')\n",
    "    plt.scatter(pd.Series(lam).index, lam)\n",
    "    plt.scatter(np.arange(6), short_k, marker=(5, 1), color='r')\n",
    "    #plt.scatter(np.arange(6), k+np.sqrt(k), marker='+')\n",
    "    #plt.scatter(np.arange(6), k-np.sqrt(k), marker='+')\n",
    "    print(lam)\n",
    "\n",
    "#plt.title('Probability of staying intact as a function of time')\n",
    "plt.show()"
   ]
  },
  {
   "cell_type": "code",
   "execution_count": 106,
   "metadata": {},
   "outputs": [
    {
     "data": {
      "image/png": "[encoded data removed]",
      "text/plain": [
       "<Figure size 432x288 with 1 Axes>"
      ]
     },
     "metadata": {
      "needs_background": "light"
     },
     "output_type": "display_data"
    },
    {
     "name": "stdout",
     "output_type": "stream",
     "text": [
      "0    967.22\n",
      "1     29.87\n",
      "2      2.42\n",
      "3      0.45\n",
      "4      0.04\n",
      "dtype: float64\n",
      "101   -40952.019235\n",
      "Name: mean_logLs, dtype: float64\n"
     ]
    }
   ],
   "source": [
    "plt.scatter(pd.Series(df.loc[(df.bs==0.2) & (df.ms==-0.1)].mean_lams.to_list()[0]).index, \n",
    "            df.loc[(df.bs==0.2) & (df.ms==-0.1)].mean_lams.to_list()[0])\n",
    "plt.scatter(np.arange(6), short_k, marker=(5, 1), color='r')\n",
    "plt.show()  \n",
    "print(pd.Series(df.loc[(df.bs==0.2) & (df.ms==-0.1)].mean_lams.to_list()[0]))\n",
    "print(df.loc[(df.bs==0.2) & (df.ms==-0.1)].mean_logLs)"
   ]
  },
  {
   "cell_type": "markdown",
   "metadata": {},
   "source": [
    "#### Young systems"
   ]
  },
  {
   "cell_type": "code",
   "execution_count": null,
   "metadata": {},
   "outputs": [],
   "source": [
    "# set up \"hypercube\" prior and iterate through it while calling model and likelihood functions\n",
    "ndim = 2\n",
    "nparams = 2\n",
    "lams = []\n",
    "logLs = []\n",
    "ms = []\n",
    "bs = []\n",
    "for gi_m in range(11):\n",
    "    for gi_b in range(11):\n",
    "        temp_logLs = []\n",
    "        temp_lams = []\n",
    "        ms.append(round(cube[0],1))\n",
    "        bs.append(round(cube[1],1))\n",
    "        for i in range(100):\n",
    "            cube = [random.uniform(0,1), random.uniform(0,1)] # instantiate cube\n",
    "            cube = prior_grid(cube, ndim, nparams, gi_m, gi_b) # move to new position on cube\n",
    "            logL, lam = loglike_direct_draw(cube, ndim, nparams, 'young') # calculate logL \n",
    "            #print(lam)\n",
    "            lam = lam.to_list()\n",
    "            temp_lams.append(lam)\n",
    "            temp_logLs.append(logL)\n",
    "        lams.append(temp_lams)\n",
    "        logLs.append(temp_logLs)\n",
    "df = pd.DataFrame({'ms': ms, 'bs': bs, 'logLs': logLs, 'lams': lams})\n",
    "print(df)\n",
    "print(lams)\n",
    "#lams.to_csv('lams_cands.csv', index=False)\n",
    "df.to_csv('direct/logL_cands_young_for_hist.csv', index=False, sep='\\t')"
   ]
  },
  {
   "cell_type": "markdown",
   "metadata": {},
   "source": [
    "#### Run loglike_direct_draw"
   ]
  },
  {
   "cell_type": "code",
   "execution_count": null,
   "metadata": {},
   "outputs": [],
   "source": [
    "# set up \"hypercube\" prior and iterate through it while calling model and likelihood functions\n",
    "ndim = 2\n",
    "nparams = 2\n",
    "lams = []\n",
    "logLs = []\n",
    "ms = []\n",
    "bs = []\n",
    "for gi_m in range(11):\n",
    "    for gi_b in range(11):\n",
    "        cube = [random.uniform(0,1), random.uniform(0,1)] # instantiate cube\n",
    "        cube = prior_grid(cube, ndim, nparams, gi_m, gi_b) # move to new position on cube\n",
    "        ms.append(round(cube[0],1))\n",
    "        bs.append(round(cube[1],1))\n",
    "        logL, lam = loglike_direct_draw(cube, ndim, nparams) # calculate logL by comparing model(cube) and k\n",
    "        print(lam)\n",
    "        lam = lam.to_list()\n",
    "        lams.append(lam)\n",
    "        logLs.append(logL)\n",
    "df = pd.DataFrame({'ms': ms, 'bs': bs, 'logLs': logLs, 'lams': lams})\n",
    "print(df)\n",
    "print(lams)\n",
    "#lams.to_csv('lams_cands.csv', index=False)\n",
    "df.to_csv('direct/logL_cands.csv', index=False, sep='\\t')"
   ]
  },
  {
   "cell_type": "code",
   "execution_count": null,
   "metadata": {},
   "outputs": [],
   "source": [
    "plt.scatter(ms, bs, c=logLs)\n",
    "plt.ylabel('initial P(intact) aka b')\n",
    "plt.xlabel('dP(intact)/dt aka m')\n",
    "plt.colorbar()\n",
    "plt.show()"
   ]
  },
  {
   "cell_type": "code",
   "execution_count": null,
   "metadata": {},
   "outputs": [],
   "source": [
    "from ast import literal_eval\n",
    "\n",
    "logL_cands = pd.read_csv('direct/logL_cands.csv', sep='\\t')\n",
    "print(logL_cands.head())\n",
    "print(logL_cands.lams[0])\n",
    "logL_cands.lams = logL_cands.lams.apply(literal_eval) # convert back from string to list of floats\n"
   ]
  },
  {
   "cell_type": "code",
   "execution_count": null,
   "metadata": {},
   "outputs": [],
   "source": [
    "print(logL_cands.loc[(logL_cands.ms == -1.0) & (logL_cands.bs == 0.7)].lams)\n",
    "print(logL_cands.loc[(logL_cands.ms == 0) & (logL_cands.bs == 1.0)].lams)\n",
    "print(np.sum(k), np.sum(np.sum(logL_cands.loc[(logL_cands.ms == 0) & (logL_cands.bs == 1.0)].lams)))\n"
   ]
  },
  {
   "cell_type": "code",
   "execution_count": null,
   "metadata": {},
   "outputs": [],
   "source": [
    "k\n",
    "[19035, 824, 91, 10, 5, 2, 2]"
   ]
  },
  {
   "cell_type": "code",
   "execution_count": null,
   "metadata": {},
   "outputs": [],
   "source": [
    "print(np.abs(19653-19075) + np.abs(244-816) + np.abs(51-76) + np.abs(12-2))\n",
    "print(np.abs(19653-18125) + np.abs(244-797) + np.abs(51-493) + np.abs(12-305))\n"
   ]
  },
  {
   "cell_type": "markdown",
   "metadata": {},
   "source": [
    "Model and transit multiplicity plots for selected high-logL models"
   ]
  },
  {
   "cell_type": "code",
   "execution_count": null,
   "metadata": {},
   "outputs": [],
   "source": [
    "print(df.sort_values(['logLs'], ascending=False).head(n=10))\n",
    "top_df = df.sort_values(['logLs'], ascending=False).head(n=10)\n",
    "plt.scatter(top_df.ms.to_list(), top_df.bs.to_list(), c=top_df.logLs.to_list())\n",
    "plt.ylabel('initial P(intact) aka b')\n",
    "plt.xlabel('dP(intact)/dt aka m')\n",
    "plt.ylim(0., 1.)\n",
    "plt.xlim(-1., 0.)\n",
    "plt.colorbar()\n",
    "plt.show()"
   ]
  },
  {
   "cell_type": "code",
   "execution_count": null,
   "metadata": {
    "scrolled": false
   },
   "outputs": [],
   "source": [
    "def prob_intact(x, m, b):\n",
    "    prob = m*x + b\n",
    "    for i in prob:\n",
    "        if i < 0: # don't allow negative probabilities\n",
    "            i = 0\n",
    "    return prob\n",
    "\n",
    "# Model and transit multiplicity plots for selected high-logL models\n",
    "top_ms, top_bs = top_df.ms.to_list(), top_df.bs.to_list()\n",
    "x = np.linspace(0, 10, 100)\n",
    "\n",
    "fig, axes = plt.subplots(ncols=2, nrows=5, figsize=(10,10))\n",
    "fig.set_size_inches(10, 10)\n",
    "plt.subplots_adjust(wspace=0.5, hspace=1.0)\n",
    "axes = axes.flatten()\n",
    "\n",
    "for row in range(len(top_df.ms)):\n",
    "    m = top_df.ms.to_list()[row]\n",
    "    b = top_df.bs.to_list()[row]\n",
    "    logL = top_df.logLs.to_list()[row]\n",
    "    lam = top_df.lams.to_list()[row]\n",
    "    y = prob_intact(x, m, b)\n",
    "    #print(m, b, logL, lam)\n",
    "    \n",
    "    plt.subplot(5,2,row+1)\n",
    "    plt.title('logL = %f' %logL)\n",
    "    plt.ylabel('P(intact)')\n",
    "    plt.xlabel('Age (Gyr)')\n",
    "    plt.xlim([0,10])\n",
    "    plt.ylim([-0.1,1.1])\n",
    "    plt.plot(x, y)\n",
    "    \n",
    "#plt.title('Probability of staying intact as a function of time')\n",
    "plt.show()"
   ]
  },
  {
   "cell_type": "code",
   "execution_count": null,
   "metadata": {},
   "outputs": [],
   "source": [
    "for i in range(len(top_df.ms)):\n",
    "    logL = top_df.logLs.to_list()[i]\n",
    "    lam = pd.Series(top_df.lams.to_list()[i])\n",
    "    print(logL)\n",
    "    lam.index += 1 # reset indices starting at 1 after reading back from list\n",
    "    #print(lam)\n",
    "    \n",
    "    plt.title('Transit multiplicities for top 10 models')\n",
    "    plt.ylabel('Count [# of systems]')\n",
    "    plt.xlabel('Multiplicity [# of transiting planets]')\n",
    "    \n",
    "    plt.scatter(pd.Series(lam).index, lam, alpha=0.6)\n",
    "    \n",
    "plt.scatter(np.arange(6), k, marker=(5, 1), color='r')\n",
    "plt.scatter(np.arange(6), k+np.sqrt(k), marker='+')\n",
    "plt.scatter(np.arange(6), k-np.sqrt(k), marker='+')\n",
    "plt.show()"
   ]
  },
  {
   "cell_type": "code",
   "execution_count": null,
   "metadata": {},
   "outputs": [],
   "source": [
    "# Model and transit multiplicity plots for selected high-logL models\n",
    "top_ms, top_bs = top_df.ms.to_list(), top_df.bs.to_list()\n",
    "x = np.linspace(0, 10, 100)\n",
    "\n",
    "fig, axes = plt.subplots(ncols=2, nrows=5, figsize=(10,10))\n",
    "fig.set_size_inches(15, 15)\n",
    "plt.subplots_adjust(wspace=0.5, hspace=0.5)\n",
    "axes = axes.flatten()\n",
    "\n",
    "for row in range(len(top_df.ms)):    \n",
    "    logL = top_df.logLs.to_list()[row]\n",
    "    lam = pd.Series(top_df.lams.to_list()[row])\n",
    "    lam.index += 1 # reset indices starting at 1 after reading back from list\n",
    "    #print(lam)\n",
    "    \n",
    "    plt.subplot(5,2,row+1)\n",
    "    plt.title('logL = %f' %logL)\n",
    "    #plt.ylabel('Count [# of systems]')\n",
    "    #plt.xlabel('Multiplicity [# of transiting planets]')\n",
    "    plt.xlim(1, 6)\n",
    "    plt.ylim(0, 300)\n",
    "    plt.scatter(pd.Series(lam).index, lam)\n",
    "    plt.scatter(np.arange(6)[1:], k, marker=(5, 1), color='r')\n",
    "    plt.scatter(np.arange(6)[1:], k+np.sqrt(k), marker='+')\n",
    "    plt.scatter(np.arange(6)[1:], k-np.sqrt(k), marker='+')\n",
    "\n",
    "#plt.title('Probability of staying intact as a function of time')\n",
    "plt.show()"
   ]
  },
  {
   "cell_type": "code",
   "execution_count": null,
   "metadata": {
    "scrolled": false
   },
   "outputs": [],
   "source": [
    "# set up \"hypercube\" prior and iterate through it while calling model and likelihood functions\n",
    "ndim = 2\n",
    "nparams = 2\n",
    "lams = []\n",
    "logLs = []\n",
    "ms = []\n",
    "bs = []\n",
    "for gi_m in range(11):\n",
    "    for gi_b in range(11):\n",
    "        cube = [random.uniform(0,1), random.uniform(0,1)] # instantiate cube\n",
    "        cube = prior_grid(cube, ndim, nparams, gi_m, gi_b) # move to new position on cube\n",
    "        ms.append(round(cube[0],1))\n",
    "        bs.append(round(cube[1],1))\n",
    "        logL, lam = loglike(cube, ndim, nparams) # calculate logL by comparing model(cube) and k\n",
    "        print(lam)\n",
    "        lam = lam.to_list()\n",
    "        lams.append(lam)\n",
    "        logLs.append(logL)\n",
    "df = pd.DataFrame({'ms': ms, 'bs': bs, 'logLs': logLs, 'lams': lams})\n",
    "print(df)\n",
    "print(lams)\n",
    "#lams.to_csv('lams_cands.csv', index=False)\n",
    "df.to_csv('logL_cands.csv', index=False, sep='\\t')"
   ]
  },
  {
   "cell_type": "markdown",
   "metadata": {},
   "source": [
    "#### Redo with Sarah's fake k "
   ]
  },
  {
   "cell_type": "code",
   "execution_count": null,
   "metadata": {},
   "outputs": [],
   "source": [
    "# test k given by Sarah\n",
    "new_k = pd.Series([129, 20, 10, 2, 0, 0]) # compact multi rate with 7%\n",
    "np.sum(new_k)"
   ]
  },
  {
   "cell_type": "code",
   "execution_count": null,
   "metadata": {},
   "outputs": [],
   "source": [
    "# set up \"hypercube\" prior and iterate through it while calling model and likelihood functions\n",
    "ndim = 2\n",
    "nparams = 2\n",
    "lams = []\n",
    "logLs = []\n",
    "ms = []\n",
    "bs = []\n",
    "k = new_k\n",
    "for gi_m in range(11):\n",
    "    for gi_b in range(11):\n",
    "        cube = [random.uniform(0,1), random.uniform(0,1)] # instantiate cube\n",
    "        cube = prior_grid(cube, ndim, nparams, gi_m, gi_b) # move to new position on cube\n",
    "        ms.append(round(cube[0],1))\n",
    "        bs.append(round(cube[1],1))\n",
    "        logL, lam = loglike(cube, ndim, nparams) # calculate logL by comparing model(cube) and k\n",
    "        lam = lam.to_list()\n",
    "        print(lam)\n",
    "        lams.append(lam)\n",
    "        logLs.append(logL)\n",
    "df = pd.DataFrame({'ms': ms, 'bs': bs, 'logLs': logLs, 'lams': lams})\n",
    "print(df)\n",
    "df.to_csv('logL_cands_fake_k.csv', index=False, sep='\\t')\n"
   ]
  },
  {
   "cell_type": "code",
   "execution_count": null,
   "metadata": {},
   "outputs": [],
   "source": [
    "plt.scatter(ms, bs, c=logLs)\n",
    "plt.ylabel('initial P(intact) aka b')\n",
    "plt.xlabel('dP(intact)/dt aka m')\n",
    "plt.colorbar()\n",
    "plt.show()"
   ]
  },
  {
   "cell_type": "markdown",
   "metadata": {},
   "source": [
    "#### Comparing young (<1 Gyr) and old (>=1 Gyr) transit mulitplicities. Also comparing flat and non-flat models."
   ]
  },
  {
   "cell_type": "code",
   "execution_count": null,
   "metadata": {},
   "outputs": [],
   "source": [
    "# data\n",
    "berger_kepler_old = berger_kepler.loc[berger_kepler.iso_age >= 1.]\n",
    "berger_kepler_young = berger_kepler.loc[berger_kepler.iso_age <= 1.]\n",
    "print(len(berger_kepler_old), len(berger_kepler_young))\n",
    "pnum_old = pnum.loc[pnum.iso_age >= 1.]\n",
    "pnum_young = pnum.loc[pnum.iso_age < 1.]\n",
    "print(len(old_pnum), len(young_pnum))\n",
    "k_old = pnum_old.koi_count.value_counts() \n",
    "k_young = pnum_young.koi_count.value_counts() \n",
    "k_old[0] = len(berger_kepler_old) - np.sum(k_old)\n",
    "k_old = k_old.sort_values('index', ascending=False)\n",
    "\n",
    "k_young = pnum_young.koi_count.value_counts() \n",
    "k_young[0] = len(berger_kepler_young) - np.sum(k_young)\n",
    "k_young = k_young.sort_values('index', ascending=False)\n",
    "print(k_old)\n",
    "print(k_young)"
   ]
  },
  {
   "cell_type": "code",
   "execution_count": null,
   "metadata": {},
   "outputs": [],
   "source": [
    "cube = [0., 0.3] # instantiate cube\n",
    "transits_young, transits_old = model_age_discrim(cube)\n",
    "print(len(transits_young), len(transits_old))\n",
    "#transits_old.transit_multiplicity.value_counts() * (np.sum(k_old)/len(transits_old.loc[transits_old.transit_multiplicity > 0]))\n",
    "print(transits_old.transit_multiplicity.value_counts())\n",
    "print(transits_young.transit_multiplicity.value_counts())\n"
   ]
  },
  {
   "cell_type": "markdown",
   "metadata": {},
   "source": [
    "Young vs old transit multiplicities for top 5 models"
   ]
  },
  {
   "cell_type": "code",
   "execution_count": null,
   "metadata": {
    "scrolled": false
   },
   "outputs": [],
   "source": [
    "# Re-sampled transit multiplicity plots, now with zero bins, for selected high-logL models\n",
    "top_ms, top_bs = top_df.ms.to_list(), top_df.bs.to_list()\n",
    "x = np.linspace(0, 10, 100)\n",
    "\n",
    "fig, axes = plt.subplots(ncols=2, nrows=5, figsize=(10,10))\n",
    "fig.set_size_inches(10, 10)\n",
    "fig.text(0., 0.5, 'log of number of systems', va='center', rotation='vertical')\n",
    "fig.text(0.4, 0., 'transit multiplicity', va='center', rotation='horizontal')\n",
    "fig.tight_layout()\n",
    "#plt.subplots_adjust(wspace=0.5, hspace=0.3)\n",
    "axes = axes.flatten()\n",
    "\n",
    "for row in range(int(len(top_df.ms)/2)): # just do the top five, so I can compare old vs young side by side    \n",
    "    m = top_df.ms.to_list()[row]\n",
    "    b = top_df.bs.to_list()[row]\n",
    "    cube = [m, b]\n",
    "    transits_young, transits_old = model_age_discrim(cube)\n",
    "    transits_young_multiplicity = transits_young.transit_multiplicity.value_counts()\n",
    "    transits_old_multiplicity = transits_old.transit_multiplicity.value_counts()\n",
    "\n",
    "    plt.subplot(5,2,2*row+1)\n",
    "    plt.scatter(np.arange(6), k_old, marker=(5, 1), color='r')\n",
    "    plt.scatter(np.arange(6), k_old+np.sqrt(k_old), marker='+')\n",
    "    plt.scatter(np.arange(6), k_old-np.sqrt(k_old), marker='+')\n",
    "    plt.scatter(pd.Series(transits_old_multiplicity).index, transits_old_multiplicity)\n",
    "    plt.xlim(-0.2, 6.2)\n",
    "    plt.yscale('log')\n",
    "    #plt.ylim(0, 3e4)\n",
    "    \n",
    "    plt.subplot(5,2,2*row+2)\n",
    "    plt.scatter(np.arange(5), k_young, marker=(5, 1), color='r')\n",
    "    plt.scatter(np.arange(5), k_young+np.sqrt(k_young), marker='+')\n",
    "    plt.scatter(np.arange(5), k_young-np.sqrt(k_young), marker='+')\n",
    "    plt.scatter(pd.Series(transits_young_multiplicity).index, transits_young_multiplicity)\n",
    "    \n",
    "    #plt.title('logL = %f' %logL)\n",
    "    #plt.ylabel('Count [# of systems]')\n",
    "    #plt.xlabel('Multiplicity [# of transiting planets]')\n",
    "    plt.xlim(-0.2, 6.2)\n",
    "    plt.yscale('log')\n",
    "    #plt.ylim(0, 1e4)\n",
    "\n",
    "#plt.title('Probability of staying intact as a function of time')\n",
    "plt.show()"
   ]
  },
  {
   "cell_type": "code",
   "execution_count": null,
   "metadata": {
    "scrolled": true
   },
   "outputs": [],
   "source": [
    "k_young"
   ]
  },
  {
   "cell_type": "code",
   "execution_count": null,
   "metadata": {},
   "outputs": [],
   "source": [
    "transits_young_multiplicity # model"
   ]
  },
  {
   "cell_type": "code",
   "execution_count": null,
   "metadata": {},
   "outputs": [],
   "source": [
    "k_old # data"
   ]
  },
  {
   "cell_type": "code",
   "execution_count": null,
   "metadata": {},
   "outputs": [],
   "source": [
    "transits_old_multiplicity # model"
   ]
  },
  {
   "cell_type": "markdown",
   "metadata": {},
   "source": [
    "Young vs old transit multiplicities for flat to not-flat systems"
   ]
  },
  {
   "cell_type": "code",
   "execution_count": null,
   "metadata": {},
   "outputs": [],
   "source": [
    "# Re-sampled transit multiplicity plots, now with zero bins, for selected high-logL models\n",
    "top_ms, top_bs = top_df.ms.to_list(), top_df.bs.to_list()\n",
    "x = np.linspace(0, 10, 100)\n",
    "\n",
    "fig, axes = plt.subplots(ncols=2, nrows=5, figsize=(10,10))\n",
    "fig.set_size_inches(10, 10)\n",
    "fig.text(0., 0.5, 'log of number of systems', va='center', rotation='vertical')\n",
    "fig.text(0.4, 0., 'transit multiplicity', va='center', rotation='horizontal')\n",
    "fig.tight_layout()\n",
    "#plt.subplots_adjust(wspace=0.5, hspace=0.3)\n",
    "axes = axes.flatten()\n",
    "\n",
    "for row in range(int(len(top_df.ms)/2)): # just do the top five, so I can compare old vs young side by side    \n",
    "    m = top_df.ms.to_list()[row]\n",
    "    b = top_df.bs.to_list()[row]\n",
    "    cube = [m, b]\n",
    "    transits_young, transits_old = model_age_discrim(cube)\n",
    "    transits_young_multiplicity = transits_young.transit_multiplicity.value_counts()\n",
    "    transits_old_multiplicity = transits_old.transit_multiplicity.value_counts()\n",
    "\n",
    "    plt.subplot(5,2,2*row+1)\n",
    "    plt.scatter(np.arange(6), k_old, marker=(5, 1), color='r')\n",
    "    plt.scatter(np.arange(6), k_old+np.sqrt(k_old), marker='+')\n",
    "    plt.scatter(np.arange(6), k_old-np.sqrt(k_old), marker='+')\n",
    "    plt.scatter(pd.Series(transits_old_multiplicity).index, transits_old_multiplicity)\n",
    "    plt.xlim(-0.2, 6.2)\n",
    "    plt.yscale('log')\n",
    "    #plt.ylim(0, 1e4)\n",
    "    \n",
    "    plt.subplot(5,2,2*row+2)\n",
    "    plt.scatter(np.arange(5), k_young, marker=(5, 1), color='r')\n",
    "    plt.scatter(np.arange(5), k_young+np.sqrt(k_young), marker='+')\n",
    "    plt.scatter(np.arange(5), k_young-np.sqrt(k_young), marker='+')\n",
    "    plt.scatter(pd.Series(transits_young_multiplicity).index, transits_young_multiplicity)\n",
    "    \n",
    "    #plt.title('logL = %f' %logL)\n",
    "    #plt.ylabel('Count [# of systems]')\n",
    "    #plt.xlabel('Multiplicity [# of transiting planets]')\n",
    "    plt.xlim(-0.2, 6.2)\n",
    "    plt.yscale('log')\n",
    "    #plt.ylim(0, 1e4)\n",
    "\n",
    "#plt.title('Probability of staying intact as a function of time')\n",
    "plt.show()"
   ]
  },
  {
   "cell_type": "code",
   "execution_count": null,
   "metadata": {},
   "outputs": [],
   "source": [
    "# set up \"hypercube\" prior and iterate through it while calling model and likelihood functions\n",
    "ndim = 2\n",
    "nparams = 2\n",
    "lams_young = []\n",
    "lams_old = []\n",
    "logLs_young = []\n",
    "logLs_old = []\n",
    "ms = []\n",
    "bs = []\n",
    "for gi_m in range(11):\n",
    "    for gi_b in range(11):\n",
    "        cube = [random.uniform(0,1), random.uniform(0,1)] # instantiate cube\n",
    "        cube = prior_grid(cube, ndim, nparams, gi_m, gi_b) # move to new position on cube\n",
    "        ms.append(round(cube[0],1))\n",
    "        bs.append(round(cube[1],1))\n",
    "        # retrieve prior cube and feed prior-normalized hypercube into model to generate transit multiplicities\n",
    "        ###lam_young, lam_old = model_age_discrim(cube)\n",
    "        transits_young, transits_old = model_age_discrim(cube)\n",
    "        \n",
    "        \"\"\"\n",
    "        logL_young = loglike_age_discrim(cube, ndim, nparams, lam_young) # calculate logL by comparing model(cube) and k\n",
    "        logL_old = loglike_age_discrim(cube, ndim, nparams, lam_old) # calculate logL by comparing model(cube) and k\n",
    "        lams_young.append(lam_young)\n",
    "        lams_old.append(lam_old)\n",
    "        logLs_young.append(logL_young)\n",
    "        logLs_old.append(logL_old)\n",
    "        \"\"\"\n",
    "    \n",
    "        \n",
    "df_young = pd.DataFrame({'ms': ms, 'bs': bs, 'logLs': logLs_young, 'lams': lams_young})\n",
    "df_old = pd.DataFrame({'ms': ms, 'bs': bs, 'logLs': logLs_old, 'lams': lams_old})\n",
    "print(df_young.head())\n",
    "print(df_old.head())\n",
    "df_young.to_csv('logL_cands_young.csv', index=False, sep='\\t')\n",
    "df_old.to_csv('logL_cands_old.csv', index=False, sep='\\t')\n"
   ]
  },
  {
   "cell_type": "code",
   "execution_count": null,
   "metadata": {},
   "outputs": [],
   "source": [
    "plt.scatter(df_young.ms, df_young.bs) # , c=df_young.logLs\n",
    "plt.ylabel('initial P(intact) aka b')\n",
    "plt.xlabel('dP(intact)/dt aka m')\n",
    "plt.title('logLs for young systems [age < 1 Gyr]')\n",
    "#plt.colorbar()\n",
    "plt.show()"
   ]
  },
  {
   "cell_type": "code",
   "execution_count": null,
   "metadata": {},
   "outputs": [],
   "source": [
    "plt.scatter(df_old.ms, df_old.bs, c=df_old.logLs)\n",
    "plt.ylabel('initial P(intact) aka b')\n",
    "plt.xlabel('dP(intact)/dt aka m')\n",
    "plt.title('logLs for old systems [age >= 1 Gyr]')\n",
    "plt.colorbar()\n",
    "plt.show()"
   ]
  },
  {
   "cell_type": "markdown",
   "metadata": {},
   "source": [
    "#### Sanity check: do flat line models have no difference in young vs old system transit multiplicities?"
   ]
  },
  {
   "cell_type": "markdown",
   "metadata": {},
   "source": [
    "#### Let's add S/N"
   ]
  },
  {
   "cell_type": "code",
   "execution_count": null,
   "metadata": {},
   "outputs": [],
   "source": [
    "# set up \"hypercube\" prior and iterate through it while calling model and likelihood functions\n",
    "ndim = 2\n",
    "nparams = 2\n",
    "lams = []\n",
    "logLs = []\n",
    "ms = []\n",
    "bs = []\n",
    "for gi_m in range(11):\n",
    "    for gi_b in range(11):\n",
    "        cube = [random.uniform(0,1), random.uniform(0,1)] # instantiate cube\n",
    "        cube = prior_grid(cube, ndim, nparams, gi_m, gi_b) # move to new position on cube\n",
    "        ms.append(round(cube[0],1))\n",
    "        bs.append(round(cube[1],1))\n",
    "        logL, lam = loglike(cube, ndim, nparams) # calculate logL by comparing model(cube) and k\n",
    "        print(lam)\n",
    "        lam = lam.to_list()\n",
    "        lams.append(lam)\n",
    "        logLs.append(logL)\n",
    "df = pd.DataFrame({'ms': ms, 'bs': bs, 'logLs': logLs, 'lams': lams})\n",
    "print(df)\n",
    "print(lams)\n",
    "#lams.to_csv('lams_cands.csv', index=False)\n",
    "df.to_csv('logL_sn.csv', index=False, sep='\\t')"
   ]
  },
  {
   "cell_type": "markdown",
   "metadata": {},
   "source": [
    "#### Below is pymultinest-land. Don't go there. Yet."
   ]
  },
  {
   "cell_type": "code",
   "execution_count": null,
   "metadata": {},
   "outputs": [],
   "source": [
    "# number of dimensions our problem has\n",
    "parameters = [\"m\", \"b\"]\n",
    "n_params = len(parameters)\n",
    "\n",
    "# run MultiNest\n",
    "#pymultinest.run(sculpting_logL, sculpting_prior, n_params, outputfiles_basename=datafile + '_1_', resume = False, verbose = True)\n",
    "#pymultinest.run(loglike, prior, n_params, outputfiles_basename=datafile + '_1_', resume = False, verbose = True)\n",
    "pymultinest.run(loglike, prior, n_params, resume = False, verbose = True)\n"
   ]
  }
 ],
 "metadata": {
  "kernelspec": {
   "display_name": "Python 3",
   "language": "python",
   "name": "python3"
  },
  "language_info": {
   "codemirror_mode": {
    "name": "ipython",
    "version": 3
   },
   "file_extension": ".py",
   "mimetype": "text/x-python",
   "name": "python",
   "nbconvert_exporter": "python",
   "pygments_lexer": "ipython3",
   "version": "3.9.1"
  }
 },
 "nbformat": 4,
 "nbformat_minor": 2
}
