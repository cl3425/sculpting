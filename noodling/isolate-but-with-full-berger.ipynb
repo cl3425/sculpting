{
 "cells": [
  {
   "cell_type": "markdown",
   "metadata": {},
   "source": [
    "## Initial cuts"
   ]
  },
  {
   "cell_type": "code",
   "execution_count": 1,
   "metadata": {},
   "outputs": [
    {
     "name": "stdout",
     "output_type": "stream",
     "text": [
      "186301\n",
      "      KIC  iso_mass  iso_mass_err1  iso_mass_err2  iso_teff  iso_teff_err1  \\\n",
      "0  757076     1.396          0.179         -0.218    5052.2          103.9   \n",
      "1  757099     0.873          0.054         -0.039    5364.9          102.7   \n",
      "2  757137     1.669          0.309         -0.300    4628.7           84.8   \n",
      "3  757280     1.715          0.086         -0.089    6856.8          144.4   \n",
      "4  757450     0.914          0.062         -0.057    5301.2          111.0   \n",
      "\n",
      "   iso_teff_err2  iso_logg  iso_logg_err1  iso_logg_err2  ...  iso_age  \\\n",
      "0          -86.6     3.373          0.067         -0.081  ...     2.47   \n",
      "1          -84.9     4.318          0.037         -0.029  ...    15.20   \n",
      "2          -76.2     2.388          0.083         -0.086  ...     1.51   \n",
      "3         -139.9     3.834          0.033         -0.032  ...     1.24   \n",
      "4         -103.1     4.432          0.045         -0.044  ...     9.46   \n",
      "\n",
      "   unReAgeFlag  iso_age_err1  iso_age_err2  iso_dis  iso_dis_err1  \\\n",
      "0          NaN          1.82         -0.73    651.5          22.6   \n",
      "1          NaN          3.00         -3.98    367.8           7.1   \n",
      "2          NaN          1.06         -0.58    568.4          12.2   \n",
      "3          NaN          0.20         -0.16    822.0          19.4   \n",
      "4          NaN          5.36         -5.15    829.6          24.0   \n",
      "\n",
      "   iso_dis_err2  iso_avs  iso_gof   TAMS  \n",
      "0         -21.6    0.371      1.0   2.69  \n",
      "1          -6.9    0.340      1.0  17.18  \n",
      "2         -11.6    0.344      1.0   1.66  \n",
      "3         -21.0    0.496      1.0   1.62  \n",
      "4         -23.4    0.465      1.0  16.10  \n",
      "\n",
      "[5 rows x 32 columns]\n",
      "Index(['KIC', 'iso_mass', 'iso_mass_err1', 'iso_mass_err2', 'iso_teff',\n",
      "       'iso_teff_err1', 'iso_teff_err2', 'iso_logg', 'iso_logg_err1',\n",
      "       'iso_logg_err2', 'iso_feh', 'iso_feh_err1', 'iso_feh_err2', 'iso_rad',\n",
      "       'iso_rad_err1', 'iso_rad_err2', 'iso_rho', 'iso_rho_err1',\n",
      "       'iso_rho_err2', 'iso_lum', 'iso_lum_err1', 'iso_lum_err2', 'iso_age',\n",
      "       'unReAgeFlag', 'iso_age_err1', 'iso_age_err2', 'iso_dis',\n",
      "       'iso_dis_err1', 'iso_dis_err2', 'iso_avs', 'iso_gof', 'TAMS'],\n",
      "      dtype='object')\n"
     ]
    }
   ],
   "source": [
    "import pandas as pd\n",
    "import numpy as np\n",
    "from astropy.io import fits\n",
    "from astropy.table import Table\n",
    "import matplotlib.pyplot as plt\n",
    "%matplotlib inline\n",
    "path = '/Users/chris/Desktop/sculpting/berger_gaia_kepler/'\n",
    "# all data downloaded from Berger et al 2020's ancillary tables: https://arxiv.org/src/2001.07737v3/anc\n",
    "# the paper we're comparing against: https://arxiv.org/pdf/2005.14671.pdf\n",
    "# command line edit to get rid of double backslashes at end of each row: sed -e \"s/\\\\\\//g\" GKSPCPapTable2_Final.txt > GKSPCPapTable2_cleaned.txt\n",
    "table2 = pd.read_csv(path+'GKSPCPapTable2_cleaned.txt', sep='&', header=0)\n",
    "print(len(table2))\n",
    "print(table2.head())\n",
    "print(table2.columns)"
   ]
  },
  {
   "cell_type": "code",
   "execution_count": 2,
   "metadata": {},
   "outputs": [
    {
     "name": "stdout",
     "output_type": "stream",
     "text": [
      "150560\n"
     ]
    }
   ],
   "source": [
    "# remove stars with unreliable ages or bad goodness of fit\n",
    "table2 = table2.loc[(table2.unReAgeFlag.isnull()) & (table2.iso_gof==1.)]\n",
    "print(len(table2))"
   ]
  },
  {
   "cell_type": "code",
   "execution_count": 3,
   "metadata": {},
   "outputs": [
    {
     "name": "stdout",
     "output_type": "stream",
     "text": [
      "150560\n"
     ]
    }
   ],
   "source": [
    "# remove stars with uninformative posteriors (per paper, terminal age of main sequence > 20 Gyr)\n",
    "table2 = table2.loc[table2['TAMS']<=20]\n",
    "print(len(table2))\n",
    "# nice to see that tracks with bad gof or unreliable age"
   ]
  },
  {
   "cell_type": "code",
   "execution_count": 5,
   "metadata": {},
   "outputs": [
    {
     "name": "stdout",
     "output_type": "stream",
     "text": [
      "164740\n",
      "      KIC     gmag  gmag_err    kmag  kmag_err  parallax  parallax_err    feh  \\\n",
      "0  757076  12.3510    0.0203   9.559     0.017    1.5239        0.0483    NaN   \n",
      "2  757137  10.0523    0.0279   6.722     0.017    1.7534        0.0253    NaN   \n",
      "3  757280  12.1329    0.0200  10.627     0.018    1.2137        0.0220    NaN   \n",
      "4  757450  15.8950    0.0202  13.118     0.029    1.1989        0.0261  0.229   \n",
      "7  892010  12.6168    0.0209   9.041     0.017    0.5414        0.0242    NaN   \n",
      "\n",
      "   feh_err    RUWE  num_gaia_companions Kmag_final_prov evstate  \n",
      "0      NaN  0.9467                    0             NaN     NaN  \n",
      "2      NaN  0.9126                    0             NaN     RGB  \n",
      "3      NaN  0.8704                    0             NaN     NaN  \n",
      "4     0.15  1.0300                    0             NaN     NaN  \n",
      "7      NaN  1.0141                    0             NaN     NaN  \n",
      "Index(['KIC', 'gmag', 'gmag_err', 'kmag', 'kmag_err', 'parallax',\n",
      "       'parallax_err', 'feh', 'feh_err', 'RUWE', 'num_gaia_companions',\n",
      "       'Kmag_final_prov', 'evstate'],\n",
      "      dtype='object')\n"
     ]
    }
   ],
   "source": [
    "# introduce Table 1 to use RUWE (re-normalized unit-weight error), aka binary star/edge-of-parameter space classifier\n",
    "# command line edit to get rid of double backslashes at end of each row: sed -e \"s/\\\\\\//g\" GKSPCPapTable1_Final.txt > GKSPCPapTable1_cleaned.txt\n",
    "table1 = pd.read_csv(path+'GKSPCPapTable1_cleaned.txt', sep='&', header=0)\n",
    "table1 = table1.loc[table1.RUWE<=1.2]\n",
    "print(len(table1))\n",
    "print(table1.head())\n",
    "print(table1.columns)"
   ]
  },
  {
   "cell_type": "code",
   "execution_count": 6,
   "metadata": {},
   "outputs": [
    {
     "name": "stdout",
     "output_type": "stream",
     "text": [
      "      KIC  iso_mass  iso_mass_err1  iso_mass_err2  iso_teff  iso_teff_err1  \\\n",
      "0  757076     1.396          0.179         -0.218    5052.2          103.9   \n",
      "1  757137     1.669          0.309         -0.300    4628.7           84.8   \n",
      "2  757280     1.715          0.086         -0.089    6856.8          144.4   \n",
      "3  757450     0.914          0.062         -0.057    5301.2          111.0   \n",
      "4  892010     1.710          0.708         -0.402    4555.8          141.3   \n",
      "\n",
      "   iso_teff_err2  iso_logg  iso_logg_err1  iso_logg_err2  ...    kmag  \\\n",
      "0          -86.6     3.373          0.067         -0.081  ...   9.559   \n",
      "1          -76.2     2.388          0.083         -0.086  ...   6.722   \n",
      "2         -139.9     3.834          0.033         -0.032  ...  10.627   \n",
      "3         -103.1     4.432          0.045         -0.044  ...  13.118   \n",
      "4          -92.4     2.299          0.163         -0.119  ...   9.041   \n",
      "\n",
      "   kmag_err  parallax  parallax_err    feh  feh_err    RUWE  \\\n",
      "0     0.017    1.5239        0.0483    NaN      NaN  0.9467   \n",
      "1     0.017    1.7534        0.0253    NaN      NaN  0.9126   \n",
      "2     0.018    1.2137        0.0220    NaN      NaN  0.8704   \n",
      "3     0.029    1.1989        0.0261  0.229     0.15  1.0300   \n",
      "4     0.017    0.5414        0.0242    NaN      NaN  1.0141   \n",
      "\n",
      "   num_gaia_companions  Kmag_final_prov  evstate  \n",
      "0                    0              NaN      NaN  \n",
      "1                    0              NaN      RGB  \n",
      "2                    0              NaN      NaN  \n",
      "3                    0              NaN      NaN  \n",
      "4                    0              NaN      NaN  \n",
      "\n",
      "[5 rows x 44 columns]\n",
      "134193\n"
     ]
    }
   ],
   "source": [
    "# join tables\n",
    "catalog = pd.merge(table2, table1, how='inner', on='KIC')\n",
    "print(catalog.head())\n",
    "print(len(catalog))"
   ]
  },
  {
   "cell_type": "code",
   "execution_count": 7,
   "metadata": {},
   "outputs": [
    {
     "name": "stdout",
     "output_type": "stream",
     "text": [
      "114171\n",
      "      KIC  iso_mass  iso_mass_err1  iso_mass_err2  iso_teff  iso_teff_err1  \\\n",
      "2  757280     1.715          0.086         -0.089    6856.8          144.4   \n",
      "3  757450     0.914          0.062         -0.057    5301.2          111.0   \n",
      "6  892195     0.862          0.057         -0.040    5333.4          101.3   \n",
      "7  892667     1.548          0.081         -0.087    6704.9          148.8   \n",
      "8  892675     1.038          0.066         -0.076    5929.4          108.9   \n",
      "\n",
      "   iso_teff_err2  iso_logg  iso_logg_err1  iso_logg_err2  ...  parallax  \\\n",
      "2         -139.9     3.834          0.033         -0.032  ...    1.2137   \n",
      "3         -103.1     4.432          0.045         -0.044  ...    1.1989   \n",
      "6          -84.2     4.372          0.039         -0.029  ...    2.0802   \n",
      "7         -128.8     3.950          0.034         -0.036  ...    0.8512   \n",
      "8         -108.1     4.385          0.035         -0.043  ...    1.7114   \n",
      "\n",
      "   parallax_err    feh  feh_err    RUWE  num_gaia_companions  Kmag_final_prov  \\\n",
      "2        0.0220    NaN      NaN  0.8704                    0              NaN   \n",
      "3        0.0261  0.229     0.15  1.0300                    0              NaN   \n",
      "6        0.0167    NaN      NaN  1.1211                    0              NaN   \n",
      "7        0.0154    NaN      NaN  0.8674                    0              NaN   \n",
      "8        0.0142    NaN      NaN  1.0648                    0              NaN   \n",
      "\n",
      "   evstate      logR  is_giant  \n",
      "2      NaN  0.416641     False  \n",
      "3      NaN -0.019088     False  \n",
      "6      NaN -0.000869     False  \n",
      "7      NaN  0.337060     False  \n",
      "8      NaN  0.033424     False  \n",
      "\n",
      "[5 rows x 46 columns]\n"
     ]
    }
   ],
   "source": [
    "# isolate giant stars\n",
    "# using unnumbered equation in first paragraph of Sec 4.2.1 (\"Sample Selection\") in Berger et al 2020b \n",
    "catalog['logR'] = np.log10(catalog.iso_rad)\n",
    "catalog['is_giant'] = np.where(catalog['logR'] >= 0.00035*(catalog['iso_teff'] - 4500) + 0.15, True, False)\n",
    "catalog = catalog.loc[catalog['is_giant'] == False]\n",
    "print(len(catalog))\n",
    "print(catalog.head())"
   ]
  },
  {
   "cell_type": "code",
   "execution_count": 8,
   "metadata": {},
   "outputs": [
    {
     "name": "stdout",
     "output_type": "stream",
     "text": [
      "114171\n",
      "21737\n"
     ]
    }
   ],
   "source": [
    "# get rid of stars with age errors greater than 1 Gyr\n",
    "print(len(catalog))\n",
    "catalog = catalog.loc[np.abs(catalog.iso_age_err1) < 1.]\n",
    "catalog = catalog.loc[np.abs(catalog.iso_age_err2) < 1.]\n",
    "print(len(catalog))"
   ]
  },
  {
   "cell_type": "code",
   "execution_count": 9,
   "metadata": {},
   "outputs": [
    {
     "data": {
      "text/plain": [
       "\"# m dwarf side plot: what are error bounds for m dwarfs?\\ntable2 = pd.read_csv(path+'GKSPCPapTable2_cleaned.txt', sep='&', header=0)\\ntable2['logR'] = np.log10(table2.iso_rad)\\ntable2['is_giant'] = np.where(table2['logR'] >= 0.00035*(table2['iso_teff'] - 4500) + 0.15, True, False)\\ntable2 = table2.loc[table2.is_giant==False]\\ntable2 = table2.loc[(table2['iso_teff'] <= 3700) & (table2['iso_teff'] >= 2400)]\\nprint(len(table2))\\nprint(table2.head())\\nprint(np.mean(table2.iso_mass_err1))\\nprint(np.mean(table2.iso_mass_err2))\\nprint(np.mean(catalog.iso_mass_err1))\\nprint(np.mean(catalog.iso_mass_err2))\\n\\nprint(np.mean(table2.iso_rad_err1))\\nprint(np.mean(table2.iso_rad_err2))\\nprint(np.mean(catalog.iso_rad_err1))\\nprint(np.mean(catalog.iso_rad_err2))\\n\\nprint(np.mean(table2.iso_age_err1))\\nprint(np.mean(table2.iso_age_err2))\\nprint(np.mean(catalog.iso_age_err1))\\nprint(np.mean(catalog.iso_age_err2))\\n\""
      ]
     },
     "execution_count": 9,
     "metadata": {},
     "output_type": "execute_result"
    }
   ],
   "source": [
    "\"\"\"# m dwarf side plot: what are error bounds for m dwarfs?\n",
    "table2 = pd.read_csv(path+'GKSPCPapTable2_cleaned.txt', sep='&', header=0)\n",
    "table2['logR'] = np.log10(table2.iso_rad)\n",
    "table2['is_giant'] = np.where(table2['logR'] >= 0.00035*(table2['iso_teff'] - 4500) + 0.15, True, False)\n",
    "table2 = table2.loc[table2.is_giant==False]\n",
    "table2 = table2.loc[(table2['iso_teff'] <= 3700) & (table2['iso_teff'] >= 2400)]\n",
    "print(len(table2))\n",
    "print(table2.head())\n",
    "print(np.mean(table2.iso_mass_err1))\n",
    "print(np.mean(table2.iso_mass_err2))\n",
    "print(np.mean(catalog.iso_mass_err1))\n",
    "print(np.mean(catalog.iso_mass_err2))\n",
    "\n",
    "print(np.mean(table2.iso_rad_err1))\n",
    "print(np.mean(table2.iso_rad_err2))\n",
    "print(np.mean(catalog.iso_rad_err1))\n",
    "print(np.mean(catalog.iso_rad_err2))\n",
    "\n",
    "print(np.mean(table2.iso_age_err1))\n",
    "print(np.mean(table2.iso_age_err2))\n",
    "print(np.mean(catalog.iso_age_err1))\n",
    "print(np.mean(catalog.iso_age_err2))\n",
    "\"\"\""
   ]
  },
  {
   "cell_type": "markdown",
   "metadata": {},
   "source": [
    "Berger et al star age distribution"
   ]
  },
  {
   "cell_type": "code",
   "execution_count": 10,
   "metadata": {},
   "outputs": [
    {
     "name": "stdout",
     "output_type": "stream",
     "text": [
      "[1225 2577 2965 3713 3729 3042 1337  667  462  437  378  354  291  213\n",
      "  156   87   53   38    9    4]\n",
      "[0.1    0.5195 0.939  1.3585 1.778  2.1975 2.617  3.0365 3.456  3.8755\n",
      " 4.295  4.7145 5.134  5.5535 5.973  6.3925 6.812  7.2315 7.651  8.0705\n",
      " 8.49  ]\n"
     ]
    },
    {
     "data": {
      "image/png": "[encoded data removed]",
      "text/plain": [
       "<Figure size 432x288 with 1 Axes>"
      ]
     },
     "metadata": {
      "needs_background": "light"
     },
     "output_type": "display_data"
    }
   ],
   "source": [
    "import matplotlib.pyplot as plt\n",
    "%matplotlib inline\n",
    "\n",
    "# age histogram for all stars with well-constrained ages (catalog was a merge with table2, not fgk)\n",
    "age_hist, age_bin_edges = np.histogram(catalog.iso_age, bins=20)\n",
    "print(age_hist)\n",
    "print(age_bin_edges)\n",
    "plt.bar(age_bin_edges[:-1], age_hist, width = 1, color='#0504aa',alpha=0.7)\n",
    "plt.ylabel(\"count\")\n",
    "plt.xlabel(\"age [Gyr]\")\n",
    "plt.show()"
   ]
  },
  {
   "cell_type": "code",
   "execution_count": 11,
   "metadata": {},
   "outputs": [
    {
     "data": {
      "text/plain": [
       "1     2.774976\n",
       "2     1.311960\n",
       "3     0.498302\n",
       "4     0.274466\n",
       "5     0.165169\n",
       "6     0.119615\n",
       "7     0.104000\n",
       "8     0.100000\n",
       "9     0.100000\n",
       "10    0.100000\n",
       "Name: iso_age, dtype: float64"
      ]
     },
     "execution_count": 11,
     "metadata": {},
     "output_type": "execute_result"
    }
   ],
   "source": [
    "# group by teff and plot median per group\n",
    "teff_bins = np.linspace(catalog.iso_teff.min(), catalog.iso_teff.max(), 10) # create teff bins\n",
    "teff_groups = catalog.iso_age.groupby(np.digitize(catalog.iso_teff, teff_bins)) # assign number to teff bins, then assign ages to bins\n",
    "teff_groups.mean() # get mean of each bin\n"
   ]
  },
  {
   "cell_type": "code",
   "execution_count": 12,
   "metadata": {},
   "outputs": [
    {
     "name": "stdout",
     "output_type": "stream",
     "text": [
      "[ 5131.1         6524.32222222  7917.54444444  9310.76666667\n",
      " 10703.98888889 12097.21111111 13490.43333333 14883.65555556\n",
      " 16276.87777778 17670.1       ]\n",
      "<PandasArray>\n",
      "[  2.774976307476292,   1.311960417811981,   0.498302354399009,\n",
      " 0.27446640316205523, 0.16516853932584277, 0.11961538461538467,\n",
      " 0.10400000000000004, 0.09999999999999999, 0.10000000000000002,\n",
      "                 0.1]\n",
      "Length: 10, dtype: float64\n"
     ]
    },
    {
     "data": {
      "image/png": "[encoded data removed]",
      "text/plain": [
       "<Figure size 432x288 with 1 Axes>"
      ]
     },
     "metadata": {
      "needs_background": "light"
     },
     "output_type": "display_data"
    }
   ],
   "source": [
    "# plot mean age per teff bin for all stars with well-constrained ages\n",
    "print(teff_bins)\n",
    "print(teff_groups.mean().array)\n",
    "plt.bar(teff_bins, teff_groups.mean().array, width=250)\n",
    "plt.ylabel(\"age [Gyr]\")\n",
    "plt.xlabel(\"teff [K]\")\n",
    "plt.show()"
   ]
  },
  {
   "cell_type": "code",
   "execution_count": 13,
   "metadata": {},
   "outputs": [
    {
     "name": "stdout",
     "output_type": "stream",
     "text": [
      "4191\n",
      "21737\n",
      "0.1928048948796982\n"
     ]
    }
   ],
   "source": [
    "# ratio of young stars to old\n",
    "a = catalog.loc[catalog.iso_age < 1.0]\n",
    "print(len(a))\n",
    "print(len(catalog))\n",
    "print(len(a)/len(catalog))"
   ]
  },
  {
   "cell_type": "markdown",
   "metadata": {},
   "source": [
    "## Cross-Matching with Kepler"
   ]
  },
  {
   "cell_type": "code",
   "execution_count": 15,
   "metadata": {},
   "outputs": [],
   "source": [
    "# cross-matching from Megan Bedell's gaia-kepler.fun KIC objs\n",
    "path = '/Users/chris/Desktop/sculpting/crossmatch_fun/'\n",
    "hdu1 = fits.open(path+'kepler_dr2_1arcsec.fits')\n",
    "data = hdu1[1].data\n",
    "header = hdu1[1].header\n",
    "columns = hdu1[1].columns\n",
    "hdu1.close()"
   ]
  },
  {
   "cell_type": "code",
   "execution_count": 16,
   "metadata": {
    "scrolled": true
   },
   "outputs": [
    {
     "name": "stderr",
     "output_type": "stream",
     "text": [
      "/Users/chris/anaconda2/lib/python3.6/site-packages/IPython/core/interactiveshell.py:3343: TableReplaceWarning: converted column 'r_result_flag' from integer to float\n",
      "  exec(code_obj, self.user_global_ns, self.user_ns)\n",
      "/Users/chris/anaconda2/lib/python3.6/site-packages/IPython/core/interactiveshell.py:3343: TableReplaceWarning: converted column 'r_modality_flag' from integer to float\n",
      "  exec(code_obj, self.user_global_ns, self.user_ns)\n",
      "/Users/chris/anaconda2/lib/python3.6/site-packages/IPython/core/interactiveshell.py:3343: TableReplaceWarning: converted column 'teff_err1' from integer to float\n",
      "  exec(code_obj, self.user_global_ns, self.user_ns)\n",
      "/Users/chris/anaconda2/lib/python3.6/site-packages/IPython/core/interactiveshell.py:3343: TableReplaceWarning: converted column 'teff_err2' from integer to float\n",
      "  exec(code_obj, self.user_global_ns, self.user_ns)\n"
     ]
    },
    {
     "name": "stdout",
     "output_type": "stream",
     "text": [
      "    kepid planet?\n",
      "0  757076    none\n",
      "1  757099    none\n",
      "2  757137    none\n",
      "3  757280    none\n",
      "4  757450    conf\n"
     ]
    }
   ],
   "source": [
    "# enough noodling. let's read into pandas table\n",
    "kep_data = Table.read(path+'kepler_dr2_1arcsec.fits', format='fits')\n",
    "kep_data = kep_data.to_pandas()\n",
    "# decode byte literal column to string\n",
    "kep_data['planet?'] = kep_data['planet?'].str.decode(\"utf-8\")\n",
    "kep_data_thin = kep_data[['kepid','planet?']]\n",
    "print(kep_data_thin.head())"
   ]
  },
  {
   "cell_type": "code",
   "execution_count": 17,
   "metadata": {},
   "outputs": [
    {
     "name": "stdout",
     "output_type": "stream",
     "text": [
      "21737\n",
      "201312\n",
      "21767\n",
      "      KIC  iso_mass  iso_mass_err1  iso_mass_err2  iso_teff  iso_teff_err1  \\\n",
      "0  757280     1.715          0.086         -0.089    6856.8          144.4   \n",
      "1  892667     1.548          0.081         -0.087    6704.9          148.8   \n",
      "2  892678     1.584          0.071         -0.062    5890.4          121.6   \n",
      "3  892713     1.731          0.219         -0.087    6238.9          123.4   \n",
      "4  892828     1.398          0.071         -0.069    6464.3          137.7   \n",
      "\n",
      "   iso_teff_err2  iso_logg  iso_logg_err1  iso_logg_err2  ...  mass_err2  \\\n",
      "0         -139.9     3.834          0.033         -0.032  ...     -0.157   \n",
      "1         -128.8     3.950          0.034         -0.036  ...     -0.236   \n",
      "2         -114.9     3.574          0.030         -0.030  ...     -0.204   \n",
      "3         -129.8     3.548          0.066         -0.037  ...     -0.270   \n",
      "4         -128.9     4.034          0.032         -0.034  ...     -0.217   \n",
      "\n",
      "   prov_sec  nconfp  nkoi  ntce    jmag    hmag  kmag_y  planet?  \\\n",
      "0   b'DSEP'       0     0     0  10.852  10.662  10.627     none   \n",
      "1   b'DSEP'       0     0     1  12.088  11.856  11.818     none   \n",
      "2   b'DSEP'       0     0     0  10.946  10.646  10.580     none   \n",
      "3   b'DSEP'       0     0     0  10.853  10.588  10.508     none   \n",
      "4   b'DSEP'       0     0     0  12.168  11.961  11.883     none   \n",
      "\n",
      "   kepler_gaia_ang_dist  \n",
      "0              0.116420  \n",
      "1              0.166107  \n",
      "2              0.124651  \n",
      "3              0.103529  \n",
      "4              0.161792  \n",
      "\n",
      "[5 rows x 180 columns]\n"
     ]
    }
   ],
   "source": [
    "# join Bedell cross-match with Berger catalog\n",
    "crossmatch = pd.merge(catalog, kep_data, how='inner', left_on='KIC', right_on='kepid')\n",
    "print(len(catalog))\n",
    "print(len(kep_data))\n",
    "print(len(crossmatch))\n",
    "print(crossmatch.head())"
   ]
  },
  {
   "cell_type": "code",
   "execution_count": 134,
   "metadata": {},
   "outputs": [
    {
     "name": "stdout",
     "output_type": "stream",
     "text": [
      "201312\n",
      "197775\n",
      "    kepid  planet?  count\n",
      "0  757076  b'none'      1\n",
      "1  757099  b'none'      1\n",
      "2  757137  b'none'      1\n",
      "3  757280  b'none'      1\n",
      "4  757450  b'conf'      1\n"
     ]
    }
   ],
   "source": [
    "# for 1\" data, group by to remove duplicates; ignore count column, that's just so I have a dataframe rather than a dataframegroupby object\n",
    "group1 = kep_data_thin.groupby(by=['kepid','planet?']).size().to_frame(name = 'count').reset_index()\n",
    "print(len(kep_data_thin))\n",
    "print(len(group1))\n",
    "print(group1.head())"
   ]
  },
  {
   "cell_type": "code",
   "execution_count": 130,
   "metadata": {
    "scrolled": true
   },
   "outputs": [
    {
     "name": "stdout",
     "output_type": "stream",
     "text": [
      "0\n",
      "Empty DataFrame\n",
      "Columns: [kepid, planet?, count, dupe?]\n",
      "Index: []\n"
     ]
    }
   ],
   "source": [
    "# then see if any kepids have more than one answer for 'planet?'; if so, which ones and how many?\n",
    "group1['dupe?'] = group1.duplicated(subset=['kepid'])\n",
    "group1_discrep = group1.loc[group1['dupe?']==True]\n",
    "print(len(group1_discrep))\n",
    "print(group1_discrep.head())"
   ]
  },
  {
   "cell_type": "code",
   "execution_count": 18,
   "metadata": {},
   "outputs": [
    {
     "name": "stdout",
     "output_type": "stream",
     "text": [
      "0\n",
      "Empty DataFrame\n",
      "Columns: [kepid, planet?, teff, mass, radius, feh, logg, source_id, count, dupe?]\n",
      "Index: []\n"
     ]
    }
   ],
   "source": [
    "# final duplicate test\n",
    "test1 = kep_data.groupby(by=['kepid','planet?','teff', 'mass', 'radius', 'feh', 'logg', 'source_id']).size().to_frame(name = 'count').reset_index()\n",
    "test1['dupe?'] = test1.duplicated(subset=['kepid','planet?','teff', 'mass', 'radius', 'feh', 'logg', 'source_id'])\n",
    "test1_discrep = test1.loc[test1['dupe?']==True]\n",
    "print(len(test1_discrep))\n",
    "print(test1_discrep.head())"
   ]
  },
  {
   "cell_type": "markdown",
   "metadata": {},
   "source": [
    "## Planet occurrence rate"
   ]
  },
  {
   "cell_type": "code",
   "execution_count": 19,
   "metadata": {},
   "outputs": [
    {
     "name": "stdout",
     "output_type": "stream",
     "text": [
      "21767\n",
      "21705\n",
      "20624\n",
      "963\n",
      "118\n",
      "candidates only:  0.04436765722183829\n",
      "confirmed only:  0.00543653536051601\n",
      "candidates and confirmed:  0.049804192582354294\n"
     ]
    }
   ],
   "source": [
    "# use 1\" search radius Kepler data\n",
    "\n",
    "# drop duplicates on KIC, which we can do because we guaranteed one-to-one matching of KIC and planet-occurrence status\n",
    "group_crossmatch = crossmatch.drop_duplicates(['KIC'])\n",
    "print(len(crossmatch))\n",
    "print(len(group_crossmatch))\n",
    "\n",
    "# count Kepler objects with each type of planet occurrence\n",
    "none = group_crossmatch.loc[group_crossmatch['planet?'] == 'none']\n",
    "cand = group_crossmatch.loc[group_crossmatch['planet?'] == 'cand']\n",
    "conf = group_crossmatch.loc[group_crossmatch['planet?'] == 'conf']\n",
    "print(len(none))\n",
    "print(len(cand))\n",
    "print(len(conf))\n",
    "\n",
    "# cand and conf planet occurrence rates across FGK dwarfs from Berger et al 2020\n",
    "print(\"candidates only: \", len(cand)/len(group_crossmatch))\n",
    "print(\"confirmed only: \", len(conf)/len(group_crossmatch))\n",
    "print(\"candidates and confirmed: \", (len(cand)+len(conf))/len(group_crossmatch))"
   ]
  },
  {
   "cell_type": "code",
   "execution_count": 20,
   "metadata": {
    "scrolled": true
   },
   "outputs": [
    {
     "name": "stdout",
     "output_type": "stream",
     "text": [
      "150560\n",
      "201312\n",
      "152450\n",
      "      KIC  iso_mass  iso_mass_err1  iso_mass_err2  iso_teff  iso_teff_err1  \\\n",
      "0  757076     1.396          0.179         -0.218    5052.2          103.9   \n",
      "1  757099     0.873          0.054         -0.039    5364.9          102.7   \n",
      "2  757137     1.669          0.309         -0.300    4628.7           84.8   \n",
      "3  757280     1.715          0.086         -0.089    6856.8          144.4   \n",
      "4  757450     0.914          0.062         -0.057    5301.2          111.0   \n",
      "\n",
      "   iso_teff_err2  iso_logg  iso_logg_err1  iso_logg_err2  ...  iso_age_err1  \\\n",
      "0          -86.6     3.373          0.067         -0.081  ...          1.82   \n",
      "1          -84.9     4.318          0.037         -0.029  ...          3.00   \n",
      "2          -76.2     2.388          0.083         -0.086  ...          1.06   \n",
      "3         -139.9     3.834          0.033         -0.032  ...          0.20   \n",
      "4         -103.1     4.432          0.045         -0.044  ...          5.36   \n",
      "\n",
      "   iso_age_err2  iso_dis  iso_dis_err1  iso_dis_err2  iso_avs  iso_gof   TAMS  \\\n",
      "0         -0.73    651.5          22.6         -21.6    0.371      1.0   2.69   \n",
      "1         -3.98    367.8           7.1          -6.9    0.340      1.0  17.18   \n",
      "2         -0.58    568.4          12.2         -11.6    0.344      1.0   1.66   \n",
      "3         -0.16    822.0          19.4         -21.0    0.496      1.0   1.62   \n",
      "4         -5.15    829.6          24.0         -23.4    0.465      1.0  16.10   \n",
      "\n",
      "    kepid  planet?  \n",
      "0  757076     none  \n",
      "1  757099     none  \n",
      "2  757137     none  \n",
      "3  757280     none  \n",
      "4  757450     conf  \n",
      "\n",
      "[5 rows x 34 columns]\n"
     ]
    }
   ],
   "source": [
    "# merge Bedell's Kepler cross-match with all well-defined stars from Berger et al 2020's Gaia-Kepler catalog\n",
    "crossmatch_all = pd.merge(table2, kep_data_thin, how='inner', left_on='KIC', right_on='kepid')\n",
    "print(len(table2))\n",
    "print(len(kep_data_thin))\n",
    "print(len(crossmatch_all))\n",
    "print(crossmatch_all.head())"
   ]
  },
  {
   "cell_type": "code",
   "execution_count": 21,
   "metadata": {},
   "outputs": [
    {
     "name": "stdout",
     "output_type": "stream",
     "text": [
      "152450\n",
      "150445\n",
      "144396\n",
      "4853\n",
      "1196\n",
      "candidates only:  0.032257635680813586\n",
      "confirmed only:  0.00794974907773605\n",
      "candidates and confirmed:  0.04020738475854964\n"
     ]
    }
   ],
   "source": [
    "# drop duplicates as with FGK cross-match\n",
    "group_crossmatch_all = crossmatch_all.drop_duplicates(['KIC'])\n",
    "print(len(crossmatch_all))\n",
    "print(len(group_crossmatch_all))\n",
    "\n",
    "# count objects with each type of planet occurrence\n",
    "none_all = group_crossmatch_all.loc[group_crossmatch_all['planet?'] == 'none']\n",
    "cand_all = group_crossmatch_all.loc[group_crossmatch_all['planet?'] == 'cand']\n",
    "conf_all = group_crossmatch_all.loc[group_crossmatch_all['planet?'] == 'conf']\n",
    "print(len(none_all))\n",
    "print(len(cand_all))\n",
    "print(len(conf_all))\n",
    "\n",
    "# cand and conf planet occurrence rates across all well-defined stars from Berger et al 2020's Kepler-Gaia catalog\n",
    "print(\"candidates only: \", len(cand_all)/len(group_crossmatch_all))\n",
    "print(\"confirmed only: \", len(conf_all)/len(group_crossmatch_all))\n",
    "print(\"candidates and confirmed: \", (len(cand_all)+len(conf_all))/len(group_crossmatch_all))"
   ]
  },
  {
   "cell_type": "markdown",
   "metadata": {},
   "source": [
    "## Cross-Matching with K2"
   ]
  },
  {
   "cell_type": "code",
   "execution_count": 22,
   "metadata": {},
   "outputs": [],
   "source": [
    "# cross-matching from Megan Bedell's gaia-kepler.fun confirmed exoplanets...well of course there won't be a KIC to match on\n",
    "from astropy.io import fits\n",
    "path = '/Users/chris/Desktop/sculpting/crossmatch_fun/'\n",
    "hdu3 = fits.open(path+'k2_dr2_1arcsec.fits')\n",
    "data = hdu3[1].data\n",
    "header = hdu3[1].header\n",
    "columns = hdu3[1].columns\n",
    "hdu3.close()"
   ]
  },
  {
   "cell_type": "code",
   "execution_count": 23,
   "metadata": {},
   "outputs": [
    {
     "name": "stdout",
     "output_type": "stream",
     "text": [
      "131\n",
      "ColDefs(\n",
      "    name = 'solution_id'; format = 'K'; null = 999999\n",
      "    name = 'designation'; format = '28A'\n",
      "    name = 'source_id'; format = 'K'; null = 999999\n",
      "    name = 'random_index'; format = 'K'; null = 999999\n",
      "    name = 'gaia_ref_epoch'; format = 'D'\n",
      "    name = 'ra'; format = 'D'; unit = 'deg'\n",
      "    name = 'ra_error'; format = 'D'; unit = '10**-3 arcsec'\n",
      "    name = 'dec'; format = 'D'; unit = 'deg'\n",
      "    name = 'dec_error'; format = 'D'; unit = '10**-3 arcsec'\n",
      "    name = 'parallax'; format = 'D'; unit = '10**-3 arcsec'\n",
      "    name = 'parallax_error'; format = 'D'; unit = '10**-3 arcsec'\n",
      "    name = 'parallax_over_error'; format = 'E'\n",
      "    name = 'pmra'; format = 'D'; unit = '10**-3 arcsec yr-1'\n",
      "    name = 'pmra_error'; format = 'D'; unit = '10**-3 arcsec yr-1'\n",
      "    name = 'pmdec'; format = 'D'; unit = '10**-3 arcsec yr-1'\n",
      "    name = 'pmdec_error'; format = 'D'; unit = '10**-3 arcsec yr-1'\n",
      "    name = 'ra_dec_corr'; format = 'E'\n",
      "    name = 'ra_parallax_corr'; format = 'E'\n",
      "    name = 'ra_pmra_corr'; format = 'E'\n",
      "    name = 'ra_pmdec_corr'; format = 'E'\n",
      "    name = 'dec_parallax_corr'; format = 'E'\n",
      "    name = 'dec_pmra_corr'; format = 'E'\n",
      "    name = 'dec_pmdec_corr'; format = 'E'\n",
      "    name = 'parallax_pmra_corr'; format = 'E'\n",
      "    name = 'parallax_pmdec_corr'; format = 'E'\n",
      "    name = 'pmra_pmdec_corr'; format = 'E'\n",
      "    name = 'astrometric_n_obs_al'; format = 'J'; null = 999999\n",
      "    name = 'astrometric_n_obs_ac'; format = 'J'; null = 999999\n",
      "    name = 'astrometric_n_good_obs_al'; format = 'J'; null = 999999\n",
      "    name = 'astrometric_n_bad_obs_al'; format = 'J'; null = 999999\n",
      "    name = 'astrometric_gof_al'; format = 'E'\n",
      "    name = 'astrometric_chi2_al'; format = 'E'\n",
      "    name = 'astrometric_excess_noise'; format = 'D'; unit = 'mas'\n",
      "    name = 'astrometric_excess_noise_sig'; format = 'D'\n",
      "    name = 'astrometric_params_solved'; format = 'I'; null = 16959\n",
      "    name = 'astrometric_primary_flag'; format = 'L'\n",
      "    name = 'astrometric_weight_al'; format = 'E'; unit = 'mas-2'\n",
      "    name = 'astrometric_pseudo_colour'; format = 'D'; unit = 'um-1'\n",
      "    name = 'astrometric_pseudo_colour_error'; format = 'D'; unit = 'um-1'\n",
      "    name = 'mean_varpi_factor_al'; format = 'E'\n",
      "    name = 'astrometric_matched_observations'; format = 'I'; null = 16959\n",
      "    name = 'visibility_periods_used'; format = 'I'; null = 16959\n",
      "    name = 'astrometric_sigma5d_max'; format = 'E'; unit = 'mas'\n",
      "    name = 'frame_rotator_object_type'; format = 'J'; null = 999999\n",
      "    name = 'matched_observations'; format = 'I'; null = 16959\n",
      "    name = 'duplicated_source'; format = 'L'\n",
      "    name = 'phot_g_n_obs'; format = 'J'; null = 999999\n",
      "    name = 'phot_g_mean_flux'; format = 'D'; unit = 'ph s-1'\n",
      "    name = 'phot_g_mean_flux_error'; format = 'D'; unit = 'ph s-1'\n",
      "    name = 'phot_g_mean_flux_over_error'; format = 'E'\n",
      "    name = 'phot_g_mean_mag'; format = 'E'; unit = 'mag'\n",
      "    name = 'phot_bp_n_obs'; format = 'J'; null = 999999\n",
      "    name = 'phot_bp_mean_flux'; format = 'D'; unit = 'ph s-1'\n",
      "    name = 'phot_bp_mean_flux_error'; format = 'D'; unit = 'ph s-1'\n",
      "    name = 'phot_bp_mean_flux_over_error'; format = 'E'\n",
      "    name = 'phot_bp_mean_mag'; format = 'E'; unit = 'mag'\n",
      "    name = 'phot_rp_n_obs'; format = 'J'; null = 999999\n",
      "    name = 'phot_rp_mean_flux'; format = 'D'; unit = 'ph s-1'\n",
      "    name = 'phot_rp_mean_flux_error'; format = 'D'; unit = 'ph s-1'\n",
      "    name = 'phot_rp_mean_flux_over_error'; format = 'E'\n",
      "    name = 'phot_rp_mean_mag'; format = 'E'; unit = 'mag'\n",
      "    name = 'phot_bp_rp_excess_factor'; format = 'E'\n",
      "    name = 'phot_proc_mode'; format = 'I'; null = 16959\n",
      "    name = 'bp_rp'; format = 'E'; unit = 'mag'\n",
      "    name = 'bp_g'; format = 'E'; unit = 'mag'\n",
      "    name = 'g_rp'; format = 'E'; unit = 'mag'\n",
      "    name = 'radial_velocity'; format = 'D'; unit = 'km s-1'\n",
      "    name = 'radial_velocity_error'; format = 'D'; unit = 'km s-1'\n",
      "    name = 'rv_nb_transits'; format = 'J'; null = 999999\n",
      "    name = 'rv_template_teff'; format = 'E'; unit = 'K'\n",
      "    name = 'rv_template_logg'; format = 'E'\n",
      "    name = 'rv_template_fe_h'; format = 'E'\n",
      "    name = 'phot_variable_flag'; format = '13A'\n",
      "    name = 'l'; format = 'D'; unit = 'deg'\n",
      "    name = 'b'; format = 'D'; unit = 'deg'\n",
      "    name = 'ecl_lon'; format = 'D'; unit = 'deg'\n",
      "    name = 'ecl_lat'; format = 'D'; unit = 'deg'\n",
      "    name = 'priam_flags'; format = 'K'; null = 999999\n",
      "    name = 'teff_val'; format = 'E'; unit = 'K'\n",
      "    name = 'teff_percentile_lower'; format = 'E'; unit = 'K'\n",
      "    name = 'teff_percentile_upper'; format = 'E'; unit = 'K'\n",
      "    name = 'a_g_val'; format = 'E'; unit = 'mag'\n",
      "    name = 'a_g_percentile_lower'; format = 'E'; unit = 'mag'\n",
      "    name = 'a_g_percentile_upper'; format = 'E'; unit = 'mag'\n",
      "    name = 'e_bp_min_rp_val'; format = 'E'; unit = 'mag'\n",
      "    name = 'e_bp_min_rp_percentile_lower'; format = 'E'; unit = 'mag'\n",
      "    name = 'e_bp_min_rp_percentile_upper'; format = 'E'; unit = 'mag'\n",
      "    name = 'flame_flags'; format = 'K'; null = 999999\n",
      "    name = 'radius_val'; format = 'E'; unit = 'solRad'\n",
      "    name = 'radius_percentile_lower'; format = 'E'; unit = 'solRad'\n",
      "    name = 'radius_percentile_upper'; format = 'E'; unit = 'solRad'\n",
      "    name = 'lum_val'; format = 'E'; unit = 'solLum'\n",
      "    name = 'lum_percentile_lower'; format = 'E'; unit = 'solLum'\n",
      "    name = 'lum_percentile_upper'; format = 'E'; unit = 'solLum'\n",
      "    name = 'datalink_url'; format = '77A'\n",
      "    name = 'epoch_photometry_url'; format = '99A'\n",
      "    name = 'epic_number'; format = 'K'; null = 999999\n",
      "    name = 'ra_epic'; format = 'D'; unit = 'deg'\n",
      "    name = 'dec_epic'; format = 'D'; unit = 'deg'\n",
      "    name = 'r_est'; format = 'D'; unit = 'pc'\n",
      "    name = 'r_lo'; format = 'D'; unit = 'pc'\n",
      "    name = 'r_hi'; format = 'D'; unit = 'pc'\n",
      "    name = 'r_length_prior'; format = 'D'; unit = 'pc'\n",
      "    name = 'r_result_flag'; format = 'I'; null = 16959\n",
      "    name = 'r_modality_flag'; format = 'I'; null = 16959\n",
      "    name = 'tm_name'; format = '25A'\n",
      "    name = 'k2_campaign_str'; format = '2A'\n",
      "    name = 'k2_type'; format = '8A'\n",
      "    name = 'k2_lcflag'; format = 'K'; null = 999999\n",
      "    name = 'k2_scflag'; format = 'K'; null = 999999\n",
      "    name = 'k2_teff'; format = 'D'; unit = 'K'\n",
      "    name = 'k2_tefferr1'; format = 'D'; unit = 'K'\n",
      "    name = 'k2_tefferr2'; format = 'D'; unit = 'K'\n",
      "    name = 'k2_logg'; format = 'D'\n",
      "    name = 'k2_loggerr1'; format = 'D'\n",
      "    name = 'k2_loggerr2'; format = 'D'\n",
      "    name = 'k2_metfe'; format = 'D'\n",
      "    name = 'k2_metfeerr1'; format = 'D'\n",
      "    name = 'k2_metfeerr2'; format = 'D'\n",
      "    name = 'k2_rad'; format = 'D'; unit = 'solRad'\n",
      "    name = 'k2_raderr1'; format = 'D'; unit = 'solRad'\n",
      "    name = 'k2_raderr2'; format = 'D'; unit = 'solRad'\n",
      "    name = 'k2_mass'; format = 'D'; unit = 'solMass'\n",
      "    name = 'k2_masserr1'; format = 'D'; unit = 'solMass'\n",
      "    name = 'k2_masserr2'; format = 'D'; unit = 'solMass'\n",
      "    name = 'k2_kepmag'; format = 'D'\n",
      "    name = 'k2_kepmagerr'; format = 'K'; null = 999999\n",
      "    name = 'k2_kepmagflag'; format = '3A'\n",
      "    name = 'k2c_disp'; format = '14A'\n",
      "    name = 'k2c_note'; format = '121A'\n",
      "    name = 'k2_gaia_ang_dist'; format = 'D'; unit = 'arcsec'\n",
      ")\n"
     ]
    }
   ],
   "source": [
    "print(len(columns))\n",
    "print(columns)"
   ]
  },
  {
   "cell_type": "markdown",
   "metadata": {},
   "source": [
    "## Cross-Matching with confirmed exoplanets"
   ]
  },
  {
   "cell_type": "code",
   "execution_count": 24,
   "metadata": {},
   "outputs": [],
   "source": [
    "# cross-matching from Megan Bedell's gaia-kepler.fun confirmed exoplanets...doesn't seem to have KIC to match on...\n",
    "from astropy.io import fits\n",
    "path = '/Users/chris/Desktop/sculpting/crossmatch_fun/'\n",
    "hdu2 = fits.open(path+'exoplanets_dr2_1arcsec.fits')\n",
    "data = hdu2[1].data\n",
    "header = hdu2[1].header\n",
    "columns = hdu2[1].columns\n",
    "#kep_data = Table.read(path+'kepler_dr2_1arcsec.fits', format='fits')\n",
    "#kep_data = kep_data.to_pandas()[['kepid','planet?']]\n",
    "#print(kep_data.head())\n",
    "hdu2.close()"
   ]
  },
  {
   "cell_type": "code",
   "execution_count": 25,
   "metadata": {},
   "outputs": [
    {
     "data": {
      "text/plain": [
       "(1635721458409799680, 'Gaia DR2 3946945413106333696', 3946945413106333696, 221573267, 2015.5, 185.17877927819265, 0.16203243145904145, 17.79325163825353, 0.131687630347403, 10.710445335679449, 0.2197390136107608, 48.741665, -109.2413803041909, 0.3161072085232074, 88.17010164023338, 0.2772971016262472, -0.24134229, -0.33809444, 0.15142575, 0.13483438, -0.110146195, -0.016184712, 0.43014202, 0.005286964, -0.41975275, -0.3410357, 378, 378, 334, 44, 117.97339, 22105.432, 0.8913460033957228, 381.93167542286074, 31, True, 1.1513063, 1.7238976028274915, 0.03928369901084555, 0.06852711, 44, 11, 0.17436285, 0, 53, False, 411, 336024521.9139364, 860953.7315569692, 390.29337, 4.3724384, 40, 140928619.43828443, 279608.64519581286, 504.02097, 4.97889, 45, 244017880.46586746, 490175.345571102, 497.81754, 3.793366, 1.1455905, 0, 1.185524, 0.6064515, 0.5790725, 43.36898087333795, 0.20870222477915987, 16, 4750.0, 3.0, -0.25, 'NOT_AVAILABLE', 264.1377247628008, 78.2805843948228, 177.4217840787002, 18.333923333325714, 100001, 4755.0, 4680.0, 5067.0, 0.1887, 0.0177, 1.6999, 0.1125, 0.0233, 0.9245, 200111, 17.181, 15.130305, 17.736086, 135.95453, 132.77434, 139.13472, 'http://geadata.esac.esa.int/data-server/datalink/links?ID=3946945413106333696', '', 185.179276, 17.792868, '11comb', 93.1845923234572, 91.2998090442595, 95.1473840351671, 445.389899685864, 1, 1, '11 Com', 'b', 'Radial Velocity', 0, 1, 326.03, 0.32, -0.32, 0, 1, 1.29, 0.05, -0.05, 0, 2, 0.231, 0.005, -0.005, 0, 1, nan, nan, nan, 999999, 0, 19.4, 1.5, -1.5, 0, 2, 'Msini', nan, nan, nan, 999999, 0, nan, nan, nan, 999999, 0, 0, 0, 0, 2, 93.37, 1.92, -1.92, 0, 4, 4.74, nan, 0, 'V (Johnson)', 4.372, 999999, 0, 4742.0, 100.0, -100.0, 0, 4, 2.7, 0.3, -0.3, 0, 3, 19.0, 2.0, -2.0, 0, 3, 0, '2014-05-14', 'Xinglong Station', 0, 1, 0, 0, 0, 0, 2007, 'HD 107383', 'HIP 60202', 43.37, 0.21, -0.21, 0, 1, 0.017243138932188082)"
      ]
     },
     "execution_count": 25,
     "metadata": {},
     "output_type": "execute_result"
    }
   ],
   "source": [
    "data[0]"
   ]
  },
  {
   "cell_type": "code",
   "execution_count": 26,
   "metadata": {},
   "outputs": [
    {
     "name": "stdout",
     "output_type": "stream",
     "text": [
      "195\n"
     ]
    },
    {
     "data": {
      "text/plain": [
       "ColDefs(\n",
       "    name = 'solution_id'; format = 'K'; null = 999999\n",
       "    name = 'designation'; format = '28A'\n",
       "    name = 'source_id'; format = 'K'; null = 999999\n",
       "    name = 'random_index'; format = 'K'; null = 999999\n",
       "    name = 'gaia_ref_epoch'; format = 'D'\n",
       "    name = 'ra'; format = 'D'; unit = 'deg'\n",
       "    name = 'ra_error'; format = 'D'; unit = '10**-3 arcsec'\n",
       "    name = 'dec'; format = 'D'; unit = 'deg'\n",
       "    name = 'dec_error'; format = 'D'; unit = '10**-3 arcsec'\n",
       "    name = 'parallax'; format = 'D'; unit = '10**-3 arcsec'\n",
       "    name = 'parallax_error'; format = 'D'; unit = '10**-3 arcsec'\n",
       "    name = 'parallax_over_error'; format = 'E'\n",
       "    name = 'pmra'; format = 'D'; unit = '10**-3 arcsec yr-1'\n",
       "    name = 'pmra_error'; format = 'D'; unit = '10**-3 arcsec yr-1'\n",
       "    name = 'pmdec'; format = 'D'; unit = '10**-3 arcsec yr-1'\n",
       "    name = 'pmdec_error'; format = 'D'; unit = '10**-3 arcsec yr-1'\n",
       "    name = 'ra_dec_corr'; format = 'E'\n",
       "    name = 'ra_parallax_corr'; format = 'E'\n",
       "    name = 'ra_pmra_corr'; format = 'E'\n",
       "    name = 'ra_pmdec_corr'; format = 'E'\n",
       "    name = 'dec_parallax_corr'; format = 'E'\n",
       "    name = 'dec_pmra_corr'; format = 'E'\n",
       "    name = 'dec_pmdec_corr'; format = 'E'\n",
       "    name = 'parallax_pmra_corr'; format = 'E'\n",
       "    name = 'parallax_pmdec_corr'; format = 'E'\n",
       "    name = 'pmra_pmdec_corr'; format = 'E'\n",
       "    name = 'astrometric_n_obs_al'; format = 'J'; null = 999999\n",
       "    name = 'astrometric_n_obs_ac'; format = 'J'; null = 999999\n",
       "    name = 'astrometric_n_good_obs_al'; format = 'J'; null = 999999\n",
       "    name = 'astrometric_n_bad_obs_al'; format = 'J'; null = 999999\n",
       "    name = 'astrometric_gof_al'; format = 'E'\n",
       "    name = 'astrometric_chi2_al'; format = 'E'\n",
       "    name = 'astrometric_excess_noise'; format = 'D'; unit = 'mas'\n",
       "    name = 'astrometric_excess_noise_sig'; format = 'D'\n",
       "    name = 'astrometric_params_solved'; format = 'I'; null = 16959\n",
       "    name = 'astrometric_primary_flag'; format = 'L'\n",
       "    name = 'astrometric_weight_al'; format = 'E'; unit = 'mas-2'\n",
       "    name = 'astrometric_pseudo_colour'; format = 'D'; unit = 'um-1'\n",
       "    name = 'astrometric_pseudo_colour_error'; format = 'D'; unit = 'um-1'\n",
       "    name = 'mean_varpi_factor_al'; format = 'E'\n",
       "    name = 'astrometric_matched_observations'; format = 'I'; null = 16959\n",
       "    name = 'visibility_periods_used'; format = 'I'; null = 16959\n",
       "    name = 'astrometric_sigma5d_max'; format = 'E'; unit = 'mas'\n",
       "    name = 'frame_rotator_object_type'; format = 'J'; null = 999999\n",
       "    name = 'matched_observations'; format = 'I'; null = 16959\n",
       "    name = 'duplicated_source'; format = 'L'\n",
       "    name = 'phot_g_n_obs'; format = 'J'; null = 999999\n",
       "    name = 'phot_g_mean_flux'; format = 'D'; unit = 'ph s-1'\n",
       "    name = 'phot_g_mean_flux_error'; format = 'D'; unit = 'ph s-1'\n",
       "    name = 'phot_g_mean_flux_over_error'; format = 'E'\n",
       "    name = 'phot_g_mean_mag'; format = 'E'; unit = 'mag'\n",
       "    name = 'phot_bp_n_obs'; format = 'J'; null = 999999\n",
       "    name = 'phot_bp_mean_flux'; format = 'D'; unit = 'ph s-1'\n",
       "    name = 'phot_bp_mean_flux_error'; format = 'D'; unit = 'ph s-1'\n",
       "    name = 'phot_bp_mean_flux_over_error'; format = 'E'\n",
       "    name = 'phot_bp_mean_mag'; format = 'E'; unit = 'mag'\n",
       "    name = 'phot_rp_n_obs'; format = 'J'; null = 999999\n",
       "    name = 'phot_rp_mean_flux'; format = 'D'; unit = 'ph s-1'\n",
       "    name = 'phot_rp_mean_flux_error'; format = 'D'; unit = 'ph s-1'\n",
       "    name = 'phot_rp_mean_flux_over_error'; format = 'E'\n",
       "    name = 'phot_rp_mean_mag'; format = 'E'; unit = 'mag'\n",
       "    name = 'phot_bp_rp_excess_factor'; format = 'E'\n",
       "    name = 'phot_proc_mode'; format = 'I'; null = 16959\n",
       "    name = 'bp_rp'; format = 'E'; unit = 'mag'\n",
       "    name = 'bp_g'; format = 'E'; unit = 'mag'\n",
       "    name = 'g_rp'; format = 'E'; unit = 'mag'\n",
       "    name = 'radial_velocity'; format = 'D'; unit = 'km s-1'\n",
       "    name = 'radial_velocity_error'; format = 'D'; unit = 'km s-1'\n",
       "    name = 'rv_nb_transits'; format = 'J'; null = 999999\n",
       "    name = 'rv_template_teff'; format = 'E'; unit = 'K'\n",
       "    name = 'rv_template_logg'; format = 'E'\n",
       "    name = 'rv_template_fe_h'; format = 'E'\n",
       "    name = 'phot_variable_flag'; format = '13A'\n",
       "    name = 'l'; format = 'D'; unit = 'deg'\n",
       "    name = 'b'; format = 'D'; unit = 'deg'\n",
       "    name = 'ecl_lon'; format = 'D'; unit = 'deg'\n",
       "    name = 'ecl_lat'; format = 'D'; unit = 'deg'\n",
       "    name = 'priam_flags'; format = 'K'; null = 999999\n",
       "    name = 'teff_val'; format = 'E'; unit = 'K'\n",
       "    name = 'teff_percentile_lower'; format = 'E'; unit = 'K'\n",
       "    name = 'teff_percentile_upper'; format = 'E'; unit = 'K'\n",
       "    name = 'a_g_val'; format = 'E'; unit = 'mag'\n",
       "    name = 'a_g_percentile_lower'; format = 'E'; unit = 'mag'\n",
       "    name = 'a_g_percentile_upper'; format = 'E'; unit = 'mag'\n",
       "    name = 'e_bp_min_rp_val'; format = 'E'; unit = 'mag'\n",
       "    name = 'e_bp_min_rp_percentile_lower'; format = 'E'; unit = 'mag'\n",
       "    name = 'e_bp_min_rp_percentile_upper'; format = 'E'; unit = 'mag'\n",
       "    name = 'flame_flags'; format = 'K'; null = 999999\n",
       "    name = 'radius_val'; format = 'E'; unit = 'solRad'\n",
       "    name = 'radius_percentile_lower'; format = 'E'; unit = 'solRad'\n",
       "    name = 'radius_percentile_upper'; format = 'E'; unit = 'solRad'\n",
       "    name = 'lum_val'; format = 'E'; unit = 'solLum'\n",
       "    name = 'lum_percentile_lower'; format = 'E'; unit = 'solLum'\n",
       "    name = 'lum_percentile_upper'; format = 'E'; unit = 'solLum'\n",
       "    name = 'datalink_url'; format = '77A'\n",
       "    name = 'epoch_photometry_url'; format = '99A'\n",
       "    name = 'ra_nasa'; format = 'D'; unit = 'deg'\n",
       "    name = 'dec_nasa'; format = 'D'; unit = 'deg'\n",
       "    name = 'pl_name'; format = '26A'\n",
       "    name = 'r_est'; format = 'D'; unit = 'pc'\n",
       "    name = 'r_lo'; format = 'D'; unit = 'pc'\n",
       "    name = 'r_hi'; format = 'D'; unit = 'pc'\n",
       "    name = 'r_length_prior'; format = 'D'; unit = 'pc'\n",
       "    name = 'r_result_flag'; format = 'I'; null = 16959\n",
       "    name = 'r_modality_flag'; format = 'I'; null = 16959\n",
       "    name = 'pl_hostname'; format = '27A'\n",
       "    name = 'pl_letter'; format = '1A'\n",
       "    name = 'pl_discmethod'; format = '29A'\n",
       "    name = 'pl_controvflag'; format = 'K'; null = 999999\n",
       "    name = 'pl_pnum'; format = 'K'; null = 999999\n",
       "    name = 'pl_orbper'; format = 'D'\n",
       "    name = 'pl_orbpererr1'; format = 'D'\n",
       "    name = 'pl_orbpererr2'; format = 'D'\n",
       "    name = 'pl_orbperlim'; format = 'K'; null = 999999\n",
       "    name = 'pl_orbpern'; format = 'K'; null = 999999\n",
       "    name = 'pl_orbsmax'; format = 'D'\n",
       "    name = 'pl_orbsmaxerr1'; format = 'D'\n",
       "    name = 'pl_orbsmaxerr2'; format = 'D'\n",
       "    name = 'pl_orbsmaxlim'; format = 'K'; null = 999999\n",
       "    name = 'pl_orbsmaxn'; format = 'K'; null = 999999\n",
       "    name = 'pl_orbeccen'; format = 'D'\n",
       "    name = 'pl_orbeccenerr1'; format = 'D'\n",
       "    name = 'pl_orbeccenerr2'; format = 'D'\n",
       "    name = 'pl_orbeccenlim'; format = 'K'; null = 999999\n",
       "    name = 'pl_orbeccenn'; format = 'K'; null = 999999\n",
       "    name = 'pl_orbincl'; format = 'D'\n",
       "    name = 'pl_orbinclerr1'; format = 'D'\n",
       "    name = 'pl_orbinclerr2'; format = 'D'\n",
       "    name = 'pl_orbincllim'; format = 'K'; null = 999999\n",
       "    name = 'pl_orbincln'; format = 'K'; null = 999999\n",
       "    name = 'pl_bmassj'; format = 'D'\n",
       "    name = 'pl_bmassjerr1'; format = 'D'\n",
       "    name = 'pl_bmassjerr2'; format = 'D'\n",
       "    name = 'pl_bmassjlim'; format = 'K'; null = 999999\n",
       "    name = 'pl_bmassn'; format = 'K'; null = 999999\n",
       "    name = 'pl_bmassprov'; format = '14A'\n",
       "    name = 'pl_radj'; format = 'D'\n",
       "    name = 'pl_radjerr1'; format = 'D'\n",
       "    name = 'pl_radjerr2'; format = 'D'\n",
       "    name = 'pl_radjlim'; format = 'K'; null = 999999\n",
       "    name = 'pl_radn'; format = 'K'; null = 999999\n",
       "    name = 'pl_dens'; format = 'D'\n",
       "    name = 'pl_denserr1'; format = 'D'\n",
       "    name = 'pl_denserr2'; format = 'D'\n",
       "    name = 'pl_denslim'; format = 'K'; null = 999999\n",
       "    name = 'pl_densn'; format = 'K'; null = 999999\n",
       "    name = 'pl_ttvflag'; format = 'K'; null = 999999\n",
       "    name = 'pl_kepflag'; format = 'K'; null = 999999\n",
       "    name = 'pl_k2flag'; format = 'K'; null = 999999\n",
       "    name = 'st_posn'; format = 'K'; null = 999999\n",
       "    name = 'st_dist'; format = 'D'\n",
       "    name = 'st_disterr1'; format = 'D'\n",
       "    name = 'st_disterr2'; format = 'D'\n",
       "    name = 'st_distlim'; format = 'K'; null = 999999\n",
       "    name = 'st_distn'; format = 'K'; null = 999999\n",
       "    name = 'st_optmag'; format = 'D'\n",
       "    name = 'st_optmagerr'; format = 'D'\n",
       "    name = 'st_optmaglim'; format = 'K'; null = 999999\n",
       "    name = 'st_optband'; format = '11A'\n",
       "    name = 'gaia_gmag'; format = 'D'\n",
       "    name = 'gaia_gmagerr'; format = 'K'; null = 999999\n",
       "    name = 'gaia_gmaglim'; format = 'K'; null = 999999\n",
       "    name = 'st_teff'; format = 'D'\n",
       "    name = 'st_tefferr1'; format = 'D'\n",
       "    name = 'st_tefferr2'; format = 'D'\n",
       "    name = 'st_tefflim'; format = 'K'; null = 999999\n",
       "    name = 'st_teffn'; format = 'K'; null = 999999\n",
       "    name = 'st_mass'; format = 'D'\n",
       "    name = 'st_masserr1'; format = 'D'\n",
       "    name = 'st_masserr2'; format = 'D'\n",
       "    name = 'st_masslim'; format = 'K'; null = 999999\n",
       "    name = 'st_massn'; format = 'K'; null = 999999\n",
       "    name = 'st_rad'; format = 'D'\n",
       "    name = 'st_raderr1'; format = 'D'\n",
       "    name = 'st_raderr2'; format = 'D'\n",
       "    name = 'st_radlim'; format = 'K'; null = 999999\n",
       "    name = 'st_radn'; format = 'K'; null = 999999\n",
       "    name = 'pl_nnotes'; format = 'K'; null = 999999\n",
       "    name = 'rowupdate'; format = '10A'\n",
       "    name = 'pl_facility'; format = '44A'\n",
       "    name = 'pl_tranflag'; format = 'K'; null = 999999\n",
       "    name = 'pl_rvflag'; format = 'K'; null = 999999\n",
       "    name = 'pl_imgflag'; format = 'K'; null = 999999\n",
       "    name = 'pl_astflag'; format = 'K'; null = 999999\n",
       "    name = 'pl_omflag'; format = 'K'; null = 999999\n",
       "    name = 'pl_cbflag'; format = 'K'; null = 999999\n",
       "    name = 'pl_disc'; format = 'K'; null = 999999\n",
       "    name = 'hd_name'; format = '11A'\n",
       "    name = 'hip_name'; format = '12A'\n",
       "    name = 'st_radv'; format = 'D'\n",
       "    name = 'st_radverr1'; format = 'D'\n",
       "    name = 'st_radverr2'; format = 'D'\n",
       "    name = 'st_radvlim'; format = 'K'; null = 999999\n",
       "    name = 'st_radvn'; format = 'K'; null = 999999\n",
       "    name = 'nasa_gaia_ang_dist'; format = 'D'; unit = 'arcsec'\n",
       ")"
      ]
     },
     "execution_count": 26,
     "metadata": {},
     "output_type": "execute_result"
    }
   ],
   "source": [
    "print(len(columns))\n",
    "columns"
   ]
  },
  {
   "cell_type": "markdown",
   "metadata": {},
   "source": [
    "## Joining confirmed exoplanets with Kepler cross-match"
   ]
  },
  {
   "cell_type": "markdown",
   "metadata": {},
   "source": [
    "Pro: confirmed exoplanets dataset from gaia-kepler.fun has planet counts. Con: there's no KIC or kepid to join on."
   ]
  },
  {
   "cell_type": "code",
   "execution_count": 27,
   "metadata": {
    "scrolled": true
   },
   "outputs": [
    {
     "name": "stdout",
     "output_type": "stream",
     "text": [
      "           solution_id                      designation            source_id  \\\n",
      "0  1635721458409799680  b'Gaia DR2 3946945413106333696'  3946945413106333696   \n",
      "1  1635721458409799680  b'Gaia DR2 1696798367260229376'  1696798367260229376   \n",
      "2  1635721458409799680  b'Gaia DR2 1920113512486282240'  1920113512486282240   \n",
      "3  1635721458409799680  b'Gaia DR2 1385293808145621504'  1385293808145621504   \n",
      "4  1635721458409799680  b'Gaia DR2 2135550755683407232'  2135550755683407232   \n",
      "\n",
      "   random_index  gaia_ref_epoch          ra  ra_error        dec  dec_error  \\\n",
      "0     221573267          2015.5  185.178779  0.162032  17.793252   0.131688   \n",
      "1      91495763          2015.5  229.274595  0.122354  71.823943   0.110681   \n",
      "2     162105136          2015.5  352.824150  0.106518  39.235837   0.074691   \n",
      "3    1155875906          2015.5  242.602101  0.019262  43.816362   0.019824   \n",
      "4     166057510          2015.5  295.465642  0.022583  50.516824   0.024786   \n",
      "\n",
      "    parallax  ...  pl_cbflag  pl_disc       hd_name       hip_name  st_radv  \\\n",
      "0  10.710445  ...          0     2007  b'HD 107383'   b'HIP 60202'    43.37   \n",
      "1   7.953881  ...          0     2009  b'HD 136726'   b'HIP 74793'   -17.52   \n",
      "2  13.228880  ...          0     2008  b'HD 221345'  b'HIP 116076'   -59.73   \n",
      "3  55.736347  ...          0     2002  b'HD 145675'   b'HIP 79248'      NaN   \n",
      "4  47.275421  ...          0     1996  b'HD 186427'   b'HIP 96901'   -28.10   \n",
      "\n",
      "   st_radverr1  st_radverr2  st_radvlim  st_radvn  nasa_gaia_ang_dist  \n",
      "0         0.21        -0.21         0.0         1            0.017243  \n",
      "1         0.15        -0.15         0.0         1            0.014335  \n",
      "2         0.31        -0.31         0.0         1            0.050127  \n",
      "3          NaN          NaN         NaN         5            0.038616  \n",
      "4         0.10        -0.10         0.0         4            0.005876  \n",
      "\n",
      "[5 rows x 195 columns]\n"
     ]
    }
   ],
   "source": [
    "import warnings\n",
    "warnings.filterwarnings('ignore')\n",
    "path = '/Users/chris/Desktop/sculpting/crossmatch_fun/'\n",
    "confirmed = Table.read(path+'exoplanets_dr2_1arcsec.fits', format='fits')\n",
    "confirmed = confirmed.to_pandas()\n",
    "print(confirmed.head())"
   ]
  },
  {
   "cell_type": "code",
   "execution_count": 28,
   "metadata": {},
   "outputs": [
    {
     "name": "stdout",
     "output_type": "stream",
     "text": [
      "3666\n",
      "201312\n",
      "2367\n",
      "         solution_id_x                    designation_x            source_id  \\\n",
      "0  1635721458409799680  b'Gaia DR2 2135550755683407232'  2135550755683407232   \n",
      "1  1635721458409799680  b'Gaia DR2 2080063931448749824'  2080063931448749824   \n",
      "2  1635721458409799680  b'Gaia DR2 2086512227851023872'  2086512227851023872   \n",
      "3  1635721458409799680  b'Gaia DR2 2086512227851023872'  2086512227851023872   \n",
      "4  1635721458409799680  b'Gaia DR2 2129256395211984000'  2129256395211984000   \n",
      "\n",
      "   random_index_x  gaia_ref_epoch_x        ra_x  ra_error_x      dec_x  \\\n",
      "0       166057510            2015.5  295.465642    0.022583  50.516824   \n",
      "1       712882192            2015.5  294.635917    0.034723  46.066408   \n",
      "2      1678330809            2015.5  297.710176    0.019271  48.081864   \n",
      "3      1678330809            2015.5  297.710176    0.019271  48.081864   \n",
      "4        87789293            2015.5  292.247190    0.017649  47.969543   \n",
      "\n",
      "   dec_error_x  parallax_x  ...  mass_err2  prov_sec  nconfp  nkoi  ntce  \\\n",
      "0     0.024786   47.275421  ...     -0.057   b'DSEP'       1     0     0   \n",
      "1     0.040124    2.495216  ...     -1.018   b'DSEP'       1     0     0   \n",
      "2     0.024141   26.450778  ...     -0.047   b'DSEP'       2     1     1   \n",
      "3     0.024141   26.450778  ...     -0.047   b'DSEP'       2     1     1   \n",
      "4     0.019830    2.903105  ...     -0.091   b'DSEP'       1     1     7   \n",
      "\n",
      "     jmag    hmag    kmag  planet?  kepler_gaia_ang_dist  \n",
      "0   4.993   4.695   4.651     conf              0.057565  \n",
      "1  12.757  12.889  12.955     conf              0.065727  \n",
      "2   7.608   7.131   7.009     conf              0.043749  \n",
      "3   7.608   7.131   7.009     conf              0.043749  \n",
      "4   9.555   9.344   9.334     conf              0.089069  \n",
      "\n",
      "[5 rows x 328 columns]\n",
      "Index(['solution_id_x', 'designation_x', 'source_id', 'random_index_x',\n",
      "       'gaia_ref_epoch_x', 'ra_x', 'ra_error_x', 'dec_x', 'dec_error_x',\n",
      "       'parallax_x',\n",
      "       ...\n",
      "       'mass_err2', 'prov_sec', 'nconfp', 'nkoi', 'ntce', 'jmag', 'hmag',\n",
      "       'kmag', 'planet?', 'kepler_gaia_ang_dist'],\n",
      "      dtype='object', length=328)\n"
     ]
    }
   ],
   "source": [
    "confirmed_kepler = pd.merge(confirmed, kep_data, how='inner', on='source_id')\n",
    "print(len(confirmed))\n",
    "print(len(kep_data))\n",
    "print(len(confirmed_kepler))\n",
    "print(confirmed_kepler.head())\n",
    "print(confirmed_kepler.columns)"
   ]
  },
  {
   "cell_type": "code",
   "execution_count": 29,
   "metadata": {},
   "outputs": [
    {
     "name": "stdout",
     "output_type": "stream",
     "text": [
      "    st_mass   mass  st_teff   teff  st_rad  radius        ra_x        ra_y  \\\n",
      "0      1.08  0.952   5750.0   5745    1.13   1.069  295.465642  295.465642   \n",
      "1      0.48  3.244      NaN  10899     NaN   3.746  294.635917  294.635917   \n",
      "2      0.81  0.830   4780.0   4778    0.68   0.763  297.710176  297.710176   \n",
      "3      0.81  0.830   4780.0   4778    0.68   0.763  297.710176  297.710176   \n",
      "4      1.56  1.449   6389.0   6440    2.00   1.952  292.247190  292.247190   \n",
      "5      1.40  1.406   6453.0   6469    1.51   1.467  286.685473  286.685473   \n",
      "6      0.90  0.938   5491.0   5741    0.88   0.846  286.273915  286.273915   \n",
      "7      1.22  1.275   6144.0   6180    1.57   1.603  293.079463  293.079463   \n",
      "8      1.11  0.931   6109.0   6068    1.17   0.831  292.020435  292.020435   \n",
      "9      1.11  1.441   4972.0   4994    3.39   3.818  297.359343  297.359343   \n",
      "10     1.00  0.946   5782.0   5727    1.06   1.104  286.285900  286.285900   \n",
      "11     0.78  1.064   5328.0   6327    0.74   1.175  295.754207  295.754207   \n",
      "12     0.73  0.547   4587.0   4325    0.70   0.560  295.906530  295.906530   \n",
      "13     0.81  0.742   5066.0   4987    0.78   0.773  296.547639  296.547639   \n",
      "14     0.59  0.522   4027.0   3597    0.57   0.514  282.859861  282.859861   \n",
      "15     1.08  1.050   5825.0   5788    1.49   1.474  291.386129  291.386129   \n",
      "16     1.08  1.050   5825.0   5788    1.49   1.474  291.386129  291.386129   \n",
      "17     1.08  1.050   5825.0   5788    1.49   1.474  291.386129  291.386129   \n",
      "18     0.86  0.815   5253.0   5083    0.82   0.872  289.192603  289.192603   \n",
      "19     0.91  1.017   5416.0   5445    0.88   0.929  297.401549  297.401549   \n",
      "\n",
      "        dec_x      dec_y  pl_pnum  \n",
      "0   50.516824  50.516824        1  \n",
      "1   46.066408  46.066408        1  \n",
      "2   48.081864  48.081864        2  \n",
      "3   48.081864  48.081864        2  \n",
      "4   47.969543  47.969543        1  \n",
      "5   47.098195  47.098195        1  \n",
      "6   48.618697  48.618697        1  \n",
      "7   43.073677  43.073677        1  \n",
      "8   44.876243  44.876243        1  \n",
      "9   49.797546  49.797546        1  \n",
      "10  43.320508  43.320508        1  \n",
      "11  42.537307  42.537307        1  \n",
      "12  45.809089  45.809089        1  \n",
      "13  44.941831  44.941831        1  \n",
      "14  42.665834  42.665834        1  \n",
      "15  41.990139  41.990139        3  \n",
      "16  41.990139  41.990139        3  \n",
      "17  41.990139  41.990139        3  \n",
      "18  44.149316  44.149316        1  \n",
      "19  46.823998  46.823998        1  \n"
     ]
    }
   ],
   "source": [
    "# check that these are indeed the same star...it's really hard to tell\n",
    "print(confirmed_kepler[['st_mass', 'mass', 'st_teff', 'teff', 'st_rad',\n",
    "                        'radius', 'ra_x', 'ra_y', 'dec_x', 'dec_y', 'pl_pnum']].head(n=20))\n",
    "# 'st_metfe', 'gmag', 'st_optmag', 'kmag',"
   ]
  },
  {
   "cell_type": "markdown",
   "metadata": {},
   "source": [
    "## CDPP"
   ]
  },
  {
   "cell_type": "markdown",
   "metadata": {},
   "source": [
    "Characterize the noise between young and old stars with multiple CDPPs. Data from http://archive.stsci.edu/pub/kepler/catalogs/"
   ]
  },
  {
   "cell_type": "code",
   "execution_count": 30,
   "metadata": {},
   "outputs": [
    {
     "name": "stdout",
     "output_type": "stream",
     "text": [
      "200038\n",
      "    kepid           tm_designation  teff  teff_err1  teff_err2   logg  \\\n",
      "0  757076  2MASS J19240929+3635532  5160      171.0     -156.0  3.580   \n",
      "1  757099  2MASS J19241033+3635377  5519      182.0     -149.0  3.822   \n",
      "2  757137  2MASS J19241341+3633358  4706       74.0     -102.0  2.374   \n",
      "3  757280  2MASS J19242289+3633538  6543      162.0     -194.0  4.082   \n",
      "4  757450  2MASS J19243302+3634385  5332      106.0      -96.0  4.500   \n",
      "\n",
      "   logg_err1  logg_err2   feh  feh_err1  ...  timeout06p0  timeout07p5  \\\n",
      "0      0.928     -0.232 -0.10      0.30  ...          0.0          0.0   \n",
      "1      0.638     -0.213 -0.22      0.35  ...          1.0          1.0   \n",
      "2      0.030     -0.027 -0.10      0.20  ...          1.0          1.0   \n",
      "3      0.258     -0.172 -0.24      0.25  ...          0.0          0.0   \n",
      "4      0.050     -0.036 -0.08      0.15  ...          0.0          0.0   \n",
      "\n",
      "   timeout09p0  timeout10p5  timeout12p0  timeout12p5  timeout15p0  \\\n",
      "0          0.0          0.0          0.0          0.0          0.0   \n",
      "1          1.0          1.0          0.0          1.0          0.0   \n",
      "2          1.0          1.0          1.0          1.0          1.0   \n",
      "3          0.0          0.0          0.0          0.0          0.0   \n",
      "4          0.0          0.0          0.0          0.0          0.0   \n",
      "\n",
      "   timeoutsumry  cdppslplong  cdppslpshrt  \n",
      "0           1.0     -0.33009     -0.41285  \n",
      "1           0.0     -0.25653     -0.18629  \n",
      "2           0.0      0.22699      0.67461  \n",
      "3           1.0     -0.10948     -0.37236  \n",
      "4           1.0     -0.11868     -0.48642  \n",
      "\n",
      "[5 rows x 95 columns]\n"
     ]
    }
   ],
   "source": [
    "path = '/Users/chris/Desktop/sculpting/crossmatch_fun/'\n",
    "kepler_stellar = pd.read_csv(path+'kepler_stellar_17.csv')\n",
    "print(len(kepler_stellar))\n",
    "print(kepler_stellar.head())"
   ]
  },
  {
   "cell_type": "code",
   "execution_count": 32,
   "metadata": {
    "scrolled": true
   },
   "outputs": [
    {
     "name": "stdout",
     "output_type": "stream",
     "text": [
      "21737\n",
      "200038\n",
      "21737\n"
     ]
    }
   ],
   "source": [
    "# join kepler_stellar table with pre-FGK'd Berger tables (table2) since we're only interested in those stars\n",
    "kepler_stellar_enriched = pd.merge(kepler_stellar, catalog, how='inner', left_on='kepid', right_on='KIC')\n",
    "print(len(kepler_stellar_enriched))\n",
    "print(len(kepler_stellar))\n",
    "print(len(catalog))\n",
    "# looks like every single KIC in catalog has a match in kepler_stellar. That's a good sign. "
   ]
  },
  {
   "cell_type": "code",
   "execution_count": 33,
   "metadata": {},
   "outputs": [],
   "source": [
    "# divide between young and old stars\n",
    "young = kepler_stellar_enriched.loc[kepler_stellar_enriched.iso_age <= 1.0]\n",
    "old = kepler_stellar_enriched.loc[kepler_stellar_enriched.iso_age > 1.0]"
   ]
  },
  {
   "cell_type": "code",
   "execution_count": 34,
   "metadata": {},
   "outputs": [
    {
     "data": {
      "image/png": "[encoded data removed]",
      "text/plain": [
       "<Figure size 432x288 with 1 Axes>"
      ]
     },
     "metadata": {
      "needs_background": "light"
     },
     "output_type": "display_data"
    }
   ],
   "source": [
    "# plot to compare CDPPs of young vs old stars\n",
    "plt.scatter(young.iso_age, young.rrmscdpp01p5, color='green')\n",
    "plt.scatter(old.iso_age, old.rrmscdpp01p5, color='purple')\n",
    "plt.show()"
   ]
  },
  {
   "cell_type": "code",
   "execution_count": 35,
   "metadata": {},
   "outputs": [
    {
     "data": {
      "image/png": "[encoded data removed]",
      "text/plain": [
       "<Figure size 432x288 with 1 Axes>"
      ]
     },
     "metadata": {
      "needs_background": "light"
     },
     "output_type": "display_data"
    }
   ],
   "source": [
    "# plot to compare CDPPs of young vs old stars, zoomed in\n",
    "plt.scatter(young.iso_age, young.rrmscdpp01p5, color='green')\n",
    "plt.scatter(old.iso_age, old.rrmscdpp01p5, color='purple')\n",
    "plt.ylim(0, 1000)\n",
    "plt.show()"
   ]
  },
  {
   "cell_type": "markdown",
   "metadata": {},
   "source": [
    "Let's try with CDPP of 3.0"
   ]
  },
  {
   "cell_type": "code",
   "execution_count": 36,
   "metadata": {},
   "outputs": [
    {
     "data": {
      "image/png": "[encoded data removed]",
      "text/plain": [
       "<Figure size 432x288 with 1 Axes>"
      ]
     },
     "metadata": {
      "needs_background": "light"
     },
     "output_type": "display_data"
    }
   ],
   "source": [
    "# plot to compare CDPPs of young vs old stars\n",
    "plt.scatter(young.iso_age, young.rrmscdpp03p0, color='green')\n",
    "plt.scatter(old.iso_age, old.rrmscdpp03p0, color='purple')\n",
    "plt.ylim(0, 1000)\n",
    "plt.show()"
   ]
  },
  {
   "cell_type": "code",
   "execution_count": 37,
   "metadata": {},
   "outputs": [],
   "source": [
    "# maybe if I sampled fewer points (every 50th point), I can discern some structure...\n",
    "step = 50\n",
    "young_sample_age = young.iso_age[1::step]\n",
    "old_sample_age = old.iso_age[1::step]\n",
    "young_sample_cdpp = young.rrmscdpp03p0[1::step]\n",
    "old_sample_cdpp = old.rrmscdpp03p0[1::step]"
   ]
  },
  {
   "cell_type": "code",
   "execution_count": 38,
   "metadata": {},
   "outputs": [
    {
     "data": {
      "image/png": "[encoded data removed]",
      "text/plain": [
       "<Figure size 432x288 with 1 Axes>"
      ]
     },
     "metadata": {
      "needs_background": "light"
     },
     "output_type": "display_data"
    }
   ],
   "source": [
    "# well...maaaaybe there's something here?\n",
    "plt.scatter(young_sample_age, young_sample_cdpp, color='green')\n",
    "plt.scatter(old_sample_age, old_sample_cdpp, color='purple')\n",
    "plt.ylim(0, 1000)\n",
    "plt.xlim(0,5)\n",
    "plt.show()"
   ]
  },
  {
   "cell_type": "code",
   "execution_count": 39,
   "metadata": {},
   "outputs": [
    {
     "data": {
      "image/png": "[encoded data removed]",
      "text/plain": [
       "<Figure size 432x288 with 1 Axes>"
      ]
     },
     "metadata": {
      "needs_background": "light"
     },
     "output_type": "display_data"
    }
   ],
   "source": [
    "# sanity check, plotting magnitude vs cdpp (even if age has no clear correlation with noise, surely magnitude does)\n",
    "plt.scatter(kepler_stellar_enriched.jmag, kepler_stellar_enriched.rrmscdpp03p0)\n",
    "plt.ylim(0, 5000)\n",
    "#plt.xlim(0,5)\n",
    "plt.show()"
   ]
  },
  {
   "cell_type": "markdown",
   "metadata": {},
   "source": [
    "To get S/N like Fig 9 in Berger et al 2020b, I need radius of planets, which means I now need to join the confirmed_kepler crossmatch joined table with the kepler_stellar_enriched joined table. "
   ]
  },
  {
   "cell_type": "code",
   "execution_count": 40,
   "metadata": {},
   "outputs": [
    {
     "name": "stdout",
     "output_type": "stream",
     "text": [
      "164\n"
     ]
    }
   ],
   "source": [
    "# okay, really dumb name choice for what's guaranteed to be my smallest table\n",
    "big = pd.merge(confirmed_kepler, kepler_stellar_enriched, how='inner', on='kepid')\n",
    "print(len(big))"
   ]
  },
  {
   "cell_type": "code",
   "execution_count": 41,
   "metadata": {},
   "outputs": [
    {
     "name": "stdout",
     "output_type": "stream",
     "text": [
      "0      1.615864\n",
      "1      0.076836\n",
      "2      0.082279\n",
      "3      0.107973\n",
      "4      0.251078\n",
      "         ...   \n",
      "159    1.857881\n",
      "160    0.031885\n",
      "161    0.201898\n",
      "162    1.375758\n",
      "163    0.466146\n",
      "Name: snr_1p5, Length: 164, dtype: float64\n"
     ]
    },
    {
     "data": {
      "image/png": "[encoded data removed]",
      "text/plain": [
       "<Figure size 432x288 with 1 Axes>"
      ]
     },
     "metadata": {
      "needs_background": "light"
     },
     "output_type": "display_data"
    }
   ],
   "source": [
    "# plot to compare S/Ns of young vs old stars, using equation B2 from Petigura et al 2018\n",
    "# S/N = ((r_p[Earth_radii]/r_s)**2)/cdpp\n",
    "\n",
    "big['earth_radii'] = big['pl_radj']*11.2089 # but first pl_radj is in Jupiter radii, so convert to Earth radii \n",
    "big['snr_1p5'] = ((big['earth_radii']/big['iso_rad'])**2)/big['rrmscdpp01p5'] # re-factor as function later\n",
    "print(big['snr_1p5']) # looks about right\n",
    "\n",
    "# jeez, I'm really running my code in a suboptimal order and creating single-use dataframes\n",
    "big_young = big.loc[big.iso_age <= 1.0]\n",
    "big_old = big.loc[big.iso_age > 1.0]\n",
    "\n",
    "plt.scatter(big_young.iso_age, big_young['snr_1p5'], color='green')\n",
    "plt.scatter(big_old.iso_age, big_old['snr_1p5'], color='purple')\n",
    "plt.ylim(0,1)\n",
    "plt.xlim(0,6)\n",
    "plt.ylabel('Single Transit SNR')\n",
    "plt.xlabel('age [Gyr]')\n",
    "plt.show()"
   ]
  },
  {
   "cell_type": "code",
   "execution_count": 42,
   "metadata": {},
   "outputs": [
    {
     "name": "stdout",
     "output_type": "stream",
     "text": [
      "28 136\n"
     ]
    }
   ],
   "source": [
    "print(len(big_young), len(big_old))"
   ]
  },
  {
   "cell_type": "code",
   "execution_count": 43,
   "metadata": {},
   "outputs": [
    {
     "name": "stdout",
     "output_type": "stream",
     "text": [
      "0      1.804977\n",
      "1      0.086874\n",
      "2      0.088950\n",
      "3      0.141551\n",
      "4      0.329160\n",
      "         ...   \n",
      "159    1.581064\n",
      "160    0.039242\n",
      "161    0.248477\n",
      "162    1.693154\n",
      "163    0.573688\n",
      "Name: snr_3p0, Length: 164, dtype: float64\n"
     ]
    },
    {
     "data": {
      "image/png": "[encoded data removed]",
      "text/plain": [
       "<Figure size 432x288 with 1 Axes>"
      ]
     },
     "metadata": {
      "needs_background": "light"
     },
     "output_type": "display_data"
    }
   ],
   "source": [
    "# and again for 3.0 CDPP\n",
    "big['earth_radii'] = big['pl_radj']*11.2089 # but first pl_radj is in Jupiter radii, so convert to Earth radii \n",
    "big['snr_3p0'] = ((big['earth_radii']/big['iso_rad'])**2)/big['rrmscdpp03p0'] # re-factor as function later\n",
    "print(big['snr_3p0']) # looks about right\n",
    "\n",
    "# jeez, I'm really running my code in a suboptimal order and creating single-use dataframes\n",
    "big_young = big.loc[big.iso_age <= 1.0]\n",
    "big_old = big.loc[big.iso_age > 1.0]\n",
    "\n",
    "plt.scatter(big_young.iso_age, big_young['snr_3p0'], color='green')\n",
    "plt.scatter(big_old.iso_age, big_old['snr_3p0'], color='purple')\n",
    "plt.ylim(0,1)\n",
    "plt.xlim(0,6)\n",
    "plt.ylabel('Single Transit SNR')\n",
    "plt.xlabel('age [Gyr]')\n",
    "plt.show()"
   ]
  },
  {
   "cell_type": "markdown",
   "metadata": {},
   "source": [
    "CDPP histograms"
   ]
  },
  {
   "cell_type": "code",
   "execution_count": 44,
   "metadata": {},
   "outputs": [
    {
     "data": {
      "image/png": "[encoded data removed]",
      "text/plain": [
       "<Figure size 432x288 with 1 Axes>"
      ]
     },
     "metadata": {
      "needs_background": "light"
     },
     "output_type": "display_data"
    }
   ],
   "source": [
    "# chop off reallllly long tail\n",
    "young_cdpp = young.loc[(young.rrmscdpp03p0>0) & (young.rrmscdpp03p0<1000)]\n",
    "old_cdpp = old.loc[(old.rrmscdpp03p0>0) & (old.rrmscdpp03p0<1000)]\n",
    "\n",
    "x1 = young_cdpp.rrmscdpp03p0\n",
    "n1, bins1, patches1 = plt.hist(x1, 100, facecolor='blue', alpha=0.5)\n",
    "\n",
    "x2 = old_cdpp.rrmscdpp03p0\n",
    "n2, bins2, patches2 = plt.hist(x2, 100, facecolor='red', alpha=0.5)\n",
    "\n",
    "plt.xlabel('CDPP 3.0 (CDPPs over 1000 excluded)')\n",
    "plt.ylabel('count')\n",
    "plt.show()"
   ]
  },
  {
   "cell_type": "code",
   "execution_count": 45,
   "metadata": {},
   "outputs": [
    {
     "data": {
      "image/png": "[encoded data removed]",
      "text/plain": [
       "<Figure size 432x288 with 1 Axes>"
      ]
     },
     "metadata": {
      "needs_background": "light"
     },
     "output_type": "display_data"
    }
   ],
   "source": [
    "# scale old counts down to be proportional with young counts\n",
    "n1, bins1, patches1 = plt.hist(x1, 100, facecolor='blue', alpha=0.5)\n",
    "n2, bins2, patches2 = plt.hist(x2, 100, facecolor='red', alpha=0.5, weights=np.ones(len(x2))*(len(young)/len(old)))\n",
    "plt.xlabel('CDPP 3.0 (CDPPs over 1000 excluded)')\n",
    "plt.ylabel('count')\n",
    "plt.show()\n"
   ]
  },
  {
   "cell_type": "markdown",
   "metadata": {},
   "source": [
    "Okay that's cool but I don't want to be a dirty frequentist when determining whether my old and young star samples come from the same population in noise space. So let's introduce Farhan Feroz's MULTINEST algorithm for multimodal nested sampling."
   ]
  },
  {
   "cell_type": "code",
   "execution_count": 46,
   "metadata": {},
   "outputs": [
    {
     "name": "stdout",
     "output_type": "stream",
     "text": [
      "127.64258585613923 127.02907926924918 114.14091990263105 80.93863688194156\n",
      "524503.0683027292 1396515.2407610188 0.0 0.0\n"
     ]
    }
   ],
   "source": [
    "mean_young = np.mean(x1)\n",
    "mean_old = np.mean(x2)\n",
    "std_young = np.std(x1)\n",
    "std_old = np.std(x2)\n",
    "print(mean_young, std_young, mean_old, std_old)\n",
    "\n",
    "def gaussian_prob(sigma, chi_squared):\n",
    "    return (1./np.sqrt(2*np.pi*sigma**2))*np.exp(-0.5*chi_squared)\n",
    "\n",
    "def chi_squared(y, mean, sigma):\n",
    "    term = ((y-mean)**2)/sigma\n",
    "    return np.sum(term)\n",
    "\n",
    "chi_squared_young = chi_squared(x1, mean_young, std_young)\n",
    "chi_squared_old = chi_squared(x2, mean_old, std_old)\n",
    "gaussian_prob_young = gaussian_prob(std_young, chi_squared_young)\n",
    "gaussian_prob_old = gaussian_prob(std_old, chi_squared_old)\n",
    "print(chi_squared_young, chi_squared_old, gaussian_prob_young, gaussian_prob_old)\n"
   ]
  },
  {
   "cell_type": "markdown",
   "metadata": {},
   "source": [
    "Well, maybe it's just because my data is not Gaussian, but clearly I can't proceed further in characterizing the likelihood of old vs young samples without better selection of model (Gaussian) or parameters (y_bar and sigma)."
   ]
  },
  {
   "cell_type": "markdown",
   "metadata": {},
   "source": [
    "### See 'synthetic' notebook for the next part of this project."
   ]
  },
  {
   "cell_type": "markdown",
   "metadata": {},
   "source": [
    "All we'll do for the rest of this notebook is list out the age distribution for the 20K FGK dwarfs with age error <1 Gyr in preparation for generating a synthetic sample."
   ]
  },
  {
   "cell_type": "code",
   "execution_count": null,
   "metadata": {},
   "outputs": [],
   "source": []
  }
 ],
 "metadata": {
  "kernelspec": {
   "display_name": "Python 3",
   "language": "python",
   "name": "python3"
  },
  "language_info": {
   "codemirror_mode": {
    "name": "ipython",
    "version": 3
   },
   "file_extension": ".py",
   "mimetype": "text/x-python",
   "name": "python",
   "nbconvert_exporter": "python",
   "pygments_lexer": "ipython3",
   "version": "3.9.0"
  }
 },
 "nbformat": 4,
 "nbformat_minor": 2
}
