{
 "cells": [
  {
   "cell_type": "markdown",
   "metadata": {},
   "source": [
    "Just a reader-friendly version of isolate.ipynb"
   ]
  },
  {
   "cell_type": "markdown",
   "metadata": {},
   "source": [
    "## Initial Cuts"
   ]
  },
  {
   "cell_type": "code",
   "execution_count": 1,
   "metadata": {},
   "outputs": [
    {
     "name": "stdout",
     "output_type": "stream",
     "text": [
      "186301\n",
      "      KIC  iso_mass  iso_mass_err1  iso_mass_err2  iso_teff  iso_teff_err1  \\\n",
      "0  757076     1.396          0.179         -0.218    5052.2          103.9   \n",
      "1  757099     0.873          0.054         -0.039    5364.9          102.7   \n",
      "2  757137     1.669          0.309         -0.300    4628.7           84.8   \n",
      "3  757280     1.715          0.086         -0.089    6856.8          144.4   \n",
      "4  757450     0.914          0.062         -0.057    5301.2          111.0   \n",
      "\n",
      "   iso_teff_err2  iso_logg  iso_logg_err1  iso_logg_err2  ...  iso_age  \\\n",
      "0          -86.6     3.373          0.067         -0.081  ...     2.47   \n",
      "1          -84.9     4.318          0.037         -0.029  ...    15.20   \n",
      "2          -76.2     2.388          0.083         -0.086  ...     1.51   \n",
      "3         -139.9     3.834          0.033         -0.032  ...     1.24   \n",
      "4         -103.1     4.432          0.045         -0.044  ...     9.46   \n",
      "\n",
      "   unReAgeFlag  iso_age_err1  iso_age_err2  iso_dis  iso_dis_err1  \\\n",
      "0          NaN          1.82         -0.73    651.5          22.6   \n",
      "1          NaN          3.00         -3.98    367.8           7.1   \n",
      "2          NaN          1.06         -0.58    568.4          12.2   \n",
      "3          NaN          0.20         -0.16    822.0          19.4   \n",
      "4          NaN          5.36         -5.15    829.6          24.0   \n",
      "\n",
      "   iso_dis_err2  iso_avs  iso_gof   TAMS  \n",
      "0         -21.6    0.371      1.0   2.69  \n",
      "1          -6.9    0.340      1.0  17.18  \n",
      "2         -11.6    0.344      1.0   1.66  \n",
      "3         -21.0    0.496      1.0   1.62  \n",
      "4         -23.4    0.465      1.0  16.10  \n",
      "\n",
      "[5 rows x 32 columns]\n",
      "Index(['KIC', 'iso_mass', 'iso_mass_err1', 'iso_mass_err2', 'iso_teff',\n",
      "       'iso_teff_err1', 'iso_teff_err2', 'iso_logg', 'iso_logg_err1',\n",
      "       'iso_logg_err2', 'iso_feh', 'iso_feh_err1', 'iso_feh_err2', 'iso_rad',\n",
      "       'iso_rad_err1', 'iso_rad_err2', 'iso_rho', 'iso_rho_err1',\n",
      "       'iso_rho_err2', 'iso_lum', 'iso_lum_err1', 'iso_lum_err2', 'iso_age',\n",
      "       'unReAgeFlag', 'iso_age_err1', 'iso_age_err2', 'iso_dis',\n",
      "       'iso_dis_err1', 'iso_dis_err2', 'iso_avs', 'iso_gof', 'TAMS'],\n",
      "      dtype='object')\n"
     ]
    }
   ],
   "source": [
    "import pandas as pd\n",
    "import numpy as np\n",
    "from astropy.io import fits\n",
    "from astropy.table import Table\n",
    "import matplotlib.pyplot as plt\n",
    "%matplotlib inline\n",
    "path = '/Users/chris/Desktop/sculpting/berger_gaia_kepler/'\n",
    "# all data downloaded from Berger et al 2020's ancillary tables: https://arxiv.org/src/2001.07737v3/anc\n",
    "# the paper we're comparing against: https://arxiv.org/pdf/2005.14671.pdf\n",
    "# command line edit to get rid of double backslashes at end of each row: sed -e \"s/\\\\\\//g\" GKSPCPapTable2_Final.txt > GKSPCPapTable2_cleaned.txt\n",
    "table2 = pd.read_csv(path+'GKSPCPapTable2_cleaned.txt', sep='&', header=0)\n",
    "print(len(table2))\n",
    "print(table2.head())\n",
    "print(table2.columns)"
   ]
  },
  {
   "cell_type": "code",
   "execution_count": 2,
   "metadata": {},
   "outputs": [
    {
     "name": "stdout",
     "output_type": "stream",
     "text": [
      "150560\n"
     ]
    }
   ],
   "source": [
    "# remove stars with unreliable ages or bad goodness of fit\n",
    "table2 = table2.loc[(table2.unReAgeFlag.isnull()) & (table2.iso_gof==1.)]\n",
    "print(len(table2))"
   ]
  },
  {
   "cell_type": "code",
   "execution_count": 3,
   "metadata": {},
   "outputs": [
    {
     "name": "stdout",
     "output_type": "stream",
     "text": [
      "150560\n"
     ]
    }
   ],
   "source": [
    "# remove stars with uninformative posteriors (per paper, terminal age of main sequence > 20 Gyr)\n",
    "table2 = table2.loc[table2['TAMS']<=20]\n",
    "print(len(table2))\n",
    "# nice to see that tracks with bad gof or unreliable age"
   ]
  },
  {
   "cell_type": "code",
   "execution_count": 4,
   "metadata": {},
   "outputs": [
    {
     "name": "stdout",
     "output_type": "stream",
     "text": [
      "147900\n"
     ]
    }
   ],
   "source": [
    "# remove stars beyond [3700, 7500] K Teff, ie. keep only FGK stars\n",
    "fgk = table2.loc[(table2['iso_teff'] <= 7500) & (table2['iso_teff'] >= 3700)]\n",
    "print(len(fgk))"
   ]
  },
  {
   "cell_type": "code",
   "execution_count": 5,
   "metadata": {},
   "outputs": [
    {
     "name": "stdout",
     "output_type": "stream",
     "text": [
      "164740\n",
      "      KIC     gmag  gmag_err    kmag  kmag_err  parallax  parallax_err    feh  \\\n",
      "0  757076  12.3510    0.0203   9.559     0.017    1.5239        0.0483    NaN   \n",
      "2  757137  10.0523    0.0279   6.722     0.017    1.7534        0.0253    NaN   \n",
      "3  757280  12.1329    0.0200  10.627     0.018    1.2137        0.0220    NaN   \n",
      "4  757450  15.8950    0.0202  13.118     0.029    1.1989        0.0261  0.229   \n",
      "7  892010  12.6168    0.0209   9.041     0.017    0.5414        0.0242    NaN   \n",
      "\n",
      "   feh_err    RUWE  num_gaia_companions Kmag_final_prov evstate  \n",
      "0      NaN  0.9467                    0             NaN     NaN  \n",
      "2      NaN  0.9126                    0             NaN     RGB  \n",
      "3      NaN  0.8704                    0             NaN     NaN  \n",
      "4     0.15  1.0300                    0             NaN     NaN  \n",
      "7      NaN  1.0141                    0             NaN     NaN  \n",
      "Index(['KIC', 'gmag', 'gmag_err', 'kmag', 'kmag_err', 'parallax',\n",
      "       'parallax_err', 'feh', 'feh_err', 'RUWE', 'num_gaia_companions',\n",
      "       'Kmag_final_prov', 'evstate'],\n",
      "      dtype='object')\n"
     ]
    }
   ],
   "source": [
    "# introduce Table 1 to use RUWE (re-normalized unit-weight error), aka binary star/edge-of-parameter space classifier\n",
    "# command line edit to get rid of double backslashes at end of each row: sed -e \"s/\\\\\\//g\" GKSPCPapTable1_Final.txt > GKSPCPapTable1_cleaned.txt\n",
    "table1 = pd.read_csv(path+'GKSPCPapTable1_cleaned.txt', sep='&', header=0)\n",
    "table1 = table1.loc[table1.RUWE<=1.2]\n",
    "print(len(table1))\n",
    "print(table1.head())\n",
    "print(table1.columns)"
   ]
  },
  {
   "cell_type": "code",
   "execution_count": 6,
   "metadata": {},
   "outputs": [
    {
     "name": "stdout",
     "output_type": "stream",
     "text": [
      "      KIC  iso_mass  iso_mass_err1  iso_mass_err2  iso_teff  iso_teff_err1  \\\n",
      "0  757076     1.396          0.179         -0.218    5052.2          103.9   \n",
      "1  757137     1.669          0.309         -0.300    4628.7           84.8   \n",
      "2  757280     1.715          0.086         -0.089    6856.8          144.4   \n",
      "3  757450     0.914          0.062         -0.057    5301.2          111.0   \n",
      "4  892010     1.710          0.708         -0.402    4555.8          141.3   \n",
      "\n",
      "   iso_teff_err2  iso_logg  iso_logg_err1  iso_logg_err2  ...    kmag  \\\n",
      "0          -86.6     3.373          0.067         -0.081  ...   9.559   \n",
      "1          -76.2     2.388          0.083         -0.086  ...   6.722   \n",
      "2         -139.9     3.834          0.033         -0.032  ...  10.627   \n",
      "3         -103.1     4.432          0.045         -0.044  ...  13.118   \n",
      "4          -92.4     2.299          0.163         -0.119  ...   9.041   \n",
      "\n",
      "   kmag_err  parallax  parallax_err    feh  feh_err    RUWE  \\\n",
      "0     0.017    1.5239        0.0483    NaN      NaN  0.9467   \n",
      "1     0.017    1.7534        0.0253    NaN      NaN  0.9126   \n",
      "2     0.018    1.2137        0.0220    NaN      NaN  0.8704   \n",
      "3     0.029    1.1989        0.0261  0.229     0.15  1.0300   \n",
      "4     0.017    0.5414        0.0242    NaN      NaN  1.0141   \n",
      "\n",
      "   num_gaia_companions  Kmag_final_prov  evstate  \n",
      "0                    0              NaN      NaN  \n",
      "1                    0              NaN      RGB  \n",
      "2                    0              NaN      NaN  \n",
      "3                    0              NaN      NaN  \n",
      "4                    0              NaN      NaN  \n",
      "\n",
      "[5 rows x 44 columns]\n",
      "131867\n"
     ]
    }
   ],
   "source": [
    "# join tables\n",
    "catalog = pd.merge(fgk, table1, how='inner', on='KIC')\n",
    "print(catalog.head())\n",
    "print(len(catalog))"
   ]
  },
  {
   "cell_type": "code",
   "execution_count": 7,
   "metadata": {},
   "outputs": [
    {
     "name": "stdout",
     "output_type": "stream",
     "text": [
      "112397\n",
      "      KIC  iso_mass  iso_mass_err1  iso_mass_err2  iso_teff  iso_teff_err1  \\\n",
      "2  757280     1.715          0.086         -0.089    6856.8          144.4   \n",
      "3  757450     0.914          0.062         -0.057    5301.2          111.0   \n",
      "6  892195     0.862          0.057         -0.040    5333.4          101.3   \n",
      "7  892667     1.548          0.081         -0.087    6704.9          148.8   \n",
      "8  892675     1.038          0.066         -0.076    5929.4          108.9   \n",
      "\n",
      "   iso_teff_err2  iso_logg  iso_logg_err1  iso_logg_err2  ...  parallax  \\\n",
      "2         -139.9     3.834          0.033         -0.032  ...    1.2137   \n",
      "3         -103.1     4.432          0.045         -0.044  ...    1.1989   \n",
      "6          -84.2     4.372          0.039         -0.029  ...    2.0802   \n",
      "7         -128.8     3.950          0.034         -0.036  ...    0.8512   \n",
      "8         -108.1     4.385          0.035         -0.043  ...    1.7114   \n",
      "\n",
      "   parallax_err    feh  feh_err    RUWE  num_gaia_companions  Kmag_final_prov  \\\n",
      "2        0.0220    NaN      NaN  0.8704                    0              NaN   \n",
      "3        0.0261  0.229     0.15  1.0300                    0              NaN   \n",
      "6        0.0167    NaN      NaN  1.1211                    0              NaN   \n",
      "7        0.0154    NaN      NaN  0.8674                    0              NaN   \n",
      "8        0.0142    NaN      NaN  1.0648                    0              NaN   \n",
      "\n",
      "   evstate      logR  is_giant  \n",
      "2      NaN  0.416641     False  \n",
      "3      NaN -0.019088     False  \n",
      "6      NaN -0.000869     False  \n",
      "7      NaN  0.337060     False  \n",
      "8      NaN  0.033424     False  \n",
      "\n",
      "[5 rows x 46 columns]\n"
     ]
    }
   ],
   "source": [
    "# isolate giant stars\n",
    "# using unnumbered equation in first paragraph of Sec 4.2.1 (\"Sample Selection\") in Berger et al 2020b \n",
    "catalog['logR'] = np.log10(catalog.iso_rad)\n",
    "catalog['is_giant'] = np.where(catalog['logR'] >= 0.00035*(catalog['iso_teff'] - 4500) + 0.15, True, False)\n",
    "catalog = catalog.loc[catalog['is_giant'] == False]\n",
    "print(len(catalog))\n",
    "print(catalog.head())"
   ]
  },
  {
   "cell_type": "code",
   "execution_count": 8,
   "metadata": {},
   "outputs": [
    {
     "name": "stdout",
     "output_type": "stream",
     "text": [
      "112397\n",
      "19969\n"
     ]
    }
   ],
   "source": [
    "# get rid of stars with age errors greater than 1 Gyr\n",
    "print(len(catalog))\n",
    "catalog = catalog.loc[np.abs(catalog.iso_age_err1) < 1.]\n",
    "catalog = catalog.loc[np.abs(catalog.iso_age_err2) < 1.]\n",
    "print(len(catalog))"
   ]
  },
  {
   "cell_type": "code",
   "execution_count": 22,
   "metadata": {},
   "outputs": [
    {
     "data": {
      "image/png": "[encoded data removed]",
      "text/plain": [
       "<Figure size 432x288 with 1 Axes>"
      ]
     },
     "metadata": {
      "needs_background": "light"
     },
     "output_type": "display_data"
    }
   ],
   "source": [
    "# plot emailed to Matthias He on 11/27/21 to explain discrepancy in our higher-multiplicity bins\n",
    "plt.scatter(table2.iso_teff, np.abs(table2.iso_age_err1)+np.abs(table2.iso_age_err2), s=1)\n",
    "plt.xlabel('Teff [K]')\n",
    "plt.ylabel('total age error [Gyr]')\n",
    "plt.title('Age error with Teff')\n",
    "#plt.ylim(0, 1000)\n",
    "plt.show()"
   ]
  },
  {
   "cell_type": "code",
   "execution_count": 23,
   "metadata": {},
   "outputs": [
    {
     "data": {
      "image/png": "[encoded data removed]",
      "text/plain": [
       "<Figure size 432x288 with 1 Axes>"
      ]
     },
     "metadata": {
      "needs_background": "light"
     },
     "output_type": "display_data"
    }
   ],
   "source": [
    "# plot emailed to Matthias He on 11/27/21 to explain discrepancy in our higher-multiplicity bins\n",
    "plt.scatter(catalog.iso_age, np.abs(catalog.iso_age_err1)+np.abs(catalog.iso_age_err2), s=1)\n",
    "plt.xlabel('Age [Gyr]')\n",
    "plt.ylabel('total age error [Gyr]')\n",
    "plt.title('Age error with age')\n",
    "#plt.ylim(0, 1000)\n",
    "plt.show()"
   ]
  },
  {
   "cell_type": "markdown",
   "metadata": {},
   "source": [
    "Berger et al age distribution"
   ]
  },
  {
   "cell_type": "code",
   "execution_count": 9,
   "metadata": {},
   "outputs": [
    {
     "name": "stdout",
     "output_type": "stream",
     "text": [
      "[ 409 1918 2978 3679 3709 2930 1248  638  469  431  369  348  290  211\n",
      "  153   85   53   38    9    4]\n",
      "[0.14   0.5575 0.975  1.3925 1.81   2.2275 2.645  3.0625 3.48   3.8975\n",
      " 4.315  4.7325 5.15   5.5675 5.985  6.4025 6.82   7.2375 7.655  8.0725\n",
      " 8.49  ]\n"
     ]
    },
    {
     "data": {
      "image/png": "[encoded data removed]",
      "text/plain": [
       "<Figure size 432x288 with 1 Axes>"
      ]
     },
     "metadata": {
      "needs_background": "light"
     },
     "output_type": "display_data"
    }
   ],
   "source": [
    "import matplotlib.pyplot as plt\n",
    "%matplotlib inline\n",
    "\n",
    "# age histogram for all stars with well-constrained ages \n",
    "age_hist, age_bin_edges = np.histogram(catalog.iso_age, bins=20)\n",
    "print(age_hist)\n",
    "print(age_bin_edges)\n",
    "plt.bar(age_bin_edges[:-1], age_hist, width = 0.3, color='#0504aa',alpha=0.7)\n",
    "plt.ylabel(\"count\")\n",
    "plt.xlabel(\"age [Gyr]\")\n",
    "plt.show()"
   ]
  },
  {
   "cell_type": "markdown",
   "metadata": {},
   "source": [
    "### Cross matching with KOIs from Exoplanet archive"
   ]
  },
  {
   "cell_type": "code",
   "execution_count": 10,
   "metadata": {},
   "outputs": [
    {
     "name": "stdout",
     "output_type": "stream",
     "text": [
      "         kepid kepoi_name   kepler_name koi_disposition koi_pdisposition  \\\n",
      "0     10797460  K00752.01  Kepler-227 b       CONFIRMED        CANDIDATE   \n",
      "1     10797460  K00752.02  Kepler-227 c       CONFIRMED        CANDIDATE   \n",
      "2     10811496  K00753.01           NaN       CANDIDATE        CANDIDATE   \n",
      "4     10854555  K00755.01  Kepler-664 b       CONFIRMED        CANDIDATE   \n",
      "5     10872983  K00756.01  Kepler-228 d       CONFIRMED        CANDIDATE   \n",
      "...        ...        ...           ...             ...              ...   \n",
      "9538   9938836  K07978.01           NaN       CANDIDATE        CANDIDATE   \n",
      "9542  10011213  K07982.01           NaN       CANDIDATE        CANDIDATE   \n",
      "9552  10028127  K08193.01           NaN       CANDIDATE        CANDIDATE   \n",
      "9560  10128825  K07986.01           NaN       CANDIDATE        CANDIDATE   \n",
      "9562  10155286  K07988.01           NaN       CANDIDATE        CANDIDATE   \n",
      "\n",
      "      koi_score  koi_fpflag_nt  koi_fpflag_ss  koi_fpflag_co  koi_fpflag_ec  \\\n",
      "0         1.000              0              0              0              0   \n",
      "1         0.969              0              0              0              0   \n",
      "2         0.000              0              0              0              0   \n",
      "4         1.000              0              0              0              0   \n",
      "5         1.000              0              0              0              0   \n",
      "...         ...            ...            ...            ...            ...   \n",
      "9538      0.843              0              0              0              0   \n",
      "9542      0.189              0              0              0              0   \n",
      "9552      0.519              0              0              0              0   \n",
      "9560      0.497              0              0              0              0   \n",
      "9562      0.092              0              0              0              0   \n",
      "\n",
      "      ...  koi_steff_err2  koi_slogg  koi_slogg_err1  koi_slogg_err2  \\\n",
      "0     ...           -81.0      4.467           0.064          -0.096   \n",
      "1     ...           -81.0      4.467           0.064          -0.096   \n",
      "2     ...          -176.0      4.544           0.044          -0.176   \n",
      "4     ...          -211.0      4.438           0.070          -0.210   \n",
      "5     ...          -232.0      4.486           0.054          -0.229   \n",
      "...   ...             ...        ...             ...             ...   \n",
      "9538  ...          -242.0      3.890           0.405          -0.135   \n",
      "9542  ...          -225.0      4.488           0.054          -0.216   \n",
      "9552  ...          -166.0      4.561           0.030          -0.170   \n",
      "9560  ...          -220.0      4.444           0.056          -0.224   \n",
      "9562  ...          -128.0      2.992           0.030          -0.027   \n",
      "\n",
      "      koi_srad  koi_srad_err1  koi_srad_err2         ra        dec  koi_kepmag  \n",
      "0        0.927          0.105         -0.061  291.93423  48.141651      15.347  \n",
      "1        0.927          0.105         -0.061  291.93423  48.141651      15.347  \n",
      "2        0.868          0.233         -0.078  297.00482  48.134129      15.436  \n",
      "4        1.046          0.334         -0.133  288.75488  48.226200      15.509  \n",
      "5        0.972          0.315         -0.105  296.28613  48.224670      15.714  \n",
      "...        ...            ...            ...        ...        ...         ...  \n",
      "9538     2.219          0.536         -0.996  285.30768  46.829803      13.729  \n",
      "9542     0.955          0.291         -0.097  291.60455  46.973289      15.632  \n",
      "9552     0.855          0.207         -0.069  297.73398  46.961529      15.719  \n",
      "9560     1.031          0.341         -0.114  286.50937  47.163219      14.757  \n",
      "9562     7.824          0.223         -1.896  296.76288  47.145142      10.998  \n",
      "\n",
      "[4724 rows x 50 columns]\n",
      "['kepid', 'kepoi_name', 'kepler_name', 'koi_disposition', 'koi_pdisposition', 'koi_score', 'koi_fpflag_nt', 'koi_fpflag_ss', 'koi_fpflag_co', 'koi_fpflag_ec', 'koi_period', 'koi_period_err1', 'koi_period_err2', 'koi_time0bk', 'koi_time0bk_err1', 'koi_time0bk_err2', 'koi_impact', 'koi_impact_err1', 'koi_impact_err2', 'koi_duration', 'koi_duration_err1', 'koi_duration_err2', 'koi_depth', 'koi_depth_err1', 'koi_depth_err2', 'koi_prad', 'koi_prad_err1', 'koi_prad_err2', 'koi_teq', 'koi_teq_err1', 'koi_teq_err2', 'koi_insol', 'koi_insol_err1', 'koi_insol_err2', 'koi_model_snr', 'koi_count', 'koi_tce_plnt_num', 'koi_tce_delivname', 'koi_steff', 'koi_steff_err1', 'koi_steff_err2', 'koi_slogg', 'koi_slogg_err1', 'koi_slogg_err2', 'koi_srad', 'koi_srad_err1', 'koi_srad_err2', 'ra', 'dec', 'koi_kepmag']\n"
     ]
    }
   ],
   "source": [
    "# source: https://exoplanetarchive.ipac.caltech.edu/cgi-bin/TblView/nph-tblView?app=ExoTbls&config=cumulative\n",
    "path = '/Users/chris/Desktop/sculpting/crossmatch_fun/'\n",
    "kois = pd.read_csv(path+'cumulative_2021.03.04_20.04.43.csv')\n",
    "kois = kois.loc[kois.koi_disposition != 'FALSE POSITIVE']\n",
    "print(kois)\n",
    "print(list(kois.columns))"
   ]
  },
  {
   "cell_type": "code",
   "execution_count": 21,
   "metadata": {},
   "outputs": [
    {
     "data": {
      "text/plain": [
       "0      K01001.01\n",
       "1      K01001.02\n",
       "2      K02403.01\n",
       "3      K02610.01\n",
       "4      K02610.02\n",
       "         ...    \n",
       "402    K03122.01\n",
       "403    K04329.01\n",
       "404    K08082.01\n",
       "405    K05977.01\n",
       "406    K04245.01\n",
       "Name: kepoi_name, Length: 407, dtype: object"
      ]
     },
     "execution_count": 21,
     "metadata": {},
     "output_type": "execute_result"
    }
   ],
   "source": [
    "combined2 = pd.merge(catalog, kois, how='inner', left_on='kepoi_name', right_on='kepid') \n",
    "combined2.kepoi_name"
   ]
  },
  {
   "cell_type": "code",
   "execution_count": 28,
   "metadata": {},
   "outputs": [
    {
     "data": {
      "text/html": [
       "<div>\n",
       "<style scoped>\n",
       "    .dataframe tbody tr th:only-of-type {\n",
       "        vertical-align: middle;\n",
       "    }\n",
       "\n",
       "    .dataframe tbody tr th {\n",
       "        vertical-align: top;\n",
       "    }\n",
       "\n",
       "    .dataframe thead th {\n",
       "        text-align: right;\n",
       "    }\n",
       "</style>\n",
       "<table border=\"1\" class=\"dataframe\">\n",
       "  <thead>\n",
       "    <tr style=\"text-align: right;\">\n",
       "      <th></th>\n",
       "      <th>KIC</th>\n",
       "      <th>iso_mass</th>\n",
       "      <th>iso_mass_err1</th>\n",
       "      <th>iso_mass_err2</th>\n",
       "      <th>iso_teff</th>\n",
       "      <th>iso_teff_err1</th>\n",
       "      <th>iso_teff_err2</th>\n",
       "      <th>iso_logg</th>\n",
       "      <th>iso_logg_err1</th>\n",
       "      <th>iso_logg_err2</th>\n",
       "      <th>...</th>\n",
       "      <th>koi_steff_err2</th>\n",
       "      <th>koi_slogg</th>\n",
       "      <th>koi_slogg_err1</th>\n",
       "      <th>koi_slogg_err2</th>\n",
       "      <th>koi_srad</th>\n",
       "      <th>koi_srad_err1</th>\n",
       "      <th>koi_srad_err2</th>\n",
       "      <th>ra</th>\n",
       "      <th>dec</th>\n",
       "      <th>koi_kepmag</th>\n",
       "    </tr>\n",
       "  </thead>\n",
       "  <tbody>\n",
       "  </tbody>\n",
       "</table>\n",
       "<p>0 rows × 96 columns</p>\n",
       "</div>"
      ],
      "text/plain": [
       "Empty DataFrame\n",
       "Columns: [KIC, iso_mass, iso_mass_err1, iso_mass_err2, iso_teff, iso_teff_err1, iso_teff_err2, iso_logg, iso_logg_err1, iso_logg_err2, iso_feh, iso_feh_err1, iso_feh_err2, iso_rad, iso_rad_err1, iso_rad_err2, iso_rho, iso_rho_err1, iso_rho_err2, iso_lum, iso_lum_err1, iso_lum_err2, iso_age, unReAgeFlag, iso_age_err1, iso_age_err2, iso_dis, iso_dis_err1, iso_dis_err2, iso_avs, iso_gof, TAMS, gmag, gmag_err, kmag, kmag_err, parallax, parallax_err, feh, feh_err, RUWE, num_gaia_companions, Kmag_final_prov, evstate, logR, is_giant, kepid, kepoi_name, kepler_name, koi_disposition, koi_pdisposition, koi_score, koi_fpflag_nt, koi_fpflag_ss, koi_fpflag_co, koi_fpflag_ec, koi_period, koi_period_err1, koi_period_err2, koi_time0bk, koi_time0bk_err1, koi_time0bk_err2, koi_impact, koi_impact_err1, koi_impact_err2, koi_duration, koi_duration_err1, koi_duration_err2, koi_depth, koi_depth_err1, koi_depth_err2, koi_prad, koi_prad_err1, koi_prad_err2, koi_teq, koi_teq_err1, koi_teq_err2, koi_insol, koi_insol_err1, koi_insol_err2, koi_model_snr, koi_count, koi_tce_plnt_num, koi_tce_delivname, koi_steff, koi_steff_err1, koi_steff_err2, koi_slogg, koi_slogg_err1, koi_slogg_err2, koi_srad, koi_srad_err1, koi_srad_err2, ra, dec, koi_kepmag]\n",
       "Index: []\n",
       "\n",
       "[0 rows x 96 columns]"
      ]
     },
     "execution_count": 28,
     "metadata": {},
     "output_type": "execute_result"
    }
   ],
   "source": [
    "combined.loc[combined.kepoi_name == 'K02770.01']"
   ]
  },
  {
   "cell_type": "code",
   "execution_count": 11,
   "metadata": {},
   "outputs": [
    {
     "name": "stdout",
     "output_type": "stream",
     "text": [
      "4724\n",
      "19969\n",
      "407\n",
      "       KIC  iso_mass  iso_mass_err1  iso_mass_err2  iso_teff  iso_teff_err1  \\\n",
      "0  1871056     1.426          0.065         -0.074    6215.7          124.7   \n",
      "1  1871056     1.426          0.065         -0.074    6215.7          124.7   \n",
      "2  2142522     1.205          0.032         -0.044    6319.1          110.1   \n",
      "3  2305866     1.552          0.079         -0.077    6541.5          135.2   \n",
      "4  2305866     1.552          0.079         -0.077    6541.5          135.2   \n",
      "\n",
      "   iso_teff_err2  iso_logg  iso_logg_err1  iso_logg_err2  ...  koi_steff_err2  \\\n",
      "0         -116.2     3.985          0.031         -0.033  ...          -125.0   \n",
      "1         -116.2     3.985          0.031         -0.033  ...          -125.0   \n",
      "2         -101.0     4.373          0.017         -0.022  ...          -147.0   \n",
      "3         -128.2     3.900          0.032         -0.031  ...          -250.0   \n",
      "4         -128.2     3.900          0.032         -0.031  ...          -250.0   \n",
      "\n",
      "   koi_slogg  koi_slogg_err1  koi_slogg_err2  koi_srad  koi_srad_err1  \\\n",
      "0      3.963           0.195          -0.105     2.097          0.350   \n",
      "1      3.963           0.195          -0.105     2.097          0.350   \n",
      "2      4.341           0.066          -0.114     1.218          0.203   \n",
      "3      3.813           0.448          -0.112     2.517          0.602   \n",
      "4      3.813           0.448          -0.112     2.517          0.602   \n",
      "\n",
      "   koi_srad_err2         ra       dec  koi_kepmag  \n",
      "0         -0.569  292.04462  37.37624      13.038  \n",
      "1         -0.569  292.04462  37.37624      13.038  \n",
      "2         -0.125  286.62576  37.53730      12.867  \n",
      "3         -1.204  292.09332  37.61348      12.605  \n",
      "4         -1.204  292.09332  37.61348      12.605  \n",
      "\n",
      "[5 rows x 96 columns]\n",
      "Index(['KIC', 'iso_mass', 'iso_mass_err1', 'iso_mass_err2', 'iso_teff',\n",
      "       'iso_teff_err1', 'iso_teff_err2', 'iso_logg', 'iso_logg_err1',\n",
      "       'iso_logg_err2', 'iso_feh', 'iso_feh_err1', 'iso_feh_err2', 'iso_rad',\n",
      "       'iso_rad_err1', 'iso_rad_err2', 'iso_rho', 'iso_rho_err1',\n",
      "       'iso_rho_err2', 'iso_lum', 'iso_lum_err1', 'iso_lum_err2', 'iso_age',\n",
      "       'unReAgeFlag', 'iso_age_err1', 'iso_age_err2', 'iso_dis',\n",
      "       'iso_dis_err1', 'iso_dis_err2', 'iso_avs', 'iso_gof', 'TAMS', 'gmag',\n",
      "       'gmag_err', 'kmag', 'kmag_err', 'parallax', 'parallax_err', 'feh',\n",
      "       'feh_err', 'RUWE', 'num_gaia_companions', 'Kmag_final_prov', 'evstate',\n",
      "       'logR', 'is_giant', 'kepid', 'kepoi_name', 'kepler_name',\n",
      "       'koi_disposition', 'koi_pdisposition', 'koi_score', 'koi_fpflag_nt',\n",
      "       'koi_fpflag_ss', 'koi_fpflag_co', 'koi_fpflag_ec', 'koi_period',\n",
      "       'koi_period_err1', 'koi_period_err2', 'koi_time0bk', 'koi_time0bk_err1',\n",
      "       'koi_time0bk_err2', 'koi_impact', 'koi_impact_err1', 'koi_impact_err2',\n",
      "       'koi_duration', 'koi_duration_err1', 'koi_duration_err2', 'koi_depth',\n",
      "       'koi_depth_err1', 'koi_depth_err2', 'koi_prad', 'koi_prad_err1',\n",
      "       'koi_prad_err2', 'koi_teq', 'koi_teq_err1', 'koi_teq_err2', 'koi_insol',\n",
      "       'koi_insol_err1', 'koi_insol_err2', 'koi_model_snr', 'koi_count',\n",
      "       'koi_tce_plnt_num', 'koi_tce_delivname', 'koi_steff', 'koi_steff_err1',\n",
      "       'koi_steff_err2', 'koi_slogg', 'koi_slogg_err1', 'koi_slogg_err2',\n",
      "       'koi_srad', 'koi_srad_err1', 'koi_srad_err2', 'ra', 'dec',\n",
      "       'koi_kepmag'],\n",
      "      dtype='object')\n"
     ]
    }
   ],
   "source": [
    "combined = pd.merge(catalog, kois, how='inner', left_on='KIC', right_on='kepid') \n",
    "print(len(kois))\n",
    "print(len(catalog))\n",
    "print(len(combined))\n",
    "print(combined.head())\n",
    "print(combined.columns)"
   ]
  },
  {
   "cell_type": "markdown",
   "metadata": {},
   "source": [
    "Okay, this leads to the same number of planets (+/- 1) as the Berger+Bedell way. Let's stick with isolate_with_bedell.ipynb"
   ]
  },
  {
   "cell_type": "markdown",
   "metadata": {},
   "source": [
    "## Ignore below"
   ]
  },
  {
   "cell_type": "code",
   "execution_count": 14,
   "metadata": {},
   "outputs": [],
   "source": [
    "# cross-matching from Megan Bedell's gaia-kepler.fun KIC objs\n",
    "path = '/Users/chris/Desktop/sculpting/crossmatch_fun/'\n",
    "hdu1 = fits.open(path+'kepler_dr2_1arcsec.fits')\n",
    "data = hdu1[1].data\n",
    "header = hdu1[1].header\n",
    "columns = hdu1[1].columns\n",
    "hdu1.close()"
   ]
  },
  {
   "cell_type": "code",
   "execution_count": null,
   "metadata": {},
   "outputs": [],
   "source": [
    "print(len(data[0]))\n",
    "print(data[0])\n",
    "print(len(columns))\n",
    "print(columns)"
   ]
  },
  {
   "cell_type": "code",
   "execution_count": 15,
   "metadata": {},
   "outputs": [
    {
     "name": "stdout",
     "output_type": "stream",
     "text": [
      "    kepid planet?\n",
      "0  757076    none\n",
      "1  757099    none\n",
      "2  757137    none\n",
      "3  757280    none\n",
      "4  757450    conf\n"
     ]
    }
   ],
   "source": [
    "# let's read into pandas table instead\n",
    "###kep_data = Table.read(path+'kepler_dr2_1arcsec.fits', format='fits')\n",
    "###kep_data = kep_data.to_pandas() --> TypeError: data type '>I2' not understood\n",
    "### decode byte literal column to string\n",
    "###kep_data['planet?'] = kep_data['planet?'].str.decode(\"utf-8\")\n",
    "\n",
    "with fits.open(path+'kepler_dr2_1arcsec.fits') as kep_data:\n",
    "    kep_data = pd.DataFrame(kep_data[1].data)\n",
    "    \n",
    "kep_data_thin = kep_data[['kepid','planet?']]\n",
    "print(kep_data_thin.head())"
   ]
  },
  {
   "cell_type": "code",
   "execution_count": 16,
   "metadata": {},
   "outputs": [
    {
     "name": "stdout",
     "output_type": "stream",
     "text": [
      "19969\n",
      "201312\n",
      "19995\n",
      "      KIC  iso_mass  iso_mass_err1  iso_mass_err2  iso_teff  iso_teff_err1  \\\n",
      "0  757280     1.715          0.086         -0.089    6856.8          144.4   \n",
      "1  892667     1.548          0.081         -0.087    6704.9          148.8   \n",
      "2  892678     1.584          0.071         -0.062    5890.4          121.6   \n",
      "3  892713     1.731          0.219         -0.087    6238.9          123.4   \n",
      "4  892828     1.398          0.071         -0.069    6464.3          137.7   \n",
      "\n",
      "   iso_teff_err2  iso_logg  iso_logg_err1  iso_logg_err2  ...  mass_err2  \\\n",
      "0         -139.9     3.834          0.033         -0.032  ...     -0.157   \n",
      "1         -128.8     3.950          0.034         -0.036  ...     -0.236   \n",
      "2         -114.9     3.574          0.030         -0.030  ...     -0.204   \n",
      "3         -129.8     3.548          0.066         -0.037  ...     -0.270   \n",
      "4         -128.9     4.034          0.032         -0.034  ...     -0.217   \n",
      "\n",
      "   prov_sec  nconfp  nkoi  ntce    jmag    hmag  kmag_y  planet?  \\\n",
      "0      DSEP       0     0     0  10.852  10.662  10.627     none   \n",
      "1      DSEP       0     0     1  12.088  11.856  11.818     none   \n",
      "2      DSEP       0     0     0  10.946  10.646  10.580     none   \n",
      "3      DSEP       0     0     0  10.853  10.588  10.508     none   \n",
      "4      DSEP       0     0     0  12.168  11.961  11.883     none   \n",
      "\n",
      "   kepler_gaia_ang_dist  \n",
      "0              0.116420  \n",
      "1              0.166107  \n",
      "2              0.124651  \n",
      "3              0.103529  \n",
      "4              0.161792  \n",
      "\n",
      "[5 rows x 180 columns]\n"
     ]
    }
   ],
   "source": [
    "# join Bedell cross-match with Berger catalog\n",
    "crossmatch = pd.merge(catalog, kep_data, how='inner', left_on='KIC', right_on='kepid')\n",
    "print(len(catalog))\n",
    "print(len(kep_data))\n",
    "print(len(crossmatch))\n",
    "print(crossmatch.head())"
   ]
  },
  {
   "cell_type": "code",
   "execution_count": 77,
   "metadata": {},
   "outputs": [
    {
     "data": {
      "text/plain": [
       "['KIC',\n",
       " 'iso_mass',\n",
       " 'iso_mass_err1',\n",
       " 'iso_mass_err2',\n",
       " 'iso_teff',\n",
       " 'iso_teff_err1',\n",
       " 'iso_teff_err2',\n",
       " 'iso_logg',\n",
       " 'iso_logg_err1',\n",
       " 'iso_logg_err2',\n",
       " 'iso_feh',\n",
       " 'iso_feh_err1',\n",
       " 'iso_feh_err2',\n",
       " 'iso_rad',\n",
       " 'iso_rad_err1',\n",
       " 'iso_rad_err2',\n",
       " 'iso_rho',\n",
       " 'iso_rho_err1',\n",
       " 'iso_rho_err2',\n",
       " 'iso_lum',\n",
       " 'iso_lum_err1',\n",
       " 'iso_lum_err2',\n",
       " 'iso_age',\n",
       " 'unReAgeFlag',\n",
       " 'iso_age_err1',\n",
       " 'iso_age_err2',\n",
       " 'iso_dis',\n",
       " 'iso_dis_err1',\n",
       " 'iso_dis_err2',\n",
       " 'iso_avs',\n",
       " 'iso_gof',\n",
       " 'TAMS',\n",
       " 'gmag',\n",
       " 'gmag_err',\n",
       " 'kmag_x',\n",
       " 'kmag_err',\n",
       " 'parallax_x',\n",
       " 'parallax_err',\n",
       " 'feh_x',\n",
       " 'feh_err',\n",
       " 'RUWE',\n",
       " 'num_gaia_companions',\n",
       " 'Kmag_final_prov',\n",
       " 'evstate',\n",
       " 'logR',\n",
       " 'is_giant',\n",
       " 'solution_id',\n",
       " 'designation',\n",
       " 'source_id',\n",
       " 'random_index',\n",
       " 'gaia_ref_epoch',\n",
       " 'ra',\n",
       " 'ra_error',\n",
       " 'dec',\n",
       " 'dec_error',\n",
       " 'parallax_y',\n",
       " 'parallax_error',\n",
       " 'parallax_over_error',\n",
       " 'pmra',\n",
       " 'pmra_error',\n",
       " 'pmdec',\n",
       " 'pmdec_error',\n",
       " 'ra_dec_corr',\n",
       " 'ra_parallax_corr',\n",
       " 'ra_pmra_corr',\n",
       " 'ra_pmdec_corr',\n",
       " 'dec_parallax_corr',\n",
       " 'dec_pmra_corr',\n",
       " 'dec_pmdec_corr',\n",
       " 'parallax_pmra_corr',\n",
       " 'parallax_pmdec_corr',\n",
       " 'pmra_pmdec_corr',\n",
       " 'astrometric_n_obs_al',\n",
       " 'astrometric_n_obs_ac',\n",
       " 'astrometric_n_good_obs_al',\n",
       " 'astrometric_n_bad_obs_al',\n",
       " 'astrometric_gof_al',\n",
       " 'astrometric_chi2_al',\n",
       " 'astrometric_excess_noise',\n",
       " 'astrometric_excess_noise_sig',\n",
       " 'astrometric_params_solved',\n",
       " 'astrometric_primary_flag',\n",
       " 'astrometric_weight_al',\n",
       " 'astrometric_pseudo_colour',\n",
       " 'astrometric_pseudo_colour_error',\n",
       " 'mean_varpi_factor_al',\n",
       " 'astrometric_matched_observations',\n",
       " 'visibility_periods_used',\n",
       " 'astrometric_sigma5d_max',\n",
       " 'frame_rotator_object_type',\n",
       " 'matched_observations',\n",
       " 'duplicated_source',\n",
       " 'phot_g_n_obs',\n",
       " 'phot_g_mean_flux',\n",
       " 'phot_g_mean_flux_error',\n",
       " 'phot_g_mean_flux_over_error',\n",
       " 'phot_g_mean_mag',\n",
       " 'phot_bp_n_obs',\n",
       " 'phot_bp_mean_flux',\n",
       " 'phot_bp_mean_flux_error',\n",
       " 'phot_bp_mean_flux_over_error',\n",
       " 'phot_bp_mean_mag',\n",
       " 'phot_rp_n_obs',\n",
       " 'phot_rp_mean_flux',\n",
       " 'phot_rp_mean_flux_error',\n",
       " 'phot_rp_mean_flux_over_error',\n",
       " 'phot_rp_mean_mag',\n",
       " 'phot_bp_rp_excess_factor',\n",
       " 'phot_proc_mode',\n",
       " 'bp_rp',\n",
       " 'bp_g',\n",
       " 'g_rp',\n",
       " 'radial_velocity',\n",
       " 'radial_velocity_error',\n",
       " 'rv_nb_transits',\n",
       " 'rv_template_teff',\n",
       " 'rv_template_logg',\n",
       " 'rv_template_fe_h',\n",
       " 'phot_variable_flag',\n",
       " 'l',\n",
       " 'b',\n",
       " 'ecl_lon',\n",
       " 'ecl_lat',\n",
       " 'priam_flags',\n",
       " 'teff_val',\n",
       " 'teff_percentile_lower',\n",
       " 'teff_percentile_upper',\n",
       " 'a_g_val',\n",
       " 'a_g_percentile_lower',\n",
       " 'a_g_percentile_upper',\n",
       " 'e_bp_min_rp_val',\n",
       " 'e_bp_min_rp_percentile_lower',\n",
       " 'e_bp_min_rp_percentile_upper',\n",
       " 'flame_flags',\n",
       " 'radius_val',\n",
       " 'radius_percentile_lower',\n",
       " 'radius_percentile_upper',\n",
       " 'lum_val',\n",
       " 'lum_percentile_lower',\n",
       " 'lum_percentile_upper',\n",
       " 'datalink_url',\n",
       " 'epoch_photometry_url',\n",
       " 'kepid',\n",
       " 'ra_kic',\n",
       " 'dec_kic',\n",
       " 'r_est',\n",
       " 'r_lo',\n",
       " 'r_hi',\n",
       " 'r_length_prior',\n",
       " 'r_result_flag',\n",
       " 'r_modality_flag',\n",
       " 'tm_designation',\n",
       " 'kepmag',\n",
       " 'teff',\n",
       " 'teff_err1',\n",
       " 'teff_err2',\n",
       " 'teff_prov',\n",
       " 'logg',\n",
       " 'logg_err1',\n",
       " 'logg_err2',\n",
       " 'logg_prov',\n",
       " 'feh_y',\n",
       " 'feh_err1',\n",
       " 'feh_err2',\n",
       " 'feh_prov',\n",
       " 'radius',\n",
       " 'radius_err1',\n",
       " 'radius_err2',\n",
       " 'mass',\n",
       " 'mass_err1',\n",
       " 'mass_err2',\n",
       " 'prov_sec',\n",
       " 'nconfp',\n",
       " 'nkoi',\n",
       " 'ntce',\n",
       " 'jmag',\n",
       " 'hmag',\n",
       " 'kmag_y',\n",
       " 'planet?',\n",
       " 'kepler_gaia_ang_dist',\n",
       " 'dupe_label']"
      ]
     },
     "execution_count": 77,
     "metadata": {},
     "output_type": "execute_result"
    }
   ],
   "source": [
    "list(crossmatch.columns)"
   ]
  },
  {
   "cell_type": "code",
   "execution_count": 79,
   "metadata": {},
   "outputs": [
    {
     "name": "stdout",
     "output_type": "stream",
     "text": [
      "19995\n",
      "            KIC  iso_mass  iso_mass_err1  iso_mass_err2  iso_teff  ...  \\\n",
      "77      1573954     1.484          0.096         -0.087    6932.7  ...   \n",
      "78      1573954     1.484          0.096         -0.087    6932.7  ...   \n",
      "941     3129842     1.224          0.070         -0.077    6871.4  ...   \n",
      "942     3129842     1.224          0.070         -0.077    6871.4  ...   \n",
      "2014    3866583     1.684          0.095         -0.120    6476.7  ...   \n",
      "...         ...       ...            ...            ...       ...  ...   \n",
      "17612  10879850     1.447          0.063         -0.121    6182.3  ...   \n",
      "18669  11506988     1.487          0.061         -0.145    6559.3  ...   \n",
      "18670  11506988     1.487          0.061         -0.145    6559.3  ...   \n",
      "18826  11607521     1.826          0.199         -0.193    6619.2  ...   \n",
      "18827  11607521     1.826          0.199         -0.193    6619.2  ...   \n",
      "\n",
      "         hmag  kmag_y  planet?  kepler_gaia_ang_dist  dupe_label  \n",
      "77     13.442  13.470     none              0.835318        True  \n",
      "78     13.442  13.470     none              0.862454        True  \n",
      "941    13.692  13.609     none              0.616361        True  \n",
      "942    13.692  13.609     none              0.750778        True  \n",
      "2014   13.585  13.522     none              0.072424        True  \n",
      "...       ...     ...      ...                   ...         ...  \n",
      "17612  10.684  10.623     none              0.935110        True  \n",
      "18669   8.647   8.577     none              0.368101        True  \n",
      "18670   8.647   8.577     none              0.765741        True  \n",
      "18826  13.156  13.140     none              0.786128        True  \n",
      "18827  13.156  13.140     none              0.829274        True  \n",
      "\n",
      "[112 rows x 181 columns]\n",
      "[1573954, 1573954, 3129842, 3129842, 3866583, 3866583, 4352050, 4352050, 4472418, 4472418, 4821781, 4821781, 5129034, 5129034, 5216095, 5216095, 5280983, 5280983, 5477694, 5477694, 5565773, 5565773, 5608400, 5608400, 5736270, 5736270, 6060847, 6060847, 6262659, 6262659, 6288231, 6288231, 6526074, 6526074, 6548568, 6548568, 7357348, 7357348, 7417205, 7417205, 7591757, 7591757, 7757287, 7757287, 7817746, 7817746, 7849221, 7849221, 7851030, 7851030, 8016196, 8016196, 8046659, 8046659, 8097591, 8097591, 8181790, 8181790, 8264125, 8264125, 8264198, 8264198, 8296559, 8296559, 8321889, 8321889, 8325790, 8325790, 8329332, 8329332, 8431372, 8431372, 8488978, 8488978, 8591486, 8591486, 8645074, 8645074, 8649154, 8649154, 8677504, 8677504, 9031086, 9031086, 9116510, 9116510, 9343846, 9343846, 9429529, 9429529, 9705183, 9705183, 9718191, 9718191, 9847877, 9847877, 9909497, 9909497, 10155080, 10155080, 10263694, 10263694, 10658122, 10658122, 10744119, 10744119, 10879850, 10879850, 11506988, 11506988, 11607521, 11607521]\n"
     ]
    }
   ],
   "source": [
    "# could we get planet multiplicity from KIC duplicates?\n",
    "print(len(crossmatch))\n",
    "crossmatch['dupe_label'] = crossmatch.duplicated(subset=['kepid'], keep=False)\n",
    "print(crossmatch.loc[crossmatch.dupe_label == True])\n",
    "print(list(crossmatch.loc[crossmatch.dupe_label == True].kepid))\n",
    "# no."
   ]
  },
  {
   "cell_type": "markdown",
   "metadata": {},
   "source": [
    "Chose 1\" search radius Kepler data upon consultation with Megan Bedell. Also, see full isolate.ipynb under noodling/ directory where I replicate with 20\" search radius data, as well as K2 data."
   ]
  },
  {
   "cell_type": "code",
   "execution_count": 17,
   "metadata": {},
   "outputs": [
    {
     "name": "stdout",
     "output_type": "stream",
     "text": [
      "19995\n",
      "19939\n",
      "18959\n",
      "864\n",
      "116\n",
      "candidates only:  0.04333216309744722\n",
      "confirmed only:  0.005817744119564672\n",
      "candidates and confirmed:  0.04914990721701189\n"
     ]
    }
   ],
   "source": [
    "# use 1\" search radius Kepler data\n",
    "\n",
    "# drop duplicates on KIC, which we can do because we guaranteed one-to-one matching of KIC and planet-occurrence status\n",
    "group_crossmatch = crossmatch.drop_duplicates(['KIC'])\n",
    "print(len(crossmatch))\n",
    "print(len(group_crossmatch))\n",
    "\n",
    "# count Kepler objects with each type of planet occurrence\n",
    "none = group_crossmatch.loc[group_crossmatch['planet?'] == 'none']\n",
    "cand = group_crossmatch.loc[group_crossmatch['planet?'] == 'cand']\n",
    "conf = group_crossmatch.loc[group_crossmatch['planet?'] == 'conf']\n",
    "print(len(none))\n",
    "print(len(cand))\n",
    "print(len(conf))\n",
    "\n",
    "# cand and conf planet occurrence rates across FGK dwarfs from Berger et al 2020\n",
    "print(\"candidates only: \", len(cand)/len(group_crossmatch))\n",
    "print(\"confirmed only: \", len(conf)/len(group_crossmatch))\n",
    "print(\"candidates and confirmed: \", (len(cand)+len(conf))/len(group_crossmatch))"
   ]
  },
  {
   "cell_type": "code",
   "execution_count": 81,
   "metadata": {},
   "outputs": [
    {
     "name": "stdout",
     "output_type": "stream",
     "text": [
      "983\n",
      "            KIC  iso_mass  iso_mass_err1  iso_mass_err2  iso_teff  ...  \\\n",
      "10883   8046659     1.189          0.066         -0.081    6847.6  ...   \n",
      "10884   8046659     1.189          0.066         -0.081    6847.6  ...   \n",
      "13760   9116510     1.152          0.049         -0.042    6691.2  ...   \n",
      "13761   9116510     1.152          0.049         -0.042    6691.2  ...   \n",
      "16251  10155080     1.250          0.070         -0.068    5843.9  ...   \n",
      "16252  10155080     1.250          0.070         -0.068    5843.9  ...   \n",
      "\n",
      "         hmag  kmag_y  planet?  kepler_gaia_ang_dist  dupe_label  \n",
      "10883  13.491  13.523     cand              0.715064        True  \n",
      "10884  13.491  13.523     cand              0.897246        True  \n",
      "13760  12.772  12.716     cand              0.679795        True  \n",
      "13761  12.772  12.716     cand              0.781874        True  \n",
      "16251  11.651  11.627     cand              0.543404        True  \n",
      "16252  11.651  11.627     cand              0.605712        True  \n",
      "\n",
      "[6 rows x 181 columns]\n"
     ]
    }
   ],
   "source": [
    "# let's keep both confirmed and candidate planets\n",
    "pos = crossmatch.loc[crossmatch['planet?'] != 'none']\n",
    "print(len(pos))\n",
    "pos['dupe_label'] = pos.duplicated(subset=['kepid'], keep=False)\n",
    "print(pos.loc[pos.dupe_label == True])\n"
   ]
  },
  {
   "cell_type": "markdown",
   "metadata": {},
   "source": [
    "I also do this with all well-defined stars (ie. beyond just FGK) from Berger et al in the full isolate.ipynb notebook. But we'll move forward with only FGK stars here."
   ]
  },
  {
   "cell_type": "markdown",
   "metadata": {},
   "source": [
    "### Joining Kepler cross-match with Exoplanets archive dataset"
   ]
  },
  {
   "cell_type": "code",
   "execution_count": 99,
   "metadata": {},
   "outputs": [
    {
     "name": "stdout",
     "output_type": "stream",
     "text": [
      "    iso_mass   mass  iso_teff  teff  iso_rad  radius  iso_age  koi_count  \\\n",
      "0      1.515  1.449    6436.5  6440    1.995   1.952     1.74          1   \n",
      "1      1.264  1.132    6365.3  6225    1.545   1.451     2.62          1   \n",
      "2      1.375  1.193    6240.4  6270    1.875   1.286     2.51          1   \n",
      "3      1.437  1.386    6943.4  6823    1.491   1.367     0.69          1   \n",
      "4      1.301  1.279    6366.1  6520    1.589   1.215     2.44          1   \n",
      "..       ...    ...       ...   ...      ...     ...      ...        ...   \n",
      "15     1.529  1.202    6026.5  5884    2.735   1.426     2.29          1   \n",
      "16     1.329  2.736    6678.3  5313    1.545   9.327     1.76          2   \n",
      "17     1.329  2.736    6678.3  5313    1.545   9.327     1.76          2   \n",
      "18     1.452  1.304    6998.9  6490    1.607   1.307     1.08          1   \n",
      "19     1.417  1.399    6951.9  6306    1.661   1.792     1.44          1   \n",
      "\n",
      "   planet?  \n",
      "0     conf  \n",
      "1     conf  \n",
      "2     cand  \n",
      "3     conf  \n",
      "4     cand  \n",
      "..     ...  \n",
      "15    cand  \n",
      "16    conf  \n",
      "17    conf  \n",
      "18    conf  \n",
      "19    conf  \n",
      "\n",
      "[20 rows x 9 columns]\n"
     ]
    }
   ],
   "source": [
    "# check that pl_pnums > 1 come from the same star\n",
    "print(positives_kepler[['iso_mass', 'mass', 'iso_teff', 'teff', 'iso_rad',\n",
    "                        'radius', 'iso_age', 'koi_count', 'planet?']].head(n=20))\n",
    "# 'st_metfe', 'gmag', 'st_optmag', 'kmag',"
   ]
  },
  {
   "cell_type": "markdown",
   "metadata": {},
   "source": [
    "### Joining Kepler cross-match with separate Bedell exoplanets dataset"
   ]
  },
  {
   "cell_type": "markdown",
   "metadata": {},
   "source": [
    "Hmm, the exoplanets dataset has multiplicities for confirmed planets, but let's see if this works with candidates as well."
   ]
  },
  {
   "cell_type": "code",
   "execution_count": 26,
   "metadata": {},
   "outputs": [
    {
     "name": "stdout",
     "output_type": "stream",
     "text": [
      "           solution_id                   designation            source_id  \\\n",
      "0  1635721458409799680  Gaia DR2 3946945413106333696  3946945413106333696   \n",
      "1  1635721458409799680  Gaia DR2 1696798367260229376  1696798367260229376   \n",
      "2  1635721458409799680  Gaia DR2 1920113512486282240  1920113512486282240   \n",
      "3  1635721458409799680  Gaia DR2 1385293808145621504  1385293808145621504   \n",
      "4  1635721458409799680  Gaia DR2 2135550755683407232  2135550755683407232   \n",
      "\n",
      "   random_index  gaia_ref_epoch          ra  ra_error        dec  dec_error  \\\n",
      "0     221573267          2015.5  185.178779  0.162032  17.793252   0.131688   \n",
      "1      91495763          2015.5  229.274595  0.122354  71.823943   0.110681   \n",
      "2     162105136          2015.5  352.824150  0.106518  39.235837   0.074691   \n",
      "3    1155875906          2015.5  242.602101  0.019262  43.816362   0.019824   \n",
      "4     166057510          2015.5  295.465642  0.022583  50.516824   0.024786   \n",
      "\n",
      "    parallax  ...  pl_cbflag  pl_disc    hd_name    hip_name  st_radv  \\\n",
      "0  10.710445  ...          0     2007  HD 107383   HIP 60202    43.37   \n",
      "1   7.953881  ...          0     2009  HD 136726   HIP 74793   -17.52   \n",
      "2  13.228880  ...          0     2008  HD 221345  HIP 116076   -59.73   \n",
      "3  55.736347  ...          0     2002  HD 145675   HIP 79248      NaN   \n",
      "4  47.275421  ...          0     1996  HD 186427   HIP 96901   -28.10   \n",
      "\n",
      "   st_radverr1  st_radverr2  st_radvlim  st_radvn  nasa_gaia_ang_dist  \n",
      "0         0.21        -0.21           0         1            0.017243  \n",
      "1         0.15        -0.15           0         1            0.014335  \n",
      "2         0.31        -0.31           0         1            0.050127  \n",
      "3          NaN          NaN      999999         5            0.038616  \n",
      "4         0.10        -0.10           0         4            0.005876  \n",
      "\n",
      "[5 rows x 195 columns]\n"
     ]
    }
   ],
   "source": [
    "#import warnings\n",
    "#warnings.filterwarnings('ignore')\n",
    "path = '/Users/chris/Desktop/sculpting/crossmatch_fun/'\n",
    "\n",
    "with fits.open(path+'exoplanets_dr2_1arcsec.fits') as positives:\n",
    "    positives = pd.DataFrame(positives[1].data)\n",
    "\n",
    "print(positives.head())\n",
    "#positives = Table.read(path+'exoplanets_dr2_1arcsec.fits', format='fits')\n",
    "#print(positives)\n",
    "#positives = positives.to_pandas()\n",
    "#print(positives.head())"
   ]
  },
  {
   "cell_type": "code",
   "execution_count": 59,
   "metadata": {},
   "outputs": [
    {
     "data": {
      "text/html": [
       "<div>\n",
       "<style scoped>\n",
       "    .dataframe tbody tr th:only-of-type {\n",
       "        vertical-align: middle;\n",
       "    }\n",
       "\n",
       "    .dataframe tbody tr th {\n",
       "        vertical-align: top;\n",
       "    }\n",
       "\n",
       "    .dataframe thead th {\n",
       "        text-align: right;\n",
       "    }\n",
       "</style>\n",
       "<table border=\"1\" class=\"dataframe\">\n",
       "  <thead>\n",
       "    <tr style=\"text-align: right;\">\n",
       "      <th></th>\n",
       "      <th>solution_id_x</th>\n",
       "      <th>designation_x</th>\n",
       "      <th>source_id</th>\n",
       "      <th>random_index_x</th>\n",
       "      <th>gaia_ref_epoch_x</th>\n",
       "      <th>...</th>\n",
       "      <th>jmag</th>\n",
       "      <th>hmag</th>\n",
       "      <th>kmag</th>\n",
       "      <th>planet?</th>\n",
       "      <th>kepler_gaia_ang_dist</th>\n",
       "    </tr>\n",
       "  </thead>\n",
       "  <tbody>\n",
       "  </tbody>\n",
       "</table>\n",
       "<p>0 rows × 328 columns</p>\n",
       "</div>"
      ],
      "text/plain": [
       "Empty DataFrame\n",
       "Columns: [solution_id_x, designation_x, source_id, random_index_x, gaia_ref_epoch_x, ra_x, ra_error_x, dec_x, dec_error_x, parallax_x, parallax_error_x, parallax_over_error_x, pmra_x, pmra_error_x, pmdec_x, pmdec_error_x, ra_dec_corr_x, ra_parallax_corr_x, ra_pmra_corr_x, ra_pmdec_corr_x, dec_parallax_corr_x, dec_pmra_corr_x, dec_pmdec_corr_x, parallax_pmra_corr_x, parallax_pmdec_corr_x, pmra_pmdec_corr_x, astrometric_n_obs_al_x, astrometric_n_obs_ac_x, astrometric_n_good_obs_al_x, astrometric_n_bad_obs_al_x, astrometric_gof_al_x, astrometric_chi2_al_x, astrometric_excess_noise_x, astrometric_excess_noise_sig_x, astrometric_params_solved_x, astrometric_primary_flag_x, astrometric_weight_al_x, astrometric_pseudo_colour_x, astrometric_pseudo_colour_error_x, mean_varpi_factor_al_x, astrometric_matched_observations_x, visibility_periods_used_x, astrometric_sigma5d_max_x, frame_rotator_object_type_x, matched_observations_x, duplicated_source_x, phot_g_n_obs_x, phot_g_mean_flux_x, phot_g_mean_flux_error_x, phot_g_mean_flux_over_error_x, phot_g_mean_mag_x, phot_bp_n_obs_x, phot_bp_mean_flux_x, phot_bp_mean_flux_error_x, phot_bp_mean_flux_over_error_x, phot_bp_mean_mag_x, phot_rp_n_obs_x, phot_rp_mean_flux_x, phot_rp_mean_flux_error_x, phot_rp_mean_flux_over_error_x, phot_rp_mean_mag_x, phot_bp_rp_excess_factor_x, phot_proc_mode_x, bp_rp_x, bp_g_x, g_rp_x, radial_velocity_x, radial_velocity_error_x, rv_nb_transits_x, rv_template_teff_x, rv_template_logg_x, rv_template_fe_h_x, phot_variable_flag_x, l_x, b_x, ecl_lon_x, ecl_lat_x, priam_flags_x, teff_val_x, teff_percentile_lower_x, teff_percentile_upper_x, a_g_val_x, a_g_percentile_lower_x, a_g_percentile_upper_x, e_bp_min_rp_val_x, e_bp_min_rp_percentile_lower_x, e_bp_min_rp_percentile_upper_x, flame_flags_x, radius_val_x, radius_percentile_lower_x, radius_percentile_upper_x, lum_val_x, lum_percentile_lower_x, lum_percentile_upper_x, datalink_url_x, epoch_photometry_url_x, ra_nasa, dec_nasa, pl_name, r_est_x, ...]\n",
       "Index: []\n",
       "\n",
       "[0 rows x 328 columns]"
      ]
     },
     "execution_count": 59,
     "metadata": {},
     "output_type": "execute_result"
    }
   ],
   "source": [
    "positives_kepler.loc[positives_kepler['planet?'] == 'cand']"
   ]
  },
  {
   "cell_type": "markdown",
   "metadata": {},
   "source": [
    "Uh oh...looks like the exoplanets dataset only includes confirmed planets. Do we even need this dataset, though? Can I get planet counts by just, y'know, counting?"
   ]
  },
  {
   "cell_type": "code",
   "execution_count": 47,
   "metadata": {
    "scrolled": true
   },
   "outputs": [
    {
     "data": {
      "text/plain": [
       "980"
      ]
     },
     "execution_count": 47,
     "metadata": {},
     "output_type": "execute_result"
    }
   ],
   "source": [
    "len(pos.duplicated(keep=False))"
   ]
  },
  {
   "cell_type": "code",
   "execution_count": 56,
   "metadata": {},
   "outputs": [
    {
     "name": "stdout",
     "output_type": "stream",
     "text": [
      "['KIC', 'iso_mass', 'iso_mass_err1', 'iso_mass_err2', 'iso_teff', 'iso_teff_err1', 'iso_teff_err2', 'iso_logg', 'iso_logg_err1', 'iso_logg_err2', 'iso_feh', 'iso_feh_err1', 'iso_feh_err2', 'iso_rad', 'iso_rad_err1', 'iso_rad_err2', 'iso_rho', 'iso_rho_err1', 'iso_rho_err2', 'iso_lum', 'iso_lum_err1', 'iso_lum_err2', 'iso_age', 'unReAgeFlag', 'iso_age_err1', 'iso_age_err2', 'iso_dis', 'iso_dis_err1', 'iso_dis_err2', 'iso_avs', 'iso_gof', 'TAMS', 'gmag', 'gmag_err', 'kmag_x', 'kmag_err', 'parallax_x', 'parallax_err', 'feh_x', 'feh_err', 'RUWE', 'num_gaia_companions', 'Kmag_final_prov', 'evstate', 'logR', 'is_giant', 'solution_id', 'designation', 'source_id', 'random_index', 'gaia_ref_epoch', 'ra', 'ra_error', 'dec', 'dec_error', 'parallax_y', 'parallax_error', 'parallax_over_error', 'pmra', 'pmra_error', 'pmdec', 'pmdec_error', 'ra_dec_corr', 'ra_parallax_corr', 'ra_pmra_corr', 'ra_pmdec_corr', 'dec_parallax_corr', 'dec_pmra_corr', 'dec_pmdec_corr', 'parallax_pmra_corr', 'parallax_pmdec_corr', 'pmra_pmdec_corr', 'astrometric_n_obs_al', 'astrometric_n_obs_ac', 'astrometric_n_good_obs_al', 'astrometric_n_bad_obs_al', 'astrometric_gof_al', 'astrometric_chi2_al', 'astrometric_excess_noise', 'astrometric_excess_noise_sig', 'astrometric_params_solved', 'astrometric_primary_flag', 'astrometric_weight_al', 'astrometric_pseudo_colour', 'astrometric_pseudo_colour_error', 'mean_varpi_factor_al', 'astrometric_matched_observations', 'visibility_periods_used', 'astrometric_sigma5d_max', 'frame_rotator_object_type', 'matched_observations', 'duplicated_source', 'phot_g_n_obs', 'phot_g_mean_flux', 'phot_g_mean_flux_error', 'phot_g_mean_flux_over_error', 'phot_g_mean_mag', 'phot_bp_n_obs', 'phot_bp_mean_flux', 'phot_bp_mean_flux_error', 'phot_bp_mean_flux_over_error', 'phot_bp_mean_mag', 'phot_rp_n_obs', 'phot_rp_mean_flux', 'phot_rp_mean_flux_error', 'phot_rp_mean_flux_over_error', 'phot_rp_mean_mag', 'phot_bp_rp_excess_factor', 'phot_proc_mode', 'bp_rp', 'bp_g', 'g_rp', 'radial_velocity', 'radial_velocity_error', 'rv_nb_transits', 'rv_template_teff', 'rv_template_logg', 'rv_template_fe_h', 'phot_variable_flag', 'l', 'b', 'ecl_lon', 'ecl_lat', 'priam_flags', 'teff_val', 'teff_percentile_lower', 'teff_percentile_upper', 'a_g_val', 'a_g_percentile_lower', 'a_g_percentile_upper', 'e_bp_min_rp_val', 'e_bp_min_rp_percentile_lower', 'e_bp_min_rp_percentile_upper', 'flame_flags', 'radius_val', 'radius_percentile_lower', 'radius_percentile_upper', 'lum_val', 'lum_percentile_lower', 'lum_percentile_upper', 'datalink_url', 'epoch_photometry_url', 'kepid', 'ra_kic', 'dec_kic', 'r_est', 'r_lo', 'r_hi', 'r_length_prior', 'r_result_flag', 'r_modality_flag', 'tm_designation', 'kepmag', 'teff', 'teff_err1', 'teff_err2', 'teff_prov', 'logg', 'logg_err1', 'logg_err2', 'logg_prov', 'feh_y', 'feh_err1', 'feh_err2', 'feh_prov', 'radius', 'radius_err1', 'radius_err2', 'mass', 'mass_err1', 'mass_err2', 'prov_sec', 'nconfp', 'nkoi', 'ntce', 'jmag', 'hmag', 'kmag_y', 'planet?', 'kepler_gaia_ang_dist']\n"
     ]
    }
   ],
   "source": [
    "print(list(pos.columns))"
   ]
  },
  {
   "cell_type": "code",
   "execution_count": 62,
   "metadata": {},
   "outputs": [
    {
     "data": {
      "text/html": [
       "<div>\n",
       "<style scoped>\n",
       "    .dataframe tbody tr th:only-of-type {\n",
       "        vertical-align: middle;\n",
       "    }\n",
       "\n",
       "    .dataframe tbody tr th {\n",
       "        vertical-align: top;\n",
       "    }\n",
       "\n",
       "    .dataframe thead th {\n",
       "        text-align: right;\n",
       "    }\n",
       "</style>\n",
       "<table border=\"1\" class=\"dataframe\">\n",
       "  <thead>\n",
       "    <tr style=\"text-align: right;\">\n",
       "      <th></th>\n",
       "      <th>iso_mass</th>\n",
       "      <th>mass</th>\n",
       "      <th>iso_teff</th>\n",
       "      <th>teff</th>\n",
       "      <th>iso_rad</th>\n",
       "      <th>radius</th>\n",
       "      <th>iso_age</th>\n",
       "      <th>planet?</th>\n",
       "    </tr>\n",
       "  </thead>\n",
       "  <tbody>\n",
       "    <tr>\n",
       "      <th>7</th>\n",
       "      <td>1.374</td>\n",
       "      <td>0.796</td>\n",
       "      <td>6103.8</td>\n",
       "      <td>5951</td>\n",
       "      <td>2.252</td>\n",
       "      <td>0.702</td>\n",
       "      <td>2.93</td>\n",
       "      <td>cand</td>\n",
       "    </tr>\n",
       "    <tr>\n",
       "      <th>16</th>\n",
       "      <td>1.497</td>\n",
       "      <td>1.358</td>\n",
       "      <td>6265.1</td>\n",
       "      <td>6443</td>\n",
       "      <td>1.994</td>\n",
       "      <td>1.448</td>\n",
       "      <td>1.98</td>\n",
       "      <td>cand</td>\n",
       "    </tr>\n",
       "    <tr>\n",
       "      <th>22</th>\n",
       "      <td>1.744</td>\n",
       "      <td>2.050</td>\n",
       "      <td>6635.0</td>\n",
       "      <td>6341</td>\n",
       "      <td>2.872</td>\n",
       "      <td>5.302</td>\n",
       "      <td>1.29</td>\n",
       "      <td>cand</td>\n",
       "    </tr>\n",
       "    <tr>\n",
       "      <th>32</th>\n",
       "      <td>1.243</td>\n",
       "      <td>1.200</td>\n",
       "      <td>5568.0</td>\n",
       "      <td>6233</td>\n",
       "      <td>2.488</td>\n",
       "      <td>1.921</td>\n",
       "      <td>3.84</td>\n",
       "      <td>cand</td>\n",
       "    </tr>\n",
       "    <tr>\n",
       "      <th>38</th>\n",
       "      <td>1.434</td>\n",
       "      <td>1.500</td>\n",
       "      <td>6535.1</td>\n",
       "      <td>6570</td>\n",
       "      <td>1.748</td>\n",
       "      <td>2.270</td>\n",
       "      <td>1.73</td>\n",
       "      <td>cand</td>\n",
       "    </tr>\n",
       "    <tr>\n",
       "      <th>...</th>\n",
       "      <td>...</td>\n",
       "      <td>...</td>\n",
       "      <td>...</td>\n",
       "      <td>...</td>\n",
       "      <td>...</td>\n",
       "      <td>...</td>\n",
       "      <td>...</td>\n",
       "      <td>...</td>\n",
       "    </tr>\n",
       "    <tr>\n",
       "      <th>19933</th>\n",
       "      <td>1.448</td>\n",
       "      <td>1.596</td>\n",
       "      <td>7021.4</td>\n",
       "      <td>6787</td>\n",
       "      <td>1.579</td>\n",
       "      <td>2.753</td>\n",
       "      <td>1.01</td>\n",
       "      <td>cand</td>\n",
       "    </tr>\n",
       "    <tr>\n",
       "      <th>19960</th>\n",
       "      <td>1.394</td>\n",
       "      <td>1.238</td>\n",
       "      <td>6790.5</td>\n",
       "      <td>6782</td>\n",
       "      <td>1.745</td>\n",
       "      <td>1.379</td>\n",
       "      <td>1.78</td>\n",
       "      <td>cand</td>\n",
       "    </tr>\n",
       "    <tr>\n",
       "      <th>19963</th>\n",
       "      <td>1.485</td>\n",
       "      <td>1.474</td>\n",
       "      <td>6804.9</td>\n",
       "      <td>6596</td>\n",
       "      <td>1.806</td>\n",
       "      <td>1.721</td>\n",
       "      <td>1.41</td>\n",
       "      <td>cand</td>\n",
       "    </tr>\n",
       "    <tr>\n",
       "      <th>19971</th>\n",
       "      <td>1.478</td>\n",
       "      <td>1.249</td>\n",
       "      <td>6166.4</td>\n",
       "      <td>6059</td>\n",
       "      <td>2.113</td>\n",
       "      <td>1.554</td>\n",
       "      <td>2.26</td>\n",
       "      <td>cand</td>\n",
       "    </tr>\n",
       "    <tr>\n",
       "      <th>19980</th>\n",
       "      <td>1.578</td>\n",
       "      <td>1.530</td>\n",
       "      <td>6676.4</td>\n",
       "      <td>6456</td>\n",
       "      <td>2.305</td>\n",
       "      <td>3.030</td>\n",
       "      <td>1.54</td>\n",
       "      <td>cand</td>\n",
       "    </tr>\n",
       "  </tbody>\n",
       "</table>\n",
       "<p>980 rows × 8 columns</p>\n",
       "</div>"
      ],
      "text/plain": [
       "       iso_mass   mass  iso_teff  teff  iso_rad  radius  iso_age planet?\n",
       "7         1.374  0.796    6103.8  5951    2.252   0.702     2.93    cand\n",
       "16        1.497  1.358    6265.1  6443    1.994   1.448     1.98    cand\n",
       "22        1.744  2.050    6635.0  6341    2.872   5.302     1.29    cand\n",
       "32        1.243  1.200    5568.0  6233    2.488   1.921     3.84    cand\n",
       "38        1.434  1.500    6535.1  6570    1.748   2.270     1.73    cand\n",
       "...         ...    ...       ...   ...      ...     ...      ...     ...\n",
       "19933     1.448  1.596    7021.4  6787    1.579   2.753     1.01    cand\n",
       "19960     1.394  1.238    6790.5  6782    1.745   1.379     1.78    cand\n",
       "19963     1.485  1.474    6804.9  6596    1.806   1.721     1.41    cand\n",
       "19971     1.478  1.249    6166.4  6059    2.113   1.554     2.26    cand\n",
       "19980     1.578  1.530    6676.4  6456    2.305   3.030     1.54    cand\n",
       "\n",
       "[980 rows x 8 columns]"
      ]
     },
     "execution_count": 62,
     "metadata": {},
     "output_type": "execute_result"
    }
   ],
   "source": [
    "# the only columns I need to keep\n",
    "pos[['iso_mass', 'mass', 'iso_teff', 'teff', 'iso_rad',\n",
    "                        'radius', 'iso_age', 'planet?']]"
   ]
  },
  {
   "cell_type": "code",
   "execution_count": 61,
   "metadata": {},
   "outputs": [
    {
     "ename": "KeyError",
     "evalue": "\"['iso_teff', 'iso_rad', 'iso_age', 'iso_mass'] not in index\"",
     "output_type": "error",
     "traceback": [
      "\u001b[0;31m---------------------------------------------------------------------------\u001b[0m",
      "\u001b[0;31mKeyError\u001b[0m                                  Traceback (most recent call last)",
      "\u001b[0;32m<ipython-input-61-9df6b9f535a2>\u001b[0m in \u001b[0;36m<module>\u001b[0;34m\u001b[0m\n\u001b[0;32m----> 1\u001b[0;31m kep_data[['iso_mass', 'mass', 'iso_teff', 'teff', 'iso_rad',\n\u001b[0m\u001b[1;32m      2\u001b[0m                         'radius', 'iso_age', 'planet?']]\n",
      "\u001b[0;32m~/anaconda2/envs/sculpting/lib/python3.9/site-packages/pandas/core/frame.py\u001b[0m in \u001b[0;36m__getitem__\u001b[0;34m(self, key)\u001b[0m\n\u001b[1;32m   3028\u001b[0m             \u001b[0;32mif\u001b[0m \u001b[0mis_iterator\u001b[0m\u001b[0;34m(\u001b[0m\u001b[0mkey\u001b[0m\u001b[0;34m)\u001b[0m\u001b[0;34m:\u001b[0m\u001b[0;34m\u001b[0m\u001b[0;34m\u001b[0m\u001b[0m\n\u001b[1;32m   3029\u001b[0m                 \u001b[0mkey\u001b[0m \u001b[0;34m=\u001b[0m \u001b[0mlist\u001b[0m\u001b[0;34m(\u001b[0m\u001b[0mkey\u001b[0m\u001b[0;34m)\u001b[0m\u001b[0;34m\u001b[0m\u001b[0;34m\u001b[0m\u001b[0m\n\u001b[0;32m-> 3030\u001b[0;31m             \u001b[0mindexer\u001b[0m \u001b[0;34m=\u001b[0m \u001b[0mself\u001b[0m\u001b[0;34m.\u001b[0m\u001b[0mloc\u001b[0m\u001b[0;34m.\u001b[0m\u001b[0m_get_listlike_indexer\u001b[0m\u001b[0;34m(\u001b[0m\u001b[0mkey\u001b[0m\u001b[0;34m,\u001b[0m \u001b[0maxis\u001b[0m\u001b[0;34m=\u001b[0m\u001b[0;36m1\u001b[0m\u001b[0;34m,\u001b[0m \u001b[0mraise_missing\u001b[0m\u001b[0;34m=\u001b[0m\u001b[0;32mTrue\u001b[0m\u001b[0;34m)\u001b[0m\u001b[0;34m[\u001b[0m\u001b[0;36m1\u001b[0m\u001b[0;34m]\u001b[0m\u001b[0;34m\u001b[0m\u001b[0;34m\u001b[0m\u001b[0m\n\u001b[0m\u001b[1;32m   3031\u001b[0m \u001b[0;34m\u001b[0m\u001b[0m\n\u001b[1;32m   3032\u001b[0m         \u001b[0;31m# take() does not accept boolean indexers\u001b[0m\u001b[0;34m\u001b[0m\u001b[0;34m\u001b[0m\u001b[0;34m\u001b[0m\u001b[0m\n",
      "\u001b[0;32m~/anaconda2/envs/sculpting/lib/python3.9/site-packages/pandas/core/indexing.py\u001b[0m in \u001b[0;36m_get_listlike_indexer\u001b[0;34m(self, key, axis, raise_missing)\u001b[0m\n\u001b[1;32m   1264\u001b[0m             \u001b[0mkeyarr\u001b[0m\u001b[0;34m,\u001b[0m \u001b[0mindexer\u001b[0m\u001b[0;34m,\u001b[0m \u001b[0mnew_indexer\u001b[0m \u001b[0;34m=\u001b[0m \u001b[0max\u001b[0m\u001b[0;34m.\u001b[0m\u001b[0m_reindex_non_unique\u001b[0m\u001b[0;34m(\u001b[0m\u001b[0mkeyarr\u001b[0m\u001b[0;34m)\u001b[0m\u001b[0;34m\u001b[0m\u001b[0;34m\u001b[0m\u001b[0m\n\u001b[1;32m   1265\u001b[0m \u001b[0;34m\u001b[0m\u001b[0m\n\u001b[0;32m-> 1266\u001b[0;31m         \u001b[0mself\u001b[0m\u001b[0;34m.\u001b[0m\u001b[0m_validate_read_indexer\u001b[0m\u001b[0;34m(\u001b[0m\u001b[0mkeyarr\u001b[0m\u001b[0;34m,\u001b[0m \u001b[0mindexer\u001b[0m\u001b[0;34m,\u001b[0m \u001b[0maxis\u001b[0m\u001b[0;34m,\u001b[0m \u001b[0mraise_missing\u001b[0m\u001b[0;34m=\u001b[0m\u001b[0mraise_missing\u001b[0m\u001b[0;34m)\u001b[0m\u001b[0;34m\u001b[0m\u001b[0;34m\u001b[0m\u001b[0m\n\u001b[0m\u001b[1;32m   1267\u001b[0m         \u001b[0;32mreturn\u001b[0m \u001b[0mkeyarr\u001b[0m\u001b[0;34m,\u001b[0m \u001b[0mindexer\u001b[0m\u001b[0;34m\u001b[0m\u001b[0;34m\u001b[0m\u001b[0m\n\u001b[1;32m   1268\u001b[0m \u001b[0;34m\u001b[0m\u001b[0m\n",
      "\u001b[0;32m~/anaconda2/envs/sculpting/lib/python3.9/site-packages/pandas/core/indexing.py\u001b[0m in \u001b[0;36m_validate_read_indexer\u001b[0;34m(self, key, indexer, axis, raise_missing)\u001b[0m\n\u001b[1;32m   1314\u001b[0m             \u001b[0;32mif\u001b[0m \u001b[0mraise_missing\u001b[0m\u001b[0;34m:\u001b[0m\u001b[0;34m\u001b[0m\u001b[0;34m\u001b[0m\u001b[0m\n\u001b[1;32m   1315\u001b[0m                 \u001b[0mnot_found\u001b[0m \u001b[0;34m=\u001b[0m \u001b[0mlist\u001b[0m\u001b[0;34m(\u001b[0m\u001b[0mset\u001b[0m\u001b[0;34m(\u001b[0m\u001b[0mkey\u001b[0m\u001b[0;34m)\u001b[0m \u001b[0;34m-\u001b[0m \u001b[0mset\u001b[0m\u001b[0;34m(\u001b[0m\u001b[0max\u001b[0m\u001b[0;34m)\u001b[0m\u001b[0;34m)\u001b[0m\u001b[0;34m\u001b[0m\u001b[0;34m\u001b[0m\u001b[0m\n\u001b[0;32m-> 1316\u001b[0;31m                 \u001b[0;32mraise\u001b[0m \u001b[0mKeyError\u001b[0m\u001b[0;34m(\u001b[0m\u001b[0;34mf\"{not_found} not in index\"\u001b[0m\u001b[0;34m)\u001b[0m\u001b[0;34m\u001b[0m\u001b[0;34m\u001b[0m\u001b[0m\n\u001b[0m\u001b[1;32m   1317\u001b[0m \u001b[0;34m\u001b[0m\u001b[0m\n\u001b[1;32m   1318\u001b[0m             \u001b[0mnot_found\u001b[0m \u001b[0;34m=\u001b[0m \u001b[0mkey\u001b[0m\u001b[0;34m[\u001b[0m\u001b[0mmissing_mask\u001b[0m\u001b[0;34m]\u001b[0m\u001b[0;34m\u001b[0m\u001b[0;34m\u001b[0m\u001b[0m\n",
      "\u001b[0;31mKeyError\u001b[0m: \"['iso_teff', 'iso_rad', 'iso_age', 'iso_mass'] not in index\""
     ]
    }
   ],
   "source": [
    "kep_data[['iso_mass', 'mass', 'iso_teff', 'teff', 'iso_rad',\n",
    "                        'radius', 'iso_age', 'planet?']]"
   ]
  },
  {
   "cell_type": "code",
   "execution_count": 63,
   "metadata": {},
   "outputs": [
    {
     "data": {
      "text/html": [
       "<div>\n",
       "<style scoped>\n",
       "    .dataframe tbody tr th:only-of-type {\n",
       "        vertical-align: middle;\n",
       "    }\n",
       "\n",
       "    .dataframe tbody tr th {\n",
       "        vertical-align: top;\n",
       "    }\n",
       "\n",
       "    .dataframe thead th {\n",
       "        text-align: right;\n",
       "    }\n",
       "</style>\n",
       "<table border=\"1\" class=\"dataframe\">\n",
       "  <thead>\n",
       "    <tr style=\"text-align: right;\">\n",
       "      <th></th>\n",
       "      <th>solution_id_x</th>\n",
       "      <th>designation_x</th>\n",
       "      <th>source_id</th>\n",
       "      <th>random_index_x</th>\n",
       "      <th>gaia_ref_epoch_x</th>\n",
       "      <th>...</th>\n",
       "      <th>jmag_y</th>\n",
       "      <th>hmag_y</th>\n",
       "      <th>kmag_y</th>\n",
       "      <th>planet?_y</th>\n",
       "      <th>kepler_gaia_ang_dist_y</th>\n",
       "    </tr>\n",
       "  </thead>\n",
       "  <tbody>\n",
       "    <tr>\n",
       "      <th>0</th>\n",
       "      <td>1635721458409799680</td>\n",
       "      <td>Gaia DR2 2050236727912831872</td>\n",
       "      <td>2050236727912831872</td>\n",
       "      <td>1243639930</td>\n",
       "      <td>2015.5</td>\n",
       "      <td>...</td>\n",
       "      <td>13.609</td>\n",
       "      <td>13.298</td>\n",
       "      <td>13.277</td>\n",
       "      <td>cand</td>\n",
       "      <td>0.108526</td>\n",
       "    </tr>\n",
       "    <tr>\n",
       "      <th>1</th>\n",
       "      <td>1635721458409799680</td>\n",
       "      <td>Gaia DR2 2050243909098361856</td>\n",
       "      <td>2050243909098361856</td>\n",
       "      <td>641766488</td>\n",
       "      <td>2015.5</td>\n",
       "      <td>...</td>\n",
       "      <td>12.927</td>\n",
       "      <td>12.724</td>\n",
       "      <td>12.659</td>\n",
       "      <td>cand</td>\n",
       "      <td>0.059701</td>\n",
       "    </tr>\n",
       "    <tr>\n",
       "      <th>2</th>\n",
       "      <td>1635721458409799680</td>\n",
       "      <td>Gaia DR2 2050256416043021696</td>\n",
       "      <td>2050256416043021696</td>\n",
       "      <td>68766862</td>\n",
       "      <td>2015.5</td>\n",
       "      <td>...</td>\n",
       "      <td>11.753</td>\n",
       "      <td>11.533</td>\n",
       "      <td>11.497</td>\n",
       "      <td>cand</td>\n",
       "      <td>0.038394</td>\n",
       "    </tr>\n",
       "    <tr>\n",
       "      <th>3</th>\n",
       "      <td>1635721458409799680</td>\n",
       "      <td>Gaia DR2 2051688529935082880</td>\n",
       "      <td>2051688529935082880</td>\n",
       "      <td>416593511</td>\n",
       "      <td>2015.5</td>\n",
       "      <td>...</td>\n",
       "      <td>12.345</td>\n",
       "      <td>11.987</td>\n",
       "      <td>11.879</td>\n",
       "      <td>cand</td>\n",
       "      <td>0.055981</td>\n",
       "    </tr>\n",
       "    <tr>\n",
       "      <th>4</th>\n",
       "      <td>1635721458409799680</td>\n",
       "      <td>Gaia DR2 2051012295923656704</td>\n",
       "      <td>2051012295923656704</td>\n",
       "      <td>312039869</td>\n",
       "      <td>2015.5</td>\n",
       "      <td>...</td>\n",
       "      <td>12.230</td>\n",
       "      <td>12.032</td>\n",
       "      <td>11.980</td>\n",
       "      <td>cand</td>\n",
       "      <td>0.081720</td>\n",
       "    </tr>\n",
       "    <tr>\n",
       "      <th>...</th>\n",
       "      <td>...</td>\n",
       "      <td>...</td>\n",
       "      <td>...</td>\n",
       "      <td>...</td>\n",
       "      <td>...</td>\n",
       "      <td>...</td>\n",
       "      <td>...</td>\n",
       "      <td>...</td>\n",
       "      <td>...</td>\n",
       "      <td>...</td>\n",
       "      <td>...</td>\n",
       "    </tr>\n",
       "    <tr>\n",
       "      <th>975</th>\n",
       "      <td>1635721458409799680</td>\n",
       "      <td>Gaia DR2 2139222639185477248</td>\n",
       "      <td>2139222639185477248</td>\n",
       "      <td>715084713</td>\n",
       "      <td>2015.5</td>\n",
       "      <td>...</td>\n",
       "      <td>11.530</td>\n",
       "      <td>11.362</td>\n",
       "      <td>11.296</td>\n",
       "      <td>cand</td>\n",
       "      <td>0.105906</td>\n",
       "    </tr>\n",
       "    <tr>\n",
       "      <th>976</th>\n",
       "      <td>1635721458409799680</td>\n",
       "      <td>Gaia DR2 2139298063108091008</td>\n",
       "      <td>2139298063108091008</td>\n",
       "      <td>844375697</td>\n",
       "      <td>2015.5</td>\n",
       "      <td>...</td>\n",
       "      <td>12.899</td>\n",
       "      <td>12.718</td>\n",
       "      <td>12.680</td>\n",
       "      <td>cand</td>\n",
       "      <td>0.047167</td>\n",
       "    </tr>\n",
       "    <tr>\n",
       "      <th>977</th>\n",
       "      <td>1635721458409799680</td>\n",
       "      <td>Gaia DR2 2139241880640247424</td>\n",
       "      <td>2139241880640247424</td>\n",
       "      <td>887176051</td>\n",
       "      <td>2015.5</td>\n",
       "      <td>...</td>\n",
       "      <td>12.654</td>\n",
       "      <td>12.504</td>\n",
       "      <td>12.438</td>\n",
       "      <td>cand</td>\n",
       "      <td>0.037813</td>\n",
       "    </tr>\n",
       "    <tr>\n",
       "      <th>978</th>\n",
       "      <td>1635721458409799680</td>\n",
       "      <td>Gaia DR2 2139267135047224960</td>\n",
       "      <td>2139267135047224960</td>\n",
       "      <td>924757225</td>\n",
       "      <td>2015.5</td>\n",
       "      <td>...</td>\n",
       "      <td>12.449</td>\n",
       "      <td>12.197</td>\n",
       "      <td>12.159</td>\n",
       "      <td>cand</td>\n",
       "      <td>0.185530</td>\n",
       "    </tr>\n",
       "    <tr>\n",
       "      <th>979</th>\n",
       "      <td>1635721458409799680</td>\n",
       "      <td>Gaia DR2 2139494051055283840</td>\n",
       "      <td>2139494051055283840</td>\n",
       "      <td>1288640635</td>\n",
       "      <td>2015.5</td>\n",
       "      <td>...</td>\n",
       "      <td>10.184</td>\n",
       "      <td>9.964</td>\n",
       "      <td>9.945</td>\n",
       "      <td>cand</td>\n",
       "      <td>0.050415</td>\n",
       "    </tr>\n",
       "  </tbody>\n",
       "</table>\n",
       "<p>980 rows × 313 columns</p>\n",
       "</div>"
      ],
      "text/plain": [
       "           solution_id_x                 designation_x            source_id  \\\n",
       "0    1635721458409799680  Gaia DR2 2050236727912831872  2050236727912831872   \n",
       "1    1635721458409799680  Gaia DR2 2050243909098361856  2050243909098361856   \n",
       "2    1635721458409799680  Gaia DR2 2050256416043021696  2050256416043021696   \n",
       "3    1635721458409799680  Gaia DR2 2051688529935082880  2051688529935082880   \n",
       "4    1635721458409799680  Gaia DR2 2051012295923656704  2051012295923656704   \n",
       "..                   ...                           ...                  ...   \n",
       "975  1635721458409799680  Gaia DR2 2139222639185477248  2139222639185477248   \n",
       "976  1635721458409799680  Gaia DR2 2139298063108091008  2139298063108091008   \n",
       "977  1635721458409799680  Gaia DR2 2139241880640247424  2139241880640247424   \n",
       "978  1635721458409799680  Gaia DR2 2139267135047224960  2139267135047224960   \n",
       "979  1635721458409799680  Gaia DR2 2139494051055283840  2139494051055283840   \n",
       "\n",
       "     random_index_x  gaia_ref_epoch_x  ...  jmag_y  hmag_y  kmag_y  planet?_y  \\\n",
       "0        1243639930            2015.5  ...  13.609  13.298  13.277       cand   \n",
       "1         641766488            2015.5  ...  12.927  12.724  12.659       cand   \n",
       "2          68766862            2015.5  ...  11.753  11.533  11.497       cand   \n",
       "3         416593511            2015.5  ...  12.345  11.987  11.879       cand   \n",
       "4         312039869            2015.5  ...  12.230  12.032  11.980       cand   \n",
       "..              ...               ...  ...     ...     ...     ...        ...   \n",
       "975       715084713            2015.5  ...  11.530  11.362  11.296       cand   \n",
       "976       844375697            2015.5  ...  12.899  12.718  12.680       cand   \n",
       "977       887176051            2015.5  ...  12.654  12.504  12.438       cand   \n",
       "978       924757225            2015.5  ...  12.449  12.197  12.159       cand   \n",
       "979      1288640635            2015.5  ...  10.184   9.964   9.945       cand   \n",
       "\n",
       "     kepler_gaia_ang_dist_y  \n",
       "0                  0.108526  \n",
       "1                  0.059701  \n",
       "2                  0.038394  \n",
       "3                  0.055981  \n",
       "4                  0.081720  \n",
       "..                      ...  \n",
       "975                0.105906  \n",
       "976                0.047167  \n",
       "977                0.037813  \n",
       "978                0.185530  \n",
       "979                0.050415  \n",
       "\n",
       "[980 rows x 313 columns]"
      ]
     },
     "execution_count": 63,
     "metadata": {},
     "output_type": "execute_result"
    }
   ],
   "source": [
    "pd.merge(kep_data, pos, how='inner', on='source_id')"
   ]
  },
  {
   "cell_type": "code",
   "execution_count": 69,
   "metadata": {},
   "outputs": [
    {
     "name": "stdout",
     "output_type": "stream",
     "text": [
      "983\n",
      "983\n",
      "980\n"
     ]
    }
   ],
   "source": [
    "crossmatch_pos = crossmatch.loc[crossmatch['planet?'] != 'none']\n",
    "print(len(crossmatch_pos))\n",
    "print(len(crossmatch_pos.source_id.unique()))\n",
    "print(len(pd.merge(kep_data, pos, how='inner', on='source_id').source_id.unique()))"
   ]
  },
  {
   "cell_type": "markdown",
   "metadata": {},
   "source": [
    "### CDPP"
   ]
  },
  {
   "cell_type": "markdown",
   "metadata": {},
   "source": [
    "Characterize the noise between young and old stars with multiple CDPPs. Data from http://archive.stsci.edu/pub/kepler/catalogs/"
   ]
  },
  {
   "cell_type": "code",
   "execution_count": 33,
   "metadata": {},
   "outputs": [
    {
     "name": "stdout",
     "output_type": "stream",
     "text": [
      "200038\n",
      "    kepid           tm_designation  teff  teff_err1  teff_err2   logg  \\\n",
      "0  757076  2MASS J19240929+3635532  5160      171.0     -156.0  3.580   \n",
      "1  757099  2MASS J19241033+3635377  5519      182.0     -149.0  3.822   \n",
      "2  757137  2MASS J19241341+3633358  4706       74.0     -102.0  2.374   \n",
      "3  757280  2MASS J19242289+3633538  6543      162.0     -194.0  4.082   \n",
      "4  757450  2MASS J19243302+3634385  5332      106.0      -96.0  4.500   \n",
      "\n",
      "   logg_err1  logg_err2   feh  feh_err1  ...  timeout06p0  timeout07p5  \\\n",
      "0      0.928     -0.232 -0.10      0.30  ...          0.0          0.0   \n",
      "1      0.638     -0.213 -0.22      0.35  ...          1.0          1.0   \n",
      "2      0.030     -0.027 -0.10      0.20  ...          1.0          1.0   \n",
      "3      0.258     -0.172 -0.24      0.25  ...          0.0          0.0   \n",
      "4      0.050     -0.036 -0.08      0.15  ...          0.0          0.0   \n",
      "\n",
      "   timeout09p0  timeout10p5  timeout12p0  timeout12p5  timeout15p0  \\\n",
      "0          0.0          0.0          0.0          0.0          0.0   \n",
      "1          1.0          1.0          0.0          1.0          0.0   \n",
      "2          1.0          1.0          1.0          1.0          1.0   \n",
      "3          0.0          0.0          0.0          0.0          0.0   \n",
      "4          0.0          0.0          0.0          0.0          0.0   \n",
      "\n",
      "   timeoutsumry  cdppslplong  cdppslpshrt  \n",
      "0           1.0     -0.33009     -0.41285  \n",
      "1           0.0     -0.25653     -0.18629  \n",
      "2           0.0      0.22699      0.67461  \n",
      "3           1.0     -0.10948     -0.37236  \n",
      "4           1.0     -0.11868     -0.48642  \n",
      "\n",
      "[5 rows x 95 columns]\n"
     ]
    }
   ],
   "source": [
    "path = '/Users/chris/Desktop/sculpting/crossmatch_fun/'\n",
    "kepler_stellar = pd.read_csv(path+'kepler_stellar_17.csv')\n",
    "print(len(kepler_stellar))\n",
    "print(kepler_stellar.head())"
   ]
  },
  {
   "cell_type": "code",
   "execution_count": null,
   "metadata": {},
   "outputs": [],
   "source": []
  }
 ],
 "metadata": {
  "kernelspec": {
   "display_name": "Python 3 (ipykernel)",
   "language": "python",
   "name": "python3"
  },
  "language_info": {
   "codemirror_mode": {
    "name": "ipython",
    "version": 3
   },
   "file_extension": ".py",
   "mimetype": "text/x-python",
   "name": "python",
   "nbconvert_exporter": "python",
   "pygments_lexer": "ipython3",
   "version": "3.7.9"
  }
 },
 "nbformat": 4,
 "nbformat_minor": 2
}
