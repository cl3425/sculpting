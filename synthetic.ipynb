{
 "cells": [
  {
   "cell_type": "code",
   "execution_count": 1,
   "metadata": {},
   "outputs": [],
   "source": [
    "import pandas as pd\n",
    "import numpy as np\n",
    "import random\n",
    "import matplotlib.pyplot as plt\n",
    "%matplotlib inline"
   ]
  },
  {
   "cell_type": "markdown",
   "metadata": {},
   "source": [
    "Create 20000 FGK dwarfs using the age distribution from Berger et al 2020a, with planets drawn from loguniform period distribution from 2 to 300 days, following the following cases:<br>\n",
    "\n",
    "1) no difference between old and young stars, with 3 planets per star <br>\n",
    "2) 10% of systems still intact (5 or 6 planets; < 2 Gyr old); 90% of systems disrupted (1 or 2 planets; > 2 Gyr) <br>\n",
    "\n",
    "Why these two cases? Kepler data shows 7% (here we round to 10%) of systems are intact. We're using 2 Gyr instead of 1 Gyr like Berger et al in order to maintain the ~10%/90% proportion of sample sizes. ME FROM THE FUTURE: This is a wrong assumption. Skip to end of Case 2. <br>\n",
    "\n",
    "#### The goal is to find out how many of these systems have transiting planets."
   ]
  },
  {
   "cell_type": "markdown",
   "metadata": {},
   "source": [
    "### Case 1"
   ]
  },
  {
   "cell_type": "code",
   "execution_count": 2,
   "metadata": {},
   "outputs": [
    {
     "name": "stdout",
     "output_type": "stream",
     "text": [
      "19969\n",
      "    kepid           tm_designation  teff  teff_err1  teff_err2   logg  \\\n",
      "0  757280  2MASS J19242289+3633538  6543      162.0     -194.0  4.082   \n",
      "1  892667  2MASS J19243045+3637186  6609      159.0     -227.0  4.105   \n",
      "2  892678  2MASS J19243108+3638316  6137      167.0     -186.0  3.936   \n",
      "3  892713  2MASS J19243353+3637220  6106      186.0     -186.0  3.854   \n",
      "4  892828  2MASS J19243904+3637166  6691      188.0     -235.0  4.134   \n",
      "\n",
      "   logg_err1  logg_err2  feh_x  feh_err1  ...  parallax  parallax_err  feh_y  \\\n",
      "0      0.258     -0.172  -0.24      0.25  ...    1.2137        0.0220    NaN   \n",
      "1      0.246     -0.164  -0.26      0.25  ...    0.8512        0.0154    NaN   \n",
      "2      0.428     -0.143  -0.26      0.30  ...    1.0236        0.0259    NaN   \n",
      "3      0.496     -0.124  -0.24      0.30  ...    0.9602        0.0231    NaN   \n",
      "4      0.209     -0.171  -0.26      0.25  ...    0.9660        0.0143    NaN   \n",
      "\n",
      "   feh_err    RUWE  num_gaia_companions  Kmag_final_prov  evstate      logR  \\\n",
      "0      NaN  0.8704                    0              NaN      NaN  0.416641   \n",
      "1      NaN  0.8674                    0              NaN      NaN  0.337060   \n",
      "2      NaN  0.9852                    1       BinaryCorr      NaN  0.529174   \n",
      "3      NaN  0.9872                    1       BinaryCorr      NaN  0.561578   \n",
      "4      NaN  1.0867                    1       BinaryCorr      NaN  0.273001   \n",
      "\n",
      "   is_giant  \n",
      "0     False  \n",
      "1     False  \n",
      "2     False  \n",
      "3     False  \n",
      "4     False  \n",
      "\n",
      "[5 rows x 141 columns]\n"
     ]
    },
    {
     "name": "stderr",
     "output_type": "stream",
     "text": [
      "/Users/chris/anaconda2/lib/python3.6/site-packages/IPython/core/interactiveshell.py:3072: DtypeWarning: Columns (138) have mixed types.Specify dtype option on import or set low_memory=False.\n",
      "  interactivity=interactivity, compiler=compiler, result=result)\n"
     ]
    }
   ],
   "source": [
    "berger_kepler = pd.read_csv('berger_kepler_stellar17.csv')\n",
    "print(len(berger_kepler))\n",
    "print(berger_kepler.head())"
   ]
  },
  {
   "cell_type": "code",
   "execution_count": 38,
   "metadata": {
    "scrolled": true
   },
   "outputs": [
    {
     "name": "stdout",
     "output_type": "stream",
     "text": [
      "[ 409 1918 2978 3679 3709 2930 1248  638  469  431  369  348  290  211\n",
      "  153   85   53   38    9    4]\n",
      "[0.14   0.5575 0.975  1.3925 1.81   2.2275 2.645  3.0625 3.48   3.8975\n",
      " 4.315  4.7325 5.15   5.5675 5.985  6.4025 6.82   7.2375 7.655  8.0725\n",
      " 8.49  ]\n"
     ]
    },
    {
     "data": {
      "image/png": "[encoded data removed]",
      "text/plain": [
       "<Figure size 432x288 with 1 Axes>"
      ]
     },
     "metadata": {
      "needs_background": "light"
     },
     "output_type": "display_data"
    }
   ],
   "source": [
    "# age histogram for the 20000 FGK non-binary dwarfs from Berger et al 2020a with well-constrained ages\n",
    "nbins = 20\n",
    "age_hist, age_bin_edges = np.histogram(berger_kepler.iso_age, bins=nbins)\n",
    "print(age_hist)\n",
    "print(age_bin_edges)\n",
    "plt.bar(age_bin_edges[:-1], age_hist, width = 0.25, color='#0504aa',alpha=0.7)\n",
    "plt.ylabel(\"count\")\n",
    "plt.xlabel(\"age [Gyr]\")\n",
    "plt.show()"
   ]
  },
  {
   "cell_type": "markdown",
   "metadata": {},
   "source": [
    "Time for kernel density estimator? https://jakevdp.github.io/PythonDataScienceHandbook/05.13-kernel-density-estimation.html"
   ]
  },
  {
   "cell_type": "code",
   "execution_count": 7,
   "metadata": {
    "scrolled": true
   },
   "outputs": [
    {
     "name": "stderr",
     "output_type": "stream",
     "text": [
      "/Users/chris/anaconda2/lib/python3.6/site-packages/ipykernel_launcher.py:6: FutureWarning: Support for multi-dimensional indexing (e.g. `obj[:, None]`) is deprecated and will be removed in a future version.  Convert to a numpy array before indexing instead.\n",
      "  \n"
     ]
    },
    {
     "data": {
      "image/png": "[encoded data removed]",
      "text/plain": [
       "<Figure size 432x288 with 1 Axes>"
      ]
     },
     "metadata": {
      "needs_background": "light"
     },
     "output_type": "display_data"
    }
   ],
   "source": [
    "from sklearn.neighbors import KernelDensity\n",
    "\n",
    "x = berger_kepler.iso_age\n",
    "# instantiate and fit the KDE model\n",
    "kde = KernelDensity(bandwidth=1.0, kernel='gaussian') # what else might be better?\n",
    "kde.fit(x[:, None])\n",
    "\n",
    "x_d = np.linspace(np.min(x),np.max(x),1000)\n",
    "# score_samples returns the log of the probability density\n",
    "logprob = kde.score_samples(x_d[:, None])\n",
    "\n",
    "plt.fill_between(x_d, np.exp(logprob), alpha=0.5)\n",
    "plt.show()"
   ]
  },
  {
   "cell_type": "code",
   "execution_count": 50,
   "metadata": {},
   "outputs": [
    {
     "name": "stdout",
     "output_type": "stream",
     "text": [
      "0.08067447284024479\n",
      "0.13801577758850292\n",
      "20000 [0.65821822 2.73944945 0.73344344 ... 2.77288288 1.82003003 1.55256256]\n"
     ]
    },
    {
     "data": {
      "image/png": "[encoded data removed]",
      "text/plain": [
       "<Figure size 432x288 with 2 Axes>"
      ]
     },
     "metadata": {
      "needs_background": "light"
     },
     "output_type": "display_data"
    },
    {
     "name": "stdout",
     "output_type": "stream",
     "text": [
      "[0.65821822 2.73944945 0.73344344 ... 2.77288288 1.82003003 1.55256256]\n"
     ]
    }
   ],
   "source": [
    "# courtesy of https://stackoverflow.com/questions/17821458/random-number-from-histogram\n",
    "from scipy.stats import gaussian_kde\n",
    "\n",
    "def generate_rand_from_pdf(pdf, x_grid, n):\n",
    "    cdf = np.cumsum(pdf) # create cdf\n",
    "    cdf = cdf / cdf[-1] # normalize cdf\n",
    "    values = np.random.rand(n) \n",
    "    value_bins = np.searchsorted(cdf, values) # return positions in cdf vector where random values should go\n",
    "    random_from_cdf = x_grid[value_bins] # select x_d positions based on these random positions\n",
    "    return random_from_cdf\n",
    "\n",
    "def kde(x, x_grid, bandwidth=0.2):\n",
    "    \"\"\"Kernel Density Estimation with Scipy\"\"\"\n",
    "    kde = gaussian_kde(x, bw_method=bandwidth / x.std(ddof=1)) # ddof=1 means std divisor is N-1 instead of N\n",
    "    print(bandwidth/x.std()) # this is bw used in S/O\n",
    "    print(np.power(len(x), -0.2)) # the bw if I use Scott's factor as the bw to multiply with covariance matrix\n",
    "    return kde.evaluate(x_grid)\n",
    "\n",
    "#kdepdf = kde(x, x_d, bandwidth=0.1) # generate KDE model\n",
    "#random_from_kde = generate_rand_from_pdf(kdepdf, x_d) # generate random data from KDE distribution\n",
    "\n",
    "def run_kde(data, draws):\n",
    "    hist, bins = np.histogram(data, bins=nbins)\n",
    "\n",
    "    x_grid = np.linspace(min(data), max(data), 1000)\n",
    "    kdepdf = kde(data, x_grid, bandwidth=0.1) # generate KDE model\n",
    "    random_from_kde = generate_rand_from_pdf(kdepdf, x_grid, draws) # generate random data from KDE distribution\n",
    "    print(len(random_from_kde), random_from_kde) # these are my star ages\n",
    "    bin_midpoints = bins[:-1] + np.diff(bins) / 2 # get positions of bin midpoints\n",
    "    random_from_cdf = generate_rand_from_pdf(hist, bin_midpoints, draws) # generate random data from the histogram\n",
    "\n",
    "    plt.subplot(121)\n",
    "    plt.hist(data, nbins, density=True, alpha=0.5, label='hist') # plot histogram of normalized data\n",
    "    plt.plot(x_grid, kdepdf, color='r', alpha=0.5, lw=3, label='kde') # plot KDE over normalized histogram\n",
    "    plt.legend()\n",
    "    plt.subplot(122)\n",
    "    plt.hist(random_from_cdf, nbins, alpha=0.5, label='from hist') # plot histogram of data drawn from OG histogram\n",
    "    plt.hist(random_from_kde, nbins, alpha=0.5, label='from kde') # plot histogram of data drawn from KDE\n",
    "    plt.legend()\n",
    "    plt.show()\n",
    "    return random_from_kde\n",
    "    \n",
    "stars_age1 = run_kde(berger_kepler.iso_age, 20000)\n",
    "print(stars_age1)"
   ]
  },
  {
   "cell_type": "code",
   "execution_count": 41,
   "metadata": {},
   "outputs": [
    {
     "name": "stdout",
     "output_type": "stream",
     "text": [
      "60000 [  5.20667875  58.08803074 104.39777951 ...   2.57619993 152.74520813\n",
      "   6.53661139]\n",
      "[25454  7539  4643  3349  2566  2112  1770  1589  1459  1143  1165  1009\n",
      "  1005   855   810   799   739   717   654   623]\n",
      "[  2.0003211   16.89998646  31.79965181  46.69931716  61.59898252\n",
      "  76.49864787  91.39831322 106.29797858 121.19764393 136.09730928\n",
      " 150.99697464 165.89663999 180.79630534 195.6959707  210.59563605\n",
      " 225.4953014  240.39496676 255.29463211 270.19429746 285.09396282\n",
      " 299.99362817]\n"
     ]
    },
    {
     "data": {
      "image/png": "[encoded data removed]",
      "text/plain": [
       "<Figure size 432x288 with 1 Axes>"
      ]
     },
     "metadata": {
      "needs_background": "light"
     },
     "output_type": "display_data"
    }
   ],
   "source": [
    "# host star follows age distribution of Berger et al 2020a\n",
    "# 3 planets per star, with periods following loguniform distribution in [2, 300] days\n",
    "from scipy.stats import loguniform\n",
    "\n",
    "planets_per1 = loguniform.rvs(2, 300, size=60000)\n",
    "print(len(planets_per1), planets_per1)\n",
    "\n",
    "# histogram for 60000 planet periods\n",
    "per_hist, per_bin_edges = np.histogram(planets_per1, bins=nbins)\n",
    "print(per_hist)\n",
    "print(per_bin_edges)\n",
    "plt.bar(per_bin_edges[:-1], per_hist, width = 10, color='#0504aa',alpha=0.7)\n",
    "plt.ylabel(\"count\")\n",
    "plt.xlabel(\"period [days]\")\n",
    "plt.show()"
   ]
  },
  {
   "cell_type": "code",
   "execution_count": 51,
   "metadata": {},
   "outputs": [
    {
     "name": "stdout",
     "output_type": "stream",
     "text": [
      "[2995 2916 2981 3038 3041 3083 3004 2901 2946 2965 3019 2976 3061 3090\n",
      " 2900 2972 2974 3008 3052 3078]\n",
      "[0.69330772 0.9438304  1.19435307 1.44487575 1.69539842 1.9459211\n",
      " 2.19644377 2.44696645 2.69748913 2.9480118  3.19853448 3.44905715\n",
      " 3.69957983 3.9501025  4.20062518 4.45114786 4.70167053 4.95219321\n",
      " 5.20271588 5.45323856 5.70376123]\n"
     ]
    },
    {
     "data": {
      "image/png": "[encoded data removed]",
      "text/plain": [
       "<Figure size 432x288 with 1 Axes>"
      ]
     },
     "metadata": {
      "needs_background": "light"
     },
     "output_type": "display_data"
    }
   ],
   "source": [
    "per_hist, per_bin_edges = np.histogram(np.log(planets_per1), bins=nbins)\n",
    "print(per_hist)\n",
    "print(per_bin_edges)\n",
    "plt.bar(per_bin_edges[:-1], per_hist, width = 10, color='#0504aa',alpha=0.7)\n",
    "plt.ylabel(\"count\")\n",
    "plt.xlabel(\"period [days]\")\n",
    "plt.show()"
   ]
  },
  {
   "cell_type": "markdown",
   "metadata": {},
   "source": [
    "### Case 2"
   ]
  },
  {
   "cell_type": "code",
   "execution_count": 53,
   "metadata": {},
   "outputs": [
    {
     "name": "stdout",
     "output_type": "stream",
     "text": [
      "0.23588498675623132\n",
      "0.1560280665725776\n",
      "2000 [1.70024024 1.60528529 1.03183183 ... 0.80840841 0.79165165 0.7357958 ]\n"
     ]
    },
    {
     "data": {
      "image/png": "[encoded data removed]",
      "text/plain": [
       "<Figure size 432x288 with 2 Axes>"
      ]
     },
     "metadata": {
      "needs_background": "light"
     },
     "output_type": "display_data"
    }
   ],
   "source": [
    "# 2000 systems with five or six planets and age <2 Gyr\n",
    "# 18000 systems with one or two planets and age >2 Gyr\n",
    "# should the age distribution be a truncated version of the KDE below and above 2 Gyr?\n",
    "young = berger_kepler.loc[berger_kepler.iso_age <= 2.].iso_age\n",
    "old = berger_kepler.loc[berger_kepler.iso_age > 2.].iso_age\n",
    "\n",
    "stars_age2_young = run_kde(young, 2000)"
   ]
  },
  {
   "cell_type": "code",
   "execution_count": 46,
   "metadata": {},
   "outputs": [
    {
     "name": "stdout",
     "output_type": "stream",
     "text": [
      "11000 [42.07981861  2.89885292 10.28544152 ...  7.9768477  73.32686368\n",
      "  5.21135605]\n",
      "[4766 1372  825  630  438  370  315  278  250  270  217  202  159  143\n",
      "  158  135  129  142  102   99]\n",
      "[  2.0006257   16.89354717  31.78646864  46.67939011  61.57231158\n",
      "  76.46523305  91.35815453 106.251076   121.14399747 136.03691894\n",
      " 150.92984041 165.82276188 180.71568336 195.60860483 210.5015263\n",
      " 225.39444777 240.28736924 255.18029071 270.07321219 284.96613366\n",
      " 299.85905513]\n"
     ]
    },
    {
     "data": {
      "image/png": "[encoded data removed]",
      "text/plain": [
       "<Figure size 432x288 with 1 Axes>"
      ]
     },
     "metadata": {
      "needs_background": "light"
     },
     "output_type": "display_data"
    }
   ],
   "source": [
    "# generate five or six planets for each of the 2000 systems --> 11000 planets\n",
    "planets_per2_young = loguniform.rvs(2, 300, size=11000)\n",
    "print(len(planets_per2_young), planets_per2_young)\n",
    "\n",
    "# histogram for 11000 planet periods\n",
    "per_hist, per_bin_edges = np.histogram(planets_per2_young, bins=nbins)\n",
    "print(per_hist)\n",
    "print(per_bin_edges)\n",
    "plt.bar(per_bin_edges[:-1], per_hist, width = 10, color='#0504aa',alpha=0.7)\n",
    "plt.ylabel(\"count\")\n",
    "plt.xlabel(\"period [days]\")\n",
    "plt.show()"
   ]
  },
  {
   "cell_type": "code",
   "execution_count": 54,
   "metadata": {},
   "outputs": [
    {
     "name": "stdout",
     "output_type": "stream",
     "text": [
      "0.08316651081001256\n",
      "0.1613126145450759\n",
      "18000 [4.11810811 4.69540541 2.76891892 ... 3.65756757 2.1527027  2.05540541]\n"
     ]
    },
    {
     "data": {
      "image/png": "[encoded data removed]",
      "text/plain": [
       "<Figure size 432x288 with 2 Axes>"
      ]
     },
     "metadata": {
      "needs_background": "light"
     },
     "output_type": "display_data"
    }
   ],
   "source": [
    "stars_age2_old = run_kde(old, 18000)"
   ]
  },
  {
   "cell_type": "code",
   "execution_count": 47,
   "metadata": {},
   "outputs": [
    {
     "name": "stdout",
     "output_type": "stream",
     "text": [
      "27000 [ 7.26885816  6.83660876 28.97404829 ...  6.66290175  6.73247961\n",
      " 17.24827077]\n",
      "[11572  3448  1939  1422  1208   930   823   723   647   575   468   446\n",
      "   447   384   397   369   323   300   310   269]\n",
      "[  2.00020127  16.89885763  31.79751398  46.69617034  61.5948267\n",
      "  76.49348306  91.39213942 106.29079578 121.18945214 136.0881085\n",
      " 150.98676486 165.88542122 180.78407757 195.68273393 210.58139029\n",
      " 225.48004665 240.37870301 255.27735937 270.17601573 285.07467209\n",
      " 299.97332845]\n"
     ]
    },
    {
     "data": {
      "image/png": "[encoded data removed]",
      "text/plain": [
       "<Figure size 432x288 with 1 Axes>"
      ]
     },
     "metadata": {
      "needs_background": "light"
     },
     "output_type": "display_data"
    }
   ],
   "source": [
    "# generate one or two planets for each of the 18000 systems --> 27000 planets\n",
    "planets_per2_young = loguniform.rvs(2, 300, size=27000)\n",
    "print(len(planets_per2_young), planets_per2_young)\n",
    "\n",
    "# histogram for 27000 planet periods\n",
    "per_hist, per_bin_edges = np.histogram(planets_per2_young, bins=nbins)\n",
    "print(per_hist)\n",
    "print(per_bin_edges)\n",
    "plt.bar(per_bin_edges[:-1], per_hist, width = 10, color='#0504aa',alpha=0.7)\n",
    "plt.ylabel(\"count\")\n",
    "plt.xlabel(\"period [days]\")\n",
    "plt.show()"
   ]
  },
  {
   "cell_type": "code",
   "execution_count": 62,
   "metadata": {},
   "outputs": [
    {
     "name": "stdout",
     "output_type": "stream",
     "text": [
      "[ 109  371  575  731 3923 5709 2411 1273  844  869  762  711  556  414\n",
      "  314  201  128   75   16    8]\n",
      "[0.1790991  0.59464414 1.01018919 1.42573423 1.84127928 2.25682432\n",
      " 2.67236937 3.08791441 3.50345946 3.9190045  4.33454955 4.75009459\n",
      " 5.16563964 5.58118468 5.99672973 6.41227477 6.82781982 7.24336486\n",
      " 7.65890991 8.07445495 8.49      ]\n"
     ]
    },
    {
     "data": {
      "image/png": "[encoded data removed]",
      "text/plain": [
       "<Figure size 432x288 with 1 Axes>"
      ]
     },
     "metadata": {
      "needs_background": "light"
     },
     "output_type": "display_data"
    }
   ],
   "source": [
    "# age histogram for the Case 2 2000 synthetic young and 18000 synthetic old stars drawn from Berger age distribution\n",
    "nbins = 20\n",
    "age_hist, age_bin_edges = np.histogram(list(stars_age2_young)+list(stars_age2_old), bins=nbins)\n",
    "print(age_hist)\n",
    "print(age_bin_edges)\n",
    "plt.bar(age_bin_edges[:-1], age_hist, width = 0.25, color='#0504aa',alpha=0.7)\n",
    "plt.ylabel(\"count\")\n",
    "plt.xlabel(\"age [Gyr]\")\n",
    "plt.show()"
   ]
  },
  {
   "cell_type": "markdown",
   "metadata": {},
   "source": [
    "Why da peak so high?? As we can see below, the 1 Gyr threshold is actually closer to the 10% split than the 2 Gyr threshold. So let's fall back to that."
   ]
  },
  {
   "cell_type": "code",
   "execution_count": 75,
   "metadata": {},
   "outputs": [
    {
     "name": "stdout",
     "output_type": "stream",
     "text": [
      "2514\n",
      "17455\n",
      "0.12589513746306777\n",
      "10814\n",
      "9155\n",
      "0.5415393860483749\n",
      "1996\n",
      "11450    0.91\n",
      "2020     0.92\n",
      "11791    0.92\n",
      "16754    0.92\n",
      "919      0.92\n",
      "Name: iso_age, dtype: float64\n",
      "2000\n",
      "[0.14       0.14835836 0.15671672 ... 0.90896897 0.90896897 0.90896897]\n"
     ]
    }
   ],
   "source": [
    "# check percentage split of 1 Gyr age threshold vs 2 Gyr\n",
    "print(len(berger_kepler.loc[berger_kepler.iso_age <= 1.]))\n",
    "print(len(berger_kepler.loc[berger_kepler.iso_age > 1.]))\n",
    "print(2514/len(berger_kepler))\n",
    "\n",
    "print(len(berger_kepler.loc[berger_kepler.iso_age <= 2.]))\n",
    "print(len(berger_kepler.loc[berger_kepler.iso_age > 2.]))\n",
    "print(10814/len(berger_kepler))\n",
    "\n",
    "# now check what threshold yields a 10%/90% young/old split\n",
    "youngest_ten_percent = berger_kepler.iso_age.sort_values().head(int(len(berger_kepler)*(0.1))) # sort by ages and get first 10%\n",
    "#youngest_ten_percent = stars_age1.sort().head(int(len(berger_kepler)*(0.1))) # sort by ages and get first 10%#\n",
    "print(len(youngest_ten_percent))\n",
    "print(youngest_ten_percent.tail())\n",
    "print(len(stars_age1[:int(len(stars_age1) * 0.1)]))\n",
    "print(stars_age1[:int(len(stars_age1) * 0.1)])\n"
   ]
  },
  {
   "cell_type": "code",
   "execution_count": null,
   "metadata": {},
   "outputs": [],
   "source": []
  }
 ],
 "metadata": {
  "kernelspec": {
   "display_name": "Python 3",
   "language": "python",
   "name": "python3"
  },
  "language_info": {
   "codemirror_mode": {
    "name": "ipython",
    "version": 3
   },
   "file_extension": ".py",
   "mimetype": "text/x-python",
   "name": "python",
   "nbconvert_exporter": "python",
   "pygments_lexer": "ipython3",
   "version": "3.6.8"
  }
 },
 "nbformat": 4,
 "nbformat_minor": 2
}
