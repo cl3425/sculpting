{
 "cells": [
  {
   "cell_type": "code",
   "execution_count": 2,
   "metadata": {},
   "outputs": [],
   "source": [
    "import pandas as pd\n",
    "import numpy as np\n",
    "import random\n",
    "import matplotlib.pyplot as plt\n",
    "%matplotlib inline"
   ]
  },
  {
   "cell_type": "markdown",
   "metadata": {},
   "source": [
    "Create 20000 FGK dwarfs using the age distribution from Berger et al 2020a, with planets drawn from loguniform period distribution from 2 to 300 days, following the following cases:<br>\n",
    "\n",
    "1) no difference between old and young stars, with 3 planets per star <br>\n",
    "2) 10% of systems still intact (5 or 6 planets; < 2 Gyr old); 90% of systems disrupted (1 or 2 planets; > 2 Gyr) <br>\n",
    "\n",
    "Why these two cases? Kepler data shows 7% (here we round to 10%) of systems are intact. We're using 2 Gyr instead of 1 Gyr like Berger et al in order to maintain the ~10%/90% proportion of sample sizes. ME FROM THE FUTURE: This is a wrong assumption. Skip to end of Case 2. <br>\n",
    "\n",
    "#### The goal is to find out how many of these systems have transiting planets."
   ]
  },
  {
   "cell_type": "markdown",
   "metadata": {},
   "source": [
    "### Case 1"
   ]
  },
  {
   "cell_type": "code",
   "execution_count": 3,
   "metadata": {},
   "outputs": [
    {
     "name": "stdout",
     "output_type": "stream",
     "text": [
      "19969\n",
      "    kepid           tm_designation  teff  teff_err1  teff_err2   logg  \\\n",
      "0  757280  2MASS J19242289+3633538  6543      162.0     -194.0  4.082   \n",
      "1  892667  2MASS J19243045+3637186  6609      159.0     -227.0  4.105   \n",
      "2  892678  2MASS J19243108+3638316  6137      167.0     -186.0  3.936   \n",
      "3  892713  2MASS J19243353+3637220  6106      186.0     -186.0  3.854   \n",
      "4  892828  2MASS J19243904+3637166  6691      188.0     -235.0  4.134   \n",
      "\n",
      "   logg_err1  logg_err2  feh_x  feh_err1  ...  parallax  parallax_err  feh_y  \\\n",
      "0      0.258     -0.172  -0.24      0.25  ...    1.2137        0.0220    NaN   \n",
      "1      0.246     -0.164  -0.26      0.25  ...    0.8512        0.0154    NaN   \n",
      "2      0.428     -0.143  -0.26      0.30  ...    1.0236        0.0259    NaN   \n",
      "3      0.496     -0.124  -0.24      0.30  ...    0.9602        0.0231    NaN   \n",
      "4      0.209     -0.171  -0.26      0.25  ...    0.9660        0.0143    NaN   \n",
      "\n",
      "   feh_err    RUWE  num_gaia_companions  Kmag_final_prov  evstate      logR  \\\n",
      "0      NaN  0.8704                    0              NaN      NaN  0.416641   \n",
      "1      NaN  0.8674                    0              NaN      NaN  0.337060   \n",
      "2      NaN  0.9852                    1       BinaryCorr      NaN  0.529174   \n",
      "3      NaN  0.9872                    1       BinaryCorr      NaN  0.561578   \n",
      "4      NaN  1.0867                    1       BinaryCorr      NaN  0.273001   \n",
      "\n",
      "   is_giant  \n",
      "0     False  \n",
      "1     False  \n",
      "2     False  \n",
      "3     False  \n",
      "4     False  \n",
      "\n",
      "[5 rows x 141 columns]\n"
     ]
    },
    {
     "name": "stderr",
     "output_type": "stream",
     "text": [
      "/Users/chris/anaconda2/lib/python3.6/site-packages/IPython/core/interactiveshell.py:3072: DtypeWarning: Columns (138) have mixed types.Specify dtype option on import or set low_memory=False.\n",
      "  interactivity=interactivity, compiler=compiler, result=result)\n"
     ]
    }
   ],
   "source": [
    "berger_kepler = pd.read_csv('berger_kepler_stellar17.csv')\n",
    "print(len(berger_kepler))\n",
    "print(berger_kepler.head())"
   ]
  },
  {
   "cell_type": "code",
   "execution_count": 4,
   "metadata": {
    "scrolled": true
   },
   "outputs": [
    {
     "name": "stdout",
     "output_type": "stream",
     "text": [
      "[ 409 1918 2978 3679 3709 2930 1248  638  469  431  369  348  290  211\n",
      "  153   85   53   38    9    4]\n",
      "[0.14   0.5575 0.975  1.3925 1.81   2.2275 2.645  3.0625 3.48   3.8975\n",
      " 4.315  4.7325 5.15   5.5675 5.985  6.4025 6.82   7.2375 7.655  8.0725\n",
      " 8.49  ]\n"
     ]
    },
    {
     "data": {
      "image/png": "[encoded data removed]",
      "text/plain": [
       "<Figure size 432x288 with 1 Axes>"
      ]
     },
     "metadata": {
      "needs_background": "light"
     },
     "output_type": "display_data"
    }
   ],
   "source": [
    "# age histogram for the 20000 FGK non-binary dwarfs from Berger et al 2020a with well-constrained ages\n",
    "nbins = 20\n",
    "age_hist, age_bin_edges = np.histogram(berger_kepler.iso_age, bins=nbins)\n",
    "print(age_hist)\n",
    "print(age_bin_edges)\n",
    "plt.bar(age_bin_edges[:-1], age_hist, width = 0.25, color='#0504aa',alpha=0.7)\n",
    "plt.ylabel(\"count\")\n",
    "plt.xlabel(\"age [Gyr]\")\n",
    "plt.show()"
   ]
  },
  {
   "cell_type": "markdown",
   "metadata": {},
   "source": [
    "Time for kernel density estimator? https://jakevdp.github.io/PythonDataScienceHandbook/05.13-kernel-density-estimation.html"
   ]
  },
  {
   "cell_type": "code",
   "execution_count": 5,
   "metadata": {
    "scrolled": true
   },
   "outputs": [
    {
     "name": "stderr",
     "output_type": "stream",
     "text": [
      "/Users/chris/anaconda2/lib/python3.6/site-packages/ipykernel_launcher.py:6: FutureWarning: Support for multi-dimensional indexing (e.g. `obj[:, None]`) is deprecated and will be removed in a future version.  Convert to a numpy array before indexing instead.\n",
      "  \n"
     ]
    },
    {
     "data": {
      "image/png": "[encoded data removed]",
      "text/plain": [
       "<Figure size 432x288 with 1 Axes>"
      ]
     },
     "metadata": {
      "needs_background": "light"
     },
     "output_type": "display_data"
    }
   ],
   "source": [
    "from sklearn.neighbors import KernelDensity\n",
    "\n",
    "x = berger_kepler.iso_age\n",
    "# instantiate and fit the KDE model\n",
    "kde = KernelDensity(bandwidth=1.0, kernel='gaussian') # what else might be better?\n",
    "kde.fit(x[:, None])\n",
    "\n",
    "x_d = np.linspace(np.min(x),np.max(x),1000)\n",
    "# score_samples returns the log of the probability density\n",
    "logprob = kde.score_samples(x_d[:, None])\n",
    "\n",
    "plt.fill_between(x_d, np.exp(logprob), alpha=0.5)\n",
    "plt.show()"
   ]
  },
  {
   "cell_type": "code",
   "execution_count": 8,
   "metadata": {},
   "outputs": [
    {
     "name": "stdout",
     "output_type": "stream",
     "text": [
      "0.16134894568048957\n",
      "0.13801577758850292\n",
      "20000 [1.3853954  2.79795796 2.07078078 ... 1.89525526 1.71137137 1.84510511]\n"
     ]
    },
    {
     "data": {
      "image/png": "[encoded data removed]",
      "text/plain": [
       "<Figure size 432x288 with 2 Axes>"
      ]
     },
     "metadata": {
      "needs_background": "light"
     },
     "output_type": "display_data"
    },
    {
     "name": "stdout",
     "output_type": "stream",
     "text": [
      "[1.3853954  2.79795796 2.07078078 ... 1.89525526 1.71137137 1.84510511]\n"
     ]
    }
   ],
   "source": [
    "# courtesy of https://stackoverflow.com/questions/17821458/random-number-from-histogram\n",
    "from scipy.stats import gaussian_kde\n",
    "\n",
    "def generate_rand_from_pdf(pdf, x_grid, n):\n",
    "    cdf = np.cumsum(pdf) # create cdf\n",
    "    cdf = cdf / cdf[-1] # normalize cdf\n",
    "    values = np.random.rand(n) \n",
    "    value_bins = np.searchsorted(cdf, values) # return positions in cdf vector where random values should go\n",
    "    random_from_cdf = x_grid[value_bins] # select x_d positions based on these random positions\n",
    "    return random_from_cdf\n",
    "\n",
    "def kde(x, x_grid, bandwidth):\n",
    "    \"\"\"Kernel Density Estimation with Scipy\"\"\"\n",
    "    #kde = gaussian_kde(x, bw_method=bandwidth / x.std(ddof=0)) # ddof=1 means std divisor is N-1 instead of N\n",
    "    #kde = gaussian_kde(x, bw_method=np.power(len(x), -0.2)) # ddof=1 means std divisor is N-1 instead of N\n",
    "    kde = gaussian_kde(x, bw_method=0.15) # constant bandwidth so imbalance in sample size doesn't drive distribution\n",
    "    print(bandwidth/x.std(ddof=1)) # this is bw used in S/O\n",
    "    print(np.power(len(x), -0.2)) # the bw if I use Scott's factor as the bw to multiply with covariance matrix\n",
    "    return kde.evaluate(x_grid)\n",
    "\n",
    "#kdepdf = kde(x, x_d, bandwidth=0.1) # generate KDE model\n",
    "#random_from_kde = generate_rand_from_pdf(kdepdf, x_d) # generate random data from KDE distribution\n",
    "\n",
    "nbins = 20\n",
    "def run_kde(data, draws):\n",
    "    hist, bins = np.histogram(data, bins=100)\n",
    "\n",
    "    x_grid = np.linspace(min(data), max(data), 1000)\n",
    "    kdepdf = kde(data, x_grid, bandwidth=0.2) # generate KDE model\n",
    "    random_from_kde = generate_rand_from_pdf(kdepdf, x_grid, draws) # generate random data from KDE distribution\n",
    "    print(len(random_from_kde), random_from_kde) # these are my star ages\n",
    "    bin_midpoints = bins[:-1] + np.diff(bins) / 2 # get positions of bin midpoints\n",
    "    random_from_cdf = generate_rand_from_pdf(hist, bin_midpoints, draws) # generate random data from the histogram\n",
    "\n",
    "    plt.subplot(121)\n",
    "    plt.hist(data, nbins, density=True, alpha=0.5, label='hist') # plot histogram of normalized data\n",
    "    plt.plot(x_grid, kdepdf, color='r', alpha=0.5, lw=3, label='kde') # plot KDE over normalized histogram\n",
    "    plt.legend()\n",
    "    plt.subplot(122)\n",
    "    plt.hist(random_from_cdf, nbins, alpha=0.5, label='from hist') # plot histogram of data drawn from OG histogram\n",
    "    plt.hist(random_from_kde, nbins, alpha=0.5, label='from kde') # plot histogram of data drawn from KDE\n",
    "    plt.legend()\n",
    "    plt.show()\n",
    "    return random_from_kde, random_from_cdf\n",
    "    \n",
    "stars_age1_kde, stars_age1_cdf = run_kde(berger_kepler.iso_age, 20000)\n",
    "print(stars_age1_kde)"
   ]
  },
  {
   "cell_type": "code",
   "execution_count": 9,
   "metadata": {},
   "outputs": [
    {
     "name": "stdout",
     "output_type": "stream",
     "text": [
      "60000 [189.8365658   17.23509316  11.55102484 ... 100.20178156  15.85183571\n",
      "   6.25400812]\n",
      "[25620  7635  4482  3408  2639  2153  1759  1499  1423  1225  1150  1022\n",
      "   979   851   793   729   714   719   595   605]\n",
      "[  2.00001412  16.89711711  31.79422011  46.69132311  61.5884261\n",
      "  76.4855291   91.38263209 106.27973509 121.17683809 136.07394108\n",
      " 150.97104408 165.86814708 180.76525007 195.66235307 210.55945607\n",
      " 225.45655906 240.35366206 255.25076505 270.14786805 285.04497105\n",
      " 299.94207404]\n"
     ]
    },
    {
     "data": {
      "image/png": "[encoded data removed]",
      "text/plain": [
       "<Figure size 432x288 with 1 Axes>"
      ]
     },
     "metadata": {
      "needs_background": "light"
     },
     "output_type": "display_data"
    }
   ],
   "source": [
    "# host star follows age distribution of Berger et al 2020a\n",
    "# 3 planets per star, with periods following loguniform distribution in [2, 300] days\n",
    "from scipy.stats import loguniform\n",
    "\n",
    "planets_per1 = loguniform.rvs(2, 300, size=60000)\n",
    "print(len(planets_per1), planets_per1)\n",
    "\n",
    "# histogram for 60000 planet periods\n",
    "per_hist, per_bin_edges = np.histogram(planets_per1, bins=nbins)\n",
    "print(per_hist)\n",
    "print(per_bin_edges)\n",
    "plt.bar(per_bin_edges[:-1], per_hist, width = 10, color='#0504aa',alpha=0.7)\n",
    "plt.ylabel(\"count\")\n",
    "plt.xlabel(\"period [days]\")\n",
    "plt.show()"
   ]
  },
  {
   "cell_type": "code",
   "execution_count": 10,
   "metadata": {},
   "outputs": [
    {
     "name": "stdout",
     "output_type": "stream",
     "text": [
      "[2950 3025 2999 2943 3011 2997 3098 3004 3082 2993 3030 2926 2981 3072\n",
      " 3057 2933 2972 3013 2947 2967]\n",
      "[0.69315424 0.943676   1.19419775 1.44471951 1.69524126 1.94576302\n",
      " 2.19628478 2.44680653 2.69732829 2.94785005 3.1983718  3.44889356\n",
      " 3.69941532 3.94993707 4.20045883 4.45098059 4.70150234 4.9520241\n",
      " 5.20254586 5.45306761 5.70358937]\n"
     ]
    },
    {
     "data": {
      "image/png": "[encoded data removed]",
      "text/plain": [
       "<Figure size 432x288 with 1 Axes>"
      ]
     },
     "metadata": {
      "needs_background": "light"
     },
     "output_type": "display_data"
    }
   ],
   "source": [
    "per_hist, per_bin_edges = np.histogram(np.log(planets_per1), bins=nbins)\n",
    "print(per_hist)\n",
    "print(per_bin_edges)\n",
    "plt.bar(per_bin_edges[:-1], per_hist, width = 0.2, color='#0504aa',alpha=0.7)\n",
    "plt.ylabel(\"count\")\n",
    "plt.xlabel(\"log period [days]\")\n",
    "plt.show()"
   ]
  },
  {
   "cell_type": "markdown",
   "metadata": {},
   "source": [
    "### Case 2"
   ]
  },
  {
   "cell_type": "code",
   "execution_count": 11,
   "metadata": {},
   "outputs": [
    {
     "name": "stdout",
     "output_type": "stream",
     "text": [
      "1.1170311000339714\n",
      "0.20889447103113198\n",
      "2000 [0.86570571 0.99311311 0.72882883 ... 0.94834835 0.83557558 0.72366366]\n"
     ]
    },
    {
     "data": {
      "image/png": "[encoded data removed]",
      "text/plain": [
       "<Figure size 432x288 with 2 Axes>"
      ]
     },
     "metadata": {
      "needs_background": "light"
     },
     "output_type": "display_data"
    }
   ],
   "source": [
    "# 2000 systems with five or six planets and age <2 Gyr\n",
    "# 18000 systems with one or two planets and age >2 Gyr\n",
    "# should the age distribution be a truncated version of the KDE below and above 2 Gyr? yes\n",
    "# going back and using a threshold of 1 Gyr like Berger et al 2020 b/c the proportion of young/old is more realistic\n",
    "young = berger_kepler.loc[berger_kepler.iso_age <= 1.].iso_age\n",
    "old = berger_kepler.loc[berger_kepler.iso_age > 1.].iso_age\n",
    "\n",
    "stars_age2_young_kde, stars_age2_young_cdf = run_kde(young, 2000)"
   ]
  },
  {
   "cell_type": "code",
   "execution_count": 12,
   "metadata": {},
   "outputs": [
    {
     "name": "stdout",
     "output_type": "stream",
     "text": [
      "11000 [177.48062267   2.94338654  22.58955145 ...  60.97081183   5.82012567\n",
      " 151.42933013]\n",
      "[4658 1388  836  626  528  354  319  283  246  227  205  191  179  168\n",
      "  163  130  128  129  115  127]\n",
      "[  2.00008421  16.88038844  31.76069266  46.64099689  61.52130112\n",
      "  76.40160535  91.28190958 106.16221381 121.04251803 135.92282226\n",
      " 150.80312649 165.68343072 180.56373495 195.44403918 210.3243434\n",
      " 225.20464763 240.08495186 254.96525609 269.84556032 284.72586454\n",
      " 299.60616877]\n"
     ]
    },
    {
     "data": {
      "image/png": "[encoded data removed]",
      "text/plain": [
       "<Figure size 432x288 with 1 Axes>"
      ]
     },
     "metadata": {
      "needs_background": "light"
     },
     "output_type": "display_data"
    }
   ],
   "source": [
    "# generate five or six planets for each of the 2000 systems --> 11000 planets\n",
    "planets_per2_young = loguniform.rvs(2, 300, size=11000)\n",
    "print(len(planets_per2_young), planets_per2_young)\n",
    "\n",
    "# histogram for 11000 planet periods\n",
    "per_hist, per_bin_edges = np.histogram(planets_per2_young, bins=nbins)\n",
    "print(per_hist)\n",
    "print(per_bin_edges)\n",
    "plt.bar(per_bin_edges[:-1], per_hist, width = 10, color='#0504aa',alpha=0.7)\n",
    "plt.ylabel(\"count\")\n",
    "plt.xlabel(\"period [days]\")\n",
    "plt.show()"
   ]
  },
  {
   "cell_type": "code",
   "execution_count": 13,
   "metadata": {},
   "outputs": [
    {
     "name": "stdout",
     "output_type": "stream",
     "text": [
      "0.16776569556283707\n",
      "0.14178034518473398\n",
      "18000 [2.28287287 2.16307307 1.42181181 ... 2.08071071 2.1480981  2.0881982 ]\n"
     ]
    },
    {
     "data": {
      "image/png": "[encoded data removed]",
      "text/plain": [
       "<Figure size 432x288 with 2 Axes>"
      ]
     },
     "metadata": {
      "needs_background": "light"
     },
     "output_type": "display_data"
    }
   ],
   "source": [
    "stars_age2_old_kde, stars_age2_old_cdf = run_kde(old, 18000)"
   ]
  },
  {
   "cell_type": "code",
   "execution_count": 14,
   "metadata": {},
   "outputs": [
    {
     "name": "stdout",
     "output_type": "stream",
     "text": [
      "27000 [147.30895513  22.72978269  94.8140186  ... 109.7964035    3.79301848\n",
      "   5.85893307]\n",
      "[11462  3458  2150  1486  1174   910   795   673   633   551   514   484\n",
      "   415   384   381   323   352   274   280   301]\n",
      "[  2.00035337  16.89787117  31.79538896  46.69290675  61.59042455\n",
      "  76.48794234  91.38546014 106.28297793 121.18049573 136.07801352\n",
      " 150.97553131 165.87304911 180.7705669  195.6680847  210.56560249\n",
      " 225.46312028 240.36063808 255.25815587 270.15567367 285.05319146\n",
      " 299.95070926]\n"
     ]
    },
    {
     "data": {
      "image/png": "[encoded data removed]",
      "text/plain": [
       "<Figure size 432x288 with 1 Axes>"
      ]
     },
     "metadata": {
      "needs_background": "light"
     },
     "output_type": "display_data"
    }
   ],
   "source": [
    "# generate one or two planets for each of the 18000 systems --> 27000 planets\n",
    "planets_per2_young = loguniform.rvs(2, 300, size=27000)\n",
    "print(len(planets_per2_young), planets_per2_young)\n",
    "\n",
    "# histogram for 27000 planet periods\n",
    "per_hist, per_bin_edges = np.histogram(planets_per2_young, bins=nbins)\n",
    "print(per_hist)\n",
    "print(per_bin_edges)\n",
    "plt.bar(per_bin_edges[:-1], per_hist, width = 10, color='#0504aa',alpha=0.7)\n",
    "plt.ylabel(\"count\")\n",
    "plt.xlabel(\"period [days]\")\n",
    "plt.show()"
   ]
  },
  {
   "cell_type": "code",
   "execution_count": null,
   "metadata": {},
   "outputs": [],
   "source": [
    "\"\"\"# age histogram for the Case 2 2000 synthetic young and 18000 synthetic old stars drawn from Berger age distribution, 2 Gyr threshold\n",
    "nbins = 20\n",
    "age_hist, age_bin_edges = np.histogram(list(stars_age2_young)+list(stars_age2_old), bins=nbins)\n",
    "print(age_hist)\n",
    "print(age_bin_edges)\n",
    "plt.bar(age_bin_edges[:-1], age_hist, width = 0.25, color='#0504aa',alpha=0.7)\n",
    "plt.ylabel(\"count\")\n",
    "plt.xlabel(\"age [Gyr]\")\n",
    "plt.show()\n",
    "\"\"\""
   ]
  },
  {
   "cell_type": "markdown",
   "metadata": {},
   "source": [
    "Why da peak so high?? As we can see below, the 1 Gyr threshold is actually closer to the 10% split than the 2 Gyr threshold. So let's fall back to that."
   ]
  },
  {
   "cell_type": "code",
   "execution_count": 17,
   "metadata": {},
   "outputs": [
    {
     "name": "stdout",
     "output_type": "stream",
     "text": [
      "2514\n",
      "17455\n",
      "0.12589513746306777\n",
      "10814\n",
      "9155\n",
      "0.5415393860483749\n",
      "1996\n",
      "11450    0.91\n",
      "2020     0.92\n",
      "11791    0.92\n",
      "16754    0.92\n",
      "919      0.92\n",
      "Name: iso_age, dtype: float64\n",
      "2000\n",
      "[1.3853954  2.79795796 2.07078078 ... 1.29345345 2.57228228 2.11257257]\n"
     ]
    }
   ],
   "source": [
    "# check percentage split of 1 Gyr age threshold vs 2 Gyr\n",
    "print(len(berger_kepler.loc[berger_kepler.iso_age <= 1.]))\n",
    "print(len(berger_kepler.loc[berger_kepler.iso_age > 1.]))\n",
    "print(2514/len(berger_kepler))\n",
    "\n",
    "print(len(berger_kepler.loc[berger_kepler.iso_age <= 2.]))\n",
    "print(len(berger_kepler.loc[berger_kepler.iso_age > 2.]))\n",
    "print(10814/len(berger_kepler))\n",
    "\n",
    "# now check what threshold yields a 10%/90% young/old split\n",
    "youngest_ten_percent = berger_kepler.iso_age.sort_values().head(int(len(berger_kepler)*(0.1))) # sort by ages and get first 10%\n",
    "print(len(youngest_ten_percent))\n",
    "print(youngest_ten_percent.tail())\n",
    "print(len(stars_age1_kde[:int(len(stars_age1_kde) * 0.1)]))\n",
    "print(stars_age1_kde[:int(len(stars_age1_kde) * 0.1)])\n"
   ]
  },
  {
   "cell_type": "markdown",
   "metadata": {},
   "source": [
    "We'll go ahead and use 1 Gyr for now; we'll know from the transit simulation work whether a compact multi rate of 12.6% is consistent with the observed Kepler sample. Tuning this to get it to reproduce Kepler observations will be one of the next few steps anyway."
   ]
  },
  {
   "cell_type": "code",
   "execution_count": 18,
   "metadata": {},
   "outputs": [
    {
     "name": "stdout",
     "output_type": "stream",
     "text": [
      "[ 359 1540 2632 3822 3756 2980 1497  734  507  479  395  377  314  257\n",
      "  145  104   41   40   16    5]\n",
      "[0.14774775 0.56074224 0.97373674 1.38673123 1.79972573 2.21272022\n",
      " 2.62571471 3.03870921 3.4517037  3.8646982  4.27769269 4.69068719\n",
      " 5.10368168 5.51667618 5.92967067 6.34266517 6.75565966 7.16865415\n",
      " 7.58164865 7.99464314 8.40763764]\n"
     ]
    },
    {
     "data": {
      "image/png": "[encoded data removed]",
      "text/plain": [
       "<Figure size 432x288 with 1 Axes>"
      ]
     },
     "metadata": {
      "needs_background": "light"
     },
     "output_type": "display_data"
    }
   ],
   "source": [
    "# age histogram for the Case 2 2000 synthetic young and 18000 synthetic old stars \n",
    "# drawn from two piecewise KDEs of the Berger age distribution\n",
    "# 1 Gyr threshold\n",
    "nbins = 20\n",
    "age_hist, age_bin_edges = np.histogram(list(stars_age2_young_kde)+list(stars_age2_old_kde), bins=nbins)\n",
    "print(age_hist)\n",
    "print(age_bin_edges)\n",
    "plt.bar(age_bin_edges[:-1], age_hist, width = 0.25, color='#0504aa',alpha=0.7)\n",
    "plt.ylabel(\"count\")\n",
    "plt.xlabel(\"age [Gyr]\")\n",
    "plt.show()"
   ]
  },
  {
   "cell_type": "code",
   "execution_count": 19,
   "metadata": {},
   "outputs": [
    {
     "name": "stdout",
     "output_type": "stream",
     "text": [
      "0.16134894568048957\n",
      "0.13801577758850292\n",
      "5053\n",
      "34947\n"
     ]
    },
    {
     "data": {
      "image/png": "[encoded data removed]",
      "text/plain": [
       "<Figure size 432x288 with 2 Axes>"
      ]
     },
     "metadata": {
      "needs_background": "light"
     },
     "output_type": "display_data"
    },
    {
     "name": "stdout",
     "output_type": "stream",
     "text": [
      "2000 18000\n"
     ]
    }
   ],
   "source": [
    "# maybe that was a bad idea to draw two separate piecewise KDEs\n",
    "# instead, let's use the same KDE from Case 1 and just draw until we get 2000 young and 18000 old stars\n",
    "def generate_rand_from_pdf_case2(pdf, x_grid, n_young, n_old):\n",
    "    cdf = np.cumsum(pdf) # create cdf\n",
    "    cdf = cdf / cdf[-1] # normalize cdf\n",
    "    values = np.random.rand(2*(n_young+n_old))\n",
    "    value_bins = np.searchsorted(cdf, values) # return positions in cdf vector where random values should go\n",
    "    random_from_cdf = x_grid[value_bins] # select x_d positions based on these random positions\n",
    "    # select 2000 young from Case 1 KDE draw\n",
    "    case2_young = [i for i in random_from_cdf if i <= 1.]\n",
    "    print(len(case2_young))\n",
    "    case2_young = random.sample(case2_young, 2000)\n",
    "    # else select old\n",
    "    case2_old = [i for i in random_from_cdf if i > 1.]\n",
    "    print(len(case2_old))\n",
    "    case2_old = random.sample(case2_old, 18000)\n",
    "    return case2_young, case2_old\n",
    "\n",
    "def run_kde_case2(data, draws):\n",
    "    hist, bins = np.histogram(data, bins=100)\n",
    "\n",
    "    x_grid = np.linspace(min(data), max(data), 1000)\n",
    "    kdepdf = kde(data, x_grid, bandwidth=0.2) # generate KDE model\n",
    "    random_from_kde_young, random_from_kde_old = generate_rand_from_pdf_case2(kdepdf, x_grid, 2000, 18000) # generate random data from KDE distribution\n",
    "    #print(len(random_from_kde), random_from_kde) # these are my star ages\n",
    "    bin_midpoints = bins[:-1] + np.diff(bins) / 2 # get positions of bin midpoints\n",
    "    random_from_cdf = generate_rand_from_pdf(hist, bin_midpoints, draws) # generate random data from the histogram\n",
    "\n",
    "    plt.subplot(121)\n",
    "    plt.hist(data, nbins, density=True, alpha=0.5, label='hist') # plot histogram of normalized data\n",
    "    plt.plot(x_grid, kdepdf, color='r', alpha=0.5, lw=3, label='kde') # plot KDE over normalized histogram\n",
    "    plt.legend()\n",
    "    plt.subplot(122)\n",
    "    plt.hist(random_from_cdf, nbins, alpha=0.5, label='from hist') # plot histogram of data drawn from OG histogram\n",
    "    plt.hist(list(random_from_kde_young)+list(random_from_kde_old), nbins, alpha=0.5, label='from kde') # plot histogram of data drawn from KDE\n",
    "    plt.legend()\n",
    "    plt.show()\n",
    "    return random_from_kde_young, random_from_kde_old\n",
    "\n",
    "stars_age2_kde_young, stars_age2_kde_old = run_kde_case2(berger_kepler.iso_age, 20000)\n",
    "print(len(stars_age2_kde_young), len(stars_age2_kde_old))"
   ]
  },
  {
   "cell_type": "code",
   "execution_count": 20,
   "metadata": {},
   "outputs": [
    {
     "name": "stdout",
     "output_type": "stream",
     "text": [
      "[ 412 1358 2827 3572 3651 3022 1704  751  494  438  368  366  331  252\n",
      "  177  118   70   48   35    6]\n",
      "[0.14       0.54161912 0.94323824 1.34485736 1.74647648 2.1480956\n",
      " 2.54971471 2.95133383 3.35295295 3.75457207 4.15619119 4.55781031\n",
      " 4.95942943 5.36104855 5.76266767 6.16428679 6.56590591 6.96752503\n",
      " 7.36914414 7.77076326 8.17238238]\n"
     ]
    },
    {
     "data": {
      "image/png": "[encoded data removed]",
      "text/plain": [
       "<Figure size 432x288 with 1 Axes>"
      ]
     },
     "metadata": {
      "needs_background": "light"
     },
     "output_type": "display_data"
    }
   ],
   "source": [
    "# age histogram for the Case 2 young and old stars, drawn from one continuous KDE fitted to Berger age distribution\n",
    "# 1 Gyr threshold\n",
    "nbins = 20\n",
    "age_hist, age_bin_edges = np.histogram(list(stars_age2_kde_young)+list(stars_age2_kde_old), bins=nbins)\n",
    "print(age_hist)\n",
    "print(age_bin_edges)\n",
    "plt.bar(age_bin_edges[:-1], age_hist, width = 0.25, color='#0504aa',alpha=0.7)\n",
    "plt.ylabel(\"count\")\n",
    "plt.xlabel(\"age [Gyr]\")\n",
    "plt.show()"
   ]
  },
  {
   "cell_type": "code",
   "execution_count": 21,
   "metadata": {
    "scrolled": true
   },
   "outputs": [
    {
     "name": "stdout",
     "output_type": "stream",
     "text": [
      "[ 580 1825 2993 3670 3590 2850 1370  679  448  436  380  345  268  197\n",
      "  145  109   56   37   15    7]\n",
      "[0.14835836 0.56126126 0.97416416 1.38706707 1.79996997 2.21287287\n",
      " 2.62577578 3.03867868 3.45158158 3.86448448 4.27738739 4.69029029\n",
      " 5.10319319 5.5160961  5.928999   6.3419019  6.7548048  7.16770771\n",
      " 7.58061061 7.99351351 8.40641642]\n"
     ]
    },
    {
     "data": {
      "image/png": "[encoded data removed]",
      "text/plain": [
       "<Figure size 432x288 with 1 Axes>"
      ]
     },
     "metadata": {
      "needs_background": "light"
     },
     "output_type": "display_data"
    }
   ],
   "source": [
    "# age histogram for the Case 1 stars\n",
    "# 1 Gyr threshold\n",
    "nbins = 20\n",
    "age_hist, age_bin_edges = np.histogram(list(stars_age1_kde), bins=nbins)\n",
    "print(age_hist)\n",
    "print(age_bin_edges)\n",
    "plt.bar(age_bin_edges[:-1], age_hist, width = 0.25, color='#0504aa',alpha=0.7)\n",
    "plt.ylabel(\"count\")\n",
    "plt.xlabel(\"age [Gyr]\")\n",
    "plt.show()"
   ]
  },
  {
   "cell_type": "code",
   "execution_count": 22,
   "metadata": {},
   "outputs": [
    {
     "data": {
      "text/plain": [
       "2550"
      ]
     },
     "execution_count": 22,
     "metadata": {},
     "output_type": "execute_result"
    }
   ],
   "source": [
    "len([i for i in stars_age1_kde if i <= 1.])"
   ]
  },
  {
   "cell_type": "code",
   "execution_count": 23,
   "metadata": {},
   "outputs": [
    {
     "name": "stdout",
     "output_type": "stream",
     "text": [
      "[ 409 1918 2978 3679 3709 2930 1248  638  469  431  369  348  290  211\n",
      "  153   85   53   38    9    4]\n",
      "[0.14   0.5575 0.975  1.3925 1.81   2.2275 2.645  3.0625 3.48   3.8975\n",
      " 4.315  4.7325 5.15   5.5675 5.985  6.4025 6.82   7.2375 7.655  8.0725\n",
      " 8.49  ]\n"
     ]
    },
    {
     "data": {
      "image/png": "[encoded data removed]",
      "text/plain": [
       "<Figure size 432x288 with 1 Axes>"
      ]
     },
     "metadata": {
      "needs_background": "light"
     },
     "output_type": "display_data"
    }
   ],
   "source": [
    "# age histogram for the 20000 FGK non-binary dwarfs from Berger et al 2020a with well-constrained ages\n",
    "nbins = 20\n",
    "age_hist, age_bin_edges = np.histogram(berger_kepler.iso_age, bins=nbins)\n",
    "print(age_hist)\n",
    "print(age_bin_edges)\n",
    "plt.bar(age_bin_edges[:-1], age_hist, width = 0.25, color='#0504aa',alpha=0.7)\n",
    "plt.ylabel(\"count\")\n",
    "plt.xlabel(\"age [Gyr]\")\n",
    "plt.show()"
   ]
  },
  {
   "cell_type": "markdown",
   "metadata": {},
   "source": [
    "So there's three ways I can go about this. Do I 1) sample from 2 piecewise KDEs fit onto the <1 and >1 parts of the Berger age distribution; 2) sample generously from a single KDE on the Berger age distribution and draw however much I need from the <1 and >1 portions; or 3) just use the KDE from Case 1? Also, should I really be sampling 10%/90% if the true threshold is at 12.6%? If I do that, I'm undersampling for the already smaller young sample. And if I don't do that, then I might as well take option 3, right? <br> <br>\n",
    "\n",
    "Let's just use the synthetic stars from Case 1 for now and fall back on different sampling proportions if the transit work doesn't look right, as Sarah said."
   ]
  },
  {
   "cell_type": "markdown",
   "metadata": {},
   "source": [
    "### Transits"
   ]
  },
  {
   "cell_type": "code",
   "execution_count": 31,
   "metadata": {},
   "outputs": [
    {
     "name": "stdout",
     "output_type": "stream",
     "text": [
      "0.38690748364419597\n",
      "0.13801577758850292\n",
      "20000 [2.39644645 2.19864064 1.82048248 ... 1.42487087 2.89677878 1.82048248]\n"
     ]
    },
    {
     "data": {
      "image/png": "[encoded data removed]",
      "text/plain": [
       "<Figure size 432x288 with 2 Axes>"
      ]
     },
     "metadata": {
      "needs_background": "light"
     },
     "output_type": "display_data"
    }
   ],
   "source": [
    "stars_radius_kde, stars_radius_cdf = run_kde(berger_kepler.iso_rad, 20000)"
   ]
  },
  {
   "cell_type": "code",
   "execution_count": 34,
   "metadata": {},
   "outputs": [
    {
     "name": "stdout",
     "output_type": "stream",
     "text": [
      "   star_ages                                     planet_periods  midplane  \\\n",
      "0   1.385395  [189.836565797733, 17.235093157377314, 11.5510... -1.481668   \n",
      "1   2.797958  [74.59060796566567, 2.8006115516298493, 54.487...  0.811416   \n",
      "2   2.070781  [11.325652700792164, 75.20872413382943, 9.1053...  0.683880   \n",
      "3   2.371682  [2.4812984404045433, 62.31417490483725, 19.536... -0.623075   \n",
      "4   2.020631  [15.81584919716752, 44.565818768391054, 79.076...  1.363980   \n",
      "\n",
      "       midplane_degrees                                                  b  \\\n",
      "0  [55.394591042510626]  [-1.3833388935532485, -1.4602203232916426, -1....   \n",
      "1   [82.98155618168133]  [0.8880666309554475, 0.6669520659466392, 0.765...   \n",
      "2  [-9.090392510191705]  [0.772569701438432, 0.7570365045645827, 0.6532...   \n",
      "3   [67.47787606019781]  [-0.6101705176905111, -0.7289267669898181, -0....   \n",
      "4  [-58.64069098348136]  [1.1822466635014466, 1.377824586325465, 1.3340...   \n",
      "\n",
      "                                           b_degrees  star_radius  \n",
      "0  [145.93534268996422, 77.54244459651976, -20.52...     2.396446  \n",
      "1  [102.94064944805311, 142.73787730544365, 87.23...     2.198641  \n",
      "2  [-18.089499581737975, -49.399206000632006, 68....     1.820482  \n",
      "3  [169.15594060412556, 79.48035029428111, 25.322...     2.338268  \n",
      "4  [-90.00841580358791, 9.46662550896987, 1.30341...     2.472078  \n"
     ]
    }
   ],
   "source": [
    "# we use stars_age1_kde and planets_per1\n",
    "# for each system, draw the midplane from uniform distribution, then draw planets' line of transit from Gaussian\n",
    "# Case 1\n",
    "\n",
    "midplanes = []\n",
    "midplanes_degrees = []\n",
    "impact_parameters = []\n",
    "impact_parameters_degrees = []\n",
    "#planets_per_case1 = [] # maybe better to recreate it here b/c I can then generalize it for Case 2?\n",
    "sigma = 0.1 # THIS IS A BIG HYPERPARAM\n",
    "sigma_degrees = 60\n",
    "for star in stars_age1_kde:\n",
    "    # star\n",
    "    mu = np.random.uniform(-np.pi/2,np.pi/2,1) # create midplane for star\n",
    "    mu_degrees = np.random.uniform(-90,90,1) # more interpretable\n",
    "    midplanes.append(mu)\n",
    "    midplanes_degrees.append(mu_degrees)\n",
    "    \n",
    "    # planet\n",
    "    impact_parameters.append(np.random.normal(mu, sigma, 3)) # create impact params for planets\n",
    "    impact_parameters_degrees.append(np.random.normal(mu_degrees, sigma_degrees, 3)) # create impact params for planets in degrees\n",
    "    \n",
    "midplanes = np.concatenate(midplanes, axis=0) # turn list of lists of one into regular list\n",
    "\n",
    "planets_per_case1 = [planets_per1[p:p+3] for p in range(0, len(planets_per1), 3)] # reorganize list into list of lists of three\n",
    "\n",
    "transits_dict = {'star_ages': stars_age1_kde, 'planet_periods': planets_per_case1,\n",
    "                'midplane': midplanes, 'midplane_degrees': midplanes_degrees,\n",
    "                 'b': impact_parameters, 'b_degrees': impact_parameters_degrees, 'star_radius': stars_radius_kde}\n",
    "transits_case1 = pd.DataFrame(transits_dict)\n",
    "print(transits_case1.head())"
   ]
  },
  {
   "cell_type": "code",
   "execution_count": 33,
   "metadata": {},
   "outputs": [
    {
     "name": "stdout",
     "output_type": "stream",
     "text": [
      "   star_ages                            planet_periods  midplane  \\\n",
      "0   1.385395  [108.09530525225416, 15.107570342826465] -1.128114   \n",
      "1   2.797958   [261.09613165529436, 4.018182100755729] -0.375517   \n",
      "2   2.070781  [146.23925441024372, 21.840022931803883]  0.157944   \n",
      "3   2.371682   [194.76498787165625, 11.08499741811434]  0.490884   \n",
      "4   2.020631   [25.875674330368067, 5.850875034462642] -0.024484   \n",
      "\n",
      "        midplane_degrees                                            b  \\\n",
      "0    [72.46081521281457]    [-1.042054202824761, -0.9364140436600488]   \n",
      "1   [-36.25007689851321]   [-0.4427459254199086, -0.1479055448836485]   \n",
      "2  [-33.322101347175064]   [0.06562385788439015, 0.33478082478696025]   \n",
      "3   [-65.23822526267077]    [0.49794228607383983, 0.6037806017190694]   \n",
      "4   [-36.54766853280221]  [-0.06501506346251851, 0.03216631063953071]   \n",
      "\n",
      "                                   b_degrees  star_radius  \n",
      "0    [4.343505520431691, 3.4593684460169527]     2.396446  \n",
      "1    [5.585304591671701, 11.900487683349674]     2.198641  \n",
      "2  [-29.174041580979708, 35.342439997702996]     1.820482  \n",
      "3  [-57.924151872552315, -50.63628692393519]     2.338268  \n",
      "4   [-95.74729199666398, -66.40576354554473]     2.472078  \n"
     ]
    }
   ],
   "source": [
    "# we use stars_age1_kde and planets_per1\n",
    "# for each system, draw the midplane from uniform distribution, then draw planets' line of transit from Gaussian\n",
    "# Case 2\n",
    "\n",
    "midplanes = []\n",
    "midplanes_degrees = []\n",
    "impact_parameters = []\n",
    "impact_parameters_degrees = []\n",
    "planets_per_case1 = [] # maybe better to recreate it here b/c I can then generalize it for Case 2?\n",
    "star_radius = []\n",
    "sigma = 0.1 # THIS IS A BIG HYPERPARAM\n",
    "sigma_degrees = 60\n",
    "for star in stars_age1_kde:\n",
    "    # star\n",
    "    mu = np.random.uniform(-np.pi/2,np.pi/2,1) # create midplane for star\n",
    "    mu_degrees = np.random.uniform(-90,90,1) # more interpretable\n",
    "    midplanes.append(mu)\n",
    "    midplanes_degrees.append(mu_degrees)\n",
    "    \n",
    "    # planet\n",
    "    if star <= 1.:\n",
    "        num_planets = random.choice([5, 6]) # young system has 5 or 6 planets\n",
    "        planets_per_case1.append(loguniform.rvs(2, 300, size=num_planets)) # draw 5 or 6 planet periods from loguniform distribution\n",
    "        impact_parameters.append(np.random.normal(mu, sigma, num_planets)) # create impact params for planets\n",
    "        impact_parameters_degrees.append(np.random.normal(mu_degrees, sigma_degrees, num_planets)) # create impact params for planets in degrees\n",
    "    elif star > 1.:\n",
    "        num_planets = random.choice([1, 2]) # old system has 1 or 2 planets\n",
    "        planets_per_case1.append(loguniform.rvs(2, 300, size=num_planets)) # draw 5 or 6 planet periods from loguniform distribution\n",
    "        impact_parameters.append(np.random.normal(mu, sigma, num_planets)) # create impact params for planets\n",
    "        impact_parameters_degrees.append(np.random.normal(mu_degrees, sigma_degrees, num_planets)) # create impact params for planets in degrees\n",
    "        \n",
    "midplanes = np.concatenate(midplanes, axis=0) # turn list of lists of one into regular list\n",
    "\n",
    "#planets_per_case1 = [planets_per1[p:p+3] for p in range(0, len(planets_per1), 3)] # reorganize list into list of lists of three\n",
    "\n",
    "transits_dict = {'star_ages': stars_age1_kde, 'planet_periods': planets_per_case1,\n",
    "                'midplane': midplanes, 'midplane_degrees': midplanes_degrees,\n",
    "                 'b': impact_parameters, 'b_degrees': impact_parameters_degrees, 'star_radius': stars_radius_kde}\n",
    "transits_case2 = pd.DataFrame(transits_dict)\n",
    "print(transits_case2.head())"
   ]
  },
  {
   "cell_type": "code",
   "execution_count": null,
   "metadata": {},
   "outputs": [],
   "source": []
  }
 ],
 "metadata": {
  "kernelspec": {
   "display_name": "Python 3",
   "language": "python",
   "name": "python3"
  },
  "language_info": {
   "codemirror_mode": {
    "name": "ipython",
    "version": 3
   },
   "file_extension": ".py",
   "mimetype": "text/x-python",
   "name": "python",
   "nbconvert_exporter": "python",
   "pygments_lexer": "ipython3",
   "version": "3.6.8"
  }
 },
 "nbformat": 4,
 "nbformat_minor": 2
}
