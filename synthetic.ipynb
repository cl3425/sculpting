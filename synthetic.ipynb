{
 "cells": [
  {
   "cell_type": "code",
   "execution_count": 1,
   "metadata": {},
   "outputs": [],
   "source": [
    "import pandas as pd\n",
    "import numpy as np\n",
    "import random\n",
    "import matplotlib.pyplot as plt\n",
    "%matplotlib inline"
   ]
  },
  {
   "cell_type": "markdown",
   "metadata": {},
   "source": [
    "Create 20000 FGK dwarfs using the age distribution from Berger et al 2020a, with planets drawn from loguniform period distribution from 2 to 300 days, following the following cases:<br>\n",
    "\n",
    "1) no difference between old and young stars, with 3 planets per star <br>\n",
    "2) 10% of systems still intact (5 or 6 planets; < 2 Gyr old); 90% of systems disrupted (1 or 2 planets; > 2 Gyr) <br>\n",
    "\n",
    "Why these two cases? Kepler data shows 7% (here we round to 10%) of systems are intact. We're using 2 Gyr instead of 1 Gyr like Berger et al in order to maintain the ~10%/90% proportion of sample sizes. ME FROM THE FUTURE: This is a wrong assumption. Skip to end of Case 2. <br>\n",
    "\n",
    "#### The goal is to find out how many of these systems have transiting planets."
   ]
  },
  {
   "cell_type": "markdown",
   "metadata": {},
   "source": [
    "### Case 1"
   ]
  },
  {
   "cell_type": "code",
   "execution_count": 2,
   "metadata": {},
   "outputs": [
    {
     "name": "stdout",
     "output_type": "stream",
     "text": [
      "19969\n",
      "    kepid           tm_designation  teff  teff_err1  teff_err2   logg  \\\n",
      "0  757280  2MASS J19242289+3633538  6543      162.0     -194.0  4.082   \n",
      "1  892667  2MASS J19243045+3637186  6609      159.0     -227.0  4.105   \n",
      "2  892678  2MASS J19243108+3638316  6137      167.0     -186.0  3.936   \n",
      "3  892713  2MASS J19243353+3637220  6106      186.0     -186.0  3.854   \n",
      "4  892828  2MASS J19243904+3637166  6691      188.0     -235.0  4.134   \n",
      "\n",
      "   logg_err1  logg_err2  feh_x  feh_err1  ...  parallax  parallax_err  feh_y  \\\n",
      "0      0.258     -0.172  -0.24      0.25  ...    1.2137        0.0220    NaN   \n",
      "1      0.246     -0.164  -0.26      0.25  ...    0.8512        0.0154    NaN   \n",
      "2      0.428     -0.143  -0.26      0.30  ...    1.0236        0.0259    NaN   \n",
      "3      0.496     -0.124  -0.24      0.30  ...    0.9602        0.0231    NaN   \n",
      "4      0.209     -0.171  -0.26      0.25  ...    0.9660        0.0143    NaN   \n",
      "\n",
      "   feh_err    RUWE  num_gaia_companions  Kmag_final_prov  evstate      logR  \\\n",
      "0      NaN  0.8704                    0              NaN      NaN  0.416641   \n",
      "1      NaN  0.8674                    0              NaN      NaN  0.337060   \n",
      "2      NaN  0.9852                    1       BinaryCorr      NaN  0.529174   \n",
      "3      NaN  0.9872                    1       BinaryCorr      NaN  0.561578   \n",
      "4      NaN  1.0867                    1       BinaryCorr      NaN  0.273001   \n",
      "\n",
      "   is_giant  \n",
      "0     False  \n",
      "1     False  \n",
      "2     False  \n",
      "3     False  \n",
      "4     False  \n",
      "\n",
      "[5 rows x 141 columns]\n"
     ]
    },
    {
     "name": "stderr",
     "output_type": "stream",
     "text": [
      "/Users/chris/anaconda2/lib/python3.6/site-packages/IPython/core/interactiveshell.py:3072: DtypeWarning: Columns (138) have mixed types.Specify dtype option on import or set low_memory=False.\n",
      "  interactivity=interactivity, compiler=compiler, result=result)\n"
     ]
    }
   ],
   "source": [
    "berger_kepler = pd.read_csv('berger_kepler_stellar17.csv')\n",
    "print(len(berger_kepler))\n",
    "print(berger_kepler.head())"
   ]
  },
  {
   "cell_type": "code",
   "execution_count": 3,
   "metadata": {
    "scrolled": true
   },
   "outputs": [
    {
     "name": "stdout",
     "output_type": "stream",
     "text": [
      "[ 409 1918 2978 3679 3709 2930 1248  638  469  431  369  348  290  211\n",
      "  153   85   53   38    9    4]\n",
      "[0.14   0.5575 0.975  1.3925 1.81   2.2275 2.645  3.0625 3.48   3.8975\n",
      " 4.315  4.7325 5.15   5.5675 5.985  6.4025 6.82   7.2375 7.655  8.0725\n",
      " 8.49  ]\n"
     ]
    },
    {
     "data": {
      "image/png": "[encoded data removed]",
      "text/plain": [
       "<Figure size 432x288 with 1 Axes>"
      ]
     },
     "metadata": {
      "needs_background": "light"
     },
     "output_type": "display_data"
    }
   ],
   "source": [
    "# age histogram for the 20000 FGK non-binary dwarfs from Berger et al 2020a with well-constrained ages\n",
    "nbins = 20\n",
    "age_hist, age_bin_edges = np.histogram(berger_kepler.iso_age, bins=nbins)\n",
    "print(age_hist)\n",
    "print(age_bin_edges)\n",
    "plt.bar(age_bin_edges[:-1], age_hist, width = 0.25, color='#0504aa',alpha=0.7)\n",
    "plt.ylabel(\"count\")\n",
    "plt.xlabel(\"age [Gyr]\")\n",
    "plt.show()"
   ]
  },
  {
   "cell_type": "markdown",
   "metadata": {},
   "source": [
    "Time for kernel density estimator? https://jakevdp.github.io/PythonDataScienceHandbook/05.13-kernel-density-estimation.html"
   ]
  },
  {
   "cell_type": "code",
   "execution_count": 4,
   "metadata": {
    "scrolled": true
   },
   "outputs": [
    {
     "name": "stderr",
     "output_type": "stream",
     "text": [
      "/Users/chris/anaconda2/lib/python3.6/site-packages/ipykernel_launcher.py:6: FutureWarning: Support for multi-dimensional indexing (e.g. `obj[:, None]`) is deprecated and will be removed in a future version.  Convert to a numpy array before indexing instead.\n",
      "  \n"
     ]
    },
    {
     "data": {
      "image/png": "[encoded data removed]",
      "text/plain": [
       "<Figure size 432x288 with 1 Axes>"
      ]
     },
     "metadata": {
      "needs_background": "light"
     },
     "output_type": "display_data"
    }
   ],
   "source": [
    "from sklearn.neighbors import KernelDensity\n",
    "\n",
    "x = berger_kepler.iso_age\n",
    "# instantiate and fit the KDE model\n",
    "kde = KernelDensity(bandwidth=1.0, kernel='gaussian') # what else might be better?\n",
    "kde.fit(x[:, None])\n",
    "\n",
    "x_d = np.linspace(np.min(x),np.max(x),1000)\n",
    "# score_samples returns the log of the probability density\n",
    "logprob = kde.score_samples(x_d[:, None])\n",
    "\n",
    "plt.fill_between(x_d, np.exp(logprob), alpha=0.5)\n",
    "plt.show()"
   ]
  },
  {
   "cell_type": "code",
   "execution_count": 5,
   "metadata": {},
   "outputs": [
    {
     "name": "stdout",
     "output_type": "stream",
     "text": [
      "0.16134894568048957\n",
      "0.13801577758850292\n",
      "20000 [1.96212212 1.11792793 1.16807808 ... 3.10721722 1.79495495 3.91797798]\n"
     ]
    },
    {
     "data": {
      "image/png": "[encoded data removed]",
      "text/plain": [
       "<Figure size 432x288 with 2 Axes>"
      ]
     },
     "metadata": {
      "needs_background": "light"
     },
     "output_type": "display_data"
    },
    {
     "name": "stdout",
     "output_type": "stream",
     "text": [
      "[1.96212212 1.11792793 1.16807808 ... 3.10721722 1.79495495 3.91797798]\n"
     ]
    }
   ],
   "source": [
    "# courtesy of https://stackoverflow.com/questions/17821458/random-number-from-histogram\n",
    "from scipy.stats import gaussian_kde\n",
    "\n",
    "def generate_rand_from_pdf(pdf, x_grid, n):\n",
    "    cdf = np.cumsum(pdf) # create cdf\n",
    "    cdf = cdf / cdf[-1] # normalize cdf\n",
    "    values = np.random.rand(n) \n",
    "    value_bins = np.searchsorted(cdf, values) # return positions in cdf vector where random values should go\n",
    "    random_from_cdf = x_grid[value_bins] # select x_d positions based on these random positions\n",
    "    return random_from_cdf\n",
    "\n",
    "def kde(x, x_grid, bandwidth):\n",
    "    \"\"\"Kernel Density Estimation with Scipy\"\"\"\n",
    "    #kde = gaussian_kde(x, bw_method=bandwidth / x.std(ddof=0)) # ddof=1 means std divisor is N-1 instead of N\n",
    "    #kde = gaussian_kde(x, bw_method=np.power(len(x), -0.2)) # ddof=1 means std divisor is N-1 instead of N\n",
    "    kde = gaussian_kde(x, bw_method=0.15) # constant bandwidth so imbalance in sample size doesn't drive distribution\n",
    "    print(bandwidth/x.std(ddof=1)) # this is bw used in S/O\n",
    "    print(np.power(len(x), -0.2)) # the bw if I use Scott's factor as the bw to multiply with covariance matrix\n",
    "    return kde.evaluate(x_grid)\n",
    "\n",
    "#kdepdf = kde(x, x_d, bandwidth=0.1) # generate KDE model\n",
    "#random_from_kde = generate_rand_from_pdf(kdepdf, x_d) # generate random data from KDE distribution\n",
    "\n",
    "nbins = 20\n",
    "def run_kde(data, draws):\n",
    "    hist, bins = np.histogram(data, bins=100)\n",
    "\n",
    "    x_grid = np.linspace(min(data), max(data), 1000)\n",
    "    kdepdf = kde(data, x_grid, bandwidth=0.2) # generate KDE model\n",
    "    random_from_kde = generate_rand_from_pdf(kdepdf, x_grid, draws) # generate random data from KDE distribution\n",
    "    print(len(random_from_kde), random_from_kde) # these are my star ages\n",
    "    bin_midpoints = bins[:-1] + np.diff(bins) / 2 # get positions of bin midpoints\n",
    "    random_from_cdf = generate_rand_from_pdf(hist, bin_midpoints, draws) # generate random data from the histogram\n",
    "\n",
    "    plt.subplot(121)\n",
    "    plt.hist(data, nbins, density=True, alpha=0.5, label='hist') # plot histogram of normalized data\n",
    "    plt.plot(x_grid, kdepdf, color='r', alpha=0.5, lw=3, label='kde') # plot KDE over normalized histogram\n",
    "    plt.legend()\n",
    "    plt.subplot(122)\n",
    "    plt.hist(random_from_cdf, nbins, alpha=0.5, label='from hist') # plot histogram of data drawn from OG histogram\n",
    "    plt.hist(random_from_kde, nbins, alpha=0.5, label='from kde') # plot histogram of data drawn from KDE\n",
    "    plt.legend()\n",
    "    plt.show()\n",
    "    return random_from_kde, random_from_cdf\n",
    "    \n",
    "stars_age1_kde, stars_age1_cdf = run_kde(berger_kepler.iso_age, 20000)\n",
    "print(stars_age1_kde)"
   ]
  },
  {
   "cell_type": "code",
   "execution_count": 6,
   "metadata": {},
   "outputs": [
    {
     "name": "stdout",
     "output_type": "stream",
     "text": [
      "60000 [204.59450538   3.13973777  52.68725805 ...   2.87788562 164.24207446\n",
      " 182.55125987]\n",
      "[25338  7634  4627  3425  2582  2096  1812  1550  1416  1255  1096  1050\n",
      "   982   877   861   725   693   694   660   627]\n",
      "[  2.00006808  16.89993516  31.79980223  46.69966931  61.59953638\n",
      "  76.49940346  91.39927053 106.29913761 121.19900468 136.09887176\n",
      " 150.99873883 165.89860591 180.79847298 195.69834006 210.59820713\n",
      " 225.49807421 240.39794128 255.29780836 270.19767543 285.09754251\n",
      " 299.99740958]\n"
     ]
    },
    {
     "data": {
      "image/png": "[encoded data removed]",
      "text/plain": [
       "<Figure size 432x288 with 1 Axes>"
      ]
     },
     "metadata": {
      "needs_background": "light"
     },
     "output_type": "display_data"
    }
   ],
   "source": [
    "# host star follows age distribution of Berger et al 2020a\n",
    "# 3 planets per star, with periods following loguniform distribution in [2, 300] days\n",
    "from scipy.stats import loguniform\n",
    "\n",
    "planets_per1 = loguniform.rvs(2, 300, size=60000)\n",
    "print(len(planets_per1), planets_per1)\n",
    "\n",
    "# histogram for 60000 planet periods\n",
    "per_hist, per_bin_edges = np.histogram(planets_per1, bins=nbins)\n",
    "print(per_hist)\n",
    "print(per_bin_edges)\n",
    "plt.bar(per_bin_edges[:-1], per_hist, width = 10, color='#0504aa',alpha=0.7)\n",
    "plt.ylabel(\"count\")\n",
    "plt.xlabel(\"period [days]\")\n",
    "plt.show()"
   ]
  },
  {
   "cell_type": "code",
   "execution_count": 7,
   "metadata": {},
   "outputs": [
    {
     "name": "stdout",
     "output_type": "stream",
     "text": [
      "[2998 3001 2912 3036 3053 2963 2968 2893 3010 2961 3034 3054 3000 3058\n",
      " 2999 2976 3026 3003 3038 3017]\n",
      "[0.69318122 0.94371085 1.19424048 1.44477011 1.69529974 1.94582938\n",
      " 2.19635901 2.44688864 2.69741827 2.9479479  3.19847753 3.44900716\n",
      " 3.69953679 3.95006642 4.20059605 4.45112569 4.70165532 4.95218495\n",
      " 5.20271458 5.45324421 5.70377384]\n"
     ]
    },
    {
     "data": {
      "image/png": "[encoded data removed]",
      "text/plain": [
       "<Figure size 432x288 with 1 Axes>"
      ]
     },
     "metadata": {
      "needs_background": "light"
     },
     "output_type": "display_data"
    }
   ],
   "source": [
    "per_hist, per_bin_edges = np.histogram(np.log(planets_per1), bins=nbins)\n",
    "print(per_hist)\n",
    "print(per_bin_edges)\n",
    "plt.bar(per_bin_edges[:-1], per_hist, width = 0.2, color='#0504aa',alpha=0.7)\n",
    "plt.ylabel(\"count\")\n",
    "plt.xlabel(\"log period [days]\")\n",
    "plt.show()"
   ]
  },
  {
   "cell_type": "markdown",
   "metadata": {},
   "source": [
    "### Case 2"
   ]
  },
  {
   "cell_type": "code",
   "execution_count": 8,
   "metadata": {},
   "outputs": [
    {
     "name": "stdout",
     "output_type": "stream",
     "text": [
      "1.1170311000339714\n",
      "0.20889447103113198\n",
      "2000 [0.43355355 0.78392392 0.62982983 ... 0.81233233 0.46884885 0.57043043]\n"
     ]
    },
    {
     "data": {
      "image/png": "[encoded data removed]",
      "text/plain": [
       "<Figure size 432x288 with 2 Axes>"
      ]
     },
     "metadata": {
      "needs_background": "light"
     },
     "output_type": "display_data"
    }
   ],
   "source": [
    "# 2000 systems with five or six planets and age <2 Gyr\n",
    "# 18000 systems with one or two planets and age >2 Gyr\n",
    "# should the age distribution be a truncated version of the KDE below and above 2 Gyr? yes\n",
    "# going back and using a threshold of 1 Gyr like Berger et al 2020 b/c the proportion of young/old is more realistic\n",
    "young = berger_kepler.loc[berger_kepler.iso_age <= 1.].iso_age\n",
    "old = berger_kepler.loc[berger_kepler.iso_age > 1.].iso_age\n",
    "\n",
    "stars_age2_young_kde, stars_age2_young_cdf = run_kde(young, 2000)"
   ]
  },
  {
   "cell_type": "code",
   "execution_count": 9,
   "metadata": {},
   "outputs": [
    {
     "name": "stdout",
     "output_type": "stream",
     "text": [
      "11000 [ 10.26629405  53.72970259  40.420023   ... 190.91903706  22.63069098\n",
      "   4.4480253 ]\n",
      "[4720 1383  799  623  490  393  336  294  231  224  216  172  170  183\n",
      "  166  124  137  120  120   99]\n",
      "[  2.00017515  16.89685321  31.79353126  46.69020932  61.58688738\n",
      "  76.48356543  91.38024349 106.27692155 121.1735996  136.07027766\n",
      " 150.96695572 165.86363377 180.76031183 195.65698988 210.55366794\n",
      " 225.450346   240.34702405 255.24370211 270.14038017 285.03705822\n",
      " 299.93373628]\n"
     ]
    },
    {
     "data": {
      "image/png": "[encoded data removed]",
      "text/plain": [
       "<Figure size 432x288 with 1 Axes>"
      ]
     },
     "metadata": {
      "needs_background": "light"
     },
     "output_type": "display_data"
    }
   ],
   "source": [
    "# generate five or six planets for each of the 2000 systems --> 11000 planets\n",
    "planets_per2_young = loguniform.rvs(2, 300, size=11000)\n",
    "print(len(planets_per2_young), planets_per2_young)\n",
    "\n",
    "# histogram for 11000 planet periods\n",
    "per_hist, per_bin_edges = np.histogram(planets_per2_young, bins=nbins)\n",
    "print(per_hist)\n",
    "print(per_bin_edges)\n",
    "plt.bar(per_bin_edges[:-1], per_hist, width = 10, color='#0504aa',alpha=0.7)\n",
    "plt.ylabel(\"count\")\n",
    "plt.xlabel(\"period [days]\")\n",
    "plt.show()"
   ]
  },
  {
   "cell_type": "code",
   "execution_count": 10,
   "metadata": {},
   "outputs": [
    {
     "name": "stdout",
     "output_type": "stream",
     "text": [
      "0.16776569556283707\n",
      "0.14178034518473398\n",
      "18000 [3.05408408 4.73128128 4.59650651 ... 1.81864865 4.79118118 1.44427427]\n"
     ]
    },
    {
     "data": {
      "image/png": "[encoded data removed]",
      "text/plain": [
       "<Figure size 432x288 with 2 Axes>"
      ]
     },
     "metadata": {
      "needs_background": "light"
     },
     "output_type": "display_data"
    }
   ],
   "source": [
    "stars_age2_old_kde, stars_age2_old_cdf = run_kde(old, 18000)"
   ]
  },
  {
   "cell_type": "code",
   "execution_count": 11,
   "metadata": {},
   "outputs": [
    {
     "name": "stdout",
     "output_type": "stream",
     "text": [
      "27000 [ 8.14275623  2.71120568  3.51249185 ... 31.18871364 16.32248488\n",
      "  4.19048566]\n",
      "[11442  3421  2057  1611  1205   879   737   741   668   574   503   457\n",
      "   391   390   389   360   301   298   273   303]\n",
      "[  2.00002672  16.89954667  31.79906662  46.69858658  61.59810653\n",
      "  76.49762648  91.39714643 106.29666639 121.19618634 136.09570629\n",
      " 150.99522624 165.8947462  180.79426615 195.6937861  210.59330605\n",
      " 225.49282601 240.39234596 255.29186591 270.19138587 285.09090582\n",
      " 299.99042577]\n"
     ]
    },
    {
     "data": {
      "image/png": "[encoded data removed]",
      "text/plain": [
       "<Figure size 432x288 with 1 Axes>"
      ]
     },
     "metadata": {
      "needs_background": "light"
     },
     "output_type": "display_data"
    }
   ],
   "source": [
    "# generate one or two planets for each of the 18000 systems --> 27000 planets\n",
    "planets_per2_young = loguniform.rvs(2, 300, size=27000)\n",
    "print(len(planets_per2_young), planets_per2_young)\n",
    "\n",
    "# histogram for 27000 planet periods\n",
    "per_hist, per_bin_edges = np.histogram(planets_per2_young, bins=nbins)\n",
    "print(per_hist)\n",
    "print(per_bin_edges)\n",
    "plt.bar(per_bin_edges[:-1], per_hist, width = 10, color='#0504aa',alpha=0.7)\n",
    "plt.ylabel(\"count\")\n",
    "plt.xlabel(\"period [days]\")\n",
    "plt.show()"
   ]
  },
  {
   "cell_type": "code",
   "execution_count": null,
   "metadata": {},
   "outputs": [],
   "source": [
    "\"\"\"# age histogram for the Case 2 2000 synthetic young and 18000 synthetic old stars drawn from Berger age distribution, 2 Gyr threshold\n",
    "nbins = 20\n",
    "age_hist, age_bin_edges = np.histogram(list(stars_age2_young)+list(stars_age2_old), bins=nbins)\n",
    "print(age_hist)\n",
    "print(age_bin_edges)\n",
    "plt.bar(age_bin_edges[:-1], age_hist, width = 0.25, color='#0504aa',alpha=0.7)\n",
    "plt.ylabel(\"count\")\n",
    "plt.xlabel(\"age [Gyr]\")\n",
    "plt.show()\n",
    "\"\"\""
   ]
  },
  {
   "cell_type": "markdown",
   "metadata": {},
   "source": [
    "Why da peak so high?? As we can see below, the 1 Gyr threshold is actually closer to the 10% split than the 2 Gyr threshold. So let's fall back to that."
   ]
  },
  {
   "cell_type": "code",
   "execution_count": 12,
   "metadata": {},
   "outputs": [
    {
     "name": "stdout",
     "output_type": "stream",
     "text": [
      "2514\n",
      "17455\n",
      "0.12589513746306777\n",
      "10814\n",
      "9155\n",
      "0.5415393860483749\n",
      "1996\n",
      "11450    0.91\n",
      "2020     0.92\n",
      "11791    0.92\n",
      "16754    0.92\n",
      "919      0.92\n",
      "Name: iso_age, dtype: float64\n",
      "2000\n",
      "[1.96212212 1.11792793 1.16807808 ... 1.86182182 2.96512513 1.92033033]\n"
     ]
    }
   ],
   "source": [
    "# check percentage split of 1 Gyr age threshold vs 2 Gyr\n",
    "print(len(berger_kepler.loc[berger_kepler.iso_age <= 1.]))\n",
    "print(len(berger_kepler.loc[berger_kepler.iso_age > 1.]))\n",
    "print(2514/len(berger_kepler))\n",
    "\n",
    "print(len(berger_kepler.loc[berger_kepler.iso_age <= 2.]))\n",
    "print(len(berger_kepler.loc[berger_kepler.iso_age > 2.]))\n",
    "print(10814/len(berger_kepler))\n",
    "\n",
    "# now check what threshold yields a 10%/90% young/old split\n",
    "youngest_ten_percent = berger_kepler.iso_age.sort_values().head(int(len(berger_kepler)*(0.1))) # sort by ages and get first 10%\n",
    "print(len(youngest_ten_percent))\n",
    "print(youngest_ten_percent.tail())\n",
    "print(len(stars_age1_kde[:int(len(stars_age1_kde) * 0.1)]))\n",
    "print(stars_age1_kde[:int(len(stars_age1_kde) * 0.1)])\n"
   ]
  },
  {
   "cell_type": "markdown",
   "metadata": {},
   "source": [
    "We'll go ahead and use 1 Gyr for now; we'll know from the transit simulation work whether a compact multi rate of 12.6% is consistent with the observed Kepler sample. Tuning this to get it to reproduce Kepler observations will be one of the next few steps anyway."
   ]
  },
  {
   "cell_type": "code",
   "execution_count": 13,
   "metadata": {},
   "outputs": [
    {
     "name": "stdout",
     "output_type": "stream",
     "text": [
      "[ 397 1565 2602 3861 3825 2916 1441  716  486  453  417  372  334  216\n",
      "  167  113   69   34   13    3]\n",
      "[0.15377377 0.57058509 0.9873964  1.40420771 1.82101902 2.23783033\n",
      " 2.65464164 3.07145295 3.48826426 3.90507558 4.32188689 4.7386982\n",
      " 5.15550951 5.57232082 5.98913213 6.40594344 6.82275475 7.23956607\n",
      " 7.65637738 8.07318869 8.49      ]\n"
     ]
    },
    {
     "data": {
      "image/png": "[encoded data removed]",
      "text/plain": [
       "<Figure size 432x288 with 1 Axes>"
      ]
     },
     "metadata": {
      "needs_background": "light"
     },
     "output_type": "display_data"
    }
   ],
   "source": [
    "# age histogram for the Case 2 2000 synthetic young and 18000 synthetic old stars \n",
    "# drawn from two piecewise KDEs of the Berger age distribution\n",
    "# 1 Gyr threshold\n",
    "nbins = 20\n",
    "age_hist, age_bin_edges = np.histogram(list(stars_age2_young_kde)+list(stars_age2_old_kde), bins=nbins)\n",
    "print(age_hist)\n",
    "print(age_bin_edges)\n",
    "plt.bar(age_bin_edges[:-1], age_hist, width = 0.25, color='#0504aa',alpha=0.7)\n",
    "plt.ylabel(\"count\")\n",
    "plt.xlabel(\"age [Gyr]\")\n",
    "plt.show()"
   ]
  },
  {
   "cell_type": "code",
   "execution_count": 14,
   "metadata": {},
   "outputs": [
    {
     "name": "stdout",
     "output_type": "stream",
     "text": [
      "0.16134894568048957\n",
      "0.13801577758850292\n",
      "5158\n",
      "34842\n"
     ]
    },
    {
     "data": {
      "image/png": "[encoded data removed]",
      "text/plain": [
       "<Figure size 432x288 with 2 Axes>"
      ]
     },
     "metadata": {
      "needs_background": "light"
     },
     "output_type": "display_data"
    },
    {
     "name": "stdout",
     "output_type": "stream",
     "text": [
      "2000 18000\n"
     ]
    }
   ],
   "source": [
    "# maybe that was a bad idea to draw two separate piecewise KDEs\n",
    "# instead, let's use the same KDE from Case 1 and just draw until we get 2000 young and 18000 old stars\n",
    "def generate_rand_from_pdf_case2(pdf, x_grid, n_young, n_old):\n",
    "    cdf = np.cumsum(pdf) # create cdf\n",
    "    cdf = cdf / cdf[-1] # normalize cdf\n",
    "    values = np.random.rand(2*(n_young+n_old))\n",
    "    value_bins = np.searchsorted(cdf, values) # return positions in cdf vector where random values should go\n",
    "    random_from_cdf = x_grid[value_bins] # select x_d positions based on these random positions\n",
    "    # select 2000 young from Case 1 KDE draw\n",
    "    case2_young = [i for i in random_from_cdf if i <= 1.]\n",
    "    print(len(case2_young))\n",
    "    case2_young = random.sample(case2_young, 2000)\n",
    "    # else select old\n",
    "    case2_old = [i for i in random_from_cdf if i > 1.]\n",
    "    print(len(case2_old))\n",
    "    case2_old = random.sample(case2_old, 18000)\n",
    "    return case2_young, case2_old\n",
    "\n",
    "def run_kde_case2(data, draws):\n",
    "    hist, bins = np.histogram(data, bins=100)\n",
    "\n",
    "    x_grid = np.linspace(min(data), max(data), 1000)\n",
    "    kdepdf = kde(data, x_grid, bandwidth=0.2) # generate KDE model\n",
    "    random_from_kde_young, random_from_kde_old = generate_rand_from_pdf_case2(kdepdf, x_grid, 2000, 18000) # generate random data from KDE distribution\n",
    "    #print(len(random_from_kde), random_from_kde) # these are my star ages\n",
    "    bin_midpoints = bins[:-1] + np.diff(bins) / 2 # get positions of bin midpoints\n",
    "    random_from_cdf = generate_rand_from_pdf(hist, bin_midpoints, draws) # generate random data from the histogram\n",
    "\n",
    "    plt.subplot(121)\n",
    "    plt.hist(data, nbins, density=True, alpha=0.5, label='hist') # plot histogram of normalized data\n",
    "    plt.plot(x_grid, kdepdf, color='r', alpha=0.5, lw=3, label='kde') # plot KDE over normalized histogram\n",
    "    plt.legend()\n",
    "    plt.subplot(122)\n",
    "    plt.hist(random_from_cdf, nbins, alpha=0.5, label='from hist') # plot histogram of data drawn from OG histogram\n",
    "    plt.hist(list(random_from_kde_young)+list(random_from_kde_old), nbins, alpha=0.5, label='from kde') # plot histogram of data drawn from KDE\n",
    "    plt.legend()\n",
    "    plt.show()\n",
    "    return random_from_kde_young, random_from_kde_old\n",
    "\n",
    "stars_age2_kde_young, stars_age2_kde_old = run_kde_case2(berger_kepler.iso_age, 20000)\n",
    "print(len(stars_age2_kde_young), len(stars_age2_kde_old))"
   ]
  },
  {
   "cell_type": "code",
   "execution_count": 15,
   "metadata": {},
   "outputs": [
    {
     "name": "stdout",
     "output_type": "stream",
     "text": [
      "[ 460 1422 2839 3728 3713 2953 1469  764  508  445  385  373  295  239\n",
      "  166  107   64   40   24    6]\n",
      "[0.14       0.55164915 0.9632983  1.37494745 1.7865966  2.19824575\n",
      " 2.60989489 3.02154404 3.43319319 3.84484234 4.25649149 4.66814064\n",
      " 5.07978979 5.49143894 5.90308809 6.31473724 6.72638639 7.13803554\n",
      " 7.54968468 7.96133383 8.37298298]\n"
     ]
    },
    {
     "data": {
      "image/png": "[encoded data removed]",
      "text/plain": [
       "<Figure size 432x288 with 1 Axes>"
      ]
     },
     "metadata": {
      "needs_background": "light"
     },
     "output_type": "display_data"
    }
   ],
   "source": [
    "# age histogram for the Case 2 young and old stars, drawn from one continuous KDE fitted to Berger age distribution\n",
    "# 1 Gyr threshold\n",
    "nbins = 20\n",
    "age_hist, age_bin_edges = np.histogram(list(stars_age2_kde_young)+list(stars_age2_kde_old), bins=nbins)\n",
    "print(age_hist)\n",
    "print(age_bin_edges)\n",
    "plt.bar(age_bin_edges[:-1], age_hist, width = 0.25, color='#0504aa',alpha=0.7)\n",
    "plt.ylabel(\"count\")\n",
    "plt.xlabel(\"age [Gyr]\")\n",
    "plt.show()"
   ]
  },
  {
   "cell_type": "code",
   "execution_count": 16,
   "metadata": {
    "scrolled": true
   },
   "outputs": [
    {
     "name": "stdout",
     "output_type": "stream",
     "text": [
      "[ 487 1712 2630 3376 3497 3009 1750  775  500  414  406  368  320  267\n",
      "  161  154   86   50   30    8]\n",
      "[0.14       0.53326076 0.92652152 1.31978228 1.71304304 2.1063038\n",
      " 2.49956456 2.89282533 3.28608609 3.67934685 4.07260761 4.46586837\n",
      " 4.85912913 5.25238989 5.64565065 6.03891141 6.43217217 6.82543293\n",
      " 7.21869369 7.61195445 8.00521522]\n"
     ]
    },
    {
     "data": {
      "image/png": "[encoded data removed]",
      "text/plain": [
       "<Figure size 432x288 with 1 Axes>"
      ]
     },
     "metadata": {
      "needs_background": "light"
     },
     "output_type": "display_data"
    }
   ],
   "source": [
    "# age histogram for the Case 1 stars\n",
    "# 1 Gyr threshold\n",
    "nbins = 20\n",
    "age_hist, age_bin_edges = np.histogram(list(stars_age1_kde), bins=nbins)\n",
    "print(age_hist)\n",
    "print(age_bin_edges)\n",
    "plt.bar(age_bin_edges[:-1], age_hist, width = 0.25, color='#0504aa',alpha=0.7)\n",
    "plt.ylabel(\"count\")\n",
    "plt.xlabel(\"age [Gyr]\")\n",
    "plt.show()"
   ]
  },
  {
   "cell_type": "code",
   "execution_count": 17,
   "metadata": {},
   "outputs": [
    {
     "data": {
      "text/plain": [
       "2566"
      ]
     },
     "execution_count": 17,
     "metadata": {},
     "output_type": "execute_result"
    }
   ],
   "source": [
    "len([i for i in stars_age1_kde if i <= 1.])"
   ]
  },
  {
   "cell_type": "code",
   "execution_count": 18,
   "metadata": {},
   "outputs": [
    {
     "name": "stdout",
     "output_type": "stream",
     "text": [
      "[ 409 1918 2978 3679 3709 2930 1248  638  469  431  369  348  290  211\n",
      "  153   85   53   38    9    4]\n",
      "[0.14   0.5575 0.975  1.3925 1.81   2.2275 2.645  3.0625 3.48   3.8975\n",
      " 4.315  4.7325 5.15   5.5675 5.985  6.4025 6.82   7.2375 7.655  8.0725\n",
      " 8.49  ]\n"
     ]
    },
    {
     "data": {
      "image/png": "[encoded data removed]",
      "text/plain": [
       "<Figure size 432x288 with 1 Axes>"
      ]
     },
     "metadata": {
      "needs_background": "light"
     },
     "output_type": "display_data"
    }
   ],
   "source": [
    "# age histogram for the 20000 FGK non-binary dwarfs from Berger et al 2020a with well-constrained ages\n",
    "nbins = 20\n",
    "age_hist, age_bin_edges = np.histogram(berger_kepler.iso_age, bins=nbins)\n",
    "print(age_hist)\n",
    "print(age_bin_edges)\n",
    "plt.bar(age_bin_edges[:-1], age_hist, width = 0.25, color='#0504aa',alpha=0.7)\n",
    "plt.ylabel(\"count\")\n",
    "plt.xlabel(\"age [Gyr]\")\n",
    "plt.show()"
   ]
  },
  {
   "cell_type": "markdown",
   "metadata": {},
   "source": [
    "So there's three ways I can go about this. Do I 1) sample from 2 piecewise KDEs fit onto the <1 and >1 parts of the Berger age distribution; 2) sample generously from a single KDE on the Berger age distribution and draw however much I need from the <1 and >1 portions; or 3) just use the KDE from Case 1? Also, should I really be sampling 10%/90% if the true threshold is at 12.6%? If I do that, I'm undersampling for the already smaller young sample. And if I don't do that, then I might as well take option 3, right? <br> <br>\n",
    "\n",
    "Let's just use the synthetic stars from Case 1 for now and fall back on different sampling proportions if the transit work doesn't look right, as Sarah said."
   ]
  },
  {
   "cell_type": "markdown",
   "metadata": {},
   "source": [
    "### Transits"
   ]
  },
  {
   "cell_type": "code",
   "execution_count": 19,
   "metadata": {},
   "outputs": [
    {
     "name": "stdout",
     "output_type": "stream",
     "text": [
      "0.38690748364419597\n",
      "0.13801577758850292\n",
      "20000 [2.14046246 2.26263664 2.4138999  ... 2.73387988 2.25681882 2.10555556]\n"
     ]
    },
    {
     "data": {
      "image/png": "[encoded data removed]",
      "text/plain": [
       "<Figure size 432x288 with 2 Axes>"
      ]
     },
     "metadata": {
      "needs_background": "light"
     },
     "output_type": "display_data"
    }
   ],
   "source": [
    "stars_radius_kde, stars_radius_cdf = run_kde(berger_kepler.iso_rad, 20000)"
   ]
  },
  {
   "cell_type": "code",
   "execution_count": 72,
   "metadata": {
    "scrolled": true
   },
   "outputs": [
    {
     "name": "stdout",
     "output_type": "stream",
     "text": [
      "   star_ages                                     planet_periods  \\\n",
      "0   1.962122  [204.59450538248632, 3.1397377671766757, 52.68...   \n",
      "1   1.117928  [199.64378742080356, 2.9532227456509386, 145.9...   \n",
      "2   1.168078  [60.43059446034073, 2.0268977276345486, 2.6490...   \n",
      "3   1.995556  [145.00393202822073, 100.76237663862891, 66.50...   \n",
      "4   3.500060  [6.143625102823588, 2.588115998049048, 23.8373...   \n",
      "\n",
      "                                     semi_major_axes  midplane  \\\n",
      "0  [34.72130001186483, 2.1441849894156224, 14.054...  0.390505   \n",
      "1  [34.15889920702659, 2.05840488147465, 27.71994... -1.462813   \n",
      "2  [15.399427575886918, 1.6016018330739399, 1.914... -0.635849   \n",
      "3  [27.60068449592604, 21.653707615191347, 16.414... -1.490816   \n",
      "4  [3.3544125236789264, 1.8850483392920836, 8.282... -0.527023   \n",
      "\n",
      "        midplane_degrees                                planet_inclinations  \\\n",
      "0   [23.635341169039577]  [0.3843432353778422, 0.38314186167997166, 0.40...   \n",
      "1   [12.064516433514186]  [-1.4199980821348128, -1.477968819223665, -1.4...   \n",
      "2   [-9.669811981682471]  [-0.6484557743444324, -0.7162743933649497, -0....   \n",
      "3  [-54.317813216529004]  [-1.5048708623811768, -1.503019230575117, -1.5...   \n",
      "4    [80.19789288196134]  [-0.5830688867503254, -0.5383122676963805, -0....   \n",
      "\n",
      "                         planet_inclinations_degrees  star_radius  \\\n",
      "0  [27.619686121008012, 22.996993200306484, 20.37...     2.140462   \n",
      "1  [11.720254274014504, 10.670804235582823, 9.934...     2.262637   \n",
      "2  [-9.970279073843145, -10.460212933620436, -12....     2.413900   \n",
      "3  [-51.899866151865204, -56.90831197006678, -57....     1.768122   \n",
      "4  [79.47869538458333, 81.06001552469239, 79.6993...     1.989199   \n",
      "\n",
      "                                   impact_parameters  transit_multiplicity  \n",
      "0  [6.082220278745492, 0.3744865170470501, 2.5907...                     1  \n",
      "1  [-14.925616216770733, -0.9058205072697758, -12...                     1  \n",
      "2  [-3.852927826973028, -0.4356346350813802, -0.4...                     2  \n",
      "3  [-15.576258721708152, -12.218607915454513, -9....                     0  \n",
      "4  [-0.9284643262958953, -0.48584428112573136, -2...                     2  \n"
     ]
    }
   ],
   "source": [
    "# we use stars_age1_kde and planets_per1\n",
    "# for each system, draw the midplane from uniform distribution, then draw planets' line of transit from Gaussian\n",
    "# Case 1\n",
    "\n",
    "midplanes = []\n",
    "midplanes_degrees = []\n",
    "inclinations = []\n",
    "inclinations_degrees = []\n",
    "transit_multiplicities = []\n",
    "#planets_per_case1 = [] # maybe better to recreate it here b/c I can then generalize it for Case 2?\n",
    "sigma = np.pi/90 # two degrees, based on Fig 6 in Fabrycky 2012\n",
    "sigma_degrees = 2\n",
    "for star in stars_age1_kde:\n",
    "    # star\n",
    "    mu = np.random.uniform(-np.pi/2,np.pi/2,1) # create midplane for star\n",
    "    mu_degrees = np.random.uniform(-90,90,1) # more interpretable\n",
    "    midplanes.append(mu)\n",
    "    midplanes_degrees.append(mu_degrees)\n",
    "    \n",
    "    # planet\n",
    "    inclinations.append(np.random.normal(mu, sigma, 3)) # create impact params for planets\n",
    "    inclinations_degrees.append(np.random.normal(mu_degrees, sigma_degrees, 3)) # create impact params for planets in degrees\n",
    "    \n",
    "midplanes = np.concatenate(midplanes, axis=0) # turn list of lists of one into regular list\n",
    "\n",
    "planets_per_case1 = [planets_per1[p:p+3] for p in range(0, len(planets_per1), 3)] # reorganize list into list of lists of three\n",
    "\n",
    "planets_a1 = planets_per1**(2./3) # calculate semi-major axes based on simplified Kepler's Third Law\n",
    "planets_a_case1 = [planets_a1[a:a+3] for a in range(0, len(planets_a1), 3)] # reorganize as with periods\n",
    "\n",
    "# calculate impact parameters for 60000 planets; explode inclinations list and repeat star radius for its 3 planets\n",
    "b = (planets_a1 * np.sin(np.concatenate(inclinations, axis=0)))/np.repeat(stars_radius_kde, 3)\n",
    "\n",
    "# wrap back up into list of lists\n",
    "impact_parameters = [b[i:i+3] for i in range(0, len(b), 3)]\n",
    "\n",
    "# count number of transiting planets per star, ie. planets where |b| <= 1\n",
    "for star in impact_parameters:\n",
    "    transit_multiplicities.append(len([planet for planet in star if np.abs(planet) <= 1.]))\n",
    "\n",
    "transits_dict = {'star_ages': stars_age1_kde, 'planet_periods': planets_per_case1, 'semi_major_axes': planets_a_case1,\n",
    "                'midplane': midplanes, 'midplane_degrees': midplanes_degrees, 'planet_inclinations': inclinations,\n",
    "                 'planet_inclinations_degrees': inclinations_degrees,\n",
    "                 'star_radius': stars_radius_kde, 'impact_parameters': impact_parameters}\n",
    "transits_case1 = pd.DataFrame(transits_dict)\n",
    "\n",
    "transits_case1['transit_multiplicity'] = transit_multiplicities\n",
    "print(transits_case1.head())"
   ]
  },
  {
   "cell_type": "code",
   "execution_count": 54,
   "metadata": {
    "scrolled": false
   },
   "outputs": [
    {
     "data": {
      "image/png": "[encoded data removed]",
      "text/plain": [
       "<Figure size 432x288 with 1 Axes>"
      ]
     },
     "metadata": {
      "needs_background": "light"
     },
     "output_type": "display_data"
    }
   ],
   "source": [
    "# plot transit multiplicity \n",
    "transits_case1.transit_multiplicity.value_counts().plot(kind='bar', rot=0)\n",
    "plt.ylabel('number of systems')\n",
    "plt.xlabel('number of transiting planets')\n",
    "plt.show()"
   ]
  },
  {
   "cell_type": "code",
   "execution_count": 77,
   "metadata": {},
   "outputs": [
    {
     "name": "stdout",
     "output_type": "stream",
     "text": [
      "0        [174.16189046939772, 5.316190712653062, 35.425...\n",
      "1        [1145.7194885485865, 9.423052132506772, 766.11...\n",
      "2        [92.44486099422195, 7.049850808130413, 7.19083...\n",
      "3        [761.6807717368362, 469.92151884482166, 272.39...\n",
      "4        [7.447488850562728, 4.9704557272164855, 23.632...\n",
      "                               ...                        \n",
      "19995    [11.62545630570566, 543.2620996163434, 32.3103...\n",
      "19996    [4.377008375046236, 5.349225652250473, 17.2683...\n",
      "19997    [135.18689543045187, 7.844915565169975, 13.610...\n",
      "19998    [159.22637515724043, 13.134718175878545, 1668....\n",
      "19999    [4.657500441833198, 36.15337782353065, 50.0191...\n",
      "Length: 20000, dtype: object\n",
      "3\n"
     ]
    },
    {
     "ename": "TypeError",
     "evalue": "loop of ufunc does not support argument 0 of type numpy.ndarray which has no callable sqrt method",
     "output_type": "error",
     "traceback": [
      "\u001b[0;31m---------------------------------------------------------------------------\u001b[0m",
      "\u001b[0;31mAttributeError\u001b[0m                            Traceback (most recent call last)",
      "\u001b[0;31mAttributeError\u001b[0m: 'numpy.ndarray' object has no attribute 'sqrt'",
      "\nThe above exception was the direct cause of the following exception:\n",
      "\u001b[0;31mTypeError\u001b[0m                                 Traceback (most recent call last)",
      "\u001b[0;32m<ipython-input-77-212f308cd2f6>\u001b[0m in \u001b[0;36m<module>\u001b[0;34m\u001b[0m\n\u001b[1;32m      5\u001b[0m \u001b[0mprint\u001b[0m\u001b[0;34m(\u001b[0m\u001b[0msqrt_arg\u001b[0m\u001b[0;34m)\u001b[0m\u001b[0;34m\u001b[0m\u001b[0;34m\u001b[0m\u001b[0m\n\u001b[1;32m      6\u001b[0m \u001b[0mprint\u001b[0m\u001b[0;34m(\u001b[0m\u001b[0mlen\u001b[0m\u001b[0;34m(\u001b[0m\u001b[0msqrt_arg\u001b[0m\u001b[0;34m[\u001b[0m\u001b[0;36m0\u001b[0m\u001b[0;34m]\u001b[0m\u001b[0;34m)\u001b[0m\u001b[0;34m)\u001b[0m\u001b[0;34m\u001b[0m\u001b[0;34m\u001b[0m\u001b[0m\n\u001b[0;32m----> 7\u001b[0;31m \u001b[0mtransit_duration\u001b[0m \u001b[0;34m=\u001b[0m \u001b[0;34m(\u001b[0m\u001b[0mtransits_case1\u001b[0m\u001b[0;34m.\u001b[0m\u001b[0mplanet_periods\u001b[0m\u001b[0;34m/\u001b[0m\u001b[0mnp\u001b[0m\u001b[0;34m.\u001b[0m\u001b[0mpi\u001b[0m\u001b[0;34m)\u001b[0m \u001b[0;34m*\u001b[0m \u001b[0;34m(\u001b[0m\u001b[0mnp\u001b[0m\u001b[0;34m.\u001b[0m\u001b[0marcsin\u001b[0m\u001b[0;34m(\u001b[0m\u001b[0mnp\u001b[0m\u001b[0;34m.\u001b[0m\u001b[0msqrt\u001b[0m\u001b[0;34m(\u001b[0m\u001b[0msqrt_arg\u001b[0m\u001b[0;34m)\u001b[0m\u001b[0;34m)\u001b[0m\u001b[0;34m/\u001b[0m\u001b[0mtransits_case1\u001b[0m\u001b[0;34m.\u001b[0m\u001b[0msemi_major_axes\u001b[0m\u001b[0;34m)\u001b[0m\u001b[0;34m\u001b[0m\u001b[0;34m\u001b[0m\u001b[0m\n\u001b[0m\u001b[1;32m      8\u001b[0m \u001b[0;34m\u001b[0m\u001b[0m\n\u001b[1;32m      9\u001b[0m \u001b[0;31m# plot histogram of distribution of xi's across all systems\u001b[0m\u001b[0;34m\u001b[0m\u001b[0;34m\u001b[0m\u001b[0;34m\u001b[0m\u001b[0m\n",
      "\u001b[0;32m~/anaconda2/lib/python3.6/site-packages/pandas/core/series.py\u001b[0m in \u001b[0;36m__array_ufunc__\u001b[0;34m(self, ufunc, method, *inputs, **kwargs)\u001b[0m\n\u001b[1;32m    724\u001b[0m \u001b[0;34m\u001b[0m\u001b[0m\n\u001b[1;32m    725\u001b[0m         \u001b[0minputs\u001b[0m \u001b[0;34m=\u001b[0m \u001b[0mtuple\u001b[0m\u001b[0;34m(\u001b[0m\u001b[0mextract_array\u001b[0m\u001b[0;34m(\u001b[0m\u001b[0mx\u001b[0m\u001b[0;34m,\u001b[0m \u001b[0mextract_numpy\u001b[0m\u001b[0;34m=\u001b[0m\u001b[0;32mTrue\u001b[0m\u001b[0;34m)\u001b[0m \u001b[0;32mfor\u001b[0m \u001b[0mx\u001b[0m \u001b[0;32min\u001b[0m \u001b[0minputs\u001b[0m\u001b[0;34m)\u001b[0m\u001b[0;34m\u001b[0m\u001b[0;34m\u001b[0m\u001b[0m\n\u001b[0;32m--> 726\u001b[0;31m         \u001b[0mresult\u001b[0m \u001b[0;34m=\u001b[0m \u001b[0mgetattr\u001b[0m\u001b[0;34m(\u001b[0m\u001b[0mufunc\u001b[0m\u001b[0;34m,\u001b[0m \u001b[0mmethod\u001b[0m\u001b[0;34m)\u001b[0m\u001b[0;34m(\u001b[0m\u001b[0;34m*\u001b[0m\u001b[0minputs\u001b[0m\u001b[0;34m,\u001b[0m \u001b[0;34m**\u001b[0m\u001b[0mkwargs\u001b[0m\u001b[0;34m)\u001b[0m\u001b[0;34m\u001b[0m\u001b[0;34m\u001b[0m\u001b[0m\n\u001b[0m\u001b[1;32m    727\u001b[0m \u001b[0;34m\u001b[0m\u001b[0m\n\u001b[1;32m    728\u001b[0m         \u001b[0mname\u001b[0m \u001b[0;34m=\u001b[0m \u001b[0mnames\u001b[0m\u001b[0;34m[\u001b[0m\u001b[0;36m0\u001b[0m\u001b[0;34m]\u001b[0m \u001b[0;32mif\u001b[0m \u001b[0mlen\u001b[0m\u001b[0;34m(\u001b[0m\u001b[0mset\u001b[0m\u001b[0;34m(\u001b[0m\u001b[0mnames\u001b[0m\u001b[0;34m)\u001b[0m\u001b[0;34m)\u001b[0m \u001b[0;34m==\u001b[0m \u001b[0;36m1\u001b[0m \u001b[0;32melse\u001b[0m \u001b[0;32mNone\u001b[0m\u001b[0;34m\u001b[0m\u001b[0;34m\u001b[0m\u001b[0m\n",
      "\u001b[0;31mTypeError\u001b[0m: loop of ufunc does not support argument 0 of type numpy.ndarray which has no callable sqrt method"
     ]
    }
   ],
   "source": [
    "# calculate xi = (transit duration of planet 1 divided by p1^1/3) / (transit duration of planet 2 divided by p2^1/3)\n",
    "# where transit duration = P/pi * arcsin(sqrt((R* + Rp)^2 - (b R*)^2) / a)\n",
    "# Rp placeholder of 1% stellar radius\n",
    "sqrt_arg = (transits_case1.star_radius + 0.01 * transits_case1.star_radius)**2 + (transits_case1.impact_parameters * transits_case1.star_radius)**2\n",
    "print(sqrt_arg)\n",
    "transit_duration = (transits_case1.planet_periods/np.pi) * (np.arcsin(np.sqrt(sqrt_arg))/transits_case1.semi_major_axes)\n",
    "\n",
    "# plot histogram of distribution of xi's across all systems"
   ]
  },
  {
   "cell_type": "code",
   "execution_count": null,
   "metadata": {},
   "outputs": [],
   "source": [
    "# calculate xi = (transit duration of planet 1 divided by p1^1/3) / (transit duration of planet 2 divided by p2^1/3)\n",
    "# where transit duration = P/pi * arcsin(sqrt((R* + Rp)^2 - (b R*)^2) / a)\n",
    "sqrt_arg = (transits_case1.star_radius + ???)**2 + (transits_case1.impact_parameters * transits_case1.star_radius)**2\n",
    "transit_duration = (transits_case1.planets_per_case1/np.pi) * (np.arcsin(np.sqrt(sqrt_arg))/transits_case1.planets_a_case1)\n",
    "\n",
    "# plot histogram of distribution of xi's across all systems"
   ]
  },
  {
   "cell_type": "code",
   "execution_count": 69,
   "metadata": {},
   "outputs": [
    {
     "name": "stdout",
     "output_type": "stream",
     "text": [
      "   star_ages                                     planet_periods  \\\n",
      "0   1.962122  [4.400283751630219, 21.901993391631322, 236.30...   \n",
      "1   1.117928  [285.457927809775, 43.07693785152397, 209.2328...   \n",
      "2   1.168078  [9.047219304338087, 15.235170825720125, 24.298...   \n",
      "3   1.995556  [12.383759596312162, 9.754524651831439, 19.836...   \n",
      "4   3.500060            [86.01662458457386, 107.39863050208534]   \n",
      "\n",
      "                                     semi_major_axes  midplane  \\\n",
      "0  [2.6852648183383208, 7.828089139657009, 38.222... -1.416959   \n",
      "1  [43.35389012057561, 12.28843422169448, 35.2441...  0.313153   \n",
      "2  [4.34186929076054, 6.145608428393084, 8.389140...  0.683209   \n",
      "3  [5.352643777195924, 4.565314914142445, 7.32784... -1.263523   \n",
      "4            [19.48595061201529, 22.594314121431125] -0.191455   \n",
      "\n",
      "        midplane_degrees                                planet_inclinations  \\\n",
      "0   [-5.550771500514443]  [-1.4481981124381536, -1.4127672804663685, -1....   \n",
      "1     [72.4435085193468]  [0.33159621921600474, 0.3290508336968472, 0.27...   \n",
      "2    [9.743509523136638]  [0.6749644165793102, 0.7195859061019114, 0.641...   \n",
      "3  [-17.799444239467377]  [-1.2645002074285476, -1.2405414151075658, -1....   \n",
      "4   [-71.64962158380659]         [-0.2001805280137778, -0.2566082029698821]   \n",
      "\n",
      "                         planet_inclinations_degrees  star_radius  \\\n",
      "0  [-7.593316722810497, -2.638177693271796, -2.48...     2.140462   \n",
      "1  [71.69260431010301, 77.18640069255737, 70.5554...     2.262637   \n",
      "2  [9.16884713743642, 10.921688549667076, 12.4938...     2.413900   \n",
      "3  [-16.88764932156979, -17.764875468609596, -18....     1.768122   \n",
      "4           [-69.35433094605956, -72.18072007864315]     1.989199   \n",
      "\n",
      "                                   impact_parameters  transit_multiplicity  \n",
      "0  [-1.358279311064513, -3.9398904711437166, -19....                     0  \n",
      "1  [12.625121787945785, 3.552058348356484, 8.4264...                     0  \n",
      "2  [2.322705905091626, 3.467581908024751, 4.29495...                     0  \n",
      "3  [-2.557440868729045, -2.1641111229472836, -3.4...                     0  \n",
      "4         [-1.1070405299824455, -1.6383907028532745]                     0  \n"
     ]
    }
   ],
   "source": [
    "# we use stars_age1_kde and planets_per1\n",
    "# for each system, draw the midplane from uniform distribution, then draw planets' line of transit from Gaussian\n",
    "# Case 2\n",
    "\n",
    "midplanes = []\n",
    "midplanes_degrees = []\n",
    "inclinations = []\n",
    "inclinations_degrees = []\n",
    "planets_per_case2 = [] # maybe better to recreate it here b/c I can then generalize it for Case 2?\n",
    "planets_a_case2 = []\n",
    "star_radius = []\n",
    "impact_parameters = []\n",
    "transit_multiplicities = []\n",
    "sigma = np.pi/90 # two degrees, based on Fig 6 in Fabrycky 2012\n",
    "sigma_degrees = 2\n",
    "\n",
    "for r_star in stars_age1_kde:\n",
    "    # star\n",
    "    mu = np.random.uniform(-np.pi/2,np.pi/2,1) # create midplane for star\n",
    "    mu_degrees = np.random.uniform(-90,90,1) # more interpretable\n",
    "    midplanes.append(mu)\n",
    "    midplanes_degrees.append(mu_degrees)\n",
    "    \n",
    "    # planet\n",
    "    if r_star <= 1.:\n",
    "        num_planets = random.choice([5, 6]) # young system has 5 or 6 planets\n",
    "        \n",
    "        # draw 5 or 6 planet periods from loguniform distribution\n",
    "        planet_per_case2 = loguniform.rvs(2, 300, size=num_planets) \n",
    "        planets_per_case2.append(planet_per_case2) \n",
    "        \n",
    "        # incliations for impact parameter formula\n",
    "        inclination = np.random.normal(mu, sigma, num_planets) # need this for later\n",
    "        inclinations.append(inclination) \n",
    "        inclinations_degrees.append(np.random.normal(mu_degrees, sigma_degrees, num_planets)) \n",
    "        \n",
    "        # semi-major axes\n",
    "        planet_a_case2 = planet_per_case2**(2./3) # calculate semi-major axes based on simplified Kepler's Third Law\n",
    "        planets_a_case2.append(planet_a_case2) \n",
    "    \n",
    "        # calculate impact parameters\n",
    "        b = (planet_a_case2 * np.sin(inclination))/r_star\n",
    "        impact_parameters.append(b)\n",
    "\n",
    "        # transit check based on impact parameters\n",
    "        transit_multiplicities.append(len([param for param in b if np.abs(param) <= 1.]))\n",
    "        \n",
    "    elif r_star > 1.:\n",
    "        num_planets = random.choice([2, 3]) # old system has 1 or 2 planets\n",
    "        \n",
    "        # draw 1 or 2 planet periods from loguniform distribution\n",
    "        planet_per_case2 = loguniform.rvs(2, 300, size=num_planets)\n",
    "        planets_per_case2.append(planet_per_case2) # draw 5 or 6 planet periods from loguniform distribution\n",
    "        \n",
    "        # inclinations for impact parameter formula\n",
    "        inclination = np.random.normal(mu, sigma, num_planets) # need this for later\n",
    "        inclinations.append(inclination)\n",
    "        inclinations_degrees.append(np.random.normal(mu_degrees, sigma_degrees, num_planets)) \n",
    "        \n",
    "        # semi-major axes\n",
    "        planet_a_case2 = planet_per_case2**(2./3) # calculate semi-major axes based on simplified Kepler's Third Law\n",
    "        planets_a_case2.append(planet_a_case2) \n",
    "        \n",
    "        # calculate impact parameters\n",
    "        b = (planet_a_case2 * np.sin(inclination))/r_star\n",
    "        impact_parameters.append(b)\n",
    "\n",
    "        # transit check based on impact parameters\n",
    "        transit_multiplicities.append(len([param for param in b if np.abs(param) <= 1.]))\n",
    "    \n",
    "midplanes = np.concatenate(midplanes, axis=0) # turn list of lists of one into regular list\n",
    "\n",
    "\n",
    "transits_dict = {'star_ages': stars_age1_kde, 'planet_periods': planets_per_case2, 'semi_major_axes': planets_a_case2,\n",
    "                'midplane': midplanes, 'midplane_degrees': midplanes_degrees, 'planet_inclinations': inclinations,\n",
    "                 'planet_inclinations_degrees': inclinations_degrees, 'star_radius': stars_radius_kde, \n",
    "                 'impact_parameters': impact_parameters, 'transit_multiplicity': transit_multiplicities}\n",
    "\n",
    "transits_case2 = pd.DataFrame(transits_dict)\n",
    "print(transits_case2.head())"
   ]
  },
  {
   "cell_type": "code",
   "execution_count": 68,
   "metadata": {},
   "outputs": [
    {
     "data": {
      "image/png": "[encoded data removed]",
      "text/plain": [
       "<Figure size 432x288 with 1 Axes>"
      ]
     },
     "metadata": {
      "needs_background": "light"
     },
     "output_type": "display_data"
    }
   ],
   "source": [
    "# plot transit multiplicity \n",
    "transits_case2.transit_multiplicity.value_counts().plot(kind='bar', rot=0)\n",
    "plt.ylabel('number of systems')\n",
    "plt.xlabel('number of transiting planets')\n",
    "plt.show()"
   ]
  },
  {
   "cell_type": "code",
   "execution_count": null,
   "metadata": {},
   "outputs": [],
   "source": []
  }
 ],
 "metadata": {
  "kernelspec": {
   "display_name": "Python 3",
   "language": "python",
   "name": "python3"
  },
  "language_info": {
   "codemirror_mode": {
    "name": "ipython",
    "version": 3
   },
   "file_extension": ".py",
   "mimetype": "text/x-python",
   "name": "python",
   "nbconvert_exporter": "python",
   "pygments_lexer": "ipython3",
   "version": "3.6.8"
  }
 },
 "nbformat": 4,
 "nbformat_minor": 2
}
