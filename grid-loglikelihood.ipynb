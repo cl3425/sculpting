{
 "cells": [
  {
   "cell_type": "code",
   "execution_count": 1,
   "metadata": {},
   "outputs": [
    {
     "data": {
      "text/plain": [
       "'3.9.0 | packaged by conda-forge | (default, Oct 14 2020, 22:56:29) \\n[Clang 10.0.1 ]'"
      ]
     },
     "execution_count": 1,
     "metadata": {},
     "output_type": "execute_result"
    }
   ],
   "source": [
    "import sys\n",
    "sys.version"
   ]
  },
  {
   "cell_type": "code",
   "execution_count": 2,
   "metadata": {},
   "outputs": [],
   "source": [
    "import json\n",
    "import sys\n",
    "import numpy as np\n",
    "from numpy import log, exp, pi\n",
    "import pandas as pd\n",
    "import scipy\n",
    "import random\n",
    "from scipy.stats import gaussian_kde, loguniform\n",
    "from math import lgamma\n",
    "from glob import glob\n",
    "import os\n",
    "import seaborn as sns\n",
    "import matplotlib as mpl\n",
    "import matplotlib.pyplot as plt\n",
    "%matplotlib inline\n",
    "\n",
    "path = '/Users/chris/Desktop/sculpting/'"
   ]
  },
  {
   "cell_type": "markdown",
   "metadata": {},
   "source": [
    "Use Kepler Berger et al 2020 data crossmatched with Gaia courtesy of Bedell's gaia-kepler.fun to read in resulting transit multiplicity, as well as stellar radius KDE so that that parameter can be drawn from a somewhat informed distribution. "
   ]
  },
  {
   "cell_type": "code",
   "execution_count": 3,
   "metadata": {},
   "outputs": [
    {
     "name": "stdout",
     "output_type": "stream",
     "text": [
      "19969\n",
      "    kepid           tm_designation  teff  teff_err1  teff_err2   logg  \\\n",
      "0  757280  2MASS J19242289+3633538  6543      162.0     -194.0  4.082   \n",
      "1  892667  2MASS J19243045+3637186  6609      159.0     -227.0  4.105   \n",
      "2  892678  2MASS J19243108+3638316  6137      167.0     -186.0  3.936   \n",
      "3  892713  2MASS J19243353+3637220  6106      186.0     -186.0  3.854   \n",
      "4  892828  2MASS J19243904+3637166  6691      188.0     -235.0  4.134   \n",
      "\n",
      "   logg_err1  logg_err2  feh_x  feh_err1  ...  parallax  parallax_err  feh_y  \\\n",
      "0      0.258     -0.172  -0.24      0.25  ...    1.2137        0.0220    NaN   \n",
      "1      0.246     -0.164  -0.26      0.25  ...    0.8512        0.0154    NaN   \n",
      "2      0.428     -0.143  -0.26      0.30  ...    1.0236        0.0259    NaN   \n",
      "3      0.496     -0.124  -0.24      0.30  ...    0.9602        0.0231    NaN   \n",
      "4      0.209     -0.171  -0.26      0.25  ...    0.9660        0.0143    NaN   \n",
      "\n",
      "   feh_err    RUWE  num_gaia_companions  Kmag_final_prov  evstate      logR  \\\n",
      "0      NaN  0.8704                    0              NaN      NaN  0.416641   \n",
      "1      NaN  0.8674                    0              NaN      NaN  0.337060   \n",
      "2      NaN  0.9852                    1       BinaryCorr      NaN  0.529174   \n",
      "3      NaN  0.9872                    1       BinaryCorr      NaN  0.561578   \n",
      "4      NaN  1.0867                    1       BinaryCorr      NaN  0.273001   \n",
      "\n",
      "   is_giant  \n",
      "0     False  \n",
      "1     False  \n",
      "2     False  \n",
      "3     False  \n",
      "4     False  \n",
      "\n",
      "[5 rows x 141 columns]\n"
     ]
    },
    {
     "name": "stderr",
     "output_type": "stream",
     "text": [
      "/Users/chris/anaconda2/envs/sculpting/lib/python3.9/site-packages/IPython/core/interactiveshell.py:3146: DtypeWarning: Columns (138) have mixed types.Specify dtype option on import or set low_memory=False.\n",
      "  has_raised = await self.run_ast_nodes(code_ast.body, cell_name,\n"
     ]
    }
   ],
   "source": [
    "berger_kepler = pd.read_csv('berger_kepler_stellar17.csv') # crossmatched with Gaia via Bedell\n",
    "print(len(berger_kepler))\n",
    "print(berger_kepler.head())"
   ]
  },
  {
   "cell_type": "code",
   "execution_count": 4,
   "metadata": {},
   "outputs": [
    {
     "name": "stdout",
     "output_type": "stream",
     "text": [
      "1.0    89\n",
      "2.0    30\n",
      "3.0    21\n",
      "4.0    16\n",
      "5.0     5\n",
      "Name: pl_pnum, dtype: int64\n"
     ]
    },
    {
     "name": "stderr",
     "output_type": "stream",
     "text": [
      "/Users/chris/anaconda2/envs/sculpting/lib/python3.9/site-packages/IPython/core/interactiveshell.py:3146: DtypeWarning: Columns (138) have mixed types.Specify dtype option on import or set low_memory=False.\n",
      "  has_raised = await self.run_ast_nodes(code_ast.body, cell_name,\n"
     ]
    }
   ],
   "source": [
    "# transit multiplicity from Kepler/Gaia Berger et al 2020/Bedell to compare our models against\n",
    "pnum = pd.read_csv(path+'pnum.csv')\n",
    "k = pnum.pl_pnum.value_counts() \n",
    "print(k)"
   ]
  },
  {
   "cell_type": "code",
   "execution_count": 5,
   "metadata": {},
   "outputs": [
    {
     "name": "stdout",
     "output_type": "stream",
     "text": [
      "0.16134894568048894\n",
      "0.13801577758850292\n",
      "20000 [1.91197197 1.30181181 0.75016016 ... 1.33524525 3.7926026  1.07613614]\n"
     ]
    },
    {
     "data": {
      "image/png": "[encoded data removed]",
      "text/plain": [
       "<Figure size 432x288 with 2 Axes>"
      ]
     },
     "metadata": {
      "needs_background": "light"
     },
     "output_type": "display_data"
    },
    {
     "name": "stdout",
     "output_type": "stream",
     "text": [
      "[1.91197197 1.30181181 0.75016016 ... 1.33524525 3.7926026  1.07613614]\n"
     ]
    }
   ],
   "source": [
    "# courtesy of https://stackoverflow.com/questions/17821458/random-number-from-histogram\n",
    "\n",
    "def generate_rand_from_pdf(pdf, x_grid, n):\n",
    "    cdf = np.cumsum(pdf) # create cdf\n",
    "    cdf = cdf / cdf[-1] # normalize cdf\n",
    "    values = np.random.rand(n) \n",
    "    value_bins = np.searchsorted(cdf, values) # return positions in cdf vector where random values should go\n",
    "    random_from_cdf = x_grid[value_bins] # select x_d positions based on these random positions\n",
    "    return random_from_cdf\n",
    "\n",
    "def kde(x, x_grid, bandwidth):\n",
    "    \"\"\"Kernel Density Estimation with Scipy\"\"\"\n",
    "    #kde = gaussian_kde(x, bw_method=bandwidth / x.std(ddof=0)) # ddof=1 means std divisor is N-1 instead of N\n",
    "    #kde = gaussian_kde(x, bw_method=np.power(len(x), -0.2)) # ddof=1 means std divisor is N-1 instead of N\n",
    "    kde = gaussian_kde(x, bw_method=0.15) # constant bandwidth so imbalance in sample size doesn't drive distribution\n",
    "    print(bandwidth/x.std(ddof=1)) # this is bw used in S/O\n",
    "    print(np.power(len(x), -0.2)) # the bw if I use Scott's factor as the bw to multiply with covariance matrix\n",
    "    return kde.evaluate(x_grid)\n",
    "\n",
    "#kdepdf = kde(x, x_d, bandwidth=0.1) # generate KDE model\n",
    "#random_from_kde = generate_rand_from_pdf(kdepdf, x_d) # generate random data from KDE distribution\n",
    "\n",
    "nbins = 20\n",
    "def run_kde(data, draws):\n",
    "    hist, bins = np.histogram(data, bins=100)\n",
    "\n",
    "    x_grid = np.linspace(min(data), max(data), 1000)\n",
    "    kdepdf = kde(data, x_grid, bandwidth=0.2) # generate KDE model\n",
    "    random_from_kde = generate_rand_from_pdf(kdepdf, x_grid, draws) # generate random data from KDE distribution\n",
    "    print(len(random_from_kde), random_from_kde) # these are my star ages\n",
    "    bin_midpoints = bins[:-1] + np.diff(bins) / 2 # get positions of bin midpoints\n",
    "    random_from_cdf = generate_rand_from_pdf(hist, bin_midpoints, draws) # generate random data from the histogram\n",
    "\n",
    "    plt.subplot(121)\n",
    "    plt.hist(data, nbins, density=True, alpha=0.5, label='hist') # plot histogram of normalized data\n",
    "    plt.plot(x_grid, kdepdf, color='r', alpha=0.5, lw=3, label='kde') # plot KDE over normalized histogram\n",
    "    plt.legend()\n",
    "    plt.subplot(122)\n",
    "    plt.hist(random_from_cdf, nbins, alpha=0.5, label='from hist') # plot histogram of data drawn from OG histogram\n",
    "    plt.hist(random_from_kde, nbins, alpha=0.5, label='from kde') # plot histogram of data drawn from KDE\n",
    "    plt.legend()\n",
    "    plt.show()\n",
    "    return random_from_kde, random_from_cdf\n",
    "    \n",
    "stars_age1_kde, stars_radius_cdf = run_kde(berger_kepler.iso_age, 20000)\n",
    "print(stars_age1_kde)"
   ]
  },
  {
   "cell_type": "markdown",
   "metadata": {},
   "source": [
    "Read in model-derived synthetic data from synthetic-posteriors.ipynb and define key functions for pymultinest"
   ]
  },
  {
   "cell_type": "code",
   "execution_count": null,
   "metadata": {},
   "outputs": [],
   "source": [
    "\"\"\"\n",
    "# get file names and order by time of file creation\n",
    "file_names = sorted(glob(path+'continuous_models/proper_inclinations2/transit_data_*.csv'), key=os.path.getmtime)\n",
    "print(len(file_names[0:3]))\n",
    "\n",
    "# create dfs as part of a dict\n",
    "#dfs = {i: pd.read_csv(path+'continuous_models/proper_inclinations/transit_data_'+str(i)+'.csv', \n",
    "#                      converters={'transit_status': eval, \n",
    "#                                  'planet_inclinations': eval}) for i in range(len(file_names))}\n",
    "\n",
    "# create dfs as part of a dict\n",
    "dfs = {i: pd.read_csv(path+'continuous_models/proper_inclinations2/transit_data_'+str(i)+'.csv', \n",
    "                      converters={'transit_status': eval, \n",
    "                                  'planet_inclinations': eval,\n",
    "                                 'planet_inclinations_degrees': eval,\n",
    "                                 'midplane_inclinations_degrees': eval}) for i in range(len(file_names))}\n",
    "\"\"\""
   ]
  },
  {
   "cell_type": "markdown",
   "metadata": {},
   "source": [
    "Define key functions for simulations and pymultinest"
   ]
  },
  {
   "cell_type": "code",
   "execution_count": 6,
   "metadata": {},
   "outputs": [],
   "source": [
    "def transit_duration(P, r_star, r_planet, b, a, inc): # Winn 2011 Eqn 14\n",
    "    #print(\"b: \", b)\n",
    "    #print(\"inc: \", inc)\n",
    "    #print(\"radius ratio: \", r_planet/r_star)\n",
    "    arg1 = np.sqrt((1+(r_planet/r_star))**2 - b**2)\n",
    "    #print(\"arg1: \", arg1)\n",
    "    #print(arg1 / np.sin(np.pi/2 - inc))\n",
    "    arg2 = (r_star / np.array(a)) * (arg1 / np.sin(np.pi/2 - np.array(inc))) # was sin(i) but need to adjust for different index\n",
    "    return (np.array(P) / np.pi) * np.arcsin(arg2)\n",
    "\n",
    "def transit_duration_paw(P, r_star, r_planet, b, a, inc): \n",
    "    # https://www.paulanthonywilson.com/exoplanets/exoplanet-detection-techniques/the-exoplanet-transit-method/\n",
    "    arg1 = np.sqrt((1+(r_planet/r_star))**2 - b**2)\n",
    "    arg2 = (r_star / a) * arg1 # the only difference is I don't divide by sin(i)\n",
    "    return (P / np.pi) * np.arcsin(arg2)\n",
    "    \n",
    "def transit_duration_normalized_fab(P, r_star, r_planet, b): # Fabrycky 2012 unnamed eqn at the end of pg 8\n",
    "    arg1 = np.sqrt((1+(r_planet/r_star))**2 - b**2)\n",
    "    return 2 * arg1 * r_star / (P**(-1./3))\n",
    "    \n",
    "def calculate_xi(tdur1, tdur2, P1, P2): # Fabrycky 2012 Eqn 1\n",
    "    arg1 = tdur1/(P1**(1./3))\n",
    "    arg2 = tdur2/(P2**(1./3))\n",
    "    return arg1 / arg2\n",
    "\n",
    "def day_to_year(per):\n",
    "    return per/365.24 \n",
    "\n",
    "def solar_radius_to_au(radius):\n",
    "    return 0.00465047*radius\n",
    "\n",
    "def earth_radius_to_au(radius):\n",
    "    return 4.26352e-5*radius\n",
    "\n",
    "def sim_transits_old(r_star, num_planets, mu, sigma, r_planet, age_star):\n",
    "    \"\"\"\n",
    "    In a loop of stellar radii: draw number of planets and their periods, draw midplane for the system, \n",
    "    draw inclination from the midplane for each planet, convert period to a, calculate impact parameter b, \n",
    "    calculate transit duration, calculate normalized transit duration xi (aka mutual inclination proxy),\n",
    "    classify each planet as transiting or not\n",
    "    \n",
    "    Parameters\n",
    "    ----------\n",
    "    r_star: radius of the star\n",
    "    num_planets: number of planets sampled based on stellar age check\n",
    "    mu: planetary disk midplane in radians\n",
    "    sigma: sigma used in drawing planet inclinations from around the midplane\n",
    "    r_planet: radius of the planet\n",
    "    age_star: age of the star\n",
    "    \n",
    "    Returns\n",
    "    -------\n",
    "    None: populates a bunch of different lists set up before the loop in which function is called,\n",
    "    including those for inclination, period, semi-major axis, impact parameter, and transit duration\n",
    "    \n",
    "    \"\"\"\n",
    "    \n",
    "    # draw planet periods from loguniform distribution according to num_planets\n",
    "    planet_per_case2 = list(loguniform.rvs(2, 300, size=num_planets)) \n",
    "    planets_per_case2.append(planet_per_case2) \n",
    "\n",
    "    # inclinations for impact parameter formula\n",
    "    inclination = list(np.random.normal(mu, sigma, num_planets)) # need this for later\n",
    "    inclinations.append(inclination) \n",
    "    inclinations_degrees.append([inc*180/np.pi for inc in inclination]) \n",
    "\n",
    "    # semi-major axes based on Kepler's Third Law\n",
    "    planet_a_case2 = [day_to_year(ppc2)**(2./3) for ppc2 in planet_per_case2]\n",
    "    planets_a_case2.append(planet_a_case2) \n",
    "    \n",
    "    # calculate impact parameters\n",
    "    b = (planet_a_case2 * np.sin(inclination))/r_star\n",
    "    impact_parameters.append(list(b))\n",
    "\n",
    "    # calculate transit durations using Winn 2011 formula\n",
    "    tdur = transit_duration([day_to_year(ppc2) for ppc2 in planet_per_case2], solar_radius_to_au(r_star), \n",
    "                            solar_radius_to_au(r_planet), b, planet_a_case2, inclination)\n",
    "    \n",
    "    \"\"\"\n",
    "    ### calculate xi for the system\n",
    "    # periods and tdurs already match, so divide them to get normalized tdurs\n",
    "    tdur_normalized = tdur/(day_to_year(planet_per_case2)**(1./3))\n",
    "\n",
    "    # make sure I keep info on which tdur_normalized corresponds with which planet\n",
    "    temp = pd.DataFrame({'period': planet_per_case2, 'tdur_normalized': tdur_normalized})\n",
    "    temp = temp.dropna()\n",
    "\n",
    "    # guarantee that xi will always have normalized transit durations of inner planet in numerator \n",
    "    temp = temp.sort_values(by='period') \n",
    "    #print(temp)\n",
    "    tdur_normalized_combos = list(itertools.combinations(temp.tdur_normalized,2))\n",
    "    #print(\"combos: \", tdur_normalized_combos)\n",
    "\n",
    "    for combo in tdur_normalized_combos:\n",
    "        xi.append(combo[0]/combo[1])\n",
    "        if age_star <= 1.:\n",
    "            xi_young.append(combo[0]/combo[1])\n",
    "        elif age_star > 1:\n",
    "            xi_old.append(combo[0]/combo[1])\n",
    "    \"\"\"\n",
    "\n",
    "    # note individual planets' transit status\n",
    "    transit_status.append([1 if np.abs(param) <= 1. else 0 for param in b])\n",
    "\n",
    "    # transit check based on impact parameters\n",
    "    transit_multiplicities.append(len([param for param in b if np.abs(param) <= 1.]))\n",
    "    \n",
    "def sim_transits(r_star, num_planets, mu, sigma, r_planet, age_star, planets_per_case2,\n",
    "    planets_a_case2, inclinations, inclinations_degrees, impact_parameters, transit_status,\n",
    "    transit_multiplicities):\n",
    "    \"\"\"\n",
    "    In a loop of stellar radii: draw number of planets and their periods, draw midplane for the system, \n",
    "    draw inclination from the midplane for each planet, convert period to a, calculate impact parameter b, \n",
    "    calculate transit duration, calculate normalized transit duration xi (aka mutual inclination proxy),\n",
    "    classify each planet as transiting or not\n",
    "    \n",
    "    Parameters\n",
    "    ----------\n",
    "    r_star: radius of the star\n",
    "    num_planets: number of planets sampled based on stellar age check\n",
    "    mu: planetary disk midplane in radians\n",
    "    sigma: sigma used in drawing planet inclinations from around the midplane\n",
    "    r_planet: radius of the planet\n",
    "    age_star: age of the star\n",
    "\n",
    "    possible **kwargs are empty arrays:\n",
    "    planets_per_case2\n",
    "    inclinations\n",
    "    inclinations_degrees\n",
    "    planets_a_case2\n",
    "    impact_parameters\n",
    "    transit_status\n",
    "    transit_multiplicities\n",
    "    \n",
    "    Returns\n",
    "    -------\n",
    "    None: populates a bunch of different lists set up before the loop in which function is called,\n",
    "    including those for inclination, period, semi-major axis, impact parameter, and transit duration\n",
    "    \n",
    "    \"\"\"\n",
    "\n",
    "    # draw planet periods from loguniform distribution according to num_planets\n",
    "    planet_per_case2 = list(loguniform.rvs(2, 300, size=num_planets)) \n",
    "    planets_per_case2.append(planet_per_case2) \n",
    "\n",
    "    # inclinations for impact parameter formula\n",
    "    inclination = list(np.random.normal(mu, sigma, num_planets)) # need this for later\n",
    "    inclinations.append(inclination) \n",
    "    inclinations_degrees.append([inc*180/np.pi for inc in inclination]) \n",
    "\n",
    "    # semi-major axes based on Kepler's Third Law\n",
    "    planet_a_case2 = [day_to_year(ppc2)**(2./3) for ppc2 in planet_per_case2]\n",
    "    planets_a_case2.append(planet_a_case2) \n",
    "    \n",
    "    # calculate impact parameters\n",
    "    b = (planet_a_case2 * np.sin(inclination))/r_star\n",
    "    impact_parameters.append(list(b))\n",
    "\n",
    "    # note individual planets' transit status\n",
    "    transit_status.append([1 if np.abs(param) <= 1. else 0 for param in b])\n",
    "\n",
    "    # transit check based on impact parameters\n",
    "    transit_multiplicities.append(len([param for param in b if np.abs(param) <= 1.]))"
   ]
  },
  {
   "cell_type": "code",
   "execution_count": 7,
   "metadata": {},
   "outputs": [],
   "source": [
    "\"\"\"\n",
    "def model_old(m, b):\n",
    "    \"\"\"\n",
    "    Take prior and make 20000 systems out of it\n",
    "    Params: cube is the 2D prior\n",
    "    Returns: tuple of transit multiplicities\n",
    "    \"\"\"\n",
    "    \n",
    "    star_index = []\n",
    "    midplanes = []\n",
    "    midplanes_degrees = []\n",
    "    inclinations = []\n",
    "    inclinations_degrees = []\n",
    "    planets_per_case2 = [] # maybe better to recreate it here b/c I can then generalize it for Case 2?\n",
    "    planets_a_case2 = []\n",
    "    star_radius = []\n",
    "    impact_parameters = []\n",
    "    transit_status = []\n",
    "    transit_multiplicities = []\n",
    "    xi = []\n",
    "    xi_old = []\n",
    "    xi_young = []\n",
    "    \n",
    "    # draw 20000 systems\n",
    "    for i in range(len(stars_age1_kde)):\n",
    "        # star\n",
    "        star_index.append(i)\n",
    "        #r_star = stars_radius_kde[i] # nope\n",
    "        r_star = solar_radius_to_au(1.) # set to 1 solar radius\n",
    "        age_star = stars_age1_kde[i]\n",
    "        mu = list(np.random.uniform(-np.pi/2,np.pi/2,1)) # create midplane for star \n",
    "        midplanes.append(mu)\n",
    "        midplanes_degrees.append([mu_elt*180/np.pi for mu_elt in mu])\n",
    "\n",
    "        # planet\n",
    "        r_planet = earth_radius_to_au(2.) # use two Earth radii; will make negligible difference\n",
    "        prob = m * age_star + b # calculate probability given age from sampled distribution\n",
    "        if prob < 0: # don't allow negative probabilities\n",
    "            prob = 0\n",
    "        intact_flag = np.random.choice(['intact', 'disrupted'], p=[prob, 1-prob])\n",
    "        if intact_flag == 'intact':\n",
    "            # young system has 5 or 6 planets\n",
    "            num_planets = random.choice([5, 6]) \n",
    "            sigma = np.pi/90 # 2 degrees, per Fig 6 in Fabrycky 2012\n",
    "            \n",
    "            # simulate transit-related characteristics for 5 or 6 planets\n",
    "            sim_transits(r_star, num_planets, mu, sigma, r_planet, age_star,\n",
    "                planets_per_case2 = planets_per_case2, planets_a_case2 = planets_a_case2, \n",
    "                inclinations = inclinations, inclinations_degrees = inclinations_degrees,\n",
    "                impact_parameters = impact_parameters, transit_status = transit_status, \n",
    "                transit_multiplicities = transit_multiplicities)\n",
    "\n",
    "        elif intact_flag == 'disrupted':\n",
    "            # old system has 1 or 2 planets\n",
    "            num_planets = random.choice([1, 2]) \n",
    "            sigma = np.pi/22.5 # 8 degree disk plane inclination scatter\n",
    "            \n",
    "            # simulate transit-related characteristics for 1 or 2 planets\n",
    "            sim_transits(r_star, num_planets, mu, sigma, r_planet, age_star,\n",
    "                planets_per_case2 = planets_per_case2, planets_a_case2 = planets_a_case2, \n",
    "                inclinations = inclinations, inclinations_degrees = inclinations_degrees,\n",
    "                impact_parameters = impact_parameters, transit_status = transit_status, \n",
    "                transit_multiplicities = transit_multiplicities)\n",
    "\n",
    "    midplanes = np.concatenate(midplanes, axis=0) # turn list of lists of one into regular list\n",
    "\n",
    "    transits_dict = {'star_ages': stars_age1_kde, 'planet_periods': planets_per_case2, \n",
    "                     'semi_major_axes': planets_a_case2, 'midplane': midplanes,\n",
    "                     'midplane_degrees': midplanes_degrees,\n",
    "                     'planet_inclinations': inclinations, 'planet_inclinations_degrees': inclinations_degrees,\n",
    "                     'impact_parameters': impact_parameters, 'transit_status': transit_status, \n",
    "                     'transit_multiplicity': transit_multiplicities, 'star_index': star_index,\n",
    "                    'y_intercept': b, 'slope': m}\n",
    "\n",
    "    transits = pd.DataFrame(transits_dict)\n",
    "    \n",
    "    # calculate and return transit multiplicity for this set of systems, normalized against number of transiters from crossmatched data\n",
    "    lam = transits.loc[transits.transit_multiplicity > 0].transit_multiplicity.value_counts() * (len(k)/len(transits.loc[transits.transit_multiplicity > 0]))\n",
    "\n",
    "    return lam\n",
    "\"\"\""
   ]
  },
  {
   "cell_type": "code",
   "execution_count": 80,
   "metadata": {},
   "outputs": [],
   "source": [
    "def prior(cube, ndim, nparams):\n",
    "    \"\"\"\n",
    "    Scales unit hypercube sample to appropriate bounds in each dimension of hyperparam space\n",
    "    \"\"\"\n",
    "    cube[0] = cube[0]-1 # from -1 to 0\n",
    "    cube[1] = cube[1]*10 # from 0 to 10\n",
    "    print(cube)\n",
    "\n",
    "def prior_grid(cube, ndim, nparams, gi_m, gi_b):\n",
    "    \"\"\"\n",
    "    Each model run will use an evenly spaced (m,b) tuple on a discrete 11x11 grid\n",
    "    Does that ruin the point of multinest? Is it valid without random sampling? \n",
    "    Maybe so, but pymultinest keeps getting stuck, so I need to get a better sense of the logL surface.\n",
    "    gi_m: grid index on m axis\n",
    "    gi_b: grid index on b axis\n",
    "    \"\"\"\n",
    "    cube[0] = np.linspace(-1,0,11)[gi_m]\n",
    "    cube[1] = np.linspace(0,1,11)[gi_b]\n",
    "    return cube\n",
    "\n",
    "def model(cube):\n",
    "    \"\"\"\n",
    "    Take prior and make 20000 systems out of it\n",
    "    Params: cube is the 2D prior\n",
    "    Returns: tuple of transit multiplicities\n",
    "    \"\"\"\n",
    "    # retrieve prior\n",
    "    #print(cube)\n",
    "    m, b = cube[0], cube[1]\n",
    "    \n",
    "    star_index = []\n",
    "    midplanes = []\n",
    "    midplanes_degrees = []\n",
    "    inclinations = []\n",
    "    inclinations_degrees = []\n",
    "    planets_per_case2 = [] # maybe better to recreate it here b/c I can then generalize it for Case 2?\n",
    "    planets_a_case2 = []\n",
    "    star_radius = []\n",
    "    impact_parameters = []\n",
    "    transit_status = []\n",
    "    transit_multiplicities = []\n",
    "    xi = []\n",
    "    xi_old = []\n",
    "    xi_young = []\n",
    "    \n",
    "    # draw 20000 systems\n",
    "    for i in range(len(stars_age1_kde)):\n",
    "        # star\n",
    "        star_index.append(i)\n",
    "        #r_star = stars_radius_kde[i] # nope\n",
    "        r_star = solar_radius_to_au(1.) # set to 1 solar radius\n",
    "        age_star = stars_age1_kde[i]\n",
    "        mu = list(np.random.uniform(-np.pi/2,np.pi/2,1)) # create midplane for star \n",
    "        midplanes.append(mu)\n",
    "        midplanes_degrees.append([mu_elt*180/np.pi for mu_elt in mu])\n",
    "\n",
    "        # planet\n",
    "        r_planet = earth_radius_to_au(2.) # use two Earth radii; will make negligible difference\n",
    "        prob = m * age_star + b # calculate probability given age from sampled distribution\n",
    "        if prob < 0: # don't allow negative probabilities\n",
    "            prob = 0\n",
    "        intact_flag = np.random.choice(['intact', 'disrupted'], p=[prob, 1-prob])\n",
    "        if intact_flag == 'intact':\n",
    "            # young system has 5 or 6 planets\n",
    "            num_planets = random.choice([5, 6]) \n",
    "            sigma = np.pi/90 # 2 degrees, per Fig 6 in Fabrycky 2012\n",
    "            \n",
    "            # simulate transit-related characteristics for 5 or 6 planets\n",
    "            sim_transits(r_star, num_planets, mu, sigma, r_planet, age_star,\n",
    "                planets_per_case2 = planets_per_case2, planets_a_case2 = planets_a_case2, \n",
    "                inclinations = inclinations, inclinations_degrees = inclinations_degrees,\n",
    "                impact_parameters = impact_parameters, transit_status = transit_status, \n",
    "                transit_multiplicities = transit_multiplicities)\n",
    "\n",
    "        elif intact_flag == 'disrupted':\n",
    "            # old system has 1 or 2 planets\n",
    "            num_planets = random.choice([1, 2]) \n",
    "            sigma = np.pi/22.5 # 8 degree disk plane inclination scatter\n",
    "            \n",
    "            # simulate transit-related characteristics for 1 or 2 planets\n",
    "            sim_transits(r_star, num_planets, mu, sigma, r_planet, age_star,\n",
    "                planets_per_case2 = planets_per_case2, planets_a_case2 = planets_a_case2, \n",
    "                inclinations = inclinations, inclinations_degrees = inclinations_degrees,\n",
    "                impact_parameters = impact_parameters, transit_status = transit_status, \n",
    "                transit_multiplicities = transit_multiplicities)\n",
    "\n",
    "    midplanes = np.concatenate(midplanes, axis=0) # turn list of lists of one into regular list\n",
    "\n",
    "    transits_dict = {'star_ages': stars_age1_kde, 'planet_periods': planets_per_case2, \n",
    "                     'semi_major_axes': planets_a_case2, 'midplane': midplanes,\n",
    "                     'midplane_degrees': midplanes_degrees,\n",
    "                     'planet_inclinations': inclinations, 'planet_inclinations_degrees': inclinations_degrees,\n",
    "                     'impact_parameters': impact_parameters, 'transit_status': transit_status, \n",
    "                     'transit_multiplicity': transit_multiplicities, 'star_index': star_index,\n",
    "                    'y_intercept': b, 'slope': m}\n",
    "\n",
    "    transits = pd.DataFrame(transits_dict)\n",
    "    \n",
    "    # calculate and return transit multiplicity for this set of systems, normalized against number of transiters from crossmatched data\n",
    "    lam = transits.loc[transits.transit_multiplicity > 0].transit_multiplicity.value_counts() * (161/len(transits.loc[transits.transit_multiplicity > 0]))\n",
    "    \n",
    "    return lam\n",
    "\n",
    "def loglike_old(cube, ndim, nparams):\n",
    "    \"\"\"\n",
    "    Poisson log likelihood from synthetic-posteriors.ipynb\n",
    "\n",
    "    Returns: Poisson log-likelihood\n",
    "    \"\"\"\n",
    "    lam = model(cube) # feed prior-normalized hypercube into model to generate transit multiplicities\n",
    "    print(\"MODEL: \", ymodel)\n",
    "    print(\"DATA: \", k) # from Berger et al 2020 crossmatched with Gaia via Bedell's kepler-gaia.fun\n",
    "    \n",
    "    term1 = np.sum(k * np.log(lam))\n",
    "    term2 = -np.sum(lam)\n",
    "    term3 = -np.sum([lgamma(kth + 1) for kth in k])\n",
    "    poisson_loglikelihood = term1 + term2 + term3\n",
    "    return poisson_loglikelihood\n",
    "\n",
    "def loglike(cube, ndim, nparams):\n",
    "    \"\"\"\n",
    "    Poisson log likelihood from synthetic-posteriors.ipynb\n",
    "\n",
    "    Returns: Poisson log-likelihood\n",
    "    \"\"\"\n",
    "\n",
    "    # retrieve prior cube and feed prior-normalized hypercube into model to generate transit multiplicities\n",
    "    lam = model(cube)\n",
    "    #print(\"MODEL: \", lam)\n",
    "    #print(\"DATA: \", k) # from Berger et al 2020 crossmatched with Gaia via Bedell's kepler-gaia.fun\n",
    "    \n",
    "    term1 = np.sum(k * np.log(lam))\n",
    "    term2 = -np.sum(lam)\n",
    "    term3 = -np.sum([lgamma(kth + 1) for kth in k])\n",
    "    poisson_loglikelihood = term1 + term2 + term3\n",
    "    #print(\"POISSON: \", poisson_loglikelihood)\n",
    "    return poisson_loglikelihood, lam\n",
    "\n",
    "def loglike_model_done(lam, ndim, nparams):\n",
    "    \"\"\"\n",
    "    Poisson log likelihood from synthetic-posteriors.ipynb\n",
    "\n",
    "    Returns: Poisson log-likelihood\n",
    "    \"\"\"\n",
    "    term1 = np.sum(k * np.log(lam))\n",
    "    print(\"TERM 1: \", term1)\n",
    "    term2 = -np.sum(lam)\n",
    "    term3 = -np.sum([lgamma(kth + 1) for kth in k]) # the more nonzero bins you have, the more this contributes\n",
    "    poisson_loglikelihood = term1 + term2 + term3\n",
    "    #print(\"POISSON: \", poisson_loglikelihood)\n",
    "    return poisson_loglikelihood\n",
    "    "
   ]
  },
  {
   "cell_type": "code",
   "execution_count": 87,
   "metadata": {},
   "outputs": [
    {
     "ename": "ValueError",
     "evalue": "If using all scalar values, you must pass an index",
     "output_type": "error",
     "traceback": [
      "\u001b[0;31m---------------------------------------------------------------------------\u001b[0m",
      "\u001b[0;31mValueError\u001b[0m                                Traceback (most recent call last)",
      "\u001b[0;32m<ipython-input-87-1cae26e8b77a>\u001b[0m in \u001b[0;36m<module>\u001b[0;34m\u001b[0m\n\u001b[0;32m----> 1\u001b[0;31m \u001b[0mnew_k\u001b[0m \u001b[0;34m=\u001b[0m \u001b[0mpd\u001b[0m\u001b[0;34m.\u001b[0m\u001b[0mDataFrame\u001b[0m\u001b[0;34m(\u001b[0m\u001b[0;34m{\u001b[0m\u001b[0;34m'1'\u001b[0m\u001b[0;34m:\u001b[0m \u001b[0;36m129\u001b[0m\u001b[0;34m,\u001b[0m\u001b[0;34m'2'\u001b[0m\u001b[0;34m:\u001b[0m \u001b[0;36m20\u001b[0m\u001b[0;34m,\u001b[0m\u001b[0;34m'3'\u001b[0m\u001b[0;34m:\u001b[0m \u001b[0;36m10\u001b[0m\u001b[0;34m,\u001b[0m\u001b[0;34m'4'\u001b[0m\u001b[0;34m:\u001b[0m \u001b[0;36m2\u001b[0m\u001b[0;34m,\u001b[0m\u001b[0;34m'5'\u001b[0m\u001b[0;34m:\u001b[0m \u001b[0;36m0\u001b[0m\u001b[0;34m,\u001b[0m\u001b[0;34m'6'\u001b[0m\u001b[0;34m:\u001b[0m \u001b[0;36m0\u001b[0m\u001b[0;34m}\u001b[0m\u001b[0;34m)\u001b[0m\u001b[0;34m\u001b[0m\u001b[0;34m\u001b[0m\u001b[0m\n\u001b[0m",
      "\u001b[0;32m~/anaconda2/envs/sculpting/lib/python3.9/site-packages/pandas/core/frame.py\u001b[0m in \u001b[0;36m__init__\u001b[0;34m(self, data, index, columns, dtype, copy)\u001b[0m\n\u001b[1;32m    527\u001b[0m \u001b[0;34m\u001b[0m\u001b[0m\n\u001b[1;32m    528\u001b[0m         \u001b[0;32melif\u001b[0m \u001b[0misinstance\u001b[0m\u001b[0;34m(\u001b[0m\u001b[0mdata\u001b[0m\u001b[0;34m,\u001b[0m \u001b[0mdict\u001b[0m\u001b[0;34m)\u001b[0m\u001b[0;34m:\u001b[0m\u001b[0;34m\u001b[0m\u001b[0;34m\u001b[0m\u001b[0m\n\u001b[0;32m--> 529\u001b[0;31m             \u001b[0mmgr\u001b[0m \u001b[0;34m=\u001b[0m \u001b[0minit_dict\u001b[0m\u001b[0;34m(\u001b[0m\u001b[0mdata\u001b[0m\u001b[0;34m,\u001b[0m \u001b[0mindex\u001b[0m\u001b[0;34m,\u001b[0m \u001b[0mcolumns\u001b[0m\u001b[0;34m,\u001b[0m \u001b[0mdtype\u001b[0m\u001b[0;34m=\u001b[0m\u001b[0mdtype\u001b[0m\u001b[0;34m)\u001b[0m\u001b[0;34m\u001b[0m\u001b[0;34m\u001b[0m\u001b[0m\n\u001b[0m\u001b[1;32m    530\u001b[0m         \u001b[0;32melif\u001b[0m \u001b[0misinstance\u001b[0m\u001b[0;34m(\u001b[0m\u001b[0mdata\u001b[0m\u001b[0;34m,\u001b[0m \u001b[0mma\u001b[0m\u001b[0;34m.\u001b[0m\u001b[0mMaskedArray\u001b[0m\u001b[0;34m)\u001b[0m\u001b[0;34m:\u001b[0m\u001b[0;34m\u001b[0m\u001b[0;34m\u001b[0m\u001b[0m\n\u001b[1;32m    531\u001b[0m             \u001b[0;32mimport\u001b[0m \u001b[0mnumpy\u001b[0m\u001b[0;34m.\u001b[0m\u001b[0mma\u001b[0m\u001b[0;34m.\u001b[0m\u001b[0mmrecords\u001b[0m \u001b[0;32mas\u001b[0m \u001b[0mmrecords\u001b[0m\u001b[0;34m\u001b[0m\u001b[0;34m\u001b[0m\u001b[0m\n",
      "\u001b[0;32m~/anaconda2/envs/sculpting/lib/python3.9/site-packages/pandas/core/internals/construction.py\u001b[0m in \u001b[0;36minit_dict\u001b[0;34m(data, index, columns, dtype)\u001b[0m\n\u001b[1;32m    285\u001b[0m             \u001b[0marr\u001b[0m \u001b[0;32mif\u001b[0m \u001b[0;32mnot\u001b[0m \u001b[0mis_datetime64tz_dtype\u001b[0m\u001b[0;34m(\u001b[0m\u001b[0marr\u001b[0m\u001b[0;34m)\u001b[0m \u001b[0;32melse\u001b[0m \u001b[0marr\u001b[0m\u001b[0;34m.\u001b[0m\u001b[0mcopy\u001b[0m\u001b[0;34m(\u001b[0m\u001b[0;34m)\u001b[0m \u001b[0;32mfor\u001b[0m \u001b[0marr\u001b[0m \u001b[0;32min\u001b[0m \u001b[0marrays\u001b[0m\u001b[0;34m\u001b[0m\u001b[0;34m\u001b[0m\u001b[0m\n\u001b[1;32m    286\u001b[0m         ]\n\u001b[0;32m--> 287\u001b[0;31m     \u001b[0;32mreturn\u001b[0m \u001b[0marrays_to_mgr\u001b[0m\u001b[0;34m(\u001b[0m\u001b[0marrays\u001b[0m\u001b[0;34m,\u001b[0m \u001b[0mdata_names\u001b[0m\u001b[0;34m,\u001b[0m \u001b[0mindex\u001b[0m\u001b[0;34m,\u001b[0m \u001b[0mcolumns\u001b[0m\u001b[0;34m,\u001b[0m \u001b[0mdtype\u001b[0m\u001b[0;34m=\u001b[0m\u001b[0mdtype\u001b[0m\u001b[0;34m)\u001b[0m\u001b[0;34m\u001b[0m\u001b[0;34m\u001b[0m\u001b[0m\n\u001b[0m\u001b[1;32m    288\u001b[0m \u001b[0;34m\u001b[0m\u001b[0m\n\u001b[1;32m    289\u001b[0m \u001b[0;34m\u001b[0m\u001b[0m\n",
      "\u001b[0;32m~/anaconda2/envs/sculpting/lib/python3.9/site-packages/pandas/core/internals/construction.py\u001b[0m in \u001b[0;36marrays_to_mgr\u001b[0;34m(arrays, arr_names, index, columns, dtype, verify_integrity)\u001b[0m\n\u001b[1;32m     78\u001b[0m         \u001b[0;31m# figure out the index, if necessary\u001b[0m\u001b[0;34m\u001b[0m\u001b[0;34m\u001b[0m\u001b[0;34m\u001b[0m\u001b[0m\n\u001b[1;32m     79\u001b[0m         \u001b[0;32mif\u001b[0m \u001b[0mindex\u001b[0m \u001b[0;32mis\u001b[0m \u001b[0;32mNone\u001b[0m\u001b[0;34m:\u001b[0m\u001b[0;34m\u001b[0m\u001b[0;34m\u001b[0m\u001b[0m\n\u001b[0;32m---> 80\u001b[0;31m             \u001b[0mindex\u001b[0m \u001b[0;34m=\u001b[0m \u001b[0mextract_index\u001b[0m\u001b[0;34m(\u001b[0m\u001b[0marrays\u001b[0m\u001b[0;34m)\u001b[0m\u001b[0;34m\u001b[0m\u001b[0;34m\u001b[0m\u001b[0m\n\u001b[0m\u001b[1;32m     81\u001b[0m         \u001b[0;32melse\u001b[0m\u001b[0;34m:\u001b[0m\u001b[0;34m\u001b[0m\u001b[0;34m\u001b[0m\u001b[0m\n\u001b[1;32m     82\u001b[0m             \u001b[0mindex\u001b[0m \u001b[0;34m=\u001b[0m \u001b[0mensure_index\u001b[0m\u001b[0;34m(\u001b[0m\u001b[0mindex\u001b[0m\u001b[0;34m)\u001b[0m\u001b[0;34m\u001b[0m\u001b[0;34m\u001b[0m\u001b[0m\n",
      "\u001b[0;32m~/anaconda2/envs/sculpting/lib/python3.9/site-packages/pandas/core/internals/construction.py\u001b[0m in \u001b[0;36mextract_index\u001b[0;34m(data)\u001b[0m\n\u001b[1;32m    389\u001b[0m \u001b[0;34m\u001b[0m\u001b[0m\n\u001b[1;32m    390\u001b[0m         \u001b[0;32mif\u001b[0m \u001b[0;32mnot\u001b[0m \u001b[0mindexes\u001b[0m \u001b[0;32mand\u001b[0m \u001b[0;32mnot\u001b[0m \u001b[0mraw_lengths\u001b[0m\u001b[0;34m:\u001b[0m\u001b[0;34m\u001b[0m\u001b[0;34m\u001b[0m\u001b[0m\n\u001b[0;32m--> 391\u001b[0;31m             \u001b[0;32mraise\u001b[0m \u001b[0mValueError\u001b[0m\u001b[0;34m(\u001b[0m\u001b[0;34m\"If using all scalar values, you must pass an index\"\u001b[0m\u001b[0;34m)\u001b[0m\u001b[0;34m\u001b[0m\u001b[0;34m\u001b[0m\u001b[0m\n\u001b[0m\u001b[1;32m    392\u001b[0m \u001b[0;34m\u001b[0m\u001b[0m\n\u001b[1;32m    393\u001b[0m         \u001b[0;32mif\u001b[0m \u001b[0mhave_series\u001b[0m\u001b[0;34m:\u001b[0m\u001b[0;34m\u001b[0m\u001b[0;34m\u001b[0m\u001b[0m\n",
      "\u001b[0;31mValueError\u001b[0m: If using all scalar values, you must pass an index"
     ]
    }
   ],
   "source": [
    "new_k = pd.DataFrame({'1': 129,'2': 20,'3': 10,'4': 2,'5': 0,'6': 0}) # compact multi rate with 7%"
   ]
  },
  {
   "cell_type": "code",
   "execution_count": 83,
   "metadata": {},
   "outputs": [
    {
     "name": "stdout",
     "output_type": "stream",
     "text": [
      "1    151.941176\n",
      "2      9.058824\n",
      "Name: transit_multiplicity, dtype: float64\n",
      "1.0    89\n",
      "2.0    30\n",
      "3.0    21\n",
      "4.0    16\n",
      "5.0     5\n",
      "Name: pl_pnum, dtype: int64\n",
      "712.8835046342446\n",
      "TERM 1:  513.203094715249\n",
      "-116.9474623307998\n"
     ]
    }
   ],
   "source": [
    "print(lams[0])\n",
    "print(k)\n",
    "print(152*np.log(89)+9*np.log(30))\n",
    "print(loglike_model_done(lams[0],2,2))"
   ]
  },
  {
   "cell_type": "code",
   "execution_count": null,
   "metadata": {
    "scrolled": false
   },
   "outputs": [],
   "source": [
    "# set up \"hypercube\" prior and iterate through it while calling model and likelihood functions\n",
    "ndim = 2\n",
    "nparams = 2\n",
    "lams = []\n",
    "logLs = []\n",
    "ms = []\n",
    "bs = []\n",
    "for gi_m in range(11):\n",
    "    for gi_b in range(11):\n",
    "        cube = [random.uniform(0,1), random.uniform(0,1)] # instantiate cube\n",
    "        cube = prior_grid(cube, ndim, nparams, gi_m, gi_b) # move to new position on cube\n",
    "        ms.append(round(cube[0],1))\n",
    "        bs.append(round(cube[1],1))\n",
    "        logL, lam = loglike(cube, ndim, nparams) # calculate logL by comparing model(cube) and k\n",
    "        print(lam)\n",
    "        lams.append(lam)\n",
    "        logLs.append(logL)\n",
    "df = pd.DataFrame({'ms': ms, 'bs': bs, 'logLs': logLs})\n",
    "print(df.head())"
   ]
  },
  {
   "cell_type": "code",
   "execution_count": 77,
   "metadata": {
    "scrolled": true
   },
   "outputs": [
    {
     "data": {
      "image/png": "[encoded data removed]",
      "text/plain": [
       "<Figure size 432x288 with 2 Axes>"
      ]
     },
     "metadata": {
      "needs_background": "light"
     },
     "output_type": "display_data"
    }
   ],
   "source": [
    "plt.scatter(ms, bs, c=logLs)\n",
    "plt.ylabel('initial P(intact) aka b')\n",
    "plt.xlabel('dP(intact)/dt aka m')\n",
    "plt.colorbar()\n",
    "plt.show()"
   ]
  },
  {
   "cell_type": "code",
   "execution_count": 85,
   "metadata": {},
   "outputs": [
    {
     "name": "stdout",
     "output_type": "stream",
     "text": [
      "1    62.016450\n",
      "2    39.946539\n",
      "3    34.429061\n",
      "4    18.538725\n",
      "5     5.738177\n",
      "6     0.331049\n",
      "Name: transit_multiplicity, dtype: float64\n",
      "1.0    89\n",
      "2.0    30\n",
      "3.0    21\n",
      "4.0    16\n",
      "5.0     5\n",
      "Name: pl_pnum, dtype: int64\n"
     ]
    }
   ],
   "source": [
    "print(lams[-1])\n",
    "print(k)"
   ]
  },
  {
   "cell_type": "code",
   "execution_count": 76,
   "metadata": {},
   "outputs": [
    {
     "data": {
      "text/html": [
       "<div>\n",
       "<style scoped>\n",
       "    .dataframe tbody tr th:only-of-type {\n",
       "        vertical-align: middle;\n",
       "    }\n",
       "\n",
       "    .dataframe tbody tr th {\n",
       "        vertical-align: top;\n",
       "    }\n",
       "\n",
       "    .dataframe thead th {\n",
       "        text-align: right;\n",
       "    }\n",
       "</style>\n",
       "<table border=\"1\" class=\"dataframe\">\n",
       "  <thead>\n",
       "    <tr style=\"text-align: right;\">\n",
       "      <th></th>\n",
       "      <th>ms</th>\n",
       "      <th>bs</th>\n",
       "      <th>logLs</th>\n",
       "    </tr>\n",
       "  </thead>\n",
       "  <tbody>\n",
       "    <tr>\n",
       "      <th>0</th>\n",
       "      <td>-1.0</td>\n",
       "      <td>0.0</td>\n",
       "      <td>-116.947462</td>\n",
       "    </tr>\n",
       "    <tr>\n",
       "      <th>1</th>\n",
       "      <td>-1.0</td>\n",
       "      <td>0.1</td>\n",
       "      <td>-119.965354</td>\n",
       "    </tr>\n",
       "    <tr>\n",
       "      <th>2</th>\n",
       "      <td>-1.0</td>\n",
       "      <td>0.2</td>\n",
       "      <td>-116.418784</td>\n",
       "    </tr>\n",
       "    <tr>\n",
       "      <th>3</th>\n",
       "      <td>-1.0</td>\n",
       "      <td>0.3</td>\n",
       "      <td>-109.474713</td>\n",
       "    </tr>\n",
       "    <tr>\n",
       "      <th>4</th>\n",
       "      <td>-1.0</td>\n",
       "      <td>0.4</td>\n",
       "      <td>-110.822671</td>\n",
       "    </tr>\n",
       "    <tr>\n",
       "      <th>...</th>\n",
       "      <td>...</td>\n",
       "      <td>...</td>\n",
       "      <td>...</td>\n",
       "    </tr>\n",
       "    <tr>\n",
       "      <th>116</th>\n",
       "      <td>0.0</td>\n",
       "      <td>0.6</td>\n",
       "      <td>-13.418759</td>\n",
       "    </tr>\n",
       "    <tr>\n",
       "      <th>117</th>\n",
       "      <td>0.0</td>\n",
       "      <td>0.7</td>\n",
       "      <td>-15.313057</td>\n",
       "    </tr>\n",
       "    <tr>\n",
       "      <th>118</th>\n",
       "      <td>0.0</td>\n",
       "      <td>0.8</td>\n",
       "      <td>-17.512796</td>\n",
       "    </tr>\n",
       "    <tr>\n",
       "      <th>119</th>\n",
       "      <td>0.0</td>\n",
       "      <td>0.9</td>\n",
       "      <td>-20.584693</td>\n",
       "    </tr>\n",
       "    <tr>\n",
       "      <th>120</th>\n",
       "      <td>0.0</td>\n",
       "      <td>1.0</td>\n",
       "      <td>-22.415308</td>\n",
       "    </tr>\n",
       "  </tbody>\n",
       "</table>\n",
       "<p>121 rows × 3 columns</p>\n",
       "</div>"
      ],
      "text/plain": [
       "      ms   bs       logLs\n",
       "0   -1.0  0.0 -116.947462\n",
       "1   -1.0  0.1 -119.965354\n",
       "2   -1.0  0.2 -116.418784\n",
       "3   -1.0  0.3 -109.474713\n",
       "4   -1.0  0.4 -110.822671\n",
       "..   ...  ...         ...\n",
       "116  0.0  0.6  -13.418759\n",
       "117  0.0  0.7  -15.313057\n",
       "118  0.0  0.8  -17.512796\n",
       "119  0.0  0.9  -20.584693\n",
       "120  0.0  1.0  -22.415308\n",
       "\n",
       "[121 rows x 3 columns]"
      ]
     },
     "execution_count": 76,
     "metadata": {},
     "output_type": "execute_result"
    }
   ],
   "source": [
    "df"
   ]
  },
  {
   "cell_type": "code",
   "execution_count": 68,
   "metadata": {},
   "outputs": [
    {
     "name": "stdout",
     "output_type": "stream",
     "text": [
      "500.0\n"
     ]
    }
   ],
   "source": [
    "sum = 0\n",
    "for i in range(len(lams)):\n",
    "    sum += np.sum(lams[i])\n",
    "print(sum)"
   ]
  },
  {
   "cell_type": "code",
   "execution_count": 32,
   "metadata": {},
   "outputs": [
    {
     "name": "stdout",
     "output_type": "stream",
     "text": [
      "           -1.0        -0.9        -0.8        -0.7        -0.6        -0.5  \\\n",
      "0.0 -371.170815 -378.890876 -372.730648 -370.847336 -372.339456 -373.175309   \n",
      "0.1 -369.401993 -375.155516 -366.056931 -373.224143 -370.197923 -373.368923   \n",
      "0.2 -376.407711 -371.520096 -363.566578 -372.077455 -485.349052 -475.174469   \n",
      "0.3 -373.109156 -369.091961 -473.806775 -372.748773 -456.329512 -584.306395   \n",
      "0.4 -557.218758 -373.347191 -456.035718 -452.077280 -563.631388 -528.348693   \n",
      "\n",
      "           -0.4        -0.3        -0.2        -0.1  \n",
      "0.0 -377.230628 -367.779951 -373.602197 -375.027890  \n",
      "0.1 -376.242473 -370.143191 -371.398272 -458.055171  \n",
      "0.2 -373.432060 -570.721771 -587.275776 -531.389234  \n",
      "0.3 -451.338705 -568.780244 -500.693260 -451.824512  \n",
      "0.4 -505.400652 -523.756188 -482.559896 -439.243782  \n"
     ]
    }
   ],
   "source": [
    "pivot_df = pd.DataFrame(df.pivot('bs', 'ms', 'logLs').values, index=np.linspace(0,0.9,10), \n",
    "                        columns=np.linspace(-1,-0.1,10))\n",
    "print(pivot_df.head())"
   ]
  },
  {
   "cell_type": "code",
   "execution_count": 86,
   "metadata": {
    "scrolled": true
   },
   "outputs": [
    {
     "data": {
      "image/png": "[encoded data removed]",
      "text/plain": [
       "<Figure size 432x288 with 2 Axes>"
      ]
     },
     "metadata": {
      "needs_background": "light"
     },
     "output_type": "display_data"
    }
   ],
   "source": [
    "ax = sns.heatmap(pivot_df) \n",
    "plt.ylabel('initial P(intact) aka b')\n",
    "plt.xlabel('dP(intact)/dt aka m')\n",
    "ax.invert_yaxis()\n",
    "xlabels = ['{:,.1f}'.format(xl) for xl in ax.get_xticks()]\n",
    "ax.set_xticklabels(xlabels)\n",
    "ylabels = ['{:,.1f}'.format(yl) for yl in ax.get_yticks()]\n",
    "ax.set_yticklabels(ylabels)\n",
    "\n",
    "plt.show()"
   ]
  },
  {
   "cell_type": "code",
   "execution_count": 60,
   "metadata": {},
   "outputs": [
    {
     "name": "stdout",
     "output_type": "stream",
     "text": [
      "    ms   bs       logLs\n",
      "0 -1.0  0.0 -371.170815\n",
      "1 -1.0  0.1 -369.401993\n",
      "2 -1.0  0.2 -376.407711\n",
      "3 -1.0  0.3 -373.109156\n",
      "4 -1.0  0.4 -373.065817\n"
     ]
    }
   ],
   "source": [
    "# calculate logLs for lams with only 1&2 planets, even for intact\n",
    "# testing whether lack of 3-6 planet multiplicities among disrupted systems is cheating them out of penalties\n",
    "logL_2s = []\n",
    "for index, row in df.iterrows():\n",
    "    lam = lams[index][0:2]\n",
    "    logL = loglike_model_done(lam, ndim, nparams)\n",
    "    logL_2s.append(logL)\n",
    "df_2s = pd.DataFrame({'ms': ms, 'bs': bs, 'logLs': logL_2s})\n",
    "print(df_2s.head())"
   ]
  },
  {
   "cell_type": "code",
   "execution_count": 61,
   "metadata": {},
   "outputs": [
    {
     "name": "stdout",
     "output_type": "stream",
     "text": [
      "           -1.0        -0.9        -0.8        -0.7        -0.6        -0.5  \\\n",
      "0.0 -371.170815 -378.890876 -372.730648 -370.847336 -372.339456 -373.175309   \n",
      "0.1 -369.401993 -375.155516 -366.056931 -373.224143 -370.197923 -373.368923   \n",
      "0.2 -376.407711 -371.520096 -363.566578 -372.077455 -379.924015 -368.774072   \n",
      "0.3 -373.109156 -369.091961 -367.485950 -372.748773 -375.443597 -372.898785   \n",
      "0.4 -373.065817 -373.347191 -375.500417 -374.325247 -376.767485 -379.425573   \n",
      "\n",
      "           -0.4        -0.3        -0.2        -0.1  \n",
      "0.0 -377.230628 -367.779951 -373.602197 -375.027890  \n",
      "0.1 -376.242473 -370.143191 -371.398272 -377.478221  \n",
      "0.2 -373.432060 -371.729877 -373.319862 -365.417706  \n",
      "0.3 -370.555116 -376.558973 -365.778484 -368.442203  \n",
      "0.4 -366.798107 -373.778861 -376.970105 -368.883103  \n"
     ]
    }
   ],
   "source": [
    "pivot_df_2s = pd.DataFrame(df_2s.pivot('bs', 'ms', 'logLs').values, index=np.linspace(0,0.9,10), \n",
    "                        columns=np.linspace(-1,-0.1,10))\n",
    "print(pivot_df_2s.head())"
   ]
  },
  {
   "cell_type": "code",
   "execution_count": 62,
   "metadata": {},
   "outputs": [
    {
     "data": {
      "image/png": "[encoded data removed]",
      "text/plain": [
       "<Figure size 432x288 with 2 Axes>"
      ]
     },
     "metadata": {
      "needs_background": "light"
     },
     "output_type": "display_data"
    }
   ],
   "source": [
    "ax = sns.heatmap(pivot_df_2s) \n",
    "plt.ylabel('initial P(intact) aka b')\n",
    "plt.xlabel('dP(intact)/dt aka m')\n",
    "ax.invert_yaxis()\n",
    "xlabels = ['{:,.1f}'.format(xl) for xl in ax.get_xticks()]\n",
    "ax.set_xticklabels(xlabels)\n",
    "ylabels = ['{:,.1f}'.format(yl) for yl in ax.get_yticks()]\n",
    "ax.set_yticklabels(ylabels)\n",
    "\n",
    "plt.show()"
   ]
  },
  {
   "cell_type": "markdown",
   "metadata": {},
   "source": [
    "#### Plots for 3019 guest lecture in Feb 2021"
   ]
  },
  {
   "cell_type": "code",
   "execution_count": 71,
   "metadata": {},
   "outputs": [
    {
     "name": "stdout",
     "output_type": "stream",
     "text": [
      "-0.01 0.1\n"
     ]
    },
    {
     "data": {
      "text/plain": [
       "<function matplotlib.pyplot.show(close=None, block=None)>"
      ]
     },
     "execution_count": 71,
     "metadata": {},
     "output_type": "execute_result"
    },
    {
     "data": {
      "image/png": "[encoded data removed]",
      "text/plain": [
       "<Figure size 432x288 with 1 Axes>"
      ]
     },
     "metadata": {
      "needs_background": "light"
     },
     "output_type": "display_data"
    }
   ],
   "source": [
    "# example model\n",
    "def prob_intact(x, m, b):\n",
    "    prob = m*x + b\n",
    "    for i in prob:\n",
    "        if i < 0: # don't allow negative probabilities\n",
    "            i = 0\n",
    "    return prob\n",
    "\n",
    "m, b = -0.01, 0.1\n",
    "print(m, b)\n",
    "x = np.linspace(0, 10, 100)\n",
    "y = prob_intact(x, m, b)\n",
    "plt.title('Probability of staying intact as a function of time')\n",
    "plt.xlabel('Age (Gyr)')\n",
    "plt.ylabel('P(intact)')\n",
    "plt.xlim([0,10])\n",
    "plt.ylim([-0.1,1.1])\n",
    "plt.plot(x, y)\n",
    "plt.show"
   ]
  },
  {
   "cell_type": "markdown",
   "metadata": {},
   "source": [
    "#### Below is pymultinest-land. Don't go there. Yet."
   ]
  },
  {
   "cell_type": "code",
   "execution_count": null,
   "metadata": {},
   "outputs": [],
   "source": [
    "# number of dimensions our problem has\n",
    "parameters = [\"m\", \"b\"]\n",
    "n_params = len(parameters)\n",
    "\n",
    "# run MultiNest\n",
    "#pymultinest.run(sculpting_logL, sculpting_prior, n_params, outputfiles_basename=datafile + '_1_', resume = False, verbose = True)\n",
    "#pymultinest.run(loglike, prior, n_params, outputfiles_basename=datafile + '_1_', resume = False, verbose = True)\n",
    "pymultinest.run(loglike, prior, n_params, resume = False, verbose = True)\n"
   ]
  }
 ],
 "metadata": {
  "kernelspec": {
   "display_name": "Python 3",
   "language": "python",
   "name": "python3"
  },
  "language_info": {
   "codemirror_mode": {
    "name": "ipython",
    "version": 3
   },
   "file_extension": ".py",
   "mimetype": "text/x-python",
   "name": "python",
   "nbconvert_exporter": "python",
   "pygments_lexer": "ipython3",
   "version": "3.9.0"
  }
 },
 "nbformat": 4,
 "nbformat_minor": 2
}
