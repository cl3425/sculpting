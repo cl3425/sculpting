{
 "cells": [
  {
   "cell_type": "code",
   "execution_count": 1,
   "metadata": {},
   "outputs": [],
   "source": [
    "import pandas as pd\n",
    "import numpy as np\n",
    "import random\n",
    "import itertools\n",
    "from scipy.stats import loguniform\n",
    "import math\n",
    "import matplotlib.pyplot as plt\n",
    "%matplotlib inline\n",
    "\n",
    "import warnings\n",
    "warnings.simplefilter(\"ignore\")"
   ]
  },
  {
   "cell_type": "markdown",
   "metadata": {},
   "source": [
    "#### Last time, the goal was to find out how many of these systems have transiting planets.\n",
    "Create 20000 FGK dwarfs using the age distribution from Berger et al 2020a, with planets drawn from loguniform period distribution from 2 to 300 days, following the following cases:<br>\n",
    "\n",
    "1) no difference between old and young stars, with 3 planets per star <br>\n",
    "2) 10% of systems still intact (5 or 6 planets; < 2 Gyr old); 90% of systems disrupted (1 or 2 planets; > 2 Gyr) <br>\n",
    "\n",
    "Why these two cases? Kepler data shows 7% (here we round to 10%) of systems are intact. We're using 2 Gyr instead of 1 Gyr like Berger et al in order to maintain the ~10%/90% proportion of sample sizes. ME FROM THE FUTURE: This is a wrong assumption. Skip to end of Case 2. <br>\n",
    "\n",
    "#### Now, we repeat the experiment while varying the age cutoff for young vs old from 1 to 10 Gyrs in increments of 1 Gyr. For each bin, we calculate the posterior likelihood."
   ]
  },
  {
   "cell_type": "code",
   "execution_count": 2,
   "metadata": {
    "scrolled": true
   },
   "outputs": [
    {
     "name": "stdout",
     "output_type": "stream",
     "text": [
      "19969\n",
      "    kepid           tm_designation  teff  teff_err1  teff_err2   logg  \\\n",
      "0  757280  2MASS J19242289+3633538  6543      162.0     -194.0  4.082   \n",
      "1  892667  2MASS J19243045+3637186  6609      159.0     -227.0  4.105   \n",
      "2  892678  2MASS J19243108+3638316  6137      167.0     -186.0  3.936   \n",
      "3  892713  2MASS J19243353+3637220  6106      186.0     -186.0  3.854   \n",
      "4  892828  2MASS J19243904+3637166  6691      188.0     -235.0  4.134   \n",
      "\n",
      "   logg_err1  logg_err2  feh_x  feh_err1  ...  parallax  parallax_err  feh_y  \\\n",
      "0      0.258     -0.172  -0.24      0.25  ...    1.2137        0.0220    NaN   \n",
      "1      0.246     -0.164  -0.26      0.25  ...    0.8512        0.0154    NaN   \n",
      "2      0.428     -0.143  -0.26      0.30  ...    1.0236        0.0259    NaN   \n",
      "3      0.496     -0.124  -0.24      0.30  ...    0.9602        0.0231    NaN   \n",
      "4      0.209     -0.171  -0.26      0.25  ...    0.9660        0.0143    NaN   \n",
      "\n",
      "   feh_err    RUWE  num_gaia_companions  Kmag_final_prov  evstate      logR  \\\n",
      "0      NaN  0.8704                    0              NaN      NaN  0.416641   \n",
      "1      NaN  0.8674                    0              NaN      NaN  0.337060   \n",
      "2      NaN  0.9852                    1       BinaryCorr      NaN  0.529174   \n",
      "3      NaN  0.9872                    1       BinaryCorr      NaN  0.561578   \n",
      "4      NaN  1.0867                    1       BinaryCorr      NaN  0.273001   \n",
      "\n",
      "   is_giant  \n",
      "0     False  \n",
      "1     False  \n",
      "2     False  \n",
      "3     False  \n",
      "4     False  \n",
      "\n",
      "[5 rows x 141 columns]\n"
     ]
    }
   ],
   "source": [
    "berger_kepler = pd.read_csv('berger_kepler_stellar17.csv')\n",
    "print(len(berger_kepler))\n",
    "print(berger_kepler.head())"
   ]
  },
  {
   "cell_type": "code",
   "execution_count": 3,
   "metadata": {
    "scrolled": false
   },
   "outputs": [
    {
     "name": "stdout",
     "output_type": "stream",
     "text": [
      "20014\n",
      "[2, 2, 1, 1, 1, 1, 1, 1, 1, 1, 1, 1, 1, 1, 1, 1, 3, 3, 3, 2, 2, 1, 2, 2, 2, 2, 1, 1, 2, 2, 1, 4, 4, 4, 4, 1, 1, 1, 1, 1, 1, 1, 1, 1, 1, 3, 3, 3, 1, 1, 1, 4, 4, 4, 4, 3, 3, 3, 3, 3, 3, 1, 1, 2, 2, 1, 1, 1, 1, 1, 1, 3, 3, 3, 1, 1, 1, 1, 2, 2, 1, 1, 2, 2, 1, 1, 1, 1, 1, 4, 4, 4, 4, 2, 2, 1, 1, 1, 1, 2, 2, 2, 2, 1, 1, 2, 2, 1, 1, 1, 5, 5, 5, 5, 5, 1, 1, 2, 2, 1, 1, 3, 3, 3, 4, 4, 4, 4, 1, 1, 1, 1, 1, 1, 1, 1, 1, 1, 1, 1, 1, 1, 1, 1, 1, 1, 1, 1, 1, 1, 1, 1, 2, 2, 1, 3, 3, 3, 2, 2, 1]\n",
      "161\n"
     ]
    }
   ],
   "source": [
    "pnum = pd.read_csv('pnum.csv')\n",
    "print(len(pnum))\n",
    "pnums = [int(p) for p in pnum.loc[pnum.pl_pnum > 0].pl_pnum]\n",
    "print(pnums)\n",
    "print(len(pnums))"
   ]
  },
  {
   "cell_type": "code",
   "execution_count": 4,
   "metadata": {
    "scrolled": true
   },
   "outputs": [
    {
     "name": "stdout",
     "output_type": "stream",
     "text": [
      "[ 409 1918 2978 3679 3709 2930 1248  638  469  431  369  348  290  211\n",
      "  153   85   53   38    9    4]\n",
      "[0.14   0.5575 0.975  1.3925 1.81   2.2275 2.645  3.0625 3.48   3.8975\n",
      " 4.315  4.7325 5.15   5.5675 5.985  6.4025 6.82   7.2375 7.655  8.0725\n",
      " 8.49  ]\n"
     ]
    },
    {
     "data": {
      "image/png": "[encoded data removed]",
      "text/plain": [
       "<Figure size 432x288 with 1 Axes>"
      ]
     },
     "metadata": {
      "needs_background": "light"
     },
     "output_type": "display_data"
    }
   ],
   "source": [
    "# age histogram for the 20000 FGK non-binary dwarfs from Berger et al 2020a with well-constrained ages\n",
    "nbins = 20\n",
    "age_hist, age_bin_edges = np.histogram(berger_kepler.iso_age, bins=nbins)\n",
    "print(age_hist)\n",
    "print(age_bin_edges)\n",
    "plt.bar(age_bin_edges[:-1], age_hist, width = 0.25, color='#0504aa',alpha=0.7)\n",
    "plt.ylabel(\"count\")\n",
    "plt.xlabel(\"age [Gyr]\")\n",
    "plt.show()"
   ]
  },
  {
   "cell_type": "code",
   "execution_count": 5,
   "metadata": {},
   "outputs": [
    {
     "name": "stdout",
     "output_type": "stream",
     "text": [
      "0.16134894568048957\n",
      "0.13801577758850292\n",
      "20000 [1.50241241 5.22188188 0.55791792 ... 1.22658659 1.19315315 1.7448048 ]\n"
     ]
    },
    {
     "data": {
      "image/png": "[encoded data removed]",
      "text/plain": [
       "<Figure size 432x288 with 2 Axes>"
      ]
     },
     "metadata": {
      "needs_background": "light"
     },
     "output_type": "display_data"
    },
    {
     "name": "stdout",
     "output_type": "stream",
     "text": [
      "[1.50241241 5.22188188 0.55791792 ... 1.22658659 1.19315315 1.7448048 ]\n"
     ]
    }
   ],
   "source": [
    "# courtesy of https://stackoverflow.com/questions/17821458/random-number-from-histogram\n",
    "from scipy.stats import gaussian_kde\n",
    "\n",
    "def generate_rand_from_pdf(pdf, x_grid, n):\n",
    "    cdf = np.cumsum(pdf) # create cdf\n",
    "    cdf = cdf / cdf[-1] # normalize cdf\n",
    "    values = np.random.rand(n) \n",
    "    value_bins = np.searchsorted(cdf, values) # return positions in cdf vector where random values should go\n",
    "    random_from_cdf = x_grid[value_bins] # select x_d positions based on these random positions\n",
    "    return random_from_cdf\n",
    "\n",
    "def kde(x, x_grid, bandwidth):\n",
    "    \"\"\"Kernel Density Estimation with Scipy\"\"\"\n",
    "    #kde = gaussian_kde(x, bw_method=bandwidth / x.std(ddof=0)) # ddof=1 means std divisor is N-1 instead of N\n",
    "    #kde = gaussian_kde(x, bw_method=np.power(len(x), -0.2)) # ddof=1 means std divisor is N-1 instead of N\n",
    "    kde = gaussian_kde(x, bw_method=0.15) # constant bandwidth so imbalance in sample size doesn't drive distribution\n",
    "    print(bandwidth/x.std(ddof=1)) # this is bw used in S/O\n",
    "    print(np.power(len(x), -0.2)) # the bw if I use Scott's factor as the bw to multiply with covariance matrix\n",
    "    return kde.evaluate(x_grid)\n",
    "\n",
    "#kdepdf = kde(x, x_d, bandwidth=0.1) # generate KDE model\n",
    "#random_from_kde = generate_rand_from_pdf(kdepdf, x_d) # generate random data from KDE distribution\n",
    "\n",
    "nbins = 20\n",
    "def run_kde(data, draws):\n",
    "    hist, bins = np.histogram(data, bins=100)\n",
    "\n",
    "    x_grid = np.linspace(min(data), max(data), 1000)\n",
    "    kdepdf = kde(data, x_grid, bandwidth=0.2) # generate KDE model\n",
    "    random_from_kde = generate_rand_from_pdf(kdepdf, x_grid, draws) # generate random data from KDE distribution\n",
    "    print(len(random_from_kde), random_from_kde) # these are my star ages\n",
    "    bin_midpoints = bins[:-1] + np.diff(bins) / 2 # get positions of bin midpoints\n",
    "    random_from_cdf = generate_rand_from_pdf(hist, bin_midpoints, draws) # generate random data from the histogram\n",
    "\n",
    "    plt.subplot(121)\n",
    "    plt.hist(data, nbins, density=True, alpha=0.5, label='hist') # plot histogram of normalized data\n",
    "    plt.plot(x_grid, kdepdf, color='r', alpha=0.5, lw=3, label='kde') # plot KDE over normalized histogram\n",
    "    plt.legend()\n",
    "    plt.subplot(122)\n",
    "    plt.hist(random_from_cdf, nbins, alpha=0.5, label='from hist') # plot histogram of data drawn from OG histogram\n",
    "    plt.hist(random_from_kde, nbins, alpha=0.5, label='from kde') # plot histogram of data drawn from KDE\n",
    "    plt.legend()\n",
    "    plt.show()\n",
    "    return random_from_kde, random_from_cdf\n",
    "    \n",
    "stars_age1_kde, stars_age1_cdf = run_kde(berger_kepler.iso_age, 20000)\n",
    "print(stars_age1_kde)"
   ]
  },
  {
   "cell_type": "code",
   "execution_count": 6,
   "metadata": {},
   "outputs": [
    {
     "name": "stdout",
     "output_type": "stream",
     "text": [
      "60000 [111.3157654    2.1212214   28.94850219 ...  30.57518121  26.79624939\n",
      "  27.48041965]\n",
      "[25713  7615  4500  3279  2572  2121  1846  1530  1367  1235  1118  1026\n",
      "   954   874   820   771   712   679   669   599]\n",
      "[  2.00009447  16.89972042  31.79934637  46.69897231  61.59859826\n",
      "  76.49822421  91.39785016 106.29747611 121.19710206 136.09672801\n",
      " 150.99635396 165.89597991 180.79560586 195.69523181 210.59485776\n",
      " 225.49448371 240.39410966 255.29373561 270.19336156 285.09298751\n",
      " 299.99261346]\n"
     ]
    },
    {
     "data": {
      "image/png": "[encoded data removed]",
      "text/plain": [
       "<Figure size 432x288 with 1 Axes>"
      ]
     },
     "metadata": {
      "needs_background": "light"
     },
     "output_type": "display_data"
    }
   ],
   "source": [
    "# host star follows age distribution of Berger et al 2020a\n",
    "# 3 planets per star, with periods following loguniform distribution in [2, 300] days\n",
    "from scipy.stats import loguniform\n",
    "\n",
    "planets_per1 = loguniform.rvs(2, 300, size=60000)\n",
    "print(len(planets_per1), planets_per1)\n",
    "\n",
    "# histogram for 60000 planet periods\n",
    "per_hist, per_bin_edges = np.histogram(planets_per1, bins=nbins)\n",
    "print(per_hist)\n",
    "print(per_bin_edges)\n",
    "plt.bar(per_bin_edges[:-1], per_hist, width = 10, color='#0504aa',alpha=0.7)\n",
    "plt.ylabel(\"count\")\n",
    "plt.xlabel(\"period [days]\")\n",
    "plt.show()"
   ]
  },
  {
   "cell_type": "code",
   "execution_count": 7,
   "metadata": {},
   "outputs": [
    {
     "name": "stdout",
     "output_type": "stream",
     "text": [
      "[3021 2910 3067 2981 2938 3014 3201 3019 2997 3000 3036 2926 2970 2997\n",
      " 2915 3072 2932 2979 3005 3020]\n",
      "[0.69319441 0.94372258 1.19425076 1.44477893 1.6953071  1.94583527\n",
      " 2.19636344 2.44689162 2.69741979 2.94794796 3.19847613 3.4490043\n",
      " 3.69953248 3.95006065 4.20058882 4.45111699 4.70164516 4.95217334\n",
      " 5.20270151 5.45322968 5.70375785]\n"
     ]
    },
    {
     "data": {
      "image/png": "[encoded data removed]",
      "text/plain": [
       "<Figure size 432x288 with 1 Axes>"
      ]
     },
     "metadata": {
      "needs_background": "light"
     },
     "output_type": "display_data"
    }
   ],
   "source": [
    "per_hist, per_bin_edges = np.histogram(np.log(planets_per1), bins=nbins)\n",
    "print(per_hist)\n",
    "print(per_bin_edges)\n",
    "plt.bar(per_bin_edges[:-1], per_hist, width = 0.2, color='#0504aa',alpha=0.7)\n",
    "plt.ylabel(\"count\")\n",
    "plt.xlabel(\"log period [days]\")\n",
    "plt.show()"
   ]
  },
  {
   "cell_type": "markdown",
   "metadata": {},
   "source": [
    "### Transits"
   ]
  },
  {
   "cell_type": "code",
   "execution_count": 8,
   "metadata": {
    "scrolled": true
   },
   "outputs": [
    {
     "name": "stdout",
     "output_type": "stream",
     "text": [
      "0.38690748364419597\n",
      "0.13801577758850292\n",
      "20000 [1.52377377 1.36669269 2.29754354 ... 1.58776977 1.53540941 3.50183183]\n"
     ]
    },
    {
     "data": {
      "image/png": "[encoded data removed]",
      "text/plain": [
       "<Figure size 432x288 with 2 Axes>"
      ]
     },
     "metadata": {
      "needs_background": "light"
     },
     "output_type": "display_data"
    }
   ],
   "source": [
    "stars_radius_kde, stars_radius_cdf = run_kde(berger_kepler.iso_rad, 20000)"
   ]
  },
  {
   "cell_type": "code",
   "execution_count": 9,
   "metadata": {},
   "outputs": [],
   "source": [
    "def transit_duration(P, r_star, r_planet, b, a, inc): # Winn 2011 Eqn 14\n",
    "    arg1 = np.sqrt((1+(r_planet/r_star))**2 - b**2)\n",
    "    arg2 = (r_star / a) * (arg1 / np.sin(np.pi/2 - inc)) # was sin(i) but need to adjust for different index\n",
    "    return (P / np.pi) * np.arcsin(arg2)\n",
    "\n",
    "def transit_duration_paw(P, r_star, r_planet, b, a, inc): \n",
    "    # https://www.paulanthonywilson.com/exoplanets/exoplanet-detection-techniques/the-exoplanet-transit-method/\n",
    "    arg1 = np.sqrt((1+(r_planet/r_star))**2 - b**2)\n",
    "    arg2 = (r_star / a) * arg1 # the only difference is I don't divide by sin(i)\n",
    "    return (P / np.pi) * np.arcsin(arg2)\n",
    "    \n",
    "def transit_duration_normalized_fab(P, r_star, r_planet, b): # Fabrycky 2012 unnamed eqn at the end of pg 8\n",
    "    arg1 = np.sqrt((1+(r_planet/r_star))**2 - b**2)\n",
    "    return 2 * arg1 * r_star / (P**(-1./3))\n",
    "    \n",
    "def calculate_xi(tdur1, tdur2, P1, P2): # Fabrycky 2012 Eqn 1\n",
    "    arg1 = tdur1/(P1**(1./3))\n",
    "    arg2 = tdur2/(P2**(1./3))\n",
    "    return arg1 / arg2\n",
    "\n",
    "def day_to_year(per):\n",
    "    return per/365.24 \n",
    "\n",
    "def solar_radius_to_au(radius):\n",
    "    return 0.00465047*radius\n",
    "\n",
    "def earth_radius_to_au(radius):\n",
    "    return 4.26352e-5*radius\n",
    "\n",
    "def sim_transits(r_star, num_planets, mu, sigma, mu_degrees, sigma_degrees, r_planet, age_star):\n",
    "    \"\"\"\n",
    "    In a loop of stellar radii: draw number of planets and their periods, draw midplane for the system, \n",
    "    draw inclination from the midplane for each planet, convert period to a, calculate impact parameter b, \n",
    "    calculate transit duration, calculate normalized transit duration xi (aka mutual inclination proxy),\n",
    "    classify each planet as transiting or not\n",
    "    \n",
    "    Parameters\n",
    "    ----------\n",
    "    r_star: radius of the star\n",
    "    num_planets: number of planets sampled based on stellar age check\n",
    "    mu: planetary disk midplane in radians\n",
    "    sigma: sigma used in drawing planet inclinations from around the midplane\n",
    "    mu_degrees: nobody's perfect\n",
    "    sigma_degrees: nobody's perfect\n",
    "    r_planet: radius of the planet\n",
    "    age_star: age of the star\n",
    "    \n",
    "    Returns\n",
    "    -------\n",
    "    None: populates a bunch of different lists set up before the loop in which function is called,\n",
    "    including those for inclination, period, semi-major axis, impact parameter, and transit duration\n",
    "    \n",
    "    \"\"\"\n",
    "    \n",
    "    # draw planet periods from loguniform distribution according to num_planets\n",
    "    planet_per_case2 = loguniform.rvs(2, 300, size=num_planets) \n",
    "    planets_per_case2.append(planet_per_case2) \n",
    "\n",
    "    # inclinations for impact parameter formula\n",
    "    inclination = np.random.normal(mu, sigma, num_planets) # need this for later\n",
    "    inclinations.append(inclination) \n",
    "    inclinations_degrees.append(np.random.normal(mu_degrees, sigma_degrees, num_planets)) \n",
    "\n",
    "    # semi-major axes\n",
    "    planet_a_case2 = day_to_year(planet_per_case2)**(2./3) # calculate semi-major axes based on Kepler's Third Law\n",
    "    planets_a_case2.append(planet_a_case2) \n",
    "\n",
    "    # calculate impact parameters\n",
    "    b = (planet_a_case2 * np.sin(inclination))/r_star\n",
    "    impact_parameters.append(b)\n",
    "\n",
    "    # calculate transit durations using Winn 2011 formula\n",
    "    tdur = transit_duration(day_to_year(planet_per_case2), solar_radius_to_au(r_star), \n",
    "                            solar_radius_to_au(r_planet), b, planet_a_case2, inclination)\n",
    "    \n",
    "    \"\"\"\n",
    "    ### calculate xi for the system\n",
    "    # periods and tdurs already match, so divide them to get normalized tdurs\n",
    "    tdur_normalized = tdur/(day_to_year(planet_per_case2)**(1./3))\n",
    "\n",
    "    # make sure I keep info on which tdur_normalized corresponds with which planet\n",
    "    temp = pd.DataFrame({'period': planet_per_case2, 'tdur_normalized': tdur_normalized})\n",
    "    temp = temp.dropna()\n",
    "\n",
    "    # guarantee that xi will always have normalized transit durations of inner planet in numerator \n",
    "    temp = temp.sort_values(by='period') \n",
    "    #print(temp)\n",
    "    tdur_normalized_combos = list(itertools.combinations(temp.tdur_normalized,2))\n",
    "    #print(\"combos: \", tdur_normalized_combos)\n",
    "\n",
    "    for combo in tdur_normalized_combos:\n",
    "        xi.append(combo[0]/combo[1])\n",
    "        if age_star <= 1.:\n",
    "            xi_young.append(combo[0]/combo[1])\n",
    "        elif age_star > 1:\n",
    "            xi_old.append(combo[0]/combo[1])\n",
    "    \"\"\"\n",
    "\n",
    "    # note individual planets' transit status\n",
    "    transit_status.append([1 if np.abs(param) <= 1. else 0 for param in b])\n",
    "\n",
    "    # transit check based on impact parameters\n",
    "    transit_multiplicities.append(len([param for param in b if np.abs(param) <= 1.]))"
   ]
  },
  {
   "cell_type": "code",
   "execution_count": 69,
   "metadata": {},
   "outputs": [
    {
     "name": "stdout",
     "output_type": "stream",
     "text": [
      "6.0\n",
      "20000\n",
      "7.0\n",
      "20000\n",
      "8.0\n",
      "20000\n",
      "9.0\n",
      "20000\n",
      "10.0\n",
      "20000\n"
     ]
    }
   ],
   "source": [
    "\"\"\"\n",
    "# we use stars_age1_kde and planets_per1\n",
    "# units are AU and year\n",
    "# for each system, draw the midplane from uniform distribution, then draw planets' line of transit from Gaussian\n",
    "# Case 2\n",
    "\n",
    "path = '/Users/chris/Desktop/sculpting/'\n",
    "sigma = np.pi/90 # two degrees, based on Fig 6 in Fabrycky 2012\n",
    "sigma_degrees = 2\n",
    "for j in range(10)[5:10]:\n",
    "    star_index = []\n",
    "    midplanes = []\n",
    "    midplanes_degrees = []\n",
    "    inclinations = []\n",
    "    inclinations_degrees = []\n",
    "    planets_per_case2 = [] # maybe better to recreate it here b/c I can then generalize it for Case 2?\n",
    "    planets_a_case2 = []\n",
    "    star_radius = []\n",
    "    impact_parameters = []\n",
    "    transit_status = []\n",
    "    transit_multiplicities = []\n",
    "    xi = []\n",
    "    xi_old = []\n",
    "    xi_young = []\n",
    "    threshold = float(j+1)\n",
    "    print(threshold)\n",
    "    for i in range(len(stars_radius_kde)):\n",
    "        # star\n",
    "        star_index.append(i)\n",
    "        #r_star = stars_radius_kde[i] # nope\n",
    "        r_star = solar_radius_to_au(1.) # set to 1 solar radius\n",
    "        age_star = stars_age1_kde[i]\n",
    "        mu = np.random.uniform(-np.pi/2,np.pi/2,1) # create midplane for star \n",
    "        mu_degrees = np.random.uniform(-90,90,1) # more interpretable\n",
    "        midplanes.append(mu)\n",
    "        midplanes_degrees.append(mu_degrees)\n",
    "\n",
    "        # planet\n",
    "        r_planet = earth_radius_to_au(2.) # use two Earth radii; will make negligible difference\n",
    "        if age_star <= threshold:\n",
    "            # young system has 5 or 6 planets\n",
    "            num_planets = random.choice([5, 6]) \n",
    "\n",
    "            # simulate transit-related characteristics for 5 or 6 planets\n",
    "            sim_transits(r_star, num_planets, mu, sigma, mu_degrees, sigma_degrees, r_planet, age_star)\n",
    "\n",
    "        elif age_star > threshold:\n",
    "            # old system has 1 or 2 planets\n",
    "            num_planets = random.choice([1, 2]) \n",
    "\n",
    "            # simulate transit-related characteristics for 1 or 2 planets\n",
    "            sim_transits(r_star, num_planets, mu, sigma, mu_degrees, sigma_degrees, r_planet, age_star)\n",
    "\n",
    "    midplanes = np.concatenate(midplanes, axis=0) # turn list of lists of one into regular list\n",
    "\n",
    "    transits_dict = {'star_ages': stars_age1_kde, 'planet_periods': planets_per_case2, \n",
    "                     'semi_major_axes': planets_a_case2, 'midplane': midplanes, \n",
    "                     'midplane_degrees': midplanes_degrees, 'planet_inclinations': inclinations,\n",
    "                     'planet_inclinations_degrees': inclinations_degrees, 'star_radius': stars_radius_kde, \n",
    "                     'impact_parameters': impact_parameters, 'transit_status': transit_status, \n",
    "                     'transit_multiplicity': transit_multiplicities, 'star_index': star_index}\n",
    "\n",
    "    transits_case2 = pd.DataFrame(transits_dict)\n",
    "    #print(transits_case2.head())\n",
    "    print(len(transits_case2))\n",
    "    transits_case2.to_csv(path+'transit_data_' + str(int(j)+1) + '.csv', index=False)\n",
    "\"\"\"   "
   ]
  },
  {
   "cell_type": "code",
   "execution_count": 11,
   "metadata": {},
   "outputs": [
    {
     "name": "stdout",
     "output_type": "stream",
     "text": [
      "['/Users/chris/Desktop/sculpting/models/transit_data_1.csv', '/Users/chris/Desktop/sculpting/models/transit_data_2.csv', '/Users/chris/Desktop/sculpting/models/transit_data_3.csv', '/Users/chris/Desktop/sculpting/models/transit_data_4.csv', '/Users/chris/Desktop/sculpting/models/transit_data_5.csv', '/Users/chris/Desktop/sculpting/models/transit_data_6.csv', '/Users/chris/Desktop/sculpting/models/transit_data_7.csv', '/Users/chris/Desktop/sculpting/models/transit_data_8.csv', '/Users/chris/Desktop/sculpting/models/transit_data_9.csv', '/Users/chris/Desktop/sculpting/models/transit_data_10.csv']\n",
      "   star_ages               planet_periods          semi_major_axes  midplane  \\\n",
      "0   3.316176      [8.64529076 3.85626988]  [0.08243928 0.04812744]  1.162765   \n",
      "1   1.619429  [251.07746444  16.56609854]  [0.77890818 0.12718267] -1.100988   \n",
      "2   2.254665      [4.79505557 5.71131505]  [0.0556515  0.06253241]  0.513240   \n",
      "3   2.279740                [27.96391226]              [0.1803072]  1.511828   \n",
      "4   1.886897                [122.7879542]             [0.48348717]  0.362393   \n",
      "\n",
      "  midplane_degrees        planet_inclinations  planet_inclinations_degrees  \\\n",
      "0     [80.4660091]    [1.17436369 1.07044524]    [82.19288399 80.65218953]   \n",
      "1   [-37.21588594]  [-1.01434302 -1.16641348]  [-34.72755173 -35.41504163]   \n",
      "2    [-7.35888507]    [0.48199691 0.46628735]    [-4.79854326 -6.76126064]   \n",
      "3   [-84.73489434]               [1.53062978]               [-84.52953694]   \n",
      "4    [81.84831799]               [0.36622847]                [82.91635434]   \n",
      "\n",
      "   star_radius              impact_parameters transit_status  \\\n",
      "0     1.477231      [16.35224923  9.08030696]         [0, 0]   \n",
      "1     2.093920  [-142.22158491  -25.14257725]         [0, 0]   \n",
      "2     1.488867        [5.54722963 6.04517183]         [0, 0]   \n",
      "3     2.280090                  [38.74055054]            [0]   \n",
      "4     2.117191                  [37.22959128]            [0]   \n",
      "\n",
      "   transit_multiplicity  star_index  \n",
      "0                     0           0  \n",
      "1                     0           1  \n",
      "2                     0           2  \n",
      "3                     0           3  \n",
      "4                     0           4  \n"
     ]
    }
   ],
   "source": [
    "from glob import glob\n",
    "import os\n",
    "path = '/Users/chris/Desktop/sculpting/'\n",
    "# can't order by filename b/c then 10 < 2; instead, order by time of file creation\n",
    "file_names = sorted(glob(path+'models/transit_data_*.csv'), key=os.path.getmtime)\n",
    "print(file_names)\n",
    "\n",
    "# create dfs as part of a dict\n",
    "dfs = {i+1: pd.read_csv(path+'models/transit_data_'+str(i+1)+'.csv') for i in range(len(file_names))}\n",
    "print(dfs[1].head())"
   ]
  },
  {
   "cell_type": "code",
   "execution_count": 12,
   "metadata": {
    "scrolled": true
   },
   "outputs": [
    {
     "name": "stdout",
     "output_type": "stream",
     "text": [
      "791\n",
      "1023\n",
      "1295\n",
      "1353\n",
      "1353\n",
      "1395\n",
      "1393\n",
      "1406\n",
      "1381\n",
      "1351\n"
     ]
    }
   ],
   "source": [
    "for i in range(len(file_names)):\n",
    "    print(len(dfs[i+1].loc[dfs[i+1].transit_multiplicity > 0]))\n"
   ]
  },
  {
   "cell_type": "code",
   "execution_count": 13,
   "metadata": {
    "scrolled": false
   },
   "outputs": [
    {
     "data": {
      "text/html": [
       "<div>\n",
       "<style scoped>\n",
       "    .dataframe tbody tr th:only-of-type {\n",
       "        vertical-align: middle;\n",
       "    }\n",
       "\n",
       "    .dataframe tbody tr th {\n",
       "        vertical-align: top;\n",
       "    }\n",
       "\n",
       "    .dataframe thead th {\n",
       "        text-align: right;\n",
       "    }\n",
       "</style>\n",
       "<table border=\"1\" class=\"dataframe\">\n",
       "  <thead>\n",
       "    <tr style=\"text-align: right;\">\n",
       "      <th></th>\n",
       "      <th>star_ages</th>\n",
       "      <th>planet_periods</th>\n",
       "      <th>semi_major_axes</th>\n",
       "      <th>midplane</th>\n",
       "      <th>midplane_degrees</th>\n",
       "      <th>planet_inclinations</th>\n",
       "      <th>planet_inclinations_degrees</th>\n",
       "      <th>star_radius</th>\n",
       "      <th>impact_parameters</th>\n",
       "      <th>transit_status</th>\n",
       "      <th>transit_multiplicity</th>\n",
       "      <th>star_index</th>\n",
       "    </tr>\n",
       "  </thead>\n",
       "  <tbody>\n",
       "    <tr>\n",
       "      <th>10</th>\n",
       "      <td>0.666577</td>\n",
       "      <td>[ 23.93631154 181.5553408    6.7338864    2.04...</td>\n",
       "      <td>[0.16254961 0.62750973 0.06978975 0.03148826 0...</td>\n",
       "      <td>0.230943</td>\n",
       "      <td>[46.39894863]</td>\n",
       "      <td>[0.2379208  0.25828986 0.28671309 0.17223877 0...</td>\n",
       "      <td>[48.81168399 43.71163982 47.87714417 46.705262...</td>\n",
       "      <td>1.896114</td>\n",
       "      <td>[ 8.23789834 34.46603313  4.24400378  1.160468...</td>\n",
       "      <td>[0, 0, 0, 0, 0, 0]</td>\n",
       "      <td>0</td>\n",
       "      <td>10</td>\n",
       "    </tr>\n",
       "    <tr>\n",
       "      <th>16</th>\n",
       "      <td>0.348959</td>\n",
       "      <td>[52.97206715  7.55747501 46.54025017 39.630216...</td>\n",
       "      <td>[0.27604447 0.07537007 0.25322131 0.22749162 0...</td>\n",
       "      <td>1.523946</td>\n",
       "      <td>[22.86911402]</td>\n",
       "      <td>[1.54891391 1.54225054 1.45126496 1.56215    1...</td>\n",
       "      <td>[25.93159797 22.3299936  22.0286873  24.232224...</td>\n",
       "      <td>2.588434</td>\n",
       "      <td>[59.34419235 16.20037649 54.06216637 48.916156...</td>\n",
       "      <td>[0, 0, 0, 0, 0, 0]</td>\n",
       "      <td>0</td>\n",
       "      <td>16</td>\n",
       "    </tr>\n",
       "    <tr>\n",
       "      <th>20</th>\n",
       "      <td>0.833744</td>\n",
       "      <td>[ 8.99319938 13.32366598  7.91164268 27.322060...</td>\n",
       "      <td>[0.08463641 0.10999263 0.07770678 0.17753749 0...</td>\n",
       "      <td>0.439137</td>\n",
       "      <td>[-8.68629547]</td>\n",
       "      <td>[0.38067789 0.42936338 0.48853947 0.46399735 0...</td>\n",
       "      <td>[-12.38083175  -6.1394396   -7.16462661 -10.71...</td>\n",
       "      <td>1.360875</td>\n",
       "      <td>[ 6.76203762  9.8461143   7.84235622 17.084877...</td>\n",
       "      <td>[0, 0, 0, 0, 0]</td>\n",
       "      <td>0</td>\n",
       "      <td>20</td>\n",
       "    </tr>\n",
       "    <tr>\n",
       "      <th>24</th>\n",
       "      <td>0.733443</td>\n",
       "      <td>[ 51.98333359   2.59832002 140.81440294  16.29...</td>\n",
       "      <td>[0.27259875 0.03698931 0.52971934 0.12576852 0...</td>\n",
       "      <td>-1.201682</td>\n",
       "      <td>[-5.39004558]</td>\n",
       "      <td>[-1.19580833 -1.13383593 -1.18498956 -1.186710...</td>\n",
       "      <td>[-6.33100349 -5.530245   -2.5993743  -3.688169...</td>\n",
       "      <td>1.686673</td>\n",
       "      <td>[ -54.54425333   -7.20655602 -105.53393419  -2...</td>\n",
       "      <td>[0, 0, 0, 0, 0, 0]</td>\n",
       "      <td>0</td>\n",
       "      <td>24</td>\n",
       "    </tr>\n",
       "    <tr>\n",
       "      <th>61</th>\n",
       "      <td>0.449259</td>\n",
       "      <td>[ 3.30036579 28.91259956  2.02924668  2.346066...</td>\n",
       "      <td>[0.04338329 0.18436248 0.03136926 0.03455477 0...</td>\n",
       "      <td>-0.977624</td>\n",
       "      <td>[13.33878488]</td>\n",
       "      <td>[-0.98140007 -0.98279448 -0.8925048  -1.014947...</td>\n",
       "      <td>[15.23416258  9.22542411 14.45856676 16.734055...</td>\n",
       "      <td>1.727397</td>\n",
       "      <td>[ -7.75480912 -32.98568368  -5.25227516  -6.31...</td>\n",
       "      <td>[0, 0, 0, 0, 0, 0]</td>\n",
       "      <td>0</td>\n",
       "      <td>61</td>\n",
       "    </tr>\n",
       "  </tbody>\n",
       "</table>\n",
       "</div>"
      ],
      "text/plain": [
       "    star_ages                                     planet_periods  \\\n",
       "10   0.666577  [ 23.93631154 181.5553408    6.7338864    2.04...   \n",
       "16   0.348959  [52.97206715  7.55747501 46.54025017 39.630216...   \n",
       "20   0.833744  [ 8.99319938 13.32366598  7.91164268 27.322060...   \n",
       "24   0.733443  [ 51.98333359   2.59832002 140.81440294  16.29...   \n",
       "61   0.449259  [ 3.30036579 28.91259956  2.02924668  2.346066...   \n",
       "\n",
       "                                      semi_major_axes  midplane  \\\n",
       "10  [0.16254961 0.62750973 0.06978975 0.03148826 0...  0.230943   \n",
       "16  [0.27604447 0.07537007 0.25322131 0.22749162 0...  1.523946   \n",
       "20  [0.08463641 0.10999263 0.07770678 0.17753749 0...  0.439137   \n",
       "24  [0.27259875 0.03698931 0.52971934 0.12576852 0... -1.201682   \n",
       "61  [0.04338329 0.18436248 0.03136926 0.03455477 0... -0.977624   \n",
       "\n",
       "   midplane_degrees                                planet_inclinations  \\\n",
       "10    [46.39894863]  [0.2379208  0.25828986 0.28671309 0.17223877 0...   \n",
       "16    [22.86911402]  [1.54891391 1.54225054 1.45126496 1.56215    1...   \n",
       "20    [-8.68629547]  [0.38067789 0.42936338 0.48853947 0.46399735 0...   \n",
       "24    [-5.39004558]  [-1.19580833 -1.13383593 -1.18498956 -1.186710...   \n",
       "61    [13.33878488]  [-0.98140007 -0.98279448 -0.8925048  -1.014947...   \n",
       "\n",
       "                          planet_inclinations_degrees  star_radius  \\\n",
       "10  [48.81168399 43.71163982 47.87714417 46.705262...     1.896114   \n",
       "16  [25.93159797 22.3299936  22.0286873  24.232224...     2.588434   \n",
       "20  [-12.38083175  -6.1394396   -7.16462661 -10.71...     1.360875   \n",
       "24  [-6.33100349 -5.530245   -2.5993743  -3.688169...     1.686673   \n",
       "61  [15.23416258  9.22542411 14.45856676 16.734055...     1.727397   \n",
       "\n",
       "                                    impact_parameters      transit_status  \\\n",
       "10  [ 8.23789834 34.46603313  4.24400378  1.160468...  [0, 0, 0, 0, 0, 0]   \n",
       "16  [59.34419235 16.20037649 54.06216637 48.916156...  [0, 0, 0, 0, 0, 0]   \n",
       "20  [ 6.76203762  9.8461143   7.84235622 17.084877...     [0, 0, 0, 0, 0]   \n",
       "24  [ -54.54425333   -7.20655602 -105.53393419  -2...  [0, 0, 0, 0, 0, 0]   \n",
       "61  [ -7.75480912 -32.98568368  -5.25227516  -6.31...  [0, 0, 0, 0, 0, 0]   \n",
       "\n",
       "    transit_multiplicity  star_index  \n",
       "10                     0          10  \n",
       "16                     0          16  \n",
       "20                     0          20  \n",
       "24                     0          24  \n",
       "61                     0          61  "
      ]
     },
     "execution_count": 13,
     "metadata": {},
     "output_type": "execute_result"
    }
   ],
   "source": [
    "transits_case2 = dfs[1]\n",
    "transits_case2.loc[transits_case2.star_ages < 1.].head()"
   ]
  },
  {
   "cell_type": "code",
   "execution_count": 14,
   "metadata": {
    "scrolled": true
   },
   "outputs": [
    {
     "data": {
      "image/png": "[encoded data removed]",
      "text/plain": [
       "<Figure size 720x360 with 4 Axes>"
      ]
     },
     "metadata": {
      "needs_background": "light"
     },
     "output_type": "display_data"
    }
   ],
   "source": [
    "# plot transit multiplicity \n",
    "fig = plt.figure(figsize=(10, 5))\n",
    "ax = fig.add_subplot(2, 2, 1)\n",
    "transits_case2.transit_multiplicity.value_counts().plot(kind='bar', rot=0)\n",
    "plt.ylabel('number of systems')\n",
    "\n",
    "# systems w/transiters only\n",
    "ax = fig.add_subplot(2, 2, 2)\n",
    "transits_case2.loc[transits_case2.transit_multiplicity > 0].transit_multiplicity.value_counts().plot(kind='bar', rot=0)\n",
    "\n",
    "# young systems w/transiters\n",
    "ax = fig.add_subplot(2, 2, 3)\n",
    "transits_case2.loc[(transits_case2.star_ages < 1.) & (transits_case2.transit_multiplicity > 0)].transit_multiplicity.value_counts().plot(kind='bar', rot=0)\n",
    "plt.ylabel('number of systems')\n",
    "plt.xlabel('number of transiting planets')\n",
    "\n",
    "# old systems w/transiters\n",
    "ax = fig.add_subplot(2, 2, 4)\n",
    "transits_case2.loc[(transits_case2.star_ages > 1.) & (transits_case2.transit_multiplicity > 0)].transit_multiplicity.value_counts().plot(kind='bar', rot=0)\n",
    "plt.xlabel('number of transiting planets')\n",
    "\n",
    "plt.show()\n",
    "\n",
    "# young systems with one tranister shouldn't be the majority but should be overrepresented than expected\n",
    "# this isn't the case...why?"
   ]
  },
  {
   "cell_type": "code",
   "execution_count": 15,
   "metadata": {},
   "outputs": [
    {
     "name": "stdout",
     "output_type": "stream",
     "text": [
      "17479\n",
      "2521\n",
      "601\n",
      "190\n",
      "0.0753669178897263\n",
      "0.034384118084558615\n",
      "0.03955\n",
      "0.05415\n",
      "1.3691529709228825\n"
     ]
    }
   ],
   "source": [
    "print(len(transits_case2.loc[(transits_case2.star_ages > 1.)])) # total old'uns\n",
    "print(len(transits_case2.loc[(transits_case2.star_ages < 1.)])) # total young'uns\n",
    "print(len(transits_case2.loc[(transits_case2.star_ages > 1.) & (transits_case2.transit_multiplicity > 0)])) # old'uns w/transiters\n",
    "print(len(transits_case2.loc[(transits_case2.star_ages < 1.) & (transits_case2.transit_multiplicity > 0)])) # young'uns w/transiters\n",
    "\n",
    "# young systems w/transiters\n",
    "print(len(transits_case2.loc[(transits_case2.star_ages < 1.) & (transits_case2.transit_multiplicity > 0)])/len(transits_case2.loc[(transits_case2.star_ages < 1.)]))\n",
    "# old systems w/transiters\n",
    "print(len(transits_case2.loc[(transits_case2.star_ages > 1.) & (transits_case2.transit_multiplicity > 0)])/len(transits_case2.loc[(transits_case2.star_ages > 1.)]))\n",
    "\n",
    "# this is weird - we'd expect young systems, which have more close-in planets, to have more transiters on average\n",
    "# maybe these differences disappear before the 1 Gyr threshold of young vs old? But then we'd expect them to be the same...\n",
    "# or maybe the loguniform period draws aren't biased enough to get close-in-enough periods for transit effects to kick in. Same problem as above though...\n",
    "\n",
    "print((190+601)/(2521+17479))\n",
    "print(np.mean(transits_case2.transit_multiplicity))\n",
    "print(np.mean(transits_case2.loc[transits_case2.transit_multiplicity > 0].transit_multiplicity))\n"
   ]
  },
  {
   "cell_type": "markdown",
   "metadata": {},
   "source": [
    "### Posteriors"
   ]
  },
  {
   "cell_type": "markdown",
   "metadata": {},
   "source": [
    "Poisson probability: P(k|lambda) = lambda^k * e^-lambda / k!, where k is count in the data and lambda is the expected count from each tuned model of simulations with varied age cutoffs <br>\n",
    "Poisson likelihood: L = PI from i to N (lambda_i^k_i * e^-lambda_i / k_i!)"
   ]
  },
  {
   "cell_type": "markdown",
   "metadata": {},
   "source": [
    "For each system, how many do I expect to transit? ie. vary age threshold to get 10 sets of systems; for each set, expected value = variance = lambda (by Poisson distribution) = number of stars at each transit multiplicity bin. k is the data version of this."
   ]
  },
  {
   "cell_type": "code",
   "execution_count": 16,
   "metadata": {},
   "outputs": [
    {
     "data": {
      "text/plain": [
       "<AxesSubplot:>"
      ]
     },
     "execution_count": 16,
     "metadata": {},
     "output_type": "execute_result"
    },
    {
     "data": {
      "image/png": "[encoded data removed]",
      "text/plain": [
       "<Figure size 432x288 with 1 Axes>"
      ]
     },
     "metadata": {
      "needs_background": "light"
     },
     "output_type": "display_data"
    }
   ],
   "source": [
    "transits_case2.loc[transits_case2.transit_multiplicity > 0].transit_multiplicity.value_counts().plot(kind='bar', rot=0)\n"
   ]
  },
  {
   "cell_type": "code",
   "execution_count": 17,
   "metadata": {},
   "outputs": [
    {
     "data": {
      "text/plain": [
       "161"
      ]
     },
     "execution_count": 17,
     "metadata": {},
     "output_type": "execute_result"
    }
   ],
   "source": [
    "len(pnum.loc[pnum.pl_pnum > 0])"
   ]
  },
  {
   "cell_type": "code",
   "execution_count": 18,
   "metadata": {},
   "outputs": [
    {
     "data": {
      "image/png": "[encoded data removed]",
      "text/plain": [
       "<Figure size 432x288 with 1 Axes>"
      ]
     },
     "metadata": {
      "needs_background": "light"
     },
     "output_type": "display_data"
    }
   ],
   "source": [
    "from math import lgamma\n",
    "\n",
    "def calculate_logL(k, lam):\n",
    "    term1 = np.sum(k * np.log(lam))\n",
    "    term2 = -np.sum(lam)\n",
    "    term3 = -np.sum([lgamma(kth + 1) for kth in k])\n",
    "    return term1 + term2 + term3\n",
    "    \n",
    "k = pnum.pl_pnum.value_counts()\n",
    "#print(k)\n",
    "logLs = []\n",
    "\n",
    "\"\"\"\n",
    "for i in range(len(file_names)): \n",
    "    lam = dfs[i+1].transit_multiplicity.value_counts()\n",
    "    logL = calculate_logL(k, lam)\n",
    "    logLs.append(logL)\n",
    "    print(logL)\n",
    "\"\"\"\n",
    "# lambdas artificially generate way more transiting planets than data\n",
    "# so a fairer comparison is to scale lambdas according to the number of transiting planets in Berger data: 161\n",
    "for i in range(len(file_names)): \n",
    "    #print(len(dfs[i+1].loc[dfs[i+1].transit_multiplicity > 0]))\n",
    "    #print(dfs[i+1].loc[dfs[i+1].transit_multiplicity > 0].transit_multiplicity.value_counts())\n",
    "    lam = dfs[i+1].loc[dfs[i+1].transit_multiplicity > 0].transit_multiplicity.value_counts() * (161/len(dfs[i+1].loc[dfs[i+1].transit_multiplicity > 0]))\n",
    "    #print(lam)\n",
    "    logL = calculate_logL(k, lam)\n",
    "    logLs.append(logL)\n",
    "    #print(logL)\n",
    "\n",
    "# plot log likelihood per model\n",
    "plt.bar(range(11)[1:], logLs)\n",
    "plt.xlabel('Young/Old age cutoff [Gyrs]')\n",
    "plt.ylabel('logL')\n",
    "plt.show()\n"
   ]
  },
  {
   "cell_type": "code",
   "execution_count": 19,
   "metadata": {
    "scrolled": false
   },
   "outputs": [
    {
     "data": {
      "image/png": "[encoded data removed]",
      "text/plain": [
       "<Figure size 432x288 with 1 Axes>"
      ]
     },
     "metadata": {
      "needs_background": "light"
     },
     "output_type": "display_data"
    }
   ],
   "source": [
    "# plot each model's pre-normalized transit multiplicity distribution, and plot the data\n",
    "for i in range(11)[1:]:\n",
    "    #print(dfs[i].transit_multiplicity.value_counts())\n",
    "    plt.scatter(np.arange(7)[1:], dfs[i].loc[dfs[i].transit_multiplicity > 0].transit_multiplicity.value_counts(),\n",
    "               alpha=0.6)\n",
    "\n",
    "plt.scatter(np.arange(6)[1:], k, marker=(5, 1), color='r')\n",
    "plt.ylim([0, 800])\n",
    "plt.show()"
   ]
  },
  {
   "cell_type": "markdown",
   "metadata": {},
   "source": [
    "Looks like greatest likelihood occurs at 2 Gyr cutoff. What's interesting is I didn't expect the 1 Gyr cutoff model to be the worst by far. Let's zoom in and do 0.1 Gyr increments from 0 to 2 Gyr inclusive. Edit: log likelihood is looking close so I'm going to add another 1 Gyr."
   ]
  },
  {
   "cell_type": "markdown",
   "metadata": {},
   "source": [
    "### 2nd Round of Models: 0 - 3 Gyr at 0.1 Gyr intervals"
   ]
  },
  {
   "cell_type": "code",
   "execution_count": null,
   "metadata": {},
   "outputs": [],
   "source": [
    "# we use stars_age1_kde and planets_per1\n",
    "# units are AU and year\n",
    "# for each system, draw the midplane from uniform distribution, then draw planets' line of transit from Gaussian\n",
    "# Case 2\n",
    "\n",
    "\"\"\"\n",
    "sigma = np.pi/90 # two degrees, based on Fig 6 in Fabrycky 2012\n",
    "sigma_degrees = 2\n",
    "#for threshold in np.linspace(0., 2., 21):\n",
    "for threshold in np.linspace(2.1, 3.0, 10):\n",
    "    star_index = []\n",
    "    midplanes = []\n",
    "    midplanes_degrees = []\n",
    "    inclinations = []\n",
    "    inclinations_degrees = []\n",
    "    planets_per_case2 = [] # maybe better to recreate it here b/c I can then generalize it for Case 2?\n",
    "    planets_a_case2 = []\n",
    "    star_radius = []\n",
    "    impact_parameters = []\n",
    "    transit_status = []\n",
    "    transit_multiplicities = []\n",
    "    xi = []\n",
    "    xi_old = []\n",
    "    xi_young = []\n",
    "    for i in range(len(stars_radius_kde)):\n",
    "        # star\n",
    "        star_index.append(i)\n",
    "        #r_star = stars_radius_kde[i] # nope\n",
    "        r_star = solar_radius_to_au(1.) # set to 1 solar radius\n",
    "        age_star = stars_age1_kde[i]\n",
    "        mu = np.random.uniform(-np.pi/2,np.pi/2,1) # create midplane for star \n",
    "        mu_degrees = np.random.uniform(-90,90,1) # more interpretable\n",
    "        midplanes.append(mu)\n",
    "        midplanes_degrees.append(mu_degrees)\n",
    "\n",
    "        # planet\n",
    "        r_planet = earth_radius_to_au(2.) # use two Earth radii; will make negligible difference\n",
    "        if age_star <= threshold:\n",
    "            # young system has 5 or 6 planets\n",
    "            num_planets = random.choice([5, 6]) \n",
    "\n",
    "            # simulate transit-related characteristics for 5 or 6 planets\n",
    "            sim_transits(r_star, num_planets, mu, sigma, mu_degrees, sigma_degrees, r_planet, age_star)\n",
    "\n",
    "        elif age_star > threshold:\n",
    "            # old system has 1 or 2 planets\n",
    "            num_planets = random.choice([1, 2]) \n",
    "\n",
    "            # simulate transit-related characteristics for 1 or 2 planets\n",
    "            sim_transits(r_star, num_planets, mu, sigma, mu_degrees, sigma_degrees, r_planet, age_star)\n",
    "\n",
    "    midplanes = np.concatenate(midplanes, axis=0) # turn list of lists of one into regular list\n",
    "\n",
    "    transits_dict = {'star_ages': stars_age1_kde, 'planet_periods': planets_per_case2, \n",
    "                     'semi_major_axes': planets_a_case2, 'midplane': midplanes, \n",
    "                     'midplane_degrees': midplanes_degrees, 'planet_inclinations': inclinations,\n",
    "                     'planet_inclinations_degrees': inclinations_degrees, 'star_radius': stars_radius_kde, \n",
    "                     'impact_parameters': impact_parameters, 'transit_status': transit_status, \n",
    "                     'transit_multiplicity': transit_multiplicities, 'star_index': star_index}\n",
    "\n",
    "    transits_case2 = pd.DataFrame(transits_dict)\n",
    "    transits_case2.to_csv(path+'zoomed_in_models/transit_data_' + str(int(threshold*10)) + '.csv', index=False)\n",
    "\"\"\""
   ]
  },
  {
   "cell_type": "code",
   "execution_count": 20,
   "metadata": {},
   "outputs": [
    {
     "name": "stdout",
     "output_type": "stream",
     "text": [
      "   star_ages             planet_periods          semi_major_axes  midplane  \\\n",
      "0   3.316176               [6.13616933]              [0.0655963]  1.465050   \n",
      "1   1.619429              [42.50354202]              [0.2383588] -0.614413   \n",
      "2   2.254665               [2.86737323]             [0.03950062] -0.035847   \n",
      "3   2.279740  [22.84697355 38.70057955]  [0.15757969 0.22391993] -0.671230   \n",
      "4   1.886897               [2.54534916]             [0.03648486] -0.944903   \n",
      "\n",
      "  midplane_degrees        planet_inclinations planet_inclinations_degrees  \\\n",
      "0     [74.1942903]               [1.51815482]               [75.68557601]   \n",
      "1   [-58.11480658]              [-0.52891657]              [-56.43117722]   \n",
      "2    [72.95874552]              [-0.00172092]                [70.8931305]   \n",
      "3    [55.18156882]  [-0.65756448 -0.65340019]   [54.06124959 53.44475258]   \n",
      "4    [85.72311062]              [-0.91852919]               [82.37342782]   \n",
      "\n",
      "   star_radius            impact_parameters transit_status  \\\n",
      "0     1.477231                 [14.0857659]            [0]   \n",
      "1     2.093920               [-25.86307067]            [0]   \n",
      "2     1.488867                [-0.01461734]            [1]   \n",
      "3     2.280090  [-20.71001092 -29.26986521]         [0, 0]   \n",
      "4     2.117191                [-6.23482633]            [0]   \n",
      "\n",
      "   transit_multiplicity  star_index  \n",
      "0                     0           0  \n",
      "1                     0           1  \n",
      "2                     1           2  \n",
      "3                     0           3  \n",
      "4                     0           4  \n"
     ]
    }
   ],
   "source": [
    "# get file names and order by time of file creation\n",
    "file_names = sorted(glob(path+'zoomed_in_models/transit_data_*.csv'), key=os.path.getmtime)\n",
    "\n",
    "# create dfs as part of a dict\n",
    "dfs = {i: pd.read_csv(path+'zoomed_in_models/transit_data_'+str(i)+'.csv') for i in range(len(file_names))}\n",
    "print(dfs[0].head())"
   ]
  },
  {
   "cell_type": "code",
   "execution_count": 21,
   "metadata": {
    "scrolled": true
   },
   "outputs": [
    {
     "data": {
      "image/png": "[encoded data removed]",
      "text/plain": [
       "<Figure size 432x288 with 1 Axes>"
      ]
     },
     "metadata": {
      "needs_background": "light"
     },
     "output_type": "display_data"
    }
   ],
   "source": [
    "logLs = []\n",
    "for i in range(len(file_names)): \n",
    "    lam = dfs[i].loc[dfs[i].transit_multiplicity > 0].transit_multiplicity.value_counts() * (161/len(dfs[i].loc[dfs[i].transit_multiplicity > 0]))\n",
    "    #print(lam)\n",
    "    logL = calculate_logL(k, lam)\n",
    "    logLs.append(logL)\n",
    "    #print(logL)\n",
    "\n",
    "# plot log likelihood per model\n",
    "plt.bar(range(31), logLs)\n",
    "plt.xlabel('Young/Old age cutoff [Gyrs]')\n",
    "plt.ylabel('logL')\n",
    "plt.show()"
   ]
  },
  {
   "cell_type": "code",
   "execution_count": 22,
   "metadata": {},
   "outputs": [
    {
     "data": {
      "image/png": "[encoded data removed]",
      "text/plain": [
       "<Figure size 432x288 with 1 Axes>"
      ]
     },
     "metadata": {
      "needs_background": "light"
     },
     "output_type": "display_data"
    }
   ],
   "source": [
    "logLs = []\n",
    "for i in range(len(file_names)): \n",
    "    lam = dfs[i].loc[dfs[i].transit_multiplicity > 0].transit_multiplicity.value_counts() * (161/len(dfs[i].loc[dfs[i].transit_multiplicity > 0]))\n",
    "    #print(lam)\n",
    "    logL = calculate_logL(k, lam)\n",
    "    logLs.append(logL)\n",
    "    #print(logL)\n",
    "\n",
    "# plot log likelihood per model\n",
    "plt.bar(range(31), logLs)\n",
    "plt.xlabel('Young/Old age cutoff [Gyrs]')\n",
    "plt.ylabel('logL')\n",
    "plt.ylim([-30, -10])\n",
    "plt.show()"
   ]
  },
  {
   "cell_type": "code",
   "execution_count": 23,
   "metadata": {},
   "outputs": [
    {
     "name": "stdout",
     "output_type": "stream",
     "text": [
      "18\n"
     ]
    }
   ],
   "source": [
    "print(np.argmax(logLs))"
   ]
  },
  {
   "cell_type": "code",
   "execution_count": 24,
   "metadata": {},
   "outputs": [
    {
     "data": {
      "text/plain": [
       "-4.481185474355357"
      ]
     },
     "execution_count": 24,
     "metadata": {},
     "output_type": "execute_result"
    }
   ],
   "source": [
    "logLs[30] - logLs[18]"
   ]
  },
  {
   "cell_type": "code",
   "execution_count": 25,
   "metadata": {
    "scrolled": true
   },
   "outputs": [
    {
     "data": {
      "image/png": "[encoded data removed]",
      "text/plain": [
       "<Figure size 432x288 with 1 Axes>"
      ]
     },
     "metadata": {
      "needs_background": "light"
     },
     "output_type": "display_data"
    }
   ],
   "source": [
    "# plot each model's pre-normalized transit multiplicity distribution, and plot the data\n",
    "tmult1 = []\n",
    "tmult2 = []\n",
    "tmult3 = []\n",
    "tmodel3 = []\n",
    "tmult4 = []\n",
    "tmodel4 = []\n",
    "tmult5 = []\n",
    "tmodel5 = []\n",
    "tmult6 = []\n",
    "tmodel6 = []\n",
    "#for i in range(31):\n",
    "    #print(dfs[i].loc[dfs[i].transit_multiplicity > 0].transit_multiplicity.value_counts())\n",
    "i = 30\n",
    "current = dfs[i].loc[dfs[i].transit_multiplicity > 0].transit_multiplicity.value_counts() * (161/len(dfs[i].loc[dfs[i].transit_multiplicity > 0]))\n",
    "\"\"\"\n",
    "    tmult1.append(current[1])\n",
    "    tmult2.append(current[2])\n",
    "    try:\n",
    "        tmult3.append(current[3])\n",
    "        tmodel3.append(i)\n",
    "    except:\n",
    "        pass\n",
    "    try:\n",
    "        tmult4.append(current[4])\n",
    "        tmodel4.append(i)\n",
    "    except:\n",
    "        pass\n",
    "    try:\n",
    "        tmult5.append(current[5])\n",
    "        tmodel5.append(i)\n",
    "    except:\n",
    "        pass\n",
    "    try:\n",
    "        tmult6.append(current[6])\n",
    "        tmodel6.append(i)\n",
    "    except:\n",
    "        pass\n",
    "    plt.scatter(current.index, current, alpha=0.6)\"\"\"\n",
    "plt.scatter(current.index, current, alpha=0.6)\n",
    "i = 18\n",
    "current = dfs[i].loc[dfs[i].transit_multiplicity > 0].transit_multiplicity.value_counts() * (161/len(dfs[i].loc[dfs[i].transit_multiplicity > 0]))\n",
    "plt.scatter(current.index, current, alpha=0.6)\n",
    "plt.scatter(np.arange(6)[1:], k, marker=(5, 1), color='r')\n",
    "plt.scatter(np.arange(7)[1:], k+np.sqrt(current), marker='+')\n",
    "plt.scatter(np.arange(7)[1:], k-np.sqrt(current), marker='+')\n",
    "\n",
    "# double check first model\n",
    "#plt.scatter(dfs[0].loc[dfs[0].transit_multiplicity > 0].transit_multiplicity.value_counts().index, \n",
    "#            dfs[0].loc[dfs[0].transit_multiplicity > 0].transit_multiplicity.value_counts(), \n",
    "#            color='k', marker='+')\n",
    "plt.show()"
   ]
  },
  {
   "cell_type": "code",
   "execution_count": 26,
   "metadata": {},
   "outputs": [
    {
     "data": {
      "text/plain": [
       "1.0    98.599600\n",
       "2.0    35.788777\n",
       "3.0    25.363454\n",
       "4.0    19.402375\n",
       "5.0     6.951396\n",
       "6.0          NaN\n",
       "dtype: float64"
      ]
     },
     "execution_count": 26,
     "metadata": {},
     "output_type": "execute_result"
    }
   ],
   "source": [
    "k+np.sqrt(current)"
   ]
  },
  {
   "cell_type": "code",
   "execution_count": 27,
   "metadata": {},
   "outputs": [
    {
     "data": {
      "text/plain": [
       "1    92.152318\n",
       "2    33.509934\n",
       "3    19.039735\n",
       "4    11.576159\n",
       "5     3.807947\n",
       "6     0.913907\n",
       "Name: transit_multiplicity, dtype: float64"
      ]
     },
     "execution_count": 27,
     "metadata": {},
     "output_type": "execute_result"
    }
   ],
   "source": [
    "current"
   ]
  },
  {
   "cell_type": "code",
   "execution_count": 28,
   "metadata": {},
   "outputs": [
    {
     "data": {
      "image/png": "[encoded data removed]",
      "text/plain": [
       "<Figure size 432x288 with 1 Axes>"
      ]
     },
     "metadata": {
      "needs_background": "light"
     },
     "output_type": "display_data"
    }
   ],
   "source": [
    "# plot each model's pre-normalized transit multiplicity distribution, and plot the data\n",
    "tmult1 = []\n",
    "tmult2 = []\n",
    "tmult3 = []\n",
    "tmodel3 = []\n",
    "tmult4 = []\n",
    "tmodel4 = []\n",
    "tmult5 = []\n",
    "tmodel5 = []\n",
    "tmult6 = []\n",
    "tmodel6 = []\n",
    "for i in range(31):\n",
    "    #print(dfs[i].loc[dfs[i].transit_multiplicity > 0].transit_multiplicity.value_counts())\n",
    "    current = dfs[i].loc[dfs[i].transit_multiplicity > 0].transit_multiplicity.value_counts()\n",
    "    tmult1.append(current[1])\n",
    "    tmult2.append(current[2])\n",
    "    try:\n",
    "        tmult3.append(current[3])\n",
    "        tmodel3.append(i)\n",
    "    except:\n",
    "        pass\n",
    "    try:\n",
    "        tmult4.append(current[4])\n",
    "        tmodel4.append(i)\n",
    "    except:\n",
    "        pass\n",
    "    try:\n",
    "        tmult5.append(current[5])\n",
    "        tmodel5.append(i)\n",
    "    except:\n",
    "        pass\n",
    "    try:\n",
    "        tmult6.append(current[6])\n",
    "        tmodel6.append(i)\n",
    "    except:\n",
    "        pass\n",
    "    plt.scatter(current.index, current, alpha=0.6)\n",
    "\n",
    "plt.scatter(np.arange(6)[1:], k, marker=(5, 1), color='r')\n",
    "\n",
    "# double check first model\n",
    "#plt.scatter(dfs[0].loc[dfs[0].transit_multiplicity > 0].transit_multiplicity.value_counts().index, \n",
    "#            dfs[0].loc[dfs[0].transit_multiplicity > 0].transit_multiplicity.value_counts(), \n",
    "#            color='k', marker='+')\n",
    "plt.ylim([0, 800])\n",
    "plt.show()"
   ]
  },
  {
   "cell_type": "code",
   "execution_count": 29,
   "metadata": {},
   "outputs": [
    {
     "data": {
      "text/plain": [
       "(18, 3)"
      ]
     },
     "execution_count": 29,
     "metadata": {},
     "output_type": "execute_result"
    }
   ],
   "source": [
    "np.argmax(logLs), np.argmin(logLs)"
   ]
  },
  {
   "cell_type": "code",
   "execution_count": 30,
   "metadata": {},
   "outputs": [
    {
     "data": {
      "image/png": "[encoded data removed]",
      "text/plain": [
       "<Figure size 432x288 with 1 Axes>"
      ]
     },
     "metadata": {
      "needs_background": "light"
     },
     "output_type": "display_data"
    }
   ],
   "source": [
    "plt.plot(range(31), tmult1, c='k')\n",
    "plt.plot(range(31), tmult2, c='orange')\n",
    "plt.plot(tmodel3, tmult3)\n",
    "plt.plot(tmodel4, tmult4)\n",
    "plt.plot(tmodel5, tmult5)\n",
    "plt.plot(tmodel6, tmult6)\n",
    "plt.xlabel('age cutoff [Gyr]')\n",
    "plt.ylabel('number of stars w/transit multiplicity')\n",
    "plt.show()"
   ]
  },
  {
   "cell_type": "markdown",
   "metadata": {},
   "source": [
    "So I guess 1.8 Gyrs is the threshold now? "
   ]
  },
  {
   "cell_type": "markdown",
   "metadata": {},
   "source": [
    "### Continuous threshold"
   ]
  },
  {
   "cell_type": "markdown",
   "metadata": {},
   "source": [
    "Instead of a single age cutoff determining whether a system has 5/6 vs 1/2 planets, let's dial the likelihood of remaining intact (ie. of being 5/6 planets) down with age. First, let's try with a line passing through 0.5 likelihood at 1.8 Gyr. "
   ]
  },
  {
   "cell_type": "code",
   "execution_count": 90,
   "metadata": {},
   "outputs": [
    {
     "name": "stdout",
     "output_type": "stream",
     "text": [
      "-0.11955109103833533\n",
      "0.641346726884994\n",
      "(0.9646340288036607, -0.011540676287888366, 0.9300119999399956)\n"
     ]
    }
   ],
   "source": [
    "def sample_threshold_model_test(age): # new\n",
    "    b = np.random.uniform(0,1,1) \n",
    "    #m = np.random.uniform(-0.25,0,1) # this is crucial: at -0.25 slope with optimal b, >=4 Gyr systems 100% disrupted\n",
    "    m = np.random.uniform(-0.125,0,1) # this is crucial: at -0.125 slope with optimal b, >=8 Gyr systems 100% disrupted\n",
    "    y = m * age + b\n",
    "    if y[0] < 0: # don't allow negative probabilities\n",
    "        y[0] = 0\n",
    "    return b[0], m[0], y[0]\n",
    "\n",
    "def sample_threshold_model(): # new\n",
    "    b = np.random.uniform(0,1,1) \n",
    "    #m = np.random.uniform(-0.125,0,1) # this is crucial: at -0.125 slope with optimal b, >=8 Gyr systems 100% disrupted\n",
    "    m = np.random.uniform(-1,0,1) # >=1 Gyr systems 100% disrupted\n",
    "    return b[0], m[0]\n",
    "\n",
    "def will_u_be_intact(age): # old\n",
    "    # m = (1-0.5)/(0-1.8) # doesn't work if I want linear bc anything greater than 3.5 Gyr has negative probability\n",
    "    m = (1-0)/(0-np.max(stars_age1_kde)) # m = 8.423133133133133\n",
    "    print(m)\n",
    "    y = m * age + 1\n",
    "    \n",
    "    return y\n",
    "\n",
    "print(will_u_be_intact(3))\n",
    "print(sample_threshold_model_test(3))\n"
   ]
  },
  {
   "cell_type": "code",
   "execution_count": 58,
   "metadata": {},
   "outputs": [
    {
     "name": "stdout",
     "output_type": "stream",
     "text": [
      "0.18104097000941977\n",
      "disrupted\n",
      "0.7477676848110822\n",
      "intact\n",
      "0.0\n",
      "disrupted\n",
      "0.22870829408910215\n",
      "disrupted\n",
      "0.42438414598728913\n",
      "intact\n",
      "0.16782827561573893\n",
      "disrupted\n",
      "0.8335024179870946\n",
      "intact\n",
      "0.7752528663687428\n",
      "intact\n",
      "0.4454251151296695\n",
      "intact\n",
      "0.029362984747910853\n",
      "disrupted\n"
     ]
    }
   ],
   "source": [
    "for i in range(10):\n",
    "    p = sample_threshold_model_test(1.8)[2]\n",
    "    print(p)\n",
    "    print(np.random.choice(['intact', 'disrupted'], p=[p, 1-p]))"
   ]
  },
  {
   "cell_type": "code",
   "execution_count": 91,
   "metadata": {},
   "outputs": [],
   "source": [
    "sigma = np.pi/90 # two degrees, based on Fig 6 in Fabrycky 2012\n",
    "sigma_degrees = 2\n",
    "for sample in range(30): # did one run of 20 at shallow slopes\n",
    "    b, m = sample_threshold_model() # get probability distribution of intactness with age\n",
    "    star_index = []\n",
    "    midplanes = []\n",
    "    midplanes_degrees = []\n",
    "    inclinations = []\n",
    "    inclinations_degrees = []\n",
    "    planets_per_case2 = [] # maybe better to recreate it here b/c I can then generalize it for Case 2?\n",
    "    planets_a_case2 = []\n",
    "    star_radius = []\n",
    "    impact_parameters = []\n",
    "    transit_status = []\n",
    "    transit_multiplicities = []\n",
    "    xi = []\n",
    "    xi_old = []\n",
    "    xi_young = []\n",
    "    for i in range(len(stars_radius_kde)):\n",
    "        # star\n",
    "        star_index.append(i)\n",
    "        #r_star = stars_radius_kde[i] # nope\n",
    "        r_star = solar_radius_to_au(1.) # set to 1 solar radius\n",
    "        age_star = stars_age1_kde[i]\n",
    "        mu = np.random.uniform(-np.pi/2,np.pi/2,1) # create midplane for star \n",
    "        mu_degrees = np.random.uniform(-90,90,1) # more interpretable\n",
    "        midplanes.append(mu)\n",
    "        midplanes_degrees.append(mu_degrees)\n",
    "\n",
    "        # planet\n",
    "        r_planet = earth_radius_to_au(2.) # use two Earth radii; will make negligible difference\n",
    "        prob = m * age_star + b # calculate probability given age from sampled distribution\n",
    "        if prob < 0: # don't allow negative probabilities\n",
    "            prob = 0\n",
    "        intact_flag = np.random.choice(['intact', 'disrupted'], p=[prob, 1-prob])\n",
    "        if intact_flag == 'intact':\n",
    "            # young system has 5 or 6 planets\n",
    "            num_planets = random.choice([5, 6]) \n",
    "\n",
    "            # simulate transit-related characteristics for 5 or 6 planets\n",
    "            sim_transits(r_star, num_planets, mu, sigma, mu_degrees, sigma_degrees, r_planet, age_star)\n",
    "\n",
    "        elif intact_flag == 'disrupted':\n",
    "            # old system has 1 or 2 planets\n",
    "            num_planets = random.choice([1, 2]) \n",
    "\n",
    "            # simulate transit-related characteristics for 1 or 2 planets\n",
    "            sim_transits(r_star, num_planets, mu, sigma, mu_degrees, sigma_degrees, r_planet, age_star)\n",
    "\n",
    "    midplanes = np.concatenate(midplanes, axis=0) # turn list of lists of one into regular list\n",
    "\n",
    "    transits_dict = {'star_ages': stars_age1_kde, 'planet_periods': planets_per_case2, \n",
    "                     'semi_major_axes': planets_a_case2, 'midplane': midplanes, \n",
    "                     'midplane_degrees': midplanes_degrees, 'planet_inclinations': inclinations,\n",
    "                     'planet_inclinations_degrees': inclinations_degrees, 'star_radius': stars_radius_kde, \n",
    "                     'impact_parameters': impact_parameters, 'transit_status': transit_status, \n",
    "                     'transit_multiplicity': transit_multiplicities, 'star_index': star_index,\n",
    "                    'y_intercept': b, 'slope': m}\n",
    "\n",
    "    transits_case2 = pd.DataFrame(transits_dict)\n",
    "    transits_case2.to_csv(path+'continuous_models/cont/transit_data_cont_' + str(sample) + '.csv', index=False)"
   ]
  },
  {
   "cell_type": "code",
   "execution_count": 78,
   "metadata": {},
   "outputs": [],
   "source": [
    "\"\"\"\n",
    "sigma = np.pi/90 # two degrees, based on Fig 6 in Fabrycky 2012\n",
    "sigma_degrees = 2\n",
    "for sample in range(1):\n",
    "    b, m = 0.1, 0. # get probability distribution of control model\n",
    "    star_index = []\n",
    "    midplanes = []\n",
    "    midplanes_degrees = []\n",
    "    inclinations = []\n",
    "    inclinations_degrees = []\n",
    "    planets_per_case2 = [] # maybe better to recreate it here b/c I can then generalize it for Case 2?\n",
    "    planets_a_case2 = []\n",
    "    star_radius = []\n",
    "    impact_parameters = []\n",
    "    transit_status = []\n",
    "    transit_multiplicities = []\n",
    "    xi = []\n",
    "    xi_old = []\n",
    "    xi_young = []\n",
    "    for i in range(len(stars_radius_kde)):\n",
    "        # star\n",
    "        star_index.append(i)\n",
    "        #r_star = stars_radius_kde[i] # nope\n",
    "        r_star = solar_radius_to_au(1.) # set to 1 solar radius\n",
    "        age_star = stars_age1_kde[i]\n",
    "        mu = np.random.uniform(-np.pi/2,np.pi/2,1) # create midplane for star \n",
    "        mu_degrees = np.random.uniform(-90,90,1) # more interpretable\n",
    "        midplanes.append(mu)\n",
    "        midplanes_degrees.append(mu_degrees)\n",
    "\n",
    "        # planet\n",
    "        r_planet = earth_radius_to_au(2.) # use two Earth radii; will make negligible difference\n",
    "        prob = m * age_star + b # calculate probability given age from sampled distribution\n",
    "        if prob < 0: # don't allow negative probabilities\n",
    "            prob = 0\n",
    "        intact_flag = np.random.choice(['intact', 'disrupted'], p=[prob, 1-prob])\n",
    "        if intact_flag == 'intact':\n",
    "            # young system has 5 or 6 planets\n",
    "            num_planets = random.choice([5, 6]) \n",
    "\n",
    "            # simulate transit-related characteristics for 5 or 6 planets\n",
    "            sim_transits(r_star, num_planets, mu, sigma, mu_degrees, sigma_degrees, r_planet, age_star)\n",
    "\n",
    "        elif intact_flag == 'disrupted':\n",
    "            # old system has 1 or 2 planets\n",
    "            num_planets = random.choice([1, 2]) \n",
    "\n",
    "            # simulate transit-related characteristics for 1 or 2 planets\n",
    "            sim_transits(r_star, num_planets, mu, sigma, mu_degrees, sigma_degrees, r_planet, age_star)\n",
    "\n",
    "    midplanes = np.concatenate(midplanes, axis=0) # turn list of lists of one into regular list\n",
    "\n",
    "    transits_dict = {'star_ages': stars_age1_kde, 'planet_periods': planets_per_case2, \n",
    "                     'semi_major_axes': planets_a_case2, 'midplane': midplanes, \n",
    "                     'midplane_degrees': midplanes_degrees, 'planet_inclinations': inclinations,\n",
    "                     'planet_inclinations_degrees': inclinations_degrees, 'star_radius': stars_radius_kde, \n",
    "                     'impact_parameters': impact_parameters, 'transit_status': transit_status, \n",
    "                     'transit_multiplicity': transit_multiplicities, 'star_index': star_index,\n",
    "                    'y_intercept': b, 'slope': m}\n",
    "\n",
    "    transits_case2 = pd.DataFrame(transits_dict)\n",
    "    transits_case2.to_csv(path+'continuous_models/control.csv', index=False)\n",
    "\"\"\""
   ]
  },
  {
   "cell_type": "code",
   "execution_count": 173,
   "metadata": {
    "scrolled": true
   },
   "outputs": [],
   "source": [
    "# get file names and order by time of file creation\n",
    "# previously did it with /cont/transit_data_cont_*.csv\n",
    "file_names = sorted(glob(path+'continuous_models/transit_data_*.csv'), key=os.path.getmtime)\n",
    "\n",
    "# create dfs as part of a dict\n",
    "dfs = {i: pd.read_csv(path+'continuous_models/transit_data_'+str(i)+'.csv', \n",
    "                      converters={'transit_status': eval}) for i in range(len(file_names))}\n",
    "df_control = pd.read_csv(path+'continuous_models/control.csv',\n",
    "                        converters={'transit_status': eval})\n",
    "#print(dfs[0].head())"
   ]
  },
  {
   "cell_type": "code",
   "execution_count": 170,
   "metadata": {},
   "outputs": [
    {
     "data": {
      "text/plain": [
       "1    122.283837\n",
       "2     27.080158\n",
       "3      6.135348\n",
       "4      3.596583\n",
       "5      1.269382\n",
       "6      0.634691\n",
       "Name: transit_multiplicity, dtype: float64"
      ]
     },
     "execution_count": 170,
     "metadata": {},
     "output_type": "execute_result"
    }
   ],
   "source": [
    "lam_control"
   ]
  },
  {
   "cell_type": "code",
   "execution_count": 168,
   "metadata": {
    "scrolled": true
   },
   "outputs": [
    {
     "data": {
      "text/plain": [
       "1    108.411205\n",
       "2     28.762156\n",
       "3     13.615222\n",
       "4      6.807611\n",
       "5      3.063425\n",
       "6      0.340381\n",
       "Name: transit_multiplicity, dtype: float64"
      ]
     },
     "execution_count": 168,
     "metadata": {},
     "output_type": "execute_result"
    }
   ],
   "source": [
    "dfs[6].loc[dfs[6].transit_multiplicity > 0].transit_multiplicity.value_counts() * (161/len(dfs[6].loc[dfs[6].transit_multiplicity > 0]))\n"
   ]
  },
  {
   "cell_type": "code",
   "execution_count": 169,
   "metadata": {},
   "outputs": [
    {
     "data": {
      "text/plain": [
       "1.0    89\n",
       "2.0    30\n",
       "3.0    21\n",
       "4.0    16\n",
       "5.0     5\n",
       "Name: pl_pnum, dtype: int64"
      ]
     },
     "execution_count": 169,
     "metadata": {},
     "output_type": "execute_result"
    }
   ],
   "source": [
    "k"
   ]
  },
  {
   "cell_type": "code",
   "execution_count": 167,
   "metadata": {
    "scrolled": false
   },
   "outputs": [
    {
     "name": "stdout",
     "output_type": "stream",
     "text": [
      "-127.18334481655978\n",
      "-23.551256784951192\n",
      "-49.46979410051017\n",
      "-96.28080396952953\n",
      "-86.73198186332309\n",
      "-94.98356080560905\n",
      "-21.209557723832518\n",
      "-60.22343795263919\n",
      "-28.549469930205532\n",
      "-152.96467634729584\n",
      "-95.95387267409296\n",
      "-14.840817848740357\n",
      "-81.85128375605927\n",
      "-131.63559370928897\n",
      "-97.31285183133048\n",
      "-88.84060144748639\n",
      "-77.8811013251767\n",
      "-96.49506948910948\n",
      "-125.79310331518195\n",
      "-112.7805965344429\n",
      "-99.01617119235402\n",
      "-61.80919116796724\n",
      "-28.01591359728957\n",
      "-85.90050230350062\n",
      "-98.62475928514004\n",
      "-89.98357040696783\n",
      "-95.85418568969521\n",
      "-13.522619890004535\n",
      "-124.61875419407227\n",
      "-19.503592109261263\n",
      "-43.654019389095765\n",
      "[0.2210427617026489, 0.9063334832852228, 0.33654612695448904, 0.18043582747055664, 0.7878492659573725, 0.19843119564506814, 0.5094279472541713, 0.6165569641231515, 0.3417956209557663, 0.3120480504904549, 0.011016411951903504, 0.8289607468049651, 0.3742136072304497, 0.5999180056681286, 0.029966440595022407, 0.9099813274353732, 0.1911661283240561, 0.03881312884843269, 0.288993072339478, 0.9141035494068994, 0.2526226478844181, 0.6086605388291032, 0.34965407231996537, 0.6786155367632825, 0.07716436566861072, 0.8376853507594736, 0.3182523407490108, 0.6388363942064142, 0.7878062291105444, 0.9212420067270001]\n",
      "[-0.3409540957415805, -0.3890374229596853, -0.1320514290216842, -0.5978322156655838, -0.965622796384232, -0.4637881027471537, -0.10582485664569874, -0.3652694026316353, -0.07841881875677659, -0.6275772814671684, -0.7543170920406022, -0.13443012260859033, -0.23753297640466786, -0.6146143486538508, -0.4405557209865699, -0.9348323574037116, -0.09702669236997752, -0.4252118546155702, -0.8313193818896794, -0.9856114999443568, -0.7662579448561546, -0.3800498045543832, -0.07577493182495121, -0.5454301148135442, -0.8032616046311487, -0.7915895370481267, -0.9899471347245888, -0.03844192425542858, -0.9636028005197741, -0.07069643054926733]\n"
     ]
    },
    {
     "data": {
      "image/png": "[encoded data removed]",
      "text/plain": [
       "<Figure size 640x480 with 2 Axes>"
      ]
     },
     "metadata": {},
     "output_type": "display_data"
    }
   ],
   "source": [
    "#plt.style.use('default')\n",
    "logLs = []\n",
    "ms = []\n",
    "bs = []\n",
    "#for i in range(len(file_names)): \n",
    "for i in range(30):\n",
    "    lam = dfs[i].loc[dfs[i].transit_multiplicity > 0].transit_multiplicity.value_counts() * (161/len(dfs[i].loc[dfs[i].transit_multiplicity > 0]))\n",
    "    logL = calculate_logL(k, lam)\n",
    "    print(logL)\n",
    "    logLs.append(logL)\n",
    "    ms.append(dfs[i]['slope'][0])\n",
    "    bs.append(dfs[i]['y_intercept'][0])\n",
    "#print(logLs, ms, bs)\n",
    "\n",
    "lam_control = df_control.loc[df_control.transit_multiplicity > 0].transit_multiplicity.value_counts() * (161/len(df_control.loc[df_control.transit_multiplicity > 0]))\n",
    "logL_control = calculate_logL(k, lam_control)\n",
    "print(logL_control)\n",
    "print(bs)\n",
    "print(ms)\n",
    "\n",
    "# plot log likelihood per model\n",
    "plt.scatter(ms, bs, c=logLs)\n",
    "plt.scatter(df_control.slope[0], df_control.y_intercept[0], c=logL_control, \n",
    "            cmap='viridis', vmin=min(logLs), vmax=max(logLs))\n",
    "plt.xlabel('slope')\n",
    "plt.ylabel('y intercept')\n",
    "plt.colorbar()\n",
    "plt.show()"
   ]
  },
  {
   "cell_type": "code",
   "execution_count": 135,
   "metadata": {},
   "outputs": [
    {
     "data": {
      "image/png": "[encoded data removed]",
      "text/plain": [
       "<Figure size 432x288 with 1 Axes>"
      ]
     },
     "metadata": {
      "needs_background": "light"
     },
     "output_type": "display_data"
    }
   ],
   "source": [
    "intacts = []\n",
    "for i in range(len(file_names)): \n",
    "    #intact = dfs[i][dfs[i]['transit_status'].map(len) >= 5]\n",
    "    intact = dfs[i][dfs[i].transit_status.str.len() >= 5]\n",
    "    #intact = len(dfs[i].loc[len(dfs[i].transit_status) >= 5])\n",
    "    #print(len(intact))\n",
    "    intacts.append(len(intact))\n",
    "    #print(logL)\n",
    "\n",
    "# plot log likelihood per model\n",
    "plt.bar(range(30), intacts)\n",
    "plt.xlabel('Models')\n",
    "plt.ylabel('Number of Systems Intact')\n",
    "plt.show()"
   ]
  },
  {
   "cell_type": "code",
   "execution_count": 175,
   "metadata": {},
   "outputs": [
    {
     "data": {
      "image/png": "[encoded data removed]",
      "text/plain": [
       "<Figure size 640x480 with 2 Axes>"
      ]
     },
     "metadata": {},
     "output_type": "display_data"
    }
   ],
   "source": [
    "#plt.style.use('default')\n",
    "logLs = []\n",
    "ms = []\n",
    "bs = []\n",
    "#for i in range(len(file_names)): \n",
    "for i in range(20):\n",
    "    lam = dfs[i].loc[dfs[i].transit_multiplicity > 0].transit_multiplicity.value_counts() * (161/len(dfs[i].loc[dfs[i].transit_multiplicity > 0]))\n",
    "    logL = calculate_logL(k, lam)\n",
    "    logLs.append(logL)\n",
    "    ms.append(dfs[i]['slope'][0])\n",
    "    bs.append(dfs[i]['y_intercept'][0])\n",
    "#print(logLs, ms, bs)\n",
    "\n",
    "lam_control = df_control.loc[df_control.transit_multiplicity > 0].transit_multiplicity.value_counts() * (161/len(df_control.loc[df_control.transit_multiplicity > 0]))\n",
    "logL_control = calculate_logL(k, lam_control)\n",
    "#print(logL_control)\n",
    "#print(bs)\n",
    "#print(ms)\n",
    "\n",
    "# plot log likelihood per model\n",
    "plt.scatter(ms, bs, c=logLs)\n",
    "plt.scatter(df_control.slope[0], df_control.y_intercept[0], c=logL_control, \n",
    "            cmap='viridis', vmin=min(logLs), vmax=max(logLs))\n",
    "plt.xlabel('slope')\n",
    "plt.ylabel('y intercept')\n",
    "plt.colorbar()\n",
    "plt.show()"
   ]
  },
  {
   "cell_type": "code",
   "execution_count": 43,
   "metadata": {
    "scrolled": true
   },
   "outputs": [
    {
     "data": {
      "image/png": "[encoded data removed]",
      "text/plain": [
       "<Figure size 432x288 with 1 Axes>"
      ]
     },
     "metadata": {
      "needs_background": "light"
     },
     "output_type": "display_data"
    }
   ],
   "source": [
    "logLs = []\n",
    "for i in range(len(file_names)): \n",
    "    lam = dfs[i].loc[dfs[i].transit_multiplicity > 0].transit_multiplicity.value_counts() * (161/len(dfs[i].loc[dfs[i].transit_multiplicity > 0]))\n",
    "    #print(lam)\n",
    "    logL = calculate_logL(k, lam)\n",
    "    logLs.append(logL)\n",
    "    #print(logL)\n",
    "\n",
    "# plot log likelihood per model\n",
    "plt.bar(range(31), logLs)\n",
    "plt.xlabel('Young/Old age cutoff [Gyrs]')\n",
    "plt.ylabel('logL')\n",
    "plt.show()"
   ]
  },
  {
   "cell_type": "code",
   "execution_count": 49,
   "metadata": {},
   "outputs": [
    {
     "data": {
      "text/plain": [
       "26"
      ]
     },
     "execution_count": 49,
     "metadata": {},
     "output_type": "execute_result"
    }
   ],
   "source": [
    "np.argmax(logLs)"
   ]
  },
  {
   "cell_type": "code",
   "execution_count": 96,
   "metadata": {},
   "outputs": [
    {
     "data": {
      "image/png": "[encoded data removed]",
      "text/plain": [
       "<Figure size 432x288 with 1 Axes>"
      ]
     },
     "metadata": {
      "needs_background": "light"
     },
     "output_type": "display_data"
    }
   ],
   "source": [
    "# plot each model's pre-normalized transit multiplicity distribution, and plot the data\n",
    "tmult1 = []\n",
    "tmult2 = []\n",
    "tmult3 = []\n",
    "tmodel3 = []\n",
    "tmult4 = []\n",
    "tmodel4 = []\n",
    "tmult5 = []\n",
    "tmodel5 = []\n",
    "tmult6 = []\n",
    "tmodel6 = []\n",
    "for i in range(30):\n",
    "    #print(dfs[i].loc[dfs[i].transit_multiplicity > 0].transit_multiplicity.value_counts())\n",
    "    current = dfs[i].loc[dfs[i].transit_multiplicity > 0].transit_multiplicity.value_counts() * (161/len(dfs[i].loc[dfs[i].transit_multiplicity > 0]))\n",
    "    tmult1.append(current[1])\n",
    "    tmult2.append(current[2])\n",
    "    try:\n",
    "        tmult3.append(current[3])\n",
    "        tmodel3.append(i)\n",
    "    except:\n",
    "        pass\n",
    "    try:\n",
    "        tmult4.append(current[4])\n",
    "        tmodel4.append(i)\n",
    "    except:\n",
    "        pass\n",
    "    try:\n",
    "        tmult5.append(current[5])\n",
    "        tmodel5.append(i)\n",
    "    except:\n",
    "        pass\n",
    "    try:\n",
    "        tmult6.append(current[6])\n",
    "        tmodel6.append(i)\n",
    "    except:\n",
    "        pass\n",
    "    plt.scatter(current.index, current, alpha=0.6)\n",
    "\n",
    "plt.scatter(np.arange(6)[1:], k, marker=(5, 1), color='r')\n",
    "plt.scatter(np.arange(7)[1:], k+np.sqrt(current), marker='+')\n",
    "plt.scatter(np.arange(7)[1:], k-np.sqrt(current), marker='+')\n",
    "\n",
    "# double check first model\n",
    "#plt.scatter(dfs[0].loc[dfs[0].transit_multiplicity > 0].transit_multiplicity.value_counts().index, \n",
    "#            dfs[0].loc[dfs[0].transit_multiplicity > 0].transit_multiplicity.value_counts(), \n",
    "#            color='k', marker='+')\n",
    "#plt.ylim([0, 800])\n",
    "plt.show()"
   ]
  },
  {
   "cell_type": "code",
   "execution_count": null,
   "metadata": {},
   "outputs": [],
   "source": [
    "dfs[i].loc[dfs[i].transit_multiplicity > 0].transit_multiplicity.value_counts()"
   ]
  },
  {
   "cell_type": "markdown",
   "metadata": {},
   "source": [
    "### Troubleshooting"
   ]
  },
  {
   "cell_type": "code",
   "execution_count": 169,
   "metadata": {},
   "outputs": [
    {
     "data": {
      "image/png": "[encoded data removed]",
      "text/plain": [
       "<Figure size 720x360 with 2 Axes>"
      ]
     },
     "metadata": {
      "needs_background": "light"
     },
     "output_type": "display_data"
    },
    {
     "data": {
      "image/png": "[encoded data removed]",
      "text/plain": [
       "<Figure size 720x360 with 2 Axes>"
      ]
     },
     "metadata": {
      "needs_background": "light"
     },
     "output_type": "display_data"
    }
   ],
   "source": [
    "# how about for impact parameter?\n",
    "# old\n",
    "fig = plt.figure(figsize=(10, 5))\n",
    "ax = fig.add_subplot(2, 2, 1)\n",
    "b_old_hist, b_old_bin_edges = np.histogram(transits_case2_old.impact_parameters.explode(), bins=150)\n",
    "plt.bar(b_old_bin_edges[:-1], b_old_hist, width = 1, color='#0504aa',alpha=0.7)\n",
    "plt.ylabel(\"count\")\n",
    "plt.xlim([-10, 10])\n",
    "\n",
    "ax = fig.add_subplot(2, 2, 2)\n",
    "b_old_hist, b_old_bin_edges = np.histogram(transits_case2_old.impact_parameters.explode().loc[np.abs(transits_case2_old.impact_parameters.explode()) <= 1.], bins=nbins)\n",
    "plt.bar(b_old_bin_edges[:-1], b_old_hist, width = 0.05, color='#0504aa',alpha=0.7)\n",
    "\n",
    "# young \n",
    "ax = fig.add_subplot(2, 2, 3)\n",
    "b_young_hist, b_young_bin_edges = np.histogram(transits_case2_young.impact_parameters.explode(), bins=1000)\n",
    "plt.bar(b_young_bin_edges[:-1], b_young_hist, width = 1, color='#0504aa',alpha=0.7)\n",
    "plt.ylabel(\"count\")\n",
    "plt.xlabel(\"impact parameter\")\n",
    "plt.xlim([-10, 10])\n",
    "\n",
    "ax = fig.add_subplot(2, 2, 4)\n",
    "b_young_hist, b_young_bin_edges = np.histogram(transits_case2_young.impact_parameters.explode().loc[np.abs(transits_case2_young.impact_parameters.explode()) <= 1.], bins=nbins)\n",
    "plt.bar(b_young_bin_edges[:-1], b_young_hist, width = 0.05, color='#0504aa',alpha=0.7)\n",
    "plt.xlabel(\"impact parameter\")\n",
    "\n",
    "plt.show()"
   ]
  },
  {
   "cell_type": "code",
   "execution_count": 195,
   "metadata": {},
   "outputs": [
    {
     "data": {
      "image/png": "[encoded data removed]",
      "text/plain": [
       "<Figure size 576x288 with 2 Axes>"
      ]
     },
     "metadata": {
      "needs_background": "light"
     },
     "output_type": "display_data"
    }
   ],
   "source": [
    "# how about for inclination?\n",
    "# old\n",
    "fig = plt.figure(figsize=(8, 4))\n",
    "ax = fig.add_subplot(1, 2, 1)\n",
    "b_old_hist, b_old_bin_edges = np.histogram(transits_case2_old.planet_inclinations_degrees.explode(), bins=nbins)\n",
    "plt.bar(b_old_bin_edges[:-1], b_old_hist, width = 5, color='#0504aa',alpha=0.7)\n",
    "plt.ylabel(\"count\")\n",
    "plt.xlabel(\"inclination [degrees]\")\n",
    "#plt.xlim([-10, 10])\n",
    "\n",
    "# young \n",
    "ax = fig.add_subplot(1, 2, 2)\n",
    "b_young_hist, b_young_bin_edges = np.histogram(transits_case2_young.planet_inclinations_degrees.explode(), bins=nbins)\n",
    "plt.bar(b_young_bin_edges[:-1], b_young_hist, width = 5, color='#0504aa',alpha=0.7)\n",
    "plt.ylabel(\"count\")\n",
    "plt.xlabel(\"inclination [degrees]\")\n",
    "#plt.xlim([-10, 10])\n",
    "\n",
    "plt.show()"
   ]
  },
  {
   "cell_type": "code",
   "execution_count": 184,
   "metadata": {},
   "outputs": [
    {
     "data": {
      "image/png": "[encoded data removed]",
      "text/plain": [
       "<Figure size 576x288 with 2 Axes>"
      ]
     },
     "metadata": {
      "needs_background": "light"
     },
     "output_type": "display_data"
    }
   ],
   "source": [
    "# I'm really running out of ideas now...what's left? R_star? a??\n",
    "### stellar radius\n",
    "# old\n",
    "fig = plt.figure(figsize=(8, 4))\n",
    "ax = fig.add_subplot(1, 2, 1)\n",
    "b_old_hist, b_old_bin_edges = np.histogram(transits_case2_old.star_radius.explode(), bins=nbins)\n",
    "plt.bar(b_old_bin_edges[:-1], b_old_hist, width = 0.1, color='#0504aa',alpha=0.7)\n",
    "plt.ylabel(\"count\")\n",
    "plt.xlabel(\"stellar radius [solar radii]\")\n",
    "#plt.xlim([-10, 10])\n",
    "\n",
    "# young \n",
    "ax = fig.add_subplot(1, 2, 2)\n",
    "b_young_hist, b_young_bin_edges = np.histogram(transits_case2_young.star_radius.explode(), bins=nbins)\n",
    "plt.bar(b_young_bin_edges[:-1], b_young_hist, width = 0.1, color='#0504aa',alpha=0.7)\n",
    "plt.ylabel(\"count\")\n",
    "plt.xlabel(\"stellar radius [solar radii]\")\n",
    "#plt.xlim([-10, 10])\n",
    "\n",
    "plt.show()"
   ]
  },
  {
   "cell_type": "code",
   "execution_count": 188,
   "metadata": {},
   "outputs": [
    {
     "data": {
      "image/png": "[encoded data removed]",
      "text/plain": [
       "<Figure size 576x288 with 2 Axes>"
      ]
     },
     "metadata": {
      "needs_background": "light"
     },
     "output_type": "display_data"
    }
   ],
   "source": [
    "### semi-major axes\n",
    "# old\n",
    "fig = plt.figure(figsize=(8, 4))\n",
    "ax = fig.add_subplot(1, 2, 1)\n",
    "b_old_hist, b_old_bin_edges = np.histogram(transits_case2_old.semi_major_axes.explode(), bins=nbins)\n",
    "plt.bar(b_old_bin_edges[:-1], b_old_hist, width = 0.02, color='#0504aa',alpha=0.7)\n",
    "plt.ylabel(\"count\")\n",
    "plt.xlabel(\"a [AU]\")\n",
    "#plt.xlim([-10, 10])\n",
    "\n",
    "# young \n",
    "ax = fig.add_subplot(1, 2, 2)\n",
    "b_young_hist, b_young_bin_edges = np.histogram(transits_case2_young.semi_major_axes.explode(), bins=nbins)\n",
    "plt.bar(b_young_bin_edges[:-1], b_young_hist, width = 0.02, color='#0504aa',alpha=0.7)\n",
    "plt.ylabel(\"count\")\n",
    "plt.xlabel(\"a [AU]\")\n",
    "#plt.xlim([-10, 10])\n",
    "\n",
    "plt.show()"
   ]
  },
  {
   "cell_type": "code",
   "execution_count": 142,
   "metadata": {
    "scrolled": true
   },
   "outputs": [
    {
     "name": "stdout",
     "output_type": "stream",
     "text": [
      "[791, 1023, 1295, 1353, 1353, 1395, 1393, 1406, 1381, 1351]\n",
      "[0.03955, 0.05115, 0.06475, 0.06765, 0.06765, 0.06975, 0.06965, 0.0703, 0.06905, 0.06755]\n",
      "-1395.0519409761619\n",
      "-1395.0519409761619\n"
     ]
    }
   ],
   "source": [
    "\"\"\"\n",
    "from math import lgamma\n",
    "\n",
    "def uniform_lam(length, lam):\n",
    "    return lam*np.ones(length)\n",
    "\n",
    "def poisson_prob(k, lam):\n",
    "    return np.power(lam, [Decimal(math.factorial(kth)) \n",
    "                                                     for kth in k]) * np.exp(lam) / ([Decimal(math.factorial(kth)) \n",
    "                                                     for kth in k])\n",
    "\n",
    "# - log L = SUM from i to N (log k_i! - k_i log lamba_i + lambda_i)\n",
    "def poisson_log_likelihood(length, k, lam):\n",
    "    #term = [np.log(math.factorial(kth)) for kth in k]\n",
    "    term1 = length * lam\n",
    "    term2 = np.sum([lgamma(kth + 1) for kth in k])\n",
    "    term3 = np.log(lam) * np.sum(k)\n",
    "    return term3 - term1 - term2\n",
    "\n",
    "num_samples = 20000 # in the case of lambda per set\n",
    "# num_planets = length of period arrays, in the case of lambda per system\n",
    "lam = 0.04*num_samples\n",
    "\n",
    "# for each set, count and calculate expected number of systems with at least one transiting planet\n",
    "norm_syst_array = []\n",
    "syst_array = []\n",
    "for i in range(len(file_names)):\n",
    "    syst = len(dfs[i+1].loc[dfs[i+1].transit_multiplicity > 0])\n",
    "    syst_array.append(syst)\n",
    "    norm_syst_array.append(syst/num_samples)\n",
    "print(syst_array)\n",
    "print(norm_syst_array)\n",
    "\n",
    "# okay, clearly I'm one level too high, since that gives me one logL. I need 10 logL's\n",
    "for i in range(len(file_names)):\n",
    "    lengths = []\n",
    "    transits = []\n",
    "    for j in range(len(dfs[1])):\n",
    "        length = len(dfs[i+1].period_periods) # number of planets in system\n",
    "        transit = dfs[i+1].transit_multiplicity # expected number of transiters\n",
    "        \n",
    "\n",
    "# calculate Poisson probability per set\n",
    "print(poisson_log_likelihood(length=10, k=syst_array, lam=lam))\n",
    "# calculate Poisson probability per system\n",
    "print(poisson_log_likelihood(length=10, k=syst_array, lam=1.369))\n",
    "\"\"\""
   ]
  },
  {
   "cell_type": "code",
   "execution_count": null,
   "metadata": {},
   "outputs": [],
   "source": []
  }
 ],
 "metadata": {
  "kernelspec": {
   "display_name": "Python 3",
   "language": "python",
   "name": "python3"
  },
  "language_info": {
   "codemirror_mode": {
    "name": "ipython",
    "version": 3
   },
   "file_extension": ".py",
   "mimetype": "text/x-python",
   "name": "python",
   "nbconvert_exporter": "python",
   "pygments_lexer": "ipython3",
   "version": "3.6.8"
  }
 },
 "nbformat": 4,
 "nbformat_minor": 2
}
