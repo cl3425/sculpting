{
 "cells": [
  {
   "cell_type": "markdown",
   "metadata": {},
   "source": [
    "## Initial cuts"
   ]
  },
  {
   "cell_type": "code",
   "execution_count": 38,
   "metadata": {},
   "outputs": [
    {
     "name": "stdout",
     "output_type": "stream",
     "text": [
      "186301\n",
      "      KIC  iso_mass  iso_mass_err1  iso_mass_err2  iso_teff  iso_teff_err1  \\\n",
      "0  757076     1.396          0.179         -0.218    5052.2          103.9   \n",
      "1  757099     0.873          0.054         -0.039    5364.9          102.7   \n",
      "2  757137     1.669          0.309         -0.300    4628.7           84.8   \n",
      "3  757280     1.715          0.086         -0.089    6856.8          144.4   \n",
      "4  757450     0.914          0.062         -0.057    5301.2          111.0   \n",
      "\n",
      "   iso_teff_err2  iso_logg  iso_logg_err1  iso_logg_err2  ...  iso_age  \\\n",
      "0          -86.6     3.373          0.067         -0.081  ...     2.47   \n",
      "1          -84.9     4.318          0.037         -0.029  ...    15.20   \n",
      "2          -76.2     2.388          0.083         -0.086  ...     1.51   \n",
      "3         -139.9     3.834          0.033         -0.032  ...     1.24   \n",
      "4         -103.1     4.432          0.045         -0.044  ...     9.46   \n",
      "\n",
      "   unReAgeFlag  iso_age_err1  iso_age_err2  iso_dis  iso_dis_err1  \\\n",
      "0          NaN          1.82         -0.73    651.5          22.6   \n",
      "1          NaN          3.00         -3.98    367.8           7.1   \n",
      "2          NaN          1.06         -0.58    568.4          12.2   \n",
      "3          NaN          0.20         -0.16    822.0          19.4   \n",
      "4          NaN          5.36         -5.15    829.6          24.0   \n",
      "\n",
      "   iso_dis_err2  iso_avs  iso_gof   TAMS  \n",
      "0         -21.6    0.371      1.0   2.69  \n",
      "1          -6.9    0.340      1.0  17.18  \n",
      "2         -11.6    0.344      1.0   1.66  \n",
      "3         -21.0    0.496      1.0   1.62  \n",
      "4         -23.4    0.465      1.0  16.10  \n",
      "\n",
      "[5 rows x 32 columns]\n",
      "Index(['KIC', 'iso_mass', 'iso_mass_err1', 'iso_mass_err2', 'iso_teff',\n",
      "       'iso_teff_err1', 'iso_teff_err2', 'iso_logg', 'iso_logg_err1',\n",
      "       'iso_logg_err2', 'iso_feh', 'iso_feh_err1', 'iso_feh_err2', 'iso_rad',\n",
      "       'iso_rad_err1', 'iso_rad_err2', 'iso_rho', 'iso_rho_err1',\n",
      "       'iso_rho_err2', 'iso_lum', 'iso_lum_err1', 'iso_lum_err2', 'iso_age',\n",
      "       'unReAgeFlag', 'iso_age_err1', 'iso_age_err2', 'iso_dis',\n",
      "       'iso_dis_err1', 'iso_dis_err2', 'iso_avs', 'iso_gof', 'TAMS'],\n",
      "      dtype='object')\n"
     ]
    }
   ],
   "source": [
    "import pandas as pd\n",
    "import numpy as np\n",
    "from astropy.io import fits\n",
    "from astropy.table import Table\n",
    "import matplotlib.pyplot as plt\n",
    "%matplotlib inline\n",
    "path = '/Users/chris/Desktop/sculpting/berger_gaia_kepler/'\n",
    "# all data downloaded from Berger et al 2020's ancillary tables: https://arxiv.org/src/2001.07737v3/anc\n",
    "# the paper we're comparing against: https://arxiv.org/pdf/2005.14671.pdf\n",
    "# command line edit to get rid of double backslashes at end of each row: sed -e \"s/\\\\\\//g\" GKSPCPapTable2_Final.txt > GKSPCPapTable2_cleaned.txt\n",
    "table2 = pd.read_csv(path+'GKSPCPapTable2_cleaned.txt', sep='&', header=0)\n",
    "print(len(table2))\n",
    "print(table2.head())\n",
    "print(table2.columns)"
   ]
  },
  {
   "cell_type": "code",
   "execution_count": 39,
   "metadata": {},
   "outputs": [
    {
     "name": "stdout",
     "output_type": "stream",
     "text": [
      "150560\n"
     ]
    }
   ],
   "source": [
    "# remove stars with unreliable ages or bad goodness of fit\n",
    "table2 = table2.loc[(table2.unReAgeFlag.isnull()) & (table2.iso_gof==1.)]\n",
    "print(len(table2))"
   ]
  },
  {
   "cell_type": "code",
   "execution_count": 40,
   "metadata": {},
   "outputs": [
    {
     "name": "stdout",
     "output_type": "stream",
     "text": [
      "150560\n"
     ]
    }
   ],
   "source": [
    "# remove stars with uninformative posteriors (per paper, terminal age of main sequence > 20 Gyr)\n",
    "table2 = table2.loc[table2['TAMS']<=20]\n",
    "print(len(table2))\n",
    "# nice to see that tracks with bad gof or unreliable age"
   ]
  },
  {
   "cell_type": "code",
   "execution_count": 41,
   "metadata": {},
   "outputs": [
    {
     "name": "stdout",
     "output_type": "stream",
     "text": [
      "150560\n"
     ]
    }
   ],
   "source": [
    "# remove stars beyond [3700, 7500] K Teff, ie. keep only FGK stars\n",
    "fgk = table2.loc[(table2['iso_teff'] <= 7500) & (table2['iso_teff'] >= 3700)]\n",
    "print(len(table2))"
   ]
  },
  {
   "cell_type": "code",
   "execution_count": 42,
   "metadata": {},
   "outputs": [
    {
     "name": "stdout",
     "output_type": "stream",
     "text": [
      "164740\n",
      "      KIC     gmag  gmag_err    kmag  kmag_err  parallax  parallax_err    feh  \\\n",
      "0  757076  12.3510    0.0203   9.559     0.017    1.5239        0.0483    NaN   \n",
      "2  757137  10.0523    0.0279   6.722     0.017    1.7534        0.0253    NaN   \n",
      "3  757280  12.1329    0.0200  10.627     0.018    1.2137        0.0220    NaN   \n",
      "4  757450  15.8950    0.0202  13.118     0.029    1.1989        0.0261  0.229   \n",
      "7  892010  12.6168    0.0209   9.041     0.017    0.5414        0.0242    NaN   \n",
      "\n",
      "   feh_err    RUWE  num_gaia_companions Kmag_final_prov evstate  \n",
      "0      NaN  0.9467                    0             NaN     NaN  \n",
      "2      NaN  0.9126                    0             NaN     RGB  \n",
      "3      NaN  0.8704                    0             NaN     NaN  \n",
      "4     0.15  1.0300                    0             NaN     NaN  \n",
      "7      NaN  1.0141                    0             NaN     NaN  \n",
      "Index(['KIC', 'gmag', 'gmag_err', 'kmag', 'kmag_err', 'parallax',\n",
      "       'parallax_err', 'feh', 'feh_err', 'RUWE', 'num_gaia_companions',\n",
      "       'Kmag_final_prov', 'evstate'],\n",
      "      dtype='object')\n"
     ]
    }
   ],
   "source": [
    "# introduce Table 1 to use RUWE (re-normalized unit-weight error), aka binary star/edge-of-parameter space classifier\n",
    "# command line edit to get rid of double backslashes at end of each row: sed -e \"s/\\\\\\//g\" GKSPCPapTable1_Final.txt > GKSPCPapTable1_cleaned.txt\n",
    "table1 = pd.read_csv(path+'GKSPCPapTable1_cleaned.txt', sep='&', header=0)\n",
    "table1 = table1.loc[table1.RUWE<=1.2]\n",
    "print(len(table1))\n",
    "print(table1.head())\n",
    "print(table1.columns)"
   ]
  },
  {
   "cell_type": "code",
   "execution_count": 43,
   "metadata": {},
   "outputs": [
    {
     "name": "stdout",
     "output_type": "stream",
     "text": [
      "      KIC  iso_mass  iso_mass_err1  iso_mass_err2  iso_teff  iso_teff_err1  \\\n",
      "0  757076     1.396          0.179         -0.218    5052.2          103.9   \n",
      "1  757137     1.669          0.309         -0.300    4628.7           84.8   \n",
      "2  757280     1.715          0.086         -0.089    6856.8          144.4   \n",
      "3  757450     0.914          0.062         -0.057    5301.2          111.0   \n",
      "4  892010     1.710          0.708         -0.402    4555.8          141.3   \n",
      "\n",
      "   iso_teff_err2  iso_logg  iso_logg_err1  iso_logg_err2  ...    kmag  \\\n",
      "0          -86.6     3.373          0.067         -0.081  ...   9.559   \n",
      "1          -76.2     2.388          0.083         -0.086  ...   6.722   \n",
      "2         -139.9     3.834          0.033         -0.032  ...  10.627   \n",
      "3         -103.1     4.432          0.045         -0.044  ...  13.118   \n",
      "4          -92.4     2.299          0.163         -0.119  ...   9.041   \n",
      "\n",
      "   kmag_err  parallax  parallax_err    feh  feh_err    RUWE  \\\n",
      "0     0.017    1.5239        0.0483    NaN      NaN  0.9467   \n",
      "1     0.017    1.7534        0.0253    NaN      NaN  0.9126   \n",
      "2     0.018    1.2137        0.0220    NaN      NaN  0.8704   \n",
      "3     0.029    1.1989        0.0261  0.229     0.15  1.0300   \n",
      "4     0.017    0.5414        0.0242    NaN      NaN  1.0141   \n",
      "\n",
      "   num_gaia_companions  Kmag_final_prov  evstate  \n",
      "0                    0              NaN      NaN  \n",
      "1                    0              NaN      RGB  \n",
      "2                    0              NaN      NaN  \n",
      "3                    0              NaN      NaN  \n",
      "4                    0              NaN      NaN  \n",
      "\n",
      "[5 rows x 44 columns]\n",
      "131867\n"
     ]
    }
   ],
   "source": [
    "# join tables\n",
    "catalog = pd.merge(fgk, table1, how='inner', on='KIC')\n",
    "print(catalog.head())\n",
    "print(len(catalog))"
   ]
  },
  {
   "cell_type": "code",
   "execution_count": 44,
   "metadata": {},
   "outputs": [
    {
     "name": "stdout",
     "output_type": "stream",
     "text": [
      "112397\n",
      "      KIC  iso_mass  iso_mass_err1  iso_mass_err2  iso_teff  iso_teff_err1  \\\n",
      "2  757280     1.715          0.086         -0.089    6856.8          144.4   \n",
      "3  757450     0.914          0.062         -0.057    5301.2          111.0   \n",
      "6  892195     0.862          0.057         -0.040    5333.4          101.3   \n",
      "7  892667     1.548          0.081         -0.087    6704.9          148.8   \n",
      "8  892675     1.038          0.066         -0.076    5929.4          108.9   \n",
      "\n",
      "   iso_teff_err2  iso_logg  iso_logg_err1  iso_logg_err2  ...  parallax  \\\n",
      "2         -139.9     3.834          0.033         -0.032  ...    1.2137   \n",
      "3         -103.1     4.432          0.045         -0.044  ...    1.1989   \n",
      "6          -84.2     4.372          0.039         -0.029  ...    2.0802   \n",
      "7         -128.8     3.950          0.034         -0.036  ...    0.8512   \n",
      "8         -108.1     4.385          0.035         -0.043  ...    1.7114   \n",
      "\n",
      "   parallax_err    feh  feh_err    RUWE  num_gaia_companions  Kmag_final_prov  \\\n",
      "2        0.0220    NaN      NaN  0.8704                    0              NaN   \n",
      "3        0.0261  0.229     0.15  1.0300                    0              NaN   \n",
      "6        0.0167    NaN      NaN  1.1211                    0              NaN   \n",
      "7        0.0154    NaN      NaN  0.8674                    0              NaN   \n",
      "8        0.0142    NaN      NaN  1.0648                    0              NaN   \n",
      "\n",
      "   evstate      logR  is_giant  \n",
      "2      NaN  0.416641     False  \n",
      "3      NaN -0.019088     False  \n",
      "6      NaN -0.000869     False  \n",
      "7      NaN  0.337060     False  \n",
      "8      NaN  0.033424     False  \n",
      "\n",
      "[5 rows x 46 columns]\n"
     ]
    }
   ],
   "source": [
    "# isolate giant stars\n",
    "# using unnumbered equation in first paragraph of Sec 4.2.1 (\"Sample Selection\") in Berger et al 2020b \n",
    "catalog['logR'] = np.log10(catalog.iso_rad)\n",
    "catalog['is_giant'] = np.where(catalog['logR'] >= 0.00035*(catalog['iso_teff'] - 4500) + 0.15, True, False)\n",
    "catalog = catalog.loc[catalog['is_giant'] == False]\n",
    "print(len(catalog))\n",
    "print(catalog.head())"
   ]
  },
  {
   "cell_type": "code",
   "execution_count": 45,
   "metadata": {},
   "outputs": [
    {
     "name": "stdout",
     "output_type": "stream",
     "text": [
      "112397\n",
      "19969\n"
     ]
    }
   ],
   "source": [
    "# get rid of stars with age errors greater than 1 Gyr\n",
    "print(len(catalog))\n",
    "catalog = catalog.loc[np.abs(catalog.iso_age_err1) < 1.]\n",
    "catalog = catalog.loc[np.abs(catalog.iso_age_err2) < 1.]\n",
    "print(len(catalog))"
   ]
  },
  {
   "cell_type": "code",
   "execution_count": null,
   "metadata": {},
   "outputs": [],
   "source": [
    "\"\"\"# m dwarf side plot: what are error bounds for m dwarfs?\n",
    "table2 = pd.read_csv(path+'GKSPCPapTable2_cleaned.txt', sep='&', header=0)\n",
    "table2['logR'] = np.log10(table2.iso_rad)\n",
    "table2['is_giant'] = np.where(table2['logR'] >= 0.00035*(table2['iso_teff'] - 4500) + 0.15, True, False)\n",
    "table2 = table2.loc[table2.is_giant==False]\n",
    "table2 = table2.loc[(table2['iso_teff'] <= 3700) & (table2['iso_teff'] >= 2400)]\n",
    "print(len(table2))\n",
    "print(table2.head())\n",
    "print(np.mean(table2.iso_mass_err1))\n",
    "print(np.mean(table2.iso_mass_err2))\n",
    "print(np.mean(catalog.iso_mass_err1))\n",
    "print(np.mean(catalog.iso_mass_err2))\n",
    "\n",
    "print(np.mean(table2.iso_rad_err1))\n",
    "print(np.mean(table2.iso_rad_err2))\n",
    "print(np.mean(catalog.iso_rad_err1))\n",
    "print(np.mean(catalog.iso_rad_err2))\n",
    "\n",
    "print(np.mean(table2.iso_age_err1))\n",
    "print(np.mean(table2.iso_age_err2))\n",
    "print(np.mean(catalog.iso_age_err1))\n",
    "print(np.mean(catalog.iso_age_err2))\n",
    "\"\"\""
   ]
  },
  {
   "cell_type": "markdown",
   "metadata": {},
   "source": [
    "Berger et al star age distribution"
   ]
  },
  {
   "cell_type": "code",
   "execution_count": 61,
   "metadata": {},
   "outputs": [
    {
     "name": "stdout",
     "output_type": "stream",
     "text": [
      "[ 6807 17703 21082 18496 15373 12251 10255  8142  6336  4671  3437  2543\n",
      "  1872  1339  1109   831   683   607   500   156]\n",
      "[ 0.1   1.04  1.98  2.92  3.86  4.8   5.74  6.68  7.62  8.56  9.5  10.44\n",
      " 11.38 12.32 13.26 14.2  15.14 16.08 17.02 17.96 18.9 ]\n"
     ]
    },
    {
     "data": {
      "image/png": "[encoded data removed]",
      "text/plain": [
       "<Figure size 432x288 with 1 Axes>"
      ]
     },
     "metadata": {
      "needs_background": "light"
     },
     "output_type": "display_data"
    }
   ],
   "source": [
    "import matplotlib.pyplot as plt\n",
    "%matplotlib inline\n",
    "\n",
    "# age histogram for all stars with well-constrained ages \n",
    "age_hist, age_bin_edges = np.histogram(catalog.iso_age, bins=20)\n",
    "print(age_hist)\n",
    "print(age_bin_edges)\n",
    "plt.bar(age_bin_edges[:-1], age_hist, width = 1, color='#0504aa',alpha=0.7)\n",
    "plt.ylabel(\"count\")\n",
    "plt.xlabel(\"age [Gyr]\")\n",
    "plt.show()"
   ]
  },
  {
   "cell_type": "code",
   "execution_count": 34,
   "metadata": {},
   "outputs": [
    {
     "data": {
      "text/plain": [
       "1     7.838221\n",
       "2     8.263286\n",
       "3     6.871056\n",
       "4     4.888390\n",
       "5     2.903208\n",
       "6     1.884402\n",
       "7     1.382486\n",
       "8     1.136174\n",
       "9     0.937718\n",
       "10    0.900000\n",
       "Name: iso_age, dtype: float64"
      ]
     },
     "execution_count": 34,
     "metadata": {},
     "output_type": "execute_result"
    }
   ],
   "source": [
    "# group by teff and plot median per group\n",
    "teff_bins = np.linspace(catalog.iso_teff.min(), catalog.iso_teff.max(), 10) # create teff bins\n",
    "teff_groups = catalog.iso_age.groupby(np.digitize(catalog.iso_teff, teff_bins)) # assign number to teff bins, then assign ages to bins\n",
    "teff_groups.mean() # get mean of each bin\n"
   ]
  },
  {
   "cell_type": "code",
   "execution_count": 62,
   "metadata": {},
   "outputs": [
    {
     "name": "stdout",
     "output_type": "stream",
     "text": [
      "[4879.6        5170.72222222 5461.84444444 5752.96666667 6044.08888889\n",
      " 6335.21111111 6626.33333333 6917.45555556 7208.57777778 7499.7       ]\n",
      "<PandasArray>\n",
      "[ 7.838220858895704,  8.263285509325668,  6.871056322753293,\n",
      "  4.888390123456809, 2.9032077201201765, 1.8844015317286669,\n",
      " 1.3824858902001038, 1.1361744186046507, 0.9377183833116034,\n",
      "                0.9]\n",
      "Length: 10, dtype: float64\n"
     ]
    },
    {
     "data": {
      "image/png": "[encoded data removed]",
      "text/plain": [
       "<Figure size 432x288 with 1 Axes>"
      ]
     },
     "metadata": {
      "needs_background": "light"
     },
     "output_type": "display_data"
    }
   ],
   "source": [
    "# plot mean age per teff bin for all stars with well-constrained ages\n",
    "print(teff_bins)\n",
    "print(teff_groups.mean().array)\n",
    "plt.bar(teff_bins, teff_groups.mean().array, width=250)\n",
    "plt.ylabel(\"age [Gyr]\")\n",
    "plt.xlabel(\"teff [K]\")\n",
    "plt.show()"
   ]
  },
  {
   "cell_type": "code",
   "execution_count": 63,
   "metadata": {},
   "outputs": [
    {
     "name": "stdout",
     "output_type": "stream",
     "text": [
      "6340\n",
      "134193\n",
      "0.04724538537777678\n"
     ]
    }
   ],
   "source": [
    "# ratio of young stars to old\n",
    "a = catalog.loc[catalog.iso_age < 1.0]\n",
    "print(len(a))\n",
    "print(len(catalog))\n",
    "print(len(a)/len(catalog))"
   ]
  },
  {
   "cell_type": "markdown",
   "metadata": {},
   "source": [
    "## Cross-Matching with Kepler"
   ]
  },
  {
   "cell_type": "code",
   "execution_count": 90,
   "metadata": {},
   "outputs": [],
   "source": [
    "# cross-matching from Megan Bedell's gaia-kepler.fun KIC objs\n",
    "path = '/Users/chris/Desktop/sculpting/crossmatch_fun/'\n",
    "hdu1 = fits.open(path+'kepler_dr2_1arcsec.fits')\n",
    "data = hdu1[1].data\n",
    "header = hdu1[1].header\n",
    "columns = hdu1[1].columns\n",
    "hdu1.close()"
   ]
  },
  {
   "cell_type": "code",
   "execution_count": 165,
   "metadata": {
    "scrolled": true
   },
   "outputs": [
    {
     "name": "stdout",
     "output_type": "stream",
     "text": [
      "134\n",
      "(1635721458409799680, 'Gaia DR2 2050233807328471424', 2050233807328471424, 689405501, 2015.5, 291.03868130517526, 0.03587841951696976, 36.59803050177959, 0.04783193100319975, 1.4939158842221332, 0.04832756321407145, 30.912294, -4.960813153860173, 0.07927500542638122, -13.68268408787783, 0.08135066853388584, -0.035100333, 0.021850584, -0.03170967, -0.33841524, 0.5000767, -0.4209503, -0.23012185, -0.22412002, -0.15750915, -0.044099208, 105, 105, 100, 5, 2.0918074, 126.04239, 0.0, 0.0, 31, True, 611.1396, 1.5567976316779424, 0.011957889387888977, -0.27091637, 12, 10, 0.05254074, 0, 12, True, 93, 429068.4313471665, 130.7086417277348, 3282.6326, 11.607049, 12, 196805.46926130765, 360.63177916615274, 545.7241, 12.116295, 12, 329938.42846827576, 372.9979353685019, 884.55835, 10.9658375, 1.2276454, 0, 1.1504574, 0.5092459, 0.6412115, -16.281547099993276, 0.637275923583524, 6, 5000.0, 3.0, 0.0, 'NOT_AVAILABLE', 69.18255203341805, 9.799582973400991, 302.6196112374861, 57.67861553804456, 100001, 4927.0034, 4823.0, 5027.3364, nan, nan, nan, nan, nan, nan, 200111, 4.0068164, 3.8484802, 4.1814857, 8.523638, 8.141349, 8.905927, 'http://geadata.esac.esa.int/data-server/datalink/links?ID=2050233807328471424', '', 757076, 291.03873, 36.598129, 657.66389210873, 637.236310606064, 679.419306153879, 1464.73707278111, 1, 1, '2MASS J19240929+3635532', 11.678, 5160, 171, -156, 'PHO1', 3.58, 0.928, -0.232, 'KIC0', -0.1, 0.3, -0.3, 'KIC0', 3.128, 0.987, -2.304, 1.357, 0.204, -0.475, 'DSEP', 0, 0, 0, 10.126, 9.667, 9.559, 'none', 0.15616014755659263)\n"
     ]
    }
   ],
   "source": [
    "print(len(data[0]))\n",
    "print(data[0])"
   ]
  },
  {
   "cell_type": "code",
   "execution_count": 166,
   "metadata": {
    "scrolled": false
   },
   "outputs": [
    {
     "name": "stdout",
     "output_type": "stream",
     "text": [
      "134\n",
      "ColDefs(\n",
      "    name = 'solution_id'; format = 'K'; null = 999999\n",
      "    name = 'designation'; format = '28A'\n",
      "    name = 'source_id'; format = 'K'; null = 999999\n",
      "    name = 'random_index'; format = 'K'; null = 999999\n",
      "    name = 'gaia_ref_epoch'; format = 'D'\n",
      "    name = 'ra'; format = 'D'; unit = 'deg'\n",
      "    name = 'ra_error'; format = 'D'; unit = '10**-3 arcsec'\n",
      "    name = 'dec'; format = 'D'; unit = 'deg'\n",
      "    name = 'dec_error'; format = 'D'; unit = '10**-3 arcsec'\n",
      "    name = 'parallax'; format = 'D'; unit = '10**-3 arcsec'\n",
      "    name = 'parallax_error'; format = 'D'; unit = '10**-3 arcsec'\n",
      "    name = 'parallax_over_error'; format = 'E'\n",
      "    name = 'pmra'; format = 'D'; unit = '10**-3 arcsec yr-1'\n",
      "    name = 'pmra_error'; format = 'D'; unit = '10**-3 arcsec yr-1'\n",
      "    name = 'pmdec'; format = 'D'; unit = '10**-3 arcsec yr-1'\n",
      "    name = 'pmdec_error'; format = 'D'; unit = '10**-3 arcsec yr-1'\n",
      "    name = 'ra_dec_corr'; format = 'E'\n",
      "    name = 'ra_parallax_corr'; format = 'E'\n",
      "    name = 'ra_pmra_corr'; format = 'E'\n",
      "    name = 'ra_pmdec_corr'; format = 'E'\n",
      "    name = 'dec_parallax_corr'; format = 'E'\n",
      "    name = 'dec_pmra_corr'; format = 'E'\n",
      "    name = 'dec_pmdec_corr'; format = 'E'\n",
      "    name = 'parallax_pmra_corr'; format = 'E'\n",
      "    name = 'parallax_pmdec_corr'; format = 'E'\n",
      "    name = 'pmra_pmdec_corr'; format = 'E'\n",
      "    name = 'astrometric_n_obs_al'; format = 'J'; null = 999999\n",
      "    name = 'astrometric_n_obs_ac'; format = 'J'; null = 999999\n",
      "    name = 'astrometric_n_good_obs_al'; format = 'J'; null = 999999\n",
      "    name = 'astrometric_n_bad_obs_al'; format = 'J'; null = 999999\n",
      "    name = 'astrometric_gof_al'; format = 'E'\n",
      "    name = 'astrometric_chi2_al'; format = 'E'\n",
      "    name = 'astrometric_excess_noise'; format = 'D'; unit = 'mas'\n",
      "    name = 'astrometric_excess_noise_sig'; format = 'D'\n",
      "    name = 'astrometric_params_solved'; format = 'I'; null = 16959\n",
      "    name = 'astrometric_primary_flag'; format = 'L'\n",
      "    name = 'astrometric_weight_al'; format = 'E'; unit = 'mas-2'\n",
      "    name = 'astrometric_pseudo_colour'; format = 'D'; unit = 'um-1'\n",
      "    name = 'astrometric_pseudo_colour_error'; format = 'D'; unit = 'um-1'\n",
      "    name = 'mean_varpi_factor_al'; format = 'E'\n",
      "    name = 'astrometric_matched_observations'; format = 'I'; null = 16959\n",
      "    name = 'visibility_periods_used'; format = 'I'; null = 16959\n",
      "    name = 'astrometric_sigma5d_max'; format = 'E'; unit = 'mas'\n",
      "    name = 'frame_rotator_object_type'; format = 'J'; null = 999999\n",
      "    name = 'matched_observations'; format = 'I'; null = 16959\n",
      "    name = 'duplicated_source'; format = 'L'\n",
      "    name = 'phot_g_n_obs'; format = 'J'; null = 999999\n",
      "    name = 'phot_g_mean_flux'; format = 'D'; unit = 'ph s-1'\n",
      "    name = 'phot_g_mean_flux_error'; format = 'D'; unit = 'ph s-1'\n",
      "    name = 'phot_g_mean_flux_over_error'; format = 'E'\n",
      "    name = 'phot_g_mean_mag'; format = 'E'; unit = 'mag'\n",
      "    name = 'phot_bp_n_obs'; format = 'J'; null = 999999\n",
      "    name = 'phot_bp_mean_flux'; format = 'D'; unit = 'ph s-1'\n",
      "    name = 'phot_bp_mean_flux_error'; format = 'D'; unit = 'ph s-1'\n",
      "    name = 'phot_bp_mean_flux_over_error'; format = 'E'\n",
      "    name = 'phot_bp_mean_mag'; format = 'E'; unit = 'mag'\n",
      "    name = 'phot_rp_n_obs'; format = 'J'; null = 999999\n",
      "    name = 'phot_rp_mean_flux'; format = 'D'; unit = 'ph s-1'\n",
      "    name = 'phot_rp_mean_flux_error'; format = 'D'; unit = 'ph s-1'\n",
      "    name = 'phot_rp_mean_flux_over_error'; format = 'E'\n",
      "    name = 'phot_rp_mean_mag'; format = 'E'; unit = 'mag'\n",
      "    name = 'phot_bp_rp_excess_factor'; format = 'E'\n",
      "    name = 'phot_proc_mode'; format = 'I'; null = 16959\n",
      "    name = 'bp_rp'; format = 'E'; unit = 'mag'\n",
      "    name = 'bp_g'; format = 'E'; unit = 'mag'\n",
      "    name = 'g_rp'; format = 'E'; unit = 'mag'\n",
      "    name = 'radial_velocity'; format = 'D'; unit = 'km s-1'\n",
      "    name = 'radial_velocity_error'; format = 'D'; unit = 'km s-1'\n",
      "    name = 'rv_nb_transits'; format = 'J'; null = 999999\n",
      "    name = 'rv_template_teff'; format = 'E'; unit = 'K'\n",
      "    name = 'rv_template_logg'; format = 'E'\n",
      "    name = 'rv_template_fe_h'; format = 'E'\n",
      "    name = 'phot_variable_flag'; format = '13A'\n",
      "    name = 'l'; format = 'D'; unit = 'deg'\n",
      "    name = 'b'; format = 'D'; unit = 'deg'\n",
      "    name = 'ecl_lon'; format = 'D'; unit = 'deg'\n",
      "    name = 'ecl_lat'; format = 'D'; unit = 'deg'\n",
      "    name = 'priam_flags'; format = 'K'; null = 999999\n",
      "    name = 'teff_val'; format = 'E'; unit = 'K'\n",
      "    name = 'teff_percentile_lower'; format = 'E'; unit = 'K'\n",
      "    name = 'teff_percentile_upper'; format = 'E'; unit = 'K'\n",
      "    name = 'a_g_val'; format = 'E'; unit = 'mag'\n",
      "    name = 'a_g_percentile_lower'; format = 'E'; unit = 'mag'\n",
      "    name = 'a_g_percentile_upper'; format = 'E'; unit = 'mag'\n",
      "    name = 'e_bp_min_rp_val'; format = 'E'; unit = 'mag'\n",
      "    name = 'e_bp_min_rp_percentile_lower'; format = 'E'; unit = 'mag'\n",
      "    name = 'e_bp_min_rp_percentile_upper'; format = 'E'; unit = 'mag'\n",
      "    name = 'flame_flags'; format = 'K'; null = 999999\n",
      "    name = 'radius_val'; format = 'E'; unit = 'solRad'\n",
      "    name = 'radius_percentile_lower'; format = 'E'; unit = 'solRad'\n",
      "    name = 'radius_percentile_upper'; format = 'E'; unit = 'solRad'\n",
      "    name = 'lum_val'; format = 'E'; unit = 'solLum'\n",
      "    name = 'lum_percentile_lower'; format = 'E'; unit = 'solLum'\n",
      "    name = 'lum_percentile_upper'; format = 'E'; unit = 'solLum'\n",
      "    name = 'datalink_url'; format = '77A'\n",
      "    name = 'epoch_photometry_url'; format = '99A'\n",
      "    name = 'kepid'; format = 'K'; null = 999999\n",
      "    name = 'ra_kic'; format = 'D'; unit = 'deg'\n",
      "    name = 'dec_kic'; format = 'D'; unit = 'deg'\n",
      "    name = 'r_est'; format = 'D'; unit = 'pc'\n",
      "    name = 'r_lo'; format = 'D'; unit = 'pc'\n",
      "    name = 'r_hi'; format = 'D'; unit = 'pc'\n",
      "    name = 'r_length_prior'; format = 'D'; unit = 'pc'\n",
      "    name = 'r_result_flag'; format = 'I'; null = 16959\n",
      "    name = 'r_modality_flag'; format = 'I'; null = 16959\n",
      "    name = 'tm_designation'; format = '25A'\n",
      "    name = 'kepmag'; format = 'D'\n",
      "    name = 'teff'; format = 'K'; unit = 'K'; null = 999999\n",
      "    name = 'teff_err1'; format = 'K'; unit = 'K'; null = 999999\n",
      "    name = 'teff_err2'; format = 'K'; unit = 'K'; null = 999999\n",
      "    name = 'teff_prov'; format = '5A'\n",
      "    name = 'logg'; format = 'D'\n",
      "    name = 'logg_err1'; format = 'D'\n",
      "    name = 'logg_err2'; format = 'D'\n",
      "    name = 'logg_prov'; format = '5A'\n",
      "    name = 'feh'; format = 'D'\n",
      "    name = 'feh_err1'; format = 'D'\n",
      "    name = 'feh_err2'; format = 'D'\n",
      "    name = 'feh_prov'; format = '5A'\n",
      "    name = 'radius'; format = 'D'; unit = 'solRad'\n",
      "    name = 'radius_err1'; format = 'D'; unit = 'solRad'\n",
      "    name = 'radius_err2'; format = 'D'; unit = 'solRad'\n",
      "    name = 'mass'; format = 'D'; unit = 'solMass'\n",
      "    name = 'mass_err1'; format = 'D'; unit = 'solMass'\n",
      "    name = 'mass_err2'; format = 'D'; unit = 'solMass'\n",
      "    name = 'prov_sec'; format = '6A'\n",
      "    name = 'nconfp'; format = 'K'; null = 999999\n",
      "    name = 'nkoi'; format = 'K'; null = 999999\n",
      "    name = 'ntce'; format = 'K'; null = 999999\n",
      "    name = 'jmag'; format = 'D'; unit = 'mag'\n",
      "    name = 'hmag'; format = 'D'; unit = 'mag'\n",
      "    name = 'kmag'; format = 'D'; unit = 'mag'\n",
      "    name = 'planet?'; format = '4A'\n",
      "    name = 'kepler_gaia_ang_dist'; format = 'D'; unit = 'arcsec'\n",
      ")\n"
     ]
    }
   ],
   "source": [
    "print(len(columns))\n",
    "print(columns)"
   ]
  },
  {
   "cell_type": "code",
   "execution_count": 60,
   "metadata": {},
   "outputs": [
    {
     "name": "stdout",
     "output_type": "stream",
     "text": [
      "    kepid planet?\n",
      "0  757076    none\n",
      "1  757099    none\n",
      "2  757137    none\n",
      "3  757280    none\n",
      "4  757450    conf\n"
     ]
    }
   ],
   "source": [
    "# enough noodling. let's read into pandas table\n",
    "kep_data = Table.read(path+'kepler_dr2_1arcsec.fits', format='fits')\n",
    "kep_data = kep_data.to_pandas()\n",
    "# decode byte literal column to string\n",
    "kep_data['planet?'] = kep_data['planet?'].str.decode(\"utf-8\")\n",
    "kep_data_thin = kep_data[['kepid','planet?']]\n",
    "print(kep_data_thin.head())"
   ]
  },
  {
   "cell_type": "code",
   "execution_count": 61,
   "metadata": {},
   "outputs": [
    {
     "name": "stdout",
     "output_type": "stream",
     "text": [
      "19969\n",
      "201312\n",
      "19995\n",
      "      KIC  iso_mass  iso_mass_err1  iso_mass_err2  iso_teff  iso_teff_err1  \\\n",
      "0  757280     1.715          0.086         -0.089    6856.8          144.4   \n",
      "1  892667     1.548          0.081         -0.087    6704.9          148.8   \n",
      "2  892678     1.584          0.071         -0.062    5890.4          121.6   \n",
      "3  892713     1.731          0.219         -0.087    6238.9          123.4   \n",
      "4  892828     1.398          0.071         -0.069    6464.3          137.7   \n",
      "\n",
      "   iso_teff_err2  iso_logg  iso_logg_err1  iso_logg_err2  ...  mass_err2  \\\n",
      "0         -139.9     3.834          0.033         -0.032  ...     -0.157   \n",
      "1         -128.8     3.950          0.034         -0.036  ...     -0.236   \n",
      "2         -114.9     3.574          0.030         -0.030  ...     -0.204   \n",
      "3         -129.8     3.548          0.066         -0.037  ...     -0.270   \n",
      "4         -128.9     4.034          0.032         -0.034  ...     -0.217   \n",
      "\n",
      "   prov_sec  nconfp  nkoi  ntce    jmag    hmag  kmag_y  planet?  \\\n",
      "0   b'DSEP'       0     0     0  10.852  10.662  10.627     none   \n",
      "1   b'DSEP'       0     0     1  12.088  11.856  11.818     none   \n",
      "2   b'DSEP'       0     0     0  10.946  10.646  10.580     none   \n",
      "3   b'DSEP'       0     0     0  10.853  10.588  10.508     none   \n",
      "4   b'DSEP'       0     0     0  12.168  11.961  11.883     none   \n",
      "\n",
      "   kepler_gaia_ang_dist  \n",
      "0              0.116420  \n",
      "1              0.166107  \n",
      "2              0.124651  \n",
      "3              0.103529  \n",
      "4              0.161792  \n",
      "\n",
      "[5 rows x 180 columns]\n"
     ]
    }
   ],
   "source": [
    "# join Bedell cross-match with Berger catalog\n",
    "crossmatch = pd.merge(catalog, kep_data, how='inner', left_on='KIC', right_on='kepid')\n",
    "print(len(catalog))\n",
    "print(len(kep_data))\n",
    "print(len(crossmatch))\n",
    "print(crossmatch.head())"
   ]
  },
  {
   "cell_type": "markdown",
   "metadata": {},
   "source": [
    "Let's try it with 20\" search radius"
   ]
  },
  {
   "cell_type": "code",
   "execution_count": 97,
   "metadata": {},
   "outputs": [
    {
     "name": "stdout",
     "output_type": "stream",
     "text": [
      "           solution_id                      designation            source_id  \\\n",
      "0  1635721458409799680  b'Gaia DR2 2050233807328471424'  2050233807328471424   \n",
      "1  1635721458409799680  b'Gaia DR2 2050233807328478592'  2050233807328478592   \n",
      "2  1635721458409799680  b'Gaia DR2 2050233807334975360'  2050233807334975360   \n",
      "3  1635721458409799680  b'Gaia DR2 2050233772971543424'  2050233772971543424   \n",
      "4  1635721458409799680  b'Gaia DR2 2050233601170050048'  2050233601170050048   \n",
      "\n",
      "   random_index  gaia_ref_epoch          ra  ra_error        dec  dec_error  \\\n",
      "0     689405501          2015.5  291.038681  0.035878  36.598031   0.047832   \n",
      "1    1206779337          2015.5  291.039570  1.695041  36.599736   2.169884   \n",
      "2    1356493136          2015.5  291.039085  0.144845  36.600585   0.169531   \n",
      "3     522568337          2015.5  291.035938  8.851472  36.595820  20.159809   \n",
      "4     658184587          2015.5  291.042819  1.921768  36.596640   3.215848   \n",
      "\n",
      "   parallax  ...  mass_err2  prov_sec  nconfp  nkoi  ntce    jmag   hmag  \\\n",
      "0  1.493916  ...     -0.475   b'DSEP'       0     0     0  10.126  9.667   \n",
      "1       NaN  ...     -0.475   b'DSEP'       0     0     0  10.126  9.667   \n",
      "2  0.165400  ...     -0.475   b'DSEP'       0     0     0  10.126  9.667   \n",
      "3       NaN  ...     -0.475   b'DSEP'       0     0     0  10.126  9.667   \n",
      "4       NaN  ...     -0.475   b'DSEP'       0     0     0  10.126  9.667   \n",
      "\n",
      "    kmag  planet?  kepler_gaia_ang_dist  \n",
      "0  9.559     none              0.156160  \n",
      "1  9.559     none              6.274248  \n",
      "2  9.559     none              8.968505  \n",
      "3  9.559     none             11.585397  \n",
      "4  9.559     none             12.975854  \n",
      "\n",
      "[5 rows x 134 columns]\n"
     ]
    }
   ],
   "source": [
    "# cross-matching from Megan Bedell's gaia-kepler.fun KIC objs, 20 arcsec search radius\n",
    "path = '/Users/chris/Desktop/sculpting/crossmatch_fun/'\n",
    "kep20_data = Table.read(path+'kepler_dr2_20arcsec.fits', format='fits')\n",
    "kep20_data = kep20_data.to_pandas()\n",
    "# decode byte literal column to string\n",
    "kep20_data['planet?'] = kep20_data['planet?'].str.decode(\"utf-8\")\n",
    "kep20_data_thin = kep20_data[['kepid','planet?']]\n",
    "print(kep20_data.head())"
   ]
  },
  {
   "cell_type": "code",
   "execution_count": 170,
   "metadata": {},
   "outputs": [
    {
     "name": "stdout",
     "output_type": "stream",
     "text": [
      "1274059\n"
     ]
    }
   ],
   "source": [
    "print(len(kep20_data))"
   ]
  },
  {
   "cell_type": "code",
   "execution_count": 8,
   "metadata": {},
   "outputs": [],
   "source": [
    "hdu4 = fits.open(path+'kepler_dr2_20arcsec.fits')\n",
    "data = hdu4[1].data\n",
    "header = hdu4[1].header\n",
    "columns = hdu4[1].columns\n",
    "hdu4.close()"
   ]
  },
  {
   "cell_type": "code",
   "execution_count": 11,
   "metadata": {},
   "outputs": [
    {
     "name": "stdout",
     "output_type": "stream",
     "text": [
      "134\n",
      "ColDefs(\n",
      "    name = 'solution_id'; format = 'K'; null = 999999\n",
      "    name = 'designation'; format = '28A'\n",
      "    name = 'source_id'; format = 'K'; null = 999999\n",
      "    name = 'random_index'; format = 'K'; null = 999999\n",
      "    name = 'gaia_ref_epoch'; format = 'D'\n",
      "    name = 'ra'; format = 'D'; unit = 'deg'\n",
      "    name = 'ra_error'; format = 'D'; unit = '10**-3 arcsec'\n",
      "    name = 'dec'; format = 'D'; unit = 'deg'\n",
      "    name = 'dec_error'; format = 'D'; unit = '10**-3 arcsec'\n",
      "    name = 'parallax'; format = 'D'; unit = '10**-3 arcsec'\n",
      "    name = 'parallax_error'; format = 'D'; unit = '10**-3 arcsec'\n",
      "    name = 'parallax_over_error'; format = 'E'\n",
      "    name = 'pmra'; format = 'D'; unit = '10**-3 arcsec yr-1'\n",
      "    name = 'pmra_error'; format = 'D'; unit = '10**-3 arcsec yr-1'\n",
      "    name = 'pmdec'; format = 'D'; unit = '10**-3 arcsec yr-1'\n",
      "    name = 'pmdec_error'; format = 'D'; unit = '10**-3 arcsec yr-1'\n",
      "    name = 'ra_dec_corr'; format = 'E'\n",
      "    name = 'ra_parallax_corr'; format = 'E'\n",
      "    name = 'ra_pmra_corr'; format = 'E'\n",
      "    name = 'ra_pmdec_corr'; format = 'E'\n",
      "    name = 'dec_parallax_corr'; format = 'E'\n",
      "    name = 'dec_pmra_corr'; format = 'E'\n",
      "    name = 'dec_pmdec_corr'; format = 'E'\n",
      "    name = 'parallax_pmra_corr'; format = 'E'\n",
      "    name = 'parallax_pmdec_corr'; format = 'E'\n",
      "    name = 'pmra_pmdec_corr'; format = 'E'\n",
      "    name = 'astrometric_n_obs_al'; format = 'J'; null = 999999\n",
      "    name = 'astrometric_n_obs_ac'; format = 'J'; null = 999999\n",
      "    name = 'astrometric_n_good_obs_al'; format = 'J'; null = 999999\n",
      "    name = 'astrometric_n_bad_obs_al'; format = 'J'; null = 999999\n",
      "    name = 'astrometric_gof_al'; format = 'E'\n",
      "    name = 'astrometric_chi2_al'; format = 'E'\n",
      "    name = 'astrometric_excess_noise'; format = 'D'; unit = 'mas'\n",
      "    name = 'astrometric_excess_noise_sig'; format = 'D'\n",
      "    name = 'astrometric_params_solved'; format = 'I'; null = 16959\n",
      "    name = 'astrometric_primary_flag'; format = 'L'\n",
      "    name = 'astrometric_weight_al'; format = 'E'; unit = 'mas-2'\n",
      "    name = 'astrometric_pseudo_colour'; format = 'D'; unit = 'um-1'\n",
      "    name = 'astrometric_pseudo_colour_error'; format = 'D'; unit = 'um-1'\n",
      "    name = 'mean_varpi_factor_al'; format = 'E'\n",
      "    name = 'astrometric_matched_observations'; format = 'I'; null = 16959\n",
      "    name = 'visibility_periods_used'; format = 'I'; null = 16959\n",
      "    name = 'astrometric_sigma5d_max'; format = 'E'; unit = 'mas'\n",
      "    name = 'frame_rotator_object_type'; format = 'J'; null = 999999\n",
      "    name = 'matched_observations'; format = 'I'; null = 16959\n",
      "    name = 'duplicated_source'; format = 'L'\n",
      "    name = 'phot_g_n_obs'; format = 'J'; null = 999999\n",
      "    name = 'phot_g_mean_flux'; format = 'D'; unit = 'ph s-1'\n",
      "    name = 'phot_g_mean_flux_error'; format = 'D'; unit = 'ph s-1'\n",
      "    name = 'phot_g_mean_flux_over_error'; format = 'E'\n",
      "    name = 'phot_g_mean_mag'; format = 'E'; unit = 'mag'\n",
      "    name = 'phot_bp_n_obs'; format = 'J'; null = 999999\n",
      "    name = 'phot_bp_mean_flux'; format = 'D'; unit = 'ph s-1'\n",
      "    name = 'phot_bp_mean_flux_error'; format = 'D'; unit = 'ph s-1'\n",
      "    name = 'phot_bp_mean_flux_over_error'; format = 'E'\n",
      "    name = 'phot_bp_mean_mag'; format = 'E'; unit = 'mag'\n",
      "    name = 'phot_rp_n_obs'; format = 'J'; null = 999999\n",
      "    name = 'phot_rp_mean_flux'; format = 'D'; unit = 'ph s-1'\n",
      "    name = 'phot_rp_mean_flux_error'; format = 'D'; unit = 'ph s-1'\n",
      "    name = 'phot_rp_mean_flux_over_error'; format = 'E'\n",
      "    name = 'phot_rp_mean_mag'; format = 'E'; unit = 'mag'\n",
      "    name = 'phot_bp_rp_excess_factor'; format = 'E'\n",
      "    name = 'phot_proc_mode'; format = 'I'; null = 16959\n",
      "    name = 'bp_rp'; format = 'E'; unit = 'mag'\n",
      "    name = 'bp_g'; format = 'E'; unit = 'mag'\n",
      "    name = 'g_rp'; format = 'E'; unit = 'mag'\n",
      "    name = 'radial_velocity'; format = 'D'; unit = 'km s-1'\n",
      "    name = 'radial_velocity_error'; format = 'D'; unit = 'km s-1'\n",
      "    name = 'rv_nb_transits'; format = 'J'; null = 999999\n",
      "    name = 'rv_template_teff'; format = 'E'; unit = 'K'\n",
      "    name = 'rv_template_logg'; format = 'E'\n",
      "    name = 'rv_template_fe_h'; format = 'E'\n",
      "    name = 'phot_variable_flag'; format = '13A'\n",
      "    name = 'l'; format = 'D'; unit = 'deg'\n",
      "    name = 'b'; format = 'D'; unit = 'deg'\n",
      "    name = 'ecl_lon'; format = 'D'; unit = 'deg'\n",
      "    name = 'ecl_lat'; format = 'D'; unit = 'deg'\n",
      "    name = 'priam_flags'; format = 'K'; null = 999999\n",
      "    name = 'teff_val'; format = 'E'; unit = 'K'\n",
      "    name = 'teff_percentile_lower'; format = 'E'; unit = 'K'\n",
      "    name = 'teff_percentile_upper'; format = 'E'; unit = 'K'\n",
      "    name = 'a_g_val'; format = 'E'; unit = 'mag'\n",
      "    name = 'a_g_percentile_lower'; format = 'E'; unit = 'mag'\n",
      "    name = 'a_g_percentile_upper'; format = 'E'; unit = 'mag'\n",
      "    name = 'e_bp_min_rp_val'; format = 'E'; unit = 'mag'\n",
      "    name = 'e_bp_min_rp_percentile_lower'; format = 'E'; unit = 'mag'\n",
      "    name = 'e_bp_min_rp_percentile_upper'; format = 'E'; unit = 'mag'\n",
      "    name = 'flame_flags'; format = 'K'; null = 999999\n",
      "    name = 'radius_val'; format = 'E'; unit = 'solRad'\n",
      "    name = 'radius_percentile_lower'; format = 'E'; unit = 'solRad'\n",
      "    name = 'radius_percentile_upper'; format = 'E'; unit = 'solRad'\n",
      "    name = 'lum_val'; format = 'E'; unit = 'solLum'\n",
      "    name = 'lum_percentile_lower'; format = 'E'; unit = 'solLum'\n",
      "    name = 'lum_percentile_upper'; format = 'E'; unit = 'solLum'\n",
      "    name = 'datalink_url'; format = '77A'\n",
      "    name = 'epoch_photometry_url'; format = '99A'\n",
      "    name = 'kepid'; format = 'K'; null = 999999\n",
      "    name = 'ra_kic'; format = 'D'; unit = 'deg'\n",
      "    name = 'dec_kic'; format = 'D'; unit = 'deg'\n",
      "    name = 'r_est'; format = 'D'; unit = 'pc'\n",
      "    name = 'r_lo'; format = 'D'; unit = 'pc'\n",
      "    name = 'r_hi'; format = 'D'; unit = 'pc'\n",
      "    name = 'r_length_prior'; format = 'D'; unit = 'pc'\n",
      "    name = 'r_result_flag'; format = 'I'; null = 16959\n",
      "    name = 'r_modality_flag'; format = 'I'; null = 16959\n",
      "    name = 'tm_designation'; format = '25A'\n",
      "    name = 'kepmag'; format = 'D'\n",
      "    name = 'teff'; format = 'K'; unit = 'K'; null = 999999\n",
      "    name = 'teff_err1'; format = 'K'; unit = 'K'; null = 999999\n",
      "    name = 'teff_err2'; format = 'K'; unit = 'K'; null = 999999\n",
      "    name = 'teff_prov'; format = '5A'\n",
      "    name = 'logg'; format = 'D'\n",
      "    name = 'logg_err1'; format = 'D'\n",
      "    name = 'logg_err2'; format = 'D'\n",
      "    name = 'logg_prov'; format = '5A'\n",
      "    name = 'feh'; format = 'D'\n",
      "    name = 'feh_err1'; format = 'D'\n",
      "    name = 'feh_err2'; format = 'D'\n",
      "    name = 'feh_prov'; format = '5A'\n",
      "    name = 'radius'; format = 'D'; unit = 'solRad'\n",
      "    name = 'radius_err1'; format = 'D'; unit = 'solRad'\n",
      "    name = 'radius_err2'; format = 'D'; unit = 'solRad'\n",
      "    name = 'mass'; format = 'D'; unit = 'solMass'\n",
      "    name = 'mass_err1'; format = 'D'; unit = 'solMass'\n",
      "    name = 'mass_err2'; format = 'D'; unit = 'solMass'\n",
      "    name = 'prov_sec'; format = '6A'\n",
      "    name = 'nconfp'; format = 'K'; null = 999999\n",
      "    name = 'nkoi'; format = 'K'; null = 999999\n",
      "    name = 'ntce'; format = 'K'; null = 999999\n",
      "    name = 'jmag'; format = 'D'; unit = 'mag'\n",
      "    name = 'hmag'; format = 'D'; unit = 'mag'\n",
      "    name = 'kmag'; format = 'D'; unit = 'mag'\n",
      "    name = 'planet?'; format = '4A'\n",
      "    name = 'kepler_gaia_ang_dist'; format = 'D'; unit = 'arcsec'\n",
      ")\n"
     ]
    }
   ],
   "source": [
    "print(len(columns))\n",
    "print(columns)"
   ]
  },
  {
   "cell_type": "code",
   "execution_count": 89,
   "metadata": {},
   "outputs": [
    {
     "name": "stdout",
     "output_type": "stream",
     "text": [
      "(1635721458409799680, 'Gaia DR2 2050233807328471424', 2050233807328471424, 689405501, 2015.5, 291.03868130517526, 0.03587841951696976, 36.59803050177959, 0.04783193100319975, 1.4939158842221332, 0.04832756321407145, 30.912294, -4.960813153860173, 0.07927500542638122, -13.68268408787783, 0.08135066853388584, -0.035100333, 0.021850584, -0.03170967, -0.33841524, 0.5000767, -0.4209503, -0.23012185, -0.22412002, -0.15750915, -0.044099208, 105, 105, 100, 5, 2.0918074, 126.04239, 0.0, 0.0, 31, True, 611.1396, 1.5567976316779424, 0.011957889387888977, -0.27091637, 12, 10, 0.05254074, 0, 12, True, 93, 429068.4313471665, 130.7086417277348, 3282.6326, 11.607049, 12, 196805.46926130765, 360.63177916615274, 545.7241, 12.116295, 12, 329938.42846827576, 372.9979353685019, 884.55835, 10.9658375, 1.2276454, 0, 1.1504574, 0.5092459, 0.6412115, -16.281547099993276, 0.637275923583524, 6, 5000.0, 3.0, 0.0, 'NOT_AVAILABLE', 69.18255203341805, 9.799582973400991, 302.6196112374861, 57.67861553804456, 100001, 4927.0034, 4823.0, 5027.3364, nan, nan, nan, nan, nan, nan, 200111, 4.0068164, 3.8484802, 4.1814857, 8.523638, 8.141349, 8.905927, 'http://geadata.esac.esa.int/data-server/datalink/links?ID=2050233807328471424', '', 757076, 291.03873, 36.598129, 657.66389210873, 637.236310606064, 679.419306153879, 1464.73707278111, 1, 1, '2MASS J19240929+3635532', 11.678, 5160, 171, -156, 'PHO1', 3.58, 0.928, -0.232, 'KIC0', -0.1, 0.3, -0.3, 'KIC0', 3.128, 0.987, -2.304, 1.357, 0.204, -0.475, 'DSEP', 0, 0, 0, 10.126, 9.667, 9.559, 'none', 0.15616014755659263)\n",
      "(1635721458409799680, 'Gaia DR2 2050233807328478592', 2050233807328478592, 1206779337, 2015.5, 291.03957031961227, 1.6950414027893308, 36.59973598024331, 2.169884266357511, nan, nan, nan, nan, nan, nan, nan, -0.48144048, nan, nan, nan, nan, nan, nan, nan, nan, nan, 122, 0, 120, 2, 24.207232, 1008.51263, 10.359673215761454, 54.75760963788577, 3, False, 0.007691877, nan, nan, -0.08891904, 15, 8, 4.4766665, 0, 17, True, 131, 190.27701464297897, 3.1121466687651873, 61.140118, 19.9899, 10, 169.427159889631, 9.98057950248805, 16.975683, 19.77893, 10, 322.6159483753306, 68.87610921869087, 4.684004, 18.490206, 2.5859303, 0, 1.2887249, -0.21096992, 1.4996948, nan, nan, 0, nan, nan, nan, 'NOT_AVAILABLE', 69.18442383388766, 9.799709160162866, 302.62174965816286, 57.68006842411197, -9223372036854775808, nan, nan, nan, nan, nan, nan, nan, nan, nan, -9223372036854775808, nan, nan, nan, nan, nan, nan, 'http://geadata.esac.esa.int/data-server/datalink/links?ID=2050233807328478592', '', 757076, 291.03873, 36.598129, nan, nan, nan, nan, 16959, 16959, '2MASS J19240929+3635532', 11.678, 5160, 171, -156, 'PHO1', 3.58, 0.928, -0.232, 'KIC0', -0.1, 0.3, -0.3, 'KIC0', 3.128, 0.987, -2.304, 1.357, 0.204, -0.475, 'DSEP', 0, 0, 0, 10.126, 9.667, 9.559, 'none', 6.274248154254766)\n"
     ]
    }
   ],
   "source": [
    "print(data[0])\n",
    "print(data[1])"
   ]
  },
  {
   "cell_type": "code",
   "execution_count": 98,
   "metadata": {
    "scrolled": true
   },
   "outputs": [
    {
     "name": "stdout",
     "output_type": "stream",
     "text": [
      "112397\n",
      "1274059\n",
      "717943\n",
      "      KIC  iso_mass  iso_mass_err1  iso_mass_err2  iso_teff  iso_teff_err1  \\\n",
      "0  757280     1.715          0.086         -0.089    6856.8          144.4   \n",
      "1  757280     1.715          0.086         -0.089    6856.8          144.4   \n",
      "2  757280     1.715          0.086         -0.089    6856.8          144.4   \n",
      "3  757280     1.715          0.086         -0.089    6856.8          144.4   \n",
      "4  757280     1.715          0.086         -0.089    6856.8          144.4   \n",
      "\n",
      "   iso_teff_err2  iso_logg  iso_logg_err1  iso_logg_err2  ...  feh  feh_err  \\\n",
      "0         -139.9     3.834          0.033         -0.032  ...  NaN      NaN   \n",
      "1         -139.9     3.834          0.033         -0.032  ...  NaN      NaN   \n",
      "2         -139.9     3.834          0.033         -0.032  ...  NaN      NaN   \n",
      "3         -139.9     3.834          0.033         -0.032  ...  NaN      NaN   \n",
      "4         -139.9     3.834          0.033         -0.032  ...  NaN      NaN   \n",
      "\n",
      "     RUWE  num_gaia_companions  Kmag_final_prov  evstate      logR  is_giant  \\\n",
      "0  0.8704                    0              NaN      NaN  0.416641     False   \n",
      "1  0.8704                    0              NaN      NaN  0.416641     False   \n",
      "2  0.8704                    0              NaN      NaN  0.416641     False   \n",
      "3  0.8704                    0              NaN      NaN  0.416641     False   \n",
      "4  0.8704                    0              NaN      NaN  0.416641     False   \n",
      "\n",
      "    kepid  planet?  \n",
      "0  757280     none  \n",
      "1  757280     none  \n",
      "2  757280     none  \n",
      "3  757280     none  \n",
      "4  757280     none  \n",
      "\n",
      "[5 rows x 48 columns]\n"
     ]
    }
   ],
   "source": [
    "crossmatch20 = pd.merge(catalog, kep20_data_thin, how='inner', left_on='KIC', right_on='kepid')\n",
    "print(len(catalog))\n",
    "print(len(kep20_data_thin))\n",
    "print(len(crossmatch20))\n",
    "print(crossmatch20.head())"
   ]
  },
  {
   "cell_type": "markdown",
   "metadata": {},
   "source": [
    "What's the diff between 20\" and 1\" Kepler data? I only care about whether a given Kepler ID star has planets or not. As long as 20\" has no planet-presence degeneracies per Kepler ID, I should be able to use the 1\" data, right? Wrong."
   ]
  },
  {
   "cell_type": "code",
   "execution_count": 134,
   "metadata": {},
   "outputs": [
    {
     "name": "stdout",
     "output_type": "stream",
     "text": [
      "201312\n",
      "197775\n",
      "    kepid  planet?  count\n",
      "0  757076  b'none'      1\n",
      "1  757099  b'none'      1\n",
      "2  757137  b'none'      1\n",
      "3  757280  b'none'      1\n",
      "4  757450  b'conf'      1\n"
     ]
    }
   ],
   "source": [
    "# for 1\" data, group by to remove duplicates; ignore count column, that's just so I have a dataframe rather than a dataframegroupby object\n",
    "group1 = kep_data_thin.groupby(by=['kepid','planet?']).size().to_frame(name = 'count').reset_index()\n",
    "print(len(kep_data_thin))\n",
    "print(len(group1))\n",
    "print(group1.head())"
   ]
  },
  {
   "cell_type": "code",
   "execution_count": 130,
   "metadata": {
    "scrolled": true
   },
   "outputs": [
    {
     "name": "stdout",
     "output_type": "stream",
     "text": [
      "0\n",
      "Empty DataFrame\n",
      "Columns: [kepid, planet?, count, dupe?]\n",
      "Index: []\n"
     ]
    }
   ],
   "source": [
    "# then see if any kepids have more than one answer for 'planet?'; if so, which ones and how many?\n",
    "group1['dupe?'] = group1.duplicated(subset=['kepid'])\n",
    "group1_discrep = group1.loc[group1['dupe?']==True]\n",
    "print(len(group1_discrep))\n",
    "print(group1_discrep.head())"
   ]
  },
  {
   "cell_type": "code",
   "execution_count": 131,
   "metadata": {},
   "outputs": [
    {
     "name": "stdout",
     "output_type": "stream",
     "text": [
      "1274059\n",
      "199962\n",
      "    kepid  planet?  count\n",
      "0  757076  b'none'      9\n",
      "1  757099  b'none'      4\n",
      "2  757137  b'none'      7\n",
      "3  757280  b'none'      9\n",
      "4  757450  b'conf'     12\n"
     ]
    }
   ],
   "source": [
    "# repeat for 20\"\n",
    "group20 = kep20_data_thin.groupby(by=['kepid','planet?']).size().to_frame(name = 'count').reset_index()\n",
    "print(len(kep20_data_thin))\n",
    "print(len(group20))\n",
    "print(group20.head())"
   ]
  },
  {
   "cell_type": "code",
   "execution_count": 133,
   "metadata": {},
   "outputs": [
    {
     "name": "stdout",
     "output_type": "stream",
     "text": [
      "0\n",
      "Empty DataFrame\n",
      "Columns: [kepid, planet?, count, dupe?]\n",
      "Index: []\n"
     ]
    }
   ],
   "source": [
    "# then see if any kepids have more than one answer for 'planet?'; if so, which ones and how many?\n",
    "group20['dupe?'] = group20.duplicated(subset=['kepid'])\n",
    "group20_discrep = group20.loc[group20['dupe?']==True]\n",
    "print(len(group20_discrep))\n",
    "print(group20_discrep.head())"
   ]
  },
  {
   "cell_type": "code",
   "execution_count": 202,
   "metadata": {
    "scrolled": true
   },
   "outputs": [
    {
     "name": "stdout",
     "output_type": "stream",
     "text": [
      "197775\n",
      "199962\n"
     ]
    }
   ],
   "source": [
    "print(len(group1.kepid.unique()))\n",
    "print(len(group20.kepid.unique()))"
   ]
  },
  {
   "cell_type": "markdown",
   "metadata": {},
   "source": [
    "Checks out! No matter the search radius, Kepler IDs are guaranteed to have one to one correspondence with the 'planet?' field. But since there are more unique Kepler IDs in the 20\", that's what we'll go with. Also, we double-check that this is the case not only with planet occurrence, but also Teff, mass, radius, etc."
   ]
  },
  {
   "cell_type": "code",
   "execution_count": 15,
   "metadata": {},
   "outputs": [
    {
     "name": "stdout",
     "output_type": "stream",
     "text": [
      "0\n",
      "Empty DataFrame\n",
      "Columns: [kepid, planet?, teff, mass, radius, feh, logg, source_id, count, dupe?]\n",
      "Index: []\n"
     ]
    }
   ],
   "source": [
    "# final duplicate test\n",
    "test1 = kep20_data.groupby(by=['kepid','planet?','teff', 'mass', 'radius', 'feh', 'logg', 'source_id']).size().to_frame(name = 'count').reset_index()\n",
    "test1['dupe?'] = test1.duplicated(subset=['kepid','planet?','teff', 'mass', 'radius', 'feh', 'logg', 'source_id'])\n",
    "test1_discrep = test1.loc[test1['dupe?']==True]\n",
    "print(len(test1_discrep))\n",
    "print(test1_discrep.head())"
   ]
  },
  {
   "cell_type": "markdown",
   "metadata": {},
   "source": [
    "More noodling below re: 1\" vs 20\" data given the same Kepler ID"
   ]
  },
  {
   "cell_type": "code",
   "execution_count": 93,
   "metadata": {},
   "outputs": [
    {
     "data": {
      "text/html": [
       "<div>\n",
       "<style scoped>\n",
       "    .dataframe tbody tr th:only-of-type {\n",
       "        vertical-align: middle;\n",
       "    }\n",
       "\n",
       "    .dataframe tbody tr th {\n",
       "        vertical-align: top;\n",
       "    }\n",
       "\n",
       "    .dataframe thead th {\n",
       "        text-align: right;\n",
       "    }\n",
       "</style>\n",
       "<table border=\"1\" class=\"dataframe\">\n",
       "  <thead>\n",
       "    <tr style=\"text-align: right;\">\n",
       "      <th></th>\n",
       "      <th>KIC</th>\n",
       "      <th>iso_mass</th>\n",
       "      <th>iso_mass_err1</th>\n",
       "      <th>iso_mass_err2</th>\n",
       "      <th>iso_teff</th>\n",
       "      <th>iso_teff_err1</th>\n",
       "      <th>iso_teff_err2</th>\n",
       "      <th>iso_logg</th>\n",
       "      <th>iso_logg_err1</th>\n",
       "      <th>iso_logg_err2</th>\n",
       "      <th>...</th>\n",
       "      <th>parallax</th>\n",
       "      <th>parallax_err</th>\n",
       "      <th>feh</th>\n",
       "      <th>feh_err</th>\n",
       "      <th>RUWE</th>\n",
       "      <th>num_gaia_companions</th>\n",
       "      <th>Kmag_final_prov</th>\n",
       "      <th>evstate</th>\n",
       "      <th>logR</th>\n",
       "      <th>is_giant</th>\n",
       "    </tr>\n",
       "  </thead>\n",
       "  <tbody>\n",
       "    <tr>\n",
       "      <th>2</th>\n",
       "      <td>757280</td>\n",
       "      <td>1.715</td>\n",
       "      <td>0.086</td>\n",
       "      <td>-0.089</td>\n",
       "      <td>6856.8</td>\n",
       "      <td>144.4</td>\n",
       "      <td>-139.9</td>\n",
       "      <td>3.834</td>\n",
       "      <td>0.033</td>\n",
       "      <td>-0.032</td>\n",
       "      <td>...</td>\n",
       "      <td>1.2137</td>\n",
       "      <td>0.022</td>\n",
       "      <td>NaN</td>\n",
       "      <td>NaN</td>\n",
       "      <td>0.8704</td>\n",
       "      <td>0</td>\n",
       "      <td>NaN</td>\n",
       "      <td>NaN</td>\n",
       "      <td>0.416641</td>\n",
       "      <td>False</td>\n",
       "    </tr>\n",
       "  </tbody>\n",
       "</table>\n",
       "<p>1 rows × 46 columns</p>\n",
       "</div>"
      ],
      "text/plain": [
       "      KIC  iso_mass  iso_mass_err1  iso_mass_err2  iso_teff  iso_teff_err1  \\\n",
       "2  757280     1.715          0.086         -0.089    6856.8          144.4   \n",
       "\n",
       "   iso_teff_err2  iso_logg  iso_logg_err1  iso_logg_err2  ...  parallax  \\\n",
       "2         -139.9     3.834          0.033         -0.032  ...    1.2137   \n",
       "\n",
       "   parallax_err  feh  feh_err    RUWE  num_gaia_companions  Kmag_final_prov  \\\n",
       "2         0.022  NaN      NaN  0.8704                    0              NaN   \n",
       "\n",
       "   evstate      logR  is_giant  \n",
       "2      NaN  0.416641     False  \n",
       "\n",
       "[1 rows x 46 columns]"
      ]
     },
     "execution_count": 93,
     "metadata": {},
     "output_type": "execute_result"
    }
   ],
   "source": [
    "catalog.loc[catalog.KIC==757280]"
   ]
  },
  {
   "cell_type": "code",
   "execution_count": 101,
   "metadata": {},
   "outputs": [
    {
     "data": {
      "text/html": [
       "<div>\n",
       "<style scoped>\n",
       "    .dataframe tbody tr th:only-of-type {\n",
       "        vertical-align: middle;\n",
       "    }\n",
       "\n",
       "    .dataframe tbody tr th {\n",
       "        vertical-align: top;\n",
       "    }\n",
       "\n",
       "    .dataframe thead th {\n",
       "        text-align: right;\n",
       "    }\n",
       "</style>\n",
       "<table border=\"1\" class=\"dataframe\">\n",
       "  <thead>\n",
       "    <tr style=\"text-align: right;\">\n",
       "      <th></th>\n",
       "      <th>solution_id</th>\n",
       "      <th>designation</th>\n",
       "      <th>source_id</th>\n",
       "      <th>random_index</th>\n",
       "      <th>gaia_ref_epoch</th>\n",
       "      <th>ra</th>\n",
       "      <th>ra_error</th>\n",
       "      <th>dec</th>\n",
       "      <th>dec_error</th>\n",
       "      <th>parallax</th>\n",
       "      <th>...</th>\n",
       "      <th>mass_err2</th>\n",
       "      <th>prov_sec</th>\n",
       "      <th>nconfp</th>\n",
       "      <th>nkoi</th>\n",
       "      <th>ntce</th>\n",
       "      <th>jmag</th>\n",
       "      <th>hmag</th>\n",
       "      <th>kmag</th>\n",
       "      <th>planet?</th>\n",
       "      <th>kepler_gaia_ang_dist</th>\n",
       "    </tr>\n",
       "  </thead>\n",
       "  <tbody>\n",
       "    <tr>\n",
       "      <th>3</th>\n",
       "      <td>1635721458409799680</td>\n",
       "      <td>b'Gaia DR2 2050230611879323904'</td>\n",
       "      <td>2050230611879323904</td>\n",
       "      <td>1253666653</td>\n",
       "      <td>2015.5</td>\n",
       "      <td>291.095373</td>\n",
       "      <td>0.016886</td>\n",
       "      <td>36.564903</td>\n",
       "      <td>0.022993</td>\n",
       "      <td>1.183652</td>\n",
       "      <td>...</td>\n",
       "      <td>-0.157</td>\n",
       "      <td>b'DSEP'</td>\n",
       "      <td>0</td>\n",
       "      <td>0</td>\n",
       "      <td>0</td>\n",
       "      <td>10.852</td>\n",
       "      <td>10.662</td>\n",
       "      <td>10.627</td>\n",
       "      <td>b'none'</td>\n",
       "      <td>0.11642</td>\n",
       "    </tr>\n",
       "  </tbody>\n",
       "</table>\n",
       "<p>1 rows × 134 columns</p>\n",
       "</div>"
      ],
      "text/plain": [
       "           solution_id                      designation            source_id  \\\n",
       "3  1635721458409799680  b'Gaia DR2 2050230611879323904'  2050230611879323904   \n",
       "\n",
       "   random_index  gaia_ref_epoch          ra  ra_error        dec  dec_error  \\\n",
       "3    1253666653          2015.5  291.095373  0.016886  36.564903   0.022993   \n",
       "\n",
       "   parallax  ...  mass_err2  prov_sec  nconfp  nkoi  ntce    jmag    hmag  \\\n",
       "3  1.183652  ...     -0.157   b'DSEP'       0     0     0  10.852  10.662   \n",
       "\n",
       "     kmag  planet?  kepler_gaia_ang_dist  \n",
       "3  10.627  b'none'               0.11642  \n",
       "\n",
       "[1 rows x 134 columns]"
      ]
     },
     "execution_count": 101,
     "metadata": {},
     "output_type": "execute_result"
    }
   ],
   "source": [
    "kep_data.loc[kep_data.kepid==757280]"
   ]
  },
  {
   "cell_type": "code",
   "execution_count": 98,
   "metadata": {
    "scrolled": false
   },
   "outputs": [
    {
     "data": {
      "text/html": [
       "<div>\n",
       "<style scoped>\n",
       "    .dataframe tbody tr th:only-of-type {\n",
       "        vertical-align: middle;\n",
       "    }\n",
       "\n",
       "    .dataframe tbody tr th {\n",
       "        vertical-align: top;\n",
       "    }\n",
       "\n",
       "    .dataframe thead th {\n",
       "        text-align: right;\n",
       "    }\n",
       "</style>\n",
       "<table border=\"1\" class=\"dataframe\">\n",
       "  <thead>\n",
       "    <tr style=\"text-align: right;\">\n",
       "      <th></th>\n",
       "      <th>solution_id</th>\n",
       "      <th>designation</th>\n",
       "      <th>source_id</th>\n",
       "      <th>random_index</th>\n",
       "      <th>gaia_ref_epoch</th>\n",
       "      <th>ra</th>\n",
       "      <th>ra_error</th>\n",
       "      <th>dec</th>\n",
       "      <th>dec_error</th>\n",
       "      <th>parallax</th>\n",
       "      <th>...</th>\n",
       "      <th>mass_err2</th>\n",
       "      <th>prov_sec</th>\n",
       "      <th>nconfp</th>\n",
       "      <th>nkoi</th>\n",
       "      <th>ntce</th>\n",
       "      <th>jmag</th>\n",
       "      <th>hmag</th>\n",
       "      <th>kmag</th>\n",
       "      <th>planet?</th>\n",
       "      <th>kepler_gaia_ang_dist</th>\n",
       "    </tr>\n",
       "  </thead>\n",
       "  <tbody>\n",
       "    <tr>\n",
       "      <th>20</th>\n",
       "      <td>1635721458409799680</td>\n",
       "      <td>b'Gaia DR2 2050230611879323904'</td>\n",
       "      <td>2050230611879323904</td>\n",
       "      <td>1253666653</td>\n",
       "      <td>2015.5</td>\n",
       "      <td>291.095373</td>\n",
       "      <td>0.016886</td>\n",
       "      <td>36.564903</td>\n",
       "      <td>0.022993</td>\n",
       "      <td>1.183652</td>\n",
       "      <td>...</td>\n",
       "      <td>-0.157</td>\n",
       "      <td>b'DSEP'</td>\n",
       "      <td>0</td>\n",
       "      <td>0</td>\n",
       "      <td>0</td>\n",
       "      <td>10.852</td>\n",
       "      <td>10.662</td>\n",
       "      <td>10.627</td>\n",
       "      <td>b'none'</td>\n",
       "      <td>0.116420</td>\n",
       "    </tr>\n",
       "    <tr>\n",
       "      <th>21</th>\n",
       "      <td>1635721458409799680</td>\n",
       "      <td>b'Gaia DR2 2050230611874998528'</td>\n",
       "      <td>2050230611874998528</td>\n",
       "      <td>85105427</td>\n",
       "      <td>2015.5</td>\n",
       "      <td>291.093190</td>\n",
       "      <td>0.346382</td>\n",
       "      <td>36.567752</td>\n",
       "      <td>0.401893</td>\n",
       "      <td>1.010494</td>\n",
       "      <td>...</td>\n",
       "      <td>-0.157</td>\n",
       "      <td>b'DSEP'</td>\n",
       "      <td>0</td>\n",
       "      <td>0</td>\n",
       "      <td>0</td>\n",
       "      <td>10.852</td>\n",
       "      <td>10.662</td>\n",
       "      <td>10.627</td>\n",
       "      <td>b'none'</td>\n",
       "      <td>12.021851</td>\n",
       "    </tr>\n",
       "    <tr>\n",
       "      <th>22</th>\n",
       "      <td>1635721458409799680</td>\n",
       "      <td>b'Gaia DR2 2050230504496061312'</td>\n",
       "      <td>2050230504496061312</td>\n",
       "      <td>1008265920</td>\n",
       "      <td>2015.5</td>\n",
       "      <td>291.091180</td>\n",
       "      <td>0.174134</td>\n",
       "      <td>36.564045</td>\n",
       "      <td>0.208500</td>\n",
       "      <td>0.428608</td>\n",
       "      <td>...</td>\n",
       "      <td>-0.157</td>\n",
       "      <td>b'DSEP'</td>\n",
       "      <td>0</td>\n",
       "      <td>0</td>\n",
       "      <td>0</td>\n",
       "      <td>10.852</td>\n",
       "      <td>10.662</td>\n",
       "      <td>10.627</td>\n",
       "      <td>b'none'</td>\n",
       "      <td>12.623216</td>\n",
       "    </tr>\n",
       "    <tr>\n",
       "      <th>23</th>\n",
       "      <td>1635721458409799680</td>\n",
       "      <td>b'Gaia DR2 2050230405720896128'</td>\n",
       "      <td>2050230405720896128</td>\n",
       "      <td>1074470470</td>\n",
       "      <td>2015.5</td>\n",
       "      <td>291.099735</td>\n",
       "      <td>0.349447</td>\n",
       "      <td>36.564556</td>\n",
       "      <td>0.578099</td>\n",
       "      <td>0.510245</td>\n",
       "      <td>...</td>\n",
       "      <td>-0.157</td>\n",
       "      <td>b'DSEP'</td>\n",
       "      <td>0</td>\n",
       "      <td>0</td>\n",
       "      <td>0</td>\n",
       "      <td>10.852</td>\n",
       "      <td>10.662</td>\n",
       "      <td>10.627</td>\n",
       "      <td>b'none'</td>\n",
       "      <td>12.675831</td>\n",
       "    </tr>\n",
       "    <tr>\n",
       "      <th>24</th>\n",
       "      <td>1635721458409799680</td>\n",
       "      <td>b'Gaia DR2 2050230405714459136'</td>\n",
       "      <td>2050230405714459136</td>\n",
       "      <td>491313723</td>\n",
       "      <td>2015.5</td>\n",
       "      <td>291.101484</td>\n",
       "      <td>0.363924</td>\n",
       "      <td>36.563571</td>\n",
       "      <td>0.438461</td>\n",
       "      <td>0.361719</td>\n",
       "      <td>...</td>\n",
       "      <td>-0.157</td>\n",
       "      <td>b'DSEP'</td>\n",
       "      <td>0</td>\n",
       "      <td>0</td>\n",
       "      <td>0</td>\n",
       "      <td>10.852</td>\n",
       "      <td>10.662</td>\n",
       "      <td>10.627</td>\n",
       "      <td>b'none'</td>\n",
       "      <td>18.263271</td>\n",
       "    </tr>\n",
       "    <tr>\n",
       "      <th>25</th>\n",
       "      <td>1635721458409799680</td>\n",
       "      <td>b'Gaia DR2 2050230611879328000'</td>\n",
       "      <td>2050230611879328000</td>\n",
       "      <td>873396955</td>\n",
       "      <td>2015.5</td>\n",
       "      <td>291.097767</td>\n",
       "      <td>0.357488</td>\n",
       "      <td>36.569619</td>\n",
       "      <td>0.393498</td>\n",
       "      <td>0.410948</td>\n",
       "      <td>...</td>\n",
       "      <td>-0.157</td>\n",
       "      <td>b'DSEP'</td>\n",
       "      <td>0</td>\n",
       "      <td>0</td>\n",
       "      <td>0</td>\n",
       "      <td>10.852</td>\n",
       "      <td>10.662</td>\n",
       "      <td>10.627</td>\n",
       "      <td>b'none'</td>\n",
       "      <td>18.284805</td>\n",
       "    </tr>\n",
       "    <tr>\n",
       "      <th>26</th>\n",
       "      <td>1635721458409799680</td>\n",
       "      <td>b'Gaia DR2 2050230401416841984'</td>\n",
       "      <td>2050230401416841984</td>\n",
       "      <td>416805470</td>\n",
       "      <td>2015.5</td>\n",
       "      <td>291.101209</td>\n",
       "      <td>0.396481</td>\n",
       "      <td>36.566974</td>\n",
       "      <td>0.549698</td>\n",
       "      <td>-0.152930</td>\n",
       "      <td>...</td>\n",
       "      <td>-0.157</td>\n",
       "      <td>b'DSEP'</td>\n",
       "      <td>0</td>\n",
       "      <td>0</td>\n",
       "      <td>0</td>\n",
       "      <td>10.852</td>\n",
       "      <td>10.662</td>\n",
       "      <td>10.627</td>\n",
       "      <td>b'none'</td>\n",
       "      <td>18.298952</td>\n",
       "    </tr>\n",
       "    <tr>\n",
       "      <th>27</th>\n",
       "      <td>1635721458409799680</td>\n",
       "      <td>b'Gaia DR2 2050230302641675520'</td>\n",
       "      <td>2050230302641675520</td>\n",
       "      <td>160119417</td>\n",
       "      <td>2015.5</td>\n",
       "      <td>291.096068</td>\n",
       "      <td>0.367204</td>\n",
       "      <td>36.559636</td>\n",
       "      <td>0.407929</td>\n",
       "      <td>0.047262</td>\n",
       "      <td>...</td>\n",
       "      <td>-0.157</td>\n",
       "      <td>b'DSEP'</td>\n",
       "      <td>0</td>\n",
       "      <td>0</td>\n",
       "      <td>0</td>\n",
       "      <td>10.852</td>\n",
       "      <td>10.662</td>\n",
       "      <td>10.627</td>\n",
       "      <td>b'none'</td>\n",
       "      <td>19.174344</td>\n",
       "    </tr>\n",
       "    <tr>\n",
       "      <th>28</th>\n",
       "      <td>1635721458409799680</td>\n",
       "      <td>b'Gaia DR2 2050230611874999168'</td>\n",
       "      <td>2050230611874999168</td>\n",
       "      <td>301323689</td>\n",
       "      <td>2015.5</td>\n",
       "      <td>291.091381</td>\n",
       "      <td>0.764334</td>\n",
       "      <td>36.569174</td>\n",
       "      <td>0.793404</td>\n",
       "      <td>2.155078</td>\n",
       "      <td>...</td>\n",
       "      <td>-0.157</td>\n",
       "      <td>b'DSEP'</td>\n",
       "      <td>0</td>\n",
       "      <td>0</td>\n",
       "      <td>0</td>\n",
       "      <td>10.852</td>\n",
       "      <td>10.662</td>\n",
       "      <td>10.627</td>\n",
       "      <td>b'none'</td>\n",
       "      <td>19.221718</td>\n",
       "    </tr>\n",
       "  </tbody>\n",
       "</table>\n",
       "<p>9 rows × 134 columns</p>\n",
       "</div>"
      ],
      "text/plain": [
       "            solution_id                      designation            source_id  \\\n",
       "20  1635721458409799680  b'Gaia DR2 2050230611879323904'  2050230611879323904   \n",
       "21  1635721458409799680  b'Gaia DR2 2050230611874998528'  2050230611874998528   \n",
       "22  1635721458409799680  b'Gaia DR2 2050230504496061312'  2050230504496061312   \n",
       "23  1635721458409799680  b'Gaia DR2 2050230405720896128'  2050230405720896128   \n",
       "24  1635721458409799680  b'Gaia DR2 2050230405714459136'  2050230405714459136   \n",
       "25  1635721458409799680  b'Gaia DR2 2050230611879328000'  2050230611879328000   \n",
       "26  1635721458409799680  b'Gaia DR2 2050230401416841984'  2050230401416841984   \n",
       "27  1635721458409799680  b'Gaia DR2 2050230302641675520'  2050230302641675520   \n",
       "28  1635721458409799680  b'Gaia DR2 2050230611874999168'  2050230611874999168   \n",
       "\n",
       "    random_index  gaia_ref_epoch          ra  ra_error        dec  dec_error  \\\n",
       "20    1253666653          2015.5  291.095373  0.016886  36.564903   0.022993   \n",
       "21      85105427          2015.5  291.093190  0.346382  36.567752   0.401893   \n",
       "22    1008265920          2015.5  291.091180  0.174134  36.564045   0.208500   \n",
       "23    1074470470          2015.5  291.099735  0.349447  36.564556   0.578099   \n",
       "24     491313723          2015.5  291.101484  0.363924  36.563571   0.438461   \n",
       "25     873396955          2015.5  291.097767  0.357488  36.569619   0.393498   \n",
       "26     416805470          2015.5  291.101209  0.396481  36.566974   0.549698   \n",
       "27     160119417          2015.5  291.096068  0.367204  36.559636   0.407929   \n",
       "28     301323689          2015.5  291.091381  0.764334  36.569174   0.793404   \n",
       "\n",
       "    parallax  ...  mass_err2  prov_sec  nconfp  nkoi  ntce    jmag    hmag  \\\n",
       "20  1.183652  ...     -0.157   b'DSEP'       0     0     0  10.852  10.662   \n",
       "21  1.010494  ...     -0.157   b'DSEP'       0     0     0  10.852  10.662   \n",
       "22  0.428608  ...     -0.157   b'DSEP'       0     0     0  10.852  10.662   \n",
       "23  0.510245  ...     -0.157   b'DSEP'       0     0     0  10.852  10.662   \n",
       "24  0.361719  ...     -0.157   b'DSEP'       0     0     0  10.852  10.662   \n",
       "25  0.410948  ...     -0.157   b'DSEP'       0     0     0  10.852  10.662   \n",
       "26 -0.152930  ...     -0.157   b'DSEP'       0     0     0  10.852  10.662   \n",
       "27  0.047262  ...     -0.157   b'DSEP'       0     0     0  10.852  10.662   \n",
       "28  2.155078  ...     -0.157   b'DSEP'       0     0     0  10.852  10.662   \n",
       "\n",
       "      kmag  planet?  kepler_gaia_ang_dist  \n",
       "20  10.627  b'none'              0.116420  \n",
       "21  10.627  b'none'             12.021851  \n",
       "22  10.627  b'none'             12.623216  \n",
       "23  10.627  b'none'             12.675831  \n",
       "24  10.627  b'none'             18.263271  \n",
       "25  10.627  b'none'             18.284805  \n",
       "26  10.627  b'none'             18.298952  \n",
       "27  10.627  b'none'             19.174344  \n",
       "28  10.627  b'none'             19.221718  \n",
       "\n",
       "[9 rows x 134 columns]"
      ]
     },
     "execution_count": 98,
     "metadata": {},
     "output_type": "execute_result"
    }
   ],
   "source": [
    "kep20_data.loc[kep20_data.kepid==757280]"
   ]
  },
  {
   "cell_type": "markdown",
   "metadata": {},
   "source": [
    "Well that was all a moot point. After talking with Megan Bedell, it looks like I should be using 1\"."
   ]
  },
  {
   "cell_type": "markdown",
   "metadata": {},
   "source": [
    "## Planet occurrence rate"
   ]
  },
  {
   "cell_type": "code",
   "execution_count": 113,
   "metadata": {},
   "outputs": [
    {
     "name": "stdout",
     "output_type": "stream",
     "text": [
      "112700\n",
      "112324\n",
      "107495\n",
      "3749\n",
      "1080\n",
      "candidates only:  0.03337666037534276\n",
      "confirmed only:  0.009615042199351874\n",
      "candidates and confirmed:  0.04299170257469463\n"
     ]
    }
   ],
   "source": [
    "# use 1\" search radius Kepler data\n",
    "\n",
    "# drop duplicates on KIC, which we can do because we guaranteed one-to-one matching of KIC and planet-occurrence status\n",
    "group_crossmatch = crossmatch.drop_duplicates(['KIC'])\n",
    "print(len(crossmatch))\n",
    "print(len(group_crossmatch))\n",
    "\n",
    "# count Kepler objects with each type of planet occurrence\n",
    "none = group_crossmatch.loc[group_crossmatch['planet?'] == 'none']\n",
    "cand = group_crossmatch.loc[group_crossmatch['planet?'] == 'cand']\n",
    "conf = group_crossmatch.loc[group_crossmatch['planet?'] == 'conf']\n",
    "print(len(none))\n",
    "print(len(cand))\n",
    "print(len(conf))\n",
    "\n",
    "# cand and conf planet occurrence rates across FGK dwarfs from Berger et al 2020\n",
    "print(\"candidates only: \", len(cand)/len(group_crossmatch))\n",
    "print(\"confirmed only: \", len(conf)/len(group_crossmatch))\n",
    "print(\"candidates and confirmed: \", (len(cand)+len(conf))/len(group_crossmatch))"
   ]
  },
  {
   "cell_type": "code",
   "execution_count": 114,
   "metadata": {
    "scrolled": true
   },
   "outputs": [
    {
     "name": "stdout",
     "output_type": "stream",
     "text": [
      "150560\n",
      "201312\n",
      "152450\n",
      "      KIC  iso_mass  iso_mass_err1  iso_mass_err2  iso_teff  iso_teff_err1  \\\n",
      "0  757076     1.396          0.179         -0.218    5052.2          103.9   \n",
      "1  757099     0.873          0.054         -0.039    5364.9          102.7   \n",
      "2  757137     1.669          0.309         -0.300    4628.7           84.8   \n",
      "3  757280     1.715          0.086         -0.089    6856.8          144.4   \n",
      "4  757450     0.914          0.062         -0.057    5301.2          111.0   \n",
      "\n",
      "   iso_teff_err2  iso_logg  iso_logg_err1  iso_logg_err2  ...  iso_age_err1  \\\n",
      "0          -86.6     3.373          0.067         -0.081  ...          1.82   \n",
      "1          -84.9     4.318          0.037         -0.029  ...          3.00   \n",
      "2          -76.2     2.388          0.083         -0.086  ...          1.06   \n",
      "3         -139.9     3.834          0.033         -0.032  ...          0.20   \n",
      "4         -103.1     4.432          0.045         -0.044  ...          5.36   \n",
      "\n",
      "   iso_age_err2  iso_dis  iso_dis_err1  iso_dis_err2  iso_avs  iso_gof   TAMS  \\\n",
      "0         -0.73    651.5          22.6         -21.6    0.371      1.0   2.69   \n",
      "1         -3.98    367.8           7.1          -6.9    0.340      1.0  17.18   \n",
      "2         -0.58    568.4          12.2         -11.6    0.344      1.0   1.66   \n",
      "3         -0.16    822.0          19.4         -21.0    0.496      1.0   1.62   \n",
      "4         -5.15    829.6          24.0         -23.4    0.465      1.0  16.10   \n",
      "\n",
      "    kepid  planet?  \n",
      "0  757076     none  \n",
      "1  757099     none  \n",
      "2  757137     none  \n",
      "3  757280     none  \n",
      "4  757450     conf  \n",
      "\n",
      "[5 rows x 34 columns]\n"
     ]
    }
   ],
   "source": [
    "# merge Bedell's Kepler cross-match with all well-defined stars from Berger et al 2020's Gaia-Kepler catalog\n",
    "crossmatch_all = pd.merge(table2, kep_data_thin, how='inner', left_on='KIC', right_on='kepid')\n",
    "print(len(table2))\n",
    "print(len(kep_data_thin))\n",
    "print(len(crossmatch_all))\n",
    "print(crossmatch_all.head())"
   ]
  },
  {
   "cell_type": "code",
   "execution_count": 118,
   "metadata": {},
   "outputs": [
    {
     "name": "stdout",
     "output_type": "stream",
     "text": [
      "152450\n",
      "150445\n",
      "144396\n",
      "4853\n",
      "1196\n",
      "candidates only:  0.032257635680813586\n",
      "confirmed only:  0.00794974907773605\n",
      "candidates and confirmed:  0.04020738475854964\n"
     ]
    }
   ],
   "source": [
    "# drop duplicates as with FGK cross-match\n",
    "group_crossmatch_all = crossmatch_all.drop_duplicates(['KIC'])\n",
    "print(len(crossmatch_all))\n",
    "print(len(group_crossmatch_all))\n",
    "\n",
    "# count objects with each type of planet occurrence\n",
    "none_all = group_crossmatch_all.loc[group_crossmatch_all['planet?'] == 'none']\n",
    "cand_all = group_crossmatch_all.loc[group_crossmatch_all['planet?'] == 'cand']\n",
    "conf_all = group_crossmatch_all.loc[group_crossmatch_all['planet?'] == 'conf']\n",
    "print(len(none_all))\n",
    "print(len(cand_all))\n",
    "print(len(conf_all))\n",
    "\n",
    "# cand and conf planet occurrence rates across all well-defined stars from Berger et al 2020's Kepler-Gaia catalog\n",
    "print(\"candidates only: \", len(cand_all)/len(group_crossmatch_all))\n",
    "print(\"confirmed only: \", len(conf_all)/len(group_crossmatch_all))\n",
    "print(\"candidates and confirmed: \", (len(cand_all)+len(conf_all))/len(group_crossmatch_all))"
   ]
  },
  {
   "cell_type": "markdown",
   "metadata": {},
   "source": [
    "## Cross-Matching with K2"
   ]
  },
  {
   "cell_type": "code",
   "execution_count": 189,
   "metadata": {},
   "outputs": [],
   "source": [
    "# cross-matching from Megan Bedell's gaia-kepler.fun confirmed exoplanets...well of course there won't be a KIC to match on\n",
    "from astropy.io import fits\n",
    "path = '/Users/chris/Desktop/sculpting/crossmatch_fun/'\n",
    "hdu3 = fits.open(path+'k2_dr2_1arcsec.fits')\n",
    "data = hdu3[1].data\n",
    "header = hdu3[1].header\n",
    "columns = hdu3[1].columns\n",
    "hdu3.close()"
   ]
  },
  {
   "cell_type": "code",
   "execution_count": 74,
   "metadata": {},
   "outputs": [
    {
     "name": "stdout",
     "output_type": "stream",
     "text": [
      "195\n",
      "ColDefs(\n",
      "    name = 'solution_id'; format = 'K'; null = 999999\n",
      "    name = 'designation'; format = '28A'\n",
      "    name = 'source_id'; format = 'K'; null = 999999\n",
      "    name = 'random_index'; format = 'K'; null = 999999\n",
      "    name = 'gaia_ref_epoch'; format = 'D'\n",
      "    name = 'ra'; format = 'D'; unit = 'deg'\n",
      "    name = 'ra_error'; format = 'D'; unit = '10**-3 arcsec'\n",
      "    name = 'dec'; format = 'D'; unit = 'deg'\n",
      "    name = 'dec_error'; format = 'D'; unit = '10**-3 arcsec'\n",
      "    name = 'parallax'; format = 'D'; unit = '10**-3 arcsec'\n",
      "    name = 'parallax_error'; format = 'D'; unit = '10**-3 arcsec'\n",
      "    name = 'parallax_over_error'; format = 'E'\n",
      "    name = 'pmra'; format = 'D'; unit = '10**-3 arcsec yr-1'\n",
      "    name = 'pmra_error'; format = 'D'; unit = '10**-3 arcsec yr-1'\n",
      "    name = 'pmdec'; format = 'D'; unit = '10**-3 arcsec yr-1'\n",
      "    name = 'pmdec_error'; format = 'D'; unit = '10**-3 arcsec yr-1'\n",
      "    name = 'ra_dec_corr'; format = 'E'\n",
      "    name = 'ra_parallax_corr'; format = 'E'\n",
      "    name = 'ra_pmra_corr'; format = 'E'\n",
      "    name = 'ra_pmdec_corr'; format = 'E'\n",
      "    name = 'dec_parallax_corr'; format = 'E'\n",
      "    name = 'dec_pmra_corr'; format = 'E'\n",
      "    name = 'dec_pmdec_corr'; format = 'E'\n",
      "    name = 'parallax_pmra_corr'; format = 'E'\n",
      "    name = 'parallax_pmdec_corr'; format = 'E'\n",
      "    name = 'pmra_pmdec_corr'; format = 'E'\n",
      "    name = 'astrometric_n_obs_al'; format = 'J'; null = 999999\n",
      "    name = 'astrometric_n_obs_ac'; format = 'J'; null = 999999\n",
      "    name = 'astrometric_n_good_obs_al'; format = 'J'; null = 999999\n",
      "    name = 'astrometric_n_bad_obs_al'; format = 'J'; null = 999999\n",
      "    name = 'astrometric_gof_al'; format = 'E'\n",
      "    name = 'astrometric_chi2_al'; format = 'E'\n",
      "    name = 'astrometric_excess_noise'; format = 'D'; unit = 'mas'\n",
      "    name = 'astrometric_excess_noise_sig'; format = 'D'\n",
      "    name = 'astrometric_params_solved'; format = 'I'; null = 16959\n",
      "    name = 'astrometric_primary_flag'; format = 'L'\n",
      "    name = 'astrometric_weight_al'; format = 'E'; unit = 'mas-2'\n",
      "    name = 'astrometric_pseudo_colour'; format = 'D'; unit = 'um-1'\n",
      "    name = 'astrometric_pseudo_colour_error'; format = 'D'; unit = 'um-1'\n",
      "    name = 'mean_varpi_factor_al'; format = 'E'\n",
      "    name = 'astrometric_matched_observations'; format = 'I'; null = 16959\n",
      "    name = 'visibility_periods_used'; format = 'I'; null = 16959\n",
      "    name = 'astrometric_sigma5d_max'; format = 'E'; unit = 'mas'\n",
      "    name = 'frame_rotator_object_type'; format = 'J'; null = 999999\n",
      "    name = 'matched_observations'; format = 'I'; null = 16959\n",
      "    name = 'duplicated_source'; format = 'L'\n",
      "    name = 'phot_g_n_obs'; format = 'J'; null = 999999\n",
      "    name = 'phot_g_mean_flux'; format = 'D'; unit = 'ph s-1'\n",
      "    name = 'phot_g_mean_flux_error'; format = 'D'; unit = 'ph s-1'\n",
      "    name = 'phot_g_mean_flux_over_error'; format = 'E'\n",
      "    name = 'phot_g_mean_mag'; format = 'E'; unit = 'mag'\n",
      "    name = 'phot_bp_n_obs'; format = 'J'; null = 999999\n",
      "    name = 'phot_bp_mean_flux'; format = 'D'; unit = 'ph s-1'\n",
      "    name = 'phot_bp_mean_flux_error'; format = 'D'; unit = 'ph s-1'\n",
      "    name = 'phot_bp_mean_flux_over_error'; format = 'E'\n",
      "    name = 'phot_bp_mean_mag'; format = 'E'; unit = 'mag'\n",
      "    name = 'phot_rp_n_obs'; format = 'J'; null = 999999\n",
      "    name = 'phot_rp_mean_flux'; format = 'D'; unit = 'ph s-1'\n",
      "    name = 'phot_rp_mean_flux_error'; format = 'D'; unit = 'ph s-1'\n",
      "    name = 'phot_rp_mean_flux_over_error'; format = 'E'\n",
      "    name = 'phot_rp_mean_mag'; format = 'E'; unit = 'mag'\n",
      "    name = 'phot_bp_rp_excess_factor'; format = 'E'\n",
      "    name = 'phot_proc_mode'; format = 'I'; null = 16959\n",
      "    name = 'bp_rp'; format = 'E'; unit = 'mag'\n",
      "    name = 'bp_g'; format = 'E'; unit = 'mag'\n",
      "    name = 'g_rp'; format = 'E'; unit = 'mag'\n",
      "    name = 'radial_velocity'; format = 'D'; unit = 'km s-1'\n",
      "    name = 'radial_velocity_error'; format = 'D'; unit = 'km s-1'\n",
      "    name = 'rv_nb_transits'; format = 'J'; null = 999999\n",
      "    name = 'rv_template_teff'; format = 'E'; unit = 'K'\n",
      "    name = 'rv_template_logg'; format = 'E'\n",
      "    name = 'rv_template_fe_h'; format = 'E'\n",
      "    name = 'phot_variable_flag'; format = '13A'\n",
      "    name = 'l'; format = 'D'; unit = 'deg'\n",
      "    name = 'b'; format = 'D'; unit = 'deg'\n",
      "    name = 'ecl_lon'; format = 'D'; unit = 'deg'\n",
      "    name = 'ecl_lat'; format = 'D'; unit = 'deg'\n",
      "    name = 'priam_flags'; format = 'K'; null = 999999\n",
      "    name = 'teff_val'; format = 'E'; unit = 'K'\n",
      "    name = 'teff_percentile_lower'; format = 'E'; unit = 'K'\n",
      "    name = 'teff_percentile_upper'; format = 'E'; unit = 'K'\n",
      "    name = 'a_g_val'; format = 'E'; unit = 'mag'\n",
      "    name = 'a_g_percentile_lower'; format = 'E'; unit = 'mag'\n",
      "    name = 'a_g_percentile_upper'; format = 'E'; unit = 'mag'\n",
      "    name = 'e_bp_min_rp_val'; format = 'E'; unit = 'mag'\n",
      "    name = 'e_bp_min_rp_percentile_lower'; format = 'E'; unit = 'mag'\n",
      "    name = 'e_bp_min_rp_percentile_upper'; format = 'E'; unit = 'mag'\n",
      "    name = 'flame_flags'; format = 'K'; null = 999999\n",
      "    name = 'radius_val'; format = 'E'; unit = 'solRad'\n",
      "    name = 'radius_percentile_lower'; format = 'E'; unit = 'solRad'\n",
      "    name = 'radius_percentile_upper'; format = 'E'; unit = 'solRad'\n",
      "    name = 'lum_val'; format = 'E'; unit = 'solLum'\n",
      "    name = 'lum_percentile_lower'; format = 'E'; unit = 'solLum'\n",
      "    name = 'lum_percentile_upper'; format = 'E'; unit = 'solLum'\n",
      "    name = 'datalink_url'; format = '77A'\n",
      "    name = 'epoch_photometry_url'; format = '99A'\n",
      "    name = 'ra_nasa'; format = 'D'; unit = 'deg'\n",
      "    name = 'dec_nasa'; format = 'D'; unit = 'deg'\n",
      "    name = 'pl_name'; format = '26A'\n",
      "    name = 'r_est'; format = 'D'; unit = 'pc'\n",
      "    name = 'r_lo'; format = 'D'; unit = 'pc'\n",
      "    name = 'r_hi'; format = 'D'; unit = 'pc'\n",
      "    name = 'r_length_prior'; format = 'D'; unit = 'pc'\n",
      "    name = 'r_result_flag'; format = 'I'; null = 16959\n",
      "    name = 'r_modality_flag'; format = 'I'; null = 16959\n",
      "    name = 'pl_hostname'; format = '27A'\n",
      "    name = 'pl_letter'; format = '1A'\n",
      "    name = 'pl_discmethod'; format = '29A'\n",
      "    name = 'pl_controvflag'; format = 'K'; null = 999999\n",
      "    name = 'pl_pnum'; format = 'K'; null = 999999\n",
      "    name = 'pl_orbper'; format = 'D'\n",
      "    name = 'pl_orbpererr1'; format = 'D'\n",
      "    name = 'pl_orbpererr2'; format = 'D'\n",
      "    name = 'pl_orbperlim'; format = 'K'; null = 999999\n",
      "    name = 'pl_orbpern'; format = 'K'; null = 999999\n",
      "    name = 'pl_orbsmax'; format = 'D'\n",
      "    name = 'pl_orbsmaxerr1'; format = 'D'\n",
      "    name = 'pl_orbsmaxerr2'; format = 'D'\n",
      "    name = 'pl_orbsmaxlim'; format = 'K'; null = 999999\n",
      "    name = 'pl_orbsmaxn'; format = 'K'; null = 999999\n",
      "    name = 'pl_orbeccen'; format = 'D'\n",
      "    name = 'pl_orbeccenerr1'; format = 'D'\n",
      "    name = 'pl_orbeccenerr2'; format = 'D'\n",
      "    name = 'pl_orbeccenlim'; format = 'K'; null = 999999\n",
      "    name = 'pl_orbeccenn'; format = 'K'; null = 999999\n",
      "    name = 'pl_orbincl'; format = 'D'\n",
      "    name = 'pl_orbinclerr1'; format = 'D'\n",
      "    name = 'pl_orbinclerr2'; format = 'D'\n",
      "    name = 'pl_orbincllim'; format = 'K'; null = 999999\n",
      "    name = 'pl_orbincln'; format = 'K'; null = 999999\n",
      "    name = 'pl_bmassj'; format = 'D'\n",
      "    name = 'pl_bmassjerr1'; format = 'D'\n",
      "    name = 'pl_bmassjerr2'; format = 'D'\n",
      "    name = 'pl_bmassjlim'; format = 'K'; null = 999999\n",
      "    name = 'pl_bmassn'; format = 'K'; null = 999999\n",
      "    name = 'pl_bmassprov'; format = '14A'\n",
      "    name = 'pl_radj'; format = 'D'\n",
      "    name = 'pl_radjerr1'; format = 'D'\n",
      "    name = 'pl_radjerr2'; format = 'D'\n",
      "    name = 'pl_radjlim'; format = 'K'; null = 999999\n",
      "    name = 'pl_radn'; format = 'K'; null = 999999\n",
      "    name = 'pl_dens'; format = 'D'\n",
      "    name = 'pl_denserr1'; format = 'D'\n",
      "    name = 'pl_denserr2'; format = 'D'\n",
      "    name = 'pl_denslim'; format = 'K'; null = 999999\n",
      "    name = 'pl_densn'; format = 'K'; null = 999999\n",
      "    name = 'pl_ttvflag'; format = 'K'; null = 999999\n",
      "    name = 'pl_kepflag'; format = 'K'; null = 999999\n",
      "    name = 'pl_k2flag'; format = 'K'; null = 999999\n",
      "    name = 'st_posn'; format = 'K'; null = 999999\n",
      "    name = 'st_dist'; format = 'D'\n",
      "    name = 'st_disterr1'; format = 'D'\n",
      "    name = 'st_disterr2'; format = 'D'\n",
      "    name = 'st_distlim'; format = 'K'; null = 999999\n",
      "    name = 'st_distn'; format = 'K'; null = 999999\n",
      "    name = 'st_optmag'; format = 'D'\n",
      "    name = 'st_optmagerr'; format = 'D'\n",
      "    name = 'st_optmaglim'; format = 'K'; null = 999999\n",
      "    name = 'st_optband'; format = '11A'\n",
      "    name = 'gaia_gmag'; format = 'D'\n",
      "    name = 'gaia_gmagerr'; format = 'K'; null = 999999\n",
      "    name = 'gaia_gmaglim'; format = 'K'; null = 999999\n",
      "    name = 'st_teff'; format = 'D'\n",
      "    name = 'st_tefferr1'; format = 'D'\n",
      "    name = 'st_tefferr2'; format = 'D'\n",
      "    name = 'st_tefflim'; format = 'K'; null = 999999\n",
      "    name = 'st_teffn'; format = 'K'; null = 999999\n",
      "    name = 'st_mass'; format = 'D'\n",
      "    name = 'st_masserr1'; format = 'D'\n",
      "    name = 'st_masserr2'; format = 'D'\n",
      "    name = 'st_masslim'; format = 'K'; null = 999999\n",
      "    name = 'st_massn'; format = 'K'; null = 999999\n",
      "    name = 'st_rad'; format = 'D'\n",
      "    name = 'st_raderr1'; format = 'D'\n",
      "    name = 'st_raderr2'; format = 'D'\n",
      "    name = 'st_radlim'; format = 'K'; null = 999999\n",
      "    name = 'st_radn'; format = 'K'; null = 999999\n",
      "    name = 'pl_nnotes'; format = 'K'; null = 999999\n",
      "    name = 'rowupdate'; format = '10A'\n",
      "    name = 'pl_facility'; format = '44A'\n",
      "    name = 'pl_tranflag'; format = 'K'; null = 999999\n",
      "    name = 'pl_rvflag'; format = 'K'; null = 999999\n",
      "    name = 'pl_imgflag'; format = 'K'; null = 999999\n",
      "    name = 'pl_astflag'; format = 'K'; null = 999999\n",
      "    name = 'pl_omflag'; format = 'K'; null = 999999\n",
      "    name = 'pl_cbflag'; format = 'K'; null = 999999\n",
      "    name = 'pl_disc'; format = 'K'; null = 999999\n",
      "    name = 'hd_name'; format = '11A'\n",
      "    name = 'hip_name'; format = '12A'\n",
      "    name = 'st_radv'; format = 'D'\n",
      "    name = 'st_radverr1'; format = 'D'\n",
      "    name = 'st_radverr2'; format = 'D'\n",
      "    name = 'st_radvlim'; format = 'K'; null = 999999\n",
      "    name = 'st_radvn'; format = 'K'; null = 999999\n",
      "    name = 'nasa_gaia_ang_dist'; format = 'D'; unit = 'arcsec'\n",
      ")\n"
     ]
    }
   ],
   "source": [
    "print(len(columns))\n",
    "print(columns)"
   ]
  },
  {
   "cell_type": "markdown",
   "metadata": {},
   "source": [
    "## Cross-Matching with confirmed exoplanets"
   ]
  },
  {
   "cell_type": "code",
   "execution_count": 190,
   "metadata": {},
   "outputs": [],
   "source": [
    "# cross-matching from Megan Bedell's gaia-kepler.fun confirmed exoplanets...doesn't seem to have KIC to match on...\n",
    "from astropy.io import fits\n",
    "path = '/Users/chris/Desktop/sculpting/crossmatch_fun/'\n",
    "hdu2 = fits.open(path+'exoplanets_dr2_1arcsec.fits')\n",
    "data = hdu2[1].data\n",
    "header = hdu2[1].header\n",
    "columns = hdu2[1].columns\n",
    "#kep_data = Table.read(path+'kepler_dr2_1arcsec.fits', format='fits')\n",
    "#kep_data = kep_data.to_pandas()[['kepid','planet?']]\n",
    "#print(kep_data.head())\n",
    "hdu2.close()"
   ]
  },
  {
   "cell_type": "code",
   "execution_count": 68,
   "metadata": {},
   "outputs": [
    {
     "data": {
      "text/plain": [
       "(1635721458409799680, 'Gaia DR2 3946945413106333696', 3946945413106333696, 221573267, 2015.5, 185.17877927819265, 0.16203243145904145, 17.79325163825353, 0.131687630347403, 10.710445335679449, 0.2197390136107608, 48.741665, -109.2413803041909, 0.3161072085232074, 88.17010164023338, 0.2772971016262472, -0.24134229, -0.33809444, 0.15142575, 0.13483438, -0.110146195, -0.016184712, 0.43014202, 0.005286964, -0.41975275, -0.3410357, 378, 378, 334, 44, 117.97339, 22105.432, 0.8913460033957228, 381.93167542286074, 31, True, 1.1513063, 1.7238976028274915, 0.03928369901084555, 0.06852711, 44, 11, 0.17436285, 0, 53, False, 411, 336024521.9139364, 860953.7315569692, 390.29337, 4.3724384, 40, 140928619.43828443, 279608.64519581286, 504.02097, 4.97889, 45, 244017880.46586746, 490175.345571102, 497.81754, 3.793366, 1.1455905, 0, 1.185524, 0.6064515, 0.5790725, 43.36898087333795, 0.20870222477915987, 16, 4750.0, 3.0, -0.25, 'NOT_AVAILABLE', 264.1377247628008, 78.2805843948228, 177.4217840787002, 18.333923333325714, 100001, 4755.0, 4680.0, 5067.0, 0.1887, 0.0177, 1.6999, 0.1125, 0.0233, 0.9245, 200111, 17.181, 15.130305, 17.736086, 135.95453, 132.77434, 139.13472, 'http://geadata.esac.esa.int/data-server/datalink/links?ID=3946945413106333696', '', 185.179276, 17.792868, '11comb', 93.1845923234572, 91.2998090442595, 95.1473840351671, 445.389899685864, 1, 1, '11 Com', 'b', 'Radial Velocity', 0, 1, 326.03, 0.32, -0.32, 0, 1, 1.29, 0.05, -0.05, 0, 2, 0.231, 0.005, -0.005, 0, 1, nan, nan, nan, 999999, 0, 19.4, 1.5, -1.5, 0, 2, 'Msini', nan, nan, nan, 999999, 0, nan, nan, nan, 999999, 0, 0, 0, 0, 2, 93.37, 1.92, -1.92, 0, 4, 4.74, nan, 0, 'V (Johnson)', 4.372, 999999, 0, 4742.0, 100.0, -100.0, 0, 4, 2.7, 0.3, -0.3, 0, 3, 19.0, 2.0, -2.0, 0, 3, 0, '2014-05-14', 'Xinglong Station', 0, 1, 0, 0, 0, 0, 2007, 'HD 107383', 'HIP 60202', 43.37, 0.21, -0.21, 0, 1, 0.017243138932188082)"
      ]
     },
     "execution_count": 68,
     "metadata": {},
     "output_type": "execute_result"
    }
   ],
   "source": [
    "data[0]"
   ]
  },
  {
   "cell_type": "code",
   "execution_count": 69,
   "metadata": {},
   "outputs": [
    {
     "name": "stdout",
     "output_type": "stream",
     "text": [
      "195\n"
     ]
    },
    {
     "data": {
      "text/plain": [
       "ColDefs(\n",
       "    name = 'solution_id'; format = 'K'; null = 999999\n",
       "    name = 'designation'; format = '28A'\n",
       "    name = 'source_id'; format = 'K'; null = 999999\n",
       "    name = 'random_index'; format = 'K'; null = 999999\n",
       "    name = 'gaia_ref_epoch'; format = 'D'\n",
       "    name = 'ra'; format = 'D'; unit = 'deg'\n",
       "    name = 'ra_error'; format = 'D'; unit = '10**-3 arcsec'\n",
       "    name = 'dec'; format = 'D'; unit = 'deg'\n",
       "    name = 'dec_error'; format = 'D'; unit = '10**-3 arcsec'\n",
       "    name = 'parallax'; format = 'D'; unit = '10**-3 arcsec'\n",
       "    name = 'parallax_error'; format = 'D'; unit = '10**-3 arcsec'\n",
       "    name = 'parallax_over_error'; format = 'E'\n",
       "    name = 'pmra'; format = 'D'; unit = '10**-3 arcsec yr-1'\n",
       "    name = 'pmra_error'; format = 'D'; unit = '10**-3 arcsec yr-1'\n",
       "    name = 'pmdec'; format = 'D'; unit = '10**-3 arcsec yr-1'\n",
       "    name = 'pmdec_error'; format = 'D'; unit = '10**-3 arcsec yr-1'\n",
       "    name = 'ra_dec_corr'; format = 'E'\n",
       "    name = 'ra_parallax_corr'; format = 'E'\n",
       "    name = 'ra_pmra_corr'; format = 'E'\n",
       "    name = 'ra_pmdec_corr'; format = 'E'\n",
       "    name = 'dec_parallax_corr'; format = 'E'\n",
       "    name = 'dec_pmra_corr'; format = 'E'\n",
       "    name = 'dec_pmdec_corr'; format = 'E'\n",
       "    name = 'parallax_pmra_corr'; format = 'E'\n",
       "    name = 'parallax_pmdec_corr'; format = 'E'\n",
       "    name = 'pmra_pmdec_corr'; format = 'E'\n",
       "    name = 'astrometric_n_obs_al'; format = 'J'; null = 999999\n",
       "    name = 'astrometric_n_obs_ac'; format = 'J'; null = 999999\n",
       "    name = 'astrometric_n_good_obs_al'; format = 'J'; null = 999999\n",
       "    name = 'astrometric_n_bad_obs_al'; format = 'J'; null = 999999\n",
       "    name = 'astrometric_gof_al'; format = 'E'\n",
       "    name = 'astrometric_chi2_al'; format = 'E'\n",
       "    name = 'astrometric_excess_noise'; format = 'D'; unit = 'mas'\n",
       "    name = 'astrometric_excess_noise_sig'; format = 'D'\n",
       "    name = 'astrometric_params_solved'; format = 'I'; null = 16959\n",
       "    name = 'astrometric_primary_flag'; format = 'L'\n",
       "    name = 'astrometric_weight_al'; format = 'E'; unit = 'mas-2'\n",
       "    name = 'astrometric_pseudo_colour'; format = 'D'; unit = 'um-1'\n",
       "    name = 'astrometric_pseudo_colour_error'; format = 'D'; unit = 'um-1'\n",
       "    name = 'mean_varpi_factor_al'; format = 'E'\n",
       "    name = 'astrometric_matched_observations'; format = 'I'; null = 16959\n",
       "    name = 'visibility_periods_used'; format = 'I'; null = 16959\n",
       "    name = 'astrometric_sigma5d_max'; format = 'E'; unit = 'mas'\n",
       "    name = 'frame_rotator_object_type'; format = 'J'; null = 999999\n",
       "    name = 'matched_observations'; format = 'I'; null = 16959\n",
       "    name = 'duplicated_source'; format = 'L'\n",
       "    name = 'phot_g_n_obs'; format = 'J'; null = 999999\n",
       "    name = 'phot_g_mean_flux'; format = 'D'; unit = 'ph s-1'\n",
       "    name = 'phot_g_mean_flux_error'; format = 'D'; unit = 'ph s-1'\n",
       "    name = 'phot_g_mean_flux_over_error'; format = 'E'\n",
       "    name = 'phot_g_mean_mag'; format = 'E'; unit = 'mag'\n",
       "    name = 'phot_bp_n_obs'; format = 'J'; null = 999999\n",
       "    name = 'phot_bp_mean_flux'; format = 'D'; unit = 'ph s-1'\n",
       "    name = 'phot_bp_mean_flux_error'; format = 'D'; unit = 'ph s-1'\n",
       "    name = 'phot_bp_mean_flux_over_error'; format = 'E'\n",
       "    name = 'phot_bp_mean_mag'; format = 'E'; unit = 'mag'\n",
       "    name = 'phot_rp_n_obs'; format = 'J'; null = 999999\n",
       "    name = 'phot_rp_mean_flux'; format = 'D'; unit = 'ph s-1'\n",
       "    name = 'phot_rp_mean_flux_error'; format = 'D'; unit = 'ph s-1'\n",
       "    name = 'phot_rp_mean_flux_over_error'; format = 'E'\n",
       "    name = 'phot_rp_mean_mag'; format = 'E'; unit = 'mag'\n",
       "    name = 'phot_bp_rp_excess_factor'; format = 'E'\n",
       "    name = 'phot_proc_mode'; format = 'I'; null = 16959\n",
       "    name = 'bp_rp'; format = 'E'; unit = 'mag'\n",
       "    name = 'bp_g'; format = 'E'; unit = 'mag'\n",
       "    name = 'g_rp'; format = 'E'; unit = 'mag'\n",
       "    name = 'radial_velocity'; format = 'D'; unit = 'km s-1'\n",
       "    name = 'radial_velocity_error'; format = 'D'; unit = 'km s-1'\n",
       "    name = 'rv_nb_transits'; format = 'J'; null = 999999\n",
       "    name = 'rv_template_teff'; format = 'E'; unit = 'K'\n",
       "    name = 'rv_template_logg'; format = 'E'\n",
       "    name = 'rv_template_fe_h'; format = 'E'\n",
       "    name = 'phot_variable_flag'; format = '13A'\n",
       "    name = 'l'; format = 'D'; unit = 'deg'\n",
       "    name = 'b'; format = 'D'; unit = 'deg'\n",
       "    name = 'ecl_lon'; format = 'D'; unit = 'deg'\n",
       "    name = 'ecl_lat'; format = 'D'; unit = 'deg'\n",
       "    name = 'priam_flags'; format = 'K'; null = 999999\n",
       "    name = 'teff_val'; format = 'E'; unit = 'K'\n",
       "    name = 'teff_percentile_lower'; format = 'E'; unit = 'K'\n",
       "    name = 'teff_percentile_upper'; format = 'E'; unit = 'K'\n",
       "    name = 'a_g_val'; format = 'E'; unit = 'mag'\n",
       "    name = 'a_g_percentile_lower'; format = 'E'; unit = 'mag'\n",
       "    name = 'a_g_percentile_upper'; format = 'E'; unit = 'mag'\n",
       "    name = 'e_bp_min_rp_val'; format = 'E'; unit = 'mag'\n",
       "    name = 'e_bp_min_rp_percentile_lower'; format = 'E'; unit = 'mag'\n",
       "    name = 'e_bp_min_rp_percentile_upper'; format = 'E'; unit = 'mag'\n",
       "    name = 'flame_flags'; format = 'K'; null = 999999\n",
       "    name = 'radius_val'; format = 'E'; unit = 'solRad'\n",
       "    name = 'radius_percentile_lower'; format = 'E'; unit = 'solRad'\n",
       "    name = 'radius_percentile_upper'; format = 'E'; unit = 'solRad'\n",
       "    name = 'lum_val'; format = 'E'; unit = 'solLum'\n",
       "    name = 'lum_percentile_lower'; format = 'E'; unit = 'solLum'\n",
       "    name = 'lum_percentile_upper'; format = 'E'; unit = 'solLum'\n",
       "    name = 'datalink_url'; format = '77A'\n",
       "    name = 'epoch_photometry_url'; format = '99A'\n",
       "    name = 'ra_nasa'; format = 'D'; unit = 'deg'\n",
       "    name = 'dec_nasa'; format = 'D'; unit = 'deg'\n",
       "    name = 'pl_name'; format = '26A'\n",
       "    name = 'r_est'; format = 'D'; unit = 'pc'\n",
       "    name = 'r_lo'; format = 'D'; unit = 'pc'\n",
       "    name = 'r_hi'; format = 'D'; unit = 'pc'\n",
       "    name = 'r_length_prior'; format = 'D'; unit = 'pc'\n",
       "    name = 'r_result_flag'; format = 'I'; null = 16959\n",
       "    name = 'r_modality_flag'; format = 'I'; null = 16959\n",
       "    name = 'pl_hostname'; format = '27A'\n",
       "    name = 'pl_letter'; format = '1A'\n",
       "    name = 'pl_discmethod'; format = '29A'\n",
       "    name = 'pl_controvflag'; format = 'K'; null = 999999\n",
       "    name = 'pl_pnum'; format = 'K'; null = 999999\n",
       "    name = 'pl_orbper'; format = 'D'\n",
       "    name = 'pl_orbpererr1'; format = 'D'\n",
       "    name = 'pl_orbpererr2'; format = 'D'\n",
       "    name = 'pl_orbperlim'; format = 'K'; null = 999999\n",
       "    name = 'pl_orbpern'; format = 'K'; null = 999999\n",
       "    name = 'pl_orbsmax'; format = 'D'\n",
       "    name = 'pl_orbsmaxerr1'; format = 'D'\n",
       "    name = 'pl_orbsmaxerr2'; format = 'D'\n",
       "    name = 'pl_orbsmaxlim'; format = 'K'; null = 999999\n",
       "    name = 'pl_orbsmaxn'; format = 'K'; null = 999999\n",
       "    name = 'pl_orbeccen'; format = 'D'\n",
       "    name = 'pl_orbeccenerr1'; format = 'D'\n",
       "    name = 'pl_orbeccenerr2'; format = 'D'\n",
       "    name = 'pl_orbeccenlim'; format = 'K'; null = 999999\n",
       "    name = 'pl_orbeccenn'; format = 'K'; null = 999999\n",
       "    name = 'pl_orbincl'; format = 'D'\n",
       "    name = 'pl_orbinclerr1'; format = 'D'\n",
       "    name = 'pl_orbinclerr2'; format = 'D'\n",
       "    name = 'pl_orbincllim'; format = 'K'; null = 999999\n",
       "    name = 'pl_orbincln'; format = 'K'; null = 999999\n",
       "    name = 'pl_bmassj'; format = 'D'\n",
       "    name = 'pl_bmassjerr1'; format = 'D'\n",
       "    name = 'pl_bmassjerr2'; format = 'D'\n",
       "    name = 'pl_bmassjlim'; format = 'K'; null = 999999\n",
       "    name = 'pl_bmassn'; format = 'K'; null = 999999\n",
       "    name = 'pl_bmassprov'; format = '14A'\n",
       "    name = 'pl_radj'; format = 'D'\n",
       "    name = 'pl_radjerr1'; format = 'D'\n",
       "    name = 'pl_radjerr2'; format = 'D'\n",
       "    name = 'pl_radjlim'; format = 'K'; null = 999999\n",
       "    name = 'pl_radn'; format = 'K'; null = 999999\n",
       "    name = 'pl_dens'; format = 'D'\n",
       "    name = 'pl_denserr1'; format = 'D'\n",
       "    name = 'pl_denserr2'; format = 'D'\n",
       "    name = 'pl_denslim'; format = 'K'; null = 999999\n",
       "    name = 'pl_densn'; format = 'K'; null = 999999\n",
       "    name = 'pl_ttvflag'; format = 'K'; null = 999999\n",
       "    name = 'pl_kepflag'; format = 'K'; null = 999999\n",
       "    name = 'pl_k2flag'; format = 'K'; null = 999999\n",
       "    name = 'st_posn'; format = 'K'; null = 999999\n",
       "    name = 'st_dist'; format = 'D'\n",
       "    name = 'st_disterr1'; format = 'D'\n",
       "    name = 'st_disterr2'; format = 'D'\n",
       "    name = 'st_distlim'; format = 'K'; null = 999999\n",
       "    name = 'st_distn'; format = 'K'; null = 999999\n",
       "    name = 'st_optmag'; format = 'D'\n",
       "    name = 'st_optmagerr'; format = 'D'\n",
       "    name = 'st_optmaglim'; format = 'K'; null = 999999\n",
       "    name = 'st_optband'; format = '11A'\n",
       "    name = 'gaia_gmag'; format = 'D'\n",
       "    name = 'gaia_gmagerr'; format = 'K'; null = 999999\n",
       "    name = 'gaia_gmaglim'; format = 'K'; null = 999999\n",
       "    name = 'st_teff'; format = 'D'\n",
       "    name = 'st_tefferr1'; format = 'D'\n",
       "    name = 'st_tefferr2'; format = 'D'\n",
       "    name = 'st_tefflim'; format = 'K'; null = 999999\n",
       "    name = 'st_teffn'; format = 'K'; null = 999999\n",
       "    name = 'st_mass'; format = 'D'\n",
       "    name = 'st_masserr1'; format = 'D'\n",
       "    name = 'st_masserr2'; format = 'D'\n",
       "    name = 'st_masslim'; format = 'K'; null = 999999\n",
       "    name = 'st_massn'; format = 'K'; null = 999999\n",
       "    name = 'st_rad'; format = 'D'\n",
       "    name = 'st_raderr1'; format = 'D'\n",
       "    name = 'st_raderr2'; format = 'D'\n",
       "    name = 'st_radlim'; format = 'K'; null = 999999\n",
       "    name = 'st_radn'; format = 'K'; null = 999999\n",
       "    name = 'pl_nnotes'; format = 'K'; null = 999999\n",
       "    name = 'rowupdate'; format = '10A'\n",
       "    name = 'pl_facility'; format = '44A'\n",
       "    name = 'pl_tranflag'; format = 'K'; null = 999999\n",
       "    name = 'pl_rvflag'; format = 'K'; null = 999999\n",
       "    name = 'pl_imgflag'; format = 'K'; null = 999999\n",
       "    name = 'pl_astflag'; format = 'K'; null = 999999\n",
       "    name = 'pl_omflag'; format = 'K'; null = 999999\n",
       "    name = 'pl_cbflag'; format = 'K'; null = 999999\n",
       "    name = 'pl_disc'; format = 'K'; null = 999999\n",
       "    name = 'hd_name'; format = '11A'\n",
       "    name = 'hip_name'; format = '12A'\n",
       "    name = 'st_radv'; format = 'D'\n",
       "    name = 'st_radverr1'; format = 'D'\n",
       "    name = 'st_radverr2'; format = 'D'\n",
       "    name = 'st_radvlim'; format = 'K'; null = 999999\n",
       "    name = 'st_radvn'; format = 'K'; null = 999999\n",
       "    name = 'nasa_gaia_ang_dist'; format = 'D'; unit = 'arcsec'\n",
       ")"
      ]
     },
     "execution_count": 69,
     "metadata": {},
     "output_type": "execute_result"
    }
   ],
   "source": [
    "print(len(columns))\n",
    "columns"
   ]
  },
  {
   "cell_type": "markdown",
   "metadata": {},
   "source": [
    "## Joining confirmed exoplanets with Kepler cross-match"
   ]
  },
  {
   "cell_type": "markdown",
   "metadata": {},
   "source": [
    "Pro: confirmed exoplanets dataset from gaia-kepler.fun has planet counts. Con: there's no KIC or kepid to join on."
   ]
  },
  {
   "cell_type": "code",
   "execution_count": 62,
   "metadata": {
    "scrolled": true
   },
   "outputs": [
    {
     "name": "stdout",
     "output_type": "stream",
     "text": [
      "           solution_id                      designation            source_id  \\\n",
      "0  1635721458409799680  b'Gaia DR2 3946945413106333696'  3946945413106333696   \n",
      "1  1635721458409799680  b'Gaia DR2 1696798367260229376'  1696798367260229376   \n",
      "2  1635721458409799680  b'Gaia DR2 1920113512486282240'  1920113512486282240   \n",
      "3  1635721458409799680  b'Gaia DR2 1385293808145621504'  1385293808145621504   \n",
      "4  1635721458409799680  b'Gaia DR2 2135550755683407232'  2135550755683407232   \n",
      "\n",
      "   random_index  gaia_ref_epoch          ra  ra_error        dec  dec_error  \\\n",
      "0     221573267          2015.5  185.178779  0.162032  17.793252   0.131688   \n",
      "1      91495763          2015.5  229.274595  0.122354  71.823943   0.110681   \n",
      "2     162105136          2015.5  352.824150  0.106518  39.235837   0.074691   \n",
      "3    1155875906          2015.5  242.602101  0.019262  43.816362   0.019824   \n",
      "4     166057510          2015.5  295.465642  0.022583  50.516824   0.024786   \n",
      "\n",
      "    parallax  ...  pl_cbflag  pl_disc       hd_name       hip_name  st_radv  \\\n",
      "0  10.710445  ...          0     2007  b'HD 107383'   b'HIP 60202'    43.37   \n",
      "1   7.953881  ...          0     2009  b'HD 136726'   b'HIP 74793'   -17.52   \n",
      "2  13.228880  ...          0     2008  b'HD 221345'  b'HIP 116076'   -59.73   \n",
      "3  55.736347  ...          0     2002  b'HD 145675'   b'HIP 79248'      NaN   \n",
      "4  47.275421  ...          0     1996  b'HD 186427'   b'HIP 96901'   -28.10   \n",
      "\n",
      "   st_radverr1  st_radverr2  st_radvlim  st_radvn  nasa_gaia_ang_dist  \n",
      "0         0.21        -0.21         0.0         1            0.017243  \n",
      "1         0.15        -0.15         0.0         1            0.014335  \n",
      "2         0.31        -0.31         0.0         1            0.050127  \n",
      "3          NaN          NaN         NaN         5            0.038616  \n",
      "4         0.10        -0.10         0.0         4            0.005876  \n",
      "\n",
      "[5 rows x 195 columns]\n"
     ]
    }
   ],
   "source": [
    "import warnings\n",
    "warnings.filterwarnings('ignore')\n",
    "path = '/Users/chris/Desktop/sculpting/crossmatch_fun/'\n",
    "confirmed = Table.read(path+'exoplanets_dr2_1arcsec.fits', format='fits')\n",
    "confirmed = confirmed.to_pandas()\n",
    "print(confirmed.head())"
   ]
  },
  {
   "cell_type": "code",
   "execution_count": 63,
   "metadata": {},
   "outputs": [
    {
     "name": "stdout",
     "output_type": "stream",
     "text": [
      "3666\n",
      "201312\n",
      "2367\n",
      "         solution_id_x                    designation_x            source_id  \\\n",
      "0  1635721458409799680  b'Gaia DR2 2135550755683407232'  2135550755683407232   \n",
      "1  1635721458409799680  b'Gaia DR2 2080063931448749824'  2080063931448749824   \n",
      "2  1635721458409799680  b'Gaia DR2 2086512227851023872'  2086512227851023872   \n",
      "3  1635721458409799680  b'Gaia DR2 2086512227851023872'  2086512227851023872   \n",
      "4  1635721458409799680  b'Gaia DR2 2129256395211984000'  2129256395211984000   \n",
      "\n",
      "   random_index_x  gaia_ref_epoch_x        ra_x  ra_error_x      dec_x  \\\n",
      "0       166057510            2015.5  295.465642    0.022583  50.516824   \n",
      "1       712882192            2015.5  294.635917    0.034723  46.066408   \n",
      "2      1678330809            2015.5  297.710176    0.019271  48.081864   \n",
      "3      1678330809            2015.5  297.710176    0.019271  48.081864   \n",
      "4        87789293            2015.5  292.247190    0.017649  47.969543   \n",
      "\n",
      "   dec_error_x  parallax_x  ...  mass_err2  prov_sec  nconfp  nkoi  ntce  \\\n",
      "0     0.024786   47.275421  ...     -0.057   b'DSEP'       1     0     0   \n",
      "1     0.040124    2.495216  ...     -1.018   b'DSEP'       1     0     0   \n",
      "2     0.024141   26.450778  ...     -0.047   b'DSEP'       2     1     1   \n",
      "3     0.024141   26.450778  ...     -0.047   b'DSEP'       2     1     1   \n",
      "4     0.019830    2.903105  ...     -0.091   b'DSEP'       1     1     7   \n",
      "\n",
      "     jmag    hmag    kmag  planet?  kepler_gaia_ang_dist  \n",
      "0   4.993   4.695   4.651     conf              0.057565  \n",
      "1  12.757  12.889  12.955     conf              0.065727  \n",
      "2   7.608   7.131   7.009     conf              0.043749  \n",
      "3   7.608   7.131   7.009     conf              0.043749  \n",
      "4   9.555   9.344   9.334     conf              0.089069  \n",
      "\n",
      "[5 rows x 328 columns]\n",
      "Index(['solution_id_x', 'designation_x', 'source_id', 'random_index_x',\n",
      "       'gaia_ref_epoch_x', 'ra_x', 'ra_error_x', 'dec_x', 'dec_error_x',\n",
      "       'parallax_x',\n",
      "       ...\n",
      "       'mass_err2', 'prov_sec', 'nconfp', 'nkoi', 'ntce', 'jmag', 'hmag',\n",
      "       'kmag', 'planet?', 'kepler_gaia_ang_dist'],\n",
      "      dtype='object', length=328)\n"
     ]
    }
   ],
   "source": [
    "confirmed_kepler = pd.merge(confirmed, kep_data, how='inner', on='source_id')\n",
    "print(len(confirmed))\n",
    "print(len(kep_data))\n",
    "print(len(confirmed_kepler))\n",
    "print(confirmed_kepler.head())\n",
    "print(confirmed_kepler.columns)"
   ]
  },
  {
   "cell_type": "code",
   "execution_count": 64,
   "metadata": {},
   "outputs": [
    {
     "name": "stdout",
     "output_type": "stream",
     "text": [
      "    st_mass   mass  st_teff   teff  st_rad  radius        ra_x        ra_y  \\\n",
      "0      1.08  0.952   5750.0   5745    1.13   1.069  295.465642  295.465642   \n",
      "1      0.48  3.244      NaN  10899     NaN   3.746  294.635917  294.635917   \n",
      "2      0.81  0.830   4780.0   4778    0.68   0.763  297.710176  297.710176   \n",
      "3      0.81  0.830   4780.0   4778    0.68   0.763  297.710176  297.710176   \n",
      "4      1.56  1.449   6389.0   6440    2.00   1.952  292.247190  292.247190   \n",
      "5      1.40  1.406   6453.0   6469    1.51   1.467  286.685473  286.685473   \n",
      "6      0.90  0.938   5491.0   5741    0.88   0.846  286.273915  286.273915   \n",
      "7      1.22  1.275   6144.0   6180    1.57   1.603  293.079463  293.079463   \n",
      "8      1.11  0.931   6109.0   6068    1.17   0.831  292.020435  292.020435   \n",
      "9      1.11  1.441   4972.0   4994    3.39   3.818  297.359343  297.359343   \n",
      "10     1.00  0.946   5782.0   5727    1.06   1.104  286.285900  286.285900   \n",
      "11     0.78  1.064   5328.0   6327    0.74   1.175  295.754207  295.754207   \n",
      "12     0.73  0.547   4587.0   4325    0.70   0.560  295.906530  295.906530   \n",
      "13     0.81  0.742   5066.0   4987    0.78   0.773  296.547639  296.547639   \n",
      "14     0.59  0.522   4027.0   3597    0.57   0.514  282.859861  282.859861   \n",
      "15     1.08  1.050   5825.0   5788    1.49   1.474  291.386129  291.386129   \n",
      "16     1.08  1.050   5825.0   5788    1.49   1.474  291.386129  291.386129   \n",
      "17     1.08  1.050   5825.0   5788    1.49   1.474  291.386129  291.386129   \n",
      "18     0.86  0.815   5253.0   5083    0.82   0.872  289.192603  289.192603   \n",
      "19     0.91  1.017   5416.0   5445    0.88   0.929  297.401549  297.401549   \n",
      "\n",
      "        dec_x      dec_y  pl_pnum  \n",
      "0   50.516824  50.516824        1  \n",
      "1   46.066408  46.066408        1  \n",
      "2   48.081864  48.081864        2  \n",
      "3   48.081864  48.081864        2  \n",
      "4   47.969543  47.969543        1  \n",
      "5   47.098195  47.098195        1  \n",
      "6   48.618697  48.618697        1  \n",
      "7   43.073677  43.073677        1  \n",
      "8   44.876243  44.876243        1  \n",
      "9   49.797546  49.797546        1  \n",
      "10  43.320508  43.320508        1  \n",
      "11  42.537307  42.537307        1  \n",
      "12  45.809089  45.809089        1  \n",
      "13  44.941831  44.941831        1  \n",
      "14  42.665834  42.665834        1  \n",
      "15  41.990139  41.990139        3  \n",
      "16  41.990139  41.990139        3  \n",
      "17  41.990139  41.990139        3  \n",
      "18  44.149316  44.149316        1  \n",
      "19  46.823998  46.823998        1  \n"
     ]
    }
   ],
   "source": [
    "# check that these are indeed the same star...it's really hard to tell\n",
    "print(confirmed_kepler[['st_mass', 'mass', 'st_teff', 'teff', 'st_rad',\n",
    "                        'radius', 'ra_x', 'ra_y', 'dec_x', 'dec_y', 'pl_pnum']].head(n=20))\n",
    "# 'st_metfe', 'gmag', 'st_optmag', 'kmag',"
   ]
  },
  {
   "cell_type": "markdown",
   "metadata": {},
   "source": [
    "## CDPP"
   ]
  },
  {
   "cell_type": "markdown",
   "metadata": {},
   "source": [
    "Characterize the noise between young and old stars with multiple CDPPs. Data from http://archive.stsci.edu/pub/kepler/catalogs/"
   ]
  },
  {
   "cell_type": "code",
   "execution_count": 46,
   "metadata": {},
   "outputs": [
    {
     "name": "stdout",
     "output_type": "stream",
     "text": [
      "200038\n",
      "    kepid           tm_designation  teff  teff_err1  teff_err2   logg  \\\n",
      "0  757076  2MASS J19240929+3635532  5160      171.0     -156.0  3.580   \n",
      "1  757099  2MASS J19241033+3635377  5519      182.0     -149.0  3.822   \n",
      "2  757137  2MASS J19241341+3633358  4706       74.0     -102.0  2.374   \n",
      "3  757280  2MASS J19242289+3633538  6543      162.0     -194.0  4.082   \n",
      "4  757450  2MASS J19243302+3634385  5332      106.0      -96.0  4.500   \n",
      "\n",
      "   logg_err1  logg_err2   feh  feh_err1  ...  timeout06p0  timeout07p5  \\\n",
      "0      0.928     -0.232 -0.10      0.30  ...          0.0          0.0   \n",
      "1      0.638     -0.213 -0.22      0.35  ...          1.0          1.0   \n",
      "2      0.030     -0.027 -0.10      0.20  ...          1.0          1.0   \n",
      "3      0.258     -0.172 -0.24      0.25  ...          0.0          0.0   \n",
      "4      0.050     -0.036 -0.08      0.15  ...          0.0          0.0   \n",
      "\n",
      "   timeout09p0  timeout10p5  timeout12p0  timeout12p5  timeout15p0  \\\n",
      "0          0.0          0.0          0.0          0.0          0.0   \n",
      "1          1.0          1.0          0.0          1.0          0.0   \n",
      "2          1.0          1.0          1.0          1.0          1.0   \n",
      "3          0.0          0.0          0.0          0.0          0.0   \n",
      "4          0.0          0.0          0.0          0.0          0.0   \n",
      "\n",
      "   timeoutsumry  cdppslplong  cdppslpshrt  \n",
      "0           1.0     -0.33009     -0.41285  \n",
      "1           0.0     -0.25653     -0.18629  \n",
      "2           0.0      0.22699      0.67461  \n",
      "3           1.0     -0.10948     -0.37236  \n",
      "4           1.0     -0.11868     -0.48642  \n",
      "\n",
      "[5 rows x 95 columns]\n"
     ]
    }
   ],
   "source": [
    "path = '/Users/chris/Desktop/sculpting/crossmatch_fun/'\n",
    "kepler_stellar = pd.read_csv(path+'kepler_stellar_17.csv')\n",
    "print(len(kepler_stellar))\n",
    "print(kepler_stellar.head())"
   ]
  },
  {
   "cell_type": "code",
   "execution_count": 47,
   "metadata": {
    "scrolled": true
   },
   "outputs": [
    {
     "name": "stdout",
     "output_type": "stream",
     "text": [
      "19969\n",
      "200038\n",
      "19969\n"
     ]
    }
   ],
   "source": [
    "# join kepler_stellar table with post-FGK'd Berger tables (catalog) since we're only interested in those stars\n",
    "kepler_stellar_enriched = pd.merge(kepler_stellar, catalog, how='inner', left_on='kepid', right_on='KIC')\n",
    "print(len(kepler_stellar_enriched))\n",
    "print(len(kepler_stellar))\n",
    "print(len(catalog))\n",
    "# looks like every single KIC in catalog has a match in kepler_stellar. That's a good sign. "
   ]
  },
  {
   "cell_type": "code",
   "execution_count": null,
   "metadata": {},
   "outputs": [],
   "source": [
    "# get rid of stars with more than 1 Gyr age error\n",
    "kepler_stellar_enriched = kepler_stellar_enriched.loc[kepler_stellar_enriched.iso_age_err1]"
   ]
  },
  {
   "cell_type": "code",
   "execution_count": 48,
   "metadata": {},
   "outputs": [],
   "source": [
    "# divide between young and old stars\n",
    "young = kepler_stellar_enriched.loc[kepler_stellar_enriched.iso_age <= 1.0]\n",
    "old = kepler_stellar_enriched.loc[kepler_stellar_enriched.iso_age > 1.0]"
   ]
  },
  {
   "cell_type": "code",
   "execution_count": 49,
   "metadata": {},
   "outputs": [
    {
     "data": {
      "image/png": "[encoded data removed]",
      "text/plain": [
       "<Figure size 432x288 with 1 Axes>"
      ]
     },
     "metadata": {
      "needs_background": "light"
     },
     "output_type": "display_data"
    }
   ],
   "source": [
    "# plot to compare CDPPs of young vs old stars\n",
    "plt.scatter(young.iso_age, young.rrmscdpp01p5, color='green')\n",
    "plt.scatter(old.iso_age, old.rrmscdpp01p5, color='purple')\n",
    "plt.show()"
   ]
  },
  {
   "cell_type": "code",
   "execution_count": 50,
   "metadata": {},
   "outputs": [
    {
     "data": {
      "image/png": "[encoded data removed]",
      "text/plain": [
       "<Figure size 432x288 with 1 Axes>"
      ]
     },
     "metadata": {
      "needs_background": "light"
     },
     "output_type": "display_data"
    }
   ],
   "source": [
    "# plot to compare CDPPs of young vs old stars, zoomed in\n",
    "plt.scatter(young.iso_age, young.rrmscdpp01p5, color='green')\n",
    "plt.scatter(old.iso_age, old.rrmscdpp01p5, color='purple')\n",
    "plt.ylim(0, 1000)\n",
    "plt.show()"
   ]
  },
  {
   "cell_type": "markdown",
   "metadata": {},
   "source": [
    "Let's try with CDPP of 3.0"
   ]
  },
  {
   "cell_type": "code",
   "execution_count": 51,
   "metadata": {},
   "outputs": [
    {
     "data": {
      "image/png": "[encoded data removed]",
      "text/plain": [
       "<Figure size 432x288 with 1 Axes>"
      ]
     },
     "metadata": {
      "needs_background": "light"
     },
     "output_type": "display_data"
    }
   ],
   "source": [
    "# plot to compare CDPPs of young vs old stars\n",
    "plt.scatter(young.iso_age, young.rrmscdpp03p0, color='green')\n",
    "plt.scatter(old.iso_age, old.rrmscdpp03p0, color='purple')\n",
    "plt.ylim(0, 1000)\n",
    "plt.show()"
   ]
  },
  {
   "cell_type": "code",
   "execution_count": 54,
   "metadata": {},
   "outputs": [],
   "source": [
    "# maybe if I sampled fewer points (every 50th point), I can discern some structure...\n",
    "step = 50\n",
    "young_sample_age = young.iso_age[1::step]\n",
    "old_sample_age = old.iso_age[1::step]\n",
    "young_sample_cdpp = young.rrmscdpp03p0[1::step]\n",
    "old_sample_cdpp = old.rrmscdpp03p0[1::step]"
   ]
  },
  {
   "cell_type": "code",
   "execution_count": 55,
   "metadata": {},
   "outputs": [
    {
     "data": {
      "image/png": "[encoded data removed]",
      "text/plain": [
       "<Figure size 432x288 with 1 Axes>"
      ]
     },
     "metadata": {
      "needs_background": "light"
     },
     "output_type": "display_data"
    }
   ],
   "source": [
    "# well...maaaaybe there's something here?\n",
    "plt.scatter(young_sample_age, young_sample_cdpp, color='green')\n",
    "plt.scatter(old_sample_age, old_sample_cdpp, color='purple')\n",
    "plt.ylim(0, 1000)\n",
    "plt.xlim(0,5)\n",
    "plt.show()"
   ]
  },
  {
   "cell_type": "code",
   "execution_count": 36,
   "metadata": {},
   "outputs": [
    {
     "data": {
      "image/png": "[encoded data removed]",
      "text/plain": [
       "<Figure size 432x288 with 1 Axes>"
      ]
     },
     "metadata": {
      "needs_background": "light"
     },
     "output_type": "display_data"
    }
   ],
   "source": [
    "# sanity check, plotting magnitude vs cdpp (even if age has no clear correlation with noise, surely magnitude does)\n",
    "plt.scatter(kepler_stellar_enriched.jmag, kepler_stellar_enriched.rrmscdpp03p0)\n",
    "plt.ylim(0, 5000)\n",
    "#plt.xlim(0,5)\n",
    "plt.show()"
   ]
  },
  {
   "cell_type": "markdown",
   "metadata": {},
   "source": [
    "To get S/N like Fig 9 in Berger et al 2020b, I need radius of planets, which means I now need to join the confirmed_kepler crossmatch joined table with the kepler_stellar_enriched joined table. "
   ]
  },
  {
   "cell_type": "code",
   "execution_count": 65,
   "metadata": {},
   "outputs": [
    {
     "name": "stdout",
     "output_type": "stream",
     "text": [
      "161\n"
     ]
    }
   ],
   "source": [
    "# okay, really dumb name choice for what's guaranteed to be my smallest table\n",
    "big = pd.merge(confirmed_kepler, kepler_stellar_enriched, how='inner', on='kepid')\n",
    "print(len(big))"
   ]
  },
  {
   "cell_type": "code",
   "execution_count": 66,
   "metadata": {},
   "outputs": [
    {
     "name": "stdout",
     "output_type": "stream",
     "text": [
      "0      1.615864\n",
      "1      0.076836\n",
      "2      0.082279\n",
      "3      0.107973\n",
      "4      0.251078\n",
      "         ...   \n",
      "156    1.857881\n",
      "157    0.031885\n",
      "158    0.201898\n",
      "159    1.375758\n",
      "160    0.466146\n",
      "Name: snr_1p5, Length: 161, dtype: float64\n"
     ]
    },
    {
     "data": {
      "image/png": "[encoded data removed]",
      "text/plain": [
       "<Figure size 432x288 with 1 Axes>"
      ]
     },
     "metadata": {
      "needs_background": "light"
     },
     "output_type": "display_data"
    }
   ],
   "source": [
    "# plot to compare S/Ns of young vs old stars, using equation B2 from Petigura et al 2018\n",
    "# S/N = ((r_p[Earth_radii]/r_s)**2)/cdpp\n",
    "\n",
    "big['earth_radii'] = big['pl_radj']*11.2089 # but first pl_radj is in Jupiter radii, so convert to Earth radii \n",
    "big['snr_1p5'] = ((big['earth_radii']/big['iso_rad'])**2)/big['rrmscdpp01p5'] # re-factor as function later\n",
    "print(big['snr_1p5']) # looks about right\n",
    "\n",
    "# jeez, I'm really running my code in a suboptimal order and creating single-use dataframes\n",
    "big_young = big.loc[big.iso_age <= 1.0]\n",
    "big_old = big.loc[big.iso_age > 1.0]\n",
    "\n",
    "plt.scatter(big_young.iso_age, big_young['snr_1p5'], color='green')\n",
    "plt.scatter(big_old.iso_age, big_old['snr_1p5'], color='purple')\n",
    "plt.ylim(0,1)\n",
    "plt.xlim(0,6)\n",
    "plt.ylabel('Single Transit SNR')\n",
    "plt.xlabel('age [Gyr]')\n",
    "plt.show()"
   ]
  },
  {
   "cell_type": "code",
   "execution_count": 67,
   "metadata": {},
   "outputs": [
    {
     "name": "stdout",
     "output_type": "stream",
     "text": [
      "25 136\n"
     ]
    }
   ],
   "source": [
    "print(len(big_young), len(big_old))"
   ]
  },
  {
   "cell_type": "code",
   "execution_count": 68,
   "metadata": {},
   "outputs": [
    {
     "name": "stdout",
     "output_type": "stream",
     "text": [
      "0      1.804977\n",
      "1      0.086874\n",
      "2      0.088950\n",
      "3      0.141551\n",
      "4      0.329160\n",
      "         ...   \n",
      "156    1.581064\n",
      "157    0.039242\n",
      "158    0.248477\n",
      "159    1.693154\n",
      "160    0.573688\n",
      "Name: snr_3p0, Length: 161, dtype: float64\n"
     ]
    },
    {
     "data": {
      "image/png": "[encoded data removed]",
      "text/plain": [
       "<Figure size 432x288 with 1 Axes>"
      ]
     },
     "metadata": {
      "needs_background": "light"
     },
     "output_type": "display_data"
    }
   ],
   "source": [
    "# and again for 3.0 CDPP\n",
    "big['earth_radii'] = big['pl_radj']*11.2089 # but first pl_radj is in Jupiter radii, so convert to Earth radii \n",
    "big['snr_3p0'] = ((big['earth_radii']/big['iso_rad'])**2)/big['rrmscdpp03p0'] # re-factor as function later\n",
    "print(big['snr_3p0']) # looks about right\n",
    "\n",
    "# jeez, I'm really running my code in a suboptimal order and creating single-use dataframes\n",
    "big_young = big.loc[big.iso_age <= 1.0]\n",
    "big_old = big.loc[big.iso_age > 1.0]\n",
    "\n",
    "plt.scatter(big_young.iso_age, big_young['snr_3p0'], color='green')\n",
    "plt.scatter(big_old.iso_age, big_old['snr_3p0'], color='purple')\n",
    "plt.ylim(0,1)\n",
    "plt.xlim(0,6)\n",
    "plt.ylabel('Single Transit SNR')\n",
    "plt.xlabel('age [Gyr]')\n",
    "plt.show()"
   ]
  },
  {
   "cell_type": "markdown",
   "metadata": {},
   "source": [
    "CDPP histograms"
   ]
  },
  {
   "cell_type": "code",
   "execution_count": 81,
   "metadata": {},
   "outputs": [
    {
     "data": {
      "image/png": "[encoded data removed]",
      "text/plain": [
       "<Figure size 432x288 with 1 Axes>"
      ]
     },
     "metadata": {
      "needs_background": "light"
     },
     "output_type": "display_data"
    }
   ],
   "source": [
    "# chop off reallllly long tail\n",
    "young_cdpp = young.loc[(young.rrmscdpp03p0>0) & (young.rrmscdpp03p0<1000)]\n",
    "old_cdpp = old.loc[(old.rrmscdpp03p0>0) & (old.rrmscdpp03p0<1000)]\n",
    "\n",
    "x1 = young_cdpp.rrmscdpp03p0\n",
    "n1, bins1, patches1 = plt.hist(x1, 100, facecolor='blue', alpha=0.5)\n",
    "\n",
    "x2 = old_cdpp.rrmscdpp03p0\n",
    "n2, bins2, patches2 = plt.hist(x2, 100, facecolor='red', alpha=0.5)\n",
    "\n",
    "plt.xlabel('CDPP 3.0 (CDPPs over 1000 excluded)')\n",
    "plt.ylabel('count')\n",
    "plt.show()"
   ]
  },
  {
   "cell_type": "code",
   "execution_count": 82,
   "metadata": {},
   "outputs": [
    {
     "data": {
      "image/png": "[encoded data removed]",
      "text/plain": [
       "<Figure size 432x288 with 1 Axes>"
      ]
     },
     "metadata": {
      "needs_background": "light"
     },
     "output_type": "display_data"
    }
   ],
   "source": [
    "# scale old counts down to be proportional with young counts\n",
    "n1, bins1, patches1 = plt.hist(x1, 100, facecolor='blue', alpha=0.5)\n",
    "n2, bins2, patches2 = plt.hist(x2, 100, facecolor='red', alpha=0.5, weights=np.ones(len(x2))*(len(young)/len(old)))\n",
    "plt.xlabel('CDPP 3.0 (CDPPs over 1000 excluded)')\n",
    "plt.ylabel('count')\n",
    "plt.show()\n"
   ]
  },
  {
   "cell_type": "markdown",
   "metadata": {},
   "source": [
    "Okay that's cool but I don't want to be a dirty frequentist when determining whether my old and young star samples come from the same population in noise space. So let's introduce Farhan Feroz's MULTINEST algorithm for multimodal nested sampling."
   ]
  },
  {
   "cell_type": "code",
   "execution_count": 83,
   "metadata": {},
   "outputs": [
    {
     "name": "stdout",
     "output_type": "stream",
     "text": [
      "132.78719408427855 115.4821346259947 113.95542440611003 80.4048510754472\n",
      "285009.90825695463 1384330.3209659827 0.0 0.0\n"
     ]
    }
   ],
   "source": [
    "mean_young = np.mean(x1)\n",
    "mean_old = np.mean(x2)\n",
    "std_young = np.std(x1)\n",
    "std_old = np.std(x2)\n",
    "print(mean_young, std_young, mean_old, std_old)\n",
    "\n",
    "def gaussian_prob(sigma, chi_squared):\n",
    "    return (1./np.sqrt(2*np.pi*sigma**2))*np.exp(-0.5*chi_squared)\n",
    "\n",
    "def chi_squared(y, mean, sigma):\n",
    "    term = ((y-mean)**2)/sigma\n",
    "    return np.sum(term)\n",
    "\n",
    "chi_squared_young = chi_squared(x1, mean_young, std_young)\n",
    "chi_squared_old = chi_squared(x2, mean_old, std_old)\n",
    "gaussian_prob_young = gaussian_prob(std_young, chi_squared_young)\n",
    "gaussian_prob_old = gaussian_prob(std_old, chi_squared_old)\n",
    "print(chi_squared_young, chi_squared_old, gaussian_prob_young, gaussian_prob_old)\n"
   ]
  },
  {
   "cell_type": "markdown",
   "metadata": {},
   "source": [
    "Well, maybe it's just because my data is not Gaussian, but clearly I can't proceed further in characterizing the likelihood of old vs young samples without better selection of model (Gaussian) or parameters (y_bar and sigma)."
   ]
  },
  {
   "cell_type": "markdown",
   "metadata": {},
   "source": [
    "### See 'synthetic' notebook for the next part of this project."
   ]
  },
  {
   "cell_type": "markdown",
   "metadata": {},
   "source": [
    "All we'll do for the rest of this notebook is list out the age distribution for the 20K FGK dwarfs with age error <1 Gyr in preparation for generating a synthetic sample."
   ]
  },
  {
   "cell_type": "code",
   "execution_count": 89,
   "metadata": {},
   "outputs": [
    {
     "name": "stdout",
     "output_type": "stream",
     "text": [
      "[ 409 1918 2978 3679 3709 2930 1248  638  469  431  369  348  290  211\n",
      "  153   85   53   38    9    4]\n",
      "[0.14   0.5575 0.975  1.3925 1.81   2.2275 2.645  3.0625 3.48   3.8975\n",
      " 4.315  4.7325 5.15   5.5675 5.985  6.4025 6.82   7.2375 7.655  8.0725\n",
      " 8.49  ]\n"
     ]
    },
    {
     "data": {
      "image/png": "[encoded data removed]",
      "text/plain": [
       "<Figure size 432x288 with 1 Axes>"
      ]
     },
     "metadata": {
      "needs_background": "light"
     },
     "output_type": "display_data"
    }
   ],
   "source": [
    "import matplotlib.pyplot as plt\n",
    "%matplotlib inline\n",
    "\n",
    "# age histogram for all stars with well-constrained ages (catalog was a merge with table2, not fgk)\n",
    "age_hist, age_bin_edges = np.histogram(catalog.iso_age, bins=20)\n",
    "print(age_hist)\n",
    "print(age_bin_edges)\n",
    "plt.bar(age_bin_edges[:-1], age_hist, width = 0.25, color='#0504aa',alpha=0.7)\n",
    "plt.ylabel(\"count\")\n",
    "plt.xlabel(\"age [Gyr]\")\n",
    "plt.show()"
   ]
  },
  {
   "cell_type": "code",
   "execution_count": 88,
   "metadata": {},
   "outputs": [],
   "source": [
    "kepler_stellar_enriched.to_csv('berger_kepler_stellar17.csv',index=False)"
   ]
  },
  {
   "cell_type": "code",
   "execution_count": null,
   "metadata": {},
   "outputs": [],
   "source": []
  }
 ],
 "metadata": {
  "kernelspec": {
   "display_name": "Python 3",
   "language": "python",
   "name": "python3"
  },
  "language_info": {
   "codemirror_mode": {
    "name": "ipython",
    "version": 3
   },
   "file_extension": ".py",
   "mimetype": "text/x-python",
   "name": "python",
   "nbconvert_exporter": "python",
   "pygments_lexer": "ipython3",
   "version": "3.6.8"
  }
 },
 "nbformat": 4,
 "nbformat_minor": 2
}
